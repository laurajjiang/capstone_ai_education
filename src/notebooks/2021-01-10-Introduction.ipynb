{
 "cells": [
  {
   "cell_type": "markdown",
   "metadata": {},
   "source": [
    "**Artificial intelligence** is the science and engineering of making machines behave or think rationally or for the machines to act or think like humans. \n",
    "\n",
    "**4 Approaches of AI**\n",
    "- Thinking humanly\n",
    "- Thinking rationally\n",
    "- Acting humanly \n",
    "- Acting rationally\n",
    "\n",
    "Goals: \n",
    "- Reasoning\n",
    "- Learning\n",
    "- Perception \n",
    "    - How does a computer perceive and process image input? Such as face detection.\n",
    "- Natural language processing \n",
    "    - How does a computer receive text as input and then classify it?\n",
    "\n",
    "\n",
    "\n",
    "**Real life applications:** detecting credit card fraud, search engines, spam filtering, medical diagnosis, face detection, and opponents in video games.\n",
    "\n",
    "How do computers do this?\n",
    "The ways to accomplish this include using statistics, probability…\n",
    "\n",
    "**Machine learning** is a subset of artificial intelligence. It is the study of computer algorithms that provides the system the ability to learn through experience. That is, artificial intelligence is the more general topic where machine learning is one of the more specialized topics within it.\n"
   ]
  },
  {
   "cell_type": "code",
   "execution_count": null,
   "metadata": {},
   "outputs": [],
   "source": []
  }
 ],
 "metadata": {
  "kernelspec": {
   "display_name": "Python 2",
   "language": "python",
   "name": "python2"
  },
  "language_info": {
   "codemirror_mode": {
    "name": "ipython",
    "version": 2
   },
   "file_extension": ".py",
   "mimetype": "text/x-python",
   "name": "python",
   "nbconvert_exporter": "python",
   "pygments_lexer": "ipython2",
   "version": "2.7.16"
  }
 },
 "nbformat": 4,
 "nbformat_minor": 2
}
