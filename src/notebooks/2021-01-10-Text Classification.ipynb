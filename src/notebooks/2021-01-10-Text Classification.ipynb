{
    "metadata": {
        "kernelspec": {
            "name": "python3",
            "display_name": "Python 3",
            "language": "python"
        },
        "language_info": {
            "name": "python",
            "version": "3.7.1",
            "mimetype": "text/x-python",
            "codemirror_mode": {
                "name": "ipython",
                "version": 3
            },
            "pygments_lexer": "ipython3",
            "nbconvert_exporter": "python",
            "file_extension": ".py"
        },
        "widgets": {
            "application/vnd.jupyter.widget-state+json": {
                "state": {
                    "04f327f8729c4dfb8064560e564bc0c6": {
                        "model_module": "@jupyter-widgets/controls",
                        "model_module_version": "1.5.0",
                        "model_name": "ButtonStyleModel",
                        "state": {}
                    },
                    "527b16c6484f41a8bbea8b6f91ee4137": {
                        "model_module": "@jupyter-widgets/controls",
                        "model_module_version": "1.5.0",
                        "model_name": "ButtonStyleModel",
                        "state": {}
                    },
                    "55400c05e9674a448f4e1fca689799eb": {
                        "model_module": "@jupyter-widgets/controls",
                        "model_module_version": "1.5.0",
                        "model_name": "ButtonStyleModel",
                        "state": {}
                    },
                    "6d2c241530244303bf40c0e3b075e4ce": {
                        "model_module": "@jupyter-widgets/base",
                        "model_module_version": "1.2.0",
                        "model_name": "LayoutModel",
                        "state": {}
                    },
                    "876403260ccd4a0a8d22c264a6912605": {
                        "model_module": "@jupyter-widgets/base",
                        "model_module_version": "1.2.0",
                        "model_name": "LayoutModel",
                        "state": {}
                    },
                    "91e9ccd185a845428527d57ccb73fb26": {
                        "model_module": "@jupyter-widgets/base",
                        "model_module_version": "1.2.0",
                        "model_name": "LayoutModel",
                        "state": {}
                    },
                    "9f021bc8541a4b19862488ae989a54bf": {
                        "model_module": "@jupyter-widgets/controls",
                        "model_module_version": "1.5.0",
                        "model_name": "ButtonModel",
                        "state": {
                            "description": "Model Accuracy",
                            "layout": "IPY_MODEL_dd9515246a5c4b2c8378751eaa36df79",
                            "style": "IPY_MODEL_04f327f8729c4dfb8064560e564bc0c6"
                        }
                    },
                    "9f1a03a9c53344238bee47b914fa8692": {
                        "model_module": "@jupyter-widgets/controls",
                        "model_module_version": "1.5.0",
                        "model_name": "ButtonModel",
                        "state": {
                            "description": "Click to see Vocab",
                            "layout": "IPY_MODEL_876403260ccd4a0a8d22c264a6912605",
                            "style": "IPY_MODEL_527b16c6484f41a8bbea8b6f91ee4137"
                        }
                    },
                    "dd9515246a5c4b2c8378751eaa36df79": {
                        "model_module": "@jupyter-widgets/base",
                        "model_module_version": "1.2.0",
                        "model_name": "LayoutModel",
                        "state": {}
                    },
                    "eec603a2a46d48bfbb6570ddefcc6477": {
                        "model_module": "@jupyter-widgets/controls",
                        "model_module_version": "1.5.0",
                        "model_name": "ButtonModel",
                        "state": {
                            "description": "Model Accuracy",
                            "layout": "IPY_MODEL_91e9ccd185a845428527d57ccb73fb26",
                            "style": "IPY_MODEL_f8efef0d43ab4f32b7ab103f009ffe3b"
                        }
                    },
                    "f7141bc2f4b84b2daf37332f22af3d8f": {
                        "model_module": "@jupyter-widgets/controls",
                        "model_module_version": "1.5.0",
                        "model_name": "ButtonModel",
                        "state": {
                            "description": "Click to see Vocab",
                            "layout": "IPY_MODEL_6d2c241530244303bf40c0e3b075e4ce",
                            "style": "IPY_MODEL_55400c05e9674a448f4e1fca689799eb"
                        }
                    },
                    "f8efef0d43ab4f32b7ab103f009ffe3b": {
                        "model_module": "@jupyter-widgets/controls",
                        "model_module_version": "1.5.0",
                        "model_name": "ButtonStyleModel",
                        "state": {}
                    }
                },
                "version_major": 2,
                "version_minor": 0
            }
        }
    },
    "nbformat_minor": 2,
    "nbformat": 4,
    "cells": [
        {
            "cell_type": "markdown",
            "source": [
                "# Text Classification  \n",
                "\n",
                "> Chapter 1 - start out with sentiment text classification.\n",
                "\n",
                "- toc: true\n",
                "- branch: master\n",
                "- badges: false\n",
                "- comments: false"
            ],
            "metadata": {
                "azdata_cell_guid": "13509f6f-44c1-47f7-98b4-591aa1f1c062"
            }
        },
        {
            "cell_type": "markdown",
            "source": [
                "# Introduction"
            ],
            "metadata": {
                "azdata_cell_guid": "51edfc0b-4fb6-4fef-9736-bd551e6e1fc1"
            }
        },
        {
            "cell_type": "markdown",
            "source": [
                "Text classification is the process of assigning tags or categories to text according to its content. It’s one of the fundamental tasks in natural language processing.\n",
                "\n",
                "The text we wanna classify is given as input to an algorithm, the algorithm will then analyze the text’s content, and then categorize the input as one of the tags or categories previously given.\n",
                "\n",
                "**Input → Classifying Algorithm → Classification of Input**\n",
                "\n",
                "Real life examples:\n",
                "\n",
                "- Sentiment analysis: how does the writer of the sentence feel about what they are writing about, do they think positively or negatively of the subject? Ex. restaurant reviews topic labeling: given sentences and a set of topics, which topic does this sentence fall under? Ex. is this essay about history? Math? etc? spam detection Ex. Email filtering: is this email a real important email or spam?\n",
                "\n",
                "Example. A restaurant wants to evaluate their ratings but don’t want to read through all of them. Therefore, they wanna use a computer algorithm to do all their work. They simply want to know if the customer’s review is positive or negative.\n",
                "\n",
                "Here’s an example of a customer’s review and a simple way an algorithm could classify their review.\n",
                "\n",
                "Input: “The food here was too salty and too expensive”\n",
                "\n",
                "Algorithm: Goes through every word in the sentence and counts how many positive words and how many negative words are in the sentence.\n",
                "\n",
                "```\n",
                "    “The, food, here, was, too, and” are all neutral words\n",
                "\n",
                "    “Salty, expensive” are negative words.\n",
                "\n",
                "    Negative words: 2\n",
                "    Positive words: 0\n",
                "```\n",
                "\n",
                "Classification: Negative Review, because there are more negative words (2) than positive (0).\n",
                "\n",
                "However, this algorithm obviously doesn’t work in a lot of cases.\n",
                "\n",
                "For example, “The food here was good, not expensive and not salty” would be classified as negative but it’s actually a positive review.\n",
                "\n",
                "Language and text can get very complicated which makes creating these algorithms difficult. Some things that make language difficult could be words that have multiple meanings, negation words (words such as not), slang, etc."
            ],
            "metadata": {
                "azdata_cell_guid": "66b3dda0-aef7-42e3-adaa-8b0e2772f915"
            }
        },
        {
            "cell_type": "markdown",
            "source": [
                "# Set up data and imports"
            ],
            "metadata": {
                "azdata_cell_guid": "e2e811b1-609e-4a92-97fa-c61508274bb4"
            }
        },
        {
            "cell_type": "markdown",
            "source": [
                "## Library imports\n",
                "\n",
                "This section of code is to import any necessary Python libraries that we'll need for the rest of this notebook. Some packages may need to be installed since they are not built in to Python3."
            ],
            "metadata": {
                "azdata_cell_guid": "d5e32e42-b3b6-4282-999d-acf05252fb06"
            }
        },
        {
            "cell_type": "code",
            "source": [
                "# collapse-hide\n",
                "!pip3 install seaborn\n",
                "!pip3 install plotly --user\n",
                "\n",
                "import sys\n",
                "import string\n",
                "from scipy import sparse\n",
                "from pprint import pprint\n",
                "import pandas as pd\n",
                "import seaborn as sns\n",
                "import plotly.offline as py\n",
                "from plotly.offline import init_notebook_mode, iplot\n",
                "import plotly.graph_objs as go\n",
                "init_notebook_mode(connected = True)\n",
                "import matplotlib.pyplot as plt\n",
                "import numpy as np\n",
                "from html import escape\n",
                "from IPython.core.display import display, HTML\n",
                "from string import Template\n",
                "\n",
                "HTML('<script src=\"https://d3js.org/d3.v3.min.js\"></script>')\n",
                "\n",
                "# Our two files that contain our data, split up into a training set and a testing set.\n",
                "\n",
                "trainingFile = \"trainingSet.txt\"\n",
                "testingFile = \"testSet.txt\""
            ],
            "metadata": {
                "azdata_cell_guid": "6305a379-9ec8-4ba3-94e4-e54c9ef30f38"
            },
            "outputs": [
                {
                    "name": "stdout",
                    "text": "Requirement already satisfied: seaborn in /Library/Frameworks/Python.framework/Versions/3.7/lib/python3.7/site-packages (0.11.1)\r\nRequirement already satisfied: numpy>=1.15 in /Library/Frameworks/Python.framework/Versions/3.7/lib/python3.7/site-packages (from seaborn) (1.17.1)\r\nRequirement already satisfied: pandas>=0.23 in /Library/Frameworks/Python.framework/Versions/3.7/lib/python3.7/site-packages (from seaborn) (0.25.3)\r\n",
                    "output_type": "stream"
                },
                {
                    "name": "stdout",
                    "text": "Requirement already satisfied: matplotlib>=2.2 in /Library/Frameworks/Python.framework/Versions/3.7/lib/python3.7/site-packages (from seaborn) (3.1.1)\r\nRequirement already satisfied: scipy>=1.0 in /Library/Frameworks/Python.framework/Versions/3.7/lib/python3.7/site-packages (from seaborn) (1.3.2)\r\nRequirement already satisfied: python-dateutil>=2.6.1 in /Library/Frameworks/Python.framework/Versions/3.7/lib/python3.7/site-packages (from pandas>=0.23->seaborn) (2.8.1)\r\nRequirement already satisfied: pytz>=2017.2 in /Library/Frameworks/Python.framework/Versions/3.7/lib/python3.7/site-packages (from pandas>=0.23->seaborn) (2019.3)\r\nRequirement already satisfied: cycler>=0.10 in /Library/Frameworks/Python.framework/Versions/3.7/lib/python3.7/site-packages (from matplotlib>=2.2->seaborn) (0.10.0)\r\nRequirement already satisfied: pyparsing!=2.0.4,!=2.1.2,!=2.1.6,>=2.0.1 in /Library/Frameworks/Python.framework/Versions/3.7/lib/python3.7/site-packages (from matplotlib>=2.2->seaborn) (2.4.5)\r\nRequirement already satisfied: kiwisolver>=1.0.1 in /Library/Frameworks/Python.framework/Versions/3.7/lib/python3.7/site-packages (from matplotlib>=2.2->seaborn) (1.1.0)\r\nRequirement already satisfied: six>=1.5 in /Library/Frameworks/Python.framework/Versions/3.7/lib/python3.7/site-packages (from python-dateutil>=2.6.1->pandas>=0.23->seaborn) (1.12.0)\r\nRequirement already satisfied: setuptools in /Library/Frameworks/Python.framework/Versions/3.7/lib/python3.7/site-packages (from kiwisolver>=1.0.1->matplotlib>=2.2->seaborn) (39.0.1)\r\n",
                    "output_type": "stream"
                },
                {
                    "name": "stdout",
                    "text": "\u001b[33mYou are using pip version 10.0.1, however version 20.3.3 is available.\r\nYou should consider upgrading via the 'pip install --upgrade pip' command.\u001b[0m\r\n",
                    "output_type": "stream"
                },
                {
                    "name": "stdout",
                    "text": "Requirement already satisfied: plotly in /Library/Frameworks/Python.framework/Versions/3.7/lib/python3.7/site-packages (4.14.3)\r\nRequirement already satisfied: six in /Library/Frameworks/Python.framework/Versions/3.7/lib/python3.7/site-packages (from plotly) (1.12.0)\r\nRequirement already satisfied: retrying>=1.3.3 in /Library/Frameworks/Python.framework/Versions/3.7/lib/python3.7/site-packages (from plotly) (1.3.3)\r\n",
                    "output_type": "stream"
                },
                {
                    "name": "stdout",
                    "text": "\u001b[33mYou are using pip version 10.0.1, however version 20.3.3 is available.\r\nYou should consider upgrading via the 'pip install --upgrade pip' command.\u001b[0m\r\n",
                    "output_type": "stream"
                },
                {
                    "data": {
                        "text/html": "        <script type=\"text/javascript\">\n        window.PlotlyConfig = {MathJaxConfig: 'local'};\n        if (window.MathJax) {MathJax.Hub.Config({SVG: {font: \"STIX-Web\"}});}\n        if (typeof require !== 'undefined') {\n        require.undef(\"plotly\");\n        requirejs.config({\n            paths: {\n                'plotly': ['https://cdn.plot.ly/plotly-latest.min']\n            }\n        });\n        require(['plotly'], function(Plotly) {\n            window._Plotly = Plotly;\n        });\n        }\n        </script>\n        "
                    },
                    "metadata": {},
                    "output_type": "display_data"
                }
            ],
            "execution_count": 55
        },
        {
            "cell_type": "markdown",
            "source": [
                "## Getting our data \n",
                "\n",
                "Below is a definition of getData, a basic function to pull from the `trainingSet.txt` and `testSet.txt`. The data that we're using for this example is a set of reviews written by users on Yelp, classified as positive (1) or negative (0). \n",
                "\n",
                "We open the file, create temporary arrays, and pull from the file line by line.\n",
                "\n",
                "Open the cell if you'd like to peek into what the function looks like."
            ],
            "metadata": {
                "azdata_cell_guid": "9a1685b0-0396-4ed6-a19f-a43bf2293859"
            }
        },
        {
            "cell_type": "code",
            "source": [
                "# collapse-hide\n",
                "\n",
                "def getData(fileName):\n",
                "    f = open(fileName)\n",
                "    file = f.readlines()\n",
                "\n",
                "    sentences = []\n",
                "    sentiments = []\n",
                "\n",
                "    for line in file:\n",
                "        sentence, sentiment = line.split('\\t')\n",
                "        sentences.append(sentence.strip())\n",
                "        sentiments.append(int(sentiment.strip())) # Sentiment in {0,1}\n",
                "\n",
                "    return sentences, np.array(sentiments)"
            ],
            "metadata": {
                "azdata_cell_guid": "73b2409b-c9e0-4fc0-b5c3-93d0d70e9fc5"
            },
            "outputs": [],
            "execution_count": 56
        },
        {
            "cell_type": "code",
            "source": [
                "# get data from the training and testing files using the getData function defined above\n",
                "\n",
                "trainingSentences, trainingLabels = getData(trainingFile)\n",
                "testingSentences, testingLabels = getData(testingFile) "
            ],
            "metadata": {
                "azdata_cell_guid": "ea307c06-6f6f-4e2b-9dad-d353d5d63211",
                "tags": []
            },
            "outputs": [],
            "execution_count": 57
        },
        {
            "cell_type": "markdown",
            "source": [
                "Let's take a peek at what this data looks like:"
            ],
            "metadata": {
                "azdata_cell_guid": "9859f856-7986-472f-a18b-a176e955b7e8"
            }
        },
        {
            "cell_type": "code",
            "source": [
                "#collapse-hide \n",
                "\n",
                "f = open(\"trainingSet.txt\")\n",
                "file = f.readlines()\n",
                "\n",
                "sentences = []\n",
                "sentiments = []\n",
                "\n",
                "for line in file:\n",
                "    sentence, sentiment = line.split('\\t')\n",
                "    sentences.append(sentence.strip())\n",
                "    sentiments.append(int(sentiment.strip())) \n",
                "    \n",
                "print(\"Sample sentences:\")\n",
                "pprint(sentences[:10]) \n",
                "print(\"Corresponding sentiments:\")\n",
                "pprint(sentiments[:10]) "
            ],
            "metadata": {
                "azdata_cell_guid": "0e6f77c6-9cee-4b4d-a474-9cd47d057bf7",
                "tags": []
            },
            "outputs": [
                {
                    "name": "stdout",
                    "text": "Sample sentences:\n['Wow... Loved this place.',\n 'Not tasty and the texture was just nasty.',\n 'Stopped by during the late May bank holiday off Rick Steve recommendation '\n 'and loved it.',\n 'The selection on the menu was great and so were the prices.',\n 'Now I am getting angry and I want my damn pho.',\n \"Honeslty it didn't taste THAT fresh.)\",\n 'The potatoes were like rubber and you could tell they had been made up ahead '\n 'of time being kept under a warmer.',\n 'The fries were great too.',\n 'A great touch.',\n 'Service was very prompt.']\nCorresponding sentiments:\n[1, 0, 1, 1, 0, 0, 0, 1, 1, 1]\n",
                    "output_type": "stream"
                }
            ],
            "execution_count": 58
        },
        {
            "cell_type": "markdown",
            "source": [
                "## Pre-processing our data \n",
                "\n",
                "We need to modify these sentences by tokenizing them into individual strings (word by word) so that we can feed our model individual words and their associated sentiment (negative / positive)."
            ],
            "metadata": {
                "azdata_cell_guid": "38a166de-5063-4638-8c15-19a57e742c68"
            }
        },
        {
            "cell_type": "code",
            "source": [
                "def preProcess(sentences):\n",
                "\n",
                "    def cleanText(text):\n",
                "        # Make lower case\n",
                "        text = text.lower()\n",
                "\n",
                "        # Replace non-text characters with spaces\n",
                "        nonText = string.punctuation + (\"\")\n",
                "        text = text.translate(str.maketrans(nonText, ' ' * (len(nonText))))\n",
                "\n",
                "        # Split sentences into individual words - tokenize\n",
                "        words = text.split()\n",
                "\n",
                "        return words\n",
                "\n",
                "    return list(map(cleanText, sentences))"
            ],
            "metadata": {
                "azdata_cell_guid": "a0954a22-336d-469c-a32d-835d7329ba76"
            },
            "outputs": [],
            "execution_count": 59
        },
        {
            "cell_type": "code",
            "source": [
                "# Process both the training and testing tokens.\n",
                "\n",
                "trainingTokens = preProcess(trainingSentences)\n",
                "testingTokens = preProcess(testingSentences)"
            ],
            "metadata": {
                "azdata_cell_guid": "ad995853-5e2e-4ee7-a51f-b1a9a56561e0"
            },
            "outputs": [],
            "execution_count": 60
        },
        {
            "cell_type": "markdown",
            "source": [
                "Let's look at what these tokenized sentences look like now:"
            ],
            "metadata": {
                "azdata_cell_guid": "55a58566-03ca-4f68-b161-d53318d8b80a"
            }
        },
        {
            "cell_type": "code",
            "source": [
                "#collapse-hide\n",
                "print(\"Training tokens:\")\n",
                "pprint(trainingTokens[:2]) \n",
                "print(\"Testing tokens:\")\n",
                "pprint(testingTokens[:3]) "
            ],
            "metadata": {
                "azdata_cell_guid": "1e0deff3-61e4-4ad9-b470-e32366be70fb"
            },
            "outputs": [
                {
                    "name": "stdout",
                    "text": "Training tokens:\n[['wow', 'loved', 'this', 'place'],\n ['not', 'tasty', 'and', 'the', 'texture', 'was', 'just', 'nasty']]\nTesting tokens:\n[['crust', 'is', 'not', 'good'],\n ['would', 'not', 'go', 'back'],\n ['i', 'was', 'shocked', 'because', 'no', 'signs', 'indicate', 'cash', 'only']]\n",
                    "output_type": "stream"
                }
            ],
            "execution_count": 61
        },
        {
            "cell_type": "markdown",
            "source": [
                "## Vectorizing our data\n",
                "\n",
                "Now that we have our sentences tokenized, notice how our training tokens are nested arrays. We want to pull them out of nested arrays and into just one general vocabulary list."
            ],
            "metadata": {
                "azdata_cell_guid": "b88a3dd5-4436-454c-8ce9-3ada65a8f614"
            }
        },
        {
            "cell_type": "code",
            "source": [
                "#collapse-hide\n",
                "\n",
                "def getVocab(sentences):\n",
                "    vocab = set()\n",
                "    for sentence in sentences:\n",
                "        for word in sentence:\n",
                "            vocab.add(word)\n",
                "    return sorted(vocab)"
            ],
            "metadata": {
                "azdata_cell_guid": "7536bef9-a077-4690-8efe-a380f9ca0874"
            },
            "outputs": [],
            "execution_count": 62
        },
        {
            "cell_type": "code",
            "source": [
                "# Pull trainingTokens into one vocabulary listed, no nested arrays\n",
                "\n",
                "vocabulary = getVocab(trainingTokens)"
            ],
            "metadata": {
                "azdata_cell_guid": "c82b93b2-09b1-466f-881b-5c2730b57388",
                "tags": []
            },
            "outputs": [],
            "execution_count": 63
        },
        {
            "cell_type": "markdown",
            "source": [
                "We can peek at our vocabulary list, an alphabetically sorted list of words, now at a random set of indices:"
            ],
            "metadata": {
                "azdata_cell_guid": "c1fa23a6-2e9d-423f-b7e1-b3fb64d422be"
            }
        },
        {
            "cell_type": "code",
            "source": [
                "#collapse-hide\n",
                "\n",
                "pprint(vocabulary[50:70])"
            ],
            "metadata": {
                "azdata_cell_guid": "582421f1-1e8c-4e5b-9bee-a84b742b7a6a",
                "tags": []
            },
            "outputs": [
                {
                    "name": "stdout",
                    "text": "['amount',\n 'an',\n 'and',\n 'angry',\n 'another',\n 'anticipated',\n 'any',\n 'anything',\n 'anytime',\n 'anyway',\n 'apologize',\n 'app',\n 'appalling',\n 'appetizers',\n 'apple',\n 'approval',\n 'are',\n 'area',\n 'aren',\n 'aria']\n",
                    "output_type": "stream"
                }
            ],
            "execution_count": 64
        },
        {
            "cell_type": "markdown",
            "source": [
                "We want our arrays to actually be proper vectors to feed to our model, which we'll create below as well. This function, ```createVector``` transforms our arrays into vectors. "
            ],
            "metadata": {
                "azdata_cell_guid": "93e3c874-f1dc-45b8-9c3e-a1cbaf760660"
            }
        },
        {
            "cell_type": "code",
            "source": [
                "def createVector(vocab, sentences):\n",
                "    indices = []\n",
                "    wordOccurrences = []\n",
                "\n",
                "    for sentenceIndex, sentence in enumerate(sentences):\n",
                "        alreadyCounted = set() # Keep track of words so we don't double count.\n",
                "        for word in sentence:\n",
                "            if (word in vocab) and word not in alreadyCounted:\n",
                "                # If we just want {0,1} for the presence of the word (bernoulli NB),\n",
                "                # only count each word once. Otherwise (multinomial NB) count each\n",
                "                # occurrence of the word.\n",
                "                \n",
                "            \n",
                "                #which sentence, which word\n",
                "                indices.append((sentenceIndex, vocab.index(word)))\n",
                "                \n",
                "                wordOccurrences.append(1)\n",
                "                alreadyCounted.add(word)\n",
                "\n",
                "    # Unzip\n",
                "    rows = [row for row, _ in indices]\n",
                "    columns = [column for _, column in indices]\n",
                "\n",
                "    sentenceVectors = sparse.csr_matrix((wordOccurrences, (rows, columns)), dtype=int, shape=(len(sentences), len(vocab)))\n",
                "\n",
                "    return sentenceVectors"
            ],
            "metadata": {
                "azdata_cell_guid": "f25af79b-16e4-49b7-acec-18f489f356a6"
            },
            "outputs": [],
            "execution_count": 65
        },
        {
            "cell_type": "code",
            "source": [
                "training = createVector(vocabulary, trainingTokens)\n",
                "testing = createVector(vocabulary, testingTokens)"
            ],
            "metadata": {
                "azdata_cell_guid": "a1683930-c447-4f33-ba91-4a8c3f55ea6e"
            },
            "outputs": [],
            "execution_count": 66
        },
        {
            "cell_type": "markdown",
            "source": [
                "Our training and test data has gone through some transformation. Here's what the training data looks like now:"
            ],
            "metadata": {
                "azdata_cell_guid": "4bbb4757-1f81-4a1c-8341-9879a215fbea"
            }
        },
        {
            "cell_type": "code",
            "source": [
                "#collapse-hide\n",
                "\n",
                "print(\"Training data:\")\n",
                "print(training[:2])"
            ],
            "metadata": {
                "azdata_cell_guid": "95527d26-176d-41d6-b90a-3aca0ec7421d"
            },
            "outputs": [
                {
                    "name": "stdout",
                    "text": "Training data:\n  (0, 694)\t1\n  (0, 884)\t1\n  (0, 1186)\t1\n  (0, 1335)\t1\n  (1, 52)\t1\n  (1, 640)\t1\n  (1, 768)\t1\n  (1, 788)\t1\n  (1, 1158)\t1\n  (1, 1166)\t1\n  (1, 1171)\t1\n  (1, 1281)\t1\n",
                    "output_type": "stream"
                }
            ],
            "execution_count": 67
        },
        {
            "cell_type": "markdown",
            "source": [
                "# A Naive Bayes model"
            ],
            "metadata": {
                "azdata_cell_guid": "17e17740-7130-4387-93ae-882b87c03e80"
            }
        },
        {
            "cell_type": "markdown",
            "source": [
                "## Creating and Training our Model\n",
                "\n",
                "Below is our Naive Bayes classifier, which is the model we've chosen to use for our sentiment analysis of restaurant reviews."
            ],
            "metadata": {
                "azdata_cell_guid": "750df53a-3c17-48ae-a977-7199732afc21"
            }
        },
        {
            "cell_type": "code",
            "source": [
                "class NaiveBayesClassifier:\n",
                "    def __init__(self):\n",
                "        self.priorPositive = None  # Probability that a review is positive\n",
                "        self.priorNegative = None  # Probability that a review is negative\n",
                "        self.positiveLogConditionals = None\n",
                "        self.negativeLogConditionals = None\n",
                "\n",
                "    def computePriorProbabilities(self, labels):\n",
                "        self.priorPositive = len([y for y in labels if y == 1]) / len(labels)\n",
                "        self.priorNegative = 1 - self.priorPositive\n",
                "\n",
                "    def computeConditionProbabilities(self, examples, labels, dirichlet=1):\n",
                "        _, vocabularyLength = examples.shape\n",
                "\n",
                "        # How many of each word are there in all of the positive reviews\n",
                "        positiveCounts = np.array([dirichlet for _ in range(vocabularyLength)])\n",
                "        # How many of each word are there in all of the negative reviews\n",
                "        negativeCounts = np.array([dirichlet for _ in range(vocabularyLength)])\n",
                "\n",
                "        # Here's how to iterate through a spare array\n",
                "        coordinates = examples.tocoo()  # Converted to a `coordinate` format\n",
                "        for exampleIndex, featureIndex, observationCount in zip(coordinates.row, coordinates.col, coordinates.data):\n",
                "            # For sentence {exampleIndex}, for word at index {featureIndex}, the word occurred {observationCount} times\n",
                "            if labels[exampleIndex] == 1:\n",
                "                positiveCounts[featureIndex] += observationCount\n",
                "            else:\n",
                "                negativeCounts[featureIndex] += observationCount\n",
                "\n",
                "        # [!] Make sure to use the logs of the probabilities\n",
                "        positiveReviewCount = len([y for y in labels if y == 1])\n",
                "        negativeReviewCount = len([y for y in labels if y == 0])\n",
                "\n",
                "        # We are using bernoulli NB (single occurance of a word)\n",
                "        self.positiveLogConditionals = np.log(positiveCounts) - np.log(positiveReviewCount + dirichlet*2)\n",
                "        self.negativeLogConditionals = np.log(negativeCounts) - np.log(negativeReviewCount + dirichlet*2)\n",
                "\n",
                "        # This works for multinomial NB (multiple occurances of a word)\n",
                "        # self.positiveLogConditionals = np.log(positiveCounts) - np.log(sum(positiveCounts))\n",
                "        # self.negativeLogConditionals = np.log(negativeCounts) - np.log(sum(negativeCounts))\n",
                "\n",
                "    # Calculate all of the parameters for making a naive bayes classification\n",
                "    def fit(self, trainingExamples, trainingLabels):\n",
                "        # Compute the probability of positive/negative review\n",
                "        self.computePriorProbabilities(trainingLabels)\n",
                "\n",
                "        # Compute\n",
                "        self.computeConditionProbabilities(trainingExamples, trainingLabels)\n",
                "\n",
                "    def computeLogPosteriors(self, sentence):\n",
                "        return ((np.log(self.priorPositive) + sum(sentence * self.positiveLogConditionals)),\n",
                "                (np.log(self.priorNegative) + sum(sentence * self.negativeLogConditionals)))\n",
                " \n",
                "    # Have the model try predicting if a review if positive or negative\n",
                "    def predict(self, examples):\n",
                "        totalReviewCount, _ = examples.shape\n",
                "\n",
                "        predictions = np.array([0 for _ in range(totalReviewCount)])\n",
                "\n",
                "        for index, sentence in enumerate(examples):\n",
                "            logProbabilityPositive, logProbabilityNegative = self.computeLogPosteriors(\n",
                "                sentence)\n",
                "            predictions[index] = 1 if logProbabilityPositive > logProbabilityNegative else 0\n",
                "\n",
                "        return predictions"
            ],
            "metadata": {
                "azdata_cell_guid": "17220d70-73b4-4fe6-a5e4-b4ba2dd08e59",
                "tags": [
                    "hide_input"
                ]
            },
            "outputs": [],
            "execution_count": 68
        },
        {
            "cell_type": "markdown",
            "source": [
                "Initialize an instance of model and begin to fit the model with our training data and corresponding labels."
            ],
            "metadata": {
                "azdata_cell_guid": "168fc97b-dd2a-46cf-8e79-3934ca77e2b3"
            }
        },
        {
            "cell_type": "code",
            "source": [
                "nbClassifier = NaiveBayesClassifier()\n",
                "nbClassifier.fit(training, trainingLabels)"
            ],
            "metadata": {
                "azdata_cell_guid": "65960622-8f88-49d2-aebe-53ffce20d0bb"
            },
            "outputs": [],
            "execution_count": 69
        },
        {
            "cell_type": "code",
            "source": [
                "# determine the accuracy of our model\n",
                "\n",
                "def accuracy(predictions, actual):\n",
                "    return sum((predictions == actual)) / len(actual)"
            ],
            "metadata": {
                "azdata_cell_guid": "15eea9e6-790e-4ada-bd84-26de239c8295"
            },
            "outputs": [],
            "execution_count": 70
        },
        {
            "cell_type": "markdown",
            "source": [
                "Let's take our model for a spin, using both the training set and the testing set. You may notice discrepencies in accuracy between training and testing - _why is that_?"
            ],
            "metadata": {
                "azdata_cell_guid": "53d3f21a-63f5-4f29-b7bf-ae1a888370c9"
            }
        },
        {
            "cell_type": "code",
            "source": [
                "# run our training and test using the Naive Bayes classifier\n",
                "\n",
                "trainingPredictions = nbClassifier.predict(training)\n",
                "testingPredictions = nbClassifier.predict(testing)"
            ],
            "metadata": {
                "azdata_cell_guid": "48ca6a8b-5d89-44f0-a018-78a890bb1916"
            },
            "outputs": [],
            "execution_count": 71
        },
        {
            "cell_type": "code",
            "source": [
                "#collapse-hide\n",
                "def accuracy_button(arg):\n",
                "    print(\"Training accuracy:\", accuracy(trainingPredictions, trainingLabels))\n",
                "    print(\"Testing accuracy:\", accuracy(testingPredictions, testingLabels))\n",
                "\n",
                "button_download = widgets.Button(description = 'Model Accuracy')   \n",
                "button_download.on_click(accuracy_button)\n",
                "display(button_download) \n",
                "\n",
                "print(\"Training accuracy:\", accuracy(trainingPredictions, trainingLabels))\n",
                "print(\"Testing accuracy:\", accuracy(testingPredictions, testingLabels))"
            ],
            "metadata": {
                "azdata_cell_guid": "4abd7d0b-f009-4fcb-bbcf-92ef339ffa73",
                "tags": []
            },
            "outputs": [
                {
                    "data": {
                        "text/plain": "Button(description='Model Accuracy', style=ButtonStyle())",
                        "application/vnd.jupyter.widget-view+json": {
                            "version_major": 2,
                            "version_minor": 0,
                            "model_id": "36784361c3084f47b40ae5fdc92de926"
                        }
                    },
                    "metadata": {},
                    "output_type": "display_data"
                },
                {
                    "name": "stdout",
                    "text": "Training accuracy: 0.9519038076152304\nTesting accuracy: 0.7947686116700201\n",
                    "output_type": "stream"
                }
            ],
            "execution_count": 72
        },
        {
            "cell_type": "markdown",
            "source": [
                "Here's another way to visualize our results using a confusion matrix."
            ],
            "metadata": {
                "azdata_cell_guid": "69887c07-0c7f-4f54-872a-1be7320aa1f2"
            }
        },
        {
            "cell_type": "code",
            "source": [
                "data = {'Actual':    testingLabels,\n",
                "        'Predicted': testingPredictions\n",
                "        }\n",
                "\n",
                "df = pd.DataFrame(data, columns=['Actual','Predicted'])\n",
                "confusion_matrix = pd.crosstab(df['Actual'], df['Predicted'], rownames=['Actual'], colnames=['Predicted'])\n",
                "\n",
                "ax = sns.heatmap(confusion_matrix, annot=True,cmap=\"YlGnBu\")\n",
                "ax.set_ylim(2.0, 0)\n",
                "\n",
                "plt.title('Confusion Matrix of Testing')\n",
                "plt.show()"
            ],
            "metadata": {
                "azdata_cell_guid": "04e2d67d-41a2-47a5-9504-6b8a02cd331a",
                "tags": []
            },
            "outputs": [
                {
                    "data": {
                        "text/plain": "<Figure size 432x288 with 2 Axes>",
                        "image/png": "[encoded data removed]"
                    },
                    "metadata": {
                        "needs_background": "light"
                    },
                    "output_type": "display_data"
                }
            ],
            "execution_count": 73
        },
        {
            "cell_type": "code",
            "source": [
                "html_code = ('''\n",
                "<div id=\"greeting\"></div>\n",
                "\n",
                "<div id=\"chart-example\"></div>\n",
                "\n",
                "<script>\n",
                "d3.select(\"#greeting\").append(\"span\")\n",
                "    .text(\"Hello Friend!\");\n",
                "console.log(\"here\")\n",
                "\n",
                "var margin = {top: 100, right: 100, bottom: 100, left: 100},\n",
                "    width = 400,\n",
                "    height = 400;\n",
                "\n",
                "var svg = d3.select(\"#chart-example\").append(\"svg\")\n",
                "    .attr(\"width\", width + margin.left + margin.right)\n",
                "    .attr(\"height\", height + margin.top + margin.bottom)\n",
                "    .style(\"margin-left\", -margin.left + \"px\")\n",
                "  .append(\"g\")\n",
                "    .attr(\"transform\", \"translate(\" + margin.left + \",\" + margin.top + \")\");\n",
                "\n",
                "svg.append(\"rect\")\n",
                "    .attr(\"class\", \"background\")\n",
                "    .attr(\"width\", width)\n",
                "    .attr(\"height\", height);\n",
                "\n",
                "var numrows = 2; //change to variable\n",
                "var numcols = 2; //change to variable\n",
                "\n",
                "//replace this chunk with reading in data from the python code\n",
                "var matrix = new Array(numrows);\n",
                "for (var i = 0; i < numrows; i++) {\n",
                "  matrix[i] = new Array(numcols);\n",
                "  for (var j = 0; j < numcols; j++) {\n",
                "    matrix[i][j] = Math.random()*2 - 1;\n",
                "  }\n",
                "}\n",
                "console.log(matrix)\n",
                "\n",
                "var x = d3.scale.ordinal()\n",
                "    .domain(d3.range(numcols))\n",
                "    .rangeBands([0, width]);\n",
                "\n",
                "var y = d3.scale.ordinal()\n",
                "    .domain(d3.range(numrows))\n",
                "    .rangeBands([0, height]);\n",
                "\n",
                "var rowLabels = new Array(numrows);\n",
                "for (var i = 0; i < numrows; i++) {\n",
                "  rowLabels[i] = \"Row \"+(i+1);\n",
                "}\n",
                "\n",
                "var columnLabels = new Array(numrows);\n",
                "for (var i = 0; i < numcols; i++) {\n",
                "  columnLabels[i] = \"Column \"+(i+1);\n",
                "}\n",
                "\n",
                "var colorMap = d3.scale.linear()\n",
                "    .domain([-1, 0, 1])\n",
                "    .range([\"red\", \"white\", \"blue\"]);    \n",
                "    //.range([\"red\", \"black\", \"green\"]);\n",
                "    //.range([\"brown\", \"#ddd\", \"darkgreen\"]);\n",
                "\n",
                "var row = svg.selectAll(\".row\")\n",
                "    .data(matrix)\n",
                "  .enter().append(\"g\")\n",
                "    .attr(\"class\", \"row\")\n",
                "    .attr(\"transform\", function(d, i) { return \"translate(0,\" + y(i) + \")\"; });\n",
                "\n",
                "row.selectAll(\".cell\")\n",
                "    .data(function(d) { return d; })\n",
                "  .enter().append(\"rect\")\n",
                "    .attr(\"class\", \"cell\")\n",
                "    .attr(\"x\", function(d, i) { return x(i); })\n",
                "    .attr(\"width\", x.rangeBand())\n",
                "    .attr(\"height\", y.rangeBand())\n",
                "    .style(\"stroke-width\", 0);\n",
                "\n",
                "row.append(\"line\")\n",
                "    .attr(\"x2\", width);\n",
                "\n",
                "row.append(\"text\")\n",
                "    .attr(\"x\", 0)\n",
                "    .attr(\"y\", y.rangeBand() / 2)\n",
                "    .attr(\"dy\", \".32em\")\n",
                "    .attr(\"text-anchor\", \"end\")\n",
                "    .text(function(d, i) { return i; });\n",
                "\n",
                "var column = svg.selectAll(\".column\")\n",
                "    .data(columnLabels)\n",
                "  .enter().append(\"g\")\n",
                "    .attr(\"class\", \"column\")\n",
                "    .attr(\"transform\", function(d, i) { return \"translate(\" + x(i) + \")rotate(-90)\"; });\n",
                "\n",
                "column.append(\"line\")\n",
                "    .attr(\"x1\", -width);\n",
                "\n",
                "column.append(\"text\")\n",
                "    .attr(\"x\", 6)\n",
                "    .attr(\"y\", y.rangeBand() / 2)\n",
                "    .attr(\"dy\", \".32em\")\n",
                "    .attr(\"text-anchor\", \"start\")\n",
                "    .text(function(d, i) { return d; });\n",
                "\n",
                "row.selectAll(\".cell\")\n",
                "    .data(function(d, i) { return matrix[i]; })\n",
                "    .style(\"fill\", colorMap);\n",
                "    \n",
                "    \n",
                "row.selectAll(\".cell\").append(\"text\").text(\"1.5\");\n",
                "</script>\n",
                "''')"
            ],
            "metadata": {
                "azdata_cell_guid": "a8f1107c-edf7-434e-b4bf-9357b2d39e9e"
            },
            "outputs": [],
            "execution_count": 74
        },
        {
            "cell_type": "code",
            "source": [
                "HTML(html_code)"
            ],
            "metadata": {
                "azdata_cell_guid": "8341b403-049a-4deb-935a-0007ffb43f90"
            },
            "outputs": [
                {
                    "data": {
                        "text/plain": "<IPython.core.display.HTML object>",
                        "text/html": "\n<div id=\"greeting\"></div>\n\n<div id=\"chart-example\"></div>\n\n<script>\nd3.select(\"#greeting\").append(\"span\")\n    .text(\"Hello Friend!\");\nconsole.log(\"here\")\n\nvar margin = {top: 100, right: 100, bottom: 100, left: 100},\n    width = 400,\n    height = 400;\n\nvar svg = d3.select(\"#chart-example\").append(\"svg\")\n    .attr(\"width\", width + margin.left + margin.right)\n    .attr(\"height\", height + margin.top + margin.bottom)\n    .style(\"margin-left\", -margin.left + \"px\")\n  .append(\"g\")\n    .attr(\"transform\", \"translate(\" + margin.left + \",\" + margin.top + \")\");\n\nsvg.append(\"rect\")\n    .attr(\"class\", \"background\")\n    .attr(\"width\", width)\n    .attr(\"height\", height);\n\nvar numrows = 2; //change to variable\nvar numcols = 2; //change to variable\n\n//replace this chunk with reading in data from the python code\nvar matrix = new Array(numrows);\nfor (var i = 0; i < numrows; i++) {\n  matrix[i] = new Array(numcols);\n  for (var j = 0; j < numcols; j++) {\n    matrix[i][j] = Math.random()*2 - 1;\n  }\n}\nconsole.log(matrix)\n\nvar x = d3.scale.ordinal()\n    .domain(d3.range(numcols))\n    .rangeBands([0, width]);\n\nvar y = d3.scale.ordinal()\n    .domain(d3.range(numrows))\n    .rangeBands([0, height]);\n\nvar rowLabels = new Array(numrows);\nfor (var i = 0; i < numrows; i++) {\n  rowLabels[i] = \"Row \"+(i+1);\n}\n\nvar columnLabels = new Array(numrows);\nfor (var i = 0; i < numcols; i++) {\n  columnLabels[i] = \"Column \"+(i+1);\n}\n\nvar colorMap = d3.scale.linear()\n    .domain([-1, 0, 1])\n    .range([\"red\", \"white\", \"blue\"]);    \n    //.range([\"red\", \"black\", \"green\"]);\n    //.range([\"brown\", \"#ddd\", \"darkgreen\"]);\n\nvar row = svg.selectAll(\".row\")\n    .data(matrix)\n  .enter().append(\"g\")\n    .attr(\"class\", \"row\")\n    .attr(\"transform\", function(d, i) { return \"translate(0,\" + y(i) + \")\"; });\n\nrow.selectAll(\".cell\")\n    .data(function(d) { return d; })\n  .enter().append(\"rect\")\n    .attr(\"class\", \"cell\")\n    .attr(\"x\", function(d, i) { return x(i); })\n    .attr(\"width\", x.rangeBand())\n    .attr(\"height\", y.rangeBand())\n    .style(\"stroke-width\", 0);\n\nrow.append(\"line\")\n    .attr(\"x2\", width);\n\nrow.append(\"text\")\n    .attr(\"x\", 0)\n    .attr(\"y\", y.rangeBand() / 2)\n    .attr(\"dy\", \".32em\")\n    .attr(\"text-anchor\", \"end\")\n    .text(function(d, i) { return i; });\n\nvar column = svg.selectAll(\".column\")\n    .data(columnLabels)\n  .enter().append(\"g\")\n    .attr(\"class\", \"column\")\n    .attr(\"transform\", function(d, i) { return \"translate(\" + x(i) + \")rotate(-90)\"; });\n\ncolumn.append(\"line\")\n    .attr(\"x1\", -width);\n\ncolumn.append(\"text\")\n    .attr(\"x\", 6)\n    .attr(\"y\", y.rangeBand() / 2)\n    .attr(\"dy\", \".32em\")\n    .attr(\"text-anchor\", \"start\")\n    .text(function(d, i) { return d; });\n\nrow.selectAll(\".cell\")\n    .data(function(d, i) { return matrix[i]; })\n    .style(\"fill\", colorMap);\n    \n    \nrow.selectAll(\".cell\").append(\"text\").text(\"1.5\");\n</script>\n"
                    },
                    "metadata": {},
                    "execution_count": 75,
                    "output_type": "execute_result"
                }
            ],
            "execution_count": 75
        }
    ]
}