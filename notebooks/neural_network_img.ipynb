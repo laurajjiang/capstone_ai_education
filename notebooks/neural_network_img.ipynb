{
 "cells": [
  {
   "source": [
    "# Creating a Neural Network for Image Classification \n",
    "\n",
    "In this notebook, we'll learn how to create a neural network for multi-categorical image classification using the FashionMNIST dataset. Our neural network will look slightly different because we have to flatten our image data into a single vector before our model can make sense of the data it's being fed. Thankfully, many of the other concepts that we covered in previous chapters still show up here!\n",
    "\n",
    "The next chapter will explore a convolutional neural network using the same dataset as here. \n"
   ],
   "cell_type": "markdown",
   "metadata": {}
  },
  {
   "source": [
    "As usual, we import necessary libraries here."
   ],
   "cell_type": "markdown",
   "metadata": {}
  },
  {
   "cell_type": "code",
   "execution_count": 1,
   "metadata": {
    "id": "uV0soR-fNOSd"
   },
   "outputs": [],
   "source": [
    "import tensorflow as tf \n",
    "import numpy as np\n",
    "import matplotlib.pyplot as plt \n",
    "from sklearn.preprocessing import OneHotEncoder"
   ]
  },
  {
   "source": [
    "## Load the dataset\n",
    "\n",
    "The FashionMNIST dataset is already split up into training and test datasets for us, so we don't have to do any processing in splitting up our data."
   ],
   "cell_type": "markdown",
   "metadata": {}
  },
  {
   "cell_type": "code",
   "execution_count": 2,
   "metadata": {
    "id": "Nd0ht1IPNIim"
   },
   "outputs": [
    {
     "name": "stdout",
     "output_type": "stream",
     "text": [
      "Downloading data from https://storage.googleapis.com/tensorflow/tf-keras-datasets/train-labels-idx1-ubyte.gz\n",
      "32768/29515 [=================================] - 0s 1us/step\n",
      "Downloading data from https://storage.googleapis.com/tensorflow/tf-keras-datasets/train-images-idx3-ubyte.gz\n",
      "26427392/26421880 [==============================] - 2s 0us/step\n",
      "Downloading data from https://storage.googleapis.com/tensorflow/tf-keras-datasets/t10k-labels-idx1-ubyte.gz\n",
      "8192/5148 [===============================================] - 0s 0us/step\n",
      "Downloading data from https://storage.googleapis.com/tensorflow/tf-keras-datasets/t10k-images-idx3-ubyte.gz\n",
      "4423680/4422102 [==============================] - 0s 0us/step\n"
     ]
    }
   ],
   "source": [
    "fashion_mnist = tf.keras.datasets.fashion_mnist\n",
    "\n",
    "# 60,000 training images, 10,000 test images\n",
    "(training_imgs, training_labels), (test_imgs, test_labels) = fashion_mnist.load_data()"
   ]
  },
  {
   "source": [
    "## Explore the data\n",
    "\n",
    "Each image is a 28x28 grayscale image that is associated with 10 different classes.\n",
    "\n",
    "Let's look at what one of these images looks like. If you'd like to view other samples, feel free the change the index of the `training_imgs` array to view another item. \n",
    "\n",
    "Note that `plt.imshow` will colorgrade the image so that it is no longer grayscale."
   ],
   "cell_type": "markdown",
   "metadata": {}
  },
  {
   "cell_type": "code",
   "execution_count": 3,
   "metadata": {
    "colab": {
     "base_uri": "https://localhost:8080/",
     "height": 282
    },
    "id": "ZHbV9dN-iyXT",
    "outputId": "10d2a03a-d8a0-4760-e577-9e19d6323c19"
   },
   "outputs": [
    {
     "data": {
      "text/plain": [
       "<matplotlib.image.AxesImage at 0x11a77bd18b0>"
      ]
     },
     "execution_count": 3,
     "metadata": {},
     "output_type": "execute_result"
    },
    {
     "data": {
      "image/png": "[encoded data removed]",
      "text/plain": [
       "<Figure size 432x288 with 1 Axes>"
      ]
     },
     "metadata": {
      "needs_background": "light"
     },
     "output_type": "display_data"
    }
   ],
   "source": [
    "plt.imshow(training_imgs[0]) "
   ]
  },
  {
   "source": [
    "## Processing data\n",
    "\n",
    "Even though our data has already been split up into testing and training data, there's still a little bit more pre-processing that we need to get done. \n",
    "\n",
    "We want to reshape our array to make sure that every image in the array matches our expected dimensions and so that training our model goes smoothly. We then divide every image in our training images and test images by `255` to normalize our values between 0 and 1. For reference, `0 - 255` is the range for RGB values. \n",
    "\n",
    "Afterwards, we want to encode our labels per usual to be a `0` or `1` accordingly so we can tell which class the item belongs to."
   ],
   "cell_type": "markdown",
   "metadata": {}
  },
  {
   "cell_type": "code",
   "execution_count": 4,
   "metadata": {
    "id": "Zn2jYgZTn-K8"
   },
   "outputs": [],
   "source": [
    "training_imgs = training_imgs.reshape((training_imgs.shape[0], 28, 28, 1))\n",
    "training_imgs = training_imgs/255.0\n",
    "test_imgs = test_imgs/255.0"
   ]
  },
  {
   "cell_type": "code",
   "execution_count": 5,
   "metadata": {
    "id": "-8MCzcDrpOsb"
   },
   "outputs": [],
   "source": [
    "encoder1 = OneHotEncoder(sparse=False)\n",
    "encoder2 = OneHotEncoder(sparse=False)\n",
    "training_labels = training_labels.reshape(-1, 1)\n",
    "test_labels = test_labels.reshape(-1, 1)\n",
    "training_labels = encoder1.fit_transform(training_labels)\n",
    "test_labels = encoder2.fit_transform(test_labels)"
   ]
  },
  {
   "source": [
    "## Building a neural network for image classification \n",
    "\n",
    "Now we can build a new neural network model for image classification! The input layer is a flattening layer so that our `28x28` pixel image is transformed into a single vector of size `(None, 784)` which can be seen from the model summary. You can learn more about the Flatten layer through the [Keras documentation](https://keras.io/api/layers/reshaping_layers/flatten/). Next, we include a hidden layer per usual with `ReLU` activation. Our last layer is an output layer with 10 nodes, one for each class, and `softmax` activation to normalize our input between 0 and 1. \n",
    "\n",
    "As usual, we use the `sgd` optimizer and categorical cross-entropy as our loss function."
   ],
   "cell_type": "markdown",
   "metadata": {}
  },
  {
   "cell_type": "code",
   "execution_count": 6,
   "metadata": {
    "id": "DkTd7DqdRMJG"
   },
   "outputs": [],
   "source": [
    "model = tf.keras.Sequential([\n",
    "    tf.keras.layers.Flatten(input_shape=(28,28), name='input'), # image is 28x28 pixels\n",
    "    tf.keras.layers.Dense(128, activation='relu', name='hidden-1'),\n",
    "    tf.keras.layers.Dense(10, activation='softmax', name='output')\n",
    "])"
   ]
  },
  {
   "cell_type": "code",
   "execution_count": 7,
   "metadata": {
    "colab": {
     "base_uri": "https://localhost:8080/"
    },
    "id": "WCKa-TxtRjer",
    "outputId": "e052c781-56e7-452e-c4bd-869d4e9f70ef"
   },
   "outputs": [
    {
     "name": "stdout",
     "output_type": "stream",
     "text": [
      "Model: \"sequential\"\n",
      "_________________________________________________________________\n",
      "Layer (type)                 Output Shape              Param #   \n",
      "=================================================================\n",
      "input (Flatten)              (None, 784)               0         \n",
      "_________________________________________________________________\n",
      "hidden-1 (Dense)             (None, 128)               100480    \n",
      "_________________________________________________________________\n",
      "output (Dense)               (None, 10)                1290      \n",
      "=================================================================\n",
      "Total params: 101,770\n",
      "Trainable params: 101,770\n",
      "Non-trainable params: 0\n",
      "_________________________________________________________________\n"
     ]
    }
   ],
   "source": [
    "model.compile(optimizer='sgd', loss='categorical_crossentropy', metrics=['accuracy'])\n",
    "\n",
    "model.summary()"
   ]
  },
  {
   "source": [
    "We can look at the output of our hidden layer, although it will be a bit difficult to read since we have 10 different classes this time. "
   ],
   "cell_type": "markdown",
   "metadata": {}
  },
  {
   "cell_type": "code",
   "execution_count": null,
   "metadata": {},
   "outputs": [],
   "source": [
    "predictions = model(training_imgs)\n",
    "tf.nn.softmax(predictions[:5])"
   ]
  },
  {
   "source": [
    "## Train the model \n",
    "\n",
    "Now, we can traing our model. As always, feel free to adjust the learning parameters and see how that affects the loss and accuracy of the model moving forward. You can also change the optimizer and loss function."
   ],
   "cell_type": "markdown",
   "metadata": {}
  },
  {
   "cell_type": "code",
   "execution_count": 8,
   "metadata": {
    "colab": {
     "base_uri": "https://localhost:8080/"
    },
    "id": "b4A8fCtSRur9",
    "outputId": "f2f66599-c8f0-4f33-e873-a7d4976fd325"
   },
   "outputs": [
    {
     "name": "stdout",
     "output_type": "stream",
     "text": [
      "Epoch 1/20\n",
      "1313/1313 [==============================] - 5s 3ms/step - loss: 1.1410 - accuracy: 0.6415 - val_loss: 0.5906 - val_accuracy: 0.8050\n",
      "Epoch 2/20\n",
      "1313/1313 [==============================] - 2s 2ms/step - loss: 0.5630 - accuracy: 0.8125 - val_loss: 0.5201 - val_accuracy: 0.8247\n",
      "Epoch 3/20\n",
      "1313/1313 [==============================] - 2s 2ms/step - loss: 0.4992 - accuracy: 0.8313 - val_loss: 0.4843 - val_accuracy: 0.8346\n",
      "Epoch 4/20\n",
      "1313/1313 [==============================] - 3s 2ms/step - loss: 0.4629 - accuracy: 0.8418 - val_loss: 0.4647 - val_accuracy: 0.8376\n",
      "Epoch 5/20\n",
      "1313/1313 [==============================] - 2s 2ms/step - loss: 0.4531 - accuracy: 0.8431 - val_loss: 0.4435 - val_accuracy: 0.8463\n",
      "Epoch 6/20\n",
      "1313/1313 [==============================] - 2s 2ms/step - loss: 0.4328 - accuracy: 0.8518 - val_loss: 0.4599 - val_accuracy: 0.8408\n",
      "Epoch 7/20\n",
      "1313/1313 [==============================] - 3s 2ms/step - loss: 0.4226 - accuracy: 0.8547 - val_loss: 0.4257 - val_accuracy: 0.8526\n",
      "Epoch 8/20\n",
      "1313/1313 [==============================] - 3s 2ms/step - loss: 0.4093 - accuracy: 0.8595 - val_loss: 0.4171 - val_accuracy: 0.8543\n",
      "Epoch 9/20\n",
      "1313/1313 [==============================] - 3s 2ms/step - loss: 0.3991 - accuracy: 0.8595 - val_loss: 0.4150 - val_accuracy: 0.8554\n",
      "Epoch 10/20\n",
      "1313/1313 [==============================] - 5s 4ms/step - loss: 0.3909 - accuracy: 0.8628 - val_loss: 0.4082 - val_accuracy: 0.8598\n",
      "Epoch 11/20\n",
      "1313/1313 [==============================] - 6s 4ms/step - loss: 0.3887 - accuracy: 0.8673 - val_loss: 0.4025 - val_accuracy: 0.8617\n",
      "Epoch 12/20\n",
      "1313/1313 [==============================] - 4s 3ms/step - loss: 0.3736 - accuracy: 0.8704 - val_loss: 0.3905 - val_accuracy: 0.8650\n",
      "Epoch 13/20\n",
      "1313/1313 [==============================] - 3s 3ms/step - loss: 0.3641 - accuracy: 0.8721 - val_loss: 0.4025 - val_accuracy: 0.8569\n",
      "Epoch 14/20\n",
      "1313/1313 [==============================] - 3s 3ms/step - loss: 0.3676 - accuracy: 0.8728 - val_loss: 0.3910 - val_accuracy: 0.8636\n",
      "Epoch 15/20\n",
      "1313/1313 [==============================] - 3s 3ms/step - loss: 0.3556 - accuracy: 0.8747 - val_loss: 0.3870 - val_accuracy: 0.8661\n",
      "Epoch 16/20\n",
      "1313/1313 [==============================] - 3s 2ms/step - loss: 0.3647 - accuracy: 0.8717 - val_loss: 0.3859 - val_accuracy: 0.8638\n",
      "Epoch 17/20\n",
      "1313/1313 [==============================] - 3s 2ms/step - loss: 0.3530 - accuracy: 0.8765 - val_loss: 0.3825 - val_accuracy: 0.8661\n",
      "Epoch 18/20\n",
      "1313/1313 [==============================] - 3s 2ms/step - loss: 0.3376 - accuracy: 0.8821 - val_loss: 0.3767 - val_accuracy: 0.8696\n",
      "Epoch 19/20\n",
      "1313/1313 [==============================] - 3s 2ms/step - loss: 0.3309 - accuracy: 0.8827 - val_loss: 0.3787 - val_accuracy: 0.8656\n",
      "Epoch 20/20\n",
      "1313/1313 [==============================] - 3s 2ms/step - loss: 0.3280 - accuracy: 0.8852 - val_loss: 0.3662 - val_accuracy: 0.8716\n"
     ]
    }
   ],
   "source": [
    "hist = model.fit(training_imgs, training_labels, verbose=1, batch_size=32, epochs=20, validation_split=0.3)"
   ]
  },
  {
   "source": [
    "We can now plot the relationship between loss, accuracy, and our current epoch."
   ],
   "cell_type": "markdown",
   "metadata": {}
  },
  {
   "cell_type": "code",
   "execution_count": 9,
   "metadata": {
    "colab": {
     "base_uri": "https://localhost:8080/",
     "height": 573
    },
    "id": "OPl32dnkR5t6",
    "outputId": "508063ea-4ad1-4ac5-d8ca-883f9c368208"
   },
   "outputs": [
    {
     "data": {
      "image/png": "[encoded data removed]",
      "text/plain": [
       "<Figure size 432x288 with 1 Axes>"
      ]
     },
     "metadata": {
      "needs_background": "light"
     },
     "output_type": "display_data"
    },
    {
     "data": {
      "image/png": "[encoded data removed]",
      "text/plain": [
       "<Figure size 432x288 with 1 Axes>"
      ]
     },
     "metadata": {
      "needs_background": "light"
     },
     "output_type": "display_data"
    }
   ],
   "source": [
    "plt.plot(hist.history['accuracy'])\n",
    "plt.plot(hist.history['val_accuracy'])\n",
    "\n",
    "plt.title('model accuracy')\n",
    "plt.ylabel('accuracy')\n",
    "plt.xlabel('epoch')\n",
    "plt.legend(['train','test'], loc='upper left')\n",
    "plt.show()\n",
    "\n",
    "plt.plot(hist.history['loss'])\n",
    "plt.plot(hist.history['val_loss'])\n",
    "\n",
    "plt.title('model loss')\n",
    "plt.ylabel('loss')\n",
    "plt.xlabel('epoch')\n",
    "plt.legend(['train','test'], loc='upper left')\n",
    "plt.show()"
   ]
  },
  {
   "source": [
    "## Evaluate the model \n",
    "\n",
    "Once our model has been trained with our training data, we can see how the model performs with our test set. You can view the classification report printed, as well as the raw confidence scores for a few images. "
   ],
   "cell_type": "markdown",
   "metadata": {}
  },
  {
   "cell_type": "code",
   "execution_count": 95,
   "metadata": {
    "id": "4-kQrt93riWU"
   },
   "outputs": [],
   "source": [
    "testingPredictions = model.predict(test_imgs)\n",
    "testingPredictions = list(testingPredictions.argmax(axis=-1))\n",
    "confidence_scores = model.predict(test_imgs, batch_size=32)"
   ]
  },
  {
   "cell_type": "code",
   "execution_count": 99,
   "metadata": {
    "colab": {
     "base_uri": "https://localhost:8080/"
    },
    "id": "0OPJNw-_sj0G",
    "outputId": "a0d5440d-255e-4642-cf5b-0c89fa4b651a"
   },
   "outputs": [
    {
     "name": "stdout",
     "output_type": "stream",
     "text": [
      "              precision    recall  f1-score   support\n",
      "\n",
      " T-shirt/top       0.81      0.82      0.82      1000\n",
      "     Trouser       0.99      0.96      0.97      1000\n",
      "    Pullover       0.77      0.79      0.78      1000\n",
      "       Dress       0.87      0.85      0.86      1000\n",
      "        Coat       0.79      0.77      0.78      1000\n",
      "      Sandal       0.95      0.94      0.94      1000\n",
      "       Shirt       0.65      0.66      0.65      1000\n",
      "     Sneaker       0.92      0.93      0.92      1000\n",
      "         Bag       0.94      0.96      0.95      1000\n",
      "  Ankle boot       0.94      0.96      0.95      1000\n",
      "\n",
      "    accuracy                           0.86     10000\n",
      "   macro avg       0.86      0.86      0.86     10000\n",
      "weighted avg       0.86      0.86      0.86     10000\n",
      "\n"
     ]
    }
   ],
   "source": [
    "from sklearn.metrics import classification_report\n",
    "\n",
    "print(classification_report(test_labels.argmax(axis=-1), testingPredictions, target_names=target_names))"
   ]
  },
  {
   "cell_type": "code",
   "execution_count": 96,
   "metadata": {
    "colab": {
     "base_uri": "https://localhost:8080/"
    },
    "id": "jR6ppXLVrqhX",
    "outputId": "dffb034f-99c4-4a45-e30b-5e6f68df4d8c"
   },
   "outputs": [
    {
     "name": "stdout",
     "output_type": "stream",
     "text": [
      "[[0.00000729 0.00000009 0.00000275 ... 0.06012471 0.00154842 0.8761682 ]\n",
      " [0.00009534 0.00000013 0.98821205 ... 0.         0.00001153 0.        ]\n",
      " [0.00005938 0.99992764 0.00000173 ... 0.00000001 0.00000101 0.        ]\n",
      " ...\n",
      " [0.02944808 0.00000466 0.00140015 ... 0.00001671 0.951989   0.00000038]\n",
      " [0.00001509 0.9985979  0.0000077  ... 0.00000261 0.00000638 0.00000044]\n",
      " [0.00012927 0.00006131 0.00038427 ... 0.05729564 0.01049629 0.00277568]]\n"
     ]
    }
   ],
   "source": [
    "np.set_printoptions(suppress=True)\n",
    "print(confidence_scores)\n"
   ]
  },
  {
   "source": [
    "Because we're now working with image data, there's a bit more we can do to help visualize what this output really represents and how accurate our model is. Below, we've plotted the first 15 categorizations from our neural network. Feel free to play around with viewing more images and their categorizations. \n",
    "\n",
    "A blue bar represents an accurate output from our model while a red bar represents an incorrect output."
   ],
   "cell_type": "markdown",
   "metadata": {}
  },
  {
   "cell_type": "code",
   "execution_count": 97,
   "metadata": {
    "id": "A4zElazIrdNC"
   },
   "outputs": [],
   "source": [
    "target_names = ['T-shirt/top', 'Trouser', 'Pullover', 'Dress', 'Coat',\n",
    "               'Sandal', 'Shirt', 'Sneaker', 'Bag', 'Ankle boot']\n",
    "\n",
    "def plot_image(i, predictions_array, confidence_scores, true_label, img):\n",
    "  true_label, img = true_label[i], img[i]\n",
    "  plt.grid(False)\n",
    "  plt.xticks([])\n",
    "  plt.yticks([])\n",
    "\n",
    "  plt.imshow(img, cmap=plt.cm.binary)\n",
    "\n",
    "\n",
    "  #predicted_label = np.argmax(predictions_array)\n",
    "  #print(predicted_label, true_label)\n",
    "  if predictions_array[i] == true_label:\n",
    "    color = 'blue'\n",
    "  else:\n",
    "    color = 'red'\n",
    "\n",
    "  plt.xlabel(\"{} {:2.0f}% ({})\".format(target_names[predictions_array[i]],\n",
    "                                100*np.max(confidence_scores[i]),\n",
    "                                target_names[true_label]),\n",
    "                                color=color)\n",
    "\n",
    "def plot_value_array(i, predictions_array, true_label):\n",
    "  true_label = true_label[i]\n",
    "  plt.grid(False)\n",
    "  plt.xticks(range(10))\n",
    "  plt.yticks([])\n",
    "  thisplot = plt.bar(range(10), predictions_array, color=\"#777777\")\n",
    "  plt.ylim([0, 1])\n",
    "  predicted_label = np.argmax(predictions_array)\n",
    "\n",
    "  thisplot[predicted_label].set_color('red')\n",
    "  thisplot[true_label].set_color('blue')"
   ]
  },
  {
   "cell_type": "code",
   "execution_count": 98,
   "metadata": {
    "colab": {
     "base_uri": "https://localhost:8080/",
     "height": 441
    },
    "id": "gGvBAReHR7e4",
    "outputId": "7a0cda65-d0b8-4984-d303-2e32933b22fe"
   },
   "outputs": [
    {
     "data": {
      "image/png": "[encoded data removed]",
      "text/plain": [
       "<Figure size 1440x432 with 30 Axes>"
      ]
     },
     "metadata": {
      "needs_background": "light"
     },
     "output_type": "display_data"
    }
   ],
   "source": [
    "num_rows = 3\n",
    "num_cols = 5\n",
    "num_images = num_rows*num_cols\n",
    "plt.figure(figsize=(2*2*num_cols, 2*num_rows))\n",
    "vec = np.vectorize(confidence_scores)\n",
    "for i in range(num_images):\n",
    "  plt.subplot(num_rows, 2*num_cols, 2*i+1)\n",
    "  plot_image(i, testingPredictions, confidence_scores, test_labels.argmax(axis=-1), test_imgs)\n",
    "  plt.subplot(num_rows, 2*num_cols, 2*i+2)\n",
    "  plot_value_array(i, list(confidence_scores)[i], test_labels.argmax(axis=-1))\n",
    "plt.tight_layout()\n",
    "plt.show()"
   ]
  },
  {
   "source": [
    "Now, we need to export the data in order to support some interactive visualizations that we've created. Feel free to skip over this code block and move to the interactive visualizations below."
   ],
   "cell_type": "markdown",
   "metadata": {}
  },
  {
   "cell_type": "code",
   "execution_count": 100,
   "metadata": {
    "id": "rNbGCFdmvB4D"
   },
   "outputs": [],
   "source": [
    "# output data as json \n",
    "import json\n",
    "import os\n",
    "import sys\n",
    "\n",
    "output_directory = \"libraries/\"\n",
    "output_filename = \"predict_img_nn.json\"\n",
    "full_path = os.path.join(output_directory, output_filename)\n",
    "\n",
    "true_label = []\n",
    "for i in range(len(test_labels)):\n",
    "    for j in range(len(test_labels[i])):\n",
    "        if test_labels[i][j] == 1:\n",
    "            true_label.append(target_names[j])\n",
    "\n",
    "for i in range(len(testingPredictions)):\n",
    "    target_i = testingPredictions[i]\n",
    "    testingPredictions[i] = target_names[target_i]\n",
    "\n",
    "data = []\n",
    "data.extend([{\n",
    "      'index': i,\n",
    "      'true_label': true_label[i],\n",
    "      'predicted_label': testingPredictions[i],\n",
    "      'confidence_score': confidence_scores.tolist()[i]\n",
    "  } for i in range(len(testingPredictions))])\n",
    "\n",
    "\n",
    "\n",
    "with open(full_path, 'w') as outfile:\n",
    "    json.dump(data, outfile, indent=4, sort_keys=False)"
   ]
  }
 ],
 "metadata": {
  "colab": {
   "collapsed_sections": [],
   "name": "neural_network_img.ipynb",
   "provenance": []
  },
  "kernelspec": {
   "display_name": "Python 3",
   "language": "python",
   "name": "python3"
  },
  "language_info": {
   "codemirror_mode": {
    "name": "ipython",
    "version": 3
   },
   "file_extension": ".py",
   "mimetype": "text/x-python",
   "name": "python",
   "nbconvert_exporter": "python",
   "pygments_lexer": "ipython3",
   "version": "3.8.6"
  }
 },
 "nbformat": 4,
 "nbformat_minor": 1
}