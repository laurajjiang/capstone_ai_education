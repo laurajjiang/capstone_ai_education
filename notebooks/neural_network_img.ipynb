{
 "cells": [
  {
   "cell_type": "markdown",
   "metadata": {},
   "source": [
    "# Creating a Neural Network for Image Classification \n",
    "\n",
    "In this notebook, we'll learn how to create a neural network for multi-categorical image classification using the FashionMNIST dataset. Our neural network will look slightly different because we have to flatten our image data into a single vector before our model can make sense of the data it's being fed. Thankfully, many of the other concepts that we covered in previous chapters still show up here!\n",
    "\n",
    "The next chapter will explore a convolutional neural network using the same dataset as here. \n"
   ]
  },
  {
   "cell_type": "markdown",
   "metadata": {},
   "source": [
    "As usual, we import necessary libraries here."
   ]
  },
  {
   "cell_type": "code",
   "execution_count": 1,
   "metadata": {
    "id": "uV0soR-fNOSd"
   },
   "outputs": [
    {
     "data": {
      "text/html": [
       "<script data-require=\"d3@3.5.3\" data-semver=\"3.5.3\" src=\"//cdnjs.cloudflare.com/ajax/libs/d3/3.5.3/d3.js\"></script>"
      ],
      "text/plain": [
       "<IPython.core.display.HTML object>"
      ]
     },
     "metadata": {},
     "output_type": "display_data"
    }
   ],
   "source": [
    "import tensorflow as tf \n",
    "import numpy as np\n",
    "import matplotlib.pyplot as plt \n",
    "from sklearn.preprocessing import OneHotEncoder\n",
    "\n",
    "from IPython.core.display import HTML, display\n",
    "# Initializing D3 for the entire notebook (this fixes error requiring kernel to load twice)\n",
    "# (feel free to move this line to anywhere in notebook before visualizations)\n",
    "display(HTML('<script data-require=\"d3@3.5.3\" data-semver=\"3.5.3\" src=\"//cdnjs.cloudflare.com/ajax/libs/d3/3.5.3/d3.js\"></script>'))"
   ]
  },
  {
   "cell_type": "markdown",
   "metadata": {},
   "source": [
    "## Load the dataset\n",
    "\n",
    "The FashionMNIST dataset is already split up into training and test datasets for us, so we don't have to do any processing in splitting up our data."
   ]
  },
  {
   "cell_type": "code",
   "execution_count": 2,
   "metadata": {
    "id": "Nd0ht1IPNIim"
   },
   "outputs": [],
   "source": [
    "fashion_mnist = tf.keras.datasets.fashion_mnist\n",
    "\n",
    "# 60,000 training images, 10,000 test images\n",
    "(training_imgs, training_labels), (test_imgs, test_labels) = fashion_mnist.load_data()"
   ]
  },
  {
   "cell_type": "markdown",
   "metadata": {},
   "source": [
    "## Explore the data\n",
    "\n",
    "Each image is a 28x28 grayscale image that is associated with 10 different classes.\n",
    "\n",
    "Let's look at what one of these images looks like. If you'd like to view other samples, feel free the change the index of the `training_imgs` array to view another item. \n",
    "\n",
    "Note that `plt.imshow` will colorgrade the image so that it is no longer grayscale."
   ]
  },
  {
   "cell_type": "code",
   "execution_count": 3,
   "metadata": {
    "colab": {
     "base_uri": "https://localhost:8080/",
     "height": 282
    },
    "id": "ZHbV9dN-iyXT",
    "outputId": "10d2a03a-d8a0-4760-e577-9e19d6323c19"
   },
   "outputs": [
    {
     "data": {
      "text/plain": [
       "<matplotlib.image.AxesImage at 0x7fddeb8f7f70>"
      ]
     },
     "execution_count": 3,
     "metadata": {},
     "output_type": "execute_result"
    },
    {
     "data": {
      "image/png": "[encoded data removed]",
      "text/plain": [
       "<Figure size 432x288 with 1 Axes>"
      ]
     },
     "metadata": {
      "needs_background": "light"
     },
     "output_type": "display_data"
    }
   ],
   "source": [
    "plt.imshow(training_imgs[0]) "
   ]
  },
  {
   "cell_type": "markdown",
   "metadata": {},
   "source": [
    "## Processing data\n",
    "\n",
    "Even though our data has already been split up into testing and training data, there's still a little bit more pre-processing that we need to get done. \n",
    "\n",
    "We want to reshape our array to make sure that every image in the array matches our expected dimensions and so that training our model goes smoothly. We then divide every image in our training images and test images by `255` to normalize our values between 0 and 1. For reference, `0 - 255` is the range for RGB values. \n",
    "\n",
    "Afterwards, we want to encode our labels per usual to be a `0` or `1` accordingly so we can tell which class the item belongs to."
   ]
  },
  {
   "cell_type": "code",
   "execution_count": 4,
   "metadata": {
    "id": "Zn2jYgZTn-K8"
   },
   "outputs": [],
   "source": [
    "training_imgs = training_imgs.reshape((training_imgs.shape[0], 28, 28, 1))\n",
    "training_imgs = training_imgs/255.0\n",
    "test_imgs = test_imgs/255.0"
   ]
  },
  {
   "cell_type": "code",
   "execution_count": 5,
   "metadata": {
    "id": "-8MCzcDrpOsb"
   },
   "outputs": [],
   "source": [
    "encoder1 = OneHotEncoder(sparse=False)\n",
    "encoder2 = OneHotEncoder(sparse=False)\n",
    "training_labels = training_labels.reshape(-1, 1)\n",
    "test_labels = test_labels.reshape(-1, 1)\n",
    "training_labels = encoder1.fit_transform(training_labels)\n",
    "test_labels = encoder2.fit_transform(test_labels)"
   ]
  },
  {
   "cell_type": "markdown",
   "metadata": {},
   "source": [
    "## Building a neural network for image classification \n",
    "\n",
    "Now we can build a new neural network model for image classification! The input layer is a flattening layer so that our `28x28` pixel image is transformed into a single vector of size `(None, 784)` which can be seen from the model summary. You can learn more about the Flatten layer through the [Keras documentation](https://keras.io/api/layers/reshaping_layers/flatten/). Next, we include a hidden layer per usual with `ReLU` activation. Our last layer is an output layer with 10 nodes, one for each class, and `softmax` activation to normalize our input between 0 and 1. \n",
    "\n",
    "As usual, we use the `sgd` optimizer and categorical cross-entropy as our loss function."
   ]
  },
  {
   "cell_type": "code",
   "execution_count": 6,
   "metadata": {
    "id": "DkTd7DqdRMJG"
   },
   "outputs": [],
   "source": [
    "model = tf.keras.Sequential([\n",
    "    tf.keras.layers.Flatten(input_shape=(28,28), name='input'), # image is 28x28 pixels\n",
    "    tf.keras.layers.Dense(128, activation='relu', name='hidden-1'),\n",
    "    tf.keras.layers.Dense(10, activation='softmax', name='output')\n",
    "])"
   ]
  },
  {
   "cell_type": "code",
   "execution_count": 7,
   "metadata": {
    "colab": {
     "base_uri": "https://localhost:8080/"
    },
    "id": "WCKa-TxtRjer",
    "outputId": "e052c781-56e7-452e-c4bd-869d4e9f70ef"
   },
   "outputs": [
    {
     "name": "stdout",
     "output_type": "stream",
     "text": [
      "Model: \"sequential\"\n",
      "_________________________________________________________________\n",
      "Layer (type)                 Output Shape              Param #   \n",
      "=================================================================\n",
      "input (Flatten)              (None, 784)               0         \n",
      "_________________________________________________________________\n",
      "hidden-1 (Dense)             (None, 128)               100480    \n",
      "_________________________________________________________________\n",
      "output (Dense)               (None, 10)                1290      \n",
      "=================================================================\n",
      "Total params: 101,770\n",
      "Trainable params: 101,770\n",
      "Non-trainable params: 0\n",
      "_________________________________________________________________\n"
     ]
    }
   ],
   "source": [
    "model.compile(optimizer='sgd', loss='categorical_crossentropy', metrics=['accuracy'])\n",
    "\n",
    "model.summary()"
   ]
  },
  {
   "cell_type": "markdown",
   "metadata": {},
   "source": [
    "We can look at the output of our hidden layer, although it will be a bit difficult to read since we have 10 different classes this time. "
   ]
  },
  {
   "cell_type": "code",
   "execution_count": 8,
   "metadata": {},
   "outputs": [
    {
     "data": {
      "text/plain": [
       "<tf.Tensor: shape=(5, 10), dtype=float32, numpy=\n",
       "array([[0.09743496, 0.10390951, 0.09605288, 0.09413443, 0.09592323,\n",
       "        0.09693799, 0.10829465, 0.11652737, 0.0954952 , 0.09528978],\n",
       "       [0.09718403, 0.11051734, 0.09754353, 0.09808902, 0.09576837,\n",
       "        0.0974765 , 0.10491733, 0.10048662, 0.1005971 , 0.09742019],\n",
       "       [0.09806025, 0.10741451, 0.09954437, 0.09860197, 0.0952135 ,\n",
       "        0.09736916, 0.10113675, 0.10398158, 0.10046902, 0.09820889],\n",
       "       [0.09848396, 0.10460918, 0.10191695, 0.09714739, 0.09339923,\n",
       "        0.09863315, 0.09890906, 0.10076971, 0.10678744, 0.09934389],\n",
       "       [0.09513741, 0.10949019, 0.09955283, 0.09601699, 0.09273662,\n",
       "        0.09441695, 0.10045631, 0.10643925, 0.10802444, 0.09772906]],\n",
       "      dtype=float32)>"
      ]
     },
     "execution_count": 8,
     "metadata": {},
     "output_type": "execute_result"
    }
   ],
   "source": [
    "predictions = model(training_imgs)\n",
    "tf.nn.softmax(predictions[:5])"
   ]
  },
  {
   "cell_type": "markdown",
   "metadata": {},
   "source": [
    "## Train the model \n",
    "\n",
    "Now, we can traing our model. As always, feel free to adjust the learning parameters and see how that affects the loss and accuracy of the model moving forward. You can also change the optimizer and loss function."
   ]
  },
  {
   "cell_type": "code",
   "execution_count": 9,
   "metadata": {},
   "outputs": [],
   "source": [
    "# Importing callback data extractor\n",
    "import os, sys\n",
    "import libraries.extractioncallback as excb\n",
    "module_path = os.path.abspath(os.path.join('..'))\n",
    "if module_path not in sys.path:\n",
    "    sys.path.append(module_path)\n",
    "\n",
    "extractor = excb.CallbackDataExtractor(\n",
    "    model = model,\n",
    "    layer = 1,\n",
    "    validation_data = (test_imgs, test_labels),\n",
    "    sample_every = 1,\n",
    "    rec_int_values = False,\n",
    "    is_bin = False\n",
    ")"
   ]
  },
  {
   "cell_type": "code",
   "execution_count": 10,
   "metadata": {
    "colab": {
     "base_uri": "https://localhost:8080/"
    },
    "id": "b4A8fCtSRur9",
    "outputId": "f2f66599-c8f0-4f33-e873-a7d4976fd325"
   },
   "outputs": [
    {
     "name": "stdout",
     "output_type": "stream",
     "text": [
      "Epoch 1/2\n",
      "1313/1313 [==============================] - 3s 2ms/step - loss: 1.0905 - accuracy: 0.6715 - val_loss: 0.6159 - val_accuracy: 0.7831\n",
      "Collecting data on epoch  0\n",
      "Epoch 2/2\n",
      "1313/1313 [==============================] - 2s 2ms/step - loss: 0.5664 - accuracy: 0.8089 - val_loss: 0.5260 - val_accuracy: 0.8168\n",
      "Collecting data on epoch  1\n"
     ]
    }
   ],
   "source": [
    "hist = model.fit(training_imgs, training_labels, verbose=1, batch_size=32, epochs=2, validation_split=0.3, callbacks=[extractor])"
   ]
  },
  {
   "cell_type": "markdown",
   "metadata": {},
   "source": [
    "We can now plot the relationship between loss, accuracy, and our current epoch."
   ]
  },
  {
   "cell_type": "code",
   "execution_count": 11,
   "metadata": {
    "colab": {
     "base_uri": "https://localhost:8080/",
     "height": 573
    },
    "id": "OPl32dnkR5t6",
    "outputId": "508063ea-4ad1-4ac5-d8ca-883f9c368208"
   },
   "outputs": [
    {
     "data": {
      "image/png": "[encoded data removed]",
      "text/plain": [
       "<Figure size 432x288 with 1 Axes>"
      ]
     },
     "metadata": {
      "needs_background": "light"
     },
     "output_type": "display_data"
    },
    {
     "data": {
      "image/png": "[encoded data removed]",
      "text/plain": [
       "<Figure size 432x288 with 1 Axes>"
      ]
     },
     "metadata": {
      "needs_background": "light"
     },
     "output_type": "display_data"
    }
   ],
   "source": [
    "plt.plot(hist.history['accuracy'])\n",
    "plt.plot(hist.history['val_accuracy'])\n",
    "\n",
    "plt.title('model accuracy')\n",
    "plt.ylabel('accuracy')\n",
    "plt.xlabel('epoch')\n",
    "plt.legend(['train','test'], loc='upper left')\n",
    "plt.show()\n",
    "\n",
    "plt.plot(hist.history['loss'])\n",
    "plt.plot(hist.history['val_loss'])\n",
    "\n",
    "plt.title('model loss')\n",
    "plt.ylabel('loss')\n",
    "plt.xlabel('epoch')\n",
    "plt.legend(['train','test'], loc='upper left')\n",
    "plt.show()"
   ]
  },
  {
   "cell_type": "markdown",
   "metadata": {},
   "source": [
    "## Evaluate the model \n",
    "\n",
    "Once our model has been trained with our training data, we can see how the model performs with our test set. You can view the classification report printed, as well as the raw confidence scores for a few images. "
   ]
  },
  {
   "cell_type": "code",
   "execution_count": 12,
   "metadata": {
    "id": "4-kQrt93riWU"
   },
   "outputs": [],
   "source": [
    "target_names = ['T-shirt/top', 'Trouser', 'Pullover', 'Dress', 'Coat',\n",
    "               'Sandal', 'Shirt', 'Sneaker', 'Bag', 'Ankle boot']\n",
    "\n",
    "testingPredictions = model.predict(test_imgs)\n",
    "testingPredictions = list(testingPredictions.argmax(axis=-1))\n",
    "confidence_scores = model.predict(test_imgs, batch_size=32)"
   ]
  },
  {
   "cell_type": "code",
   "execution_count": 13,
   "metadata": {
    "colab": {
     "base_uri": "https://localhost:8080/"
    },
    "id": "0OPJNw-_sj0G",
    "outputId": "a0d5440d-255e-4642-cf5b-0c89fa4b651a"
   },
   "outputs": [
    {
     "name": "stdout",
     "output_type": "stream",
     "text": [
      "              precision    recall  f1-score   support\n",
      "\n",
      " T-shirt/top       0.85      0.71      0.78      1000\n",
      "     Trouser       0.97      0.93      0.95      1000\n",
      "    Pullover       0.72      0.67      0.69      1000\n",
      "       Dress       0.79      0.86      0.82      1000\n",
      "        Coat       0.75      0.66      0.70      1000\n",
      "      Sandal       0.94      0.85      0.89      1000\n",
      "       Shirt       0.50      0.64      0.56      1000\n",
      "     Sneaker       0.87      0.89      0.88      1000\n",
      "         Bag       0.92      0.93      0.93      1000\n",
      "  Ankle boot       0.87      0.94      0.90      1000\n",
      "\n",
      "    accuracy                           0.81     10000\n",
      "   macro avg       0.82      0.81      0.81     10000\n",
      "weighted avg       0.82      0.81      0.81     10000\n",
      "\n"
     ]
    }
   ],
   "source": [
    "from sklearn.metrics import classification_report\n",
    "\n",
    "print(classification_report(test_labels.argmax(axis=-1), testingPredictions, target_names=target_names))"
   ]
  },
  {
   "cell_type": "code",
   "execution_count": 14,
   "metadata": {
    "colab": {
     "base_uri": "https://localhost:8080/"
    },
    "id": "jR6ppXLVrqhX",
    "outputId": "dffb034f-99c4-4a45-e30b-5e6f68df4d8c"
   },
   "outputs": [
    {
     "name": "stdout",
     "output_type": "stream",
     "text": [
      "[[0.00006076 0.00006657 0.00015249 ... 0.30797955 0.01695308 0.5511421 ]\n",
      " [0.00035191 0.00001096 0.9098638  ... 0.00000005 0.00009649 0.00000038]\n",
      " [0.00009815 0.9995215  0.00001393 ... 0.00000059 0.00000155 0.00000047]\n",
      " ...\n",
      " [0.07368311 0.00026002 0.0079312  ... 0.00095914 0.7477722  0.0026205 ]\n",
      " [0.00053893 0.9703976  0.00031133 ... 0.00005282 0.00002256 0.00006722]\n",
      " [0.00092889 0.00173442 0.00468713 ... 0.3650786  0.04359195 0.06061557]]\n"
     ]
    }
   ],
   "source": [
    "np.set_printoptions(suppress=True)\n",
    "print(confidence_scores)\n"
   ]
  },
  {
   "cell_type": "markdown",
   "metadata": {},
   "source": [
    "Because we're now working with image data, there's a bit more we can do to help visualize what this output really represents and how accurate our model is. Below, we've plotted the first 15 categorizations from our neural network. Feel free to play around with viewing more images and their categorizations. \n",
    "\n",
    "A blue bar represents an accurate output from our model while a red bar represents an incorrect output."
   ]
  },
  {
   "cell_type": "code",
   "execution_count": 15,
   "metadata": {
    "id": "A4zElazIrdNC"
   },
   "outputs": [],
   "source": [
    "def plot_image(i, predictions_array, confidence_scores, true_label, img):\n",
    "  true_label, img = true_label[i], img[i]\n",
    "  plt.grid(False)\n",
    "  plt.xticks([])\n",
    "  plt.yticks([])\n",
    "\n",
    "  plt.imshow(img, cmap=plt.cm.binary)\n",
    "\n",
    "\n",
    "  #predicted_label = np.argmax(predictions_array)\n",
    "  #print(predicted_label, true_label)\n",
    "  if predictions_array[i] == true_label:\n",
    "    color = 'blue'\n",
    "  else:\n",
    "    color = 'red'\n",
    "\n",
    "  plt.xlabel(\"{} {:2.0f}% ({})\".format(target_names[predictions_array[i]],\n",
    "                                100*np.max(confidence_scores[i]),\n",
    "                                target_names[true_label]),\n",
    "                                color=color)\n",
    "\n",
    "def plot_value_array(i, predictions_array, true_label):\n",
    "  true_label = true_label[i]\n",
    "  plt.grid(False)\n",
    "  plt.xticks(range(10))\n",
    "  plt.yticks([])\n",
    "  thisplot = plt.bar(range(10), predictions_array, color=\"#777777\")\n",
    "  plt.ylim([0, 1])\n",
    "  predicted_label = np.argmax(predictions_array)\n",
    "\n",
    "  thisplot[predicted_label].set_color('red')\n",
    "  thisplot[true_label].set_color('blue')"
   ]
  },
  {
   "cell_type": "code",
   "execution_count": 16,
   "metadata": {
    "colab": {
     "base_uri": "https://localhost:8080/",
     "height": 441
    },
    "id": "gGvBAReHR7e4",
    "outputId": "7a0cda65-d0b8-4984-d303-2e32933b22fe"
   },
   "outputs": [
    {
     "data": {
      "image/png": "[encoded data removed]",
      "text/plain": [
       "<Figure size 1440x432 with 30 Axes>"
      ]
     },
     "metadata": {
      "needs_background": "light"
     },
     "output_type": "display_data"
    }
   ],
   "source": [
    "num_rows = 3\n",
    "num_cols = 5\n",
    "num_images = num_rows*num_cols\n",
    "plt.figure(figsize=(2*2*num_cols, 2*num_rows))\n",
    "vec = np.vectorize(confidence_scores)\n",
    "for i in range(num_images):\n",
    "  plt.subplot(num_rows, 2*num_cols, 2*i+1)\n",
    "  plot_image(i, testingPredictions, confidence_scores, test_labels.argmax(axis=-1), test_imgs)\n",
    "  plt.subplot(num_rows, 2*num_cols, 2*i+2)\n",
    "  plot_value_array(i, list(confidence_scores)[i], test_labels.argmax(axis=-1))\n",
    "plt.tight_layout()\n",
    "plt.show()"
   ]
  },
  {
   "cell_type": "markdown",
   "metadata": {},
   "source": [
    "Now, we need to export the data in order to support some interactive visualizations that we've created. Feel free to skip over this code block and move to the interactive visualizations below."
   ]
  },
  {
   "cell_type": "code",
   "execution_count": 17,
   "metadata": {},
   "outputs": [],
   "source": [
    "import json\n",
    "import os\n",
    "import sys\n",
    "\n",
    "output_directory = \"libraries/stored_results\"\n",
    "output_filename = \"neural_network_img.json\"\n",
    "full_path = os.path.join(output_directory, output_filename)\n",
    "\n",
    "epoch_output = extractor.get_testing_results()\n",
    "data = {}\n",
    "for i in range(len(epoch_output[0])):\n",
    "    data[i] = {}\n",
    "    data[i]['Num Epochs'] = len(epoch_output)\n",
    "    data[i]['Index'] = i\n",
    "    data[i]['Test Label'] = int(epoch_output[0]['actual'][i].argmax())\n",
    "    data[i]['Test Prediction'] = {}\n",
    "    data[i]['Test Confidence Score'] = {}\n",
    "#     data[i]['Intermediate Values'] = {}\n",
    "    for j in range(len(epoch_output)):\n",
    "        data[i]['Test Prediction'][j] = int(epoch_output[j]['prediction'][i])\n",
    "        data[i]['Test Confidence Score'][j] = epoch_output[j]['confidence_score'][i].tolist()\n",
    "#         data[i]['Intermediate Values'][j] = epoch_output[j]['intermediate_values'][i]\n",
    "    data[i]['Test Sentence'] = epoch_output[0]['input'][i].tolist()\n",
    "    \n",
    "with open(full_path, 'w') as outfile:\n",
    "    json.dump(data, outfile, indent=4, sort_keys=False)"
   ]
  },
  {
   "cell_type": "code",
   "execution_count": 18,
   "metadata": {},
   "outputs": [
    {
     "data": {
      "text/html": [
       "<script src=\"https://d3js.org/d3.v3.min.js\" charset=\"utf-8\"></script>"
      ],
      "text/plain": [
       "<IPython.core.display.HTML object>"
      ]
     },
     "metadata": {},
     "output_type": "display_data"
    },
    {
     "data": {
      "text/html": [
       "\n",
       "        <style> \n",
       "        body {\n",
       "            font-family: Arial, sans-serif;\n",
       "            font-size: larger;\n",
       "        }\n",
       "        .box_highlighted {\n",
       "            background-color: #ffb;\n",
       "            border: 1px solid #b53;\n",
       "        }\n",
       "        .highlight{\n",
       "            background-color: yellow;\n",
       "        }\n",
       "        .lighthigh{\n",
       "            background-color: green;\n",
       "        }\n",
       "        #testList {                                           /* List in data Section */\n",
       "            list-style-type: none;\n",
       "            padding-left: 0;\n",
       "            margin: 0;\n",
       "        }\n",
       "        li.dataPoint{\n",
       "            font-size: smaller;\n",
       "            overflow: hidden;\n",
       "            white-space: nowrap;\n",
       "            text-overflow: ellipsis;\n",
       "        }\n",
       "        li.dataPoint.clicked{\n",
       "            overflow: visible;\n",
       "            white-space: normal;\n",
       "        }\n",
       "        li.dataPoint:nth-child(odd){                          /* Alternating list item color */\n",
       "            background: #A0A0A4;\n",
       "        }\n",
       "        table.xaxis {                                         /* X-axis of table */\n",
       "            table-layout: auto;\n",
       "            width: 750px;\n",
       "            margin-left: 26px !important;\n",
       "            text-align: center;\n",
       "        }\n",
       "        td.xlabel {\n",
       "            text-align: center;\n",
       "        }\n",
       "        table.yaxis {                                         /* Y-axis of table */\n",
       "            float: left;\n",
       "            display: inline;\n",
       "            table-layout: auto;\n",
       "            height: 750px;\n",
       "            writing-mode: sideways-lr;\n",
       "        }\n",
       "        td.ylabel {\n",
       "            text-align: center;\n",
       "        }\n",
       "        #review{                                              /* Data Section */\n",
       "            border:1px solid blue;\n",
       "            padding: 5px;\n",
       "            float: left;\n",
       "            width: 750px;\n",
       "            height: 500px;\n",
       "            background-color: white;\n",
       "            margin: 20px;\n",
       "            overflow: scroll;\n",
       "            }\n",
       "        #matrix{\n",
       "            border:1px solid blue;\n",
       "            padding: 5px;\n",
       "            float: left;\n",
       "            width: 750px;\n",
       "            display: inline;\n",
       "        }\n",
       "        #slider {\n",
       "          -webkit-appearance: none;\n",
       "          width: 100%;\n",
       "          height: 15px;\n",
       "          border-radius: 5px;\n",
       "          background: #d3d3d3;\n",
       "          outline: none;\n",
       "          opacity: 0.7;\n",
       "          -webkit-transition: .2s;\n",
       "          transition: opacity .2s;\n",
       "        }\n",
       "        #slider::-webkit-slider-thumb {\n",
       "          -webkit-appearance: none;\n",
       "          appearance: none;\n",
       "          width: 25px;\n",
       "          height: 25px;\n",
       "          border-radius: 50%;\n",
       "          background: #4ca2af;\n",
       "          cursor: pointer;\n",
       "        }\n",
       "        #slider::-moz-range-thumb {\n",
       "          width: 25px;\n",
       "          height: 25px;\n",
       "          border-radius: 50%;\n",
       "          background: #4ca2af;\n",
       "          cursor: pointer;\n",
       "        }\n",
       "     </style>\n",
       "        <h1> Interactive Confusion Matrix </h1>\n",
       "        <h3 id=\"confidence_setting\"> Confidence: 0.5 </h3>\n",
       "        <input class=\"slider\" id=\"confidence_slider\" type=\"range\" min=\"0\" max=\"1\" step=\".1\" value=\".5\"/>\n",
       "        <h3 id=\"epoch_setting\"> Epoch: 1 </h3>\n",
       "        <input class=\"slider\" id=\"epoch_slider\" type=\"range\" min=\"1\" max=\"20\" step=\"1\" value=\"1\"/>\n",
       "        <table class=\"xaxis\">\n",
       "            <tr> </tr>\n",
       "        </table>\n",
       "        <div>\n",
       "        <div>\n",
       "            <div>\n",
       "                <table class=\"yaxis\">\n",
       "                    <tr> </tr>\n",
       "                </table>\n",
       "                <div id=\"matrix\"></div>\n",
       "                <div id=\"review\">\n",
       "                    Data For:\n",
       "                    <ul id = \"testList\"></ul>\n",
       "                </div>\n",
       "            </div>\n",
       "        </div>\n",
       "        <script> \n",
       "        /*--------------------------------------------------------------------------------\n",
       "        Function: extractTypes\n",
       "        Behavior: Identifies what different types each data point can be identified as based\n",
       "            off of the 'true_label' attribute in JSON file.\n",
       "        Input: JSON file\n",
       "        Returns: Returns array of possible values for 'Test Label'.\n",
       "        --------------------------------------------------------------------------------*/\n",
       "        function extractTypes(data){\n",
       "            var lookup = {};\n",
       "            var items = data;\n",
       "            var result = [];\n",
       "            for (var item, i=0; item = items[i++];){\n",
       "                var name = item['Test Label'];\n",
       "                if(!(name in lookup)){\n",
       "                    lookup[name] = 1;\n",
       "                    result.push(name);\n",
       "                }\n",
       "            }\n",
       "            return result.sort();\n",
       "        }\n",
       "\n",
       "        /*--------------------------------------------------------------------------------\n",
       "        Function: fetchDataWindowResults\n",
       "        Behavior: Fetches subset of 'd' variable to be displayed in 'Data' window\n",
       "        Input: 'd' variable, testLabel, predLabel, epoch, conf\n",
       "        Returns: Subset of 'd' variable formatted the same as 'd'\n",
       "        --------------------------------------------------------------------------------*/\n",
       "        function fetchDataWindowResults(d, testLabel, predLabel, epoch, conf){\n",
       "            console.log(\"Visualization: Calling fetchDataWindowResults...\");\n",
       "            var fullDataSet = d;\n",
       "            var selectedTestLabel = testLabel;\n",
       "            var selectedPredictionLabel = predLabel;\n",
       "            var selectedEpoch = epoch;\n",
       "            var selectedConfMin = conf;\n",
       "            var selectedEntries = []\n",
       "            for (const dataPoint of Object.entries(d)){\n",
       "                var currentPrediction = dataPoint[1]['Test Prediction'][epoch];\n",
       "                var currentTestLabel = dataPoint[1]['Test Label'];\n",
       "                var currentSentence = dataPoint[1]['Test Sentence'];\n",
       "                var currentConfScore = dataPoint[1]['Test Confidence Score'][epoch];\n",
       "                var bestConfScore = Math.max.apply(Math, currentConfScore);\n",
       "                if(\n",
       "                currentPrediction == selectedPredictionLabel &&\n",
       "                currentTestLabel == selectedTestLabel &&\n",
       "                bestConfScore >= selectedConfMin){\n",
       "                    selectedEntries.push(dataPoint);\n",
       "                }\n",
       "            }\n",
       "            return selectedEntries;\n",
       "        }\n",
       "\n",
       "        /*--------------------------------------------------------------------------------\n",
       "        Function: addAxisLabels\n",
       "        Behavior: Adds x and y axis components to the DOM and text labels should be\n",
       "            placed next to div for matrix\n",
       "        Input: takes two string arrays, one for the x and one for the y axis\n",
       "        Returns: N/A\n",
       "        --------------------------------------------------------------------------------*/\n",
       "        function addAxisLabels(){\n",
       "            var xaxis_labels = ['0', '1', '2', '3', '4', '5', '6', '7', '8', '9']\n",
       "            var yaxis_labels = ['9', '8', '7', '6', '7', '6', '5', '4', '3', '2', '1', '0']\n",
       "            for(var i = 0; i < xaxis_labels.length; i++){\n",
       "                d3.select(\".xaxis\").selectAll(\"tr\").append(\"td\").text(xaxis_labels[i])\n",
       "                    .classed(\"xlabel\", true);\n",
       "            }\n",
       "            for(var i = 0; i < yaxis_labels.length; i++){\n",
       "                d3.select(\".yaxis\").selectAll(\"tr\").append(\"td\").text(yaxis_labels[i])\n",
       "                    .attr(\"height\", (750 / yaxis_labels.length)).classed(\"ylabel\", true);\n",
       "            }\n",
       "        }\n",
       "        addAxisLabels()                               // Calling function to add axis' to the DOM\n",
       "\n",
       "        /*--------------------------------------------------------------------------------\n",
       "        Function: fillMatrix\n",
       "        Behavior: Does the work of actually placing selected datapoints into 'rect' items\n",
       "            and inserting them into the matrix svg (redefines 'rect' variable)\n",
       "        Input: None\n",
       "        Output: None\n",
       "        --------------------------------------------------------------------------------*/\n",
       "        function fillMatrix(){\n",
       "            console.log(\"Debugging: Filling Matrix...\");\n",
       "            rect = svg.selectAll(\"rect\")                                                                                       // Defining rect as child of SVG\n",
       "                          .data(datasubset)\n",
       "                          .enter()\n",
       "                          .append(\"rect\");\n",
       "            /*--------------------------------------------------------------------------------\n",
       "            Format: d[trueLabel, predictedLabel, entryText, index, conf_scores]\n",
       "            --------------------------------------------------------------------------------*/\n",
       "            rect.attr(\"x\", function (d){                                                                                       // Define x coordinate to place rect\n",
       "                    var matrixnum = (parseInt(d[1][currentEpochSetting -1]) * tableDimension) + parseInt(d[0]);\n",
       "                    var inmatrixcol = counters[matrixnum] % blockStackDimension;\n",
       "                    counters[matrixnum]++;\n",
       "                    return (d[1][currentEpochSetting -1] * (cellDimension + marginBuffer)) + (inmatrixcol * (cubeDimension));\n",
       "                })\n",
       "                .attr(\"y\", function(d){                                                                                        // Define y coordinate to place rect\n",
       "                    var matrixnum = (parseInt(d[1][currentEpochSetting -1] * tableDimension) + parseInt(d[0]));\n",
       "                    var hm = Math.floor(ycounters[matrixnum]/blockStackDimension);\n",
       "                    ycounters[matrixnum]++;\n",
       "                    return (d[0] * (cellDimension + marginBuffer)) + (hm * (cubeDimension));\n",
       "                })\n",
       "                .attr(\"id\", function(d){                                                                                       // Define unique id of rect\n",
       "                    return \"rect\" + d[3];\n",
       "                })\n",
       "                .attr(\"width\", function(d){                                                                                    // Define width of rect\n",
       "                    return cubeDimension;\n",
       "                })\n",
       "                .attr(\"height\", function(d){                                                                                   // Define height of rect\n",
       "                    return cubeDimension;\n",
       "                })\n",
       "                .attr(\"opacity\", function(d){                                                                                  // Define opacity of rect\n",
       "                    return 1;\n",
       "                })\n",
       "                .attr(\"fill\", function(d){                                                                                     // Define color of rect\n",
       "                    return (\"black\");\n",
       "                })\n",
       "                .attr(\"class\", function(d){                                                                                    // Define class of rect ( currently unused )\n",
       "                    predicted_label = \"predicted_label_\" + d[1][currentEpochSetting -1];\n",
       "                    true_label = \"true_label_\" + d[0];\n",
       "                    return true_label + \" \" + predicted_label;\n",
       "            });\n",
       "        }\n",
       "\n",
       "        /*--------------------------------------------------------------------------------\n",
       "        Function: clickedRect\n",
       "        Behavior: Activates when a rect is clicked, will find all rect's in same matrix\n",
       "            cell and color these blue, and all other cells black. This will then make a\n",
       "            call to fetchDataWindowResults to provide entries to the data window that\n",
       "            correspond with the entries to this cell\n",
       "        Input: Reference to clicked rect as well as the entire dataset to parse through\n",
       "        Returns: N/A\n",
       "        --------------------------------------------------------------------------------*/\n",
       "        function clickedRect(d_on, d){\n",
       "            var actual = d_on[0];\n",
       "            var prediction = d_on[1][currentEpochSetting-1];\n",
       "            var selectedDataSet = fetchDataWindowResults(d, actual, prediction,                                                 // Fetch data points for selected cell\n",
       "                (currentEpochSetting - 1), currentConfSetting);\n",
       "            d3.select('#matrix').select('svg').selectAll('rect').style('fill', \"black\");\n",
       "            // d3.selectAll('rect').style('fill', \"black\");                                                                        // Selecting all rects and coloring black\n",
       "            d3.selectAll('rect')                                                                                                // Coloring rects in selected quadrent blue\n",
       "                .filter(function(d) {\n",
       "                    if( d[0] == actual && d[1][currentEpochSetting-1] == prediction)\n",
       "                        return 1;\n",
       "                    else\n",
       "                        return 0;\n",
       "                })\n",
       "                .style('fill', \"blue\");\n",
       "            var data_section_title = \"Data for: Label (\" + d_on[0] + \") Prediction (\" + d_on[1][currentEpochSetting-1] + \")\";\n",
       "            d3.select('#review').text(data_section_title);                                                                      // Updating title of 'Data' window\n",
       "            d3.select('#review').append(\"ul\").attr(\"id\", \"testList\")                                                            // Creating a new list to display\n",
       "            d3.select(\"#testList\").selectAll(\"li\").remove();                                                                    // Removing all old list items\n",
       "            for (var i = 0; i < selectedDataSet.length; i++){                                                                   // Add list entries for 'Sentence' and Confidence score of selected data\n",
       "                var tableRowData = selectedDataSet[i][1];\n",
       "                var dataPointString = \" Confidence Score: \" +  tableRowData['Test Confidence Score'][currentEpochSetting - 1] +\n",
       "                    \" Input Data: \" + tableRowData['Test Sentence']\n",
       "                d3.select(\"#testList\").append(\"li\").text(dataPointString).classed(\"dataPoint\", true);\n",
       "            }\n",
       "            d3.selectAll(\".dataPoint\").on('click', function(){                                                                  // View overflowed data on click\n",
       "                d3.selectAll(\".dataPoint\").classed(\"clicked\", false);\n",
       "                d3.select(this).classed(\"clicked\", true);\n",
       "            });\n",
       "        }\n",
       "\n",
       "        /*--------------------------------------------------------------------------------\n",
       "        Function: emptyMatrix\n",
       "        Behavior: Empties out entire confusion matrix of any rect's, as well as resets\n",
       "            counters used when placing in new rects\n",
       "        Input: N/A\n",
       "        Returns: N/A\n",
       "        --------------------------------------------------------------------------------*/\n",
       "        function emptyMatrix(){\n",
       "            counters = new Array(tableDimension * tableDimension).fill(0);\n",
       "            ycounters = new Array(tableDimension * tableDimension).fill(0);\n",
       "            svg.selectAll(\"*\").remove();\n",
       "        }\n",
       "\n",
       "        /*--------------------------------------------------------------------------------\n",
       "        Function: refineChoice\n",
       "        Behavior: Filters the dataset referenced when adding rect's to the matrix to only\n",
       "            include data that has a confidence score greater than that selected on the\n",
       "            slider.\n",
       "        Input: N/A\n",
       "        Returns: N/A\n",
       "        --------------------------------------------------------------------------------*/\n",
       "        function refineChoice(){\n",
       "            datasubset = [];\n",
       "            for( var i = 0; i < dataset.length; i++ ){\n",
       "                datapoint = dataset[i];\n",
       "                cScore = Math.max.apply(Math, dataset[i][4][currentEpochSetting-1]);\n",
       "                if( cScore >= currentConfSetting ){\n",
       "                    datasubset.push(datapoint);\n",
       "                }\n",
       "            }\n",
       "        }\n",
       "\n",
       "        /*--------------------------------------------------------------------------------\n",
       "        GLOBAL VARIABLES: DECLARATIONS\n",
       "        --------------------------------------------------------------------------------*/\n",
       "        console.log(\"Visualization: Running JavaScript...\");\n",
       "        var dname = \"libraries/stored_results/neural_network_img.json\";              // Path to local JSON file storing data\n",
       "        var rawJSONData = null;                       // Data from JSON read operation\n",
       "        var currentConfSetting = .5;                  // Set confidence score minimum to default\n",
       "        var currentEpochSetting = 1;                  // Set epoch setting to default\n",
       "        var lastEpochIndex = 0;                       // Max value that epoch slider can reach\n",
       "        var totalItems = null;                        // Total number of boxes that should appear\n",
       "        var possibleOutputValues = null;              // Possible values that predictions may produce\n",
       "        var tableDimension = null;                    // Dimensions of table (square so x and y are same)\n",
       "        var dataset = []                              // JSON is read into this array\n",
       "        var datasubset = []                           // Selected values from dataset\n",
       "        var table = null;                             // Reference for how many boxes should be in each matrix cell\n",
       "        var svg = null;                               // SVG graphic\n",
       "        var rect = null;                              // Rectangles which are put into above graphic\n",
       "        var w = 750;                                  // Width of matrix\n",
       "        var h = 750;                                  // Height of matrix\n",
       "        var counters = null;                          // Current 'x' position when placing rects\n",
       "        var ycounters = null;                         // Curent 'y' position when placing rects\n",
       "        var cellDimension = null;                     // Height and width to make each cell on matrix\n",
       "        var blockStackDimension = null;               // How many cubes to place on a single row in matrix\n",
       "        var marginBuffer = null;                      // How much room to leave between cells in matrix\n",
       "        var cubeDimension = null;                     // Dimensions of each rect\n",
       "\n",
       "        /*--------------------------------------------------------------------------------\n",
       "        Creating Visualization / Main\n",
       "        --------------------------------------------------------------------------------*/\n",
       "        d3.json( \"libraries/stored_results/neural_network_img.json\", function(d) {\n",
       "            rawJSONData = d;                                                                               // Storing JSON after read operation\n",
       "            /*--------------------------------------------------------------------------------\n",
       "            GLOBAL VARIABLES: DEFINITIONS\n",
       "            --------------------------------------------------------------------------------*/\n",
       "            totalItems = Object.keys(d).length                                                             // Defining totalItems\n",
       "            possibleOutputValues = extractTypes(d);                                                        // Defining possibleOutputValues\n",
       "            tableDimension = possibleOutputValues.length;                                                  // Defining tableDimension\n",
       "            /* NOTE: LIMITS AMOUNT OF DATA USED\n",
       "            if( totalItems > 2000 ){\n",
       "                var sliced = [];\n",
       "                for( var i = 0; i < 2000; i++ ){\n",
       "                    sliced[i] = rawJSONData[i];\n",
       "                }\n",
       "                rawJSONData = sliced;\n",
       "                d = sliced;\n",
       "                totalItems = 2000;\n",
       "            }\n",
       "            */\n",
       "            table = new Array(tableDimension);                                                             // Initializing table\n",
       "            for(var i=0; i<tableDimension; i++){\n",
       "                table[i] = new Array(tableDimension);\n",
       "                for(var j=0; j<tableDimension; j++){\n",
       "                    table[i][j] = 0;\n",
       "                }\n",
       "            }\n",
       "            lastEpochIndex = d[0]['Num Epochs']                                                            // Defining lastEpochIndex\n",
       "            d3.select(\"#epoch_slider\").attr(\"max\", lastEpochIndex);                                        // Embedding lastEpochIndex\n",
       "            for(var jsonEntry, i=0; jsonEntry = d[i++];){                                                  // Storing JSON data in memory\n",
       "                var index = i;\n",
       "                var entryText = jsonEntry[\"Test Sentence\"];\n",
       "                var confidenceScore = jsonEntry[\"Test Confidence Score\"];\n",
       "                var trueLabel = jsonEntry[\"Test Label\"];\n",
       "                var predictedLabel = jsonEntry[\"Test Prediction\"];\n",
       "                var tableXCoordinate = possibleOutputValues.indexOf(predictedLabel[currentEpochSetting-1]); //Predicted\n",
       "                var tableYCoordinate = possibleOutputValues.indexOf(trueLabel); // Actual\n",
       "                table[tableXCoordinate][tableYCoordinate]+=1;\n",
       "                dataset.push([trueLabel, predictedLabel, entryText, index, confidenceScore]);\n",
       "            }\n",
       "            svg = d3.select(\"body\")                                                                        // Defining svg\n",
       "                        .select(\"#matrix\")\n",
       "                        .append(\"svg\")\n",
       "                        .attr(\"width\", w)\n",
       "                        .attr(\"height\", h);\n",
       "            counters = new Array(tableDimension * tableDimension).fill(0);                                 // Defining conters\n",
       "            ycounters = new Array(tableDimension * tableDimension).fill(0);                                // Defining ycounters\n",
       "            cellDimension = h / tableDimension;                                                            // Defining celldimension\n",
       "            blockStackDimension = Math.round(Math.sqrt(totalItems)) + 1;                                   // Defining blockStackDimension\n",
       "            marginBuffer = 5;                                                                              // Defining marginBuffer\n",
       "            cubeDimension = ((cellDimension - marginBuffer) / blockStackDimension);                        // Defining cubeDimension\n",
       "            /*--------------------------------------------------------------------------------\n",
       "            INITIALIZING MATRIX\n",
       "            --------------------------------------------------------------------------------*/\n",
       "            refineChoice();                                                                                // Filter based on default confidence score\n",
       "            fillMatrix();                                                                                  // Place rects on matrix\n",
       "            rect.on(\"click\",function(d_on){ clickedRect(d_on, d) });                                       // Define 'click' behavior\n",
       "            /*--------------------------------------------------------------------------------\n",
       "            Function: Slider Re-Draw\n",
       "            Behavior: This d3 code will redraw each time there is a change in the slider.\n",
       "            Input: None\n",
       "            Returns: N/A\n",
       "            --------------------------------------------------------------------------------*/\n",
       "            d3.selectAll(\".slider\").on(\"change\", function() {\n",
       "                if(this.id == \"confidence_slider\"){\n",
       "                    currentConfSetting = this.value;\n",
       "                }\n",
       "                if(this.id == \"epoch_slider\"){\n",
       "                    currentEpochSetting = this.value;\n",
       "                }\n",
       "                d3.select(\"#confidence_setting\").text(\"Confidence: \" + currentConfSetting);                    // Update confidence slider header to reflect change\n",
       "                d3.select(\"#epoch_setting\").text(\"Epoch: \" + currentEpochSetting);                             // Update epoch slider header to reflect change\n",
       "                emptyMatrix();                                                                                 // Remove all current rects from matrix\n",
       "                refineChoice();                                                                                // Filter data for changes in min confidence score\n",
       "                fillMatrix();                                                                                  // Place new set of datapoints in matrix\n",
       "                rect.on(\"click\",function(d_on){ clickedRect(d_on, rawJSONData) });                             // Re-assign click function to rects\n",
       "            })\n",
       "        });\n",
       "\n",
       "     </script>\n",
       "        "
      ],
      "text/plain": [
       "<IPython.core.display.HTML object>"
      ]
     },
     "metadata": {},
     "output_type": "display_data"
    }
   ],
   "source": [
    "import libraries.mlvislib as mlvs\n",
    "cm = mlvs.ConfusionMatrix(full_path, x_labels=[\"0\", \"1\", \"2\", \"3\", \"4\", \"5\", \"6\", \"7\", \"8\", \"9\"],\n",
    "                          y_labels=[\"9\", \"8\", \"7\", \"6\", \"7\", \"6\", \"5\", \"4\", \"3\", \"2\", \"1\", \"0\"])\n",
    "cm.display()"
   ]
  },
  {
   "cell_type": "code",
   "execution_count": null,
   "metadata": {},
   "outputs": [],
   "source": []
  }
 ],
 "metadata": {
  "colab": {
   "collapsed_sections": [],
   "name": "neural_network_img.ipynb",
   "provenance": []
  },
  "kernelspec": {
   "display_name": "Python 3",
   "language": "python",
   "name": "python3"
  },
  "language_info": {
   "codemirror_mode": {
    "name": "ipython",
    "version": 3
   },
   "file_extension": ".py",
   "mimetype": "text/x-python",
   "name": "python",
   "nbconvert_exporter": "python",
   "pygments_lexer": "ipython3",
   "version": "3.9.4"
  }
 },
 "nbformat": 4,
 "nbformat_minor": 1
}
