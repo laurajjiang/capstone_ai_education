{
 "cells": [
  {
   "cell_type": "markdown",
   "metadata": {
    "id": "ItXfxkxvosLH"
   },
   "source": [
    "# Creating a Neural Network for Sentiment Classification\n",
    "\n"
   ]
  },
  {
   "cell_type": "markdown",
   "metadata": {
    "id": "Eg62Pmz3o83v"
   },
   "source": [
    "Text classification is the process of assigning tags or categories to text according to its content. It’s one of the fundamental tasks in natural language processing.\n",
    "\n",
    "The text we want to classify is given as input to an algorithm and the algorithm will then analyze the text’s content, before finally categorizing the input as one of the tags or categories previously given.\n",
    "\n",
    "Language and text can get very complicated which makes creating these algorithms difficult. Some things that make language difficult could be words that have multiple meanings, negation words (words such as not), slang, etc.\n",
    "\n",
    "For this notebook, we'll stick with a binary classification problem - a given sentence will either have a positive or negative sentiment behind it. We'll dive further into the dataset in a later section, but we will be using IMDB movie reviews."
   ]
  },
  {
   "source": [
    "# Set up data and imports\n",
    "\n",
    "## Library imports"
   ],
   "cell_type": "markdown",
   "metadata": {}
  },
  {
   "cell_type": "code",
   "execution_count": 3,
   "metadata": {
    "execution": {
     "iopub.execute_input": "2021-01-21T02:30:55.861328Z",
     "iopub.status.busy": "2021-01-21T02:30:55.860661Z",
     "iopub.status.idle": "2021-01-21T02:30:57.340057Z",
     "shell.execute_reply": "2021-01-21T02:30:57.340555Z"
    },
    "id": "IHTzYqKZ7auw"
   },
   "outputs": [
    {
     "name": "stdout",
     "output_type": "stream",
     "text": [
      "Defaulting to user installation because normal site-packages is not writeable\n",
      "Requirement already satisfied: patool in /home/owen/.local/lib/python3.9/site-packages (1.12)\n"
     ]
    }
   ],
   "source": [
    "!pip install -q tensorflow-hub\n",
    "!pip install patool"
   ]
  },
  {
   "cell_type": "code",
   "execution_count": 5,
   "metadata": {
    "colab": {
     "base_uri": "https://localhost:8080/"
    },
    "execution": {
     "iopub.execute_input": "2021-01-21T02:30:57.346597Z",
     "iopub.status.busy": "2021-01-21T02:30:57.345866Z",
     "iopub.status.idle": "2021-01-21T02:31:05.548690Z",
     "shell.execute_reply": "2021-01-21T02:31:05.549175Z"
    },
    "id": "2ew7HTbPpCJH",
    "outputId": "3fab584d-e995-457b-e721-b03b12b80bee"
   },
   "outputs": [
    {
     "name": "stdout",
     "output_type": "stream",
     "text": [
      "Version:  2.4.1\n",
      "Eager mode:  True\n",
      "Hub version:  0.12.0\n",
      "GPU is available\n"
     ]
    },
    {
     "data": {
      "text/html": [
       "<script data-require=\"d3@3.5.3\" data-semver=\"3.5.3\" src=\"//cdnjs.cloudflare.com/ajax/libs/d3/3.5.3/d3.js\"></script>"
      ],
      "text/plain": [
       "<IPython.core.display.HTML object>"
      ]
     },
     "metadata": {},
     "output_type": "display_data"
    }
   ],
   "source": [
    "import os\n",
    "import sys\n",
    "import numpy as np\n",
    "\n",
    "import tensorflow as tf\n",
    "import tensorflow_hub as hub\n",
    "\n",
    "module_path = os.path.abspath(os.path.join('..'))\n",
    "if module_path not in sys.path:\n",
    "    sys.path.append(module_path)\n",
    "    \n",
    "import libraries.mlvislib as mlvs\n",
    "\n",
    "print(\"Version: \", tf.__version__)\n",
    "print(\"Eager mode: \", tf.executing_eagerly())\n",
    "print(\"Hub version: \", hub.__version__)\n",
    "print(\"GPU is\", \"available\" if tf.config.experimental.list_physical_devices(\"GPU\") else \"NOT AVAILABLE\")\n",
    "\n",
    "from IPython.core.display import HTML, display\n",
    "# Initializing D3 for the entire notebook (this fixes error requiring kernel to load twice)\n",
    "# (feel free to move this line to anywhere in notebook before visualizations)\n",
    "display(HTML('<script data-require=\"d3@3.5.3\" data-semver=\"3.5.3\" src=\"//cdnjs.cloudflare.com/ajax/libs/d3/3.5.3/d3.js\"></script>'))"
   ]
  },
  {
   "cell_type": "markdown",
   "metadata": {
    "id": "iAsKG535pHep"
   },
   "source": [
    "## Load the dataset\n",
    "\n",
    "We'll use the [IMDB dataset](https://www.tensorflow.org/api_docs/python/tf/keras/datasets/imdb), a file of 50,000 movie reviews from the [Internet Movie Database](https://www.imdb.com/). You can find the original dataset on [imdb reviews](https://www.tensorflow.org/datasets/catalog/imdb_reviews) or on [TensorFlow datasets](https://www.tensorflow.org/datasets). \n",
    "\n",
    "The dataset is already split up for us with the first 25,000 samples for training purposes and the latter 25,000 samples for testing. We will further break this down by saving 40% of the original training set for validation to ensure that our model is not overfitted (learning to only recognize our provided data) from our training data."
   ]
  },
  {
   "cell_type": "code",
   "execution_count": 6,
   "metadata": {
    "colab": {
     "base_uri": "https://localhost:8080/",
     "height": 212
    },
    "execution": {
     "iopub.execute_input": "2021-01-21T02:31:05.554665Z",
     "iopub.status.busy": "2021-01-21T02:31:05.554003Z",
     "iopub.status.idle": "2021-01-21T02:32:00.389224Z",
     "shell.execute_reply": "2021-01-21T02:32:00.388420Z"
    },
    "id": "zXXx5Oc3pOmN",
    "outputId": "56456b56-a9d7-46b4-ffb2-2e90c3cc59c8"
   },
   "outputs": [
    {
     "data": {
      "text/html": [
       "<div>\n",
       "<style scoped>\n",
       "    .dataframe tbody tr th:only-of-type {\n",
       "        vertical-align: middle;\n",
       "    }\n",
       "\n",
       "    .dataframe tbody tr th {\n",
       "        vertical-align: top;\n",
       "    }\n",
       "\n",
       "    .dataframe thead th {\n",
       "        text-align: right;\n",
       "    }\n",
       "</style>\n",
       "<table border=\"1\" class=\"dataframe\">\n",
       "  <thead>\n",
       "    <tr style=\"text-align: right;\">\n",
       "      <th></th>\n",
       "      <th>review</th>\n",
       "      <th>sentiment</th>\n",
       "    </tr>\n",
       "  </thead>\n",
       "  <tbody>\n",
       "    <tr>\n",
       "      <th>0</th>\n",
       "      <td>One of the other reviewers has mentioned that ...</td>\n",
       "      <td>positive</td>\n",
       "    </tr>\n",
       "    <tr>\n",
       "      <th>1</th>\n",
       "      <td>A wonderful little production. &lt;br /&gt;&lt;br /&gt;The...</td>\n",
       "      <td>positive</td>\n",
       "    </tr>\n",
       "    <tr>\n",
       "      <th>2</th>\n",
       "      <td>I thought this was a wonderful way to spend ti...</td>\n",
       "      <td>positive</td>\n",
       "    </tr>\n",
       "    <tr>\n",
       "      <th>3</th>\n",
       "      <td>Basically there's a family where a little boy ...</td>\n",
       "      <td>negative</td>\n",
       "    </tr>\n",
       "    <tr>\n",
       "      <th>4</th>\n",
       "      <td>Petter Mattei's \"Love in the Time of Money\" is...</td>\n",
       "      <td>positive</td>\n",
       "    </tr>\n",
       "  </tbody>\n",
       "</table>\n",
       "</div>"
      ],
      "text/plain": [
       "                                              review sentiment\n",
       "0  One of the other reviewers has mentioned that ...  positive\n",
       "1  A wonderful little production. <br /><br />The...  positive\n",
       "2  I thought this was a wonderful way to spend ti...  positive\n",
       "3  Basically there's a family where a little boy ...  negative\n",
       "4  Petter Mattei's \"Love in the Time of Money\" is...  positive"
      ]
     },
     "execution_count": 6,
     "metadata": {},
     "output_type": "execute_result"
    }
   ],
   "source": [
    "import ipywidgets as widgets\n",
    "import pandas as pd\n",
    "\n",
    "module_path = os.path.abspath(os.path.join('..'))\n",
    "if module_path not in sys.path:\n",
    "    sys.path.append(module_path)\n",
    "# import patoolib\n",
    "\n",
    "# patoolib.extract_archive(\"dataset/IMDB Dataset.csv.zip\", outdir='/dataset/')\n",
    "dataset = pd.read_csv(\"dataset/IMDB Dataset.csv\")\n",
    "dataset = dataset[:25000]\n",
    "\n",
    "dataset.isnull().values.any()\n",
    "dataset.shape\n",
    "dataset.head()"
   ]
  },
  {
   "cell_type": "markdown",
   "metadata": {
    "id": "l50X3GfjpU4r"
   },
   "source": [
    "## Explore the data \n",
    "\n",
    "Let's take a moment to understand the format of the data. Each example is a sentence representing the movie review and a corresponding label. The sentence is not preprocessed in any way. The label is an integer value of either 0 or 1, where 0 is a negative review, and 1 is a positive review.\n",
    "\n",
    "Let's print the first 10 examples."
   ]
  },
  {
   "cell_type": "code",
   "execution_count": 7,
   "metadata": {
    "colab": {
     "base_uri": "https://localhost:8080/",
     "height": 447
    },
    "id": "rmexS4Gt8BnN",
    "outputId": "2c7592ea-ef80-42cc-ecdd-ac855cc76b0d"
   },
   "outputs": [
    {
     "data": {
      "text/plain": [
       "0    One of the other reviewers has mentioned that ...\n",
       "1    A wonderful little production. <br /><br />The...\n",
       "2    I thought this was a wonderful way to spend ti...\n",
       "3    Basically there's a family where a little boy ...\n",
       "4    Petter Mattei's \"Love in the Time of Money\" is...\n",
       "5    Probably my all-time favorite movie, a story o...\n",
       "6    I sure would like to see a resurrection of a u...\n",
       "7    This show was an amazing, fresh & innovative i...\n",
       "8    Encouraged by the positive comments about this...\n",
       "Name: review, dtype: object"
      ]
     },
     "execution_count": 7,
     "metadata": {},
     "output_type": "execute_result"
    },
    {
     "data": {
      "image/png": "[encoded data removed]",
      "text/plain": [
       "<Figure size 432x288 with 1 Axes>"
      ]
     },
     "metadata": {
      "needs_background": "light"
     },
     "output_type": "display_data"
    }
   ],
   "source": [
    "import seaborn as sns\n",
    "\n",
    "sns.countplot(x='sentiment', data=dataset)\n",
    "dataset[\"review\"][:9]"
   ]
  },
  {
   "cell_type": "markdown",
   "metadata": {
    "id": "h5bmxzE0Fobd"
   },
   "source": [
    "This is where we'll split up our training set into a proper training set and a validation set."
   ]
  },
  {
   "cell_type": "code",
   "execution_count": 8,
   "metadata": {
    "colab": {
     "base_uri": "https://localhost:8080/"
    },
    "execution": {
     "iopub.execute_input": "2021-01-21T02:32:00.394689Z",
     "iopub.status.busy": "2021-01-21T02:32:00.393954Z",
     "iopub.status.idle": "2021-01-21T02:32:00.443785Z",
     "shell.execute_reply": "2021-01-21T02:32:00.444242Z"
    },
    "id": "QtTS4kpEpjbi",
    "outputId": "8a23a4bc-6e5a-4bf6-c55e-b0c0e50ac045"
   },
   "outputs": [
    {
     "name": "stdout",
     "output_type": "stream",
     "text": [
      "18930    \"Wired\" would have to rate as one of the ten w...\n",
      "2791     A 'Wes Craven presents' movie from 1995, direc...\n",
      "388      A lovely little B picture with all the usual J...\n",
      "22764    I am going to go out on a limb, and actually d...\n",
      "24934    To put in simple words or rather a word, would...\n",
      "                               ...                        \n",
      "21575    I enjoyed a lot watching this movie. It has a ...\n",
      "5390     I can't knock this film too terribly, because ...\n",
      "860      This production was quite a surprise for me. I...\n",
      "15795    This is a decent movie. Although little bit sh...\n",
      "23654    Another very good Mann flick thanks to the fat...\n",
      "Name: review, Length: 15000, dtype: object\n"
     ]
    }
   ],
   "source": [
    "from sklearn.model_selection import train_test_split\n",
    "\n",
    "y = dataset['sentiment']\n",
    "\n",
    "y = np.array(list(map(lambda x: 1 if x==\"positive\" else 0, y)))\n",
    "\n",
    "x_train, x_test, y_train, y_test = train_test_split(dataset['review'], y, test_size=0.4, random_state=42)\n",
    "\n",
    "print(x_train)"
   ]
  },
  {
   "cell_type": "markdown",
   "metadata": {
    "id": "LLC02j2g-llC"
   },
   "source": [
    "## Build the model\n",
    "\n",
    "Our model will still look like your typical neural network model with one new addition. Usually, there's some additional processing that has to occur in order for our sentences to be properly accepted by our model (vectorization, normalization, etc.) Another way that we can get around this is using a pre-trained layer that will embed our sentences for us. \n",
    "\n",
    "\n",
    "Our model will use a **pre-trained text embedding model** from [TensorFlow Hub](https://tfhub.dev) called [google/nnlm-en-dim50/2](https://tfhub.dev/google/nnlm-en-dim50/2).\n",
    "\n",
    "\n",
    "You can view other options for [text embedding models](https://tfhub.dev/s?module-type=text-embedding) here. \n",
    "\n",
    "We'll first just build the embedded model itself:"
   ]
  },
  {
   "cell_type": "code",
   "execution_count": 9,
   "metadata": {
    "execution": {
     "iopub.execute_input": "2021-01-21T02:32:00.458022Z",
     "iopub.status.busy": "2021-01-21T02:32:00.456993Z",
     "iopub.status.idle": "2021-01-21T02:32:09.087601Z",
     "shell.execute_reply": "2021-01-21T02:32:09.088050Z"
    },
    "id": "_NUbzVeYkgcO"
   },
   "outputs": [],
   "source": [
    "embedding = \"https://tfhub.dev/google/nnlm-en-dim50/2\"\n",
    "# universal_sentence_embedding = \"https://tfhub.dev/google/universal-sentence-encoder/4\"\n",
    "# hub_layer = hub.KerasLayer(universal_sentence_embedding, input_shape=[], \n",
    "#                            dtype=tf.string, trainable=True)\n",
    "hub_layer = hub.KerasLayer(embedding, input_shape=[], \n",
    "                           dtype=tf.string, trainable=True)"
   ]
  },
  {
   "cell_type": "markdown",
   "metadata": {
    "id": "dfSbV6igl1EH"
   },
   "source": [
    "And here's the rest of our model, complete with our standard loss and optimization functions."
   ]
  },
  {
   "cell_type": "code",
   "execution_count": 10,
   "metadata": {
    "colab": {
     "base_uri": "https://localhost:8080/"
    },
    "execution": {
     "iopub.execute_input": "2021-01-21T02:32:09.101252Z",
     "iopub.status.busy": "2021-01-21T02:32:09.099886Z",
     "iopub.status.idle": "2021-01-21T02:32:09.513013Z",
     "shell.execute_reply": "2021-01-21T02:32:09.513480Z"
    },
    "id": "xpKOoWgu-llD",
    "outputId": "aac8311f-c33e-4585-f2de-8374e887642d"
   },
   "outputs": [
    {
     "name": "stdout",
     "output_type": "stream",
     "text": [
      "Model: \"sequential\"\n",
      "_________________________________________________________________\n",
      "Layer (type)                 Output Shape              Param #   \n",
      "=================================================================\n",
      "keras_layer (KerasLayer)     (None, 50)                48190600  \n",
      "_________________________________________________________________\n",
      "dense (Dense)                (None, 128)               6528      \n",
      "_________________________________________________________________\n",
      "dense_1 (Dense)              (None, 1)                 129       \n",
      "=================================================================\n",
      "Total params: 48,197,257\n",
      "Trainable params: 48,197,257\n",
      "Non-trainable params: 0\n",
      "_________________________________________________________________\n"
     ]
    }
   ],
   "source": [
    "# from keras.models import Sequential, Model\n",
    "# from keras.layers.core import Activation, Dropout, Dense\n",
    "# from keras.layers import Flatten\n",
    "# from keras.layers import GlobalMaxPooling1D\n",
    "# from keras.layers.embeddings import Embedding\n",
    "\n",
    "# model = Sequential()\n",
    "# model.add(hub_layer)\n",
    "# \n",
    "# model.add(Dense(128, activation='relu'))\n",
    "# model.add(Dense(1))\n",
    "\n",
    "# model.summary() \n",
    "\n",
    "model = tf.keras.Sequential([\n",
    "    hub_layer,\n",
    "    # Adjusting the below value will change the amount of 'bars' loaded into the Barcode Vis\n",
    "    tf.keras.layers.Dense(128, activation=tf.nn.relu, name='hidden1'),\n",
    "    tf.keras.layers.Dense(1, name='output')\n",
    "])\n",
    "\n",
    "model.summary()"
   ]
  },
  {
   "cell_type": "code",
   "execution_count": 11,
   "metadata": {
    "execution": {
     "iopub.execute_input": "2021-01-21T02:32:09.528133Z",
     "iopub.status.busy": "2021-01-21T02:32:09.527041Z",
     "iopub.status.idle": "2021-01-21T02:32:09.536804Z",
     "shell.execute_reply": "2021-01-21T02:32:09.537223Z"
    },
    "id": "Mr0GP-cQ-llN"
   },
   "outputs": [],
   "source": [
    "model.compile(optimizer='sgd',\n",
    "              loss='categorical_crossentropy',\n",
    "              metrics=['accuracy'])"
   ]
  },
  {
   "cell_type": "markdown",
   "metadata": {
    "id": "35jv_fzP-llU"
   },
   "source": [
    "## Train the model\n",
    "\n",
    "As always, after we've built our model the next step is to start training our model. \n",
    "\n",
    "Here, we define a callback function used to extact data from the model as it trains for use in a visualization later on in the notebook."
   ]
  },
  {
   "cell_type": "code",
   "execution_count": 12,
   "metadata": {},
   "outputs": [],
   "source": [
    "import libraries.extractioncallback as excb\n",
    "\n",
    "extractor = excb.CallbackDataExtractor(\n",
    "    model = model,\n",
    "    layer = 1,\n",
    "    validation_data = (x_test, y_test),\n",
    "    rec_int_values = True,\n",
    "    is_bin = True\n",
    ")"
   ]
  },
  {
   "cell_type": "code",
   "execution_count": 13,
   "metadata": {
    "colab": {
     "base_uri": "https://localhost:8080/"
    },
    "execution": {
     "iopub.execute_input": "2021-01-21T02:32:09.542485Z",
     "iopub.status.busy": "2021-01-21T02:32:09.541473Z",
     "iopub.status.idle": "2021-01-21T02:32:27.978728Z",
     "shell.execute_reply": "2021-01-21T02:32:27.978091Z"
    },
    "id": "tXSGrjWZ-llW",
    "outputId": "3384f82c-91d0-4d89-ea09-0cf2486a2f68",
    "scrolled": false
   },
   "outputs": [
    {
     "name": "stdout",
     "output_type": "stream",
     "text": [
      "Epoch 1/10\n",
      " 6/24 [======>.......................] - ETA: 1s - loss: 0.6864 - accuracy: 0.4830WARNING:tensorflow:Callback method `on_train_batch_end` is slow compared to the batch time (batch time: 0.0502s vs `on_train_batch_end` time: 0.0522s). Check your callbacks.\n"
     ]
    },
    {
     "name": "stderr",
     "output_type": "stream",
     "text": [
      "WARNING:tensorflow:Callback method `on_train_batch_end` is slow compared to the batch time (batch time: 0.0502s vs `on_train_batch_end` time: 0.0522s). Check your callbacks.\n"
     ]
    },
    {
     "name": "stdout",
     "output_type": "stream",
     "text": [
      "24/24 [==============================] - 4s 125ms/step - loss: 0.6648 - accuracy: 0.5085 - val_loss: 0.5757 - val_accuracy: 0.6617\n",
      "Epoch 2/10\n",
      "24/24 [==============================] - 3s 109ms/step - loss: 0.5313 - accuracy: 0.7014 - val_loss: 0.4491 - val_accuracy: 0.7747\n",
      "Epoch 3/10\n",
      "24/24 [==============================] - 3s 114ms/step - loss: 0.3687 - accuracy: 0.8403 - val_loss: 0.3664 - val_accuracy: 0.8283\n",
      "Epoch 4/10\n",
      "24/24 [==============================] - 3s 110ms/step - loss: 0.2406 - accuracy: 0.9055 - val_loss: 0.3343 - val_accuracy: 0.8480\n",
      "Epoch 5/10\n",
      "24/24 [==============================] - 3s 113ms/step - loss: 0.1565 - accuracy: 0.9432 - val_loss: 0.3307 - val_accuracy: 0.8540\n",
      "Epoch 6/10\n",
      "24/24 [==============================] - 3s 109ms/step - loss: 0.0990 - accuracy: 0.9703 - val_loss: 0.3441 - val_accuracy: 0.8540\n",
      "Epoch 7/10\n",
      "24/24 [==============================] - 3s 112ms/step - loss: 0.0633 - accuracy: 0.9857 - val_loss: 0.3565 - val_accuracy: 0.8577\n",
      "Epoch 8/10\n",
      "24/24 [==============================] - 3s 111ms/step - loss: 0.0442 - accuracy: 0.9919 - val_loss: 0.4416 - val_accuracy: 0.8543\n",
      "Epoch 9/10\n",
      "24/24 [==============================] - 3s 110ms/step - loss: 0.0409 - accuracy: 0.9907 - val_loss: 0.4333 - val_accuracy: 0.8587\n",
      "Epoch 10/10\n",
      "24/24 [==============================] - 3s 110ms/step - loss: 0.0294 - accuracy: 0.9955 - val_loss: 0.4149 - val_accuracy: 0.8597\n"
     ]
    }
   ],
   "source": [
    "history = model.fit(x_train, y_train, batch_size=512, epochs=10, verbose=1, validation_split=0.2, shuffle=False, callbacks=[extractor])"
   ]
  },
  {
   "cell_type": "code",
   "execution_count": 14,
   "metadata": {
    "scrolled": true
   },
   "outputs": [],
   "source": [
    "# epoch_output = extractor.get_testing_results()\n",
    "\n",
    "# extractor_predictions = extractor.get_stored_predictions()\n",
    "# edited_predictions = []\n",
    "# for epoch in extractor_predictions:\n",
    "#     epoch_predictions = []\n",
    "#     for item in epoch:\n",
    "#         epoch_predictions.append((item > .5).astype(\"int32\"))\n",
    "#     edited_predictions.append(epoch_predictions)\n",
    "\n",
    "# extractor.set_stored_predictions(edited_predictions)"
   ]
  },
  {
   "source": [
    "Now we can start to see how our model performed by looking at a few different metrics."
   ],
   "cell_type": "markdown",
   "metadata": {}
  },
  {
   "cell_type": "code",
   "execution_count": 15,
   "metadata": {
    "colab": {
     "base_uri": "https://localhost:8080/",
     "height": 481
    },
    "id": "DhrkmOwP1ssM",
    "outputId": "a827defe-8382-4ae2-9810-ba9af55c739e"
   },
   "outputs": [
    {
     "name": "stdout",
     "output_type": "stream",
     "text": [
      "              precision    recall  f1-score   support\n",
      "\n",
      "    negative       0.85      0.87      0.86      5002\n",
      "    positive       0.87      0.85      0.86      4998\n",
      "\n",
      "    accuracy                           0.86     10000\n",
      "   macro avg       0.86      0.86      0.86     10000\n",
      "weighted avg       0.86      0.86      0.86     10000\n",
      "\n"
     ]
    },
    {
     "data": {
      "text/plain": [
       "array([[1],\n",
       "       [0],\n",
       "       [0],\n",
       "       ...,\n",
       "       [1],\n",
       "       [0],\n",
       "       [0]], dtype=int32)"
      ]
     },
     "execution_count": 15,
     "metadata": {},
     "output_type": "execute_result"
    }
   ],
   "source": [
    "from sklearn.metrics import classification_report\n",
    "from sklearn.preprocessing import MinMaxScaler\n",
    "\n",
    "# make a prediction\n",
    "testingPredictions = (model.predict(x_test) > 0.5).astype(\"int32\")\n",
    "confidence_scores = model.predict(x_test, batch_size=512)\n",
    "\n",
    "# scaling confidence scores to range between 0 and 1 with MinMaxScaler \n",
    "scaler = MinMaxScaler(feature_range=[0, 1])\n",
    "scaler.fit(confidence_scores)\n",
    "confidence_scores = scaler.transform(confidence_scores)\n",
    "\n",
    "target_names = ['negative', 'positive']\n",
    "print(classification_report(y_test, testingPredictions, target_names=target_names))\n",
    "testingPredictions"
   ]
  },
  {
   "cell_type": "code",
   "execution_count": 16,
   "metadata": {
    "colab": {
     "base_uri": "https://localhost:8080/",
     "height": 573
    },
    "id": "-waOkzl5Ifba",
    "outputId": "5beae3a7-9d87-4d4d-be6c-4deeb23c5b5e"
   },
   "outputs": [
    {
     "data": {
      "image/png": "[encoded data removed]",
      "text/plain": [
       "<Figure size 432x288 with 1 Axes>"
      ]
     },
     "metadata": {
      "needs_background": "light"
     },
     "output_type": "display_data"
    },
    {
     "data": {
      "image/png": "[encoded data removed]",
      "text/plain": [
       "<Figure size 432x288 with 1 Axes>"
      ]
     },
     "metadata": {
      "needs_background": "light"
     },
     "output_type": "display_data"
    }
   ],
   "source": [
    "import matplotlib.pyplot as plt\n",
    "\n",
    "plt.plot(history.history['accuracy'])\n",
    "plt.plot(history.history['val_accuracy'])\n",
    "\n",
    "plt.title('model accuracy')\n",
    "plt.ylabel('accuracy')\n",
    "plt.xlabel('epoch')\n",
    "plt.legend(['train','test'], loc='upper left')\n",
    "plt.show()\n",
    "\n",
    "plt.plot(history.history['loss'])\n",
    "plt.plot(history.history['val_loss'])\n",
    "\n",
    "plt.title('model loss')\n",
    "plt.ylabel('loss')\n",
    "plt.xlabel('epoch')\n",
    "plt.legend(['train','test'], loc='upper left')\n",
    "plt.show()"
   ]
  },
  {
   "cell_type": "markdown",
   "metadata": {
    "id": "9EEGuDVuzb5r"
   },
   "source": [
    "## Evaluate the model\n",
    "\n",
    "After our model has been trained, the last step is to evaluate our model on our test data set.\n"
   ]
  },
  {
   "cell_type": "code",
   "execution_count": 17,
   "metadata": {
    "colab": {
     "base_uri": "https://localhost:8080/"
    },
    "execution": {
     "iopub.execute_input": "2021-01-21T02:32:27.984454Z",
     "iopub.status.busy": "2021-01-21T02:32:27.983556Z",
     "iopub.status.idle": "2021-01-21T02:32:29.329122Z",
     "shell.execute_reply": "2021-01-21T02:32:29.329592Z"
    },
    "id": "zOMKywn4zReN",
    "outputId": "ad6f9bfd-cc73-462a-85a8-eea66ffc9ae6"
   },
   "outputs": [
    {
     "name": "stdout",
     "output_type": "stream",
     "text": [
      "313/313 - 1s - loss: 0.4100 - accuracy: 0.8604\n",
      "loss: 0.410\n",
      "accuracy: 0.860\n"
     ]
    }
   ],
   "source": [
    "results = model.evaluate(x_test, y_test, verbose=2)\n",
    "\n",
    "for name, value in zip(model.metrics_names, results):\n",
    "  print(\"%s: %.3f\" % (name, value))"
   ]
  },
  {
   "cell_type": "code",
   "execution_count": 18,
   "metadata": {
    "colab": {
     "base_uri": "https://localhost:8080/",
     "height": 295
    },
    "id": "WZ-VeZGPJdGC",
    "outputId": "4a3db1f8-dbbd-40d0-93aa-286212247e71",
    "scrolled": true
   },
   "outputs": [
    {
     "data": {
      "image/png": "[encoded data removed]",
      "text/plain": [
       "<Figure size 432x288 with 2 Axes>"
      ]
     },
     "metadata": {
      "needs_background": "light"
     },
     "output_type": "display_data"
    }
   ],
   "source": [
    "data = {'Actual':    y_test,\n",
    "        'Predicted': testingPredictions.reshape(len(y_test),)\n",
    "        }\n",
    "#print(testingLabels.reshape(len(testingLabels),1))\n",
    "df = pd.DataFrame(data, columns=['Actual','Predicted'])\n",
    "confusion_matrix = pd.crosstab(df['Actual'], df['Predicted'], rownames=['Actual'], colnames=['Predicted'])\n",
    "\n",
    "sns.heatmap(confusion_matrix, annot=True,cmap=\"YlGnBu\", fmt='d').set_title('Confusion Matrix of Testing')\n",
    "plt.show()"
   ]
  },
  {
   "cell_type": "code",
   "execution_count": 19,
   "metadata": {},
   "outputs": [],
   "source": [
    "epoch_output = extractor.get_testing_results()\n",
    "# round(float(epoch_output[0]['confidence_score'][1][0]), 3)"
   ]
  },
  {
   "cell_type": "code",
   "execution_count": 20,
   "metadata": {
    "scrolled": true
   },
   "outputs": [
    {
     "data": {
      "text/html": [
       "<script data-require=\"d3@3.5.3\" data-semver=\"3.5.3\" src=\"//cdnjs.cloudflare.com/ajax/libs/d3/3.5.3/d3.js\"></script>"
      ],
      "text/plain": [
       "<IPython.core.display.HTML object>"
      ]
     },
     "metadata": {},
     "output_type": "display_data"
    }
   ],
   "source": [
    "import json\n",
    "from IPython.core.display import HTML, display\n",
    "\n",
    "\n",
    "# Writing Epoch Data to JSON...\n",
    "output_directory = \"libraries/stored_results\"\n",
    "output_filename = \"sentiment_classification.json\"\n",
    "full_path = os.path.join(output_directory, output_filename)\n",
    "display(HTML('<script data-require=\"d3@3.5.3\" data-semver=\"3.5.3\" src=\"//cdnjs.cloudflare.com/ajax/libs/d3/3.5.3/d3.js\"></script>'))\n",
    "\n",
    "    \n",
    "# Revision of JSON writing...\n",
    "data = {}\n",
    "for i in range(len(epoch_output[0])):\n",
    "    data[i] = {}\n",
    "    data[i]['Num Epochs'] = len(epoch_output)\n",
    "    data[i]['Index'] = i\n",
    "    data[i]['Test Label'] = int(epoch_output[0]['actual'][i])\n",
    "    data[i]['Test Prediction'] = {}\n",
    "    data[i]['Test Confidence Score'] = {}\n",
    "    data[i]['Intermediate Values'] = {}\n",
    "    for j in range(len(epoch_output)):\n",
    "        data[i]['Test Prediction'][j] = int(epoch_output[j]['prediction'][i][0])\n",
    "        data[i]['Test Confidence Score'][j] = [round(float(epoch_output[j]['confidence_score'][i][0]), 3)]\n",
    "        data[i]['Intermediate Values'][j] = epoch_output[j]['intermediate_values'][i]\n",
    "    data[i]['Test Sentence'] = epoch_output[0]['input'][i]\n",
    "    \n",
    "    \n",
    "with open(full_path, 'w') as outfile:\n",
    "    json.dump(data, outfile, indent=4, sort_keys=False)"
   ]
  },
  {
   "cell_type": "code",
   "execution_count": 24,
   "metadata": {
    "scrolled": false
   },
   "outputs": [
    {
     "data": {
      "text/html": [
       "<script src=\"https://d3js.org/d3.v3.min.js\" charset=\"utf-8\"></script>"
      ],
      "text/plain": [
       "<IPython.core.display.HTML object>"
      ]
     },
     "metadata": {},
     "output_type": "display_data"
    },
    {
     "data": {
      "text/html": [
       "\n",
       "        <style> \n",
       "        body {\n",
       "            font-family: Arial, sans-serif;\n",
       "            font-size: larger;\n",
       "        }\n",
       "        .box_highlighted {\n",
       "            background-color: #ffb;\n",
       "            border: 1px solid #b53;\n",
       "        }\n",
       "        .highlight{\n",
       "            background-color: yellow;\n",
       "        }\n",
       "        .lighthigh{\n",
       "            background-color: green;\n",
       "        }\n",
       "        #testList {                                           /* List in data Section */\n",
       "            list-style-type: none;\n",
       "            padding-left: 0;\n",
       "            margin: 0;\n",
       "        }\n",
       "        li.dataPoint{\n",
       "            font-size: smaller;\n",
       "            overflow: hidden;\n",
       "            white-space: nowrap;\n",
       "            text-overflow: ellipsis;\n",
       "        }\n",
       "        li.dataPoint.clicked{\n",
       "            overflow: visible;\n",
       "            white-space: normal;\n",
       "        }\n",
       "        li.dataPoint:nth-child(odd){                          /* Alternating list item color */\n",
       "            background: #999;\n",
       "        }\n",
       "        table.xaxis {                                         /* X-axis of table */\n",
       "            table-layout: auto;\n",
       "            width: 750px;\n",
       "            margin-left: 26px !important;\n",
       "            text-align: center;\n",
       "        }\n",
       "        td.xlabel {\n",
       "            text-align: center;\n",
       "        }\n",
       "        table.yaxis {                                         /* Y-axis of table */\n",
       "            float: left;\n",
       "            display: inline;\n",
       "            table-layout: auto;\n",
       "            height: 750px;\n",
       "            writing-mode: sideways-lr;\n",
       "        }\n",
       "        td.ylabel {\n",
       "            text-align: center;\n",
       "        }\n",
       "        #review{                                              /* Data Section */\n",
       "            border:1px solid blue;\n",
       "            padding: 5px;\n",
       "            float: left;\n",
       "            width: 750px;\n",
       "            height: 500px;\n",
       "            background-color: white;\n",
       "            margin: 20px;\n",
       "            overflow: scroll;\n",
       "            }\n",
       "        #matrix{\n",
       "            border:1px solid blue;\n",
       "            padding: 5px;\n",
       "            float: left;\n",
       "            width: 750px;\n",
       "            display: inline;\n",
       "        }\n",
       "        #slider {\n",
       "          -webkit-appearance: none;\n",
       "          width: 100%;\n",
       "          height: 15px;\n",
       "          border-radius: 5px;\n",
       "          background: #d3d3d3;\n",
       "          outline: none;\n",
       "          opacity: 0.7;\n",
       "          -webkit-transition: .2s;\n",
       "          transition: opacity .2s;\n",
       "        }\n",
       "        #slider::-webkit-slider-thumb {\n",
       "          -webkit-appearance: none;\n",
       "          appearance: none;\n",
       "          width: 25px;\n",
       "          height: 25px;\n",
       "          border-radius: 50%;\n",
       "          background: #4ca2af;\n",
       "          cursor: pointer;\n",
       "        }\n",
       "        #slider::-moz-range-thumb {\n",
       "          width: 25px;\n",
       "          height: 25px;\n",
       "          border-radius: 50%;\n",
       "          background: #4ca2af;\n",
       "          cursor: pointer;\n",
       "        }\n",
       "     </style>\n",
       "        <h1> Interactive Confusion Matrix </h1>\n",
       "        <h3 id=\"confidence_setting\"> Confidence: 0.5 </h3>\n",
       "        <input class=\"slider\" id=\"confidence_slider\" type=\"range\" min=\"0\" max=\"1\" step=\".1\" value=\".5\"/>\n",
       "        <h3 id=\"epoch_setting\"> Epoch: 1 </h3>\n",
       "        <input class=\"slider\" id=\"epoch_slider\" type=\"range\" min=\"1\" max=\"20\" step=\"1\" value=\"1\"/>\n",
       "        <table class=\"xaxis\">\n",
       "            <tr> </tr>\n",
       "        </table>\n",
       "        <div>\n",
       "        <div>\n",
       "            <div>\n",
       "                <table class=\"yaxis\">\n",
       "                    <tr> </tr>\n",
       "                </table>\n",
       "                <div id=\"matrix\"></div>\n",
       "                <div id=\"review\">\n",
       "                    Data For:\n",
       "                    <ul id = \"testList\"></ul>\n",
       "                </div>\n",
       "            </div>\n",
       "        </div>\n",
       "        <script> \n",
       "        /*--------------------------------------------------------------------------------\n",
       "        Function: extractTypes\n",
       "        Behavior: Identifies what different types each data point can be identified as based\n",
       "            off of the 'true_label' attribute in JSON file.\n",
       "        Input: JSON file\n",
       "        Returns: Returns array of possible values for 'Test Label'.\n",
       "        --------------------------------------------------------------------------------*/\n",
       "        function extractTypes(data){\n",
       "            var lookup = {};\n",
       "            var items = data;\n",
       "            var result = [];\n",
       "            for (var item, i=0; item = items[i++];){\n",
       "                var name = item['Test Label'];\n",
       "                if(!(name in lookup)){\n",
       "                    lookup[name] = 1;\n",
       "                    result.push(name);\n",
       "                }\n",
       "            }\n",
       "            return result.sort();\n",
       "        }\n",
       "\n",
       "        /*--------------------------------------------------------------------------------\n",
       "        Function: fetchDataWindowResults\n",
       "        Behavior: Fetches subset of 'd' variable to be displayed in 'Data' window\n",
       "        Input: 'd' variable, testLabel, predLabel, epoch, conf\n",
       "        Returns: Subset of 'd' variable formatted the same as 'd'\n",
       "        --------------------------------------------------------------------------------*/\n",
       "        function fetchDataWindowResults(d, testLabel, predLabel, epoch, conf){\n",
       "            console.log(\"Visualization: Calling fetchDataWindowResults...\");\n",
       "            var fullDataSet = d;\n",
       "            var selectedTestLabel = testLabel;\n",
       "            var selectedPredictionLabel = predLabel;\n",
       "            var selectedEpoch = epoch;\n",
       "            var selectedConfMin = conf;\n",
       "            var selectedEntries = []\n",
       "            for (const dataPoint of Object.entries(d)){\n",
       "                var currentPrediction = dataPoint[1]['Test Prediction'][epoch];\n",
       "                var currentTestLabel = dataPoint[1]['Test Label'];\n",
       "                var currentSentence = dataPoint[1]['Test Sentence'];\n",
       "                var currentConfScore = dataPoint[1]['Test Confidence Score'][epoch];\n",
       "                var bestConfScore = Math.max.apply(Math, currentConfScore);\n",
       "                if(\n",
       "                currentPrediction == selectedPredictionLabel &&\n",
       "                currentTestLabel == selectedTestLabel &&\n",
       "                bestConfScore >= selectedConfMin){\n",
       "                    selectedEntries.push(dataPoint);\n",
       "                }\n",
       "            }\n",
       "            return selectedEntries;\n",
       "        }\n",
       "\n",
       "        /*--------------------------------------------------------------------------------\n",
       "        Function: addAxisLabels\n",
       "        Behavior: Adds x and y axis components to the DOM and text labels should be\n",
       "            placed next to div for matrix\n",
       "        Input: takes two string arrays, one for the x and one for the y axis\n",
       "        Returns: N/A\n",
       "        --------------------------------------------------------------------------------*/\n",
       "        function addAxisLabels(){\n",
       "            var xaxis_labels = ['Negative', 'Positive']\n",
       "            var yaxis_labels = ['Positive', 'Negative']\n",
       "            for(var i = 0; i < xaxis_labels.length; i++){\n",
       "                d3.select(\".xaxis\").selectAll(\"tr\").append(\"td\").text(xaxis_labels[i])\n",
       "                    .classed(\"xlabel\", true);\n",
       "            }\n",
       "            for(var i = 0; i < yaxis_labels.length; i++){\n",
       "                d3.select(\".yaxis\").selectAll(\"tr\").append(\"td\").text(yaxis_labels[i])\n",
       "                    .attr(\"height\", (750 / yaxis_labels.length)).classed(\"ylabel\", true);\n",
       "            }\n",
       "        }\n",
       "        addAxisLabels()                               // Calling function to add axis' to the DOM\n",
       "\n",
       "        /*--------------------------------------------------------------------------------\n",
       "        Function: fillMatrix\n",
       "        Behavior: Does the work of actually placing selected datapoints into 'rect' items\n",
       "            and inserting them into the matrix svg (redefines 'rect' variable)\n",
       "        Input: None\n",
       "        Output: None\n",
       "        --------------------------------------------------------------------------------*/\n",
       "        function fillMatrix(){\n",
       "            console.log(\"Debugging: Filling Matrix...\");\n",
       "            rect = svg.selectAll(\"rect\")                                                                                       // Defining rect as child of SVG\n",
       "                          .data(datasubset)\n",
       "                          .enter()\n",
       "                          .append(\"rect\");\n",
       "            /*--------------------------------------------------------------------------------\n",
       "            Format: d[trueLabel, predictedLabel, entryText, index, conf_scores]\n",
       "            --------------------------------------------------------------------------------*/\n",
       "            rect.attr(\"x\", function (d){                                                                                       // Define x coordinate to place rect\n",
       "                    var matrixnum = (parseInt(d[1][currentEpochSetting -1]) * tableDimension) + parseInt(d[0]);\n",
       "                    var inmatrixcol = counters[matrixnum] % blockStackDimension;\n",
       "                    counters[matrixnum]++;\n",
       "                    return (d[1][currentEpochSetting -1] * (cellDimension + marginBuffer)) + (inmatrixcol * (cubeDimension));\n",
       "                })\n",
       "                .attr(\"y\", function(d){                                                                                        // Define y coordinate to place rect\n",
       "                    var matrixnum = (parseInt(d[1][currentEpochSetting -1] * tableDimension) + parseInt(d[0]));\n",
       "                    var hm = Math.floor(ycounters[matrixnum]/blockStackDimension);\n",
       "                    ycounters[matrixnum]++;\n",
       "                    return (d[0] * (cellDimension + marginBuffer)) + (hm * (cubeDimension));\n",
       "                })\n",
       "                .attr(\"id\", function(d){                                                                                       // Define unique id of rect\n",
       "                    return \"rect\" + d[3];\n",
       "                })\n",
       "                .attr(\"width\", function(d){                                                                                    // Define width of rect\n",
       "                    return cubeDimension;\n",
       "                })\n",
       "                .attr(\"height\", function(d){                                                                                   // Define height of rect\n",
       "                    return cubeDimension;\n",
       "                })\n",
       "                .attr(\"opacity\", function(d){                                                                                  // Define opacity of rect\n",
       "                    return 1;\n",
       "                })\n",
       "                .attr(\"fill\", function(d){                                                                                     // Define color of rect\n",
       "                    return (\"black\");\n",
       "                })\n",
       "                .attr(\"class\", function(d){                                                                                    // Define class of rect ( currently unused )\n",
       "                    predicted_label = \"predicted_label_\" + d[1][currentEpochSetting -1];\n",
       "                    true_label = \"true_label_\" + d[0];\n",
       "                    return true_label + \" \" + predicted_label;\n",
       "            });\n",
       "        }\n",
       "\n",
       "        /*--------------------------------------------------------------------------------\n",
       "        Function: clickedRect\n",
       "        Behavior: Activates when a rect is clicked, will find all rect's in same matrix\n",
       "            cell and color these blue, and all other cells black. This will then make a\n",
       "            call to fetchDataWindowResults to provide entries to the data window that\n",
       "            correspond with the entries to this cell\n",
       "        Input: Reference to clicked rect as well as the entire dataset to parse through\n",
       "        Returns: N/A\n",
       "        --------------------------------------------------------------------------------*/\n",
       "        function clickedRect(d_on, d){\n",
       "            var actual = d_on[0];\n",
       "            var prediction = d_on[1][currentEpochSetting-1];\n",
       "            var selectedDataSet = fetchDataWindowResults(d, actual, prediction,                                                 // Fetch data points for selected cell\n",
       "                (currentEpochSetting - 1), currentConfSetting);\n",
       "            d3.selectAll('rect').style('fill', \"black\");                                                                        // Selecting all rects and coloring black\n",
       "            d3.selectAll('rect')                                                                                                // Coloring rects in selected quadrent blue\n",
       "                .filter(function(d) {\n",
       "                    if( d[0] == actual && d[1][currentEpochSetting-1] == prediction)\n",
       "                        return 1;\n",
       "                    else\n",
       "                        return 0;\n",
       "                })\n",
       "                .style('fill', \"blue\");\n",
       "            var data_section_title = \"Data for: Label (\" + d_on[0] + \") Prediction (\" + d_on[1][currentEpochSetting-1] + \")\";\n",
       "            d3.select('#review').text(data_section_title);                                                                      // Updating title of 'Data' window\n",
       "            d3.select('#review').append(\"ul\").attr(\"id\", \"testList\")                                                            // Creating a new list to display\n",
       "            d3.select(\"#testList\").selectAll(\"li\").remove();                                                                    // Removing all old list items\n",
       "            for (var i = 0; i < selectedDataSet.length; i++){                                                                   // Add list entries for 'Sentence' and Confidence score of selected data\n",
       "                var tableRowData = selectedDataSet[i][1];\n",
       "                var dataPointString = \" Confidence Score: \" +  tableRowData['Test Confidence Score'][currentEpochSetting - 1] +\n",
       "                    \" Input Data: \" + tableRowData['Test Sentence']\n",
       "                d3.select(\"#testList\").append(\"li\").text(dataPointString).classed(\"dataPoint\", true);\n",
       "            }\n",
       "            d3.selectAll(\".dataPoint\").on('click', function(){                                                                  // View overflowed data on click\n",
       "                d3.selectAll(\".dataPoint\").classed(\"clicked\", false);\n",
       "                d3.select(this).classed(\"clicked\", true);\n",
       "            });\n",
       "        }\n",
       "\n",
       "        /*--------------------------------------------------------------------------------\n",
       "        Function: emptyMatrix\n",
       "        Behavior: Empties out entire confusion matrix of any rect's, as well as resets\n",
       "            counters used when placing in new rects\n",
       "        Input: N/A\n",
       "        Returns: N/A\n",
       "        --------------------------------------------------------------------------------*/\n",
       "        function emptyMatrix(){\n",
       "            counters = new Array(tableDimension * tableDimension).fill(0);\n",
       "            ycounters = new Array(tableDimension * tableDimension).fill(0);\n",
       "            svg.selectAll(\"*\").remove();\n",
       "        }\n",
       "\n",
       "        /*--------------------------------------------------------------------------------\n",
       "        Function: refineChoice\n",
       "        Behavior: Filters the dataset referenced when adding rect's to the matrix to only\n",
       "            include data that has a confidence score greater than that selected on the\n",
       "            slider.\n",
       "        Input: N/A\n",
       "        Returns: N/A\n",
       "        --------------------------------------------------------------------------------*/\n",
       "        function refineChoice(){\n",
       "            datasubset = [];\n",
       "            for( var i = 0; i < dataset.length; i++ ){\n",
       "                datapoint = dataset[i];\n",
       "                cScore = Math.max.apply(Math, dataset[i][4][currentEpochSetting-1]);\n",
       "                if( cScore >= currentConfSetting ){\n",
       "                    datasubset.push(datapoint);\n",
       "                }\n",
       "            }\n",
       "        }\n",
       "\n",
       "        /*--------------------------------------------------------------------------------\n",
       "        GLOBAL VARIABLES: DECLARATIONS\n",
       "        --------------------------------------------------------------------------------*/\n",
       "        console.log(\"Visualization: Running JavaScript...\");\n",
       "        var dname = \"libraries/stored_results/sentiment_classification.json\";              // Path to local JSON file storing data\n",
       "        var rawJSONData = null;                       // Data from JSON read operation\n",
       "        var currentConfSetting = .5;                  // Set confidence score minimum to default\n",
       "        var currentEpochSetting = 1;                  // Set epoch setting to default\n",
       "        var lastEpochIndex = 0;                       // Max value that epoch slider can reach\n",
       "        var totalItems = null;                        // Total number of boxes that should appear\n",
       "        var possibleOutputValues = null;              // Possible values that predictions may produce\n",
       "        var tableDimension = null;                    // Dimensions of table (square so x and y are same)\n",
       "        var dataset = []                              // JSON is read into this array\n",
       "        var datasubset = []                           // Selected values from dataset\n",
       "        var table = null;                             // Reference for how many boxes should be in each matrix cell\n",
       "        var svg = null;                               // SVG graphic\n",
       "        var rect = null;                              // Rectangles which are put into above graphic\n",
       "        var w = 750;                                  // Width of matrix\n",
       "        var h = 750;                                  // Height of matrix\n",
       "        var counters = null;                          // Current 'x' position when placing rects\n",
       "        var ycounters = null;                         // Curent 'y' position when placing rects\n",
       "        var cellDimension = null;                     // Height and width to make each cell on matrix\n",
       "        var blockStackDimension = null;               // How many cubes to place on a single row in matrix\n",
       "        var marginBuffer = null;                      // How much room to leave between cells in matrix\n",
       "        var cubeDimension = null;                     // Dimensions of each rect\n",
       "\n",
       "        /*--------------------------------------------------------------------------------\n",
       "        Creating Visualization / Main\n",
       "        --------------------------------------------------------------------------------*/\n",
       "        d3.json( \"libraries/stored_results/sentiment_classification.json\", function(d) {\n",
       "            rawJSONData = d;                                                                               // Storing JSON after read operation\n",
       "            /*--------------------------------------------------------------------------------\n",
       "            GLOBAL VARIABLES: DEFINITIONS\n",
       "            --------------------------------------------------------------------------------*/\n",
       "            totalItems = Object.keys(d).length                                                             // Defining totalItems\n",
       "            possibleOutputValues = extractTypes(d);                                                        // Defining possibleOutputValues\n",
       "            tableDimension = possibleOutputValues.length;                                                  // Defining tableDimension\n",
       "            /* NOTE: LIMITS AMOUNT OF DATA USED\n",
       "            if( totalItems > 2000 ){\n",
       "                var sliced = [];\n",
       "                for( var i = 0; i < 2000; i++ ){\n",
       "                    sliced[i] = rawJSONData[i];\n",
       "                }\n",
       "                rawJSONData = sliced;\n",
       "                d = sliced;\n",
       "                totalItems = 2000;\n",
       "            }\n",
       "            */\n",
       "            table = new Array(tableDimension);                                                             // Initializing table\n",
       "            for(var i=0; i<tableDimension; i++){\n",
       "                table[i] = new Array(tableDimension);\n",
       "                for(var j=0; j<tableDimension; j++){\n",
       "                    table[i][j] = 0;\n",
       "                }\n",
       "            }\n",
       "            lastEpochIndex = d[0]['Num Epochs']                                                            // Defining lastEpochIndex\n",
       "            d3.select(\"#epoch_slider\").attr(\"max\", lastEpochIndex);                                        // Embedding lastEpochIndex\n",
       "            for(var jsonEntry, i=0; jsonEntry = d[i++];){                                                  // Storing JSON data in memory\n",
       "                var index = i;\n",
       "                var entryText = jsonEntry[\"Test Sentence\"];\n",
       "                var confidenceScore = jsonEntry[\"Test Confidence Score\"];\n",
       "                var trueLabel = jsonEntry[\"Test Label\"];\n",
       "                var predictedLabel = jsonEntry[\"Test Prediction\"];\n",
       "                var tableXCoordinate = possibleOutputValues.indexOf(predictedLabel[currentEpochSetting-1]); //Predicted\n",
       "                var tableYCoordinate = possibleOutputValues.indexOf(trueLabel); // Actual\n",
       "                table[tableXCoordinate][tableYCoordinate]+=1;\n",
       "                dataset.push([trueLabel, predictedLabel, entryText, index, confidenceScore]);\n",
       "            }\n",
       "            svg = d3.select(\"body\")                                                                        // Defining svg\n",
       "                        .select(\"#matrix\")\n",
       "                        .append(\"svg\")\n",
       "                        .attr(\"width\", w)\n",
       "                        .attr(\"height\", h);\n",
       "            counters = new Array(tableDimension * tableDimension).fill(0);                                 // Defining conters\n",
       "            ycounters = new Array(tableDimension * tableDimension).fill(0);                                // Defining ycounters\n",
       "            cellDimension = h / tableDimension;                                                            // Defining celldimension\n",
       "            blockStackDimension = Math.round(Math.sqrt(totalItems)) + 1;                                   // Defining blockStackDimension\n",
       "            marginBuffer = 5;                                                                              // Defining marginBuffer\n",
       "            cubeDimension = ((cellDimension - marginBuffer) / blockStackDimension);                        // Defining cubeDimension\n",
       "            /*--------------------------------------------------------------------------------\n",
       "            INITIALIZING MATRIX\n",
       "            --------------------------------------------------------------------------------*/\n",
       "            refineChoice();                                                                                // Filter based on default confidence score\n",
       "            fillMatrix();                                                                                  // Place rects on matrix\n",
       "            rect.on(\"click\",function(d_on){ clickedRect(d_on, d) });                                       // Define 'click' behavior\n",
       "            /*--------------------------------------------------------------------------------\n",
       "            Function: Slider Re-Draw\n",
       "            Behavior: This d3 code will redraw each time there is a change in the slider.\n",
       "            Input: None\n",
       "            Returns: N/A\n",
       "            --------------------------------------------------------------------------------*/\n",
       "            d3.selectAll(\".slider\").on(\"change\", function() {\n",
       "                if(this.id == \"confidence_slider\"){\n",
       "                    currentConfSetting = this.value;\n",
       "                }\n",
       "                if(this.id == \"epoch_slider\"){\n",
       "                    currentEpochSetting = this.value;\n",
       "                }\n",
       "                d3.select(\"#confidence_setting\").text(\"Confidence: \" + currentConfSetting);                    // Update confidence slider header to reflect change\n",
       "                d3.select(\"#epoch_setting\").text(\"Epoch: \" + currentEpochSetting);                             // Update epoch slider header to reflect change\n",
       "                emptyMatrix();                                                                                 // Remove all current rects from matrix\n",
       "                refineChoice();                                                                                // Filter data for changes in min confidence score\n",
       "                fillMatrix();                                                                                  // Place new set of datapoints in matrix\n",
       "                rect.on(\"click\",function(d_on){ clickedRect(d_on, rawJSONData) });                             // Re-assign click function to rects\n",
       "            })\n",
       "        });\n",
       "\n",
       "     </script>\n",
       "        "
      ],
      "text/plain": [
       "<IPython.core.display.HTML object>"
      ]
     },
     "metadata": {},
     "output_type": "display_data"
    }
   ],
   "source": [
    "import libraries.mlvislib as mlvs\n",
    "full_path = 'libraries/stored_results/sentiment_classification.json'\n",
    "\n",
    "cm = mlvs.ConfusionMatrix(full_path, x_labels=[\"Negative\", \"Positive\"], y_labels=[\"Positive\", \"Negative\"])\n",
    "cm.display()"
   ]
  },
  {
   "cell_type": "code",
   "execution_count": 22,
   "metadata": {
    "scrolled": true
   },
   "outputs": [
    {
     "data": {
      "text/html": [
       "\n",
       "    <style> \n",
       "    #myInput {\n",
       "      /* background-image: url('/css/searchicon.png'); Add a search icon to input */\n",
       "      background-position: 10px 12px; /* Position the search icon */\n",
       "      background-repeat: no-repeat; /* Do not repeat the icon image */\n",
       "      width: 100%; /* Full-width */\n",
       "      font-size: 16px; /* Increase font-size */\n",
       "      padding: 12px 20px 12px 40px; /* Add some padding */\n",
       "      border: 1px solid #ddd; /* Add a grey border */\n",
       "      margin-bottom: 12px; /* Add some space below the input */\n",
       "    }\n",
       "    .cosinesim{\n",
       "      margin: auto;\n",
       "      /* max-width:100% */\n",
       "      width: 60px;\n",
       "      text-align: center !important;\n",
       "    }\n",
       "    .sent {\n",
       "      /* width: 65%; */\n",
       "      max-width: 1000px;\n",
       "      white-space: nowrap !important;\n",
       "      overflow: hidden !important;\n",
       "      text-overflow: ellipsis !important;\n",
       "      text-align: left !important;\n",
       "    }\n",
       "    #container{\n",
       "      height: 150px;\n",
       "      width: auto;\n",
       "      border: 1px solid black;\n",
       "      border-radius: 3px;\n",
       "      margin-bottom: 1%;\n",
       "    }\n",
       "    .left{\n",
       "      margin-right: 15px;\n",
       "      float : left;\n",
       "      text-align: center;\n",
       "    }\n",
       "    .center{\n",
       "      text-align: center;\n",
       "    }\n",
       "    #highlighted {\n",
       "      background-color: aqua;\n",
       "      white-space: normal !important;\n",
       "      stroke-width: 1px;\n",
       "      stroke: black;\n",
       "      overflow: visible !important;\n",
       "    }\n",
       "    table {\n",
       "      table-layout: fixed;\n",
       "    }\n",
       "    td.bar {\n",
       "      padding: 0 !important;\n",
       "      width: 3px;\n",
       "      vertical-align: middle !important;\n",
       "    }\n",
       "     </style>\n",
       "    <h1> Barcode Visualization </h1>\n",
       "    <div id=\"container\">\n",
       "      <div class=\"left\">\n",
       "        <h3> Epoch #:</h3>\n",
       "        <h4 id=\"epochNum\"></h4>\n",
       "        <input class=\"slider\" id=\"epoch_slider\" type=\"range\" min=\"0\" max=\"19\" step=\"1\" value=\"0\" onchange=\"changedValues()\"/>\n",
       "      </div>\n",
       "      <div class=\"left\">\n",
       "        <h3> Number of Sentences:</h3>\n",
       "        <h4 id=\"sentNum\"></h4>\n",
       "        <input class=\"slider\" id=\"num_sentences\" type=\"range\" min=\"0\" max=\"496\" step=\"1\" value=\"10\" onchange=\"changedValues()\"/>\n",
       "      </div>\n",
       "    </div>\n",
       "    <input type=\"text\" id=\"myInput\" placeholder=\"Filter out words\" style=\"width : auto\">\n",
       "    <button onclick=\"changedValues()\">Filter</button>\n",
       "    <div class=\"tables\"></div>\n",
       "    <script> \n",
       "    /*------------------------------------------------------------------------\n",
       "    Function: argsort\n",
       "        Relatively confident that this code is responsible for sorting the\n",
       "        individual barcodes when an entry in the table has been selected\n",
       "    -------------------------------------------------------------------------*/\n",
       "    function argsort(array) {\n",
       "      const arrayObject = array.map((value, idx) => { return { value, idx }; });\n",
       "      arrayObject.sort((a, b) => {\n",
       "          if (a.value < b.value) {\n",
       "            return 1;\n",
       "          }\n",
       "          if (a.value > b.value) {\n",
       "            return -1;\n",
       "          }\n",
       "          return 0;\n",
       "      });\n",
       "\n",
       "      const argIndices = arrayObject.map(data => data.idx);\n",
       "\n",
       "      return argIndices;\n",
       "    }\n",
       "\n",
       "    /*------------------------------------------------------------------------\n",
       "    Function: changedValues\n",
       "        Function is called when any changes are made to the sliders on the\n",
       "        visualization, or when a request to filter words has been made. This\n",
       "        will read from the file, and update with the appropriate values in the\n",
       "        table.\n",
       "    -------------------------------------------------------------------------*/\n",
       "    function changedValues() {\n",
       "      var x = d3.select(\"#myInput\").property(\"value\").toUpperCase();\n",
       "      console.log(\"Debugging: x: \", x);\n",
       "      var epoch_val = d3.select(\"#epoch_slider\").property(\"value\");\n",
       "      var sentences_val = d3.select(\"#num_sentences\").property(\"value\");\n",
       "\n",
       "      d3.selectAll(\"#epochNum\").text(epoch_val);\n",
       "      d3.selectAll(\"#sentNum\").text(sentences_val);\n",
       "\n",
       "      d3.json( \"libraries/hub_nn_epoch_sorted.json\" , function(largedataset) {\n",
       "        // NOTE: This variable is not needed after adjustments made to JSON format\n",
       "        // dataSet = largedataset[epoch_val];\n",
       "\n",
       "        d3.selectAll(\"table\").remove();\n",
       "        var i;\n",
       "        var test = [];\n",
       "        for(i = 0; i < sentences_val; i++){\n",
       "        // NOTE: This conditional statement will break the visualization if the dataset has\n",
       "        // a non-text value in the ['Test Sentence'] field.\n",
       "        var hayo = largedataset[String(i)]['Test Sentence'];\n",
       "        console.log(hayo);\n",
       "        console.log(typeof hayo);\n",
       "            if(String(largedataset[String(i)]['Test Sentence']).toUpperCase().search(x) > -1){\n",
       "              test.push([epoch_val, largedataset[i][\"Index\"], largedataset[i][\"Test Label\"], largedataset[i][\"Test Prediction\"][String(epoch_val)],\n",
       "              largedataset[i][\"Test Confidence Score\"][epoch_val], largedataset[i][\"Test Sentence\"],\n",
       "              largedataset[i][\"Intermediate Values\"][epoch_val], largedataset[i][\"Test Prediction\"][epoch_val]]);\n",
       "            }\n",
       "        }\n",
       "        createTable(test);\n",
       "      })\n",
       "    }\n",
       "\n",
       "    /*------------------------------------------------------------------------\n",
       "    Function: automatic\n",
       "        Function is called automatically. This will read from the file, and\n",
       "        update with the appropriate values in the table.\n",
       "    -------------------------------------------------------------------------*/\n",
       "    function automatic(){\n",
       "      var epoch_val = d3.select(\"#epoch_slider\").property(\"value\");\n",
       "      d3.selectAll(\"#epochNum\").text(epoch_val);\n",
       "\n",
       "      var sentences_val = d3.select(\"#num_sentences\").property(\"value\");\n",
       "      d3.selectAll(\"#sentNum\").text(sentences_val);\n",
       "\n",
       "      d3.json( \"libraries/hub_nn_epoch_sorted.json\" , function(largedataset) {\n",
       "        console.log(\"Debugging: largedataset: \", largedataset);\n",
       "        // NOTE: following line is not needed for new JSON format\n",
       "        // dataSet = largedataset[epoch_val];\n",
       "\n",
       "        var max_sent = document.getElementById(\"num_sentences\");\n",
       "        var ep_num = document.getElementById(\"epoch_slider\");\n",
       "\n",
       "        max_sent.max = Object.keys(largedataset).length -1;\n",
       "        ep_num.max = largedataset[\"0\"]['Num Epochs'] - 1;\n",
       "\n",
       "        var i;\n",
       "        var test = []\n",
       "        for( i = 0; i < 10; i++ ){\n",
       "          test.push([epoch_val, largedataset[i][\"Index\"], largedataset[i][\"Test Label\"],\n",
       "          largedataset[i][\"Test Prediction\"][String(epoch_val)],\n",
       "          largedataset[i][\"Test Confidence Score\"][epoch_val], largedataset[i][\"Test Sentence\"],\n",
       "          largedataset[i][\"Intermediate Values\"][epoch_val], largedataset[i][\"Test Prediction\"][epoch_val]]);\n",
       "        }\n",
       "\n",
       "        createTable(test);\n",
       "      })\n",
       "    }\n",
       "\n",
       "    /*------------------------------------------------------------------------\n",
       "    Function: cosinesim\n",
       "        Calculates the cosine similarities of two entries.\n",
       "    -------------------------------------------------------------------------*/\n",
       "    // https://stackoverflow.com/questions/51362252/javascript-cosine-similarity-function\n",
       "    function cosinesim(A,B){\n",
       "        var dotproduct=0;\n",
       "        var mA=0;\n",
       "        var mB=0;\n",
       "        for(i = 0; i < A.length; i++){\n",
       "            dotproduct += (A[i] * B[i]);\n",
       "            mA += (A[i]*A[i]);\n",
       "            mB += (B[i]*B[i]);\n",
       "        }\n",
       "        mA = Math.sqrt(mA);\n",
       "        mB = Math.sqrt(mB);\n",
       "        var similarity = (dotproduct)/((mA)*(mB))\n",
       "        return Math.abs(similarity);\n",
       "    }\n",
       "\n",
       "    /*------------------------------------------------------------------------\n",
       "    Function: createSVG\n",
       "        Creates the SVG element to place in table, and adjusts opacity to\n",
       "        reflect the intermediate value being represented.\n",
       "    -------------------------------------------------------------------------*/\n",
       "    function createSVG(d) {\n",
       "      var w = 3;\n",
       "      var h = 20;\n",
       "\n",
       "      var kpi = document.createElement(\"div\");\n",
       "\n",
       "      var svg = d3.select(kpi).append(\"svg\")\n",
       "        .attr({\n",
       "          width: w,\n",
       "          height: h\n",
       "        });\n",
       "\n",
       "      var elem = svg.selectAll(\"div\")\n",
       "        .data([d]);\n",
       "\n",
       "      var elemEnter = elem.enter()\n",
       "        .append(\"g\");\n",
       "\n",
       "      elemEnter.append(\"rect\")\n",
       "        .attr({\n",
       "        x: 0,\n",
       "        y: 0,\n",
       "        width: 3,\n",
       "        height: 20\n",
       "        })\n",
       "        .style(\"opacity\", .5  + d*10)\n",
       "        .style(\"fill\", \"#4078a9\");\n",
       "\n",
       "      return kpi;\n",
       "    }\n",
       "\n",
       "    /*------------------------------------------------------------------------\n",
       "    Function: createTable\n",
       "        Does the work of actually generating the table, and filling it with\n",
       "        values from the dataset passed to it in either automatic or changedValues\n",
       "    -------------------------------------------------------------------------*/\n",
       "    function createTable(test){\n",
       "      var div = d3.select('.tables');\n",
       "\n",
       "      // Appends a table to designated div\n",
       "      var table = div.append(\"table\")\n",
       "        .attr({\n",
       "          id: \"sample\",\n",
       "          class: 'table'\n",
       "        })\n",
       "        .classed(\"display\", true);\n",
       "\n",
       "      // Appends a body to the table\n",
       "      var tbody = table.append(\"tbody\")\n",
       "\n",
       "      // Creates a row (tr) for each highes level entry in the JSON\n",
       "      var tableBodyRows = tbody.selectAll(\"tr\")\n",
       "        .data(test)\n",
       "        .enter()\n",
       "        .append(\"tr\");\n",
       "\n",
       "      // Adds 'Sentence' component to each row, along with it's classification\n",
       "      tableBodyRows.selectAll(\"td\")\n",
       "        .data(function(d) {\n",
       "          return [d];\n",
       "        })\n",
       "        .enter()\n",
       "        .append(\"td\")\n",
       "        .attr('class', 'sent')\n",
       "        .text(function(d) {\n",
       "          return d[7] + \" - \" +  d[5];\n",
       "        })\n",
       "\n",
       "      // Adds colored bars each representing an 'intermediate value'\n",
       "      tableBodyRows.selectAll(\"td\")\n",
       "        .data(function(d) {\n",
       "          return d[6];\n",
       "        })\n",
       "        .enter()\n",
       "        .append(\"td\")\n",
       "        .attr(\"class\", function(d,i) { return 'bar ' + i; })\n",
       "        .append(function(d) {\n",
       "          return createSVG(d);\n",
       "        });\n",
       "\n",
       "        // Defining behavior for clicking on a row\n",
       "        tableBodyRows.on({\n",
       "          \"click\": function(f){\n",
       "          d3.selectAll(\"#highlighted\")\n",
       "            .attr(\"id\", null)\n",
       "            .classed(\"sent\", true)\n",
       "          w = d3.select(this)\n",
       "            .select(\".sent\")\n",
       "            .attr(\"id\", \"highlighted\")\n",
       "\n",
       "          bars = [...f[6]]\n",
       "          changed_indicies = argsort(bars)\n",
       "          sorted_bars = bars.sort(function(a, b){return b-a});\n",
       "\n",
       "          // here we basically delete the current table & remake it except with different ordering for the barcode (done on line 207)\n",
       "          d3.selectAll('.bar').remove()\n",
       "          d3.selectAll('.cosinesim').remove()\n",
       "\n",
       "          big_array = []\n",
       "          answers = []\n",
       "\n",
       "          tableBodyRows.selectAll(\"td\")\n",
       "            .data(function(d) {\n",
       "              temp_array = []\n",
       "              var ugh = 0\n",
       "              for(ugh = 0; ugh < d[6].length; ugh++){\n",
       "                temp_array.push(d[6][changed_indicies[ugh]])\n",
       "              }\n",
       "              big_array.push(temp_array)\n",
       "\n",
       "              var answer = cosinesim(temp_array, sorted_bars);\n",
       "              answers.push(answer)\n",
       "              return [];\n",
       "            })\n",
       "\n",
       "\n",
       "          tableBodyRows.each(function(k,l){\n",
       "            d3.select(this)\n",
       "              .data(function(d){\n",
       "                test = [...k]\n",
       "                test[8] = answers[l]\n",
       "                return [test];\n",
       "            })\n",
       "          })\n",
       "\n",
       "          tableBodyRows.each(function(k,l){\n",
       "            d3.select(this)\n",
       "            .append(\"td\")\n",
       "            .attr('class', 'cosinesim')\n",
       "            .text(function(d,i){\n",
       "              return answers[l].toFixed(3);\n",
       "            })\n",
       "          })\n",
       "\n",
       "          tableBodyRows.selectAll(\"td\")\n",
       "            .data(function(d,i) {\n",
       "              return big_array[i]\n",
       "            })\n",
       "            .enter()\n",
       "            .append(\"td\")\n",
       "            .attr(\"class\", function(d,i) { return 'bar ' + i; })\n",
       "            .append(function(d) {\n",
       "              return createSVG(d);\n",
       "            });\n",
       "\n",
       "          tableBodyRows.sort(function(a,b) {\n",
       "            if (a[8] < b[8]) {\n",
       "              return 1;\n",
       "            } else if (a[8] > b[8]) {\n",
       "              return -1;\n",
       "            } else {\n",
       "              return 0;\n",
       "            }\n",
       "          })\n",
       "        }\n",
       "      });\n",
       "    }\n",
       "\n",
       "    automatic();\n",
       "     </script>\n",
       "    "
      ],
      "text/plain": [
       "<IPython.core.display.HTML object>"
      ]
     },
     "metadata": {},
     "output_type": "display_data"
    }
   ],
   "source": [
    "import libraries.barcode as bc\n",
    "full_path = 'libraries/stored_results/sentiment_classification.json'\n",
    "\n",
    "bp = bc.BarcodePlot(full_path)\n",
    "bp.display()"
   ]
  },
  {
   "cell_type": "code",
   "execution_count": null,
   "metadata": {},
   "outputs": [],
   "source": []
  }
 ],
 "metadata": {
  "accelerator": "GPU",
  "colab": {
   "collapsed_sections": [],
   "name": "text_classification_with_hub.ipynb",
   "provenance": []
  },
  "kernelspec": {
   "display_name": "Python 3",
   "language": "python",
   "name": "python3"
  },
  "language_info": {
   "codemirror_mode": {
    "name": "ipython",
    "version": 3
   },
   "file_extension": ".py",
   "mimetype": "text/x-python",
   "name": "python",
   "nbconvert_exporter": "python",
   "pygments_lexer": "ipython3",
   "version": "3.9.4"
  }
 },
 "nbformat": 4,
 "nbformat_minor": 1
}