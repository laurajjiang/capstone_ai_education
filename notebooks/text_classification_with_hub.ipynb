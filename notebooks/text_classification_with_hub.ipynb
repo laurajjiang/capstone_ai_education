{
 "cells": [
  {
   "cell_type": "markdown",
   "metadata": {
    "id": "Ic4_occAAiAT"
   },
   "source": [
    "##### Copyright 2019 The TensorFlow Authors."
   ]
  },
  {
   "cell_type": "code",
   "execution_count": 1,
   "metadata": {
    "cellView": "form",
    "execution": {
     "iopub.execute_input": "2021-01-21T02:30:55.844731Z",
     "iopub.status.busy": "2021-01-21T02:30:55.844046Z",
     "iopub.status.idle": "2021-01-21T02:30:55.845988Z",
     "shell.execute_reply": "2021-01-21T02:30:55.846501Z"
    },
    "id": "ioaprt5q5US7"
   },
   "outputs": [],
   "source": [
    "#@title Licensed under the Apache License, Version 2.0 (the \"License\");\n",
    "# you may not use this file except in compliance with the License.\n",
    "# You may obtain a copy of the License at\n",
    "#\n",
    "# https://www.apache.org/licenses/LICENSE-2.0\n",
    "#\n",
    "# Unless required by applicable law or agreed to in writing, software\n",
    "# distributed under the License is distributed on an \"AS IS\" BASIS,\n",
    "# WITHOUT WARRANTIES OR CONDITIONS OF ANY KIND, either express or implied.\n",
    "# See the License for the specific language governing permissions and\n",
    "# limitations under the License."
   ]
  },
  {
   "cell_type": "code",
   "execution_count": 2,
   "metadata": {
    "cellView": "form",
    "execution": {
     "iopub.execute_input": "2021-01-21T02:30:55.850608Z",
     "iopub.status.busy": "2021-01-21T02:30:55.849897Z",
     "iopub.status.idle": "2021-01-21T02:30:55.851787Z",
     "shell.execute_reply": "2021-01-21T02:30:55.852215Z"
    },
    "id": "yCl0eTNH5RS3"
   },
   "outputs": [],
   "source": [
    "#@title MIT License\n",
    "#\n",
    "# Copyright (c) 2017 François Chollet\n",
    "#\n",
    "# Permission is hereby granted, free of charge, to any person obtaining a\n",
    "# copy of this software and associated documentation files (the \"Software\"),\n",
    "# to deal in the Software without restriction, including without limitation\n",
    "# the rights to use, copy, modify, merge, publish, distribute, sublicense,\n",
    "# and/or sell copies of the Software, and to permit persons to whom the\n",
    "# Software is furnished to do so, subject to the following conditions:\n",
    "#\n",
    "# The above copyright notice and this permission notice shall be included in\n",
    "# all copies or substantial portions of the Software.\n",
    "#\n",
    "# THE SOFTWARE IS PROVIDED \"AS IS\", WITHOUT WARRANTY OF ANY KIND, EXPRESS OR\n",
    "# IMPLIED, INCLUDING BUT NOT LIMITED TO THE WARRANTIES OF MERCHANTABILITY,\n",
    "# FITNESS FOR A PARTICULAR PURPOSE AND NONINFRINGEMENT. IN NO EVENT SHALL\n",
    "# THE AUTHORS OR COPYRIGHT HOLDERS BE LIABLE FOR ANY CLAIM, DAMAGES OR OTHER\n",
    "# LIABILITY, WHETHER IN AN ACTION OF CONTRACT, TORT OR OTHERWISE, ARISING\n",
    "# FROM, OUT OF OR IN CONNECTION WITH THE SOFTWARE OR THE USE OR OTHER\n",
    "# DEALINGS IN THE SOFTWARE."
   ]
  },
  {
   "cell_type": "markdown",
   "metadata": {
    "id": "ItXfxkxvosLH"
   },
   "source": [
    "# Text classification with TensorFlow Hub: Movie reviews"
   ]
  },
  {
   "cell_type": "markdown",
   "metadata": {
    "id": "hKY4XMc9o8iB"
   },
   "source": [
    "<table class=\"tfo-notebook-buttons\" align=\"left\">\n",
    "  <td>\n",
    "    <a target=\"_blank\" href=\"https://www.tensorflow.org/tutorials/keras/text_classification_with_hub\"><img src=\"https://www.tensorflow.org/images/tf_logo_32px.png\" />View on TensorFlow.org</a>\n",
    "  </td>\n",
    "  <td>\n",
    "    <a target=\"_blank\" href=\"https://colab.research.google.com/github/tensorflow/docs/blob/master/site/en/tutorials/keras/text_classification_with_hub.ipynb\"><img src=\"https://www.tensorflow.org/images/colab_logo_32px.png\" />Run in Google Colab</a>\n",
    "  </td>\n",
    "  <td>\n",
    "    <a target=\"_blank\" href=\"https://github.com/tensorflow/docs/blob/master/site/en/tutorials/keras/text_classification_with_hub.ipynb\"><img src=\"https://www.tensorflow.org/images/GitHub-Mark-32px.png\" />View on GitHub</a>\n",
    "  </td>\n",
    "  <td>\n",
    "    <a href=\"https://storage.googleapis.com/tensorflow_docs/docs/site/en/tutorials/keras/text_classification_with_hub.ipynb\"><img src=\"https://www.tensorflow.org/images/download_logo_32px.png\" />Download notebook</a>\n",
    "  </td>\n",
    "  <td>\n",
    "    <a href=\"https://tfhub.dev/s?module-type=text-embedding\"><img src=\"https://www.tensorflow.org/images/hub_logo_32px.png\" />See TF Hub models</a>\n",
    "  </td>\n",
    "</table>"
   ]
  },
  {
   "cell_type": "markdown",
   "metadata": {
    "id": "Eg62Pmz3o83v"
   },
   "source": [
    "This notebook classifies movie reviews as *positive* or *negative* using the text of the review. This is an example of *binary*—or two-class—classification, an important and widely applicable kind of machine learning problem.\n",
    "\n",
    "The tutorial demonstrates the basic application of transfer learning with [TensorFlow Hub](https://tfhub.dev) and Keras.\n",
    "\n",
    "We'll use the [IMDB dataset](https://www.tensorflow.org/api_docs/python/tf/keras/datasets/imdb) that contains the text of 50,000 movie reviews from the [Internet Movie Database](https://www.imdb.com/). These are split into 25,000 reviews for training and 25,000 reviews for testing. The training and testing sets are *balanced*, meaning they contain an equal number of positive and negative reviews. \n",
    "\n",
    "This notebook uses [`tf.keras`](https://www.tensorflow.org/guide/keras), a high-level API to build and train models in TensorFlow, and [`tensorflow_hub`](https://www.tensorflow.org/hub), a library for loading trained models from [TFHub](https://tfhub.dev) in a single line of code. For a more advanced text classification tutorial using `tf.keras`, see the [MLCC Text Classification Guide](https://developers.google.com/machine-learning/guides/text-classification/)."
   ]
  },
  {
   "cell_type": "code",
   "execution_count": 3,
   "metadata": {
    "execution": {
     "iopub.execute_input": "2021-01-21T02:30:55.861328Z",
     "iopub.status.busy": "2021-01-21T02:30:55.860661Z",
     "iopub.status.idle": "2021-01-21T02:30:57.340057Z",
     "shell.execute_reply": "2021-01-21T02:30:57.340555Z"
    },
    "id": "IHTzYqKZ7auw"
   },
   "outputs": [
    {
     "name": "stdout",
     "output_type": "stream",
     "text": [
      "Defaulting to user installation because normal site-packages is not writeable\n",
      "Requirement already satisfied: patool in /home/owen/.local/lib/python3.9/site-packages (1.12)\n"
     ]
    }
   ],
   "source": [
    "!pip install -q tensorflow-hub\n",
    "!pip install patool"
   ]
  },
  {
   "cell_type": "code",
   "execution_count": 4,
   "metadata": {},
   "outputs": [],
   "source": [
    "# Segment to Disable usage of GPU\n",
    "# import os\n",
    "# os.environ[\"CUDA_VISIBLE_DEVICES\"] = \"-1\""
   ]
  },
  {
   "cell_type": "code",
   "execution_count": 5,
   "metadata": {
    "colab": {
     "base_uri": "https://localhost:8080/"
    },
    "execution": {
     "iopub.execute_input": "2021-01-21T02:30:57.346597Z",
     "iopub.status.busy": "2021-01-21T02:30:57.345866Z",
     "iopub.status.idle": "2021-01-21T02:31:05.548690Z",
     "shell.execute_reply": "2021-01-21T02:31:05.549175Z"
    },
    "id": "2ew7HTbPpCJH",
    "outputId": "3fab584d-e995-457b-e721-b03b12b80bee"
   },
   "outputs": [
    {
     "name": "stdout",
     "output_type": "stream",
     "text": [
      "Version:  2.4.1\n",
      "Eager mode:  True\n",
      "Hub version:  0.12.0\n",
      "GPU is available\n"
     ]
    },
    {
     "data": {
      "text/html": [
       "<script data-require=\"d3@3.5.3\" data-semver=\"3.5.3\" src=\"//cdnjs.cloudflare.com/ajax/libs/d3/3.5.3/d3.js\"></script>"
      ],
      "text/plain": [
       "<IPython.core.display.HTML object>"
      ]
     },
     "metadata": {},
     "output_type": "display_data"
    }
   ],
   "source": [
    "import os\n",
    "import sys\n",
    "import numpy as np\n",
    "\n",
    "import tensorflow as tf\n",
    "import tensorflow_hub as hub\n",
    "# import tensorflow_datasets as tfds\n",
    "\n",
    "module_path = os.path.abspath(os.path.join('..'))\n",
    "if module_path not in sys.path:\n",
    "    sys.path.append(module_path)\n",
    "    \n",
    "import libraries.mlvislib as mlvs\n",
    "\n",
    "print(\"Version: \", tf.__version__)\n",
    "print(\"Eager mode: \", tf.executing_eagerly())\n",
    "print(\"Hub version: \", hub.__version__)\n",
    "print(\"GPU is\", \"available\" if tf.config.experimental.list_physical_devices(\"GPU\") else \"NOT AVAILABLE\")\n",
    "\n",
    "from IPython.core.display import HTML, display\n",
    "# Initializing D3 for the entire notebook (this fixes error requiring kernel to load twice)\n",
    "# (feel free to move this line to anywhere in notebook before visualizations)\n",
    "display(HTML('<script data-require=\"d3@3.5.3\" data-semver=\"3.5.3\" src=\"//cdnjs.cloudflare.com/ajax/libs/d3/3.5.3/d3.js\"></script>'))"
   ]
  },
  {
   "cell_type": "markdown",
   "metadata": {
    "id": "iAsKG535pHep"
   },
   "source": [
    "## Load dataset\n",
    "\n",
    "The IMDB dataset is available on [imdb reviews](https://www.tensorflow.org/datasets/catalog/imdb_reviews) or on [TensorFlow datasets](https://www.tensorflow.org/datasets). The following code downloads the IMDB dataset to your machine (or the colab runtime):"
   ]
  },
  {
   "cell_type": "code",
   "execution_count": 6,
   "metadata": {
    "colab": {
     "base_uri": "https://localhost:8080/",
     "height": 212
    },
    "execution": {
     "iopub.execute_input": "2021-01-21T02:31:05.554665Z",
     "iopub.status.busy": "2021-01-21T02:31:05.554003Z",
     "iopub.status.idle": "2021-01-21T02:32:00.389224Z",
     "shell.execute_reply": "2021-01-21T02:32:00.388420Z"
    },
    "id": "zXXx5Oc3pOmN",
    "outputId": "56456b56-a9d7-46b4-ffb2-2e90c3cc59c8"
   },
   "outputs": [
    {
     "data": {
      "text/html": [
       "<div>\n",
       "<style scoped>\n",
       "    .dataframe tbody tr th:only-of-type {\n",
       "        vertical-align: middle;\n",
       "    }\n",
       "\n",
       "    .dataframe tbody tr th {\n",
       "        vertical-align: top;\n",
       "    }\n",
       "\n",
       "    .dataframe thead th {\n",
       "        text-align: right;\n",
       "    }\n",
       "</style>\n",
       "<table border=\"1\" class=\"dataframe\">\n",
       "  <thead>\n",
       "    <tr style=\"text-align: right;\">\n",
       "      <th></th>\n",
       "      <th>review</th>\n",
       "      <th>sentiment</th>\n",
       "    </tr>\n",
       "  </thead>\n",
       "  <tbody>\n",
       "    <tr>\n",
       "      <th>0</th>\n",
       "      <td>One of the other reviewers has mentioned that ...</td>\n",
       "      <td>positive</td>\n",
       "    </tr>\n",
       "    <tr>\n",
       "      <th>1</th>\n",
       "      <td>A wonderful little production. &lt;br /&gt;&lt;br /&gt;The...</td>\n",
       "      <td>positive</td>\n",
       "    </tr>\n",
       "    <tr>\n",
       "      <th>2</th>\n",
       "      <td>I thought this was a wonderful way to spend ti...</td>\n",
       "      <td>positive</td>\n",
       "    </tr>\n",
       "    <tr>\n",
       "      <th>3</th>\n",
       "      <td>Basically there's a family where a little boy ...</td>\n",
       "      <td>negative</td>\n",
       "    </tr>\n",
       "    <tr>\n",
       "      <th>4</th>\n",
       "      <td>Petter Mattei's \"Love in the Time of Money\" is...</td>\n",
       "      <td>positive</td>\n",
       "    </tr>\n",
       "  </tbody>\n",
       "</table>\n",
       "</div>"
      ],
      "text/plain": [
       "                                              review sentiment\n",
       "0  One of the other reviewers has mentioned that ...  positive\n",
       "1  A wonderful little production. <br /><br />The...  positive\n",
       "2  I thought this was a wonderful way to spend ti...  positive\n",
       "3  Basically there's a family where a little boy ...  negative\n",
       "4  Petter Mattei's \"Love in the Time of Money\" is...  positive"
      ]
     },
     "execution_count": 6,
     "metadata": {},
     "output_type": "execute_result"
    }
   ],
   "source": [
    "# Split the training set into 60% and 40%, so we'll end up with 15,000 examples\n",
    "# for training, 10,000 examples for validation and 25,000 examples for testing.\n",
    "import ipywidgets as widgets\n",
    "import pandas as pd\n",
    "\n",
    "module_path = os.path.abspath(os.path.join('..'))\n",
    "if module_path not in sys.path:\n",
    "    sys.path.append(module_path)\n",
    "# import patoolib\n",
    "\n",
    "# patoolib.extract_archive(\"dataset/IMDB Dataset.csv.zip\", outdir='/dataset/')\n",
    "dataset = pd.read_csv(\"dataset/IMDB Dataset.csv\")\n",
    "dataset = dataset[:25000]\n",
    "\n",
    "dataset.isnull().values.any()\n",
    "dataset.shape\n",
    "dataset.head()"
   ]
  },
  {
   "cell_type": "markdown",
   "metadata": {
    "id": "l50X3GfjpU4r"
   },
   "source": [
    "## Explore the data \n",
    "\n",
    "Let's take a moment to understand the format of the data. Each example is a sentence representing the movie review and a corresponding label. The sentence is not preprocessed in any way. The label is an integer value of either 0 or 1, where 0 is a negative review, and 1 is a positive review.\n",
    "\n",
    "Let's print first 10 examples."
   ]
  },
  {
   "cell_type": "code",
   "execution_count": 7,
   "metadata": {
    "colab": {
     "base_uri": "https://localhost:8080/",
     "height": 447
    },
    "id": "rmexS4Gt8BnN",
    "outputId": "2c7592ea-ef80-42cc-ecdd-ac855cc76b0d"
   },
   "outputs": [
    {
     "data": {
      "text/plain": [
       "0    One of the other reviewers has mentioned that ...\n",
       "1    A wonderful little production. <br /><br />The...\n",
       "2    I thought this was a wonderful way to spend ti...\n",
       "3    Basically there's a family where a little boy ...\n",
       "4    Petter Mattei's \"Love in the Time of Money\" is...\n",
       "5    Probably my all-time favorite movie, a story o...\n",
       "6    I sure would like to see a resurrection of a u...\n",
       "7    This show was an amazing, fresh & innovative i...\n",
       "8    Encouraged by the positive comments about this...\n",
       "Name: review, dtype: object"
      ]
     },
     "execution_count": 7,
     "metadata": {},
     "output_type": "execute_result"
    },
    {
     "data": {
      "image/png": "[encoded data removed]",
      "text/plain": [
       "<Figure size 432x288 with 1 Axes>"
      ]
     },
     "metadata": {
      "needs_background": "light"
     },
     "output_type": "display_data"
    }
   ],
   "source": [
    "import seaborn as sns\n",
    "\n",
    "sns.countplot(x='sentiment', data=dataset)\n",
    "dataset[\"review\"][:9]"
   ]
  },
  {
   "cell_type": "markdown",
   "metadata": {
    "id": "h5bmxzE0Fobd"
   },
   "source": [
    "## Pre-Processing Data"
   ]
  },
  {
   "cell_type": "code",
   "execution_count": 8,
   "metadata": {
    "colab": {
     "base_uri": "https://localhost:8080/"
    },
    "execution": {
     "iopub.execute_input": "2021-01-21T02:32:00.394689Z",
     "iopub.status.busy": "2021-01-21T02:32:00.393954Z",
     "iopub.status.idle": "2021-01-21T02:32:00.443785Z",
     "shell.execute_reply": "2021-01-21T02:32:00.444242Z"
    },
    "id": "QtTS4kpEpjbi",
    "outputId": "8a23a4bc-6e5a-4bf6-c55e-b0c0e50ac045"
   },
   "outputs": [
    {
     "name": "stdout",
     "output_type": "stream",
     "text": [
      "18930    \"Wired\" would have to rate as one of the ten w...\n",
      "2791     A 'Wes Craven presents' movie from 1995, direc...\n",
      "388      A lovely little B picture with all the usual J...\n",
      "22764    I am going to go out on a limb, and actually d...\n",
      "24934    To put in simple words or rather a word, would...\n",
      "                               ...                        \n",
      "21575    I enjoyed a lot watching this movie. It has a ...\n",
      "5390     I can't knock this film too terribly, because ...\n",
      "860      This production was quite a surprise for me. I...\n",
      "15795    This is a decent movie. Although little bit sh...\n",
      "23654    Another very good Mann flick thanks to the fat...\n",
      "Name: review, Length: 15000, dtype: object\n"
     ]
    }
   ],
   "source": [
    "from sklearn.model_selection import train_test_split\n",
    "import re\n",
    "\n",
    "def cleanText(sentence):\n",
    "\n",
    "    # Remove punctuations and numbers\n",
    "    sentence = re.sub('[^a-zA-Z]', ' ', sentence)\n",
    "\n",
    "    # Single character removal\n",
    "    sentence = re.sub(r\"\\s+[a-zA-Z]\\s+\", ' ', sentence)\n",
    "\n",
    "    # Removing multiple spaces\n",
    "    sentence = re.sub(r'\\s+', ' ', sentence)\n",
    "\n",
    "    return sentence\n",
    "\n",
    "def preProcess(text):\n",
    "    # Make lower case\n",
    "    text = text.lower()\n",
    "\n",
    "    # Replace non-text characters with spaces\n",
    "    nonText = string.punctuation + (\"\")\n",
    "    text = text.translate(str.maketrans(nonText, ' ' * (len(nonText))))\n",
    "\n",
    "    # Tokenize\n",
    "    words = text.split()\n",
    "\n",
    "    return words\n",
    "\n",
    "#x = []\n",
    "#sentences = list(dataset['review'])\n",
    "#for sen in sentences:\n",
    "#    x.append(cleanText(sen))\n",
    "\n",
    "y = dataset['sentiment']\n",
    "\n",
    "y = np.array(list(map(lambda x: 1 if x==\"positive\" else 0, y)))\n",
    "\n",
    "x_train, x_test, y_train, y_test = train_test_split(dataset['review'], y, test_size=0.4, random_state=42)\n",
    "\n",
    "print(x_train)"
   ]
  },
  {
   "cell_type": "markdown",
   "metadata": {
    "id": "LLC02j2g-llC"
   },
   "source": [
    "## Build the model\n",
    "\n",
    "The neural network is created by stacking layers—this requires three main architectural decisions:\n",
    "\n",
    "* How to represent the text?\n",
    "* How many layers to use in the model?\n",
    "* How many *hidden units* to use for each layer?\n",
    "\n",
    "In this example, the input data consists of sentences. The labels to predict are either 0 or 1.\n",
    "\n",
    "One way to represent the text is to convert sentences into embeddings vectors. We can use a pre-trained text embedding as the first layer, which will have three advantages:\n",
    "\n",
    "*   we don't have to worry about text preprocessing,\n",
    "*   we can benefit from transfer learning,\n",
    "*   the embedding has a fixed size, so it's simpler to process.\n",
    "\n",
    "For this example we will use a **pre-trained text embedding model** from [TensorFlow Hub](https://tfhub.dev) called [google/nnlm-en-dim50/2](https://tfhub.dev/google/nnlm-en-dim50/2).\n",
    "\n",
    "There are many other pre-trained text embeddings from TFHub that can be used in this tutorial:\n",
    "\n",
    "* [google/nnlm-en-dim128/2](https://tfhub.dev/google/nnlm-en-dim128/2) - trained with the same NNLM architecture on the same data as [google/nnlm-en-dim50/2](https://tfhub.dev/google/nnlm-en-dim50/2), but with a larger embedding dimension. Larger dimensional embeddings can improve on your task but it may take longer to train your model.\n",
    "* [google/nnlm-en-dim128-with-normalization/2](https://tfhub.dev/google/nnlm-en-dim128-with-normalization/2) - the same as [google/nnlm-en-dim128/2](https://tfhub.dev/google/nnlm-en-dim128/2), but with additional text normalization such as removing punctuation. This can help if the text in your task contains additional characters or punctuation.\n",
    "* [google/universal-sentence-encoder/4](https://tfhub.dev/google/universal-sentence-encoder/4) - a much larger model yielding 512 dimensional embeddings trained with a deep averaging network (DAN) encoder.\n",
    "\n",
    "And many more! Find more [text embedding models](https://tfhub.dev/s?module-type=text-embedding) on TFHub."
   ]
  },
  {
   "cell_type": "markdown",
   "metadata": {
    "id": "In2nDpTLkgKa"
   },
   "source": [
    "Let's first create a Keras layer that uses a TensorFlow Hub model to embed the sentences, and try it out on a couple of input examples. Note that no matter the length of the input text, the output shape of the embeddings is: `(num_examples, embedding_dimension)`."
   ]
  },
  {
   "cell_type": "code",
   "execution_count": 9,
   "metadata": {
    "execution": {
     "iopub.execute_input": "2021-01-21T02:32:00.458022Z",
     "iopub.status.busy": "2021-01-21T02:32:00.456993Z",
     "iopub.status.idle": "2021-01-21T02:32:09.087601Z",
     "shell.execute_reply": "2021-01-21T02:32:09.088050Z"
    },
    "id": "_NUbzVeYkgcO"
   },
   "outputs": [],
   "source": [
    "embedding = \"https://tfhub.dev/google/nnlm-en-dim50/2\"\n",
    "# universal_sentence_embedding = \"https://tfhub.dev/google/universal-sentence-encoder/4\"\n",
    "# hub_layer = hub.KerasLayer(universal_sentence_embedding, input_shape=[], \n",
    "#                            dtype=tf.string, trainable=True)\n",
    "hub_layer = hub.KerasLayer(embedding, input_shape=[], \n",
    "                           dtype=tf.string, trainable=True)"
   ]
  },
  {
   "cell_type": "markdown",
   "metadata": {
    "id": "dfSbV6igl1EH"
   },
   "source": [
    "Let's now build the full model:"
   ]
  },
  {
   "cell_type": "code",
   "execution_count": 10,
   "metadata": {
    "colab": {
     "base_uri": "https://localhost:8080/"
    },
    "execution": {
     "iopub.execute_input": "2021-01-21T02:32:09.101252Z",
     "iopub.status.busy": "2021-01-21T02:32:09.099886Z",
     "iopub.status.idle": "2021-01-21T02:32:09.513013Z",
     "shell.execute_reply": "2021-01-21T02:32:09.513480Z"
    },
    "id": "xpKOoWgu-llD",
    "outputId": "aac8311f-c33e-4585-f2de-8374e887642d"
   },
   "outputs": [
    {
     "name": "stdout",
     "output_type": "stream",
     "text": [
      "Model: \"sequential\"\n",
      "_________________________________________________________________\n",
      "Layer (type)                 Output Shape              Param #   \n",
      "=================================================================\n",
      "keras_layer (KerasLayer)     (None, 50)                48190600  \n",
      "_________________________________________________________________\n",
      "dense (Dense)                (None, 16)                816       \n",
      "_________________________________________________________________\n",
      "dense_1 (Dense)              (None, 1)                 17        \n",
      "=================================================================\n",
      "Total params: 48,191,433\n",
      "Trainable params: 48,191,433\n",
      "Non-trainable params: 0\n",
      "_________________________________________________________________\n"
     ]
    }
   ],
   "source": [
    "from keras.models import Sequential, Model\n",
    "from keras.layers.core import Activation, Dropout, Dense\n",
    "from keras.layers import Flatten\n",
    "from keras.layers import GlobalMaxPooling1D\n",
    "from keras.layers.embeddings import Embedding\n",
    "\n",
    "model = Sequential()\n",
    "model.add(hub_layer)\n",
    "# Adjusting the below value will change the amount of 'bars' loaded into the Barcode Vis\n",
    "model.add(Dense(16, activation='relu'))\n",
    "model.add(Dense(1))\n",
    "\n",
    "model.summary()"
   ]
  },
  {
   "cell_type": "markdown",
   "metadata": {
    "id": "6PbKQ6mucuKL"
   },
   "source": [
    "The layers are stacked sequentially to build the classifier:\n",
    "\n",
    "1. The first layer is a TensorFlow Hub layer. This layer uses a pre-trained Saved Model to map a sentence into its embedding vector. The pre-trained text embedding model that we are using ([google/nnlm-en-dim50/2](https://tfhub.dev/google/nnlm-en-dim50/2)) splits the sentence into tokens, embeds each token and then combines the embedding. The resulting dimensions are: `(num_examples, embedding_dimension)`. For this NNLM model, the `embedding_dimension` is 50.\n",
    "2. This fixed-length output vector is piped through a fully-connected (`Dense`) layer with 16 hidden units.\n",
    "3. The last layer is densely connected with a single output node.\n",
    "\n",
    "Let's compile the model."
   ]
  },
  {
   "cell_type": "markdown",
   "metadata": {
    "id": "L4EqVWg4-llM"
   },
   "source": [
    "### Loss function and optimizer\n",
    "\n",
    "A model needs a loss function and an optimizer for training. Since this is a binary classification problem and the model outputs logits (a single-unit layer with a linear activation), we'll use the `binary_crossentropy` loss function.\n",
    "\n",
    "This isn't the only choice for a loss function, you could, for instance, choose `mean_squared_error`. But, generally, `binary_crossentropy` is better for dealing with probabilities—it measures the \"distance\" between probability distributions, or in our case, between the ground-truth distribution and the predictions.\n",
    "\n",
    "Later, when we are exploring regression problems (say, to predict the price of a house), we will see how to use another loss function called mean squared error.\n",
    "\n",
    "Now, configure the model to use an optimizer and a loss function:"
   ]
  },
  {
   "cell_type": "code",
   "execution_count": 11,
   "metadata": {
    "execution": {
     "iopub.execute_input": "2021-01-21T02:32:09.528133Z",
     "iopub.status.busy": "2021-01-21T02:32:09.527041Z",
     "iopub.status.idle": "2021-01-21T02:32:09.536804Z",
     "shell.execute_reply": "2021-01-21T02:32:09.537223Z"
    },
    "id": "Mr0GP-cQ-llN"
   },
   "outputs": [],
   "source": [
    "model.compile(optimizer='adam',\n",
    "              loss=tf.keras.losses.BinaryCrossentropy(from_logits=True),\n",
    "              metrics=['accuracy'])"
   ]
  },
  {
   "cell_type": "markdown",
   "metadata": {
    "id": "35jv_fzP-llU"
   },
   "source": [
    "## Train the model\n",
    "\n",
    "Train the model for 10 epochs in mini-batches of 512 samples. This is 10 iterations over all samples in the `x_train` and `y_train` tensors. While training, monitor the model's loss and accuracy on the 10,000 samples from the validation set:"
   ]
  },
  {
   "cell_type": "markdown",
   "metadata": {},
   "source": [
    "### Extracting Data\n",
    "\n",
    "Here, we define the Callback function used to extact data from the model as it fits."
   ]
  },
  {
   "cell_type": "code",
   "execution_count": 12,
   "metadata": {},
   "outputs": [],
   "source": [
    "import libraries.extractioncallback as excb\n",
    "\n",
    "extractor = excb.CallbackDataExtractor(\n",
    "    model = model,\n",
    "    layer = 1,\n",
    "    validation_data = (x_test, y_test),\n",
    "    sample_every = 1,\n",
    "    rec_int_values = True,\n",
    "    is_bin = True\n",
    ")"
   ]
  },
  {
   "cell_type": "code",
   "execution_count": 13,
   "metadata": {
    "colab": {
     "base_uri": "https://localhost:8080/"
    },
    "execution": {
     "iopub.execute_input": "2021-01-21T02:32:09.542485Z",
     "iopub.status.busy": "2021-01-21T02:32:09.541473Z",
     "iopub.status.idle": "2021-01-21T02:32:27.978728Z",
     "shell.execute_reply": "2021-01-21T02:32:27.978091Z"
    },
    "id": "tXSGrjWZ-llW",
    "outputId": "3384f82c-91d0-4d89-ea09-0cf2486a2f68",
    "scrolled": false
   },
   "outputs": [
    {
     "name": "stdout",
     "output_type": "stream",
     "text": [
      "Epoch 1/10\n",
      " 6/24 [======>.......................] - ETA: 1s - loss: 0.7484 - accuracy: 0.5491WARNING:tensorflow:Callback method `on_train_batch_end` is slow compared to the batch time (batch time: 0.0506s vs `on_train_batch_end` time: 0.0521s). Check your callbacks.\n"
     ]
    },
    {
     "name": "stderr",
     "output_type": "stream",
     "text": [
      "WARNING:tensorflow:Callback method `on_train_batch_end` is slow compared to the batch time (batch time: 0.0506s vs `on_train_batch_end` time: 0.0521s). Check your callbacks.\n"
     ]
    },
    {
     "name": "stdout",
     "output_type": "stream",
     "text": [
      "24/24 [==============================] - 4s 128ms/step - loss: 0.7089 - accuracy: 0.5426 - val_loss: 0.6401 - val_accuracy: 0.5283\n",
      "Epoch 2/10\n",
      "24/24 [==============================] - 3s 110ms/step - loss: 0.6107 - accuracy: 0.6086 - val_loss: 0.5701 - val_accuracy: 0.6513\n",
      "Epoch 3/10\n",
      "24/24 [==============================] - 3s 109ms/step - loss: 0.5165 - accuracy: 0.7367 - val_loss: 0.4860 - val_accuracy: 0.7747\n",
      "Epoch 4/10\n",
      "24/24 [==============================] - 3s 109ms/step - loss: 0.4069 - accuracy: 0.8416 - val_loss: 0.4146 - val_accuracy: 0.8190\n",
      "Epoch 5/10\n",
      "24/24 [==============================] - 3s 108ms/step - loss: 0.3088 - accuracy: 0.8908 - val_loss: 0.3651 - val_accuracy: 0.8380\n",
      "Epoch 6/10\n",
      "24/24 [==============================] - 3s 110ms/step - loss: 0.2330 - accuracy: 0.9245 - val_loss: 0.3358 - val_accuracy: 0.8537\n",
      "Epoch 7/10\n",
      "24/24 [==============================] - 3s 110ms/step - loss: 0.1764 - accuracy: 0.9473 - val_loss: 0.3207 - val_accuracy: 0.8633\n",
      "Epoch 8/10\n",
      "24/24 [==============================] - 3s 109ms/step - loss: 0.1330 - accuracy: 0.9665 - val_loss: 0.3145 - val_accuracy: 0.8630\n",
      "Epoch 9/10\n",
      "24/24 [==============================] - 3s 109ms/step - loss: 0.0993 - accuracy: 0.9787 - val_loss: 0.3146 - val_accuracy: 0.8667\n",
      "Epoch 10/10\n",
      "24/24 [==============================] - 3s 109ms/step - loss: 0.0737 - accuracy: 0.9876 - val_loss: 0.3187 - val_accuracy: 0.8670\n"
     ]
    }
   ],
   "source": [
    "history = model.fit(x_train, y_train, batch_size=512, epochs=10, verbose=1, validation_split=0.2, shuffle=False, callbacks=[extractor])"
   ]
  },
  {
   "cell_type": "code",
   "execution_count": 14,
   "metadata": {
    "scrolled": true
   },
   "outputs": [],
   "source": [
    "# epoch_output = extractor.get_testing_results()\n",
    "\n",
    "# extractor_predictions = extractor.get_stored_predictions()\n",
    "# edited_predictions = []\n",
    "# for epoch in extractor_predictions:\n",
    "#     epoch_predictions = []\n",
    "#     for item in epoch:\n",
    "#         epoch_predictions.append((item > .5).astype(\"int32\"))\n",
    "#     edited_predictions.append(epoch_predictions)\n",
    "\n",
    "# extractor.set_stored_predictions(edited_predictions)"
   ]
  },
  {
   "cell_type": "code",
   "execution_count": 15,
   "metadata": {
    "colab": {
     "base_uri": "https://localhost:8080/",
     "height": 481
    },
    "id": "DhrkmOwP1ssM",
    "outputId": "a827defe-8382-4ae2-9810-ba9af55c739e"
   },
   "outputs": [
    {
     "name": "stdout",
     "output_type": "stream",
     "text": [
      "              precision    recall  f1-score   support\n",
      "\n",
      "    negative       0.85      0.88      0.87      5002\n",
      "    positive       0.88      0.85      0.86      4998\n",
      "\n",
      "    accuracy                           0.86     10000\n",
      "   macro avg       0.86      0.86      0.86     10000\n",
      "weighted avg       0.86      0.86      0.86     10000\n",
      "\n"
     ]
    },
    {
     "data": {
      "text/plain": [
       "array([[1],\n",
       "       [0],\n",
       "       [0],\n",
       "       ...,\n",
       "       [1],\n",
       "       [0],\n",
       "       [0]], dtype=int32)"
      ]
     },
     "execution_count": 15,
     "metadata": {},
     "output_type": "execute_result"
    }
   ],
   "source": [
    "from sklearn.metrics import classification_report\n",
    "from sklearn.preprocessing import MinMaxScaler\n",
    "\n",
    "# make a prediction\n",
    "testingPredictions = (model.predict(x_test) > 0.5).astype(\"int32\")\n",
    "confidence_scores = model.predict(x_test, batch_size=512)\n",
    "\n",
    "# scaling confidence scores to range between 0 and 1 with MinMaxScaler \n",
    "scaler = MinMaxScaler(feature_range=[0, 1])\n",
    "scaler.fit(confidence_scores)\n",
    "confidence_scores = scaler.transform(confidence_scores)\n",
    "\n",
    "target_names = ['negative', 'positive']\n",
    "print(classification_report(y_test, testingPredictions, target_names=target_names))\n",
    "testingPredictions"
   ]
  },
  {
   "cell_type": "code",
   "execution_count": 16,
   "metadata": {
    "colab": {
     "base_uri": "https://localhost:8080/",
     "height": 573
    },
    "id": "-waOkzl5Ifba",
    "outputId": "5beae3a7-9d87-4d4d-be6c-4deeb23c5b5e"
   },
   "outputs": [
    {
     "data": {
      "image/png": "[encoded data removed]",
      "text/plain": [
       "<Figure size 432x288 with 1 Axes>"
      ]
     },
     "metadata": {
      "needs_background": "light"
     },
     "output_type": "display_data"
    },
    {
     "data": {
      "image/png": "[encoded data removed]",
      "text/plain": [
       "<Figure size 432x288 with 1 Axes>"
      ]
     },
     "metadata": {
      "needs_background": "light"
     },
     "output_type": "display_data"
    }
   ],
   "source": [
    "import matplotlib.pyplot as plt\n",
    "\n",
    "plt.plot(history.history['accuracy'])\n",
    "plt.plot(history.history['val_accuracy'])\n",
    "\n",
    "plt.title('model accuracy')\n",
    "plt.ylabel('accuracy')\n",
    "plt.xlabel('epoch')\n",
    "plt.legend(['train','test'], loc='upper left')\n",
    "plt.show()\n",
    "\n",
    "plt.plot(history.history['loss'])\n",
    "plt.plot(history.history['val_loss'])\n",
    "\n",
    "plt.title('model loss')\n",
    "plt.ylabel('loss')\n",
    "plt.xlabel('epoch')\n",
    "plt.legend(['train','test'], loc='upper left')\n",
    "plt.show()"
   ]
  },
  {
   "cell_type": "markdown",
   "metadata": {
    "id": "9EEGuDVuzb5r"
   },
   "source": [
    "## Evaluate the model\n",
    "\n",
    "And let's see how the model performs. Two values will be returned. Loss (a number which represents our error, lower values are better), and accuracy."
   ]
  },
  {
   "cell_type": "code",
   "execution_count": 17,
   "metadata": {
    "colab": {
     "base_uri": "https://localhost:8080/"
    },
    "execution": {
     "iopub.execute_input": "2021-01-21T02:32:27.984454Z",
     "iopub.status.busy": "2021-01-21T02:32:27.983556Z",
     "iopub.status.idle": "2021-01-21T02:32:29.329122Z",
     "shell.execute_reply": "2021-01-21T02:32:29.329592Z"
    },
    "id": "zOMKywn4zReN",
    "outputId": "ad6f9bfd-cc73-462a-85a8-eea66ffc9ae6"
   },
   "outputs": [
    {
     "name": "stdout",
     "output_type": "stream",
     "text": [
      "313/313 - 1s - loss: 0.3237 - accuracy: 0.8641\n",
      "loss: 0.324\n",
      "accuracy: 0.864\n"
     ]
    }
   ],
   "source": [
    "results = model.evaluate(x_test, y_test, verbose=2)\n",
    "\n",
    "for name, value in zip(model.metrics_names, results):\n",
    "  print(\"%s: %.3f\" % (name, value))"
   ]
  },
  {
   "cell_type": "markdown",
   "metadata": {
    "id": "z1iEXVTR0Z2t"
   },
   "source": [
    "This fairly naive approach achieves an accuracy of about 87%. With more advanced approaches, the model should get closer to 95%."
   ]
  },
  {
   "cell_type": "code",
   "execution_count": 18,
   "metadata": {
    "colab": {
     "base_uri": "https://localhost:8080/",
     "height": 295
    },
    "id": "WZ-VeZGPJdGC",
    "outputId": "4a3db1f8-dbbd-40d0-93aa-286212247e71",
    "scrolled": true
   },
   "outputs": [
    {
     "data": {
      "image/png": "[encoded data removed]",
      "text/plain": [
       "<Figure size 432x288 with 2 Axes>"
      ]
     },
     "metadata": {
      "needs_background": "light"
     },
     "output_type": "display_data"
    }
   ],
   "source": [
    "data = {'Actual':    y_test,\n",
    "        'Predicted': testingPredictions.reshape(len(y_test),)\n",
    "        }\n",
    "#print(testingLabels.reshape(len(testingLabels),1))\n",
    "df = pd.DataFrame(data, columns=['Actual','Predicted'])\n",
    "confusion_matrix = pd.crosstab(df['Actual'], df['Predicted'], rownames=['Actual'], colnames=['Predicted'])\n",
    "\n",
    "sns.heatmap(confusion_matrix, annot=True,cmap=\"YlGnBu\", fmt='d').set_title('Confusion Matrix of Testing')\n",
    "plt.show()"
   ]
  },
  {
   "cell_type": "code",
   "execution_count": 19,
   "metadata": {},
   "outputs": [],
   "source": [
    "epoch_output = extractor.get_testing_results()\n",
    "# round(float(epoch_output[0]['confidence_score'][1][0]), 3)"
   ]
  },
  {
   "cell_type": "code",
   "execution_count": 20,
   "metadata": {
    "scrolled": true
   },
   "outputs": [
    {
     "data": {
      "text/html": [
       "<script data-require=\"d3@3.5.3\" data-semver=\"3.5.3\" src=\"//cdnjs.cloudflare.com/ajax/libs/d3/3.5.3/d3.js\"></script>"
      ],
      "text/plain": [
       "<IPython.core.display.HTML object>"
      ]
     },
     "metadata": {},
     "output_type": "display_data"
    }
   ],
   "source": [
    "import json\n",
    "from IPython.core.display import HTML, display\n",
    "\n",
    "\n",
    "# Writing Epoch Data to JSON...\n",
    "output_directory = \"libraries/stored_results\"\n",
    "output_filename = \"sentiment_classification.json\"\n",
    "full_path = os.path.join(output_directory, output_filename)\n",
    "display(HTML('<script data-require=\"d3@3.5.3\" data-semver=\"3.5.3\" src=\"//cdnjs.cloudflare.com/ajax/libs/d3/3.5.3/d3.js\"></script>'))\n",
    "\n",
    "    \n",
    "# Revision of JSON writing...\n",
    "data = {}\n",
    "for i in range(len(epoch_output[0])):\n",
    "    data[i] = {}\n",
    "    data[i]['Num Epochs'] = len(epoch_output)\n",
    "    data[i]['Index'] = i\n",
    "    data[i]['Test Label'] = int(epoch_output[0]['actual'][i])\n",
    "    data[i]['Test Prediction'] = {}\n",
    "    data[i]['Test Confidence Score'] = {}\n",
    "    data[i]['Intermediate Values'] = {}\n",
    "    for j in range(len(epoch_output)):\n",
    "        data[i]['Test Prediction'][j] = int(epoch_output[j]['prediction'][i][0])\n",
    "        data[i]['Test Confidence Score'][j] = [round(float(epoch_output[j]['confidence_score'][i][0]), 3)]\n",
    "        data[i]['Intermediate Values'][j] = epoch_output[j]['intermediate_values'][i]\n",
    "    data[i]['Test Sentence'] = epoch_output[0]['input'][i]\n",
    "    \n",
    "    \n",
    "with open(full_path, 'w') as outfile:\n",
    "    json.dump(data, outfile, indent=4, sort_keys=False)"
   ]
  },
  {
   "cell_type": "code",
   "execution_count": 21,
   "metadata": {
    "scrolled": false
   },
   "outputs": [],
   "source": [
    "# import libraries.mlvislib as mlvs\n",
    "# full_path = 'libraries/stored_results/sentiment_classification.json'\n",
    "\n",
    "# cm = mlvs.ConfusionMatrix(full_path, x_labels=[\"Negative\", \"Positive\"], y_labels=[\"Positive\", \"Negative\"])\n",
    "# cm.display()"
   ]
  },
  {
   "cell_type": "code",
   "execution_count": 22,
   "metadata": {
    "scrolled": true
   },
   "outputs": [
    {
     "data": {
      "text/html": [
       "\n",
       "        <style> \n",
       "        #myInput {\n",
       "          /* background-image: url('/css/searchicon.png'); Add a search icon to input */\n",
       "          background-position: 10px 12px; /* Position the search icon */\n",
       "          background-repeat: no-repeat; /* Do not repeat the icon image */\n",
       "          width: 100%; /* Full-width */\n",
       "          font-size: 16px; /* Increase font-size */\n",
       "          padding: 12px 20px 12px 40px; /* Add some padding */\n",
       "          border: 1px solid #ddd; /* Add a grey border */\n",
       "          margin-bottom: 12px; /* Add some space below the input */\n",
       "        }\n",
       "        .cosinesim{\n",
       "          margin: auto;\n",
       "          /* max-width:100% */\n",
       "          width: 60px;\n",
       "          text-align: center !important;\n",
       "        }\n",
       "        .sent {\n",
       "          /* width: 65%; */\n",
       "          max-width: 1000px;\n",
       "          white-space: nowrap !important;\n",
       "          overflow: hidden !important;\n",
       "          text-overflow: ellipsis !important;\n",
       "          text-align: left !important;\n",
       "        }\n",
       "        #container{\n",
       "          height: 150px;\n",
       "          width: auto;\n",
       "          border: 1px solid black;\n",
       "          border-radius: 3px;\n",
       "          margin-bottom: 1%;\n",
       "        }\n",
       "        .left{\n",
       "          margin-right: 15px;\n",
       "          float : left;\n",
       "          text-align: center;\n",
       "        }\n",
       "        .center{\n",
       "          text-align: center;\n",
       "        }\n",
       "        #highlighted {\n",
       "          background-color: aqua;\n",
       "          white-space: normal !important;\n",
       "          stroke-width: 1px;\n",
       "          stroke: black;\n",
       "          overflow: visible !important;\n",
       "        }\n",
       "        table {\n",
       "          table-layout: fixed;\n",
       "        }\n",
       "        td.bar {\n",
       "          padding: 0 !important;\n",
       "          width: 3px;\n",
       "          vertical-align: middle !important;\n",
       "        }\n",
       "     </style>\n",
       "        <h1> Barcode Visualization </h1>\n",
       "        <div id=\"container\">\n",
       "          <div class=\"left\">\n",
       "            <h3> Epoch #:</h3>\n",
       "            <h4 id=\"epochNum\"></h4>\n",
       "            <input class=\"slider\" id=\"epoch_slider\" type=\"range\" min=\"0\" max=\"19\" step=\"1\" value=\"0\" onchange=\"changedValues()\"/>\n",
       "          </div>\n",
       "          <div class=\"left\">\n",
       "            <h3> Number of Sentences:</h3>\n",
       "            <h4 id=\"sentNum\"></h4>\n",
       "            <input class=\"slider\" id=\"num_sentences\" type=\"range\" min=\"0\" max=\"496\" step=\"1\" value=\"10\" onchange=\"changedValues()\"/>\n",
       "          </div>\n",
       "        </div>\n",
       "        <input type=\"text\" id=\"myInput\" placeholder=\"Filter out words\" style=\"width : auto\">\n",
       "        <button onclick=\"changedValues()\">Filter</button>\n",
       "        <div class=\"tables\"></div>\n",
       "        <script> \n",
       "\n",
       "    // GLOBAL VARIABLE: data_arr, store dataset to chart, so that it is referencable\n",
       "    // by both the \"main\" or automatic function as well as the function called on\n",
       "    // click\n",
       "    var data_array = []\n",
       "    var raw_data = []\n",
       "    var current_epoch = -1\n",
       "    var current_num_sent = -1\n",
       "\n",
       "    /*------------------------------------------------------------------------\n",
       "    Function: argsort\n",
       "        Relatively confident that this code is responsible for sorting the\n",
       "        individual barcodes when an entry in the table has been selected\n",
       "    -------------------------------------------------------------------------*/\n",
       "    function argsort(array) {\n",
       "      const arrayObject = array.map((value, idx) => { return { value, idx }; });\n",
       "      arrayObject.sort((a, b) => {\n",
       "          if (a.value < b.value) {\n",
       "            return 1;\n",
       "          }\n",
       "          if (a.value > b.value) {\n",
       "            return -1;\n",
       "          }\n",
       "          return 0;\n",
       "      });\n",
       "      const argIndices = arrayObject.map(data => data.idx);\n",
       "      return argIndices;\n",
       "    }\n",
       "\n",
       "    /*------------------------------------------------------------------------\n",
       "    Function: changedValues\n",
       "        Function is called when any changes are made to the sliders on the\n",
       "        visualization, or when a request to filter words has been made. This\n",
       "        will read from the file, and update with the appropriate values in the\n",
       "        table.\n",
       "    -------------------------------------------------------------------------*/\n",
       "    function changedValues() {\n",
       "        // make a conditional for whether to add or remove values from the list or if new ones need to be read\n",
       "        console.log(\"Debugging: num_sentences: \", current_num_sent);\n",
       "        var epoch_val = d3.select(\"#epoch_slider\").property(\"value\");\n",
       "        var sentences_val = d3.select(\"#num_sentences\").property(\"value\");\n",
       "        d3.selectAll(\"#epochNum\").text(epoch_val);\n",
       "        d3.selectAll(\"#sentNum\").text(sentences_val);\n",
       "        current_epoch = epoch_val;\n",
       "        current_num_sent = sentences_val;\n",
       "        var max = current_num_sent;\n",
       "        data_array = [];\n",
       "        for(var i = 0; i < max; i++){                                                                            // Enter JSON data to array format\n",
       "            data_array.push([raw_data[i][\"Index\"], raw_data[i][\"Test Label\"],\n",
       "                raw_data[i][\"Test Prediction\"], raw_data[i][\"Test Confidence Score\"],\n",
       "                raw_data[i][\"Test Sentence\"], raw_data[i][\"Intermediate Values\"]]);\n",
       "        }\n",
       "        d3.select(\".tables\").selectAll(\"*\").remove();\n",
       "        createTable(data_array);\n",
       "    }\n",
       "\n",
       "    /*------------------------------------------------------------------------\n",
       "    Function: automatic\n",
       "        Function is called automatically. This will read from the file, and\n",
       "        update with the appropriate values in the table.\n",
       "    -------------------------------------------------------------------------*/\n",
       "    function automatic(){\n",
       "        var epoch_val = d3.select(\"#epoch_slider\").property(\"value\");                                               // Fetch value of epoch slider\n",
       "        d3.selectAll(\"#epochNum\").text(epoch_val);                                                                  // Insert value above slider\n",
       "        current_epoch = epoch_val;\n",
       "        var sentences_val = d3.select(\"#num_sentences\").property(\"value\");                                          // Fetch value of num sentencees slider\n",
       "        d3.selectAll(\"#sentNum\").text(sentences_val);                                                               // Insert value above slider\n",
       "        current_num_sent = sentences_val;\n",
       "        d3.json( \"libraries/stored_results/sentiment_classification.json\" , function(data) {                                                                  // Read in JSON file from path\n",
       "            raw_data = data;\n",
       "            var max_sent = document.getElementById(\"num_sentences\");                                                // Select num_sentences slider\n",
       "            var ep_num = document.getElementById(\"epoch_slider\");                                                   // Select epoch slider\n",
       "            var total_sentences = Object.keys(data).length -1;\n",
       "            max_sent.max = total_sentences;\n",
       "            ep_num.max = data[\"0\"]['Num Epochs'] - 1;                                                               // Set max spoch to value of 'Num Epochs' in JSON\n",
       "            // var data_array = []                                                                                     // Initialize array to store JSON in memory\n",
       "            // NOTE: change the i < value\n",
       "            for(var i = 0; i < 10; i++){                                                                            // Enter JSON data to array format\n",
       "                data_array.push([data[i][\"Index\"], data[i][\"Test Label\"],\n",
       "                    data[i][\"Test Prediction\"], data[i][\"Test Confidence Score\"],\n",
       "                    data[i][\"Test Sentence\"], data[i][\"Intermediate Values\"]]);\n",
       "            }\n",
       "            console.log(\"Debugging: data_array: \", data_array);\n",
       "            createTable(data_array);                                                                                // Filling in Table\n",
       "        })\n",
       "    }\n",
       "\n",
       "    /*------------------------------------------------------------------------\n",
       "    Function: cosinesim\n",
       "        Calculates the cosine similarities of two entries.\n",
       "    -------------------------------------------------------------------------*/\n",
       "    // https://stackoverflow.com/questions/51362252/javascript-cosine-similarity-function\n",
       "    function cosinesim(A,B){\n",
       "        var dotproduct=0;\n",
       "        var mA=0;\n",
       "        var mB=0;\n",
       "        for(i = 0; i < A.length; i++){\n",
       "            dotproduct += (A[i] * B[i]);\n",
       "            mA += (A[i]*A[i]);\n",
       "            mB += (B[i]*B[i]);\n",
       "        }\n",
       "        mA = Math.sqrt(mA);\n",
       "        mB = Math.sqrt(mB);\n",
       "        var similarity = (dotproduct)/((mA)*(mB))\n",
       "        return Math.abs(similarity);\n",
       "    }\n",
       "\n",
       "    /*------------------------------------------------------------------------\n",
       "    Function: createSVG\n",
       "        Creates the SVG element to place in table, and adjusts opacity to\n",
       "        reflect the intermediate value being represented.\n",
       "    -------------------------------------------------------------------------*/\n",
       "    function createSVG(d) {\n",
       "        console.log(\"creating SVG\");\n",
       "        var w = 3;                                           // Width of bar is 3\n",
       "        var h = 20;                                          // Height of bar is 20\n",
       "        var kpi = document.createElement(\"div\");             // Creating a new div to hold 'barcode'\n",
       "        var svg = d3.select(kpi).append(\"svg\")               // Appending new svg to the above div\n",
       "            .attr({                                          //\n",
       "                width: w,                                    //\n",
       "                height: h                                    //\n",
       "        });                                                  //\n",
       "        var elem = svg.selectAll(\"div\")                      // Selects the recently appended div and encodes data\n",
       "            .data([d]);                                      //\n",
       "        var elemEnter = elem.enter()                         //\n",
       "            .append(\"g\");                                    //\n",
       "        elemEnter.append(\"rect\")                             //\n",
       "            .attr({                                          //\n",
       "                x: 0,                                        //\n",
       "                y: 0,                                        //\n",
       "                width: 3,                                    //\n",
       "                height: 20                                   //\n",
       "            })                                               //\n",
       "            .style(\"opacity\", .5  + d*10)                    //\n",
       "            .style(\"fill\", \"#4078a9\");                       //\n",
       "        return kpi;                                          //\n",
       "    }\n",
       "\n",
       "    /*------------------------------------------------------------------------\n",
       "    Function: createTable\n",
       "        Does the work of actually generating the table, and filling it with\n",
       "        values from the dataset passed to it in either automatic or changedValues\n",
       "    -------------------------------------------------------------------------*/\n",
       "    function createTable(data){\n",
       "        /*------------------------------------------------------------------------\n",
       "        'data' Format: Index, Test Label, Test Prediction, Test Conf Score,\n",
       "            Test Sentence, Intermediate Values\n",
       "        -------------------------------------------------------------------------*/\n",
       "        var div = d3.select('.tables');                                                            // Selecting space to place table\n",
       "        var table = div.append(\"table\")                                                            // Creates a table in div with id: sample and class: table\n",
       "            .attr({ \n",
       "                id: \"sample\",                                                                      //   ID: Sample\n",
       "                class: 'table'                                                                     //   Class: table \n",
       "            })\n",
       "            .classed(\"display\", true);                                                             //   Class: display\n",
       "        var tbody = table.append(\"tbody\")                                                          // Adds body to table\n",
       "        var tableBodyRows = tbody.selectAll(\"tr\")                                                  // Appends a table row for each data entry\n",
       "            .data(data)\n",
       "            .enter()\n",
       "            .append(\"tr\");\n",
       "        // NOTE: Repair this to properly deal with epochs\n",
       "        tableBodyRows.selectAll(\"td\")                                                              // Add prediction and score to each row\n",
       "            .data(function(d) {\n",
       "                return [d];\n",
       "            })\n",
       "            .enter()\n",
       "            .append(\"td\")\n",
       "            .attr('class', 'sent')\n",
       "            .text(function(d) {\n",
       "                return d[2][String(current_epoch)] + \" - \" +  d[4];\n",
       "        });\n",
       "        // NOTE: Fix this to properly deal with epochs\n",
       "        tableBodyRows.selectAll(\"td\")                                                              // Add colored bars to each row\n",
       "            .data(function(d) {\n",
       "                return d[5][String(current_epoch)];\n",
       "            })\n",
       "            .enter()\n",
       "            .append(\"td\")\n",
       "            .attr(\"class\", function(d,i) {\n",
       "                return 'bar ' + i;\n",
       "            })\n",
       "            .append(function(d) {\n",
       "                return createSVG(d);                                                               // Bar is created as a SVG\n",
       "        });\n",
       "        tableBodyRows.on({                                                                         // Appending click function to each row\n",
       "            \"click\": function(f){\n",
       "                d3.selectAll(\"#highlighted\")                                                       // Removes highlighting from previous selection\n",
       "                    .attr(\"id\", null)\n",
       "                    .classed(\"sent\", true)\n",
       "                w = d3.select(this)                                                                // Adds highlight id to selection\n",
       "                    .select(\".sent\")\n",
       "                    .attr(\"id\", \"highlighted\")\n",
       "                bars = [...f[5][String(current_epoch)]]                                                              // \n",
       "                console.log(\"Bars: \", bars);\n",
       "                changed_indicies = argsort(bars)                                                         // \n",
       "                sorted_bars = bars.sort(function(a, b){return b-a});                                     // \n",
       "                d3.selectAll('.bar').remove()                                                            // \n",
       "                d3.selectAll('.cosinesim').remove()                                                      // \n",
       "                big_array = []                                                                           // \n",
       "                answers = []                                                                             // \n",
       "                tableBodyRows.selectAll(\"td\")                                                            // \n",
       "                    .data(function(d) {                                                                    // \n",
       "                        temp_array = []                                                                      // \n",
       "                        var ugh = 0                                                                          // \n",
       "                        for(ugh = 0; ugh < d[5][String(current_epoch)].length; ugh++){                                              // \n",
       "                            temp_array.push(d[5][String(current_epoch)][changed_indicies[ugh]])                                       // \n",
       "                        }                                                                                    // \n",
       "                        big_array.push(temp_array)                                                           // \n",
       "                        var answer = cosinesim(temp_array, sorted_bars);                                     // \n",
       "                        answers.push(answer)                                                                 // \n",
       "                        return [];                                                                           // \n",
       "                })                                                                                     // \n",
       "                tableBodyRows.each(function(k,l){                                                        // \n",
       "                    d3.select(this)                                                                        // \n",
       "                        .data(function(d){                                                                   // \n",
       "                            test = [...k]                                                                      // \n",
       "                            test[8] = answers[l]                                                               // \n",
       "                            return [test];                                                                     // \n",
       "                        })                                                                                     // \n",
       "                })                                                                                       // \n",
       "                tableBodyRows.each(function(k,l){                                                        // \n",
       "                    d3.select(this)                                                                        // \n",
       "                        .append(\"td\")                                                                          // \n",
       "                        .attr('class', 'cosinesim')                                                            // \n",
       "                        .text(function(d,i){                                                                   // \n",
       "                            return answers[l].toFixed(3);                                                        // \n",
       "                        })                                                                                     // \n",
       "                })                                                                                       // \n",
       "                tableBodyRows.selectAll(\"td\")                                                            // \n",
       "                    .data(function(d,i) {                                                                  // \n",
       "                        return big_array[i]                                                                  // \n",
       "                    })                                                                                     // \n",
       "                    .enter()                                                                               // \n",
       "                    .append(\"td\")                                                                          // \n",
       "                    .attr(\"class\", function(d,i) { return 'bar ' + i; })                                   // \n",
       "                    .append(function(d) {                                                                  // \n",
       "                        return createSVG(d);                                                                 // \n",
       "                });                                                                                    // \n",
       "                tableBodyRows.sort(function(a,b) {                                                       // \n",
       "                    if (a[8] < b[8]) {\n",
       "                        return 1;\n",
       "                    } else if (a[8] > b[8]) {\n",
       "                        return -1;\n",
       "                    } else {\n",
       "                        return 0;\n",
       "                    }\n",
       "                })\n",
       "            }\n",
       "        });\n",
       "    }\n",
       "\n",
       "    automatic();\n",
       "     </script>\n",
       "    "
      ],
      "text/plain": [
       "<IPython.core.display.HTML object>"
      ]
     },
     "metadata": {},
     "output_type": "display_data"
    }
   ],
   "source": [
    "import libraries.barcode as bc\n",
    "full_path = 'libraries/stored_results/sentiment_classification.json'\n",
    "\n",
    "bp = bc.BarcodePlot(full_path)\n",
    "bp.display()"
   ]
  },
  {
   "cell_type": "code",
   "execution_count": null,
   "metadata": {},
   "outputs": [],
   "source": []
  }
 ],
 "metadata": {
  "accelerator": "GPU",
  "colab": {
   "collapsed_sections": [],
   "name": "text_classification_with_hub.ipynb",
   "provenance": []
  },
  "kernelspec": {
   "display_name": "Python 3",
   "language": "python",
   "name": "python3"
  },
  "language_info": {
   "codemirror_mode": {
    "name": "ipython",
    "version": 3
   },
   "file_extension": ".py",
   "mimetype": "text/x-python",
   "name": "python",
   "nbconvert_exporter": "python",
   "pygments_lexer": "ipython3",
   "version": "3.9.4"
  }
 },
 "nbformat": 4,
 "nbformat_minor": 1
}
