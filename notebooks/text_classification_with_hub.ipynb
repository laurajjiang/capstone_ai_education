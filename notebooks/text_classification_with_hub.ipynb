{
 "cells": [
  {
   "cell_type": "markdown",
   "metadata": {
    "id": "Ic4_occAAiAT"
   },
   "source": [
    "##### Copyright 2019 The TensorFlow Authors."
   ]
  },
  {
   "cell_type": "code",
   "execution_count": 1,
   "metadata": {
    "cellView": "form",
    "execution": {
     "iopub.execute_input": "2021-01-21T02:30:55.844731Z",
     "iopub.status.busy": "2021-01-21T02:30:55.844046Z",
     "iopub.status.idle": "2021-01-21T02:30:55.845988Z",
     "shell.execute_reply": "2021-01-21T02:30:55.846501Z"
    },
    "id": "ioaprt5q5US7"
   },
   "outputs": [],
   "source": [
    "#@title Licensed under the Apache License, Version 2.0 (the \"License\");\n",
    "# you may not use this file except in compliance with the License.\n",
    "# You may obtain a copy of the License at\n",
    "#\n",
    "# https://www.apache.org/licenses/LICENSE-2.0\n",
    "#\n",
    "# Unless required by applicable law or agreed to in writing, software\n",
    "# distributed under the License is distributed on an \"AS IS\" BASIS,\n",
    "# WITHOUT WARRANTIES OR CONDITIONS OF ANY KIND, either express or implied.\n",
    "# See the License for the specific language governing permissions and\n",
    "# limitations under the License."
   ]
  },
  {
   "cell_type": "code",
   "execution_count": 2,
   "metadata": {
    "cellView": "form",
    "execution": {
     "iopub.execute_input": "2021-01-21T02:30:55.850608Z",
     "iopub.status.busy": "2021-01-21T02:30:55.849897Z",
     "iopub.status.idle": "2021-01-21T02:30:55.851787Z",
     "shell.execute_reply": "2021-01-21T02:30:55.852215Z"
    },
    "id": "yCl0eTNH5RS3"
   },
   "outputs": [],
   "source": [
    "#@title MIT License\n",
    "#\n",
    "# Copyright (c) 2017 François Chollet\n",
    "#\n",
    "# Permission is hereby granted, free of charge, to any person obtaining a\n",
    "# copy of this software and associated documentation files (the \"Software\"),\n",
    "# to deal in the Software without restriction, including without limitation\n",
    "# the rights to use, copy, modify, merge, publish, distribute, sublicense,\n",
    "# and/or sell copies of the Software, and to permit persons to whom the\n",
    "# Software is furnished to do so, subject to the following conditions:\n",
    "#\n",
    "# The above copyright notice and this permission notice shall be included in\n",
    "# all copies or substantial portions of the Software.\n",
    "#\n",
    "# THE SOFTWARE IS PROVIDED \"AS IS\", WITHOUT WARRANTY OF ANY KIND, EXPRESS OR\n",
    "# IMPLIED, INCLUDING BUT NOT LIMITED TO THE WARRANTIES OF MERCHANTABILITY,\n",
    "# FITNESS FOR A PARTICULAR PURPOSE AND NONINFRINGEMENT. IN NO EVENT SHALL\n",
    "# THE AUTHORS OR COPYRIGHT HOLDERS BE LIABLE FOR ANY CLAIM, DAMAGES OR OTHER\n",
    "# LIABILITY, WHETHER IN AN ACTION OF CONTRACT, TORT OR OTHERWISE, ARISING\n",
    "# FROM, OUT OF OR IN CONNECTION WITH THE SOFTWARE OR THE USE OR OTHER\n",
    "# DEALINGS IN THE SOFTWARE."
   ]
  },
  {
   "cell_type": "markdown",
   "metadata": {
    "id": "ItXfxkxvosLH"
   },
   "source": [
    "# Text classification with TensorFlow Hub: Movie reviews"
   ]
  },
  {
   "cell_type": "markdown",
   "metadata": {
    "id": "hKY4XMc9o8iB"
   },
   "source": [
    "<table class=\"tfo-notebook-buttons\" align=\"left\">\n",
    "  <td>\n",
    "    <a target=\"_blank\" href=\"https://www.tensorflow.org/tutorials/keras/text_classification_with_hub\"><img src=\"https://www.tensorflow.org/images/tf_logo_32px.png\" />View on TensorFlow.org</a>\n",
    "  </td>\n",
    "  <td>\n",
    "    <a target=\"_blank\" href=\"https://colab.research.google.com/github/tensorflow/docs/blob/master/site/en/tutorials/keras/text_classification_with_hub.ipynb\"><img src=\"https://www.tensorflow.org/images/colab_logo_32px.png\" />Run in Google Colab</a>\n",
    "  </td>\n",
    "  <td>\n",
    "    <a target=\"_blank\" href=\"https://github.com/tensorflow/docs/blob/master/site/en/tutorials/keras/text_classification_with_hub.ipynb\"><img src=\"https://www.tensorflow.org/images/GitHub-Mark-32px.png\" />View on GitHub</a>\n",
    "  </td>\n",
    "  <td>\n",
    "    <a href=\"https://storage.googleapis.com/tensorflow_docs/docs/site/en/tutorials/keras/text_classification_with_hub.ipynb\"><img src=\"https://www.tensorflow.org/images/download_logo_32px.png\" />Download notebook</a>\n",
    "  </td>\n",
    "  <td>\n",
    "    <a href=\"https://tfhub.dev/s?module-type=text-embedding\"><img src=\"https://www.tensorflow.org/images/hub_logo_32px.png\" />See TF Hub models</a>\n",
    "  </td>\n",
    "</table>"
   ]
  },
  {
   "cell_type": "markdown",
   "metadata": {
    "id": "Eg62Pmz3o83v"
   },
   "source": [
    "This notebook classifies movie reviews as *positive* or *negative* using the text of the review. This is an example of *binary*—or two-class—classification, an important and widely applicable kind of machine learning problem.\n",
    "\n",
    "The tutorial demonstrates the basic application of transfer learning with [TensorFlow Hub](https://tfhub.dev) and Keras.\n",
    "\n",
    "We'll use the [IMDB dataset](https://www.tensorflow.org/api_docs/python/tf/keras/datasets/imdb) that contains the text of 50,000 movie reviews from the [Internet Movie Database](https://www.imdb.com/). These are split into 25,000 reviews for training and 25,000 reviews for testing. The training and testing sets are *balanced*, meaning they contain an equal number of positive and negative reviews. \n",
    "\n",
    "This notebook uses [`tf.keras`](https://www.tensorflow.org/guide/keras), a high-level API to build and train models in TensorFlow, and [`tensorflow_hub`](https://www.tensorflow.org/hub), a library for loading trained models from [TFHub](https://tfhub.dev) in a single line of code. For a more advanced text classification tutorial using `tf.keras`, see the [MLCC Text Classification Guide](https://developers.google.com/machine-learning/guides/text-classification/)."
   ]
  },
  {
   "cell_type": "code",
   "execution_count": 3,
   "metadata": {
    "execution": {
     "iopub.execute_input": "2021-01-21T02:30:55.861328Z",
     "iopub.status.busy": "2021-01-21T02:30:55.860661Z",
     "iopub.status.idle": "2021-01-21T02:30:57.340057Z",
     "shell.execute_reply": "2021-01-21T02:30:57.340555Z"
    },
    "id": "IHTzYqKZ7auw"
   },
   "outputs": [
    {
     "name": "stderr",
     "output_type": "stream",
     "text": [
      "WARNING: You are using pip version 21.0.1; however, version 21.1 is available.\n",
      "You should consider upgrading via the 'c:\\users\\wnsgu\\appdata\\local\\programs\\python\\python38\\python.exe -m pip install --upgrade pip' command.\n"
     ]
    },
    {
     "name": "stdout",
     "output_type": "stream",
     "text": [
      "Requirement already satisfied: patool in c:\\users\\wnsgu\\appdata\\local\\programs\\python\\python38\\lib\\site-packages (1.12)\n"
     ]
    },
    {
     "name": "stderr",
     "output_type": "stream",
     "text": [
      "WARNING: You are using pip version 21.0.1; however, version 21.1 is available.\n",
      "You should consider upgrading via the 'c:\\users\\wnsgu\\appdata\\local\\programs\\python\\python38\\python.exe -m pip install --upgrade pip' command.\n"
     ]
    }
   ],
   "source": [
    "!pip install -q tensorflow-hub\n",
    "!pip install patool"
   ]
  },
  {
   "cell_type": "code",
   "execution_count": 3,
   "metadata": {
    "colab": {
     "base_uri": "https://localhost:8080/"
    },
    "execution": {
     "iopub.execute_input": "2021-01-21T02:30:57.346597Z",
     "iopub.status.busy": "2021-01-21T02:30:57.345866Z",
     "iopub.status.idle": "2021-01-21T02:31:05.548690Z",
     "shell.execute_reply": "2021-01-21T02:31:05.549175Z"
    },
    "id": "2ew7HTbPpCJH",
    "outputId": "3fab584d-e995-457b-e721-b03b12b80bee"
   },
   "outputs": [
    {
     "name": "stdout",
     "output_type": "stream",
     "text": [
      "Version:  2.4.1\n",
      "Eager mode:  True\n",
      "Hub version:  0.11.0\n",
      "GPU is NOT AVAILABLE\n"
     ]
    }
   ],
   "source": [
    "import os\n",
    "import sys\n",
    "import numpy as np\n",
    "\n",
    "import tensorflow as tf\n",
    "import tensorflow_hub as hub\n",
    "# import tensorflow_datasets as tfds\n",
    "\n",
    "module_path = os.path.abspath(os.path.join('..'))\n",
    "if module_path not in sys.path:\n",
    "    sys.path.append(module_path)\n",
    "    \n",
    "import libraries.mlvislib as mlvs\n",
    "\n",
    "print(\"Version: \", tf.__version__)\n",
    "print(\"Eager mode: \", tf.executing_eagerly())\n",
    "print(\"Hub version: \", hub.__version__)\n",
    "print(\"GPU is\", \"available\" if tf.config.experimental.list_physical_devices(\"GPU\") else \"NOT AVAILABLE\")"
   ]
  },
  {
   "cell_type": "markdown",
   "metadata": {
    "id": "iAsKG535pHep"
   },
   "source": [
    "## Load dataset\n",
    "\n",
    "The IMDB dataset is available on [imdb reviews](https://www.tensorflow.org/datasets/catalog/imdb_reviews) or on [TensorFlow datasets](https://www.tensorflow.org/datasets). The following code downloads the IMDB dataset to your machine (or the colab runtime):"
   ]
  },
  {
   "cell_type": "code",
   "execution_count": 5,
   "metadata": {
    "colab": {
     "base_uri": "https://localhost:8080/",
     "height": 212
    },
    "execution": {
     "iopub.execute_input": "2021-01-21T02:31:05.554665Z",
     "iopub.status.busy": "2021-01-21T02:31:05.554003Z",
     "iopub.status.idle": "2021-01-21T02:32:00.389224Z",
     "shell.execute_reply": "2021-01-21T02:32:00.388420Z"
    },
    "id": "zXXx5Oc3pOmN",
    "outputId": "56456b56-a9d7-46b4-ffb2-2e90c3cc59c8"
   },
   "outputs": [
    {
     "data": {
      "text/plain": [
       "(25000, 2)"
      ]
     },
     "execution_count": 5,
     "metadata": {},
     "output_type": "execute_result"
    }
   ],
   "source": [
    "# Split the training set into 60% and 40%, so we'll end up with 15,000 examples\n",
    "# for training, 10,000 examples for validation and 25,000 examples for testing.\n",
    "from IPython.display import display\n",
    "import ipywidgets as widgets\n",
    "import pandas as pd\n",
    "# import patoolib\n",
    "\n",
    "# patoolib.extract_archive(\"dataset/IMDB Dataset.csv.zip\", outdir='/dataset/')\n",
    "dataset = pd.read_csv(\"dataset/IMDB Dataset.csv\")\n",
    "dataset = dataset[:25000]\n",
    "\n",
    "dataset.isnull().values.any()\n",
    "dataset.shape\n",
    "# dataset.head()"
   ]
  },
  {
   "cell_type": "markdown",
   "metadata": {
    "id": "l50X3GfjpU4r"
   },
   "source": [
    "## Explore the data \n",
    "\n",
    "Let's take a moment to understand the format of the data. Each example is a sentence representing the movie review and a corresponding label. The sentence is not preprocessed in any way. The label is an integer value of either 0 or 1, where 0 is a negative review, and 1 is a positive review.\n",
    "\n",
    "Let's print first 10 examples."
   ]
  },
  {
   "cell_type": "code",
   "execution_count": 6,
   "metadata": {
    "colab": {
     "base_uri": "https://localhost:8080/",
     "height": 447
    },
    "id": "rmexS4Gt8BnN",
    "outputId": "2c7592ea-ef80-42cc-ecdd-ac855cc76b0d"
   },
   "outputs": [
    {
     "data": {
      "text/plain": [
       "0    One of the other reviewers has mentioned that ...\n",
       "1    A wonderful little production. <br /><br />The...\n",
       "2    I thought this was a wonderful way to spend ti...\n",
       "3    Basically there's a family where a little boy ...\n",
       "4    Petter Mattei's \"Love in the Time of Money\" is...\n",
       "5    Probably my all-time favorite movie, a story o...\n",
       "6    I sure would like to see a resurrection of a u...\n",
       "7    This show was an amazing, fresh & innovative i...\n",
       "8    Encouraged by the positive comments about this...\n",
       "Name: review, dtype: object"
      ]
     },
     "execution_count": 6,
     "metadata": {},
     "output_type": "execute_result"
    },
    {
     "data": {
      "image/png": "[encoded data removed]",
      "text/plain": [
       "<Figure size 432x288 with 1 Axes>"
      ]
     },
     "metadata": {
      "needs_background": "light"
     },
     "output_type": "display_data"
    }
   ],
   "source": [
    "import seaborn as sns\n",
    "\n",
    "sns.countplot(x='sentiment', data=dataset)\n",
    "dataset[\"review\"][:9]"
   ]
  },
  {
   "cell_type": "markdown",
   "metadata": {
    "id": "h5bmxzE0Fobd"
   },
   "source": [
    "## Pre-Processing Data"
   ]
  },
  {
   "cell_type": "code",
   "execution_count": 7,
   "metadata": {
    "colab": {
     "base_uri": "https://localhost:8080/"
    },
    "execution": {
     "iopub.execute_input": "2021-01-21T02:32:00.394689Z",
     "iopub.status.busy": "2021-01-21T02:32:00.393954Z",
     "iopub.status.idle": "2021-01-21T02:32:00.443785Z",
     "shell.execute_reply": "2021-01-21T02:32:00.444242Z"
    },
    "id": "QtTS4kpEpjbi",
    "outputId": "8a23a4bc-6e5a-4bf6-c55e-b0c0e50ac045"
   },
   "outputs": [
    {
     "name": "stdout",
     "output_type": "stream",
     "text": [
      "18930    \"Wired\" would have to rate as one of the ten w...\n",
      "2791     A 'Wes Craven presents' movie from 1995, direc...\n",
      "388      A lovely little B picture with all the usual J...\n",
      "22764    I am going to go out on a limb, and actually d...\n",
      "24934    To put in simple words or rather a word, would...\n",
      "                               ...                        \n",
      "21575    I enjoyed a lot watching this movie. It has a ...\n",
      "5390     I can't knock this film too terribly, because ...\n",
      "860      This production was quite a surprise for me. I...\n",
      "15795    This is a decent movie. Although little bit sh...\n",
      "23654    Another very good Mann flick thanks to the fat...\n",
      "Name: review, Length: 15000, dtype: object\n"
     ]
    }
   ],
   "source": [
    "from sklearn.model_selection import train_test_split\n",
    "import re\n",
    "\n",
    "def cleanText(sentence):\n",
    "\n",
    "    # Remove punctuations and numbers\n",
    "    sentence = re.sub('[^a-zA-Z]', ' ', sentence)\n",
    "\n",
    "    # Single character removal\n",
    "    sentence = re.sub(r\"\\s+[a-zA-Z]\\s+\", ' ', sentence)\n",
    "\n",
    "    # Removing multiple spaces\n",
    "    sentence = re.sub(r'\\s+', ' ', sentence)\n",
    "\n",
    "    return sentence\n",
    "\n",
    "def preProcess(text):\n",
    "    # Make lower case\n",
    "    text = text.lower()\n",
    "\n",
    "    # Replace non-text characters with spaces\n",
    "    nonText = string.punctuation + (\"\")\n",
    "    text = text.translate(str.maketrans(nonText, ' ' * (len(nonText))))\n",
    "\n",
    "    # Tokenize\n",
    "    words = text.split()\n",
    "\n",
    "    return words\n",
    "\n",
    "#x = []\n",
    "#sentences = list(dataset['review'])\n",
    "#for sen in sentences:\n",
    "#    x.append(cleanText(sen))\n",
    "\n",
    "y = dataset['sentiment']\n",
    "\n",
    "y = np.array(list(map(lambda x: 1 if x==\"positive\" else 0, y)))\n",
    "\n",
    "x_train, x_test, y_train, y_test = train_test_split(dataset['review'], y, test_size=0.4, random_state=42)\n",
    "\n",
    "print(x_train)"
   ]
  },
  {
   "cell_type": "markdown",
   "metadata": {
    "id": "LLC02j2g-llC"
   },
   "source": [
    "## Build the model\n",
    "\n",
    "The neural network is created by stacking layers—this requires three main architectural decisions:\n",
    "\n",
    "* How to represent the text?\n",
    "* How many layers to use in the model?\n",
    "* How many *hidden units* to use for each layer?\n",
    "\n",
    "In this example, the input data consists of sentences. The labels to predict are either 0 or 1.\n",
    "\n",
    "One way to represent the text is to convert sentences into embeddings vectors. We can use a pre-trained text embedding as the first layer, which will have three advantages:\n",
    "\n",
    "*   we don't have to worry about text preprocessing,\n",
    "*   we can benefit from transfer learning,\n",
    "*   the embedding has a fixed size, so it's simpler to process.\n",
    "\n",
    "For this example we will use a **pre-trained text embedding model** from [TensorFlow Hub](https://tfhub.dev) called [google/nnlm-en-dim50/2](https://tfhub.dev/google/nnlm-en-dim50/2).\n",
    "\n",
    "There are many other pre-trained text embeddings from TFHub that can be used in this tutorial:\n",
    "\n",
    "* [google/nnlm-en-dim128/2](https://tfhub.dev/google/nnlm-en-dim128/2) - trained with the same NNLM architecture on the same data as [google/nnlm-en-dim50/2](https://tfhub.dev/google/nnlm-en-dim50/2), but with a larger embedding dimension. Larger dimensional embeddings can improve on your task but it may take longer to train your model.\n",
    "* [google/nnlm-en-dim128-with-normalization/2](https://tfhub.dev/google/nnlm-en-dim128-with-normalization/2) - the same as [google/nnlm-en-dim128/2](https://tfhub.dev/google/nnlm-en-dim128/2), but with additional text normalization such as removing punctuation. This can help if the text in your task contains additional characters or punctuation.\n",
    "* [google/universal-sentence-encoder/4](https://tfhub.dev/google/universal-sentence-encoder/4) - a much larger model yielding 512 dimensional embeddings trained with a deep averaging network (DAN) encoder.\n",
    "\n",
    "And many more! Find more [text embedding models](https://tfhub.dev/s?module-type=text-embedding) on TFHub."
   ]
  },
  {
   "cell_type": "markdown",
   "metadata": {
    "id": "In2nDpTLkgKa"
   },
   "source": [
    "Let's first create a Keras layer that uses a TensorFlow Hub model to embed the sentences, and try it out on a couple of input examples. Note that no matter the length of the input text, the output shape of the embeddings is: `(num_examples, embedding_dimension)`."
   ]
  },
  {
   "cell_type": "code",
   "execution_count": 8,
   "metadata": {
    "execution": {
     "iopub.execute_input": "2021-01-21T02:32:00.458022Z",
     "iopub.status.busy": "2021-01-21T02:32:00.456993Z",
     "iopub.status.idle": "2021-01-21T02:32:09.087601Z",
     "shell.execute_reply": "2021-01-21T02:32:09.088050Z"
    },
    "id": "_NUbzVeYkgcO"
   },
   "outputs": [],
   "source": [
    "embedding = \"https://tfhub.dev/google/nnlm-en-dim50/2\"\n",
    "hub_layer = hub.KerasLayer(embedding, input_shape=[], \n",
    "                           dtype=tf.string, trainable=True)\n",
    "#hub_layer(train_examples_batch[:3])"
   ]
  },
  {
   "cell_type": "markdown",
   "metadata": {
    "id": "dfSbV6igl1EH"
   },
   "source": [
    "Let's now build the full model:"
   ]
  },
  {
   "cell_type": "code",
   "execution_count": 9,
   "metadata": {
    "colab": {
     "base_uri": "https://localhost:8080/"
    },
    "execution": {
     "iopub.execute_input": "2021-01-21T02:32:09.101252Z",
     "iopub.status.busy": "2021-01-21T02:32:09.099886Z",
     "iopub.status.idle": "2021-01-21T02:32:09.513013Z",
     "shell.execute_reply": "2021-01-21T02:32:09.513480Z"
    },
    "id": "xpKOoWgu-llD",
    "outputId": "aac8311f-c33e-4585-f2de-8374e887642d"
   },
   "outputs": [
    {
     "name": "stdout",
     "output_type": "stream",
     "text": [
      "Model: \"sequential\"\n",
      "_________________________________________________________________\n",
      "Layer (type)                 Output Shape              Param #   \n",
      "=================================================================\n",
      "keras_layer (KerasLayer)     (None, 512)               256797824 \n",
      "_________________________________________________________________\n",
      "dense (Dense)                (None, 16)                8208      \n",
      "_________________________________________________________________\n",
      "dense_1 (Dense)              (None, 1)                 17        \n",
      "=================================================================\n",
      "Total params: 256,806,049\n",
      "Trainable params: 256,806,049\n",
      "Non-trainable params: 0\n",
      "_________________________________________________________________\n"
     ]
    }
   ],
   "source": [
    "from keras.models import Sequential\n",
    "from keras.layers.core import Activation, Dropout, Dense\n",
    "from keras.layers import Flatten\n",
    "from keras.layers import GlobalMaxPooling1D\n",
    "from keras.layers.embeddings import Embedding\n",
    "\n",
    "model = Sequential()\n",
    "model.add(hub_layer)\n",
    "model.add(Dense(16, activation='relu'))\n",
    "model.add(Dense(1))\n",
    "\n",
    "model.summary()"
   ]
  },
  {
   "cell_type": "markdown",
   "metadata": {
    "id": "6PbKQ6mucuKL"
   },
   "source": [
    "The layers are stacked sequentially to build the classifier:\n",
    "\n",
    "1. The first layer is a TensorFlow Hub layer. This layer uses a pre-trained Saved Model to map a sentence into its embedding vector. The pre-trained text embedding model that we are using ([google/nnlm-en-dim50/2](https://tfhub.dev/google/nnlm-en-dim50/2)) splits the sentence into tokens, embeds each token and then combines the embedding. The resulting dimensions are: `(num_examples, embedding_dimension)`. For this NNLM model, the `embedding_dimension` is 50.\n",
    "2. This fixed-length output vector is piped through a fully-connected (`Dense`) layer with 16 hidden units.\n",
    "3. The last layer is densely connected with a single output node.\n",
    "\n",
    "Let's compile the model."
   ]
  },
  {
   "cell_type": "markdown",
   "metadata": {
    "id": "L4EqVWg4-llM"
   },
   "source": [
    "### Loss function and optimizer\n",
    "\n",
    "A model needs a loss function and an optimizer for training. Since this is a binary classification problem and the model outputs logits (a single-unit layer with a linear activation), we'll use the `binary_crossentropy` loss function.\n",
    "\n",
    "This isn't the only choice for a loss function, you could, for instance, choose `mean_squared_error`. But, generally, `binary_crossentropy` is better for dealing with probabilities—it measures the \"distance\" between probability distributions, or in our case, between the ground-truth distribution and the predictions.\n",
    "\n",
    "Later, when we are exploring regression problems (say, to predict the price of a house), we will see how to use another loss function called mean squared error.\n",
    "\n",
    "Now, configure the model to use an optimizer and a loss function:"
   ]
  },
  {
   "cell_type": "code",
   "execution_count": 10,
   "metadata": {
    "execution": {
     "iopub.execute_input": "2021-01-21T02:32:09.528133Z",
     "iopub.status.busy": "2021-01-21T02:32:09.527041Z",
     "iopub.status.idle": "2021-01-21T02:32:09.536804Z",
     "shell.execute_reply": "2021-01-21T02:32:09.537223Z"
    },
    "id": "Mr0GP-cQ-llN"
   },
   "outputs": [],
   "source": [
    "model.compile(optimizer='adam',\n",
    "              loss=tf.keras.losses.BinaryCrossentropy(from_logits=True),\n",
    "              metrics=['accuracy'])"
   ]
  },
  {
   "cell_type": "markdown",
   "metadata": {
    "id": "35jv_fzP-llU"
   },
   "source": [
    "## Train the model\n",
    "\n",
    "Train the model for 10 epochs in mini-batches of 512 samples. This is 10 iterations over all samples in the `x_train` and `y_train` tensors. While training, monitor the model's loss and accuracy on the 10,000 samples from the validation set:"
   ]
  },
  {
   "cell_type": "code",
   "execution_count": 11,
   "metadata": {
    "colab": {
     "base_uri": "https://localhost:8080/"
    },
    "execution": {
     "iopub.execute_input": "2021-01-21T02:32:09.542485Z",
     "iopub.status.busy": "2021-01-21T02:32:09.541473Z",
     "iopub.status.idle": "2021-01-21T02:32:27.978728Z",
     "shell.execute_reply": "2021-01-21T02:32:27.978091Z"
    },
    "id": "tXSGrjWZ-llW",
    "outputId": "3384f82c-91d0-4d89-ea09-0cf2486a2f68"
   },
   "outputs": [
    {
     "name": "stdout",
     "output_type": "stream",
     "text": [
      "Epoch 1/10\n",
      "24/24 [==============================] - 222s 6s/step - loss: 0.6383 - accuracy: 0.5345 - val_loss: 0.4572 - val_accuracy: 0.7740\n",
      "Epoch 2/10\n",
      "24/24 [==============================] - 82s 3s/step - loss: 0.3752 - accuracy: 0.8450 - val_loss: 0.3202 - val_accuracy: 0.8647\n",
      "Epoch 3/10\n",
      "24/24 [==============================] - 85s 4s/step - loss: 0.1495 - accuracy: 0.9586 - val_loss: 0.3045 - val_accuracy: 0.8763\n",
      "Epoch 4/10\n",
      "24/24 [==============================] - 83s 3s/step - loss: 0.0411 - accuracy: 0.9950 - val_loss: 0.3262 - val_accuracy: 0.8783\n",
      "Epoch 5/10\n",
      "24/24 [==============================] - 83s 3s/step - loss: 0.0148 - accuracy: 0.9987 - val_loss: 0.3361 - val_accuracy: 0.8853\n",
      "Epoch 6/10\n",
      "24/24 [==============================] - 83s 3s/step - loss: 0.0077 - accuracy: 0.9998 - val_loss: 0.3659 - val_accuracy: 0.8823\n",
      "Epoch 7/10\n",
      "24/24 [==============================] - 86s 4s/step - loss: 0.0049 - accuracy: 1.0000 - val_loss: 0.3846 - val_accuracy: 0.8837\n",
      "Epoch 8/10\n",
      "24/24 [==============================] - 102s 4s/step - loss: 0.0034 - accuracy: 1.0000 - val_loss: 0.4039 - val_accuracy: 0.8837\n",
      "Epoch 9/10\n",
      "24/24 [==============================] - 101s 4s/step - loss: 0.0026 - accuracy: 1.0000 - val_loss: 0.4229 - val_accuracy: 0.8813\n",
      "Epoch 10/10\n",
      "24/24 [==============================] - 99s 4s/step - loss: 0.0021 - accuracy: 1.0000 - val_loss: 0.4433 - val_accuracy: 0.8813\n"
     ]
    }
   ],
   "source": [
    "history = model.fit(x_train, y_train, batch_size=512, epochs=10, verbose=1, validation_split=0.2)"
   ]
  },
  {
   "cell_type": "code",
   "execution_count": 12,
   "metadata": {
    "colab": {
     "base_uri": "https://localhost:8080/",
     "height": 481
    },
    "id": "DhrkmOwP1ssM",
    "outputId": "a827defe-8382-4ae2-9810-ba9af55c739e"
   },
   "outputs": [
    {
     "name": "stdout",
     "output_type": "stream",
     "text": [
      "10000\n",
      "[[0.45414713]\n",
      " [0.23911591]\n",
      " [0.3587464 ]\n",
      " ...\n",
      " [0.46487293]\n",
      " [0.30518106]\n",
      " [0.40332535]]\n",
      "              precision    recall  f1-score   support\n",
      "\n",
      "    negative       0.86      0.88      0.87      5002\n",
      "    positive       0.88      0.85      0.86      4998\n",
      "\n",
      "    accuracy                           0.87     10000\n",
      "   macro avg       0.87      0.87      0.87     10000\n",
      "weighted avg       0.87      0.87      0.87     10000\n",
      "\n"
     ]
    }
   ],
   "source": [
    "from sklearn.metrics import classification_report\n",
    "from sklearn.preprocessing import MinMaxScaler\n",
    "\n",
    "# make a prediction\n",
    "testingPredictions = (model.predict(x_test) > 0.5).astype(\"int32\")\n",
    "print(len(testingPredictions))\n",
    "confidence_scores = model.predict(x_test, batch_size=512)\n",
    "\n",
    "# scaling confidence scores to range between 0 and 1 with MinMaxScaler \n",
    "scaler = MinMaxScaler(feature_range=[0, 1])\n",
    "scaler.fit(confidence_scores)\n",
    "confidence_scores = scaler.transform(confidence_scores)\n",
    "print(confidence_scores)\n",
    "\n",
    "target_names = ['negative', 'positive']\n",
    "print(classification_report(y_test, testingPredictions, target_names=target_names))\n"
   ]
  },
  {
   "cell_type": "code",
   "execution_count": 13,
   "metadata": {
    "colab": {
     "base_uri": "https://localhost:8080/",
     "height": 573
    },
    "id": "-waOkzl5Ifba",
    "outputId": "5beae3a7-9d87-4d4d-be6c-4deeb23c5b5e"
   },
   "outputs": [
    {
     "data": {
      "image/png": "[encoded data removed]",
      "text/plain": [
       "<Figure size 432x288 with 1 Axes>"
      ]
     },
     "metadata": {
      "needs_background": "light"
     },
     "output_type": "display_data"
    },
    {
     "data": {
      "image/png": "[encoded data removed]",
      "text/plain": [
       "<Figure size 432x288 with 1 Axes>"
      ]
     },
     "metadata": {
      "needs_background": "light"
     },
     "output_type": "display_data"
    }
   ],
   "source": [
    "import matplotlib.pyplot as plt\n",
    "\n",
    "plt.plot(history.history['accuracy'])\n",
    "plt.plot(history.history['val_accuracy'])\n",
    "\n",
    "plt.title('model accuracy')\n",
    "plt.ylabel('accuracy')\n",
    "plt.xlabel('epoch')\n",
    "plt.legend(['train','test'], loc='upper left')\n",
    "plt.show()\n",
    "\n",
    "plt.plot(history.history['loss'])\n",
    "plt.plot(history.history['val_loss'])\n",
    "\n",
    "plt.title('model loss')\n",
    "plt.ylabel('loss')\n",
    "plt.xlabel('epoch')\n",
    "plt.legend(['train','test'], loc='upper left')\n",
    "plt.show()"
   ]
  },
  {
   "cell_type": "markdown",
   "metadata": {
    "id": "9EEGuDVuzb5r"
   },
   "source": [
    "## Evaluate the model\n",
    "\n",
    "And let's see how the model performs. Two values will be returned. Loss (a number which represents our error, lower values are better), and accuracy."
   ]
  },
  {
   "cell_type": "code",
   "execution_count": 14,
   "metadata": {
    "colab": {
     "base_uri": "https://localhost:8080/"
    },
    "execution": {
     "iopub.execute_input": "2021-01-21T02:32:27.984454Z",
     "iopub.status.busy": "2021-01-21T02:32:27.983556Z",
     "iopub.status.idle": "2021-01-21T02:32:29.329122Z",
     "shell.execute_reply": "2021-01-21T02:32:29.329592Z"
    },
    "id": "zOMKywn4zReN",
    "outputId": "ad6f9bfd-cc73-462a-85a8-eea66ffc9ae6"
   },
   "outputs": [
    {
     "name": "stdout",
     "output_type": "stream",
     "text": [
      "313/313 - 1s - loss: 0.3341 - accuracy: 0.8660\n",
      "loss: 0.334\n",
      "accuracy: 0.866\n"
     ]
    }
   ],
   "source": [
    "results = model.evaluate(x_test, y_test, verbose=2)\n",
    "\n",
    "for name, value in zip(model.metrics_names, results):\n",
    "  print(\"%s: %.3f\" % (name, value))"
   ]
  },
  {
   "cell_type": "markdown",
   "metadata": {
    "id": "z1iEXVTR0Z2t"
   },
   "source": [
    "This fairly naive approach achieves an accuracy of about 87%. With more advanced approaches, the model should get closer to 95%."
   ]
  },
  {
   "cell_type": "code",
   "execution_count": 15,
   "metadata": {
    "colab": {
     "base_uri": "https://localhost:8080/",
     "height": 295
    },
    "id": "WZ-VeZGPJdGC",
    "outputId": "4a3db1f8-dbbd-40d0-93aa-286212247e71"
   },
   "outputs": [
    {
     "data": {
      "image/png": "[encoded data removed]",
      "text/plain": [
       "<Figure size 432x288 with 2 Axes>"
      ]
     },
     "metadata": {
      "needs_background": "light"
     },
     "output_type": "display_data"
    }
   ],
   "source": [
    "data = {'Actual':    y_test,\n",
    "        'Predicted': testingPredictions.reshape(len(y_test),)\n",
    "        }\n",
    "#print(testingLabels.reshape(len(testingLabels),1))\n",
    "df = pd.DataFrame(data, columns=['Actual','Predicted'])\n",
    "confusion_matrix = pd.crosstab(df['Actual'], df['Predicted'], rownames=['Actual'], colnames=['Predicted'])\n",
    "\n",
    "sns.heatmap(confusion_matrix, annot=True,cmap=\"YlGnBu\", fmt='d').set_title('Confusion Matrix of Testing')\n",
    "plt.show()"
   ]
  },
  {
   "cell_type": "code",
   "execution_count": 16,
   "metadata": {
    "colab": {
     "base_uri": "https://localhost:8080/",
     "height": 17
    },
    "id": "KE7pr-wmJov-",
    "outputId": "facf32e5-3e89-41c1-f17d-3fea86e8e508"
   },
   "outputs": [],
   "source": [
    "import json\n",
    "\n",
    "output_directory = \"libraries/\"\n",
    "output_filename = \"predict_hub.json\"\n",
    "full_path = os.path.join(output_directory, output_filename)\n",
    "\n",
    "data = []\n",
    "data.extend([{\n",
    "      'index': i,\n",
    "      'true_label': int(y_test[i]),\n",
    "      'predicted_label': int(testingPredictions[i]),\n",
    "      'confidence_score': confidence_scores.tolist()[i],\n",
    "      'text': str(x_test.tolist()[i])\n",
    "  } for i in range(len(testingPredictions))])\n",
    "\n",
    "\n",
    "with open(full_path, 'w') as outfile:\n",
    "    json.dump(data, outfile, indent=8, sort_keys=False)"
   ]
  },
  {
   "cell_type": "markdown",
   "metadata": {},
   "source": [
    "Now, we are going to visualize the result from our model with confusion matrix and barcode"
   ]
  },
  {
   "cell_type": "code",
   "execution_count": 4,
   "metadata": {},
   "outputs": [
    {
     "ename": "NameError",
     "evalue": "name 'full_path' is not defined",
     "output_type": "error",
     "traceback": [
      "\u001b[1;31m---------------------------------------------------------------------------\u001b[0m",
      "\u001b[1;31mNameError\u001b[0m                                 Traceback (most recent call last)",
      "\u001b[1;32m<ipython-input-4-1d37314bdb0c>\u001b[0m in \u001b[0;36m<module>\u001b[1;34m\u001b[0m\n\u001b[0;32m      4\u001b[0m \u001b[1;33m\u001b[0m\u001b[0m\n\u001b[0;32m      5\u001b[0m \u001b[1;32mimport\u001b[0m \u001b[0mlibraries\u001b[0m\u001b[1;33m.\u001b[0m\u001b[0mmlvislib\u001b[0m \u001b[1;32mas\u001b[0m \u001b[0mmlvs\u001b[0m\u001b[1;33m\u001b[0m\u001b[1;33m\u001b[0m\u001b[0m\n\u001b[1;32m----> 6\u001b[1;33m \u001b[0mcm\u001b[0m \u001b[1;33m=\u001b[0m \u001b[0mmlvs\u001b[0m\u001b[1;33m.\u001b[0m\u001b[0mConfusionMatrix\u001b[0m\u001b[1;33m(\u001b[0m\u001b[0mfull_path\u001b[0m\u001b[1;33m)\u001b[0m\u001b[1;33m\u001b[0m\u001b[1;33m\u001b[0m\u001b[0m\n\u001b[0m\u001b[0;32m      7\u001b[0m \u001b[0mcm\u001b[0m\u001b[1;33m.\u001b[0m\u001b[0mdisplay\u001b[0m\u001b[1;33m(\u001b[0m\u001b[1;33m)\u001b[0m\u001b[1;33m\u001b[0m\u001b[1;33m\u001b[0m\u001b[0m\n",
      "\u001b[1;31mNameError\u001b[0m: name 'full_path' is not defined"
     ]
    }
   ],
   "source": [
    "module_path = os.path.abspath(os.path.join('..'))\n",
    "if module_path not in sys.path:\n",
    "    sys.path.append(module_path)\n",
    "    \n",
    "import libraries.mlvislib as mlvs\n",
    "cm = mlvs.ConfusionMatrix(full_path)\n",
    "cm.display()"
   ]
  },
  {
   "cell_type": "code",
   "execution_count": 13,
   "metadata": {
    "scrolled": true
   },
   "outputs": [
    {
     "data": {
      "text/html": [
       "<!DOCTYPE html>\n",
       "<html>\n",
       "\n",
       "<head>\n",
       "\n",
       "  <script data-require=\"d3@3.5.3\" data-semver=\"3.5.3\" src=\"//cdnjs.cloudflare.com/ajax/libs/d3/3.5.3/d3.js\"></script>\n",
       "  <style>\n",
       "    #myInput {\n",
       "      /* background-image: url('/css/searchicon.png'); Add a search icon to input */\n",
       "      background-position: 10px 12px; /* Position the search icon */\n",
       "      background-repeat: no-repeat; /* Do not repeat the icon image */\n",
       "      width: 100%; /* Full-width */\n",
       "      font-size: 16px; /* Increase font-size */\n",
       "      padding: 12px 20px 12px 40px; /* Add some padding */\n",
       "      border: 1px solid #ddd; /* Add a grey border */\n",
       "      margin-bottom: 12px; /* Add some space below the input */\n",
       "    }\n",
       "\n",
       "\n",
       "    .cosinesim{\n",
       "      margin: auto;\n",
       "    }\n",
       "\n",
       "    .sent {\n",
       "      width: 65%;\n",
       "      max-width: 1000px;\n",
       "      white-space: nowrap;\n",
       "      overflow: scroll;\n",
       "      text-overflow: ellipsis; \n",
       "    }\n",
       "\n",
       "\n",
       "    #container{\n",
       "      height: 150px;\n",
       "      width: auto;\n",
       "      border: 1px solid black;\n",
       "      border-radius: 3px;\n",
       "      margin-bottom: 1%;\n",
       "    }\n",
       "    .left{\n",
       "      margin-right: 15px;\n",
       "      float : left;\n",
       "      text-align: center;\n",
       "    }\n",
       "    .center{\n",
       "      text-align: center;\n",
       "    }\n",
       "    #highlighted {  \n",
       "      background-color: aqua;\n",
       "      white-space: normal;\n",
       "      stroke-width: 1px;\n",
       "      stroke: black;\n",
       "      overflow: visible;\n",
       "    }\n",
       "\n",
       "    #loader {\n",
       "    border: 16px solid #f3f3f3; /* Light grey */\n",
       "    border-top: 16px solid #3498db; /* Blue */\n",
       "    border-radius: 50%;\n",
       "    width: 120px;\n",
       "    height: 120px;\n",
       "    animation: spin 2s linear infinite;\n",
       "  }\n",
       "\n",
       "    @keyframes spin {\n",
       "      0% { transform: rotate(0deg); }\n",
       "      100% { transform: rotate(360deg); }\n",
       "    }\n",
       "      \n",
       "  </style>\n",
       "</head>\n",
       "\n",
       "<body>\n",
       "  <div id=\"container\">\n",
       "    <div class=\"left\">\n",
       "      <h3> Epoch #:</h3>\n",
       "      <h4 id=\"epochNum\"></h4>\n",
       "      <input class=\"slider\" id=\"epoch_slider\" type=\"range\" min=\"0\" max=\"\" step=\"1\" value=\"0\" onchange=\"changedValues()\"/>\n",
       "    </div>\n",
       "    <div class=\"left\">\n",
       "      <h3> Number of Sentences:</h3>\n",
       "      <h4 id=\"sentNum\"></h4>\n",
       "      <input class=\"slider\" id=\"num_sentences\" type=\"range\" min=\"0\" max=\"\" step=\"1\" value=\"10\" onchange=\"changedValues()\"/>\n",
       "    </div>\n",
       "  </div>\n",
       "    <input type=\"text\" id=\"myInput\" placeholder=\"Filter out words\" style=\"width : auto\">\n",
       "    <button onclick=\"changedValues()\">Filter</button>\n",
       "    <div id=\"loader\"></div>\n",
       "    <div class=\"tables\" id=\"table_contents\"></div>\n",
       "  <script>\n",
       "\n",
       "    var loader = $('#loader');\n",
       "    var content = $('#table_contents');\n",
       "\n",
       "    $.getJSON(\"../d3_visualizations/hub.json\", (data) =>{\n",
       "        max_val = Object.keys(data).length;\n",
       "        console.log(\"max_val:\", max_val);\n",
       "        var input = document.getElementById(\"epoch_slider\");\n",
       "        input.setAttribute(\"max\", (max_val - 1));\n",
       "        input.setAttribute(\"value\", 0)\n",
       "        });\n",
       "\n",
       "    $.getJSON(\"../d3_visualizations/hub.json\", (data) =>{\n",
       "        max_val = Object.keys(data[0]).length;\n",
       "        console.log(\"max_val:\", max_val);\n",
       "        var input = document.getElementById(\"num_sentences\");\n",
       "        input.setAttribute(\"max\", (max_val/10));    // Since 10000 is so huge and takes forever to load, I set to 1000 as max\n",
       "        input.setAttribute(\"value\", 10)\n",
       "        });\n",
       "\n",
       "\n",
       "// https://titanwolf.org/Network/Articles/Article?AID=135aa377-6989-4a7c-8da9-6eb73ef33086#gsc.tab=0 - code that does numpy's argsort\n",
       "    function argsort(array) {\n",
       "      const arrayObject = array.map((value, idx) => { return { value, idx }; });\n",
       "      arrayObject.sort((a, b) => {\n",
       "          if (a.value < b.value) {\n",
       "            return 1;\n",
       "          }\n",
       "\n",
       "          if (a.value > b.value) {\n",
       "            return -1;\n",
       "          }\n",
       "          return 0;\n",
       "      });\n",
       "\n",
       "      const argIndices = arrayObject.map(data => data.idx);\n",
       "\n",
       "      return argIndices;\n",
       "    }\n",
       "\n",
       "    function changedValues() {\n",
       "      loader.show();\n",
       "      content.hide();\n",
       "      var x = d3.select(\"#myInput\").property(\"value\").toUpperCase();\n",
       "      var epoch_val = d3.select(\"#epoch_slider\").property(\"value\");\n",
       "      var sentences_val = d3.select(\"#num_sentences\").property(\"value\");\n",
       "\n",
       "      d3.selectAll(\"#epochNum\").text(epoch_val);\n",
       "      d3.selectAll(\"#sentNum\").text(sentences_val);\n",
       "      d3.json(\"../d3_visualizations/hub.json\", function(largedataset) {\n",
       "        dataSet = largedataset[epoch_val];\n",
       "        dataSet = largedataset[epoch_val];\n",
       "\n",
       "        d3.selectAll(\"table\").remove();\n",
       "        var i; \n",
       "        var test = [];\n",
       "        for(i = 0; i < sentences_val; i++){\n",
       "            if(dataSet[i]['Test Sentence'].toUpperCase().search(x) > -1){\n",
       "              test.push([dataSet[i][\"Epoch\"], dataSet[i]['Index'], dataSet[i]['Test Label'],dataSet[i]['Test Prediction'],dataSet[i]['Test Confidence Score'],dataSet[i]['Test Sentence'],dataSet[i]['Intermediate Values'], dataSet[i][\"Test Prediction\"]]);\n",
       "            }\n",
       "        }\n",
       "        createTable(test);\n",
       "        loader.hide();\n",
       "        content.show();\n",
       "      })\n",
       "    }\n",
       "\n",
       "    function automatic(){\n",
       "      loader.show();\n",
       "      content.hide();\n",
       "      var epoch_val = d3.select(\"#epoch_slider\").property(\"value\");\n",
       "      d3.selectAll(\"#epochNum\").text(epoch_val);\n",
       "\n",
       "      var sentences_val = d3.select(\"#num_sentences\").property(\"value\");\n",
       "      d3.selectAll(\"#sentNum\").text(sentences_val);\n",
       "\n",
       "      d3.json(\"../d3_visualizations/hub.json\", function(largedataset) {\n",
       "        dataSet = largedataset[epoch_val];\n",
       "\n",
       "        var max_sent = document.getElementById(\"num_sentences\");\n",
       "        var ep_num = document.getElementById(\"epoch_slider\");\n",
       "\n",
       "        max_sent.max = (Math.min(Object.keys(largedataset[0]).length -1), 300)\n",
       "        ep_num.max = Object.keys(largedataset).length -1;\n",
       "\n",
       "        var i; \n",
       "        var test = [];\n",
       "        for(i = 0; i <10; i++){\n",
       "          test.push([dataSet[i][\"Epoch\"], dataSet[i]['Index'], dataSet[i]['Test Label'],dataSet[i]['Test Prediction'],dataSet[i]['Test Confidence Score'],dataSet[i]['Test Sentence'],dataSet[i]['Intermediate Values'], dataSet[i][\"Test Prediction\"]]);\n",
       "        }\n",
       "\n",
       "        createTable(test);\n",
       "        loader.hide();\n",
       "        content.show();\n",
       "\n",
       "          \n",
       "      })\n",
       "    }\n",
       "    \n",
       "// https://stackoverflow.com/questions/51362252/javascript-cosine-similarity-function\n",
       "    function cosinesim(A,B){\n",
       "        var dotproduct=0;\n",
       "        var mA=0;\n",
       "        var mB=0;\n",
       "        for(i = 0; i < A.length; i++){ \n",
       "            dotproduct += (A[i] * B[i]);\n",
       "            mA += (A[i]*A[i]);\n",
       "            mB += (B[i]*B[i]);\n",
       "        }\n",
       "        mA = Math.sqrt(mA);\n",
       "        mB = Math.sqrt(mB);\n",
       "        var similarity = (dotproduct)/((mA)*(mB));\n",
       "        return Math.abs(similarity);\n",
       "    }\n",
       "\n",
       "    function createSVG(d) {\n",
       "      var w = 3;\n",
       "      var h = 20;\n",
       "\n",
       "      var kpi = document.createElement(\"div\");\n",
       "\n",
       "      var svg = d3.select(kpi).append(\"svg\")\n",
       "        .attr({\n",
       "          width: w,\n",
       "          height: h\n",
       "        });\n",
       "        \n",
       "      var elem = svg.selectAll(\"div\")\n",
       "        .data([d]);\n",
       "\n",
       "      var elemEnter = elem.enter()\n",
       "        .append(\"g\");\n",
       "    \n",
       "        elemEnter.append(\"rect\")\n",
       "          .attr({\n",
       "          x: 0,\n",
       "          y: 0, \n",
       "          width: 3,\n",
       "          height: 20\n",
       "          })\n",
       "          .style(\"opacity\", .5  + d*10)\n",
       "          .style(\"fill\", \"#4078a9\");\n",
       "    \n",
       "      return kpi;\n",
       "    }\n",
       " \n",
       "    function createTable(test){\n",
       "      var div = d3.select('.tables');\n",
       "        // append a table to the div\n",
       "        var table = div.append(\"table\")\n",
       "          .attr({\n",
       "            id: \"sample\",\n",
       "            class: 'table'\n",
       "          })\n",
       "          .classed(\"display\", true);\n",
       "\n",
       "        // append a body to the table\n",
       "        var tbody = table.append(\"tbody\")\n",
       "\n",
       "        // table body rows\n",
       "        var tableBodyRows = tbody.selectAll(\"tr\")\n",
       "          .data(test)\n",
       "          .enter()\n",
       "          .append(\"tr\");\n",
       "\n",
       "        tableBodyRows.selectAll(\"td\")\n",
       "          .data(function(d) {\n",
       "            return [d];\n",
       "          })\n",
       "          .enter()\n",
       "          .append(\"td\")\n",
       "          .attr('class', 'sent')\n",
       "          .text(function(d) {\n",
       "            return d[7] + \" - \" +  d[5];\n",
       "          })\n",
       "\n",
       "        tableBodyRows.selectAll(\"td\")\n",
       "          .data(function(d) {\n",
       "            return d[6];\n",
       "          })\n",
       "          .enter()\n",
       "          .append(\"td\")\n",
       "          .attr(\"class\", function(d,i) { return 'bar ' + i; })\n",
       "          .append(function(d) {\n",
       "            return createSVG(d);\n",
       "          });\n",
       "      \n",
       "        tableBodyRows.on({\n",
       "          \"click\": function(f){\n",
       "          d3.selectAll(\"#highlighted\")\n",
       "            .attr(\"id\", null)\n",
       "            .classed(\"sent\", true)\n",
       "          w = d3.select(this)\n",
       "            .select(\".sent\")\n",
       "            .attr(\"id\", \"highlighted\")\n",
       "\n",
       "          bars = [...f[6]]\n",
       "          changed_indicies = argsort(bars)\n",
       "          sorted_bars = bars.sort(function(a, b){return b-a});\n",
       "\n",
       "          // here we basically delete the current table & remake it except with different ordering for the barcode (done on line 207)\n",
       "          d3.selectAll('.bar').remove()\n",
       "          d3.selectAll('.cosinesim').remove()\n",
       "\n",
       "          big_array = []\n",
       "          answers = []\n",
       "\n",
       "          tableBodyRows.selectAll(\"td\")\n",
       "            .data(function(d) {\n",
       "              temp_array = []\n",
       "              var ugh = 0\n",
       "              for(ugh = 0; ugh < d[6].length; ugh++){\n",
       "                temp_array.push(d[6][changed_indicies[ugh]])\n",
       "              }\n",
       "              big_array.push(temp_array)\n",
       "\n",
       "              var answer = cosinesim(temp_array, sorted_bars);\n",
       "              answers.push(answer)\n",
       "              return [];\n",
       "            })\n",
       "          \n",
       "\n",
       "          tableBodyRows.each(function(k,l){\n",
       "            d3.select(this)\n",
       "              .data(function(d){\n",
       "                test = [...k]\n",
       "                test[8] = answers[l]\n",
       "                return [test];\n",
       "            })\n",
       "          })\n",
       "\n",
       "          tableBodyRows.each(function(k,l){\n",
       "            d3.select(this)\n",
       "            .append(\"td\")\n",
       "            .attr('class', 'cosinesim')\n",
       "            .text(function(d,i){\n",
       "              return answers[l].toFixed(2);\n",
       "            })\n",
       "          })\n",
       "\n",
       "          tableBodyRows.selectAll(\"td\")\n",
       "            .data(function(d,i) {\n",
       "              return big_array[i]\n",
       "            })\n",
       "            .enter()\n",
       "            .append(\"td\")\n",
       "            .attr(\"class\", function(d,i) { return 'bar ' + i; }) \n",
       "            .append(function(d) {\n",
       "              return createSVG(d);\n",
       "            });\n",
       "\n",
       "          tableBodyRows.sort(function(a,b) {\n",
       "            if (a[8] < b[8]) { \n",
       "              return 1; \n",
       "            } else if (a[8] > b[8]) { \n",
       "              return -1; \n",
       "            } else {\n",
       "              return 0;\n",
       "            }\n",
       "          })\n",
       "        }\n",
       "      });\n",
       "\n",
       "        \n",
       "    }\n",
       "    \n",
       "    automatic();\n",
       "  </script>\n",
       "</body>"
      ],
      "text/plain": [
       "<IPython.core.display.HTML object>"
      ]
     },
     "metadata": {},
     "output_type": "display_data"
    }
   ],
   "source": [
    "# rendering d3 barcode visualization\n",
    "from IPython.core.display import display, HTML\n",
    "\n",
    "display(HTML(filename='./vis_render/barcode.html'))"
   ]
  },
  {
   "cell_type": "code",
   "execution_count": null,
   "metadata": {},
   "outputs": [],
   "source": []
  }
 ],
 "metadata": {
  "accelerator": "GPU",
  "colab": {
   "collapsed_sections": [],
   "name": "text_classification_with_hub.ipynb",
   "provenance": []
  },
  "kernelspec": {
   "display_name": "Python 3",
   "language": "python",
   "name": "python3"
  },
  "language_info": {
   "codemirror_mode": {
    "name": "ipython",
    "version": 3
   },
   "file_extension": ".py",
   "mimetype": "text/x-python",
   "name": "python",
   "nbconvert_exporter": "python",
   "pygments_lexer": "ipython3",
   "version": "3.8.6"
  }
 },
 "nbformat": 4,
 "nbformat_minor": 1
}
