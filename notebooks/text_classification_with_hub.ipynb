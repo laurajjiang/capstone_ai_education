{
 "cells": [
  {
   "cell_type": "markdown",
   "metadata": {
    "id": "Ic4_occAAiAT"
   },
   "source": [
    "##### Copyright 2019 The TensorFlow Authors."
   ]
  },
  {
   "cell_type": "code",
   "execution_count": 1,
   "metadata": {
    "cellView": "form",
    "execution": {
     "iopub.execute_input": "2021-01-21T02:30:55.844731Z",
     "iopub.status.busy": "2021-01-21T02:30:55.844046Z",
     "iopub.status.idle": "2021-01-21T02:30:55.845988Z",
     "shell.execute_reply": "2021-01-21T02:30:55.846501Z"
    },
    "id": "ioaprt5q5US7"
   },
   "outputs": [],
   "source": [
    "#@title Licensed under the Apache License, Version 2.0 (the \"License\");\n",
    "# you may not use this file except in compliance with the License.\n",
    "# You may obtain a copy of the License at\n",
    "#\n",
    "# https://www.apache.org/licenses/LICENSE-2.0\n",
    "#\n",
    "# Unless required by applicable law or agreed to in writing, software\n",
    "# distributed under the License is distributed on an \"AS IS\" BASIS,\n",
    "# WITHOUT WARRANTIES OR CONDITIONS OF ANY KIND, either express or implied.\n",
    "# See the License for the specific language governing permissions and\n",
    "# limitations under the License."
   ]
  },
  {
   "cell_type": "code",
   "execution_count": 2,
   "metadata": {
    "cellView": "form",
    "execution": {
     "iopub.execute_input": "2021-01-21T02:30:55.850608Z",
     "iopub.status.busy": "2021-01-21T02:30:55.849897Z",
     "iopub.status.idle": "2021-01-21T02:30:55.851787Z",
     "shell.execute_reply": "2021-01-21T02:30:55.852215Z"
    },
    "id": "yCl0eTNH5RS3"
   },
   "outputs": [],
   "source": [
    "#@title MIT License\n",
    "#\n",
    "# Copyright (c) 2017 François Chollet\n",
    "#\n",
    "# Permission is hereby granted, free of charge, to any person obtaining a\n",
    "# copy of this software and associated documentation files (the \"Software\"),\n",
    "# to deal in the Software without restriction, including without limitation\n",
    "# the rights to use, copy, modify, merge, publish, distribute, sublicense,\n",
    "# and/or sell copies of the Software, and to permit persons to whom the\n",
    "# Software is furnished to do so, subject to the following conditions:\n",
    "#\n",
    "# The above copyright notice and this permission notice shall be included in\n",
    "# all copies or substantial portions of the Software.\n",
    "#\n",
    "# THE SOFTWARE IS PROVIDED \"AS IS\", WITHOUT WARRANTY OF ANY KIND, EXPRESS OR\n",
    "# IMPLIED, INCLUDING BUT NOT LIMITED TO THE WARRANTIES OF MERCHANTABILITY,\n",
    "# FITNESS FOR A PARTICULAR PURPOSE AND NONINFRINGEMENT. IN NO EVENT SHALL\n",
    "# THE AUTHORS OR COPYRIGHT HOLDERS BE LIABLE FOR ANY CLAIM, DAMAGES OR OTHER\n",
    "# LIABILITY, WHETHER IN AN ACTION OF CONTRACT, TORT OR OTHERWISE, ARISING\n",
    "# FROM, OUT OF OR IN CONNECTION WITH THE SOFTWARE OR THE USE OR OTHER\n",
    "# DEALINGS IN THE SOFTWARE."
   ]
  },
  {
   "cell_type": "markdown",
   "metadata": {
    "id": "ItXfxkxvosLH"
   },
   "source": [
    "# Text classification with TensorFlow Hub: Movie reviews"
   ]
  },
  {
   "cell_type": "markdown",
   "metadata": {
    "id": "hKY4XMc9o8iB"
   },
   "source": [
    "<table class=\"tfo-notebook-buttons\" align=\"left\">\n",
    "  <td>\n",
    "    <a target=\"_blank\" href=\"https://www.tensorflow.org/tutorials/keras/text_classification_with_hub\"><img src=\"https://www.tensorflow.org/images/tf_logo_32px.png\" />View on TensorFlow.org</a>\n",
    "  </td>\n",
    "  <td>\n",
    "    <a target=\"_blank\" href=\"https://colab.research.google.com/github/tensorflow/docs/blob/master/site/en/tutorials/keras/text_classification_with_hub.ipynb\"><img src=\"https://www.tensorflow.org/images/colab_logo_32px.png\" />Run in Google Colab</a>\n",
    "  </td>\n",
    "  <td>\n",
    "    <a target=\"_blank\" href=\"https://github.com/tensorflow/docs/blob/master/site/en/tutorials/keras/text_classification_with_hub.ipynb\"><img src=\"https://www.tensorflow.org/images/GitHub-Mark-32px.png\" />View on GitHub</a>\n",
    "  </td>\n",
    "  <td>\n",
    "    <a href=\"https://storage.googleapis.com/tensorflow_docs/docs/site/en/tutorials/keras/text_classification_with_hub.ipynb\"><img src=\"https://www.tensorflow.org/images/download_logo_32px.png\" />Download notebook</a>\n",
    "  </td>\n",
    "  <td>\n",
    "    <a href=\"https://tfhub.dev/s?module-type=text-embedding\"><img src=\"https://www.tensorflow.org/images/hub_logo_32px.png\" />See TF Hub models</a>\n",
    "  </td>\n",
    "</table>"
   ]
  },
  {
   "cell_type": "markdown",
   "metadata": {
    "id": "Eg62Pmz3o83v"
   },
   "source": [
    "This notebook classifies movie reviews as *positive* or *negative* using the text of the review. This is an example of *binary*—or two-class—classification, an important and widely applicable kind of machine learning problem.\n",
    "\n",
    "The tutorial demonstrates the basic application of transfer learning with [TensorFlow Hub](https://tfhub.dev) and Keras.\n",
    "\n",
    "We'll use the [IMDB dataset](https://www.tensorflow.org/api_docs/python/tf/keras/datasets/imdb) that contains the text of 50,000 movie reviews from the [Internet Movie Database](https://www.imdb.com/). These are split into 25,000 reviews for training and 25,000 reviews for testing. The training and testing sets are *balanced*, meaning they contain an equal number of positive and negative reviews. \n",
    "\n",
    "This notebook uses [`tf.keras`](https://www.tensorflow.org/guide/keras), a high-level API to build and train models in TensorFlow, and [`tensorflow_hub`](https://www.tensorflow.org/hub), a library for loading trained models from [TFHub](https://tfhub.dev) in a single line of code. For a more advanced text classification tutorial using `tf.keras`, see the [MLCC Text Classification Guide](https://developers.google.com/machine-learning/guides/text-classification/)."
   ]
  },
  {
   "cell_type": "code",
   "execution_count": 3,
   "metadata": {
    "execution": {
     "iopub.execute_input": "2021-01-21T02:30:55.861328Z",
     "iopub.status.busy": "2021-01-21T02:30:55.860661Z",
     "iopub.status.idle": "2021-01-21T02:30:57.340057Z",
     "shell.execute_reply": "2021-01-21T02:30:57.340555Z"
    },
    "id": "IHTzYqKZ7auw"
   },
   "outputs": [
    {
     "name": "stdout",
     "output_type": "stream",
     "text": [
      "Defaulting to user installation because normal site-packages is not writeable\n",
      "Requirement already satisfied: patool in /home/owen/.local/lib/python3.9/site-packages (1.12)\n"
     ]
    }
   ],
   "source": [
    "!pip install -q tensorflow-hub\n",
    "!pip install patool"
   ]
  },
  {
   "cell_type": "code",
   "execution_count": 4,
   "metadata": {},
   "outputs": [],
   "source": [
    "# Segment to Disable usage of GPU\n",
    "# import os\n",
    "# os.environ[\"CUDA_VISIBLE_DEVICES\"] = \"-1\""
   ]
  },
  {
   "cell_type": "code",
   "execution_count": 5,
   "metadata": {
    "colab": {
     "base_uri": "https://localhost:8080/"
    },
    "execution": {
     "iopub.execute_input": "2021-01-21T02:30:57.346597Z",
     "iopub.status.busy": "2021-01-21T02:30:57.345866Z",
     "iopub.status.idle": "2021-01-21T02:31:05.548690Z",
     "shell.execute_reply": "2021-01-21T02:31:05.549175Z"
    },
    "id": "2ew7HTbPpCJH",
    "outputId": "3fab584d-e995-457b-e721-b03b12b80bee"
   },
   "outputs": [
    {
     "name": "stdout",
     "output_type": "stream",
     "text": [
      "Version:  2.4.1\n",
      "Eager mode:  True\n",
      "Hub version:  0.12.0\n",
      "GPU is available\n"
     ]
    }
   ],
   "source": [
    "import os\n",
    "import sys\n",
    "import numpy as np\n",
    "\n",
    "import tensorflow as tf\n",
    "import tensorflow_hub as hub\n",
    "# import tensorflow_datasets as tfds\n",
    "\n",
    "module_path = os.path.abspath(os.path.join('..'))\n",
    "if module_path not in sys.path:\n",
    "    sys.path.append(module_path)\n",
    "    \n",
    "import libraries.mlvislib as mlvs\n",
    "\n",
    "print(\"Version: \", tf.__version__)\n",
    "print(\"Eager mode: \", tf.executing_eagerly())\n",
    "print(\"Hub version: \", hub.__version__)\n",
    "print(\"GPU is\", \"available\" if tf.config.experimental.list_physical_devices(\"GPU\") else \"NOT AVAILABLE\")"
   ]
  },
  {
   "cell_type": "markdown",
   "metadata": {
    "id": "iAsKG535pHep"
   },
   "source": [
    "## Load dataset\n",
    "\n",
    "The IMDB dataset is available on [imdb reviews](https://www.tensorflow.org/datasets/catalog/imdb_reviews) or on [TensorFlow datasets](https://www.tensorflow.org/datasets). The following code downloads the IMDB dataset to your machine (or the colab runtime):"
   ]
  },
  {
   "cell_type": "code",
   "execution_count": 6,
   "metadata": {
    "colab": {
     "base_uri": "https://localhost:8080/",
     "height": 212
    },
    "execution": {
     "iopub.execute_input": "2021-01-21T02:31:05.554665Z",
     "iopub.status.busy": "2021-01-21T02:31:05.554003Z",
     "iopub.status.idle": "2021-01-21T02:32:00.389224Z",
     "shell.execute_reply": "2021-01-21T02:32:00.388420Z"
    },
    "id": "zXXx5Oc3pOmN",
    "outputId": "56456b56-a9d7-46b4-ffb2-2e90c3cc59c8"
   },
   "outputs": [
    {
     "data": {
      "text/html": [
       "<div>\n",
       "<style scoped>\n",
       "    .dataframe tbody tr th:only-of-type {\n",
       "        vertical-align: middle;\n",
       "    }\n",
       "\n",
       "    .dataframe tbody tr th {\n",
       "        vertical-align: top;\n",
       "    }\n",
       "\n",
       "    .dataframe thead th {\n",
       "        text-align: right;\n",
       "    }\n",
       "</style>\n",
       "<table border=\"1\" class=\"dataframe\">\n",
       "  <thead>\n",
       "    <tr style=\"text-align: right;\">\n",
       "      <th></th>\n",
       "      <th>review</th>\n",
       "      <th>sentiment</th>\n",
       "    </tr>\n",
       "  </thead>\n",
       "  <tbody>\n",
       "    <tr>\n",
       "      <th>0</th>\n",
       "      <td>One of the other reviewers has mentioned that ...</td>\n",
       "      <td>positive</td>\n",
       "    </tr>\n",
       "    <tr>\n",
       "      <th>1</th>\n",
       "      <td>A wonderful little production. &lt;br /&gt;&lt;br /&gt;The...</td>\n",
       "      <td>positive</td>\n",
       "    </tr>\n",
       "    <tr>\n",
       "      <th>2</th>\n",
       "      <td>I thought this was a wonderful way to spend ti...</td>\n",
       "      <td>positive</td>\n",
       "    </tr>\n",
       "    <tr>\n",
       "      <th>3</th>\n",
       "      <td>Basically there's a family where a little boy ...</td>\n",
       "      <td>negative</td>\n",
       "    </tr>\n",
       "    <tr>\n",
       "      <th>4</th>\n",
       "      <td>Petter Mattei's \"Love in the Time of Money\" is...</td>\n",
       "      <td>positive</td>\n",
       "    </tr>\n",
       "  </tbody>\n",
       "</table>\n",
       "</div>"
      ],
      "text/plain": [
       "                                              review sentiment\n",
       "0  One of the other reviewers has mentioned that ...  positive\n",
       "1  A wonderful little production. <br /><br />The...  positive\n",
       "2  I thought this was a wonderful way to spend ti...  positive\n",
       "3  Basically there's a family where a little boy ...  negative\n",
       "4  Petter Mattei's \"Love in the Time of Money\" is...  positive"
      ]
     },
     "execution_count": 6,
     "metadata": {},
     "output_type": "execute_result"
    }
   ],
   "source": [
    "# Split the training set into 60% and 40%, so we'll end up with 15,000 examples\n",
    "# for training, 10,000 examples for validation and 25,000 examples for testing.\n",
    "from IPython.display import display\n",
    "import ipywidgets as widgets\n",
    "import pandas as pd\n",
    "\n",
    "module_path = os.path.abspath(os.path.join('..'))\n",
    "if module_path not in sys.path:\n",
    "    sys.path.append(module_path)\n",
    "# import patoolib\n",
    "\n",
    "# patoolib.extract_archive(\"dataset/IMDB Dataset.csv.zip\", outdir='/dataset/')\n",
    "dataset = pd.read_csv(\"dataset/IMDB Dataset.csv\")\n",
    "dataset = dataset[:25000]\n",
    "\n",
    "dataset.isnull().values.any()\n",
    "dataset.shape\n",
    "dataset.head()"
   ]
  },
  {
   "cell_type": "markdown",
   "metadata": {
    "id": "l50X3GfjpU4r"
   },
   "source": [
    "## Explore the data \n",
    "\n",
    "Let's take a moment to understand the format of the data. Each example is a sentence representing the movie review and a corresponding label. The sentence is not preprocessed in any way. The label is an integer value of either 0 or 1, where 0 is a negative review, and 1 is a positive review.\n",
    "\n",
    "Let's print first 10 examples."
   ]
  },
  {
   "cell_type": "code",
   "execution_count": 7,
   "metadata": {
    "colab": {
     "base_uri": "https://localhost:8080/",
     "height": 447
    },
    "id": "rmexS4Gt8BnN",
    "outputId": "2c7592ea-ef80-42cc-ecdd-ac855cc76b0d"
   },
   "outputs": [
    {
     "data": {
      "text/plain": [
       "0    One of the other reviewers has mentioned that ...\n",
       "1    A wonderful little production. <br /><br />The...\n",
       "2    I thought this was a wonderful way to spend ti...\n",
       "3    Basically there's a family where a little boy ...\n",
       "4    Petter Mattei's \"Love in the Time of Money\" is...\n",
       "5    Probably my all-time favorite movie, a story o...\n",
       "6    I sure would like to see a resurrection of a u...\n",
       "7    This show was an amazing, fresh & innovative i...\n",
       "8    Encouraged by the positive comments about this...\n",
       "Name: review, dtype: object"
      ]
     },
     "execution_count": 7,
     "metadata": {},
     "output_type": "execute_result"
    },
    {
     "data": {
      "image/png": "[encoded data removed]",
      "text/plain": [
       "<Figure size 432x288 with 1 Axes>"
      ]
     },
     "metadata": {
      "needs_background": "light"
     },
     "output_type": "display_data"
    }
   ],
   "source": [
    "import seaborn as sns\n",
    "\n",
    "sns.countplot(x='sentiment', data=dataset)\n",
    "dataset[\"review\"][:9]"
   ]
  },
  {
   "cell_type": "markdown",
   "metadata": {
    "id": "h5bmxzE0Fobd"
   },
   "source": [
    "## Pre-Processing Data"
   ]
  },
  {
   "cell_type": "code",
   "execution_count": 8,
   "metadata": {
    "colab": {
     "base_uri": "https://localhost:8080/"
    },
    "execution": {
     "iopub.execute_input": "2021-01-21T02:32:00.394689Z",
     "iopub.status.busy": "2021-01-21T02:32:00.393954Z",
     "iopub.status.idle": "2021-01-21T02:32:00.443785Z",
     "shell.execute_reply": "2021-01-21T02:32:00.444242Z"
    },
    "id": "QtTS4kpEpjbi",
    "outputId": "8a23a4bc-6e5a-4bf6-c55e-b0c0e50ac045"
   },
   "outputs": [
    {
     "name": "stdout",
     "output_type": "stream",
     "text": [
      "18930    \"Wired\" would have to rate as one of the ten w...\n",
      "2791     A 'Wes Craven presents' movie from 1995, direc...\n",
      "388      A lovely little B picture with all the usual J...\n",
      "22764    I am going to go out on a limb, and actually d...\n",
      "24934    To put in simple words or rather a word, would...\n",
      "                               ...                        \n",
      "21575    I enjoyed a lot watching this movie. It has a ...\n",
      "5390     I can't knock this film too terribly, because ...\n",
      "860      This production was quite a surprise for me. I...\n",
      "15795    This is a decent movie. Although little bit sh...\n",
      "23654    Another very good Mann flick thanks to the fat...\n",
      "Name: review, Length: 15000, dtype: object\n"
     ]
    }
   ],
   "source": [
    "from sklearn.model_selection import train_test_split\n",
    "import re\n",
    "\n",
    "def cleanText(sentence):\n",
    "\n",
    "    # Remove punctuations and numbers\n",
    "    sentence = re.sub('[^a-zA-Z]', ' ', sentence)\n",
    "\n",
    "    # Single character removal\n",
    "    sentence = re.sub(r\"\\s+[a-zA-Z]\\s+\", ' ', sentence)\n",
    "\n",
    "    # Removing multiple spaces\n",
    "    sentence = re.sub(r'\\s+', ' ', sentence)\n",
    "\n",
    "    return sentence\n",
    "\n",
    "def preProcess(text):\n",
    "    # Make lower case\n",
    "    text = text.lower()\n",
    "\n",
    "    # Replace non-text characters with spaces\n",
    "    nonText = string.punctuation + (\"\")\n",
    "    text = text.translate(str.maketrans(nonText, ' ' * (len(nonText))))\n",
    "\n",
    "    # Tokenize\n",
    "    words = text.split()\n",
    "\n",
    "    return words\n",
    "\n",
    "#x = []\n",
    "#sentences = list(dataset['review'])\n",
    "#for sen in sentences:\n",
    "#    x.append(cleanText(sen))\n",
    "\n",
    "y = dataset['sentiment']\n",
    "\n",
    "y = np.array(list(map(lambda x: 1 if x==\"positive\" else 0, y)))\n",
    "\n",
    "x_train, x_test, y_train, y_test = train_test_split(dataset['review'], y, test_size=0.4, random_state=42)\n",
    "\n",
    "print(x_train)"
   ]
  },
  {
   "cell_type": "markdown",
   "metadata": {
    "id": "LLC02j2g-llC"
   },
   "source": [
    "## Build the model\n",
    "\n",
    "The neural network is created by stacking layers—this requires three main architectural decisions:\n",
    "\n",
    "* How to represent the text?\n",
    "* How many layers to use in the model?\n",
    "* How many *hidden units* to use for each layer?\n",
    "\n",
    "In this example, the input data consists of sentences. The labels to predict are either 0 or 1.\n",
    "\n",
    "One way to represent the text is to convert sentences into embeddings vectors. We can use a pre-trained text embedding as the first layer, which will have three advantages:\n",
    "\n",
    "*   we don't have to worry about text preprocessing,\n",
    "*   we can benefit from transfer learning,\n",
    "*   the embedding has a fixed size, so it's simpler to process.\n",
    "\n",
    "For this example we will use a **pre-trained text embedding model** from [TensorFlow Hub](https://tfhub.dev) called [google/nnlm-en-dim50/2](https://tfhub.dev/google/nnlm-en-dim50/2).\n",
    "\n",
    "There are many other pre-trained text embeddings from TFHub that can be used in this tutorial:\n",
    "\n",
    "* [google/nnlm-en-dim128/2](https://tfhub.dev/google/nnlm-en-dim128/2) - trained with the same NNLM architecture on the same data as [google/nnlm-en-dim50/2](https://tfhub.dev/google/nnlm-en-dim50/2), but with a larger embedding dimension. Larger dimensional embeddings can improve on your task but it may take longer to train your model.\n",
    "* [google/nnlm-en-dim128-with-normalization/2](https://tfhub.dev/google/nnlm-en-dim128-with-normalization/2) - the same as [google/nnlm-en-dim128/2](https://tfhub.dev/google/nnlm-en-dim128/2), but with additional text normalization such as removing punctuation. This can help if the text in your task contains additional characters or punctuation.\n",
    "* [google/universal-sentence-encoder/4](https://tfhub.dev/google/universal-sentence-encoder/4) - a much larger model yielding 512 dimensional embeddings trained with a deep averaging network (DAN) encoder.\n",
    "\n",
    "And many more! Find more [text embedding models](https://tfhub.dev/s?module-type=text-embedding) on TFHub."
   ]
  },
  {
   "cell_type": "markdown",
   "metadata": {
    "id": "In2nDpTLkgKa"
   },
   "source": [
    "Let's first create a Keras layer that uses a TensorFlow Hub model to embed the sentences, and try it out on a couple of input examples. Note that no matter the length of the input text, the output shape of the embeddings is: `(num_examples, embedding_dimension)`."
   ]
  },
  {
   "cell_type": "code",
   "execution_count": 9,
   "metadata": {
    "execution": {
     "iopub.execute_input": "2021-01-21T02:32:00.458022Z",
     "iopub.status.busy": "2021-01-21T02:32:00.456993Z",
     "iopub.status.idle": "2021-01-21T02:32:09.087601Z",
     "shell.execute_reply": "2021-01-21T02:32:09.088050Z"
    },
    "id": "_NUbzVeYkgcO"
   },
   "outputs": [],
   "source": [
    "embedding = \"https://tfhub.dev/google/nnlm-en-dim50/2\"\n",
    "# universal_sentence_embedding = \"https://tfhub.dev/google/universal-sentence-encoder/4\"\n",
    "# hub_layer = hub.KerasLayer(universal_sentence_embedding, input_shape=[], \n",
    "#                            dtype=tf.string, trainable=True)\n",
    "hub_layer = hub.KerasLayer(embedding, input_shape=[], \n",
    "                           dtype=tf.string, trainable=True)"
   ]
  },
  {
   "cell_type": "markdown",
   "metadata": {
    "id": "dfSbV6igl1EH"
   },
   "source": [
    "Let's now build the full model:"
   ]
  },
  {
   "cell_type": "code",
   "execution_count": 10,
   "metadata": {
    "colab": {
     "base_uri": "https://localhost:8080/"
    },
    "execution": {
     "iopub.execute_input": "2021-01-21T02:32:09.101252Z",
     "iopub.status.busy": "2021-01-21T02:32:09.099886Z",
     "iopub.status.idle": "2021-01-21T02:32:09.513013Z",
     "shell.execute_reply": "2021-01-21T02:32:09.513480Z"
    },
    "id": "xpKOoWgu-llD",
    "outputId": "aac8311f-c33e-4585-f2de-8374e887642d"
   },
   "outputs": [
    {
     "name": "stdout",
     "output_type": "stream",
     "text": [
      "Model: \"sequential\"\n",
      "_________________________________________________________________\n",
      "Layer (type)                 Output Shape              Param #   \n",
      "=================================================================\n",
      "keras_layer (KerasLayer)     (None, 50)                48190600  \n",
      "_________________________________________________________________\n",
      "dense (Dense)                (None, 16)                816       \n",
      "_________________________________________________________________\n",
      "dense_1 (Dense)              (None, 1)                 17        \n",
      "=================================================================\n",
      "Total params: 48,191,433\n",
      "Trainable params: 48,191,433\n",
      "Non-trainable params: 0\n",
      "_________________________________________________________________\n"
     ]
    }
   ],
   "source": [
    "from keras.models import Sequential, Model\n",
    "from keras.layers.core import Activation, Dropout, Dense\n",
    "from keras.layers import Flatten\n",
    "from keras.layers import GlobalMaxPooling1D\n",
    "from keras.layers.embeddings import Embedding\n",
    "\n",
    "model = Sequential()\n",
    "model.add(hub_layer)\n",
    "# Adjusting the below value will change the amount of 'bars' loaded into the Barcode Vis\n",
    "model.add(Dense(16, activation='relu'))\n",
    "model.add(Dense(1))\n",
    "\n",
    "model.summary()"
   ]
  },
  {
   "cell_type": "markdown",
   "metadata": {
    "id": "6PbKQ6mucuKL"
   },
   "source": [
    "The layers are stacked sequentially to build the classifier:\n",
    "\n",
    "1. The first layer is a TensorFlow Hub layer. This layer uses a pre-trained Saved Model to map a sentence into its embedding vector. The pre-trained text embedding model that we are using ([google/nnlm-en-dim50/2](https://tfhub.dev/google/nnlm-en-dim50/2)) splits the sentence into tokens, embeds each token and then combines the embedding. The resulting dimensions are: `(num_examples, embedding_dimension)`. For this NNLM model, the `embedding_dimension` is 50.\n",
    "2. This fixed-length output vector is piped through a fully-connected (`Dense`) layer with 16 hidden units.\n",
    "3. The last layer is densely connected with a single output node.\n",
    "\n",
    "Let's compile the model."
   ]
  },
  {
   "cell_type": "markdown",
   "metadata": {
    "id": "L4EqVWg4-llM"
   },
   "source": [
    "### Loss function and optimizer\n",
    "\n",
    "A model needs a loss function and an optimizer for training. Since this is a binary classification problem and the model outputs logits (a single-unit layer with a linear activation), we'll use the `binary_crossentropy` loss function.\n",
    "\n",
    "This isn't the only choice for a loss function, you could, for instance, choose `mean_squared_error`. But, generally, `binary_crossentropy` is better for dealing with probabilities—it measures the \"distance\" between probability distributions, or in our case, between the ground-truth distribution and the predictions.\n",
    "\n",
    "Later, when we are exploring regression problems (say, to predict the price of a house), we will see how to use another loss function called mean squared error.\n",
    "\n",
    "Now, configure the model to use an optimizer and a loss function:"
   ]
  },
  {
   "cell_type": "code",
   "execution_count": 11,
   "metadata": {
    "execution": {
     "iopub.execute_input": "2021-01-21T02:32:09.528133Z",
     "iopub.status.busy": "2021-01-21T02:32:09.527041Z",
     "iopub.status.idle": "2021-01-21T02:32:09.536804Z",
     "shell.execute_reply": "2021-01-21T02:32:09.537223Z"
    },
    "id": "Mr0GP-cQ-llN"
   },
   "outputs": [],
   "source": [
    "model.compile(optimizer='adam',\n",
    "              loss=tf.keras.losses.BinaryCrossentropy(from_logits=True),\n",
    "              metrics=['accuracy'])"
   ]
  },
  {
   "cell_type": "markdown",
   "metadata": {
    "id": "35jv_fzP-llU"
   },
   "source": [
    "## Train the model\n",
    "\n",
    "Train the model for 10 epochs in mini-batches of 512 samples. This is 10 iterations over all samples in the `x_train` and `y_train` tensors. While training, monitor the model's loss and accuracy on the 10,000 samples from the validation set:"
   ]
  },
  {
   "cell_type": "markdown",
   "metadata": {},
   "source": [
    "### Extracting Data\n",
    "\n",
    "Here, we define the Callback function used to extact data from the model as it fits."
   ]
  },
  {
   "cell_type": "code",
   "execution_count": 12,
   "metadata": {},
   "outputs": [],
   "source": [
    "import libraries.extractioncallback as excb\n",
    "\n",
    "extractor = excb.CallbackDataExtractor(\n",
    "    model = model,\n",
    "    layer = 1,\n",
    "    validation_data = (x_test, y_test),\n",
    "    rec_int_values = True,\n",
    "    is_bin = True\n",
    ")"
   ]
  },
  {
   "cell_type": "code",
   "execution_count": 13,
   "metadata": {
    "colab": {
     "base_uri": "https://localhost:8080/"
    },
    "execution": {
     "iopub.execute_input": "2021-01-21T02:32:09.542485Z",
     "iopub.status.busy": "2021-01-21T02:32:09.541473Z",
     "iopub.status.idle": "2021-01-21T02:32:27.978728Z",
     "shell.execute_reply": "2021-01-21T02:32:27.978091Z"
    },
    "id": "tXSGrjWZ-llW",
    "outputId": "3384f82c-91d0-4d89-ea09-0cf2486a2f68",
    "scrolled": false
   },
   "outputs": [
    {
     "name": "stdout",
     "output_type": "stream",
     "text": [
      "Epoch 1/10\n",
      "24/24 [==============================] - 3s 101ms/step - loss: 0.6843 - accuracy: 0.5042 - val_loss: 0.6334 - val_accuracy: 0.5560\n",
      "Epoch 2/10\n",
      "24/24 [==============================] - 2s 85ms/step - loss: 0.6082 - accuracy: 0.5917 - val_loss: 0.5674 - val_accuracy: 0.6673\n",
      "Epoch 3/10\n",
      "24/24 [==============================] - 2s 84ms/step - loss: 0.5216 - accuracy: 0.7227 - val_loss: 0.4856 - val_accuracy: 0.7743\n",
      "Epoch 4/10\n",
      "24/24 [==============================] - 2s 83ms/step - loss: 0.4091 - accuracy: 0.8342 - val_loss: 0.4013 - val_accuracy: 0.8110\n",
      "Epoch 5/10\n",
      "24/24 [==============================] - 2s 83ms/step - loss: 0.2932 - accuracy: 0.8911 - val_loss: 0.3502 - val_accuracy: 0.8453\n",
      "Epoch 6/10\n",
      "24/24 [==============================] - 2s 85ms/step - loss: 0.2089 - accuracy: 0.9262 - val_loss: 0.3254 - val_accuracy: 0.8550\n",
      "Epoch 7/10\n",
      "24/24 [==============================] - 2s 83ms/step - loss: 0.1486 - accuracy: 0.9548 - val_loss: 0.3172 - val_accuracy: 0.8627\n",
      "Epoch 8/10\n",
      "24/24 [==============================] - 2s 83ms/step - loss: 0.1050 - accuracy: 0.9734 - val_loss: 0.3206 - val_accuracy: 0.8677\n",
      "Epoch 9/10\n",
      "24/24 [==============================] - 2s 83ms/step - loss: 0.0746 - accuracy: 0.9841 - val_loss: 0.3282 - val_accuracy: 0.8680\n",
      "Epoch 10/10\n",
      "24/24 [==============================] - 2s 83ms/step - loss: 0.0535 - accuracy: 0.9908 - val_loss: 0.3318 - val_accuracy: 0.8623\n"
     ]
    }
   ],
   "source": [
    "history = model.fit(x_train, y_train, batch_size=512, epochs=10, verbose=1, validation_split=0.2, shuffle=False, callbacks=[extractor])"
   ]
  },
  {
   "cell_type": "code",
   "execution_count": 14,
   "metadata": {
    "scrolled": true
   },
   "outputs": [],
   "source": [
    "# epoch_output = extractor.get_testing_results()\n",
    "\n",
    "# extractor_predictions = extractor.get_stored_predictions()\n",
    "# edited_predictions = []\n",
    "# for epoch in extractor_predictions:\n",
    "#     epoch_predictions = []\n",
    "#     for item in epoch:\n",
    "#         epoch_predictions.append((item > .5).astype(\"int32\"))\n",
    "#     edited_predictions.append(epoch_predictions)\n",
    "\n",
    "# extractor.set_stored_predictions(edited_predictions)"
   ]
  },
  {
   "cell_type": "code",
   "execution_count": 15,
   "metadata": {
    "colab": {
     "base_uri": "https://localhost:8080/",
     "height": 481
    },
    "id": "DhrkmOwP1ssM",
    "outputId": "a827defe-8382-4ae2-9810-ba9af55c739e"
   },
   "outputs": [
    {
     "name": "stdout",
     "output_type": "stream",
     "text": [
      "              precision    recall  f1-score   support\n",
      "\n",
      "    negative       0.84      0.88      0.86      5002\n",
      "    positive       0.88      0.84      0.86      4998\n",
      "\n",
      "    accuracy                           0.86     10000\n",
      "   macro avg       0.86      0.86      0.86     10000\n",
      "weighted avg       0.86      0.86      0.86     10000\n",
      "\n"
     ]
    },
    {
     "data": {
      "text/plain": [
       "array([[1],\n",
       "       [0],\n",
       "       [0],\n",
       "       ...,\n",
       "       [0],\n",
       "       [0],\n",
       "       [0]], dtype=int32)"
      ]
     },
     "execution_count": 15,
     "metadata": {},
     "output_type": "execute_result"
    }
   ],
   "source": [
    "from sklearn.metrics import classification_report\n",
    "from sklearn.preprocessing import MinMaxScaler\n",
    "\n",
    "# make a prediction\n",
    "testingPredictions = (model.predict(x_test) > 0.5).astype(\"int32\")\n",
    "confidence_scores = model.predict(x_test, batch_size=512)\n",
    "\n",
    "# scaling confidence scores to range between 0 and 1 with MinMaxScaler \n",
    "scaler = MinMaxScaler(feature_range=[0, 1])\n",
    "scaler.fit(confidence_scores)\n",
    "confidence_scores = scaler.transform(confidence_scores)\n",
    "\n",
    "target_names = ['negative', 'positive']\n",
    "print(classification_report(y_test, testingPredictions, target_names=target_names))\n",
    "testingPredictions"
   ]
  },
  {
   "cell_type": "code",
   "execution_count": 16,
   "metadata": {
    "colab": {
     "base_uri": "https://localhost:8080/",
     "height": 573
    },
    "id": "-waOkzl5Ifba",
    "outputId": "5beae3a7-9d87-4d4d-be6c-4deeb23c5b5e"
   },
   "outputs": [
    {
     "data": {
      "image/png": "[encoded data removed]",
      "text/plain": [
       "<Figure size 432x288 with 1 Axes>"
      ]
     },
     "metadata": {
      "needs_background": "light"
     },
     "output_type": "display_data"
    },
    {
     "data": {
      "image/png": "[encoded data removed]",
      "text/plain": [
       "<Figure size 432x288 with 1 Axes>"
      ]
     },
     "metadata": {
      "needs_background": "light"
     },
     "output_type": "display_data"
    }
   ],
   "source": [
    "import matplotlib.pyplot as plt\n",
    "\n",
    "plt.plot(history.history['accuracy'])\n",
    "plt.plot(history.history['val_accuracy'])\n",
    "\n",
    "plt.title('model accuracy')\n",
    "plt.ylabel('accuracy')\n",
    "plt.xlabel('epoch')\n",
    "plt.legend(['train','test'], loc='upper left')\n",
    "plt.show()\n",
    "\n",
    "plt.plot(history.history['loss'])\n",
    "plt.plot(history.history['val_loss'])\n",
    "\n",
    "plt.title('model loss')\n",
    "plt.ylabel('loss')\n",
    "plt.xlabel('epoch')\n",
    "plt.legend(['train','test'], loc='upper left')\n",
    "plt.show()"
   ]
  },
  {
   "cell_type": "markdown",
   "metadata": {
    "id": "9EEGuDVuzb5r"
   },
   "source": [
    "## Evaluate the model\n",
    "\n",
    "And let's see how the model performs. Two values will be returned. Loss (a number which represents our error, lower values are better), and accuracy."
   ]
  },
  {
   "cell_type": "code",
   "execution_count": 17,
   "metadata": {
    "colab": {
     "base_uri": "https://localhost:8080/"
    },
    "execution": {
     "iopub.execute_input": "2021-01-21T02:32:27.984454Z",
     "iopub.status.busy": "2021-01-21T02:32:27.983556Z",
     "iopub.status.idle": "2021-01-21T02:32:29.329122Z",
     "shell.execute_reply": "2021-01-21T02:32:29.329592Z"
    },
    "id": "zOMKywn4zReN",
    "outputId": "ad6f9bfd-cc73-462a-85a8-eea66ffc9ae6"
   },
   "outputs": [
    {
     "name": "stdout",
     "output_type": "stream",
     "text": [
      "313/313 - 1s - loss: 0.3434 - accuracy: 0.8593\n",
      "loss: 0.343\n",
      "accuracy: 0.859\n"
     ]
    }
   ],
   "source": [
    "results = model.evaluate(x_test, y_test, verbose=2)\n",
    "\n",
    "for name, value in zip(model.metrics_names, results):\n",
    "  print(\"%s: %.3f\" % (name, value))"
   ]
  },
  {
   "cell_type": "markdown",
   "metadata": {
    "id": "z1iEXVTR0Z2t"
   },
   "source": [
    "This fairly naive approach achieves an accuracy of about 87%. With more advanced approaches, the model should get closer to 95%."
   ]
  },
  {
   "cell_type": "code",
   "execution_count": 18,
   "metadata": {
    "colab": {
     "base_uri": "https://localhost:8080/",
     "height": 295
    },
    "id": "WZ-VeZGPJdGC",
    "outputId": "4a3db1f8-dbbd-40d0-93aa-286212247e71",
    "scrolled": true
   },
   "outputs": [
    {
     "data": {
      "image/png": "[encoded data removed]",
      "text/plain": [
       "<Figure size 432x288 with 2 Axes>"
      ]
     },
     "metadata": {
      "needs_background": "light"
     },
     "output_type": "display_data"
    }
   ],
   "source": [
    "data = {'Actual':    y_test,\n",
    "        'Predicted': testingPredictions.reshape(len(y_test),)\n",
    "        }\n",
    "#print(testingLabels.reshape(len(testingLabels),1))\n",
    "df = pd.DataFrame(data, columns=['Actual','Predicted'])\n",
    "confusion_matrix = pd.crosstab(df['Actual'], df['Predicted'], rownames=['Actual'], colnames=['Predicted'])\n",
    "\n",
    "sns.heatmap(confusion_matrix, annot=True,cmap=\"YlGnBu\", fmt='d').set_title('Confusion Matrix of Testing')\n",
    "plt.show()"
   ]
  },
  {
   "cell_type": "code",
   "execution_count": 19,
   "metadata": {},
   "outputs": [
    {
     "data": {
      "text/plain": [
       "0       [1]\n",
       "1       [0]\n",
       "2       [0]\n",
       "3       [0]\n",
       "4       [1]\n",
       "       ... \n",
       "9995    [0]\n",
       "9996    [1]\n",
       "9997    [0]\n",
       "9998    [0]\n",
       "9999    [0]\n",
       "Name: prediction, Length: 10000, dtype: object"
      ]
     },
     "execution_count": 19,
     "metadata": {},
     "output_type": "execute_result"
    }
   ],
   "source": [
    "epoch_output = extractor.get_testing_results()\n",
    "epoch_output[9]['prediction']"
   ]
  },
  {
   "cell_type": "code",
   "execution_count": 20,
   "metadata": {
    "scrolled": true
   },
   "outputs": [
    {
     "data": {
      "text/html": [
       "<script data-require=\"d3@3.5.3\" data-semver=\"3.5.3\" src=\"//cdnjs.cloudflare.com/ajax/libs/d3/3.5.3/d3.js\"></script>"
      ],
      "text/plain": [
       "<IPython.core.display.HTML object>"
      ]
     },
     "metadata": {},
     "output_type": "display_data"
    }
   ],
   "source": [
    "import json\n",
    "from IPython.core.display import HTML, display\n",
    "\n",
    "\n",
    "# Writing Epoch Data to JSON...\n",
    "output_directory = \"libraries/\"\n",
    "output_filename = \"hub_nn_epoch_sorted.json\"\n",
    "full_path = os.path.join(output_directory, output_filename)\n",
    "display(HTML('<script data-require=\"d3@3.5.3\" data-semver=\"3.5.3\" src=\"//cdnjs.cloudflare.com/ajax/libs/d3/3.5.3/d3.js\"></script>'))\n",
    "\n",
    "    \n",
    "# Revision of JSON writing...\n",
    "data = {}\n",
    "for i in range(len(epoch_output[0])):\n",
    "    data[i] = {}\n",
    "    data[i]['Num Epochs'] = len(epoch_output)\n",
    "    data[i]['Index'] = i\n",
    "    data[i]['Test Label'] = int(epoch_output[0]['actual'][i])\n",
    "    data[i]['Test Prediction'] = {}\n",
    "    data[i]['Test Confidence Score'] = {}\n",
    "    data[i]['Intermediate Values'] = {}\n",
    "    for j in range(len(epoch_output)):\n",
    "        data[i]['Test Prediction'][j] = int(epoch_output[j]['prediction'][i][0])\n",
    "        data[i]['Test Confidence Score'][j] = float(epoch_output[j]['confidence_score'][i][0])\n",
    "        data[i]['Intermediate Values'][j] = epoch_output[j]['intermediate_values'][i]\n",
    "    data[i]['Test Sentence'] = epoch_output[0]['input'][i]\n",
    "    \n",
    "    \n",
    "with open(full_path, 'w') as outfile:\n",
    "    json.dump(data, outfile, indent=4, sort_keys=False)"
   ]
  },
  {
   "cell_type": "code",
   "execution_count": 21,
   "metadata": {
    "scrolled": false
   },
   "outputs": [
    {
     "data": {
      "text/html": [
       "<script src=\"https://d3js.org/d3.v3.min.js\" charset=\"utf-8\"></script>"
      ],
      "text/plain": [
       "<IPython.core.display.HTML object>"
      ]
     },
     "metadata": {},
     "output_type": "display_data"
    },
    {
     "data": {
      "text/html": [
       "\n",
       "\t\t<style> \n",
       "\t\tbody {\n",
       "\t\t\tfont-family: Arial, sans-serif;\n",
       "\t\t\tfont-size: larger;\n",
       "\t\t}\n",
       "\t\t.box_highlighted { \n",
       "\t\t\tbackground-color: #ffb; \n",
       "\t\t\tborder: 1px solid #b53;\n",
       "\t\t}\n",
       "\t\t.highlight{\n",
       "\t\t\tbackground-color: yellow;\n",
       "\t\t}\n",
       "\t\t.lighthigh{\n",
       "\t\t\tbackground-color: green;\n",
       "\t\t}\n",
       "\t\tli{\n",
       "\t\t\tfont-size: smaller;\n",
       "\t\t}\n",
       "\t\ttd.confm{\n",
       "\t\t\tmin-width: 100px;\n",
       "\t\t}\n",
       "\t\t#review{\n",
       "\t\t\tborder:1px solid pink; \n",
       "\t\t\tpadding: 5px; \n",
       "\t\t\tfloat: left; \n",
       "\t\t\twidth: 750px; \n",
       "\t\t\theight: 500px; \n",
       "\t\t\tbackground-color: white;\n",
       "\t\t\tmargin: 20px;\n",
       "\t\t\toverflow: scroll;\n",
       "\t\t\t}\n",
       "\t\t#matrix{\n",
       "\t\t\tborder:1px solid pink; \n",
       "\t\t\tpadding: 5px; \n",
       "\t\t\tfloat: left;\n",
       "\t\t\tmargin: 20px;\n",
       "\t\t}\n",
       "\t\t#slider {\n",
       "\t\t  -webkit-appearance: none;\n",
       "\t\t  width: 100%;\n",
       "\t\t  height: 15px;\n",
       "\t\t  border-radius: 5px;  \n",
       "\t\t  background: #d3d3d3;\n",
       "\t\t  outline: none;\n",
       "\t\t  opacity: 0.7;\n",
       "\t\t  -webkit-transition: .2s;\n",
       "\t\t  transition: opacity .2s;\n",
       "\t\t}\n",
       "\t\t#slider::-webkit-slider-thumb {\n",
       "\t\t  -webkit-appearance: none;\n",
       "\t\t  appearance: none;\n",
       "\t\t  width: 25px;\n",
       "\t\t  height: 25px;\n",
       "\t\t  border-radius: 50%; \n",
       "\t\t  background: #4ca2af;\n",
       "\t\t  cursor: pointer;\n",
       "\t\t}\n",
       "\t\t#slider::-moz-range-thumb {\n",
       "\t\t  width: 25px;\n",
       "\t\t  height: 25px;\n",
       "\t\t  border-radius: 50%;\n",
       "\t\t  background: #4ca2af;\n",
       "\t\t  cursor: pointer;\n",
       "\t\t}\n",
       "\t\t </style>\n",
       "\t\t<h1> Interactive Confusion Matrix </h1>\n",
       "\t\t<h3 id=\"confidence_setting\"> Confidence: 0.5 </h3>\n",
       "\t\t<input class=\"slider\" id=\"confidence_slider\" type=\"range\" min=\"0\" max=\"1\" step=\".1\" value=\".5\"/>\n",
       "\t\t<h3 id=\"epoch_setting\"> Epoch: 1 </h3>\n",
       "\t\t<input class=\"slider\" id=\"epoch_slider\" type=\"range\" min=\"1\" max=\"20\" step=\"1\" value=\"1\"/>\n",
       "\t\t<div>\n",
       "\t\t\t<div>\n",
       "\t\t\t\t<div id=\"matrix\"></div>\n",
       "\t\t\t\t<div id=\"review\">\n",
       "\t\t\t\t\tData \n",
       "\t\t\t\t\t<ul id = \"testList\"></ul>\n",
       "\t\t\t\t</div>\n",
       "\t\t\t</div>\n",
       "\t\t</div>\n",
       "\t\t<script> \n",
       "\t\tconsole.log(\"Visualization: Running JavaScript...\");\n",
       "\t\tvar dname = \"libraries/hub_nn_epoch_sorted.json\";\n",
       "\t\tvar currentConfSetting = .5;\n",
       "\t\tvar currentEpochSetting = 1;\n",
       "\t\tvar lastEpochIndex = 0;\n",
       "        // Delete this line below just in case it slows down the program\n",
       "\t\tconsole.log(\"Visualization: Reading JSON file(\", dname, \")...\");\n",
       "\n",
       "\t\td3.json( \"libraries/hub_nn_epoch_sorted.json\", function(d) {\n",
       "\t\t\tconsole.log(\"Visualization: Logging complete JSON...\");\n",
       "\t\t\tconsole.log(d);\n",
       "\t\t\tlastEpochIndex = d[0]['Num Epochs']\n",
       "\t\t\td3.select(\"#epoch_slider\").attr(\"max\", lastEpochIndex);\n",
       "\t\t});\n",
       "\n",
       "\n",
       "\t\t/*--------------------------------------------------------------------------------\n",
       "\t\tI've temporarily left out the 'getType' function, since the names of these\n",
       "\t\ttypes are not included in the JSON file that is given to the JavaScript. More\n",
       "\t\tfunctionality can be incldued later to bring the names in as well as the raw data.\n",
       "\t\tType will be represented by the given numeric identifier for now.\n",
       "\t\t--------------------------------------------------------------------------------*/\n",
       "\n",
       "\t\t/*--------------------------------------------------------------------------------\n",
       "\t\tFunction: extractTypes\n",
       "\t\tBehavior: Identifies what different types each data point can be identified as based \n",
       "\t\t\t\t  off of the 'true_label' attribute in JSON file.\n",
       "\t\tInput: JSON file\n",
       "\t\tOutput: Returns array of possible values for 'Test Label'.\n",
       "\t\t--------------------------------------------------------------------------------*/\n",
       "\n",
       "\t\tfunction extractTypes(data){\n",
       "\t\t\tvar lookup = {};\n",
       "\t\t\tvar items = data;\n",
       "\t\t\tvar result = [];\n",
       "\n",
       "\t\t\tfor (var item, i=0; item = items[i++];){\n",
       "\t\t\t\tvar name = item['Test Label'];\n",
       "\t\t\t\tif(!(name in lookup)){\n",
       "\t\t\t\t\tlookup[name] = 1;\n",
       "\t\t\t\t\tresult.push(name);\n",
       "\t\t\t\t}\n",
       "\t\t\t}\n",
       "\t\t\treturn result.sort();\n",
       "\t\t}\n",
       "\n",
       "\t\t/*--------------------------------------------------------------------------------\n",
       "\t\tFunction: fetchDataWindowResults\n",
       "\t\tBehavior: Fetches subset of 'd' variable to be displayed in 'Data' window\n",
       "\t\tInput: 'd' variable, testLabel, predLabel, epoch, conf\n",
       "\t\tOutput: Subset of 'd' variable formatted the same as 'd'\n",
       "\t\t--------------------------------------------------------------------------------*/\n",
       "        function fetchDataWindowResults(d, testLabel, predLabel, epoch, conf){\n",
       "            console.log(\"Visualization: Calling fetchDataWindowResults...\");\n",
       "            var fullDataSet = d;\n",
       "            var selectedTestLabel = testLabel;\n",
       "            var selectedPredictionLabel = predLabel;\n",
       "            var selectedEpoch = epoch;\n",
       "            var selectedConfMin = conf;\n",
       "\n",
       "            var selectedEntries = []\n",
       "            console.log(d);\n",
       "            console.log(\"Visualization: fetchDataWindowResults: for testLabel, predLabel, epoch, conf of: \", \n",
       "                testLabel, predLabel, epoch, conf);\n",
       "            for (const dataPoint of Object.entries(d)){\n",
       "                var currentPrediction = dataPoint[1]['Test Prediction'][epoch];\n",
       "                var currentTestLabel = dataPoint[1]['Test Label'];\n",
       "                var currentSentence = dataPoint[1]['Test Sentence'];\n",
       "                var currentConfScore = dataPoint[1]['Test Confidence Score'][epoch];\n",
       "                if (currentPrediction == selectedPredictionLabel &&\n",
       "                currentTestLabel == selectedTestLabel &&\n",
       "                currentConfScore > selectedConfMin){\n",
       "                    selectedEntries.push(dataPoint);\n",
       "                    // console.log(\"Prediction:\", currentPrediction,\n",
       "                    //     \"Test Sentence:\", currentSentence,\n",
       "                    //     \"Confidence Score:\", currentConfScore);\n",
       "                }\n",
       "            }\n",
       "            return selectedEntries;\n",
       "        }\n",
       "\n",
       "\t\t/*--------------------------------------------------------------------------------\n",
       "\t\tFunction: Slider Re-Draw\n",
       "\t\tBehavior: This d3 code will redraw each time there is a change in the slider.\n",
       "\t\tInput: None\n",
       "\t\tOutput: Visualization should be redrawn\n",
       "\t\t--------------------------------------------------------------------------------*/\n",
       "\t\t/*--------------------------------------------------------------------------------\n",
       "\t\tBUG: This should be adjusted to be called both on load and on change. \n",
       "\t\t--------------------------------------------------------------------------------*/\n",
       "\n",
       "\t\td3.selectAll(\".slider\").on(\"change\", function() {\n",
       "\t\t\td3.select(\"svg\").remove();\n",
       "\n",
       "\t\t\tif(this.id == \"confidence_slider\"){\n",
       "\t\t\t\tcurrentConfSetting = this.value;\n",
       "\t\t\t}\n",
       "\t\t\tif(this.id == \"epoch_slider\"){\n",
       "\t\t\t\tcurrentEpochSetting = this.value;\n",
       "\t\t\t}\n",
       "\n",
       "\t\t\td3.select(\"#confidence_setting\").text(\"Confidence: \" + currentConfSetting);\n",
       "\t\t\td3.select(\"#epoch_setting\").text(\"Epoch: \" + currentEpochSetting);\n",
       "\t\t\tconsole.log(\"Visualization: Confidence set to (\", currentConfSetting,\n",
       "\t\t\t\t\t\t\") Epoch set to (\", currentEpochSetting, \")\");\n",
       "\n",
       "\t\t\t/*--------------------------------------------------------------------------------\n",
       "\t\t\tFunction: Re-Draw\n",
       "\t\t\tBehavior: Adjusting the slider will call this function to redraw the\n",
       "\t\t\t\t\t  visualization. First a table is build keep track of the number of\n",
       "\t\t\t\t\t  elements to be in each cell. Next, data is read into an array based on\n",
       "\t\t\t\t\t  the parameters set by the sliders.\n",
       "\t\t\tInput: filepath to JSON\n",
       "\t\t\tOutput: visualization should be redrawn\n",
       "\t\t\t--------------------------------------------------------------------------------*/\n",
       "\n",
       "\t\t\td3.json(\"libraries/hub_nn_epoch_sorted.json\", function(d) {\n",
       "                console.log(\"Debugging: displaying variable d: \", d);\n",
       "                \n",
       "\n",
       "\t\t\t\tvar totalItems = Object.keys(d).length\n",
       "\t\t\t\tconsole.log(\"Visualization: \", totalItems, \"pieces of test data included\")\n",
       "\n",
       "\t\t\t\tvar possibleOutputValues = extractTypes(d);\n",
       "\t\t\t\tconsole.log(\"Visualization: Possible outcomes inlcudes; \", possibleOutputValues)\n",
       "\n",
       "\t\t\t\tvar tableDimension = extractTypes(d).length;\n",
       "\t\t\t\tconsole.log(\"Visualization: Constructing\", tableDimension, \"x\",\n",
       "\t\t\t\t\t\t\ttableDimension, \"chart...\");\n",
       "\t\t\t\tvar dataset = [];\n",
       "\n",
       "\t\t\t\tvar table = new Array(tableDimension);\n",
       "\t\t\t\tfor(var i=0; i<tableDimension; i++){\n",
       "\t\t\t\t\ttable[i] = new Array(tableDimension);\n",
       "\t\t\t\t\tfor(var j=0; j<tableDimension; j++){\n",
       "\t\t\t\t\t\ttable[i][j] = 0;\n",
       "\t\t\t\t\t}\n",
       "\t\t\t\t}\n",
       "\t\t\t\tconsole.log(\"Visualization: Table initialized as: \", table)\n",
       "\n",
       "\n",
       "\t\t\t\t/*\n",
       "\t\t\t\t# NOTE: To be removed, we only need to know the integer representation \n",
       "\t\t\t\t#\t\tof which epoch we are using.\n",
       "\t\t\t\tvar selectedEpoch = {};\n",
       "\n",
       "\t\t\t\tfor(var singleEpoch, i=0; singleEpoch = d[i++];){\n",
       "\t\t\t\t\tif((singleEpoch[0][\"Epoch\"] + 1) == parseInt(currentEpochSetting)){\n",
       "\t\t\t\t\t\tselectedEpoch = singleEpoch;\n",
       "\t\t\t\t\t}\n",
       "\t\t\t\t}\n",
       "\t\t\t\t*/\n",
       "\n",
       "\t\t\t\tconsole.log(\"Visualization: Preparing to display epoch (\", currentEpochSetting, \")...\");\n",
       "\n",
       "\t\t\t\t/*--------------------------------------------------------------------------------\n",
       "\t\t\t\tNOTE: Will we need to display just integer representations of classifications,\n",
       "\t\t\t\t\t  or will we need to display titles of classicications along the axis\n",
       "\t\t\t\t--------------------------------------------------------------------------------*/\n",
       "\n",
       "\t\t\t\t// NOTE EDITING HERE\n",
       "\n",
       "\t\t\t\tfor(var jsonEntry, i=0; jsonEntry = d[i++];){\n",
       "                    // console.log(\"Debugging: jsonEntry \", jsonEntry);\n",
       "\t\t\t\t\tvar index = i;\n",
       "\t\t\t\t\t// var epoch = jsonEntry[\"Epoch\"];\n",
       "\t\t\t\t\tvar entryText = jsonEntry[\"Test Sentence\"];\n",
       "\t\t\t\t\tvar confidenceScore = jsonEntry[\"Test Confidence Score\"][currentEpochSetting-1];\n",
       "                    // console.log(\"Debugging: confidenceScore \", confidenceScore);\n",
       "\t\t\t\t\tvar trueLabel = jsonEntry[\"Test Label\"];\n",
       "                    // console.log(\"Debugging: trueLabel \", trueLabel);\n",
       "                    // console.log(typeof trueLabel);\n",
       "\t\t\t\t\tvar predictedLabel = jsonEntry[\"Test Prediction\"][currentEpochSetting-1];\n",
       "                    // console.log(\"Debugging: predictedLabel \", predictedLabel);\n",
       "                    // console.log(typeof predictedLabel);\n",
       "\t\t\t\t\tvar tableXCoordinate = possibleOutputValues.indexOf(predictedLabel); //Predicted\n",
       "                    // console.log(\"Debugging: tableXCoordinate \", tableXCoordinate);\n",
       "                    // console.log(typeof tableXCoordinate);\n",
       "\t\t\t\t\tvar tableYCoordinate = possibleOutputValues.indexOf(trueLabel); // Actual\n",
       "                    // console.log(\"Debugging: tableYCoordinate \", tableYCoordinate);\n",
       "                    // console.log(typeof tableYCoordinate);\n",
       "\n",
       "\t\t\t\t\tif(confidenceScore > currentConfSetting){\n",
       "\t\t\t\t\t\ttable[tableXCoordinate][tableYCoordinate]+=1;\n",
       "\t\t\t\t\t\tdataset.push([trueLabel, predictedLabel, entryText, index]);\n",
       "\t\t\t\t\t}\n",
       "\t\t\t\t}\n",
       "\n",
       "\t\t\t\tconsole.log(\"Visualization: Table for confidence \", currentConfSetting, \" at epoch \", currentEpochSetting, table);\n",
       "\t\t\t\tconsole.log(\"Visualization: Creating SVG...\");\n",
       "\n",
       "\t\t\t\t/*--------------------------------------------------------------------------------\n",
       "\t\t\t\tNOTE: Will leave this as the default viz size for now\n",
       "\t\t\t\t--------------------------------------------------------------------------------*/\n",
       "\n",
       "\t\t\t\tvar w = 750;\n",
       "\t\t\t\tvar h = 750;\n",
       "\n",
       "\t\t\t\tvar svg = d3.select(\"body\")\n",
       "\t\t\t\t\t\t\t.select(\"#matrix\")\n",
       "\t\t\t\t\t\t\t.append(\"svg\")\n",
       "\t\t\t\t\t\t\t.attr(\"width\", w)\n",
       "\t\t\t\t\t\t\t.attr(\"height\", h);\n",
       "\n",
       "\t\t\t\tvar rect = svg.selectAll(\"rect\")\n",
       "\t\t\t\t\t\t\t  .data(dataset)\n",
       "\t\t\t\t\t\t\t  .enter()\n",
       "\t\t\t\t\t\t\t  .append(\"rect\");\n",
       "\n",
       "\t\t\t\tvar counters = new Array(tableDimension * tableDimension).fill(0);\n",
       "\t\t\t\tvar ycounters = new Array(tableDimension * tableDimension).fill(0);\n",
       "\t\t\t\tvar cellDimension = h / tableDimension;\n",
       "\t\t\t\tvar blockStackDimension = Math.round(Math.sqrt(totalItems)) + 1;\n",
       "\t\t\t\tvar marginBuffer = 5;\n",
       "\t\t\t\tvar cubeDimension = ((cellDimension - marginBuffer) / blockStackDimension);\n",
       "\n",
       "\t\t\t\t/*--------------------------------------------------------------------------------\n",
       "\t\t\t\tFormat: d[trueLabel, predictedLabel, entryText, index, epoch]\n",
       "\t\t\t\t--------------------------------------------------------------------------------*/\n",
       "\n",
       "\t\t\t\t/*--------------------------------------------------------------------------------\n",
       "\t\t\t\tFilling each cell of the matrix with the proper number of squares\n",
       "                NOTE: boxes have the attributes: x, y, id, width, height, opacity, fill, and class\n",
       "\t\t\t\t--------------------------------------------------------------------------------*/\n",
       "\t\t\t\trect.attr(\"x\", function (d, i){\n",
       "\t\t\t\t\tvar matrixnum = (parseInt(d[1]) * tableDimension) + parseInt(d[0]);\n",
       "\t\t\t\t\tvar inmatrixcol = counters[matrixnum] % blockStackDimension;\n",
       "\t\t\t\t\tcounters[matrixnum]++;\n",
       "\t\t\t\t\treturn (d[1] * (cellDimension + marginBuffer)) + (inmatrixcol * (cubeDimension));\n",
       "\t\t\t\t\t})\n",
       "\t\t\t\t\t.attr(\"y\", function(d, i){\n",
       "\t\t\t\t\t\tvar matrixnum = (parseInt(d[1] * tableDimension) + parseInt(d[0]));\n",
       "\t\t\t\t\t\tvar hm = Math.floor(ycounters[matrixnum]/blockStackDimension);\n",
       "\t\t\t\t\t\tycounters[matrixnum]++;\n",
       "\t\t\t\t\t\treturn (d[0] * (cellDimension + marginBuffer)) + (hm * (cubeDimension));\n",
       "\t\t\t\t\t})\n",
       "\t\t\t\t\t.attr(\"id\", function(d){\n",
       "\t\t\t\t\t\treturn \"rect\" + d[3];\n",
       "\t\t\t\t\t})\n",
       "\t\t\t\t\t.attr(\"width\", function(d){\n",
       "\t\t\t\t\t\treturn cubeDimension;\n",
       "\t\t\t\t\t})\n",
       "\t\t\t\t\t.attr(\"height\", function(d){\n",
       "\t\t\t\t\t\treturn cubeDimension;\n",
       "\t\t\t\t\t})\n",
       "\t\t\t\t\t.attr(\"opacity\", function(d){\n",
       "\t\t\t\t\t\treturn 1;\n",
       "\t\t\t\t\t})\n",
       "\t\t\t\t\t.attr(\"fill\", function(d){\n",
       "\t\t\t\t\t\treturn (\"black\");\n",
       "\t\t\t\t\t})\n",
       "\t\t\t\t\t.attr(\"class\", function(d){\n",
       "\t\t\t\t\t\tpredicted_label = \"predicted_label_\" + d[1];\n",
       "\t\t\t\t\t\ttrue_label = \"true_label_\" + d[0];\n",
       "\t\t\t\t\t\treturn true_label + \" \" + predicted_label;\n",
       "\t\t\t\t});\n",
       "\n",
       "                // fetchDataWindowResults(d, 1, 1, (currentEpochSetting - 1), currentConfSetting);\n",
       "\n",
       "                rect.on(\"click\", function(d_on){\n",
       "                    console.log(\"Actual: \", d_on[0], \"Predicted: \", d_on[1]);\n",
       "                    var actual = d_on[0];\n",
       "                    var prediction = d_on[1];\n",
       "                    var selectedDataSet = fetchDataWindowResults(d, actual, prediction,\n",
       "                        (currentEpochSetting - 1), currentConfSetting);\n",
       "                    console.log(selectedDataSet);\n",
       "\n",
       "                    d3.select(\"#testList\").selectAll(\"li\").remove();\n",
       "                    for (var i = 0; i < selectedDataSet.length; i++){\n",
       "                        var tableRowData = selectedDataSet[i][1];\n",
       "                        var dataPointString = \"Label: \" + actual +\n",
       "                        \" Prediction: \" + prediction + \n",
       "                        \" Confidence Score: \" +  tableRowData['Test Confidence Score'][currentEpochSetting - 1] +\n",
       "                        \" Input Data: \" + tableRowData['Test Sentence'];\n",
       "                        d3.select(\"#testList\").append(\"li\").text(dataPointString);\n",
       "                        \n",
       "                    }\n",
       "\n",
       "                    d3.select(\"#testList\").append(\"li\").text(\"Appended\");\n",
       "                }\n",
       "                );\n",
       "\n",
       "/*\n",
       "\t\t\t\td3.select(\"#review\")\n",
       "\t\t\t\t\t.select(\"testList\")\n",
       "\t\t\t\t\t.selectAll(\"rect\")\n",
       "\t\t\t\t\t.data(\n",
       "\t\t\t\t\t\tdataset.filter(d => d[0] != d[1]),\n",
       "\t\t\t\t\t\tfunction(d){\n",
       "\t\t\t\t\t\t\treturn d[3];\n",
       "\t\t\t\t\t\t}\n",
       "\t\t\t\t\t)\n",
       "\t\t\t\t\t.enter()\n",
       "\t\t\t\t\t.append(\"li\")\n",
       "\t\t\t\t\t.attr(\"id\", function(d){\n",
       "\t\t\t\t\t\treturn \"text\" + d[3];\n",
       "\t\t\t\t\t})\n",
       "\t\t\t\t\t.html(function(d){\n",
       "\t\t\t\t\t\ttable = \"<table><tr>\"\n",
       "\t\t\t\t\t\ttable += \"<td class=\"confm\"> True: \";\n",
       "\t\t\t\t\t\ttable += parseInt(d[0]); //getType(d[0]);\n",
       "\t\t\t\t\t\ttable += \"</td>\"\n",
       "\t\t\t\t\t\ttable += \"<td class=\"confm\"> Predict: \";\n",
       "\t\t\t\t\t\ttable += parseInt(d[1]); //getType(d[1]);\n",
       "\t\t\t\t\t\ttable += \"</td>\"\n",
       "\t\t\t\t\t\ttable += \"<td class=\"confm\">\" + d[2].substr(0,200); + \"</td>\"\n",
       "\t\t\t\t\t\ttable += \"</tr> </table>\"\n",
       "\t\t\t\t\t\treturn  table;\n",
       "\t\t\t\t});\n",
       "\n",
       "\t\t\t\trect.on(\"click\", function(d_on){\n",
       "\t\t\t\t\td3.select(\"#review\")\n",
       "\t\t\t\t\t\t.select(\"#testList\")\n",
       "\t\t\t\t\t\t.html(\"\");\n",
       "\t\t\t\t\tif(!this.classList.contains(\"past\")){\n",
       "\t\t\t\t\t\td3.selectAll(\".past\")\n",
       "\t\t\t\t\t\t\t.attr(\"fill\", \"pink\")\n",
       "\t\t\t\t\t\t\t.classed(\"past\", false);\n",
       "\t\t\t\t\t\td3.selectAll(\".reclick\")\n",
       "\t\t\t\t\t\t\t.attr(\"fill\", \"pink\")\n",
       "\t\t\t\t\t\t\t.classed(\"reclick\", false)\n",
       "\t\t\t\t\t}\n",
       "\t\t\t\t\tif(!this.classList.contains(\"reclick\")){\n",
       "\t\t\t\t\t\td3.selectAll(\".reclick\")\n",
       "\t\t\t\t\t\t\t.attr(\"fill\", \"pink\")\n",
       "\t\t\t\t\t\t\t.classed(\"reclick\", false);\n",
       "\t\t\t\t\t}\n",
       "\t\t\t\t\td3.select(this);\n",
       "\t\t\t\t\ttextId = \"\";\n",
       "\t\t\t\t\tx = \".\" + this.classList[0];\n",
       "\t\t\t\t\ty = \".\" + this.classList[1];\n",
       "\t\t\t\t\ttest = x + y;\n",
       "\t\t\t\t\tx1 = x.charAt(x.length - 1);\n",
       "\t\t\t\t\ty1 = y.charAt(y.length - 1);\n",
       "\t\t\t\t\tif(this.classList.contains(\"past\")){\n",
       "\t\t\t\t\t\td3.select(this)\n",
       "\t\t\t\t\t\t\t.classed(\"reclick\", true)\n",
       "\t\t\t\t\t\tId = this.id;\n",
       "\t\t\t\t\t\ttextId = \"#text\" + Id.substring(4);\n",
       "\t\t\t\t\t}\n",
       "\t\t\t\t\td3.selectAll(test)\n",
       "\t\t\t\t\t\t.attr(\"fill\", \"purple\")\n",
       "\t\t\t\t\t\t.classed(\"past\", \"true\");\n",
       "\t\t\t\t\td3.select(\"#review\")\n",
       "\t\t\t\t\t\t.select(\"#testList\")\n",
       "\t\t\t\t\t\t.selectAll(\"rect\")\n",
       "\t\t\t\t\t\t.data(\n",
       "\t\t\t\t\t\t\tdataset\n",
       "\t\t\t\t\t\t\t\t.filter(d => d[0] == x1)\n",
       "\t\t\t\t\t\t\t\t.filter(d => d[1] == y1),\n",
       "\t\t\t\t\t\t\t\tfunction(d){\n",
       "\t\t\t\t\t\t\t\t\treturn d[3];\n",
       "\t\t\t\t\t\t\t\t}\n",
       "\t\t\t\t\t\t)\n",
       "\t\t\t\t\t\t.enter()\n",
       "\t\t\t\t\t\t.append(\"li\")\n",
       "\t\t\t\t\t\t.attr(\"id\", function(d){\n",
       "\t\t\t\t\t\t\treturn \"text\" + d[3];\n",
       "\t\t\t\t\t\t})\n",
       "\t\t\t\t\t\t.html(function(d){\n",
       "\t\t\t\t\t\t\ttable = \"<table><tr>\"\n",
       "\t\t\t\t\t\t\ttable += \"<td class=\"confm\"> True: \";\n",
       "\t\t\t\t\t\t\ttable += parseInt(d[0]); //getType(d[0]);\n",
       "\t\t\t\t\t\t\ttable += \"</td>\"\n",
       "\t\t\t\t\t\t\ttable += \"<td class=\"confm\"> Predict: \";\n",
       "\t\t\t\t\t\t\ttable += parseInt(d[1]); //getType(d[1]);\n",
       "\t\t\t\t\t\t\ttable += \"</td>\"\n",
       "\t\t\t\t\t\t\ttable += \"<td class=\"confm\">\" + d[2].substr(0,200); + \"</td>\"\n",
       "\t\t\t\t\t\t\ttable += \"</tr> </table>\"\n",
       "\t\t\t\t\t\t\treturn table;\n",
       "\t\t\t\t\t});\n",
       "\n",
       "\t\t\t\t\td3.select(\"#review\")\n",
       "\t\t\t\t\t\t.select(\"testList\")\n",
       "\t\t\t\t\t\t.selectAll(\"li\")\n",
       "\t\t\t\t\t\t.on(\"mouseover\", function(d_on){\n",
       "\t\t\t\t\t\t\td3.select(this)\n",
       "\t\t\t\t\t\t\t\t.classed(\"lighthigh\", true)\n",
       "\t\t\t\t\t\t\t\tid = this.id;\n",
       "\t\t\t\t\t\t\t\trectId = \"#rect\" + id.substring(4);\n",
       "\t\t\t\t\t\t\t\td3.selectAll(rectId)\n",
       "\t\t\t\t\t\t\t\t\t.attr(\"fill\", \"green\");\n",
       "\t\t\t\t\t\t})\n",
       "\t\t\t\t\t\t.on(\"mouseout\", function(d_on){\n",
       "\t\t\t\t\t\t\td3.select(this)\n",
       "\t\t\t\t\t\t\t\t.classed(\"lighthigh\", false)\n",
       "\t\t\t\t\t\t\t\tid = this.id;\n",
       "\t\t\t\t\t\t\t\trectId = \"#rect\" + id.substring(4);\n",
       "\t\t\t\t\t\t\t\td3.selectAll(rectId)\n",
       "\t\t\t\t\t\t\t\t\t.attr(\"fill\", \"purple\");\n",
       "\t\t\t\t\t});\n",
       "\t\t\t\t});\n",
       "*/\n",
       "\n",
       "\t\t\t\t/*--------------------------------------------------------------------------------\n",
       "\t\t\t\tChanging the color of rows in the Data section on mouseover/mouseout (repeat of above?)\n",
       "\t\t\t\t--------------------------------------------------------------------------------*/\n",
       "/*\n",
       "\t\t\t\td3.select(\"#review\")\n",
       "\t\t\t\t\t.select(\"#testList\")\n",
       "\t\t\t\t\t.selectAll(\"li\")\n",
       "\t\t\t\t\t.on(\"mouseover\", function(d_on){\n",
       "\t\t\t\t\t\td3.select(this)\n",
       "\t\t\t\t\t\t\t.classed(\"lighthigh\", true)\n",
       "\t\t\t\t\t\t\tid = this.id;\n",
       "\t\t\t\t\t\t\trectId = \"#rect\" + id.substring(4);\n",
       "\t\t\t\t\t\t\td3.selectAll(rectId)\n",
       "\t\t\t\t\t\t\t\t.attr(\"fill\", \"green\");\n",
       "\t\t\t\t\t})\n",
       "\t\t\t\t  .on(\"mouseout\", function(d_on){\n",
       "\t\t\t\t\t\td3.select(this)\n",
       "\t\t\t\t\t\t\t.classed(\"lighthigh\", false)\n",
       "\t\t\t\t\t\t\tid = this.id;\n",
       "\t\t\t\t\t\t\trectId = \"#rect\" + id.substring(4);\n",
       "\t\t\t\t\t\t\td3.selectAll(rectId)\n",
       "\t\t\t\t\t\t\t\t.attr(\"fill\", \"pink\");\n",
       "\t\t\t\t});\n",
       "*/\n",
       "\n",
       "\t\t\t});\n",
       "\t\t})\n",
       "\t\t </script>\n",
       "\t\t"
      ],
      "text/plain": [
       "<IPython.core.display.HTML object>"
      ]
     },
     "metadata": {},
     "output_type": "display_data"
    }
   ],
   "source": [
    "import libraries.mlvislib as mlvs\n",
    "full_path = 'libraries/hub_nn_epoch_sorted.json'\n",
    "\n",
    "cm = mlvs.ConfusionMatrix(full_path)\n",
    "cm.display()"
   ]
  },
  {
   "cell_type": "code",
   "execution_count": 22,
   "metadata": {
    "scrolled": false
   },
   "outputs": [
    {
     "data": {
      "text/html": [
       "\n",
       "    <style> \n",
       "    #myInput {\n",
       "      /* background-image: url('/css/searchicon.png'); Add a search icon to input */\n",
       "      background-position: 10px 12px; /* Position the search icon */\n",
       "      background-repeat: no-repeat; /* Do not repeat the icon image */\n",
       "      width: 100%; /* Full-width */\n",
       "      font-size: 16px; /* Increase font-size */\n",
       "      padding: 12px 20px 12px 40px; /* Add some padding */\n",
       "      border: 1px solid #ddd; /* Add a grey border */\n",
       "      margin-bottom: 12px; /* Add some space below the input */\n",
       "    }\n",
       "    .cosinesim{\n",
       "      margin: auto;\n",
       "      /* max-width:100% */\n",
       "      width: 60px;\n",
       "      text-align: center !important;\n",
       "    }\n",
       "    .sent {\n",
       "      /* width: 65%; */\n",
       "      max-width: 1000px;\n",
       "      white-space: nowrap !important;\n",
       "      overflow: hidden !important;\n",
       "      text-overflow: ellipsis !important;\n",
       "    }\n",
       "    #container{\n",
       "      height: 150px;\n",
       "      width: auto;\n",
       "      border: 1px solid black;\n",
       "      border-radius: 3px;\n",
       "      margin-bottom: 1%;\n",
       "    }\n",
       "    .left{\n",
       "      margin-right: 15px;\n",
       "      float : left;\n",
       "      text-align: center;\n",
       "    }\n",
       "    .center{\n",
       "      text-align: center;\n",
       "    }\n",
       "    #highlighted {\n",
       "      background-color: aqua;\n",
       "      white-space: normal !important;\n",
       "      stroke-width: 1px;\n",
       "      stroke: black;\n",
       "      overflow: visible !important;\n",
       "    }\n",
       "    table {\n",
       "      table-layout: fixed;\n",
       "    }\n",
       "    td.bar {\n",
       "      padding: 0 !important;\n",
       "      width: 3px;\n",
       "      vertical-align: middle !important;\n",
       "    }\n",
       "     </style>\n",
       "    <h1> Barcode Visualization </h1>\n",
       "    <div id=\"container\">\n",
       "      <div class=\"left\">\n",
       "        <h3> Epoch #:</h3>\n",
       "        <h4 id=\"epochNum\"></h4>\n",
       "        <input class=\"slider\" id=\"epoch_slider\" type=\"range\" min=\"0\" max=\"19\" step=\"1\" value=\"0\" onchange=\"changedValues()\"/>\n",
       "      </div>\n",
       "      <div class=\"left\">\n",
       "        <h3> Number of Sentences:</h3>\n",
       "        <h4 id=\"sentNum\"></h4>\n",
       "        <input class=\"slider\" id=\"num_sentences\" type=\"range\" min=\"0\" max=\"496\" step=\"1\" value=\"10\" onchange=\"changedValues()\"/>\n",
       "      </div>\n",
       "    </div>\n",
       "    <input type=\"text\" id=\"myInput\" placeholder=\"Filter out words\" style=\"width : auto\">\n",
       "    <button onclick=\"changedValues()\">Filter</button>\n",
       "    <div class=\"tables\"></div>\n",
       "    <script> \n",
       "    /*------------------------------------------------------------------------\n",
       "    Function: argsort\n",
       "        Relatively confident that this code is responsible for sorting the\n",
       "        individual barcodes when an entry in the table has been selected\n",
       "    -------------------------------------------------------------------------*/\n",
       "    function argsort(array) {\n",
       "      const arrayObject = array.map((value, idx) => { return { value, idx }; });\n",
       "      arrayObject.sort((a, b) => {\n",
       "          if (a.value < b.value) {\n",
       "            return 1;\n",
       "          }\n",
       "          if (a.value > b.value) {\n",
       "            return -1;\n",
       "          }\n",
       "          return 0;\n",
       "      });\n",
       "\n",
       "      const argIndices = arrayObject.map(data => data.idx);\n",
       "\n",
       "      return argIndices;\n",
       "    }\n",
       "\n",
       "    /*------------------------------------------------------------------------\n",
       "    Function: changedValues\n",
       "        Function is called when any changes are made to the sliders on the\n",
       "        visualization, or when a request to filter words has been made. This\n",
       "        will read from the file, and update with the appropriate values in the\n",
       "        table.\n",
       "    -------------------------------------------------------------------------*/\n",
       "    function changedValues() {\n",
       "      var x = d3.select(\"#myInput\").property(\"value\").toUpperCase();\n",
       "      console.log(\"Debugging: x: \", x);\n",
       "      var epoch_val = d3.select(\"#epoch_slider\").property(\"value\");\n",
       "      var sentences_val = d3.select(\"#num_sentences\").property(\"value\");\n",
       "\n",
       "      d3.selectAll(\"#epochNum\").text(epoch_val);\n",
       "      d3.selectAll(\"#sentNum\").text(sentences_val);\n",
       "\n",
       "      d3.json( \"libraries/hub_nn_epoch_sorted.json\" , function(largedataset) {\n",
       "        // NOTE: This variable is not needed after adjustments made to JSON format\n",
       "        // dataSet = largedataset[epoch_val];\n",
       "\n",
       "        d3.selectAll(\"table\").remove();\n",
       "        var i;\n",
       "        var test = [];\n",
       "        for(i = 0; i < sentences_val; i++){\n",
       "        // NOTE: This conditional statement will break the visualization if the dataset has\n",
       "        // a non-text value in the ['Test Sentence'] field.\n",
       "            if(largedataset[String(i)]['Test Sentence'].toUpperCase().search(x) > -1){\n",
       "              test.push([epoch_val, largedataset[i][\"Index\"], largedataset[i][\"Test Label\"], largedataset[i][\"Test Prediction\"][String(epoch_val)],\n",
       "              largedataset[i][\"Test Confidence Score\"][epoch_val], largedataset[i][\"Test Sentence\"],\n",
       "              largedataset[i][\"Intermediate Values\"][epoch_val], largedataset[i][\"Test Prediction\"][epoch_val]]);\n",
       "            }\n",
       "        }\n",
       "        createTable(test);\n",
       "      })\n",
       "    }\n",
       "\n",
       "    /*------------------------------------------------------------------------\n",
       "    Function: automatic\n",
       "        Function is called automatically. This will read from the file, and\n",
       "        update with the appropriate values in the table.\n",
       "    -------------------------------------------------------------------------*/\n",
       "    function automatic(){\n",
       "      var epoch_val = d3.select(\"#epoch_slider\").property(\"value\");\n",
       "      d3.selectAll(\"#epochNum\").text(epoch_val);\n",
       "\n",
       "      var sentences_val = d3.select(\"#num_sentences\").property(\"value\");\n",
       "      d3.selectAll(\"#sentNum\").text(sentences_val);\n",
       "\n",
       "      d3.json( \"libraries/hub_nn_epoch_sorted.json\" , function(largedataset) {\n",
       "        console.log(\"Debugging: largedataset: \", largedataset);\n",
       "        // NOTE: following line is not needed for new JSON format\n",
       "        // dataSet = largedataset[epoch_val];\n",
       "\n",
       "        var max_sent = document.getElementById(\"num_sentences\");\n",
       "        var ep_num = document.getElementById(\"epoch_slider\");\n",
       "\n",
       "        max_sent.max = Object.keys(largedataset).length -1;\n",
       "        ep_num.max = largedataset[\"0\"]['Num Epochs'] - 1;\n",
       "\n",
       "        var i;\n",
       "        var test = []\n",
       "        for( i = 0; i < 10; i++ ){\n",
       "          test.push([epoch_val, largedataset[i][\"Index\"], largedataset[i][\"Test Label\"],\n",
       "          largedataset[i][\"Test Prediction\"][String(epoch_val)],\n",
       "          largedataset[i][\"Test Confidence Score\"][epoch_val], largedataset[i][\"Test Sentence\"],\n",
       "          largedataset[i][\"Intermediate Values\"][epoch_val], largedataset[i][\"Test Prediction\"][epoch_val]]);\n",
       "        }\n",
       "\n",
       "        createTable(test);\n",
       "      })\n",
       "    }\n",
       "\n",
       "    /*------------------------------------------------------------------------\n",
       "    Function: cosinesim\n",
       "        Calculates the cosine similarities of two entries.\n",
       "    -------------------------------------------------------------------------*/\n",
       "    // https://stackoverflow.com/questions/51362252/javascript-cosine-similarity-function\n",
       "    function cosinesim(A,B){\n",
       "        var dotproduct=0;\n",
       "        var mA=0;\n",
       "        var mB=0;\n",
       "        for(i = 0; i < A.length; i++){\n",
       "            dotproduct += (A[i] * B[i]);\n",
       "            mA += (A[i]*A[i]);\n",
       "            mB += (B[i]*B[i]);\n",
       "        }\n",
       "        mA = Math.sqrt(mA);\n",
       "        mB = Math.sqrt(mB);\n",
       "        var similarity = (dotproduct)/((mA)*(mB))\n",
       "        return Math.abs(similarity);\n",
       "    }\n",
       "\n",
       "    /*------------------------------------------------------------------------\n",
       "    Function: createSVG\n",
       "        Creates the SVG element to place in table, and adjusts opacity to\n",
       "        reflect the intermediate value being represented.\n",
       "    -------------------------------------------------------------------------*/\n",
       "    function createSVG(d) {\n",
       "      var w = 3;\n",
       "      var h = 20;\n",
       "\n",
       "      var kpi = document.createElement(\"div\");\n",
       "\n",
       "      var svg = d3.select(kpi).append(\"svg\")\n",
       "        .attr({\n",
       "          width: w,\n",
       "          height: h\n",
       "        });\n",
       "\n",
       "      var elem = svg.selectAll(\"div\")\n",
       "        .data([d]);\n",
       "\n",
       "      var elemEnter = elem.enter()\n",
       "        .append(\"g\");\n",
       "\n",
       "      elemEnter.append(\"rect\")\n",
       "        .attr({\n",
       "        x: 0,\n",
       "        y: 0,\n",
       "        width: 3,\n",
       "        height: 20\n",
       "        })\n",
       "        .style(\"opacity\", .5  + d*10)\n",
       "        .style(\"fill\", \"#4078a9\");\n",
       "\n",
       "      return kpi;\n",
       "    }\n",
       "\n",
       "    /*------------------------------------------------------------------------\n",
       "    Function: createTable\n",
       "        Does the work of actually generating the table, and filling it with\n",
       "        values from the dataset passed to it in either automatic or changedValues\n",
       "    -------------------------------------------------------------------------*/\n",
       "    function createTable(test){\n",
       "      var div = d3.select('.tables');\n",
       "\n",
       "      // Appends a table to designated div\n",
       "      var table = div.append(\"table\")\n",
       "        .attr({\n",
       "          id: \"sample\",\n",
       "          class: 'table'\n",
       "        })\n",
       "        .classed(\"display\", true);\n",
       "\n",
       "      // Appends a body to the table\n",
       "      var tbody = table.append(\"tbody\")\n",
       "\n",
       "      // Creates a row (tr) for each highes level entry in the JSON\n",
       "      var tableBodyRows = tbody.selectAll(\"tr\")\n",
       "        .data(test)\n",
       "        .enter()\n",
       "        .append(\"tr\");\n",
       "\n",
       "      // Adds 'Sentence' component to each row, along with it's classification\n",
       "      tableBodyRows.selectAll(\"td\")\n",
       "        .data(function(d) {\n",
       "          return [d];\n",
       "        })\n",
       "        .enter()\n",
       "        .append(\"td\")\n",
       "        .attr('class', 'sent')\n",
       "        .text(function(d) {\n",
       "          return d[7] + \" - \" +  d[5];\n",
       "        })\n",
       "\n",
       "      // Adds colored bars each representing an 'intermediate value'\n",
       "      tableBodyRows.selectAll(\"td\")\n",
       "        .data(function(d) {\n",
       "          return d[6];\n",
       "        })\n",
       "        .enter()\n",
       "        .append(\"td\")\n",
       "        .attr(\"class\", function(d,i) { return 'bar ' + i; })\n",
       "        .append(function(d) {\n",
       "          return createSVG(d);\n",
       "        });\n",
       "\n",
       "        // Defining behavior for clicking on a row\n",
       "        tableBodyRows.on({\n",
       "          \"click\": function(f){\n",
       "          d3.selectAll(\"#highlighted\")\n",
       "            .attr(\"id\", null)\n",
       "            .classed(\"sent\", true)\n",
       "          w = d3.select(this)\n",
       "            .select(\".sent\")\n",
       "            .attr(\"id\", \"highlighted\")\n",
       "\n",
       "          bars = [...f[6]]\n",
       "          changed_indicies = argsort(bars)\n",
       "          sorted_bars = bars.sort(function(a, b){return b-a});\n",
       "\n",
       "          // here we basically delete the current table & remake it except with different ordering for the barcode (done on line 207)\n",
       "          d3.selectAll('.bar').remove()\n",
       "          d3.selectAll('.cosinesim').remove()\n",
       "\n",
       "          big_array = []\n",
       "          answers = []\n",
       "\n",
       "          tableBodyRows.selectAll(\"td\")\n",
       "            .data(function(d) {\n",
       "              temp_array = []\n",
       "              var ugh = 0\n",
       "              for(ugh = 0; ugh < d[6].length; ugh++){\n",
       "                temp_array.push(d[6][changed_indicies[ugh]])\n",
       "              }\n",
       "              big_array.push(temp_array)\n",
       "\n",
       "              var answer = cosinesim(temp_array, sorted_bars);\n",
       "              answers.push(answer)\n",
       "              return [];\n",
       "            })\n",
       "\n",
       "\n",
       "          tableBodyRows.each(function(k,l){\n",
       "            d3.select(this)\n",
       "              .data(function(d){\n",
       "                test = [...k]\n",
       "                test[8] = answers[l]\n",
       "                return [test];\n",
       "            })\n",
       "          })\n",
       "\n",
       "          tableBodyRows.each(function(k,l){\n",
       "            d3.select(this)\n",
       "            .append(\"td\")\n",
       "            .attr('class', 'cosinesim')\n",
       "            .text(function(d,i){\n",
       "              return answers[l].toFixed(3);\n",
       "            })\n",
       "          })\n",
       "\n",
       "          tableBodyRows.selectAll(\"td\")\n",
       "            .data(function(d,i) {\n",
       "              return big_array[i]\n",
       "            })\n",
       "            .enter()\n",
       "            .append(\"td\")\n",
       "            .attr(\"class\", function(d,i) { return 'bar ' + i; })\n",
       "            .append(function(d) {\n",
       "              return createSVG(d);\n",
       "            });\n",
       "\n",
       "          tableBodyRows.sort(function(a,b) {\n",
       "            if (a[8] < b[8]) {\n",
       "              return 1;\n",
       "            } else if (a[8] > b[8]) {\n",
       "              return -1;\n",
       "            } else {\n",
       "              return 0;\n",
       "            }\n",
       "          })\n",
       "        }\n",
       "      });\n",
       "    }\n",
       "\n",
       "    automatic();\n",
       "     </script>\n",
       "    "
      ],
      "text/plain": [
       "<IPython.core.display.HTML object>"
      ]
     },
     "metadata": {},
     "output_type": "display_data"
    }
   ],
   "source": [
    "import libraries.barcode as bc\n",
    "full_path = 'libraries/hub_nn_epoch_sorted.json'\n",
    "\n",
    "bp = bc.BarcodePlot(full_path)\n",
    "bp.display()"
   ]
  },
  {
   "cell_type": "code",
   "execution_count": null,
   "metadata": {},
   "outputs": [],
   "source": []
  }
 ],
 "metadata": {
  "accelerator": "GPU",
  "colab": {
   "collapsed_sections": [],
   "name": "text_classification_with_hub.ipynb",
   "provenance": []
  },
  "kernelspec": {
   "display_name": "Python 3",
   "language": "python",
   "name": "python3"
  },
  "language_info": {
   "codemirror_mode": {
    "name": "ipython",
    "version": 3
   },
   "file_extension": ".py",
   "mimetype": "text/x-python",
   "name": "python",
   "nbconvert_exporter": "python",
   "pygments_lexer": "ipython3",
   "version": "3.9.4"
  }
 },
 "nbformat": 4,
 "nbformat_minor": 1
}
