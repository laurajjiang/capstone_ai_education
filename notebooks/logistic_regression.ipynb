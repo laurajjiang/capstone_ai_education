{
 "cells": [
  {
   "cell_type": "markdown",
   "metadata": {
    "id": "Eg62Pmz3o83v"
   },
   "source": [
    "## Logistic Regression\n",
    "Logistic Regression is Classification algorithm commonly used in Machine Learning. It allows categorizing data into discrete classes by learning the relationship from a given set of labeled data. It learns a linear relationship from the given dataset and then introduces a non-linearity in the form of the Sigmoid function."
   ]
  },
  {
   "cell_type": "code",
   "execution_count": null,
   "metadata": {},
   "outputs": [],
   "source": [
    "import numpy as np \n",
    "import matplotlib.pyplot as plt \n",
    "  \n",
    "def sigmoid(z): \n",
    "    return 1 / (1 + np.exp( - z)) \n",
    "  \n",
    "plt.plot(np.arange(-5, 5, 0.1), sigmoid(np.arange(-5, 5, 0.1))) \n",
    "plt.title('Visualization of the Sigmoid Function') \n",
    "  \n",
    "plt.show() "
   ]
  },
  {
   "cell_type": "markdown",
   "metadata": {
    "id": "iAsKG535pHep"
   },
   "source": [
    "## Load dataset\n",
    "\n",
    "The iris flower dataset is available on Keras dataset API(https://scikit-learn.org/stable/modules/generated/sklearn.datasets.load_iris.html) The following code loads the Iris dataset to your machine:"
   ]
  },
  {
   "cell_type": "code",
   "execution_count": null,
   "metadata": {},
   "outputs": [],
   "source": [
    "from sklearn import datasets\n",
    "\n",
    "# import iris data from sklearn datasets library\n",
    "iris = datasets.load_iris()"
   ]
  },
  {
   "cell_type": "code",
   "execution_count": null,
   "metadata": {},
   "outputs": [],
   "source": [
    "import pandas as pd\n",
    "import tensorflow as tf\n",
    "# To use tenforflow 1.x functions, import compact v1\n",
    "# import tensorflow.compat.v1 as tf\n",
    "# tf.enable_eager_execution()\n",
    "# # # make unable to use tensorflow v2.x functions to avoid crash\n",
    "# tf.disable_v2_behavior()\n",
    "\n",
    "# change to pandas dataframe\n",
    "iris = pd.DataFrame(data= np.c_[iris['data'], iris['target']],\n",
    "                     columns= iris['feature_names'] + ['target'])\n",
    "iris = iris.astype({\"target\": int })\n",
    "\n",
    "print(iris)\n",
    "print(iris.shape)"
   ]
  },
  {
   "cell_type": "code",
   "execution_count": 1,
   "metadata": {
    "scrolled": false
   },
   "outputs": [
    {
     "data": {
      "text/html": [
       "<script src=\"https://d3js.org/d3.v3.min.js\" charset=\"utf-8\"></script>"
      ],
      "text/plain": [
       "<IPython.core.display.HTML object>"
      ]
     },
     "metadata": {},
     "output_type": "display_data"
    },
    {
     "data": {
      "text/html": [
       "\n",
       "\t\t<style> \n",
       "\t.table {\n",
       "      border-collapse: collapse;\n",
       "      border: #d0d4d5 solid 1px;\n",
       "      border-spacing: 0px;\n",
       "      font: Arial;\n",
       "      text-align: center;\n",
       "      padding: 5px;\n",
       "      width: 100%;\n",
       "    }\n",
       "    \n",
       "\n",
       "    .headerRowStyle {\n",
       "      background-color: #fff;\n",
       "      border-bottom: 3px solid #ccc;\n",
       "      color: #4078a9;\n",
       "      font-size: 14px;\n",
       "      height: 48px;\n",
       "      line-height: 14px;\n",
       "      padding: 10px 5px 5px 5px\n",
       "    }\n",
       "    \n",
       "    .headerCellStyle {\n",
       "      border-left: 1px solid #d0d4d5;\n",
       "    }\n",
       "    \n",
       "    .tableRowStyle {\n",
       "      border-bottom: 1px solid #d0d4d5;\n",
       "      color: #565656;\n",
       "    }\n",
       "\t\t </style>\n",
       "\t\t<h1> Vector Visualization </h1>\n",
       "\t\t<div class=\"tables\"></div>\n",
       "\n",
       "\t\t<script> \n",
       "\t\tconsole.log(\"Loading JavaScript...\")\n",
       "\t\tconsole.log(\"Loaded Data:\")\n",
       "        var dname = \"libraries/iris.json\"\n",
       "\n",
       "    function colorPicker(value) {\n",
       "        if (value == \"Iris-setosa\") {\n",
       "        return \"#7aa25c\";\n",
       "        } else if (value == \"Iris-versicolor\") {\n",
       "        return \"#f4f85e\";\n",
       "        } else {\n",
       "        return \"#d84b2a\";\n",
       "        }\n",
       "    }\n",
       "\n",
       "\n",
       "    function checkNumberIfFloat(value) {\n",
       "        return Number(value) === value && value % 1 !== 0;\n",
       "    }\n",
       "\n",
       "    d3.json(\"libraries/iris.json\", function(dataSet) {\n",
       "      var div = d3.select('.tables');\n",
       "\n",
       "      // append a table to the div\n",
       "      var table = div.append(\"table\")\n",
       "        .attr({\n",
       "          id: \"sample\",\n",
       "          class: 'table'\n",
       "        })\n",
       "        .classed(\"display\", true);\n",
       "\n",
       "      // append a header to the table\n",
       "      var thead = table.append(\"thead\")\n",
       "\n",
       "      // append a body to the table\n",
       "      var tbody = table.append(\"tbody\")\n",
       "\n",
       "      // append a row to the header\n",
       "      var theadRow = thead.append(\"tr\")\n",
       "        .attr({\n",
       "          class: 'headerRowStyle'\n",
       "        });\n",
       "\n",
       "      // return a selection of cell elements in the header row\n",
       "      // attribute (join) data to the selection\n",
       "      // update (enter) the selection with nodes that have data\n",
       "      // append the cell elements to the header row\n",
       "      // return the text string for each item in the data array\n",
       "      theadRow.selectAll(\"th\")\n",
       "        .data(d3.keys(dataSet[0]))\n",
       "        .enter()\n",
       "        .append(\"th\")\n",
       "        .text(function(d) {\n",
       "          return d;\n",
       "        });\n",
       "\n",
       "      // table body rows\n",
       "      var tableBodyRows = tbody.selectAll(\"tr\")\n",
       "        .data(dataSet)\n",
       "        .enter()\n",
       "        .append(\"tr\")\n",
       "        .attr({\n",
       "          class: 'tableRowStyle'\n",
       "        });\n",
       "\n",
       "      //table body row cells\n",
       "      tableBodyRows.selectAll(\"td\")\n",
       "        .data(function(d) {\n",
       "          return d3.values(d);\n",
       "        })\n",
       "        .enter()\n",
       "        .append(\"td\")\n",
       "        .text(function(d) {\n",
       "          return d;\n",
       "        })\n",
       "        .append(function(d) {\n",
       "          return createSVG(d);\n",
       "        });\n",
       "        \n",
       "    })\n",
       "\n",
       "    function createSVG(d) {\n",
       "      var w = 75;\n",
       "      var h = 75;\n",
       "\n",
       "      var kpi = document.createElement(\"div\");\n",
       "\n",
       "      var svg = d3.select(kpi).append(\"svg\")\n",
       "        .attr({\n",
       "          width: w,\n",
       "          height: h\n",
       "        });\n",
       "        \n",
       "      var elem = svg.selectAll(\"div\")\n",
       "        .data([d]);\n",
       "\n",
       "      var elemEnter = elem.enter()\n",
       "        .append(\"g\");\n",
       "\n",
       "    \n",
       "        if( checkNumberIfFloat(d) || Number.isInteger(d)){\n",
       "            var la = (d/7);\n",
       "            elemEnter.append(\"rect\")\n",
       "                .attr({\n",
       "                x: 25,\n",
       "                y: 10, //this basically makes the svg start from the button instead of the top\n",
       "                width: 60*la,\n",
       "                height: 20\n",
       "                })\n",
       "                .style(\"fill\", \"#4078a9\");\n",
       "\n",
       "            elemEnter.append(\"text\")\n",
       "                .style(\"fill\", \"blue\")\n",
       "                .attr(\"dy\", 30)\n",
       "                .attr(\"dx\", 25)\n",
       "        }else{ \n",
       "            elemEnter.append(\"circle\")\n",
       "                .attr({\n",
       "                cx: 28,\n",
       "                cy: 25,\n",
       "                r: 20\n",
       "                })\n",
       "                .style(\"fill\", colorPicker);\n",
       "\n",
       "            elemEnter.append(\"text\")\n",
       "                .style(\"fill\", \"blue\")\n",
       "                .attr(\"dy\", 30)\n",
       "                .attr(\"dx\", 25)\n",
       "\n",
       "        }\n",
       "      return kpi;\n",
       "    }\n",
       "\t\t </script>\n",
       "\t\t"
      ],
      "text/plain": [
       "<IPython.core.display.HTML object>"
      ]
     },
     "metadata": {},
     "output_type": "display_data"
    }
   ],
   "source": [
    "import json\n",
    "import os\n",
    "import sys\n",
    "\n",
    "output_directory = \"libraries/\"\n",
    "output_filename = \"iris.json\"\n",
    "full_path = os.path.join(output_directory, output_filename)\n",
    "\n",
    "module_path = os.path.abspath(os.path.join('..'))\n",
    "if module_path not in sys.path:\n",
    "    sys.path.append(module_path)\n",
    "    \n",
    "import libraries.vector as vector\n",
    "\n",
    "cm = vector.Visualization(full_path)\n",
    "cm.display()"
   ]
  },
  {
   "cell_type": "markdown",
   "metadata": {
    "id": "l50X3GfjpU4r"
   },
   "source": [
    "## Explore the data \n",
    "\n",
    "Let's take a moment to understand the format of the data. Each data contains sepal length, sepal width, petal length, petal width and a corresponding species label. The label is an integer value of either 0 or 1, where 0 is a 'Iris-setosa', and 1 is a 'Iris-versicolo'."
   ]
  },
  {
   "cell_type": "code",
   "execution_count": null,
   "metadata": {},
   "outputs": [],
   "source": [
    "#Let's check head of dataframe\n",
    "iris.head()"
   ]
  },
  {
   "cell_type": "code",
   "execution_count": null,
   "metadata": {},
   "outputs": [],
   "source": [
    "#Let's make a scatter plot with sepal length and width between two iris species in the dataframe\n",
    "import matplotlib.pyplot as plt\n",
    "\n",
    "plt.scatter(iris['sepal length (cm)'][:50], iris['sepal width (cm)'][:50], label='Iris-setosa')\n",
    "plt.scatter(iris['sepal length (cm)'][51:], iris['sepal width (cm)'][51:], label='Iris-versicolo')\n",
    "plt.scatter(iris['sepal length (cm)'][101:], iris['sepal width (cm)'][101:], label='Iris-virginica')\n",
    "plt.xlabel('sepal length (cm)')\n",
    "plt.ylabel('sepal width (cm)')\n",
    "plt.legend(loc='best')"
   ]
  },
  {
   "cell_type": "markdown",
   "metadata": {
    "id": "h5bmxzE0Fobd"
   },
   "source": [
    "## Pre-Processing Data"
   ]
  },
  {
   "cell_type": "markdown",
   "metadata": {},
   "source": [
    "Create x value as the features and y value as species (labels) from the dataframe"
   ]
  },
  {
   "cell_type": "code",
   "execution_count": null,
   "metadata": {},
   "outputs": [],
   "source": [
    "x = iris.drop(labels=['target'], axis=1).values\n",
    "y = iris['target'].values"
   ]
  },
  {
   "cell_type": "markdown",
   "metadata": {},
   "source": [
    "Set a seed to get reproducibility for numpy and tensorflow"
   ]
  },
  {
   "cell_type": "code",
   "execution_count": null,
   "metadata": {},
   "outputs": [],
   "source": [
    "seed = 23\n",
    "np.random.seed(seed)\n",
    "tf.random.set_seed(seed)"
   ]
  },
  {
   "cell_type": "markdown",
   "metadata": {},
   "source": [
    "Next, split the dataset into trainset (60%) and testset (40%) "
   ]
  },
  {
   "cell_type": "code",
   "execution_count": null,
   "metadata": {},
   "outputs": [],
   "source": [
    "# use random choice from numpy library to set dataset randomly\n",
    "train_data = np.random.choice(len(x), round(len(x) * 0.6), replace=False)\n",
    "test_data = np.array(list(set(range(len(x))) - set(train_data)))\n",
    "\n",
    "# separate the dataset into features and labels\n",
    "x_train = x[train_data]\n",
    "y_train = y[train_data]\n",
    "x_test = x[test_data]\n",
    "y_test = y[test_data]\n",
    "\n",
    "# the number of labels\n",
    "num_labels = 3 \n",
    "\n",
    "# the number of features: sepal length & width, petal length & width\n",
    "num_features = 4\n",
    "\n",
    "# Convert to float32.\n",
    "x_train, x_test = np.array(x_train, np.float32), np.array(x_test, np.float32)\n",
    "\n",
    "x_train, x_test = x_train.reshape([-1, num_features]), x_test.reshape([-1, num_features])\n"
   ]
  },
  {
   "cell_type": "markdown",
   "metadata": {},
   "source": [
    "Now, we need to normalize the feature values in the dataset.\n",
    "Normalization is optional for logistic regression. However, the main goal of normalizing features is to help convergence of the technique used for optimization."
   ]
  },
  {
   "cell_type": "code",
   "execution_count": null,
   "metadata": {},
   "outputs": [],
   "source": [
    "# Define the normalization function\n",
    "def min_max_normalization(data):\n",
    "    col_max = np.max(data, axis=0)\n",
    "    col_min = np.min(data, axis=0)\n",
    "    return np.divide(data - col_min, col_max - col_min)"
   ]
  },
  {
   "cell_type": "code",
   "execution_count": null,
   "metadata": {},
   "outputs": [],
   "source": [
    "# Normalized processing, must be placed after the data set segmentation, \n",
    "# otherwise the test set will be affected by the training set\n",
    "x_train = min_max_normalization(x_train)\n",
    "x_test = min_max_normalization(x_test)"
   ]
  },
  {
   "cell_type": "markdown",
   "metadata": {
    "id": "LLC02j2g-llC"
   },
   "source": [
    "## Build the model\n",
    "With the pre-processed dataset, we start to build the model with tensorflow"
   ]
  },
  {
   "cell_type": "code",
   "execution_count": null,
   "metadata": {},
   "outputs": [],
   "source": [
    "# Begin building the model framework\n",
    "# Declare the variables that need to be learned and initialization\n",
    "# Weight of shape [4, 3]\n",
    "\n",
    "W = tf.Variable(tf.ones([num_features, num_labels]), name=\"weight\")\n",
    "\n",
    "# Bias of shape [3], the total number of classes.\n",
    "\n",
    "b = tf.Variable(tf.zeros([num_labels]), name=\"bias\")\n",
    "\n",
    "#W = tf.Variable(tf.random.normal([2, 1], mean=0.0))\n",
    "#b = tf.Variable(tf.random.normal([1], mean=0.0))\n",
    "# The tf 2.x doesn't need to use tf.global_variables_initializer() and place holders\n",
    "#init = tf.global_variables_initializer()\n",
    "#sess = tf.Session()\n",
    "#sess.run(init)\n"
   ]
  },
  {
   "cell_type": "markdown",
   "metadata": {},
   "source": [
    "Define the logistic regression to learn about variables"
   ]
  },
  {
   "cell_type": "code",
   "execution_count": null,
   "metadata": {},
   "outputs": [],
   "source": [
    "# Logistic regression (Wx + b).\n",
    "\n",
    "def logistic_regression(x):\n",
    "\n",
    "    # Apply softmax to normalize the logits to a probability distribution.\n",
    "\n",
    "    return tf.nn.softmax(tf.matmul(x, W) + b)"
   ]
  },
  {
   "attachments": {
    "log_loss.PNG": {
     "image/png": "[encoded data removed]"
    }
   },
   "cell_type": "markdown",
   "metadata": {},
   "source": [
    "### Loss function and optimizer\n",
    "\n",
    "Let's declare the loss function\n",
    "\n",
    "The loss function is critical for machine & deep learning models.\n",
    "The loss function for linear regression is squared loss, but the loss function for logistic regression is Log Loss, which is defined as follows:\n",
    "\n",
    "![log_loss.PNG](attachment:log_loss.PNG)\n",
    "\n",
    "where:\n",
    "\n",
    "* (x,y) ∈ D is the data set containing many labeled examples, which are  (x,y) pairs.\n",
    "* y is the label in a labeled example. Since this is logistic regression, every value of y must either be 0 or 1.\n",
    "* y' is the predicted value (somewhere between 0 and 1), given the set of features in x.\n"
   ]
  },
  {
   "cell_type": "code",
   "execution_count": null,
   "metadata": {},
   "outputs": [],
   "source": [
    "# Cross-Entropy loss function.\n",
    "\n",
    "def cross_entropy(y_pred, y_true):\n",
    "\n",
    "    # Encode label to a one hot vector.\n",
    "\n",
    "    y_true = tf.one_hot(y_true, depth=num_labels)\n",
    "\n",
    "    # Clip prediction values to avoid log(0) error.\n",
    "\n",
    "    y_pred = tf.clip_by_value(y_pred, 1e-9, 1.)\n",
    "\n",
    "    # Compute cross-entropy.\n",
    "\n",
    "    return tf.reduce_mean(-tf.reduce_sum(y_true * tf.math.log(y_pred)))\n"
   ]
  },
  {
   "cell_type": "markdown",
   "metadata": {},
   "source": [
    "Before train our model, we need to set the parameters: learning rate, batch size, and the number of epoch interations.\n",
    "\n",
    "\n",
    "* Learning rate is a hyper-parameter that controls how much we are adjusting the weights of our network with respect the loss gradient.\n",
    "\n",
    "* Batch size defines the number of samples that will be propagated through the network.\n",
    "\n",
    "* An epoch is a full iteration over samples during model training."
   ]
  },
  {
   "cell_type": "code",
   "execution_count": null,
   "metadata": {},
   "outputs": [],
   "source": [
    "learning_rate = 0.003\n",
    "batch_size = 32\n",
    "epoch_iteration_num = 2000\n",
    "display_step = 100"
   ]
  },
  {
   "cell_type": "markdown",
   "metadata": {},
   "source": [
    "Now we need to define optimizer to find optimized parameters."
   ]
  },
  {
   "cell_type": "code",
   "execution_count": null,
   "metadata": {},
   "outputs": [],
   "source": [
    "# Accuracy metric.\n",
    "\n",
    "def accuracy(y_pred, y_true):\n",
    "\n",
    "# Predicted class is the index of the highest score in prediction vector (i.e. argmax).\n",
    "    correct_prediction = tf.equal(tf.argmax(y_pred, 1), tf.cast(y_true, tf.int64))\n",
    "\n",
    "    return tf.reduce_mean(tf.cast(correct_prediction, tf.float32))\n",
    "\n",
    "# Stochastic gradient descent optimizer.\n",
    "\n",
    "optimizer = tf.optimizers.SGD(learning_rate)"
   ]
  },
  {
   "cell_type": "markdown",
   "metadata": {},
   "source": [
    "## Train the model"
   ]
  },
  {
   "cell_type": "code",
   "execution_count": null,
   "metadata": {},
   "outputs": [],
   "source": [
    "# Use tf.data API to shuffle and batch data.\n",
    "\n",
    "train_data=tf.data.Dataset.from_tensor_slices((x_train,y_train))\n",
    "\n",
    "train_data=train_data.repeat().shuffle(5000).batch(batch_size).prefetch(1)\n",
    "\n",
    "# create variables to store result\n",
    "losses = []\n",
    "train_accs = []\n",
    "test_accs = []\n",
    "\n",
    "# Optimization process. \n",
    "\n",
    "def run_optimization(x, y):\n",
    "\n",
    "# Wrap computation inside a GradientTape for automatic differentiation.\n",
    "\n",
    "    with tf.GradientTape() as g:\n",
    "\n",
    "        pred = logistic_regression(x)\n",
    "\n",
    "        loss = cross_entropy(pred, y)\n",
    "        losses.append(loss)\n",
    "\n",
    "    # Compute gradients.\n",
    "\n",
    "    gradients = g.gradient(loss, [W, b])\n",
    "\n",
    "  \n",
    "\n",
    "    # Update W and b following gradients.\n",
    "\n",
    "    optimizer.apply_gradients(zip(gradients, [W, b]))"
   ]
  },
  {
   "cell_type": "code",
   "execution_count": null,
   "metadata": {},
   "outputs": [],
   "source": [
    "# Run training for the given number of steps.\n",
    "\n",
    "for epoch, (batch_x, batch_y) in enumerate(train_data.take(epoch_iteration_num), 1):\n",
    "\n",
    "    # Run the optimization to update W and b values.\n",
    "\n",
    "    run_optimization(batch_x, batch_y)\n",
    "    train_pred = logistic_regression(batch_x)\n",
    "    train_acc = accuracy(train_pred, batch_y)\n",
    "    test_pred = logistic_regression(x_test)\n",
    "    test_acc = accuracy(test_pred, y_test)\n",
    "    # recode the result\n",
    "    train_accs.append(train_acc)\n",
    "    test_accs.append(test_acc)\n",
    "\n",
    "    \n",
    "\n",
    "    if epoch % display_step == 0:\n",
    "\n",
    "        #pred = logistic_regression(batch_x)\n",
    "\n",
    "        loss = cross_entropy(train_pred, batch_y)\n",
    "\n",
    "\n",
    "        #print(\"step: %i, loss: %f, accuracy: %f\" % (step, loss, acc))\n",
    "        print('epoch: {:4d} loss: {:5f} train accuracy: {:5f} test accuracy: {:5f}'.format(epoch, loss,\n",
    "                                                                          train_acc, test_acc))"
   ]
  },
  {
   "cell_type": "markdown",
   "metadata": {},
   "source": [
    "Let's make plot of the loss per epoch from the model training"
   ]
  },
  {
   "cell_type": "code",
   "execution_count": null,
   "metadata": {},
   "outputs": [],
   "source": [
    "plt.plot(losses)\n",
    "plt.title('Cross Entropy Loss')\n",
    "plt.xlabel('epoch')\n",
    "plt.ylabel('loss')\n",
    "plt.show()"
   ]
  },
  {
   "cell_type": "code",
   "execution_count": null,
   "metadata": {},
   "outputs": [],
   "source": [
    "plt.plot(train_accs, 'b-', label='train accuracy')\n",
    "plt.plot(test_accs, 'r-', label='test accuracy')\n",
    "plt.xlabel('epoch')\n",
    "plt.ylabel('accuracy')\n",
    "plt.title('Train and Test Accuracy')\n",
    "plt.legend(loc='best')\n",
    "plt.show()"
   ]
  },
  {
   "cell_type": "code",
   "execution_count": null,
   "metadata": {},
   "outputs": [],
   "source": [
    "# Test model on validation set.\n",
    "model_prediction = []\n",
    "testing_predictions = ((logistic_regression(x_test) > 0.5).numpy()).astype(\"int32\")\n",
    "\n",
    "for i in range(len(testing_predictions)):\n",
    "    for j in range(len(testing_predictions[i])):\n",
    "        if testing_predictions[i][j] == 1:\n",
    "            model_prediction.append(j)\n",
    "\n",
    "pred = logistic_regression(x_test)\n",
    "probas = pred.numpy()\n",
    "np.set_printoptions(precision=5, suppress=True)\n",
    "\n",
    "print(\"Test Accuracy: %f\" % accuracy(pred, y_test))\n"
   ]
  },
  {
   "cell_type": "code",
   "execution_count": null,
   "metadata": {},
   "outputs": [],
   "source": [
    "import json\n",
    "import os\n",
    "import sys\n",
    "\n",
    "output_directory = \"libraries/\"\n",
    "output_filename = \"predict_LR.json\"\n",
    "full_path = os.path.join(output_directory, output_filename)\n",
    "\n",
    "data = []\n",
    "data.extend([{\n",
    "      'index': i,\n",
    "      'true_label': int(y_test[i]),\n",
    "      'predicted_label': model_prediction[i],\n",
    "      'confidence_score': probas.tolist()[i],\n",
    "      'text': str(x_test.tolist()[i])\n",
    "  } for i in range(len(testing_predictions))])\n",
    "\n",
    "\n",
    "with open(full_path, 'w') as outfile:\n",
    "    json.dump(data, outfile, indent=8, sort_keys=False)"
   ]
  },
  {
   "cell_type": "markdown",
   "metadata": {},
   "source": [
    "--------------------------------------------------easy way (don't run yet) -------------------------------------------------------------"
   ]
  },
  {
   "cell_type": "code",
   "execution_count": null,
   "metadata": {},
   "outputs": [],
   "source": [
    "# Fitting Logistic Regression to the Training set\n",
    "from sklearn.linear_model import LogisticRegression\n",
    "classifier = LogisticRegression(random_state = 0, solver='lbfgs', multi_class='auto')\n",
    "classifier.fit(x_train, y_train)\n",
    "\n",
    "# Predicting the Test set results\n",
    "y_pred = classifier.predict(x_test)\n",
    "# Predict probabilities\n",
    "probs_y=classifier.predict_proba(x_test)\n",
    "### Print results \n",
    "probs_y = np.round(probs_y, 2)\n",
    "res = \"{:<10} | {:<10} | {:<10} | {:<13} | {:<5}\".format(\"y_test\", \"y_pred\", \"Setosa(%)\", \"versicolor(%)\", \"virginica(%)\\n\")\n",
    "res += \"-\"*65+\"\\n\"\n",
    "res += \"\\n\".join(\"{:<10} | {:<10} | {:<10} | {:<13} | {:<10}\".format(x, y, a, b, c) for x, y, a, b, c in zip(y_test, y_pred, probs_y[:,0], probs_y[:,1], probs_y[:,2]))\n",
    "res += \"\\n\"+\"-\"*65+\"\\n\"\n",
    "print(res)"
   ]
  },
  {
   "cell_type": "code",
   "execution_count": null,
   "metadata": {},
   "outputs": [],
   "source": [
    "from sklearn.metrics import confusion_matrix\n",
    "cm = confusion_matrix(y_test, y_pred)\n",
    "\n",
    "# Plot confusion matrix\n",
    "import seaborn as sns\n",
    "# confusion matrix sns heatmap \n",
    "ax = plt.axes()\n",
    "df_cm = cm\n",
    "sns.heatmap(df_cm, annot=True, annot_kws={\"size\": 30}, fmt='d',cmap=\"Blues\", ax = ax )\n",
    "ax.set_title('Confusion Matrix')\n",
    "plt.show()"
   ]
  }
 ],
 "metadata": {
  "kernelspec": {
   "display_name": "Python 3",
   "language": "python",
   "name": "python3"
  },
  "language_info": {
   "codemirror_mode": {
    "name": "ipython",
    "version": 3
   },
   "file_extension": ".py",
   "mimetype": "text/x-python",
   "name": "python",
   "nbconvert_exporter": "python",
   "pygments_lexer": "ipython3",
   "version": "3.7.2"
  }
 },
 "nbformat": 4,
 "nbformat_minor": 2
}
