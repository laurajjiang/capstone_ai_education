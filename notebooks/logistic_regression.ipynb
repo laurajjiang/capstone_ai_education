{
 "cells": [
  {
   "cell_type": "markdown",
   "metadata": {
    "id": "Eg62Pmz3o83v"
   },
   "source": [
    "## Logistic Regression\n",
    "Logistic Regression is Classification algorithm commonly used in Machine Learning. It allows categorizing data into discrete classes by learning the relationship from a given set of labeled data. It learns a linear relationship from the given dataset and then introduces a non-linearity in the form of the Sigmoid function."
   ]
  },
  {
   "cell_type": "code",
   "execution_count": 1,
   "metadata": {},
   "outputs": [
    {
     "data": {
      "image/png": "[encoded data removed]",
      "text/plain": [
       "<Figure size 432x288 with 1 Axes>"
      ]
     },
     "metadata": {
      "needs_background": "light"
     },
     "output_type": "display_data"
    }
   ],
   "source": [
    "import numpy as np \n",
    "import matplotlib.pyplot as plt \n",
    "  \n",
    "def sigmoid(z): \n",
    "    return 1 / (1 + np.exp( - z)) \n",
    "  \n",
    "plt.plot(np.arange(-5, 5, 0.1), sigmoid(np.arange(-5, 5, 0.1))) \n",
    "plt.title('Visualization of the Sigmoid Function') \n",
    "  \n",
    "plt.show() "
   ]
  },
  {
   "cell_type": "markdown",
   "metadata": {
    "id": "iAsKG535pHep"
   },
   "source": [
    "## Load dataset\n",
    "\n",
    "The iris flower dataset is available on Keras dataset API(https://scikit-learn.org/stable/modules/generated/sklearn.datasets.load_iris.html) The following code loads the Iris dataset to your machine:"
   ]
  },
  {
   "cell_type": "code",
   "execution_count": 2,
   "metadata": {},
   "outputs": [],
   "source": [
    "from sklearn import datasets\n",
    "\n",
    "# import iris data from sklearn datasets library\n",
    "iris = datasets.load_iris()"
   ]
  },
  {
   "cell_type": "code",
   "execution_count": 3,
   "metadata": {},
   "outputs": [
    {
     "name": "stdout",
     "output_type": "stream",
     "text": [
      "     sepal length (cm)  sepal width (cm)  petal length (cm)  petal width (cm)  \\\n",
      "0                  5.1               3.5                1.4               0.2   \n",
      "1                  4.9               3.0                1.4               0.2   \n",
      "2                  4.7               3.2                1.3               0.2   \n",
      "3                  4.6               3.1                1.5               0.2   \n",
      "4                  5.0               3.6                1.4               0.2   \n",
      "..                 ...               ...                ...               ...   \n",
      "145                6.7               3.0                5.2               2.3   \n",
      "146                6.3               2.5                5.0               1.9   \n",
      "147                6.5               3.0                5.2               2.0   \n",
      "148                6.2               3.4                5.4               2.3   \n",
      "149                5.9               3.0                5.1               1.8   \n",
      "\n",
      "     target  \n",
      "0         0  \n",
      "1         0  \n",
      "2         0  \n",
      "3         0  \n",
      "4         0  \n",
      "..      ...  \n",
      "145       2  \n",
      "146       2  \n",
      "147       2  \n",
      "148       2  \n",
      "149       2  \n",
      "\n",
      "[150 rows x 5 columns]\n",
      "(150, 5)\n"
     ]
    }
   ],
   "source": [
    "import pandas as pd\n",
    "import tensorflow as tf\n",
    "# To use tenforflow 1.x functions, import compact v1\n",
    "# import tensorflow.compat.v1 as tf\n",
    "# tf.enable_eager_execution()\n",
    "# # # make unable to use tensorflow v2.x functions to avoid crash\n",
    "# tf.disable_v2_behavior()\n",
    "\n",
    "# change to pandas dataframe\n",
    "iris = pd.DataFrame(data= np.c_[iris['data'], iris['target']],\n",
    "                     columns= iris['feature_names'] + ['target'])\n",
    "iris = iris.astype({\"target\": int })\n",
    "\n",
    "print(iris)\n",
    "print(iris.shape)"
   ]
  },
  {
   "cell_type": "code",
   "execution_count": 4,
   "metadata": {
    "scrolled": true
   },
   "outputs": [
    {
     "data": {
      "text/html": [
       "<script src=\"https://d3js.org/d3.v3.min.js\" charset=\"utf-8\"></script>"
      ],
      "text/plain": [
       "<IPython.core.display.HTML object>"
      ]
     },
     "metadata": {},
     "output_type": "display_data"
    },
    {
     "data": {
      "text/html": [
       "\n",
       "        <style> \n",
       "    .table {\n",
       "      border-collapse: collapse;\n",
       "      border: #d0d4d5 solid 1px;\n",
       "      border-spacing: 0px;\n",
       "      font: Arial;\n",
       "      text-align: center;\n",
       "      padding: 5px;\n",
       "      width: 100%;\n",
       "    }\n",
       "\n",
       "    .headerRowStyle {\n",
       "      background-color: #fff;\n",
       "      border-bottom: 3px solid #ccc;\n",
       "      color: #4078a9;\n",
       "      font-size: 14px;\n",
       "      height: 48px;\n",
       "      line-height: 14px;\n",
       "      padding: 10px 5px 5px 5px\n",
       "    }\n",
       "    \n",
       "    .headerCellStyle {\n",
       "      border-left: 1px solid #d0d4d5;\n",
       "    }\n",
       "    \n",
       "    .tableRowStyle {\n",
       "      border-bottom: 1px solid #d0d4d5;\n",
       "      color: #565656;\n",
       "    }\n",
       "     </style>\n",
       "        <h1> Vector Visualization </h1>\n",
       "        <div class=\"tables\"></div>\n",
       "        <script> \n",
       "        console.log(\"Loading JavaScript...\")\n",
       "        console.log(\"Loaded Data:\")\n",
       "        var dname = \"libraries/iris.json\"\n",
       "\n",
       "        function colorPicker(value) {\n",
       "            if (value == \"Iris-setosa\") {\n",
       "            return \"#7aa25c\";\n",
       "            } else if (value == \"Iris-versicolor\") {\n",
       "            return \"#f4f85e\";\n",
       "            } else {\n",
       "            return \"#d84b2a\";\n",
       "            }\n",
       "        }\n",
       "\n",
       "\n",
       "        function checkNumberIfFloat(value) {\n",
       "            return Number(value) === value && value % 1 !== 0;\n",
       "        }\n",
       "\n",
       "        d3.json(\"libraries/iris.json\", function(dataSet) {\n",
       "            var div = d3.select('.tables');\n",
       "\n",
       "            // append a table to the div\n",
       "            var table = div.append(\"table\")\n",
       "                .attr({\n",
       "                    id: \"sample\",\n",
       "                    class: 'table'\n",
       "                })\n",
       "                .classed(\"display\", true);\n",
       "\n",
       "            // append a header to the table\n",
       "            var thead = table.append(\"thead\")\n",
       "\n",
       "            // append a body to the table\n",
       "            var tbody = table.append(\"tbody\")\n",
       "\n",
       "            // append a row to the header\n",
       "            var theadRow = thead.append(\"tr\")\n",
       "                .attr({\n",
       "                    class: 'headerRowStyle'\n",
       "                });\n",
       "\n",
       "            // return a selection of cell elements in the header row\n",
       "            // attribute (join) data to the selection\n",
       "            // update (enter) the selection with nodes that have data\n",
       "            // append the cell elements to the header row\n",
       "            // return the text string for each item in the data array\n",
       "            theadRow.selectAll(\"th\")\n",
       "                .data(d3.keys(dataSet[0]))\n",
       "                .enter()\n",
       "                .append(\"th\")\n",
       "                .text(function(d) {\n",
       "                    return d;\n",
       "                });\n",
       "\n",
       "            // table body rows\n",
       "            var tableBodyRows = tbody.selectAll(\"tr\")\n",
       "                .data(dataSet)\n",
       "                .enter()\n",
       "                .append(\"tr\")\n",
       "                .attr({\n",
       "                    class: 'tableRowStyle'\n",
       "                });\n",
       "\n",
       "            //table body row cells\n",
       "            tableBodyRows.selectAll(\"td\")\n",
       "                .data(function(d) {\n",
       "                    return d3.values(d);\n",
       "                })\n",
       "                .enter()\n",
       "                .append(\"td\")\n",
       "                .text(function(d) {\n",
       "                    return d;\n",
       "                })\n",
       "                .append(function(d) {\n",
       "                    return createSVG(d);\n",
       "                });\n",
       "\n",
       "        })\n",
       "\n",
       "        function createSVG(d) {\n",
       "            var w = 75;\n",
       "            var h = 75;\n",
       "\n",
       "            var kpi = document.createElement(\"div\");\n",
       "\n",
       "            var svg = d3.select(kpi).append(\"svg\")\n",
       "                .attr({\n",
       "                    width: w,\n",
       "                    height: h\n",
       "                });\n",
       "        \n",
       "            var elem = svg.selectAll(\"div\")\n",
       "                .data([d]);\n",
       "\n",
       "            var elemEnter = elem.enter()\n",
       "                .append(\"g\");\n",
       "\n",
       "    \n",
       "            if( checkNumberIfFloat(d) || Number.isInteger(d)){\n",
       "                var la = (d/7);\n",
       "                elemEnter.append(\"rect\")\n",
       "                    .attr({\n",
       "                        x: 25,\n",
       "                        y: 10, //this basically makes the svg start from the button instead of the top\n",
       "                        width: 60*la,\n",
       "                        height: 20\n",
       "                    })\n",
       "                    .style(\"fill\", \"#4078a9\");\n",
       "\n",
       "                elemEnter.append(\"text\")\n",
       "                    .style(\"fill\", \"blue\")\n",
       "                    .attr(\"dy\", 30)\n",
       "                    .attr(\"dx\", 25)\n",
       "            }else{ \n",
       "                elemEnter.append(\"circle\")\n",
       "                    .attr({\n",
       "                        cx: 28,\n",
       "                        cy: 25,\n",
       "                        r: 20\n",
       "                    })\n",
       "                    .style(\"fill\", colorPicker);\n",
       "\n",
       "                elemEnter.append(\"text\")\n",
       "                    .style(\"fill\", \"blue\")\n",
       "                    .attr(\"dy\", 30)\n",
       "                    .attr(\"dx\", 25)\n",
       "            }\n",
       "      return kpi;\n",
       "    }\n",
       "     </script>\n",
       "    "
      ],
      "text/plain": [
       "<IPython.core.display.HTML object>"
      ]
     },
     "metadata": {},
     "output_type": "display_data"
    }
   ],
   "source": [
    "import json\n",
    "import os\n",
    "import sys\n",
    "\n",
    "output_directory = \"libraries/\"\n",
    "output_filename = \"iris.json\"\n",
    "full_path = os.path.join(output_directory, output_filename)\n",
    "\n",
    "module_path = os.path.abspath(os.path.join('..'))\n",
    "if module_path not in sys.path:\n",
    "    sys.path.append(module_path)\n",
    "    \n",
    "import libraries.vector as vector\n",
    "\n",
    "cm = vector.Visualization(full_path)\n",
    "cm.display()"
   ]
  },
  {
   "cell_type": "markdown",
   "metadata": {
    "id": "l50X3GfjpU4r"
   },
   "source": [
    "## Explore the data \n",
    "\n",
    "Let's take a moment to understand the format of the data. Each data contains sepal length, sepal width, petal length, petal width and a corresponding species label. The label is an integer value of either 0 or 1, where 0 is a 'Iris-setosa', and 1 is a 'Iris-versicolo'."
   ]
  },
  {
   "cell_type": "code",
   "execution_count": 5,
   "metadata": {},
   "outputs": [
    {
     "data": {
      "text/html": [
       "<div>\n",
       "<style scoped>\n",
       "    .dataframe tbody tr th:only-of-type {\n",
       "        vertical-align: middle;\n",
       "    }\n",
       "\n",
       "    .dataframe tbody tr th {\n",
       "        vertical-align: top;\n",
       "    }\n",
       "\n",
       "    .dataframe thead th {\n",
       "        text-align: right;\n",
       "    }\n",
       "</style>\n",
       "<table border=\"1\" class=\"dataframe\">\n",
       "  <thead>\n",
       "    <tr style=\"text-align: right;\">\n",
       "      <th></th>\n",
       "      <th>sepal length (cm)</th>\n",
       "      <th>sepal width (cm)</th>\n",
       "      <th>petal length (cm)</th>\n",
       "      <th>petal width (cm)</th>\n",
       "      <th>target</th>\n",
       "    </tr>\n",
       "  </thead>\n",
       "  <tbody>\n",
       "    <tr>\n",
       "      <th>0</th>\n",
       "      <td>5.1</td>\n",
       "      <td>3.5</td>\n",
       "      <td>1.4</td>\n",
       "      <td>0.2</td>\n",
       "      <td>0</td>\n",
       "    </tr>\n",
       "    <tr>\n",
       "      <th>1</th>\n",
       "      <td>4.9</td>\n",
       "      <td>3.0</td>\n",
       "      <td>1.4</td>\n",
       "      <td>0.2</td>\n",
       "      <td>0</td>\n",
       "    </tr>\n",
       "    <tr>\n",
       "      <th>2</th>\n",
       "      <td>4.7</td>\n",
       "      <td>3.2</td>\n",
       "      <td>1.3</td>\n",
       "      <td>0.2</td>\n",
       "      <td>0</td>\n",
       "    </tr>\n",
       "    <tr>\n",
       "      <th>3</th>\n",
       "      <td>4.6</td>\n",
       "      <td>3.1</td>\n",
       "      <td>1.5</td>\n",
       "      <td>0.2</td>\n",
       "      <td>0</td>\n",
       "    </tr>\n",
       "    <tr>\n",
       "      <th>4</th>\n",
       "      <td>5.0</td>\n",
       "      <td>3.6</td>\n",
       "      <td>1.4</td>\n",
       "      <td>0.2</td>\n",
       "      <td>0</td>\n",
       "    </tr>\n",
       "  </tbody>\n",
       "</table>\n",
       "</div>"
      ],
      "text/plain": [
       "   sepal length (cm)  sepal width (cm)  petal length (cm)  petal width (cm)  \\\n",
       "0                5.1               3.5                1.4               0.2   \n",
       "1                4.9               3.0                1.4               0.2   \n",
       "2                4.7               3.2                1.3               0.2   \n",
       "3                4.6               3.1                1.5               0.2   \n",
       "4                5.0               3.6                1.4               0.2   \n",
       "\n",
       "   target  \n",
       "0       0  \n",
       "1       0  \n",
       "2       0  \n",
       "3       0  \n",
       "4       0  "
      ]
     },
     "execution_count": 5,
     "metadata": {},
     "output_type": "execute_result"
    }
   ],
   "source": [
    "#Let's check head of dataframe\n",
    "iris.head()"
   ]
  },
  {
   "cell_type": "code",
   "execution_count": 6,
   "metadata": {},
   "outputs": [
    {
     "data": {
      "text/plain": [
       "<matplotlib.legend.Legend at 0x7f021b7bbf40>"
      ]
     },
     "execution_count": 6,
     "metadata": {},
     "output_type": "execute_result"
    },
    {
     "data": {
      "image/png": "[encoded data removed]",
      "text/plain": [
       "<Figure size 432x288 with 1 Axes>"
      ]
     },
     "metadata": {
      "needs_background": "light"
     },
     "output_type": "display_data"
    }
   ],
   "source": [
    "#Let's make a scatter plot with sepal length and width between two iris species in the dataframe\n",
    "import matplotlib.pyplot as plt\n",
    "\n",
    "plt.scatter(iris['sepal length (cm)'][:50], iris['sepal width (cm)'][:50], label='Iris-setosa')\n",
    "plt.scatter(iris['sepal length (cm)'][51:], iris['sepal width (cm)'][51:], label='Iris-versicolo')\n",
    "plt.scatter(iris['sepal length (cm)'][101:], iris['sepal width (cm)'][101:], label='Iris-virginica')\n",
    "plt.xlabel('sepal length (cm)')\n",
    "plt.ylabel('sepal width (cm)')\n",
    "plt.legend(loc='best')"
   ]
  },
  {
   "cell_type": "markdown",
   "metadata": {
    "id": "h5bmxzE0Fobd"
   },
   "source": [
    "## Pre-Processing Data"
   ]
  },
  {
   "cell_type": "markdown",
   "metadata": {},
   "source": [
    "Create x value as the features and y value as species (labels) from the dataframe"
   ]
  },
  {
   "cell_type": "code",
   "execution_count": 7,
   "metadata": {},
   "outputs": [],
   "source": [
    "x = iris.drop(labels=['target'], axis=1).values\n",
    "y = iris['target'].values"
   ]
  },
  {
   "cell_type": "markdown",
   "metadata": {},
   "source": [
    "Set a seed to get reproducibility for numpy and tensorflow"
   ]
  },
  {
   "cell_type": "code",
   "execution_count": 8,
   "metadata": {},
   "outputs": [],
   "source": [
    "seed = 23\n",
    "np.random.seed(seed)\n",
    "tf.random.set_seed(seed)"
   ]
  },
  {
   "cell_type": "markdown",
   "metadata": {},
   "source": [
    "Next, split the dataset into trainset (60%) and testset (40%) "
   ]
  },
  {
   "cell_type": "code",
   "execution_count": 9,
   "metadata": {},
   "outputs": [],
   "source": [
    "# use random choice from numpy library to set dataset randomly\n",
    "train_data = np.random.choice(len(x), round(len(x) * 0.6), replace=False)\n",
    "test_data = np.array(list(set(range(len(x))) - set(train_data)))\n",
    "\n",
    "# separate the dataset into features and labels\n",
    "x_train = x[train_data]\n",
    "y_train = y[train_data]\n",
    "x_test = x[test_data]\n",
    "y_test = y[test_data]\n",
    "\n",
    "# the number of labels\n",
    "num_labels = 3 \n",
    "\n",
    "# the number of features: sepal length & width, petal length & width\n",
    "num_features = 4\n",
    "\n",
    "# Convert to float32.\n",
    "x_train, x_test = np.array(x_train, np.float32), np.array(x_test, np.float32)\n",
    "\n",
    "x_train, x_test = x_train.reshape([-1, num_features]), x_test.reshape([-1, num_features])"
   ]
  },
  {
   "cell_type": "markdown",
   "metadata": {},
   "source": [
    "Now, we need to normalize the feature values in the dataset.\n",
    "Normalization is optional for logistic regression. However, the main goal of normalizing features is to help convergence of the technique used for optimization."
   ]
  },
  {
   "cell_type": "code",
   "execution_count": 10,
   "metadata": {},
   "outputs": [],
   "source": [
    "# Define the normalization function\n",
    "def min_max_normalization(data):\n",
    "    col_max = np.max(data, axis=0)\n",
    "    col_min = np.min(data, axis=0)\n",
    "    return np.divide(data - col_min, col_max - col_min)"
   ]
  },
  {
   "cell_type": "code",
   "execution_count": 11,
   "metadata": {},
   "outputs": [],
   "source": [
    "# Normalized processing, must be placed after the data set segmentation, \n",
    "# otherwise the test set will be affected by the training set\n",
    "x_train = min_max_normalization(x_train)\n",
    "x_test = min_max_normalization(x_test)"
   ]
  },
  {
   "cell_type": "markdown",
   "metadata": {
    "id": "LLC02j2g-llC"
   },
   "source": [
    "## Build the model\n",
    "With the pre-processed dataset, we start to build the model with tensorflow"
   ]
  },
  {
   "cell_type": "code",
   "execution_count": 12,
   "metadata": {},
   "outputs": [],
   "source": [
    "# Begin building the model framework\n",
    "# Declare the variables that need to be learned and initialization\n",
    "# Weight of shape [4, 3]\n",
    "\n",
    "W = tf.Variable(tf.ones([num_features, num_labels]), name=\"weight\")\n",
    "\n",
    "# Bias of shape [3], the total number of classes.\n",
    "\n",
    "b = tf.Variable(tf.zeros([num_labels]), name=\"bias\")\n",
    "\n",
    "#W = tf.Variable(tf.random.normal([2, 1], mean=0.0))\n",
    "#b = tf.Variable(tf.random.normal([1], mean=0.0))\n",
    "# The tf 2.x doesn't need to use tf.global_variables_initializer() and place holders\n",
    "#init = tf.global_variables_initializer()\n",
    "#sess = tf.Session()\n",
    "#sess.run(init)"
   ]
  },
  {
   "cell_type": "markdown",
   "metadata": {},
   "source": [
    "Define the logistic regression to learn about variables"
   ]
  },
  {
   "cell_type": "code",
   "execution_count": 13,
   "metadata": {},
   "outputs": [],
   "source": [
    "# Logistic regression (Wx + b).\n",
    "\n",
    "def logistic_regression(x):\n",
    "\n",
    "    # Apply softmax to normalize the logits to a probability distribution.\n",
    "    return tf.nn.softmax(tf.matmul(x, W) + b)"
   ]
  },
  {
   "attachments": {
    "log_loss.PNG": {
     "image/png": "[encoded data removed]"
    }
   },
   "cell_type": "markdown",
   "metadata": {},
   "source": [
    "### Loss function and optimizer\n",
    "\n",
    "Let's declare the loss function\n",
    "\n",
    "The loss function is critical for machine & deep learning models.\n",
    "The loss function for linear regression is squared loss, but the loss function for logistic regression is Log Loss, which is defined as follows:\n",
    "\n",
    "![log_loss.PNG](attachment:log_loss.PNG)\n",
    "\n",
    "where:\n",
    "\n",
    "* (x,y) ∈ D is the data set containing many labeled examples, which are  (x,y) pairs.\n",
    "* y is the label in a labeled example. Since this is logistic regression, every value of y must either be 0 or 1.\n",
    "* y' is the predicted value (somewhere between 0 and 1), given the set of features in x.\n"
   ]
  },
  {
   "cell_type": "code",
   "execution_count": 14,
   "metadata": {},
   "outputs": [],
   "source": [
    "# Cross-Entropy loss function.\n",
    "\n",
    "def cross_entropy(y_pred, y_true):\n",
    "\n",
    "    # Encode label to a one hot vector.\n",
    "\n",
    "    y_true = tf.one_hot(y_true, depth=num_labels)\n",
    "\n",
    "    # Clip prediction values to avoid log(0) error.\n",
    "\n",
    "    y_pred = tf.clip_by_value(y_pred, 1e-9, 1.)\n",
    "\n",
    "    # Compute cross-entropy.\n",
    "\n",
    "    return tf.reduce_mean(-tf.reduce_sum(y_true * tf.math.log(y_pred)))\n"
   ]
  },
  {
   "cell_type": "markdown",
   "metadata": {},
   "source": [
    "Before train our model, we need to set the parameters: learning rate, batch size, and the number of epoch interations.\n",
    "\n",
    "\n",
    "* Learning rate is a hyper-parameter that controls how much we are adjusting the weights of our network with respect the loss gradient.\n",
    "\n",
    "* Batch size defines the number of samples that will be propagated through the network.\n",
    "\n",
    "* An epoch is a full iteration over samples during model training."
   ]
  },
  {
   "cell_type": "code",
   "execution_count": 15,
   "metadata": {},
   "outputs": [],
   "source": [
    "learning_rate = 0.003\n",
    "batch_size = 32\n",
    "epoch_iteration_num = 2000\n",
    "display_step = 100"
   ]
  },
  {
   "cell_type": "markdown",
   "metadata": {},
   "source": [
    "Now we need to define optimizer to find optimized parameters."
   ]
  },
  {
   "cell_type": "code",
   "execution_count": 16,
   "metadata": {},
   "outputs": [],
   "source": [
    "# Accuracy metric.\n",
    "\n",
    "def accuracy(y_pred, y_true):\n",
    "\n",
    "# Predicted class is the index of the highest score in prediction vector (i.e. argmax).\n",
    "    correct_prediction = tf.equal(tf.argmax(y_pred, 1), tf.cast(y_true, tf.int64))\n",
    "\n",
    "    return tf.reduce_mean(tf.cast(correct_prediction, tf.float32))\n",
    "\n",
    "# Stochastic gradient descent optimizer.\n",
    "\n",
    "optimizer = tf.optimizers.SGD(learning_rate)"
   ]
  },
  {
   "cell_type": "markdown",
   "metadata": {},
   "source": [
    "## Train the model"
   ]
  },
  {
   "cell_type": "code",
   "execution_count": 17,
   "metadata": {},
   "outputs": [],
   "source": [
    "# Use tf.data API to shuffle and batch data.\n",
    "\n",
    "train_data=tf.data.Dataset.from_tensor_slices((x_train,y_train))\n",
    "\n",
    "train_data=train_data.repeat().shuffle(5000).batch(batch_size).prefetch(1)\n",
    "\n",
    "# create variables to store result\n",
    "losses = []\n",
    "train_accs = []\n",
    "test_accs = []\n",
    "\n",
    "# Optimization process. \n",
    "\n",
    "def run_optimization(x, y):\n",
    "\n",
    "# Wrap computation inside a GradientTape for automatic differentiation.\n",
    "\n",
    "    with tf.GradientTape() as g:\n",
    "\n",
    "        pred = logistic_regression(x)\n",
    "\n",
    "        loss = cross_entropy(pred, y)\n",
    "        losses.append(loss)\n",
    "\n",
    "    # Compute gradients.\n",
    "\n",
    "    gradients = g.gradient(loss, [W, b])\n",
    "\n",
    "  \n",
    "\n",
    "    # Update W and b following gradients.\n",
    "\n",
    "    optimizer.apply_gradients(zip(gradients, [W, b]))"
   ]
  },
  {
   "cell_type": "code",
   "execution_count": 18,
   "metadata": {},
   "outputs": [
    {
     "name": "stdout",
     "output_type": "stream",
     "text": [
      "<tf.Variable 'weight:0' shape=(4, 3) dtype=float32, numpy=\n",
      "array([[0.5881037 , 1.0991565 , 1.3127396 ],\n",
      "       [1.6216606 , 0.59017867, 0.78816056],\n",
      "       [0.18909937, 1.2058655 , 1.6050348 ],\n",
      "       [0.23999566, 1.0790204 , 1.6809839 ]], dtype=float32)> <tf.Variable 'bias:0' shape=(3,) dtype=float32, numpy=array([ 0.38570452,  0.02522847, -0.41093293], dtype=float32)>\n",
      "epoch:  100 loss: 22.714777 train accuracy: 0.687500 test accuracy: 0.650000\n",
      "<tf.Variable 'weight:0' shape=(4, 3) dtype=float32, numpy=\n",
      "array([[ 0.36704302,  1.194362  ,  1.4385948 ],\n",
      "       [ 2.0465014 ,  0.27240384,  0.6810944 ],\n",
      "       [-0.2877119 ,  1.3671534 ,  1.9205582 ],\n",
      "       [-0.20023122,  1.1132467 ,  2.0869844 ]], dtype=float32)> <tf.Variable 'bias:0' shape=(3,) dtype=float32, numpy=array([ 0.6742273 ,  0.14143795, -0.81566507], dtype=float32)>\n",
      "epoch:  200 loss: 15.895287 train accuracy: 0.843750 test accuracy: 0.766667\n",
      "<tf.Variable 'weight:0' shape=(4, 3) dtype=float32, numpy=\n",
      "array([[ 0.20568417,  1.2494899 ,  1.5448261 ],\n",
      "       [ 2.3285816 ,  0.0243569 ,  0.6470617 ],\n",
      "       [-0.6290735 ,  1.4551041 ,  2.1739702 ],\n",
      "       [-0.5156302 ,  1.0983151 ,  2.417316  ]], dtype=float32)> <tf.Variable 'bias:0' shape=(3,) dtype=float32, numpy=array([ 0.85299796,  0.2588636 , -1.111861  ], dtype=float32)>\n",
      "epoch:  300 loss: 15.512609 train accuracy: 0.812500 test accuracy: 0.783333\n",
      "<tf.Variable 'weight:0' shape=(4, 3) dtype=float32, numpy=\n",
      "array([[ 0.07726433,  1.3093624 ,  1.6133734 ],\n",
      "       [ 2.5402193 , -0.16746892,  0.62725   ],\n",
      "       [-0.89743155,  1.5189823 ,  2.3784504 ],\n",
      "       [-0.7617044 ,  1.0631708 ,  2.6985338 ]], dtype=float32)> <tf.Variable 'bias:0' shape=(3,) dtype=float32, numpy=array([ 0.9679698 ,  0.39605087, -1.36402   ], dtype=float32)>\n",
      "epoch:  400 loss: 17.385229 train accuracy: 0.843750 test accuracy: 0.800000\n",
      "<tf.Variable 'weight:0' shape=(4, 3) dtype=float32, numpy=\n",
      "array([[-0.01598775,  1.3428317 ,  1.6731553 ],\n",
      "       [ 2.7254255 , -0.35046235,  0.6250371 ],\n",
      "       [-1.1048583 ,  1.5494475 ,  2.5554104 ],\n",
      "       [-0.94954324,  0.9999122 ,  2.9496303 ]], dtype=float32)> <tf.Variable 'bias:0' shape=(3,) dtype=float32, numpy=array([ 1.0908706 ,  0.49496967, -1.585839  ], dtype=float32)>\n",
      "epoch:  500 loss: 12.651800 train accuracy: 0.875000 test accuracy: 0.800000\n",
      "<tf.Variable 'weight:0' shape=(4, 3) dtype=float32, numpy=\n",
      "array([[-0.10050816,  1.3881077 ,  1.7124002 ],\n",
      "       [ 2.8720443 , -0.48645744,  0.61441344],\n",
      "       [-1.288004  ,  1.577339  ,  2.7106645 ],\n",
      "       [-1.1171174 ,  0.94066447,  3.1764529 ]], dtype=float32)> <tf.Variable 'bias:0' shape=(3,) dtype=float32, numpy=array([ 1.171816  ,  0.61474293, -1.7865577 ], dtype=float32)>\n",
      "epoch:  600 loss: 14.017365 train accuracy: 0.843750 test accuracy: 0.816667\n",
      "<tf.Variable 'weight:0' shape=(4, 3) dtype=float32, numpy=\n",
      "array([[-0.17326029,  1.424149  ,  1.7491106 ],\n",
      "       [ 3.0039718 , -0.6135356 ,  0.6095636 ],\n",
      "       [-1.4443082 ,  1.5900435 ,  2.8542628 ],\n",
      "       [-1.2585906 ,  0.86926305,  3.3893268 ]], dtype=float32)> <tf.Variable 'bias:0' shape=(3,) dtype=float32, numpy=array([ 1.2553236 ,  0.72137165, -1.9766945 ], dtype=float32)>\n",
      "epoch:  700 loss: 10.016291 train accuracy: 0.906250 test accuracy: 0.816667\n",
      "<tf.Variable 'weight:0' shape=(4, 3) dtype=float32, numpy=\n",
      "array([[-0.23779427,  1.4916168 ,  1.7461762 ],\n",
      "       [ 3.128595  , -0.71112347,  0.5825273 ],\n",
      "       [-1.5875123 ,  1.6307536 ,  2.9567554 ],\n",
      "       [-1.3874949 ,  0.82567745,  3.561817  ]], dtype=float32)> <tf.Variable 'bias:0' shape=(3,) dtype=float32, numpy=array([ 1.3439754,  0.8379791, -2.1819541], dtype=float32)>\n",
      "epoch:  800 loss: 11.905011 train accuracy: 0.937500 test accuracy: 0.900000\n",
      "<tf.Variable 'weight:0' shape=(4, 3) dtype=float32, numpy=\n",
      "array([[-0.30104765,  1.548391  ,  1.752655  ],\n",
      "       [ 3.2284667 , -0.7936448 ,  0.5651764 ],\n",
      "       [-1.7213621 ,  1.6453662 ,  3.075992  ],\n",
      "       [-1.5093105 ,  0.76757556,  3.741733  ]], dtype=float32)> <tf.Variable 'bias:0' shape=(3,) dtype=float32, numpy=array([ 1.3964168,  0.9589282, -2.355344 ], dtype=float32)>\n",
      "epoch:  900 loss: 9.325042 train accuracy: 0.937500 test accuracy: 0.900000\n",
      "<tf.Variable 'weight:0' shape=(4, 3) dtype=float32, numpy=\n",
      "array([[-0.3523044 ,  1.5799854 ,  1.7723176 ],\n",
      "       [ 3.3302    , -0.8834406 ,  0.55323946],\n",
      "       [-1.8376274 ,  1.6424987 ,  3.1951256 ],\n",
      "       [-1.6154029 ,  0.7016836 ,  3.913718  ]], dtype=float32)> <tf.Variable 'bias:0' shape=(3,) dtype=float32, numpy=array([ 1.4685748,  1.0356487, -2.504221 ], dtype=float32)>\n",
      "epoch: 1000 loss: 10.952841 train accuracy: 0.906250 test accuracy: 0.900000\n",
      "<tf.Variable 'weight:0' shape=(4, 3) dtype=float32, numpy=\n",
      "array([[-0.39970198,  1.6090852 ,  1.7906152 ],\n",
      "       [ 3.4269369 , -0.9746027 ,  0.54766566],\n",
      "       [-1.9445931 ,  1.6340927 ,  3.3104975 ],\n",
      "       [-1.7115314 ,  0.6214259 ,  4.090105  ]], dtype=float32)> <tf.Variable 'bias:0' shape=(3,) dtype=float32, numpy=array([ 1.5403793,  1.0952911, -2.6356673], dtype=float32)>\n",
      "epoch: 1100 loss: 8.132026 train accuracy: 0.937500 test accuracy: 0.900000\n",
      "<tf.Variable 'weight:0' shape=(4, 3) dtype=float32, numpy=\n",
      "array([[-0.44523174,  1.6638523 ,  1.7813776 ],\n",
      "       [ 3.512825  , -1.0453651 ,  0.5325391 ],\n",
      "       [-2.0463321 ,  1.6463531 ,  3.3999767 ],\n",
      "       [-1.8028489 ,  0.56906664,  4.2337832 ]], dtype=float32)> <tf.Variable 'bias:0' shape=(3,) dtype=float32, numpy=array([ 1.6006047,  1.1947978, -2.7954004], dtype=float32)>\n",
      "epoch: 1200 loss: 10.508465 train accuracy: 0.906250 test accuracy: 0.900000\n",
      "<tf.Variable 'weight:0' shape=(4, 3) dtype=float32, numpy=\n",
      "array([[-0.48843268,  1.6933157 ,  1.7951154 ],\n",
      "       [ 3.59598   , -1.1188846 ,  0.52290356],\n",
      "       [-2.1417124 ,  1.628174  ,  3.5135367 ],\n",
      "       [-1.8899012 ,  0.49577183,  4.3941317 ]], dtype=float32)> <tf.Variable 'bias:0' shape=(3,) dtype=float32, numpy=array([ 1.6617625,  1.2419834, -2.903744 ], dtype=float32)>\n",
      "epoch: 1300 loss: 9.290167 train accuracy: 0.968750 test accuracy: 0.900000\n",
      "<tf.Variable 'weight:0' shape=(4, 3) dtype=float32, numpy=\n",
      "array([[-0.5292794 ,  1.753128  ,  1.7761502 ],\n",
      "       [ 3.6723561 , -1.166057  ,  0.49369982],\n",
      "       [-2.2315452 ,  1.6370277 ,  3.5945168 ],\n",
      "       [-1.9701059 ,  0.44131848,  4.528789  ]], dtype=float32)> <tf.Variable 'bias:0' shape=(3,) dtype=float32, numpy=array([ 1.7183942,  1.3297632, -3.0481548], dtype=float32)>\n",
      "epoch: 1400 loss: 13.424107 train accuracy: 0.781250 test accuracy: 0.900000\n",
      "<tf.Variable 'weight:0' shape=(4, 3) dtype=float32, numpy=\n",
      "array([[-0.56798536,  1.7872754 ,  1.7807094 ],\n",
      "       [ 3.746929  , -1.2230766 ,  0.47614834],\n",
      "       [-2.3198574 ,  1.6261225 ,  3.6937332 ],\n",
      "       [-2.049282  ,  0.38098827,  4.6682944 ]], dtype=float32)> <tf.Variable 'bias:0' shape=(3,) dtype=float32, numpy=array([ 1.7722832,  1.3911042, -3.1633856], dtype=float32)>\n",
      "epoch: 1500 loss: 8.099751 train accuracy: 0.968750 test accuracy: 0.900000\n",
      "<tf.Variable 'weight:0' shape=(4, 3) dtype=float32, numpy=\n",
      "array([[-0.60335535,  1.8190511 ,  1.7843045 ],\n",
      "       [ 3.8189702 , -1.2778045 ,  0.45883584],\n",
      "       [-2.4011328 ,  1.6128144 ,  3.788316  ],\n",
      "       [-2.1232607 ,  0.31493023,  4.8083334 ]], dtype=float32)> <tf.Variable 'bias:0' shape=(3,) dtype=float32, numpy=array([ 1.8271648,  1.4441977, -3.2713616], dtype=float32)>\n",
      "epoch: 1600 loss: 8.026447 train accuracy: 0.968750 test accuracy: 0.900000\n",
      "<tf.Variable 'weight:0' shape=(4, 3) dtype=float32, numpy=\n",
      "array([[-0.637106  ,  1.8605345 ,  1.7765718 ],\n",
      "       [ 3.8849704 , -1.3258526 ,  0.44088316],\n",
      "       [-2.4777372 ,  1.6042094 ,  3.873528  ],\n",
      "       [-2.191736  ,  0.25602913,  4.9357104 ]], dtype=float32)> <tf.Variable 'bias:0' shape=(3,) dtype=float32, numpy=array([ 1.8778834,  1.5033789, -3.3812616], dtype=float32)>\n",
      "epoch: 1700 loss: 7.563651 train accuracy: 0.968750 test accuracy: 0.900000\n",
      "<tf.Variable 'weight:0' shape=(4, 3) dtype=float32, numpy=\n",
      "array([[-0.6700303 ,  1.9065225 ,  1.7635083 ],\n",
      "       [ 3.9491599 , -1.3552608 ,  0.40610173],\n",
      "       [-2.5522344 ,  1.601857  ,  3.9503777 ],\n",
      "       [-2.2588332 ,  0.20510058,  5.0537386 ]], dtype=float32)> <tf.Variable 'bias:0' shape=(3,) dtype=float32, numpy=array([ 1.9283774,  1.5713719, -3.4997485], dtype=float32)>\n",
      "epoch: 1800 loss: 8.975992 train accuracy: 0.968750 test accuracy: 0.916667\n"
     ]
    },
    {
     "name": "stdout",
     "output_type": "stream",
     "text": [
      "<tf.Variable 'weight:0' shape=(4, 3) dtype=float32, numpy=\n",
      "array([[-0.70204234,  1.9361253 ,  1.7659173 ],\n",
      "       [ 4.0120115 , -1.3983328 ,  0.38632104],\n",
      "       [-2.6254413 ,  1.5795163 ,  4.045927  ],\n",
      "       [-2.3254318 ,  0.13933972,  5.1860976 ]], dtype=float32)> <tf.Variable 'bias:0' shape=(3,) dtype=float32, numpy=array([ 1.9771303,  1.6013887, -3.5785172], dtype=float32)>\n",
      "epoch: 1900 loss: 6.622172 train accuracy: 0.906250 test accuracy: 0.900000\n",
      "<tf.Variable 'weight:0' shape=(4, 3) dtype=float32, numpy=\n",
      "array([[-0.73285556,  1.9859154 ,  1.7469405 ],\n",
      "       [ 4.071803  , -1.4281516 ,  0.35634884],\n",
      "       [-2.6957746 ,  1.5807648 ,  4.115013  ],\n",
      "       [-2.3883097 ,  0.09275293,  5.2955627 ]], dtype=float32)> <tf.Variable 'bias:0' shape=(3,) dtype=float32, numpy=array([ 2.0234156,  1.6685729, -3.6919866], dtype=float32)>\n",
      "epoch: 2000 loss: 6.045548 train accuracy: 1.000000 test accuracy: 0.916667\n"
     ]
    }
   ],
   "source": [
    "# Run training for the given number of steps.\n",
    "\n",
    "for epoch, (batch_x, batch_y) in enumerate(train_data.take(epoch_iteration_num), 1):\n",
    "\n",
    "    # Run the optimization to update W and b values.\n",
    "\n",
    "    run_optimization(batch_x, batch_y)\n",
    "    train_pred = logistic_regression(batch_x)\n",
    "    train_acc = accuracy(train_pred, batch_y)\n",
    "    test_pred = logistic_regression(x_test)\n",
    "    test_acc = accuracy(test_pred, y_test)\n",
    "    # recode the result\n",
    "    train_accs.append(train_acc)\n",
    "    test_accs.append(test_acc)\n",
    "\n",
    "    \n",
    "\n",
    "    if epoch % display_step == 0:\n",
    "\n",
    "        #pred = logistic_regression(batch_x)\n",
    "\n",
    "        loss = cross_entropy(train_pred, batch_y)\n",
    "        print(W, b)\n",
    "\n",
    "\n",
    "        #print(\"step: %i, loss: %f, accuracy: %f\" % (step, loss, acc))\n",
    "        print('epoch: {:4d} loss: {:5f} train accuracy: {:5f} test accuracy: {:5f}'.format(epoch, loss,\n",
    "                                                                          train_acc, test_acc))"
   ]
  },
  {
   "cell_type": "markdown",
   "metadata": {},
   "source": [
    "Let's make plot of the loss per epoch from the model training"
   ]
  },
  {
   "cell_type": "code",
   "execution_count": 19,
   "metadata": {},
   "outputs": [
    {
     "data": {
      "image/png": "[encoded data removed]",
      "text/plain": [
       "<Figure size 432x288 with 1 Axes>"
      ]
     },
     "metadata": {
      "needs_background": "light"
     },
     "output_type": "display_data"
    }
   ],
   "source": [
    "plt.plot(losses)\n",
    "plt.title('Cross Entropy Loss')\n",
    "plt.xlabel('epoch')\n",
    "plt.ylabel('loss')\n",
    "plt.show()"
   ]
  },
  {
   "cell_type": "code",
   "execution_count": 20,
   "metadata": {},
   "outputs": [
    {
     "data": {
      "image/png": "[encoded data removed]",
      "text/plain": [
       "<Figure size 432x288 with 1 Axes>"
      ]
     },
     "metadata": {
      "needs_background": "light"
     },
     "output_type": "display_data"
    }
   ],
   "source": [
    "plt.plot(train_accs, 'b-', label='train accuracy')\n",
    "plt.plot(test_accs, 'r-', label='test accuracy')\n",
    "plt.xlabel('epoch')\n",
    "plt.ylabel('accuracy')\n",
    "plt.title('Train and Test Accuracy')\n",
    "plt.legend(loc='best')\n",
    "plt.show()"
   ]
  },
  {
   "cell_type": "code",
   "execution_count": 21,
   "metadata": {},
   "outputs": [
    {
     "name": "stdout",
     "output_type": "stream",
     "text": [
      "Test Accuracy: 0.916667\n"
     ]
    }
   ],
   "source": [
    "# Test model on validation set.\n",
    "model_prediction = []\n",
    "testing_predictions = ((logistic_regression(x_test) > 0.5).numpy()).astype(\"int32\")\n",
    "\n",
    "for i in range(len(testing_predictions)):\n",
    "    for j in range(len(testing_predictions[i])):\n",
    "        if testing_predictions[i][j] == 1:\n",
    "            model_prediction.append(j)\n",
    "\n",
    "pred = logistic_regression(x_test)\n",
    "probas = pred.numpy()\n",
    "np.set_printoptions(precision=5, suppress=True)\n",
    "\n",
    "print(\"Test Accuracy: %f\" % accuracy(pred, y_test))\n"
   ]
  },
  {
   "cell_type": "code",
   "execution_count": 22,
   "metadata": {},
   "outputs": [],
   "source": [
    "import json\n",
    "import os\n",
    "import sys\n",
    "\n",
    "output_directory = \"libraries/\"\n",
    "output_filename = \"predict_LR.json\"\n",
    "full_path = os.path.join(output_directory, output_filename)\n",
    "print(full_path)\n",
    "\n",
    "data = []\n",
    "data.extend([{\n",
    "      'index': i,\n",
    "      'true_label': int(y_test[i]),\n",
    "      'predicted_label': model_prediction[i],\n",
    "      'confidence_score': probas.tolist()[i],\n",
    "      'text': str(x_test.tolist()[i])\n",
    "  } for i in range(len(testing_predictions))])\n",
    "\n",
    "\n",
    "with open(full_path, 'w') as outfile:\n",
    "    json.dump(data, outfile, indent=8, sort_keys=False)"
   ]
  },
  {
   "cell_type": "code",
   "execution_count": 23,
   "metadata": {},
   "outputs": [
    {
     "name": "stdout",
     "output_type": "stream",
     "text": [
      "y_test     | y_pred     | Setosa(%)  | versicolor(%) | virginica(%)\n",
      "-----------------------------------------------------------------\n",
      "0          | 0          | 0.84       | 0.15          | 0.01      \n",
      "2          | 2          | 0.02       | 0.35          | 0.63      \n",
      "0          | 0          | 0.85       | 0.14          | 0.01      \n",
      "2          | 2          | 0.06       | 0.37          | 0.57      \n",
      "0          | 0          | 0.79       | 0.2           | 0.01      \n",
      "0          | 0          | 0.84       | 0.15          | 0.01      \n",
      "0          | 0          | 0.88       | 0.11          | 0.02      \n",
      "0          | 0          | 0.89       | 0.09          | 0.02      \n",
      "2          | 2          | 0.02       | 0.21          | 0.77      \n",
      "2          | 2          | 0.04       | 0.38          | 0.58      \n",
      "2          | 2          | 0.01       | 0.17          | 0.82      \n",
      "2          | 2          | 0.01       | 0.14          | 0.85      \n",
      "2          | 2          | 0.02       | 0.22          | 0.76      \n",
      "0          | 0          | 0.84       | 0.14          | 0.02      \n",
      "0          | 0          | 0.9        | 0.09          | 0.01      \n",
      "2          | 2          | 0.03       | 0.29          | 0.68      \n",
      "2          | 2          | 0.05       | 0.36          | 0.59      \n",
      "0          | 0          | 0.74       | 0.24          | 0.02      \n",
      "0          | 0          | 0.83       | 0.16          | 0.02      \n",
      "0          | 0          | 0.77       | 0.21          | 0.03      \n",
      "0          | 0          | 0.91       | 0.08          | 0.01      \n",
      "0          | 0          | 0.81       | 0.17          | 0.01      \n",
      "0          | 0          | 0.82       | 0.16          | 0.02      \n",
      "0          | 0          | 0.81       | 0.17          | 0.01      \n",
      "0          | 0          | 0.82       | 0.17          | 0.02      \n",
      "0          | 0          | 0.84       | 0.14          | 0.02      \n",
      "0          | 0          | 0.64       | 0.35          | 0.02      \n",
      "0          | 0          | 0.78       | 0.19          | 0.03      \n",
      "0          | 0          | 0.85       | 0.13          | 0.02      \n",
      "0          | 0          | 0.81       | 0.17          | 0.02      \n",
      "1          | 1          | 0.13       | 0.53          | 0.34      \n",
      "1          | 2          | 0.09       | 0.37          | 0.54      \n",
      "1          | 1          | 0.27       | 0.6           | 0.13      \n",
      "1          | 1          | 0.09       | 0.52          | 0.4       \n",
      "1          | 1          | 0.17       | 0.7           | 0.12      \n",
      "1          | 1          | 0.1        | 0.46          | 0.44      \n",
      "1          | 1          | 0.12       | 0.45          | 0.42      \n",
      "1          | 2          | 0.07       | 0.34          | 0.59      \n",
      "1          | 1          | 0.11       | 0.53          | 0.36      \n",
      "1          | 1          | 0.1        | 0.48          | 0.43      \n",
      "1          | 1          | 0.22       | 0.61          | 0.17      \n",
      "1          | 1          | 0.16       | 0.64          | 0.19      \n",
      "1          | 1          | 0.16       | 0.58          | 0.26      \n",
      "1          | 2          | 0.05       | 0.46          | 0.49      \n",
      "1          | 2          | 0.12       | 0.36          | 0.52      \n",
      "1          | 2          | 0.07       | 0.43          | 0.5       \n",
      "1          | 1          | 0.14       | 0.59          | 0.27      \n",
      "1          | 1          | 0.11       | 0.47          | 0.42      \n",
      "1          | 1          | 0.14       | 0.56          | 0.3       \n",
      "1          | 1          | 0.16       | 0.52          | 0.32      \n",
      "1          | 1          | 0.28       | 0.58          | 0.14      \n",
      "2          | 2          | 0.03       | 0.34          | 0.63      \n",
      "2          | 2          | 0.01       | 0.28          | 0.71      \n",
      "2          | 2          | 0.02       | 0.39          | 0.6       \n",
      "2          | 2          | 0.01       | 0.1           | 0.9       \n",
      "2          | 2          | 0.03       | 0.33          | 0.64      \n",
      "2          | 2          | 0.0        | 0.18          | 0.82      \n",
      "2          | 1          | 0.04       | 0.59          | 0.37      \n",
      "2          | 2          | 0.04       | 0.41          | 0.55      \n",
      "2          | 2          | 0.02       | 0.2           | 0.78      \n",
      "-----------------------------------------------------------------\n",
      "\n",
      "[[-1.16546  1.29894 -2.26831 -2.08537]\n",
      " [ 0.41961 -1.49489  0.28372 -0.45065]\n",
      " [ 0.74584  0.19595  1.98458  2.53602]] [ 1.63033  1.01073 -2.64107]\n"
     ]
    }
   ],
   "source": [
    "# Fitting Logistic Regression to the Training set\n",
    "from sklearn.linear_model import LogisticRegression\n",
    "classifier = LogisticRegression(random_state = 0, solver='lbfgs', multi_class='auto')\n",
    "classifier.fit(x_train, y_train)\n",
    "\n",
    "# Predicting the Test set results\n",
    "y_pred = classifier.predict(x_test)\n",
    "# Predict probabilities\n",
    "probs_y=classifier.predict_proba(x_test)\n",
    "### Print results \n",
    "probs_y = np.round(probs_y, 2)\n",
    "res = \"{:<10} | {:<10} | {:<10} | {:<13} | {:<5}\".format(\"y_test\", \"y_pred\", \"Setosa(%)\", \"versicolor(%)\", \"virginica(%)\\n\")\n",
    "res += \"-\"*65+\"\\n\"\n",
    "res += \"\\n\".join(\"{:<10} | {:<10} | {:<10} | {:<13} | {:<10}\".format(x, y, a, b, c) for x, y, a, b, c in zip(y_test, y_pred, probs_y[:,0], probs_y[:,1], probs_y[:,2]))\n",
    "res += \"\\n\"+\"-\"*65+\"\\n\"\n",
    "print(res)\n",
    "print(classifier.coef_, classifier.intercept_)"
   ]
  },
  {
   "cell_type": "code",
   "execution_count": 24,
   "metadata": {},
   "outputs": [
    {
     "data": {
      "image/png": "[encoded data removed]",
      "text/plain": [
       "<Figure size 432x288 with 2 Axes>"
      ]
     },
     "metadata": {
      "needs_background": "light"
     },
     "output_type": "display_data"
    }
   ],
   "source": [
    "from sklearn.metrics import confusion_matrix\n",
    "cm = confusion_matrix(y_test, y_pred)\n",
    "\n",
    "# Plot confusion matrix\n",
    "import seaborn as sns\n",
    "# confusion matrix sns heatmap \n",
    "ax = plt.axes()\n",
    "df_cm = cm\n",
    "sns.heatmap(df_cm, annot=True, annot_kws={\"size\": 30}, fmt='d',cmap=\"Blues\", ax = ax )\n",
    "ax.set_title('Confusion Matrix')\n",
    "plt.show()"
   ]
  }
 ],
 "metadata": {
  "kernelspec": {
   "display_name": "Python 3",
   "language": "python",
   "name": "python3"
  },
  "language_info": {
   "codemirror_mode": {
    "name": "ipython",
    "version": 3
   },
   "file_extension": ".py",
   "mimetype": "text/x-python",
   "name": "python",
   "nbconvert_exporter": "python",
   "pygments_lexer": "ipython3",
   "version": "3.8.5"
  }
 },
 "nbformat": 4,
 "nbformat_minor": 2
}
