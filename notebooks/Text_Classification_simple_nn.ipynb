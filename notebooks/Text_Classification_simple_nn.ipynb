{
 "cells": [
  {
   "cell_type": "markdown",
   "metadata": {
    "id": "yud3kMDNFobS"
   },
   "source": [
    "# Text Classification\n",
    "\n",
    "Text classification is the process of assigning tags or categories to text according to its content. It’s one of the fundamental tasks in natural language processing. \n",
    "\n",
    "The text we wanna classify is given as input to an algorithm, the algorithm will then analyze the text’s content, and then categorize the input as one of the tags or categories previously given.\n",
    "\n",
    "**Input → Classifying Algorithm → Classification of Input**\n",
    "\n",
    "Real life examples: \n",
    "\n",
    "+ sentiment analysis: how does the writer of the sentence feel about what they are writing about, do they think positively or negatively of the subject?Ex. restaurant reviews\n",
    "+ topic labeling: given sentences and a set of topics, which topic does this sentence fall under?  Ex. is this essay about history? Math? etc?\n",
    "+ spam detection. Ex. Email filtering: is this email a real important email or spam?\n",
    "\n",
    "Example. \n",
    "A restaurant wants to evaluate their ratings but don’t want to read through all of them. Therefore, they wanna use a computer algorithm to do all their work. They simply want to know if the customer’s review is positive or negative.\n",
    "\n",
    "Here’s an example of a customer’s review and a simple way an algorithm could classify their review.\n",
    "\n",
    "Input: “The food here was too salty and too expensive” \n",
    "\n",
    "Algorithm: \n",
    "Goes through every word in the sentence and counts how many positive words and how many negative words are in the sentence.\n",
    "\n",
    "\t\t“The, food, here, was, too, and” are all neutral words\n",
    "\n",
    "\t\t“Salty, expensive” are negative words.\n",
    "\n",
    "\t\tNegative words: 2\n",
    "\t\tPositive words: 0\n",
    "\n",
    "Classification: Negative Review, because there are more negative words (2) than positive (0).\n",
    "\n",
    "However, this algorithm obviously doesn’t work in a lot of cases. \n",
    "\n",
    "For example, “The food here was good, not expensive and not salty” would be classified as negative but it’s actually a positive review. \n",
    "\n",
    "Language and text can get very complicated which makes creating these algorithms difficult. Some things that make language difficult could be words that have multiple meanings, negation words (words such as not), slang, etc.\n",
    "\n"
   ]
  },
  {
   "cell_type": "markdown",
   "metadata": {
    "id": "4X8mkZErFoba"
   },
   "source": [
    "## Importing Data"
   ]
  },
  {
   "cell_type": "code",
   "execution_count": 1,
   "metadata": {
    "colab": {
     "base_uri": "https://localhost:8080/"
    },
    "id": "qS67p4NnFobb",
    "outputId": "316d46be-d75e-49f5-b60a-a64b6b2bd45f"
   },
   "outputs": [],
   "source": [
    "# !pip3 install nltk\n",
    "# !pip3 install ipywidgets\n",
    "# !pip3 install tensorflow\n",
    "# !pip3 install keras\n",
    "\n",
    "import sys\n",
    "import string\n",
    "from scipy import sparse\n",
    "import numpy as np\n",
    "import re\n",
    "import nltk\n",
    "from nltk.corpus import stopwords\n",
    "from IPython.display import display\n",
    "import ipywidgets as widgets\n",
    "import keras\n",
    "\n",
    "import os\n",
    "\n",
    "module_path = os.path.abspath(os.path.join('..'))\n",
    "if module_path not in sys.path:\n",
    "    sys.path.append(module_path)\n",
    "\n",
    "# Our two files that contain our data, split up into a training set and a testing set.\n",
    "\n",
    "trainingFile = \"dataset/trainingSet.txt\"\n",
    "testingFile = \"dataset/testSet.txt\""
   ]
  },
  {
   "cell_type": "code",
   "execution_count": 2,
   "metadata": {
    "id": "eq1xTUPUFobc"
   },
   "outputs": [],
   "source": [
    "def getData(fileName):\n",
    "    f = open(fileName)\n",
    "    file = f.readlines()\n",
    "\n",
    "    sentences = []\n",
    "    sentiments = []\n",
    "\n",
    "    for line in file:\n",
    "        sentence, sentiment = line.split('\\t')\n",
    "        sentences.append(sentence.strip())\n",
    "        sentiments.append(int(sentiment.strip())) # Sentiment in {0,1}\n",
    "\n",
    "    return sentences, np.array(sentiments)"
   ]
  },
  {
   "cell_type": "code",
   "execution_count": 3,
   "metadata": {
    "id": "0clq6iMtFobd"
   },
   "outputs": [],
   "source": [
    "trainingSentences, trainingLabels = getData(trainingFile)\n",
    "testingSentences, testingLabels = getData(testingFile)"
   ]
  },
  {
   "cell_type": "markdown",
   "metadata": {
    "id": "h5bmxzE0Fobd"
   },
   "source": [
    "## Pre-Processing Data"
   ]
  },
  {
   "cell_type": "code",
   "execution_count": 4,
   "metadata": {
    "id": "CEFiIbsLFobd"
   },
   "outputs": [],
   "source": [
    "def cleanText(sentence):\n",
    "\n",
    "    # Remove punctuations and numbers\n",
    "    sentence = re.sub('[^a-zA-Z]', ' ', sentence)\n",
    "\n",
    "    # Single character removal\n",
    "    sentence = re.sub(r\"\\s+[a-zA-Z]\\s+\", ' ', sentence)\n",
    "\n",
    "    # Removing multiple spaces\n",
    "    sentence = re.sub(r'\\s+', ' ', sentence)\n",
    "\n",
    "    return sentence\n",
    "\n",
    "def preProcess(text):\n",
    "    # Make lower case\n",
    "    text = text.lower()\n",
    "\n",
    "    # Replace non-text characters with spaces\n",
    "    nonText = string.punctuation + (\"\")\n",
    "    text = text.translate(str.maketrans(nonText, ' ' * (len(nonText))))\n",
    "\n",
    "    # Tokenize\n",
    "    words = text.split()\n",
    "\n",
    "    return words"
   ]
  },
  {
   "cell_type": "code",
   "execution_count": 5,
   "metadata": {
    "colab": {
     "base_uri": "https://localhost:8080/",
     "height": 350
    },
    "id": "9NpPZFmdFobe",
    "outputId": "2c343207-01f9-4c00-cc5b-7f12c64902d2",
    "tags": [
     "outputPrepend"
    ]
   },
   "outputs": [
    {
     "data": {
      "text/plain": [
       "<AxesSubplot:xlabel='sentiment', ylabel='count'>"
      ]
     },
     "execution_count": 5,
     "metadata": {},
     "output_type": "execute_result"
    },
    {
     "data": {
      "image/png": "[encoded data removed]",
      "text/plain": [
       "<Figure size 432x288 with 1 Axes>"
      ]
     },
     "metadata": {
      "needs_background": "light"
     },
     "output_type": "display_data"
    }
   ],
   "source": [
    "train_sentence = []\n",
    "train_words = []\n",
    "test_sentence = []\n",
    "test_words = []\n",
    "# get cleaned sentences and bag of words\n",
    "for sen in trainingSentences:\n",
    "    train_sentence.append(cleanText(sen))\n",
    "    train_words.append(preProcess(sen))\n",
    "for sen in testingSentences:\n",
    "    test_sentence.append(cleanText(sen))\n",
    "    test_words.append(preProcess(sen))\n",
    "# print(train_sentence[0])\n",
    "\n",
    "\n",
    "# print(train_words)\n",
    "\n",
    "import seaborn as sns\n",
    "import pandas as pd\n",
    "train_df = pd.DataFrame(data=trainingLabels, columns=[\"sentiment\"])\n",
    "sns.countplot(x='sentiment', data=train_df)"
   ]
  },
  {
   "cell_type": "markdown",
   "metadata": {
    "id": "XKcwnJeaFobf"
   },
   "source": [
    "## Getting Data and Setting it Up"
   ]
  },
  {
   "cell_type": "code",
   "execution_count": 6,
   "metadata": {
    "id": "lf1CNuIbFobf"
   },
   "outputs": [],
   "source": [
    "from keras.preprocessing.text import one_hot\n",
    "from keras.preprocessing.sequence import pad_sequences\n",
    "from keras.models import Sequential\n",
    "from keras.layers.core import Activation, Dropout, Dense\n",
    "from keras.layers import Flatten\n",
    "from keras.layers import GlobalMaxPooling1D\n",
    "from keras.layers.embeddings import Embedding\n",
    "from sklearn.model_selection import train_test_split\n",
    "from keras.preprocessing.text import Tokenizer\n",
    "\n",
    "from keras.callbacks import Callback\n",
    "\n",
    "from numpy import array\n",
    "from numpy import asarray\n",
    "from numpy import zeros\n",
    "\n",
    "from sklearn.metrics import classification_report\n",
    "from sklearn.preprocessing import MinMaxScaler\n",
    "\n",
    "import matplotlib.pyplot as plt\n",
    "\n",
    "import json\n",
    "\n",
    "def getVocab(sentences):\n",
    "    vocab = set()\n",
    "    for sentence in sentences:\n",
    "        for word in sentence:\n",
    "            vocab.add(word)\n",
    "    return sorted(vocab)"
   ]
  },
  {
   "cell_type": "code",
   "execution_count": 7,
   "metadata": {
    "id": "eCzDbXPaFobg"
   },
   "outputs": [],
   "source": [
    "vocabulary = getVocab(train_words)"
   ]
  },
  {
   "cell_type": "code",
   "execution_count": 8,
   "metadata": {
    "colab": {
     "base_uri": "https://localhost:8080/",
     "height": 86,
     "referenced_widgets": [
      "cbdd6e4d0b3746638ae6dab5a1a7e534",
      "af0d26375a684d398c2dd524ed4506b4",
      "2597a278bed34e18b0ec67729284336f"
     ]
    },
    "id": "Hu59MgyyFobg",
    "outputId": "b596a48d-4108-4345-92af-f94da968247e"
   },
   "outputs": [
    {
     "data": {
      "application/vnd.jupyter.widget-view+json": {
       "model_id": "be829f94793747c7891e34aecb88f980",
       "version_major": 2,
       "version_minor": 0
      },
      "text/plain": [
       "Button(description='Click to see Vocab', style=ButtonStyle())"
      ]
     },
     "metadata": {},
     "output_type": "display_data"
    }
   ],
   "source": [
    "def clicked(arg):\n",
    "    print(vocabulary)\n",
    "\n",
    "button_download = widgets.Button(description = 'Click to see Vocab')   \n",
    "button_download.on_click(clicked)\n",
    "display(button_download)"
   ]
  },
  {
   "cell_type": "code",
   "execution_count": 9,
   "metadata": {
    "id": "ug9ZUaUrFobh"
   },
   "outputs": [],
   "source": [
    "def createVector(vocab, sentences):\n",
    "    indices = []\n",
    "    wordOccurrences = []\n",
    "\n",
    "    for sentenceIndex, sentence in enumerate(sentences):\n",
    "        alreadyCounted = set() # Keep track of words so we don't double count.\n",
    "        for word in sentence:\n",
    "            if (word in vocab) and word not in alreadyCounted:\n",
    "                # If we just want {0,1} for the presence of the word (bernoulli NB),\n",
    "                # only count each word once. Otherwise (multinomial NB) count each\n",
    "                # occurrence of the word.\n",
    "                \n",
    "            \n",
    "                #which sentence, which word\n",
    "                indices.append((sentenceIndex, vocab.index(word)))\n",
    "                \n",
    "                wordOccurrences.append(1)\n",
    "                alreadyCounted.add(word)\n",
    "\n",
    "    # Unzip\n",
    "    rows = [row for row, _ in indices]\n",
    "    columns = [column for _, column in indices]\n",
    "\n",
    "    sentenceVectors = sparse.csr_matrix((wordOccurrences, (rows, columns)), dtype=int, shape=(len(sentences), len(vocab)))\n",
    "\n",
    "    return sentenceVectors"
   ]
  },
  {
   "cell_type": "code",
   "execution_count": 10,
   "metadata": {
    "colab": {
     "base_uri": "https://localhost:8080/"
    },
    "id": "uiOAc62-Fobh",
    "outputId": "0a601504-b931-4fab-9c2d-2a58efe968fc",
    "tags": [
     "outputPrepend"
    ]
   },
   "outputs": [],
   "source": [
    "tokenizer = Tokenizer(num_words=2000)\n",
    "tokenizer.fit_on_texts(train_sentence)\n",
    "\n",
    "X_train = tokenizer.texts_to_sequences(train_sentence)\n",
    "X_test = tokenizer.texts_to_sequences(test_sentence)"
   ]
  },
  {
   "cell_type": "code",
   "execution_count": 11,
   "metadata": {
    "id": "mYy0bw9VYUsh"
   },
   "outputs": [],
   "source": [
    "# Adding 1 because of reserved 0 index\n",
    "vocab_size = len(tokenizer.word_index) + 1\n",
    "\n",
    "maxlen = 10\n",
    "\n",
    "X_train = pad_sequences(X_train, padding='post', maxlen=maxlen)\n",
    "y_train = trainingLabels\n",
    "X_test = pad_sequences(X_test, padding='post', maxlen=maxlen)\n",
    "y_test = testingLabels"
   ]
  },
  {
   "cell_type": "code",
   "execution_count": 12,
   "metadata": {},
   "outputs": [],
   "source": [
    "# scaling confidence scores to range between 0 and 1 with MinMaxScaler\n",
    "scaler = MinMaxScaler(feature_range=[0, 1])"
   ]
  },
  {
   "cell_type": "code",
   "execution_count": 13,
   "metadata": {
    "colab": {
     "base_uri": "https://localhost:8080/"
    },
    "id": "xButWWKRZnbj",
    "outputId": "441a1396-81c3-4475-8b60-a81515bdbb04",
    "scrolled": true
   },
   "outputs": [
    {
     "name": "stdout",
     "output_type": "stream",
     "text": [
      "Model: \"sequential\"\n",
      "_________________________________________________________________\n",
      "Layer (type)                 Output Shape              Param #   \n",
      "=================================================================\n",
      "embedding (Embedding)        (None, 10, 100)           133200    \n",
      "_________________________________________________________________\n",
      "flatten (Flatten)            (None, 1000)              0         \n",
      "_________________________________________________________________\n",
      "dense (Dense)                (None, 16)                16016     \n",
      "_________________________________________________________________\n",
      "dense_1 (Dense)              (None, 1)                 17        \n",
      "=================================================================\n",
      "Total params: 149,233\n",
      "Trainable params: 16,033\n",
      "Non-trainable params: 133,200\n",
      "_________________________________________________________________\n"
     ]
    }
   ],
   "source": [
    "model = Sequential()\n",
    "embedding_layer = Embedding(vocab_size, 100, input_length=maxlen , trainable=False)\n",
    "model.add(embedding_layer)\n",
    "\n",
    "model.add(Flatten())\n",
    "model.add(Dense(16, activation='relu'))\n",
    "model.add(Dense(1, activation='sigmoid'))\n",
    "model.compile(optimizer='adam', loss='binary_crossentropy', metrics=['acc'])\n",
    "model.summary()"
   ]
  },
  {
   "cell_type": "code",
   "execution_count": 14,
   "metadata": {},
   "outputs": [],
   "source": [
    "import libraries.extractioncallback as excb\n",
    "\n",
    "extractor = excb.CallbackDataExtractor(\n",
    "    model = model,\n",
    "    layer = 2,\n",
    "    validation_data = (X_test, y_test),\n",
    "    raw_input = test_sentence\n",
    ")"
   ]
  },
  {
   "cell_type": "code",
   "execution_count": 15,
   "metadata": {},
   "outputs": [
    {
     "name": "stdout",
     "output_type": "stream",
     "text": [
      "Epoch 1/20\n",
      "4/4 - 0s - loss: 0.6930 - acc: 0.4950 - val_loss: 0.6930 - val_acc: 0.5030\n",
      "Epoch 2/20\n",
      "4/4 - 0s - loss: 0.6901 - acc: 0.5691 - val_loss: 0.6927 - val_acc: 0.5131\n",
      "Epoch 3/20\n",
      "4/4 - 0s - loss: 0.6877 - acc: 0.6152 - val_loss: 0.6923 - val_acc: 0.5231\n",
      "Epoch 4/20\n",
      "4/4 - 0s - loss: 0.6855 - acc: 0.6313 - val_loss: 0.6919 - val_acc: 0.5091\n",
      "Epoch 5/20\n",
      "4/4 - 0s - loss: 0.6829 - acc: 0.6613 - val_loss: 0.6915 - val_acc: 0.4990\n",
      "Epoch 6/20\n",
      "4/4 - 0s - loss: 0.6803 - acc: 0.6874 - val_loss: 0.6911 - val_acc: 0.5171\n",
      "Epoch 7/20\n",
      "4/4 - 0s - loss: 0.6775 - acc: 0.7255 - val_loss: 0.6906 - val_acc: 0.5231\n",
      "Epoch 8/20\n",
      "4/4 - 0s - loss: 0.6744 - acc: 0.7375 - val_loss: 0.6901 - val_acc: 0.5372\n",
      "Epoch 9/20\n",
      "4/4 - 0s - loss: 0.6716 - acc: 0.7756 - val_loss: 0.6895 - val_acc: 0.5453\n",
      "Epoch 10/20\n",
      "4/4 - 0s - loss: 0.6681 - acc: 0.7956 - val_loss: 0.6890 - val_acc: 0.5513\n",
      "Epoch 11/20\n",
      "4/4 - 0s - loss: 0.6647 - acc: 0.8016 - val_loss: 0.6884 - val_acc: 0.5553\n",
      "Epoch 12/20\n",
      "4/4 - 0s - loss: 0.6611 - acc: 0.8016 - val_loss: 0.6878 - val_acc: 0.5553\n",
      "Epoch 13/20\n",
      "4/4 - 0s - loss: 0.6571 - acc: 0.7976 - val_loss: 0.6872 - val_acc: 0.5573\n",
      "Epoch 14/20\n",
      "4/4 - 0s - loss: 0.6531 - acc: 0.8016 - val_loss: 0.6866 - val_acc: 0.5513\n",
      "Epoch 15/20\n",
      "4/4 - 0s - loss: 0.6489 - acc: 0.8056 - val_loss: 0.6860 - val_acc: 0.5372\n",
      "Epoch 16/20\n",
      "4/4 - 0s - loss: 0.6444 - acc: 0.8116 - val_loss: 0.6854 - val_acc: 0.5392\n",
      "Epoch 17/20\n",
      "4/4 - 0s - loss: 0.6399 - acc: 0.8196 - val_loss: 0.6849 - val_acc: 0.5453\n",
      "Epoch 18/20\n",
      "4/4 - 0s - loss: 0.6349 - acc: 0.8257 - val_loss: 0.6842 - val_acc: 0.5513\n",
      "Epoch 19/20\n",
      "4/4 - 0s - loss: 0.6301 - acc: 0.8457 - val_loss: 0.6838 - val_acc: 0.5594\n",
      "Epoch 20/20\n",
      "4/4 - 0s - loss: 0.6251 - acc: 0.8537 - val_loss: 0.6832 - val_acc: 0.5594\n",
      "16/16 [==============================] - 0s 838us/step - loss: 0.6832 - acc: 0.5594\n",
      "Test Score: 0.6831814646720886\n",
      "Test Accuracy: 0.559356153011322\n"
     ]
    }
   ],
   "source": [
    "# Callback function must be used as input for model fitting.\n",
    "history = model.fit(X_train, y_train, batch_size=128, epochs=20, verbose=2 , validation_data=(X_test, y_test), callbacks=[extractor])\n",
    "score = model.evaluate(X_test, y_test, verbose=1)\n",
    "print(\"Test Score:\", score[0])\n",
    "print(\"Test Accuracy:\", score[1])"
   ]
  },
  {
   "cell_type": "code",
   "execution_count": 16,
   "metadata": {
    "scrolled": true
   },
   "outputs": [
    {
     "data": {
      "text/html": [
       "<div>\n",
       "<style scoped>\n",
       "    .dataframe tbody tr th:only-of-type {\n",
       "        vertical-align: middle;\n",
       "    }\n",
       "\n",
       "    .dataframe tbody tr th {\n",
       "        vertical-align: top;\n",
       "    }\n",
       "\n",
       "    .dataframe thead th {\n",
       "        text-align: right;\n",
       "    }\n",
       "</style>\n",
       "<table border=\"1\" class=\"dataframe\">\n",
       "  <thead>\n",
       "    <tr style=\"text-align: right;\">\n",
       "      <th></th>\n",
       "      <th>epoch</th>\n",
       "      <th>actual</th>\n",
       "      <th>prediction</th>\n",
       "      <th>confidence_score</th>\n",
       "      <th>intermediate_values</th>\n",
       "      <th>input</th>\n",
       "    </tr>\n",
       "  </thead>\n",
       "  <tbody>\n",
       "    <tr>\n",
       "      <th>0</th>\n",
       "      <td>0</td>\n",
       "      <td>0</td>\n",
       "      <td>[1]</td>\n",
       "      <td>[0.5880575]</td>\n",
       "      <td>[0.0, 0.0033984282054007053, 0.046002209186553...</td>\n",
       "      <td>Crust is not good</td>\n",
       "    </tr>\n",
       "    <tr>\n",
       "      <th>1</th>\n",
       "      <td>0</td>\n",
       "      <td>0</td>\n",
       "      <td>[0]</td>\n",
       "      <td>[0.4270754]</td>\n",
       "      <td>[0.008532318286597729, 0.0, 0.0413313806056976...</td>\n",
       "      <td>Would not go back</td>\n",
       "    </tr>\n",
       "    <tr>\n",
       "      <th>2</th>\n",
       "      <td>0</td>\n",
       "      <td>0</td>\n",
       "      <td>[1]</td>\n",
       "      <td>[0.5251484]</td>\n",
       "      <td>[0.016618456691503525, 0.002866568509489298, 0...</td>\n",
       "      <td>I was shocked because no signs indicate cash o...</td>\n",
       "    </tr>\n",
       "    <tr>\n",
       "      <th>3</th>\n",
       "      <td>0</td>\n",
       "      <td>1</td>\n",
       "      <td>[1]</td>\n",
       "      <td>[0.52139187]</td>\n",
       "      <td>[0.0, 0.0, 0.0871112272143364, 0.0198639389127...</td>\n",
       "      <td>The food amazing</td>\n",
       "    </tr>\n",
       "    <tr>\n",
       "      <th>4</th>\n",
       "      <td>0</td>\n",
       "      <td>1</td>\n",
       "      <td>[1]</td>\n",
       "      <td>[0.60142136]</td>\n",
       "      <td>[0.009945030324161053, 0.0, 0.0472622513771057...</td>\n",
       "      <td>Service is also cute</td>\n",
       "    </tr>\n",
       "    <tr>\n",
       "      <th>...</th>\n",
       "      <td>...</td>\n",
       "      <td>...</td>\n",
       "      <td>...</td>\n",
       "      <td>...</td>\n",
       "      <td>...</td>\n",
       "      <td>...</td>\n",
       "    </tr>\n",
       "    <tr>\n",
       "      <th>492</th>\n",
       "      <td>0</td>\n",
       "      <td>0</td>\n",
       "      <td>[1]</td>\n",
       "      <td>[0.50287914]</td>\n",
       "      <td>[0.08910232782363892, 0.00018835486844182014, ...</td>\n",
       "      <td>I would avoid this place if you are staying in...</td>\n",
       "    </tr>\n",
       "    <tr>\n",
       "      <th>493</th>\n",
       "      <td>0</td>\n",
       "      <td>0</td>\n",
       "      <td>[1]</td>\n",
       "      <td>[0.7456732]</td>\n",
       "      <td>[0.026154611259698868, 0.01678832620382309, 0....</td>\n",
       "      <td>Spend your money and time some place else</td>\n",
       "    </tr>\n",
       "    <tr>\n",
       "      <th>494</th>\n",
       "      <td>0</td>\n",
       "      <td>0</td>\n",
       "      <td>[1]</td>\n",
       "      <td>[0.44841194]</td>\n",
       "      <td>[0.003444395260885358, 0.0046952166594564915, ...</td>\n",
       "      <td>the presentation of the food was awful</td>\n",
       "    </tr>\n",
       "    <tr>\n",
       "      <th>495</th>\n",
       "      <td>0</td>\n",
       "      <td>0</td>\n",
       "      <td>[1]</td>\n",
       "      <td>[0.6225424]</td>\n",
       "      <td>[0.0, 0.05209222808480263, 0.03350469470024109...</td>\n",
       "      <td>I can tell you how disappointed was</td>\n",
       "    </tr>\n",
       "    <tr>\n",
       "      <th>496</th>\n",
       "      <td>0</td>\n",
       "      <td>0</td>\n",
       "      <td>[0]</td>\n",
       "      <td>[0.15997791]</td>\n",
       "      <td>[0.0, 0.019060881808400154, 0.0, 0.02516304515...</td>\n",
       "      <td>I think food should have flavor and texture an...</td>\n",
       "    </tr>\n",
       "  </tbody>\n",
       "</table>\n",
       "<p>497 rows × 6 columns</p>\n",
       "</div>"
      ],
      "text/plain": [
       "     epoch  actual prediction confidence_score  \\\n",
       "0        0       0        [1]      [0.5880575]   \n",
       "1        0       0        [0]      [0.4270754]   \n",
       "2        0       0        [1]      [0.5251484]   \n",
       "3        0       1        [1]     [0.52139187]   \n",
       "4        0       1        [1]     [0.60142136]   \n",
       "..     ...     ...        ...              ...   \n",
       "492      0       0        [1]     [0.50287914]   \n",
       "493      0       0        [1]      [0.7456732]   \n",
       "494      0       0        [1]     [0.44841194]   \n",
       "495      0       0        [1]      [0.6225424]   \n",
       "496      0       0        [0]     [0.15997791]   \n",
       "\n",
       "                                   intermediate_values  \\\n",
       "0    [0.0, 0.0033984282054007053, 0.046002209186553...   \n",
       "1    [0.008532318286597729, 0.0, 0.0413313806056976...   \n",
       "2    [0.016618456691503525, 0.002866568509489298, 0...   \n",
       "3    [0.0, 0.0, 0.0871112272143364, 0.0198639389127...   \n",
       "4    [0.009945030324161053, 0.0, 0.0472622513771057...   \n",
       "..                                                 ...   \n",
       "492  [0.08910232782363892, 0.00018835486844182014, ...   \n",
       "493  [0.026154611259698868, 0.01678832620382309, 0....   \n",
       "494  [0.003444395260885358, 0.0046952166594564915, ...   \n",
       "495  [0.0, 0.05209222808480263, 0.03350469470024109...   \n",
       "496  [0.0, 0.019060881808400154, 0.0, 0.02516304515...   \n",
       "\n",
       "                                                 input  \n",
       "0                                   Crust is not good   \n",
       "1                                   Would not go back   \n",
       "2    I was shocked because no signs indicate cash o...  \n",
       "3                                    The food amazing   \n",
       "4                                Service is also cute   \n",
       "..                                                 ...  \n",
       "492  I would avoid this place if you are staying in...  \n",
       "493         Spend your money and time some place else   \n",
       "494            the presentation of the food was awful   \n",
       "495               I can tell you how disappointed was   \n",
       "496  I think food should have flavor and texture an...  \n",
       "\n",
       "[497 rows x 6 columns]"
      ]
     },
     "execution_count": 16,
     "metadata": {},
     "output_type": "execute_result"
    }
   ],
   "source": [
    "epoch_output = extractor.get_testing_results()\n",
    "epoch_output[0]"
   ]
  },
  {
   "cell_type": "code",
   "execution_count": 17,
   "metadata": {
    "colab": {
     "base_uri": "https://localhost:8080/"
    },
    "id": "rnLJfN9Op3mm",
    "outputId": "6dc97451-3184-4751-91aa-cdd79d5c16eb"
   },
   "outputs": [
    {
     "data": {
      "text/plain": [
       "'              precision    recall  f1-score   support\\n\\n    negative       0.59      0.41      0.48       251\\n    positive       0.54      0.72      0.62       246\\n\\n    accuracy                           0.56       497\\n   macro avg       0.57      0.56      0.55       497\\nweighted avg       0.57      0.56      0.55       497\\n'"
      ]
     },
     "execution_count": 17,
     "metadata": {},
     "output_type": "execute_result"
    }
   ],
   "source": [
    "# make a prediction\n",
    "testingPredictions = (model.predict(X_test) > 0.5).astype(\"int32\")\n",
    "test_confidence_scores = model.predict(X_test, batch_size=128)\n",
    "target_names = ['negative', 'positive']\n",
    "classification_report(testingLabels, testingPredictions, target_names=target_names)"
   ]
  },
  {
   "cell_type": "code",
   "execution_count": 18,
   "metadata": {
    "colab": {
     "base_uri": "https://localhost:8080/",
     "height": 573
    },
    "id": "SMmpXCgBcrmc",
    "outputId": "5c991436-0fa5-454e-ebeb-27426f49ed23"
   },
   "outputs": [
    {
     "data": {
      "image/png": "[encoded data removed]",
      "text/plain": [
       "<Figure size 432x288 with 1 Axes>"
      ]
     },
     "metadata": {
      "needs_background": "light"
     },
     "output_type": "display_data"
    },
    {
     "data": {
      "image/png": "[encoded data removed]",
      "text/plain": [
       "<Figure size 432x288 with 1 Axes>"
      ]
     },
     "metadata": {
      "needs_background": "light"
     },
     "output_type": "display_data"
    }
   ],
   "source": [
    "plt.plot(history.history['acc'])\n",
    "plt.plot(history.history['val_acc'])\n",
    "\n",
    "plt.title('model accuracy')\n",
    "plt.ylabel('accuracy')\n",
    "plt.xlabel('epoch')\n",
    "plt.legend(['train','test'], loc='upper left')\n",
    "plt.show()\n",
    "\n",
    "plt.plot(history.history['loss'])\n",
    "plt.plot(history.history['val_loss'])\n",
    "\n",
    "plt.title('model loss')\n",
    "plt.ylabel('loss')\n",
    "plt.xlabel('epoch')\n",
    "plt.legend(['train','test'], loc='upper left')\n",
    "plt.show()"
   ]
  },
  {
   "cell_type": "code",
   "execution_count": 19,
   "metadata": {
    "colab": {
     "base_uri": "https://localhost:8080/",
     "height": 295
    },
    "id": "RIsrDlWoufUs",
    "outputId": "874c35e1-ce10-4743-aa9e-c84203501f4c"
   },
   "outputs": [
    {
     "data": {
      "image/png": "[encoded data removed]",
      "text/plain": [
       "<Figure size 432x288 with 2 Axes>"
      ]
     },
     "metadata": {
      "needs_background": "light"
     },
     "output_type": "display_data"
    }
   ],
   "source": [
    "data = {'Actual':    testingLabels,\n",
    "        'Predicted': testingPredictions.reshape(len(testingLabels),)\n",
    "        }\n",
    "#print(testingLabels.reshape(len(testingLabels),1))\n",
    "df = pd.DataFrame(data, columns=['Actual','Predicted'])\n",
    "confusion_matrix = pd.crosstab(df['Actual'], df['Predicted'], rownames=['Actual'], colnames=['Predicted'])\n",
    "\n",
    "sns.heatmap(confusion_matrix, annot=True,cmap=\"YlGnBu\", fmt='d').set_title('Confusion Matrix of Testing')\n",
    "plt.show()"
   ]
  },
  {
   "cell_type": "code",
   "execution_count": 20,
   "metadata": {
    "colab": {
     "base_uri": "https://localhost:8080/",
     "height": 17
    },
    "id": "SFg0E22Qw1lQ",
    "outputId": "b6c112d6-d4b7-47ce-988b-d2f9f0233b51"
   },
   "outputs": [],
   "source": [
    "output_directory = \"libraries/\"\n",
    "output_filename = \"simple_nn_epoch_sorted.json\"\n",
    "full_path = os.path.join(output_directory, output_filename)\n",
    "\n",
    "data = {}\n",
    "for i in range(len(epoch_output[0])):\n",
    "    data[i] = {}\n",
    "    data[i]['Num Epochs'] = len(epoch_output)\n",
    "    data[i]['Index'] = i\n",
    "    data[i]['Test Label'] = int(epoch_output[0]['actual'][i])\n",
    "    data[i]['Test Prediction'] = {}\n",
    "    data[i]['Test Confidence Score'] = {}\n",
    "    data[i]['Intermediate Values'] = {}\n",
    "    for j in range(len(epoch_output)):\n",
    "        data[i]['Test Prediction'][j] = int(epoch_output[j]['prediction'][i][0])\n",
    "        data[i]['Test Confidence Score'][j] = float(epoch_output[j]['confidence_score'][i][0])\n",
    "        data[i]['Intermediate Values'][j] = epoch_output[j]['intermediate_values'][i]\n",
    "    data[i]['Test Sentence'] = epoch_output[0]['input'][i]\n",
    "\n",
    "with open(full_path, 'w') as outfile:\n",
    "    json.dump(data, outfile, indent=4, sort_keys=False)"
   ]
  },
  {
   "cell_type": "code",
   "execution_count": 21,
   "metadata": {
    "scrolled": false
   },
   "outputs": [
    {
     "data": {
      "text/html": [
       "<script src=\"https://d3js.org/d3.v3.min.js\" charset=\"utf-8\"></script>"
      ],
      "text/plain": [
       "<IPython.core.display.HTML object>"
      ]
     },
     "metadata": {},
     "output_type": "display_data"
    },
    {
     "data": {
      "text/html": [
       "\n",
       "\t\t<style> \n",
       "\t\tbody {\n",
       "\t\t\tfont-family: Arial, sans-serif;\n",
       "\t\t\tfont-size: larger;\n",
       "\t\t}\n",
       "\t\t.box_highlighted { \n",
       "\t\t\tbackground-color: #ffb; \n",
       "\t\t\tborder: 1px solid #b53;\n",
       "\t\t}\n",
       "\t\t.highlight{\n",
       "\t\t\tbackground-color: yellow;\n",
       "\t\t}\n",
       "\t\t.lighthigh{\n",
       "\t\t\tbackground-color: green;\n",
       "\t\t}\n",
       "\t\tli{\n",
       "\t\t\tfont-size: smaller;\n",
       "\t\t}\n",
       "\t\ttd{\n",
       "\t\t\tmin-width: 100px;\n",
       "\t\t}\n",
       "\t\t#review{\n",
       "\t\t\tborder:1px solid pink; \n",
       "\t\t\tpadding: 5px; \n",
       "\t\t\tfloat: left; \n",
       "\t\t\twidth: 750px; \n",
       "\t\t\theight: 500px; \n",
       "\t\t\tbackground-color: white;\n",
       "\t\t\tmargin: 20px;\n",
       "\t\t\toverflow: scroll;\n",
       "\t\t\t}\n",
       "\t\t#matrix{\n",
       "\t\t\tborder:1px solid pink; \n",
       "\t\t\tpadding: 5px; \n",
       "\t\t\tfloat: left;\n",
       "\t\t\tmargin: 20px;\n",
       "\t\t}\n",
       "\t\t#slider {\n",
       "\t\t  -webkit-appearance: none;\n",
       "\t\t  width: 100%;\n",
       "\t\t  height: 15px;\n",
       "\t\t  border-radius: 5px;  \n",
       "\t\t  background: #d3d3d3;\n",
       "\t\t  outline: none;\n",
       "\t\t  opacity: 0.7;\n",
       "\t\t  -webkit-transition: .2s;\n",
       "\t\t  transition: opacity .2s;\n",
       "\t\t}\n",
       "\t\t#slider::-webkit-slider-thumb {\n",
       "\t\t  -webkit-appearance: none;\n",
       "\t\t  appearance: none;\n",
       "\t\t  width: 25px;\n",
       "\t\t  height: 25px;\n",
       "\t\t  border-radius: 50%; \n",
       "\t\t  background: #4ca2af;\n",
       "\t\t  cursor: pointer;\n",
       "\t\t}\n",
       "\t\t#slider::-moz-range-thumb {\n",
       "\t\t  width: 25px;\n",
       "\t\t  height: 25px;\n",
       "\t\t  border-radius: 50%;\n",
       "\t\t  background: #4ca2af;\n",
       "\t\t  cursor: pointer;\n",
       "\t\t}\n",
       "\t\t </style>\n",
       "\t\t<h1> Interactive Confusion Matrix </h1>\n",
       "\t\t<h3 id=\"confidence_setting\"> Confidence: 0.5 </h3>\n",
       "\t\t<input class=\"slider\" id=\"confidence_slider\" type=\"range\" min=\"0\" max=\"1\" step=\".1\" value=\".5\"/>\n",
       "\t\t<h3 id=\"epoch_setting\"> Epoch: 1 </h3>\n",
       "\t\t<input class=\"slider\" id=\"epoch_slider\" type=\"range\" min=\"1\" max=\"20\" step=\"1\" value=\"1\"/>\n",
       "\t\t<div>\n",
       "\t\t\t<div>\n",
       "\t\t\t\t<div id=\"matrix\"></div>\n",
       "\t\t\t\t<div id=\"review\">\n",
       "\t\t\t\t\tData \n",
       "\t\t\t\t\t<ul id = \"testList\"></ul>\n",
       "\t\t\t\t</div>\n",
       "\t\t\t</div>\n",
       "\t\t</div>\n",
       "\t\t<script> \n",
       "\t\tconsole.log(\"Visualization: Running JavaScript...\");\n",
       "\t\tvar dname = \"libraries/simple_nn_epoch_sorted.json\";\n",
       "\t\tvar currentConfSetting = .5;\n",
       "\t\tvar currentEpochSetting = 1;\n",
       "\t\tvar lastEpochIndex = 0;\n",
       "\t\tconsole.log(\"Visualization: Reading JSON file(\", dname, \")...\");\n",
       "\n",
       "\t\td3.json( \"libraries/simple_nn_epoch_sorted.json\", function(d) {\n",
       "\t\t\tconsole.log(\"Visualization: Logging complete JSON...\");\n",
       "\t\t\tconsole.log(d);\n",
       "\t\t\tlastEpochIndex = d[0]['Num Epochs']\n",
       "\t\t\td3.select(\"#epoch_slider\").attr(\"max\", lastEpochIndex);\n",
       "\t\t});\n",
       "\n",
       "\n",
       "\t\t/*--------------------------------------------------------------------------------\n",
       "\t\tI've temporarily left out the 'getType' function, since the names of these\n",
       "\t\ttypes are not included in the JSON file that is given to the JavaScript. More\n",
       "\t\tfunctionality can be incldued later to bring the names in as well as the raw data.\n",
       "\t\tType will be represented by the given numeric identifier for now.\n",
       "\t\t--------------------------------------------------------------------------------*/\n",
       "\n",
       "\t\t/*--------------------------------------------------------------------------------\n",
       "\t\tFunction: extractTypes\n",
       "\t\tBehavior: Identifies different types each data point can be identified as, based \n",
       "\t\t\t\t  off of the 'true_label' attribute in JSON file.\n",
       "\t\tInput: JSON file\n",
       "\t\tOutput: Returns array of possible values for 'Test Label'.\n",
       "\t\t--------------------------------------------------------------------------------*/\n",
       "\n",
       "\t\tfunction extractTypes(data){\n",
       "\t\t\tvar lookup = {};\n",
       "\t\t\tvar items = data;\n",
       "\t\t\tvar result = [];\n",
       "\n",
       "\t\t\tfor (var item, i=0; item = items[i++];){\n",
       "\t\t\t\tvar name = item['Test Label'];\n",
       "\t\t\t\tif(!(name in lookup)){\n",
       "\t\t\t\t\tlookup[name] = 1;\n",
       "\t\t\t\t\tresult.push(name);\n",
       "\t\t\t\t}\n",
       "\t\t\t}\n",
       "\n",
       "\t\t\treturn result;\n",
       "\t\t}\n",
       "\n",
       "\t\t/*--------------------------------------------------------------------------------\n",
       "\t\tFunction: Slider Re-Draw\n",
       "\t\tBehavior: This d3 code will redraw each time there is a change in the slider.\n",
       "\t\tInput: None\n",
       "\t\tOutput: Visualization should be redrawn\n",
       "\t\t--------------------------------------------------------------------------------*/\n",
       "\t\t/*--------------------------------------------------------------------------------\n",
       "\t\tBUG: This should be adjusted to be called both on load and on change. \n",
       "\t\t--------------------------------------------------------------------------------*/\n",
       "\n",
       "\t\td3.selectAll(\".slider\").on(\"change\", function() {\n",
       "\t\t\td3.select(\"svg\").remove();\n",
       "\n",
       "\t\t\tif(this.id == \"confidence_slider\"){\n",
       "\t\t\t\tcurrentConfSetting = this.value;\n",
       "\t\t\t}\n",
       "\t\t\tif(this.id == \"epoch_slider\"){\n",
       "\t\t\t\tcurrentEpochSetting = this.value;\n",
       "\t\t\t}\n",
       "\n",
       "\t\t\td3.select(\"#confidence_setting\").text(\"Confidence: \" + currentConfSetting);\n",
       "\t\t\td3.select(\"#epoch_setting\").text(\"Epoch: \" + currentEpochSetting);\n",
       "\t\t\tconsole.log(\"Visualization: Confidence set to (\", currentConfSetting,\n",
       "\t\t\t\t\t\t\") Epoch set to (\", currentEpochSetting, \")\");\n",
       "\n",
       "\t\t\t/*--------------------------------------------------------------------------------\n",
       "\t\t\tFunction: Re-Draw\n",
       "\t\t\tBehavior: Adjusting the slider will call this function to redraw the\n",
       "\t\t\t\t\t  visualization. First a table is build keep track of the number of\n",
       "\t\t\t\t\t  elements to be in each cell. Next, data is read into an array based on\n",
       "\t\t\t\t\t  the parameters set by the sliders.\n",
       "\t\t\tInput: filepath to JSON\n",
       "\t\t\tOutput: visualization should be redrawn\n",
       "\t\t\t--------------------------------------------------------------------------------*/\n",
       "\n",
       "\t\t\td3.json(\"libraries/simple_nn_epoch_sorted.json\", function(d) {\n",
       "\n",
       "\t\t\t\tvar totalItems = Object.keys(d).length\n",
       "\t\t\t\tconsole.log(\"Visualization: \", totalItems, \"pieces of test data included\")\n",
       "\n",
       "\t\t\t\tvar possibleOutputValues = extractTypes(d);\n",
       "\t\t\t\tconsole.log(\"Visualization: Possible outcomes inlcudes; \", possibleOutputValues)\n",
       "\n",
       "\t\t\t\tvar tableDimension = extractTypes(d).length;\n",
       "\t\t\t\tconsole.log(\"Visualization: Constructing\", tableDimension, \"x\",\n",
       "\t\t\t\t\t\t\ttableDimension, \"chart...\");\n",
       "\t\t\t\tvar dataset = [];\n",
       "\n",
       "\t\t\t\tvar table = new Array(tableDimension);\n",
       "\t\t\t\tfor(var i=0; i<tableDimension; i++){\n",
       "\t\t\t\t\ttable[i] = new Array(tableDimension);\n",
       "\t\t\t\t\tfor(var j=0; j<tableDimension; j++){\n",
       "\t\t\t\t\t\ttable[i][j] = 0;\n",
       "\t\t\t\t\t}\n",
       "\t\t\t\t}\n",
       "\t\t\t\tconsole.log(\"Visualization: Table initialized as: \", table)\n",
       "\n",
       "\n",
       "\t\t\t\t/*\n",
       "\t\t\t\t# NOTE: To be removed, we only need to know the integer representation \n",
       "\t\t\t\t#\t\tof which epoch we are using.\n",
       "\t\t\t\tvar selectedEpoch = {};\n",
       "\n",
       "\t\t\t\tfor(var singleEpoch, i=0; singleEpoch = d[i++];){\n",
       "\t\t\t\t\tif((singleEpoch[0][\"Epoch\"] + 1) == parseInt(currentEpochSetting)){\n",
       "\t\t\t\t\t\tselectedEpoch = singleEpoch;\n",
       "\t\t\t\t\t}\n",
       "\t\t\t\t}\n",
       "\t\t\t\t*/\n",
       "\n",
       "\t\t\t\tconsole.log(\"Visualization: Preparing to display epoch (\", currentEpochSetting, \")...\");\n",
       "\n",
       "\t\t\t\t/*--------------------------------------------------------------------------------\n",
       "\t\t\t\tNOTE: Will we need to display just integer representations of classifications,\n",
       "\t\t\t\t\t  or will we need to display titles of classicications along the axis\n",
       "\t\t\t\t--------------------------------------------------------------------------------*/\n",
       "\n",
       "\t\t\t\t// NOTE EDITING HERE\n",
       "\n",
       "\t\t\t\tfor(var jsonEntry, i=0; jsonEntry = d[i++];){\n",
       "\t\t\t\t\t// console.log(jsonEntry);\n",
       "\t\t\t\t\tvar index = i;\n",
       "\t\t\t\t\t// var epoch = jsonEntry[\"Epoch\"];\n",
       "\t\t\t\t\tvar entryText = jsonEntry[\"Test Sentence\"];\n",
       "\t\t\t\t\tvar confidenceScore = jsonEntry[\"Test Confidence Score\"][currentEpochSetting-1];\n",
       "\t\t\t\t\tvar trueLabel = jsonEntry[\"Test Label\"];\n",
       "\t\t\t\t\tvar predictedLabel = jsonEntry[\"Test Prediction\"][currentEpochSetting-1];\n",
       "\t\t\t\t\tvar tableXCoordinate = possibleOutputValues.indexOf(predictedLabel); //Predicted\n",
       "\t\t\t\t\tvar tableYCoordinate = possibleOutputValues.indexOf(trueLabel); // Actual\n",
       "\n",
       "\t\t\t\t\tif(confidenceScore < currentConfSetting){\n",
       "\t\t\t\t\t\ttable[tableXCoordinate][tableYCoordinate]+=1;\n",
       "\t\t\t\t\t\tdataset.push([trueLabel, predictedLabel, entryText, index]);\n",
       "\t\t\t\t\t}\n",
       "\t\t\t\t}\n",
       "\n",
       "\t\t\t\tconsole.log(\"Visualization: Table for confidence \", currentConfSetting, \" at epoch \", currentEpochSetting, table);\n",
       "\t\t\t\tconsole.log(\"Visualization: Creating SVG...\");\n",
       "\n",
       "\t\t\t\t/*--------------------------------------------------------------------------------\n",
       "\t\t\t\tNOTE: Will leave this as the default viz size for now\n",
       "\t\t\t\t--------------------------------------------------------------------------------*/\n",
       "\n",
       "\t\t\t\tvar w = 750;\n",
       "\t\t\t\tvar h = 750;\n",
       "\n",
       "\t\t\t\tvar svg = d3.select(\"body\")\n",
       "\t\t\t\t\t\t\t.select(\"#matrix\")\n",
       "\t\t\t\t\t\t\t.append(\"svg\")\n",
       "\t\t\t\t\t\t\t.attr(\"width\", w)\n",
       "\t\t\t\t\t\t\t.attr(\"height\", h);\n",
       "\n",
       "\t\t\t\tvar rect = svg.selectAll(\"rect\")\n",
       "\t\t\t\t\t\t\t  .data(dataset)\n",
       "\t\t\t\t\t\t\t  .enter()\n",
       "\t\t\t\t\t\t\t  .append(\"rect\");\n",
       "\n",
       "\t\t\t\tvar counters = new Array(tableDimension * tableDimension).fill(0);\n",
       "\t\t\t\tvar ycounters = new Array(tableDimension * tableDimension).fill(0);\n",
       "\t\t\t\tvar cellDimension = h / tableDimension;\n",
       "\t\t\t\tvar blockStackDimension = Math.round(Math.sqrt(totalItems)) + 1;\n",
       "\t\t\t\tvar marginBuffer = 5;\n",
       "\t\t\t\tvar cubeDimension = ((cellDimension - marginBuffer) / blockStackDimension);\n",
       "\n",
       "\t\t\t\t/*--------------------------------------------------------------------------------\n",
       "\t\t\t\tFormat: d[trueLabel, predictedLabel, entryText, index, epoch]\n",
       "\t\t\t\t--------------------------------------------------------------------------------*/\n",
       "\n",
       "\t\t\t\trect.attr(\"x\", function (d, i){\n",
       "\t\t\t\t\tvar matrixnum = (parseInt(d[1]) * tableDimension) + parseInt(d[0]);\n",
       "\t\t\t\t\tvar inmatrixcol = counters[matrixnum] % blockStackDimension;\n",
       "\t\t\t\t\tcounters[matrixnum]++;\n",
       "\t\t\t\t\treturn (d[1] * (cellDimension + marginBuffer)) + (inmatrixcol * (cubeDimension));\n",
       "\t\t\t\t\t})\n",
       "\t\t\t\t\t.attr(\"y\", function(d, i){\n",
       "\t\t\t\t\t\tvar matrixnum = (parseInt(d[1] * tableDimension) + parseInt(d[0]));\n",
       "\t\t\t\t\t\tvar hm = Math.floor(ycounters[matrixnum]/blockStackDimension);\n",
       "\t\t\t\t\t\tycounters[matrixnum]++;\n",
       "\t\t\t\t\t\treturn (d[0] * (cellDimension + marginBuffer)) + (hm * (cubeDimension));\n",
       "\t\t\t\t\t})\n",
       "\t\t\t\t\t.attr(\"id\", function(d){\n",
       "\t\t\t\t\t\treturn \"rect\" + d[3];\n",
       "\t\t\t\t\t})\n",
       "\t\t\t\t\t.attr(\"width\", function(d){\n",
       "\t\t\t\t\t\treturn cubeDimension;\n",
       "\t\t\t\t\t})\n",
       "\t\t\t\t\t.attr(\"height\", function(d){\n",
       "\t\t\t\t\t\treturn cubeDimension;\n",
       "\t\t\t\t\t})\n",
       "\t\t\t\t\t.attr(\"opacity\", function(d){\n",
       "\t\t\t\t\t\treturn 1;\n",
       "\t\t\t\t\t})\n",
       "\t\t\t\t\t.attr(\"fill\", function(d){\n",
       "\t\t\t\t\t\treturn (\"black\");\n",
       "\t\t\t\t\t})\n",
       "\t\t\t\t\t.attr(\"class\", function(d){\n",
       "\t\t\t\t\t\tpredicted_label = \"predicted_label_\" + d[1];\n",
       "\t\t\t\t\t\ttrue_label = \"true_label_\" + d[0];\n",
       "\t\t\t\t\t\treturn true_label + \" \" + predicted_label;\n",
       "\t\t\t\t});\n",
       "\n",
       "\n",
       "\n",
       "\t\t\t\td3.select(\"#review\")\n",
       "\t\t\t\t\t.select(\"testList\")\n",
       "\t\t\t\t\t.selectAll(\"rect\")\n",
       "\t\t\t\t\t.data(\n",
       "\t\t\t\t\t\tdataset.filter(d => d[0] != d[1]),\n",
       "\t\t\t\t\t\tfunction(d){\n",
       "\t\t\t\t\t\t\treturn d[3];\n",
       "\t\t\t\t\t\t}\n",
       "\t\t\t\t\t)\n",
       "\t\t\t\t\t.enter()\n",
       "\t\t\t\t\t.append(\"li\")\n",
       "\t\t\t\t\t.attr(\"id\", function(d){\n",
       "\t\t\t\t\t\treturn \"text\" + d[3];\n",
       "\t\t\t\t\t})\n",
       "\t\t\t\t\t.html(function(d){\n",
       "\t\t\t\t\t\ttable = \"<table><tr>\"\n",
       "\t\t\t\t\t\ttable += \"<td> True: \";\n",
       "\t\t\t\t\t\ttable += parseInt(d[0]); //getType(d[0]);\n",
       "\t\t\t\t\t\ttable += \"</td>\"\n",
       "\t\t\t\t\t\ttable += \"<td> Predict: \";\n",
       "\t\t\t\t\t\ttable += parseInt(d[1]); //getType(d[1]);\n",
       "\t\t\t\t\t\ttable += \"</td>\"\n",
       "\t\t\t\t\t\ttable += \"<td>\" + d[2].substr(0,200); + \"</td>\"\n",
       "\t\t\t\t\t\ttable += \"</tr> </table>\"\n",
       "\t\t\t\t\t\treturn  table;\n",
       "\t\t\t\t});\n",
       "\n",
       "\n",
       "\n",
       "\t\t\t\trect.on(\"click\", function(d_on){\n",
       "\t\t\t\t\td3.select(\"#review\")\n",
       "\t\t\t\t\t\t.select(\"#testList\")\n",
       "\t\t\t\t\t\t.html(\"\");\n",
       "\t\t\t\t\tif(!this.classList.contains(\"past\")){\n",
       "\t\t\t\t\t\td3.selectAll(\".past\")\n",
       "\t\t\t\t\t\t\t.attr(\"fill\", \"pink\")\n",
       "\t\t\t\t\t\t\t.classed(\"past\", false);\n",
       "\t\t\t\t\t\td3.selectAll(\".reclick\")\n",
       "\t\t\t\t\t\t\t.attr(\"fill\", \"pink\")\n",
       "\t\t\t\t\t\t\t.classed(\"reclick\", false)\n",
       "\t\t\t\t\t}\n",
       "\t\t\t\t\tif(!this.classList.contains(\"reclick\")){\n",
       "\t\t\t\t\t\td3.selectAll(\".reclick\")\n",
       "\t\t\t\t\t\t\t.attr(\"fill\", \"pink\")\n",
       "\t\t\t\t\t\t\t.classed(\"reclick\", false);\n",
       "\t\t\t\t\t}\n",
       "\t\t\t\t\td3.select(this);\n",
       "\t\t\t\t\ttextId = \"\";\n",
       "\t\t\t\t\tx = \".\" + this.classList[0];\n",
       "\t\t\t\t\ty = \".\" + this.classList[1];\n",
       "\t\t\t\t\ttest = x + y;\n",
       "\t\t\t\t\tx1 = x.charAt(x.length - 1);\n",
       "\t\t\t\t\ty1 = y.charAt(y.length - 1);\n",
       "\t\t\t\t\tif(this.classList.contains(\"past\")){\n",
       "\t\t\t\t\t\td3.select(this)\n",
       "\t\t\t\t\t\t\t.classed(\"reclick\", true)\n",
       "\t\t\t\t\t\tId = this.id;\n",
       "\t\t\t\t\t\ttextId = \"#text\" + Id.substring(4);\n",
       "\t\t\t\t\t}\n",
       "\t\t\t\t\td3.selectAll(test)\n",
       "\t\t\t\t\t\t.attr(\"fill\", \"purple\")\n",
       "\t\t\t\t\t\t.classed(\"past\", \"true\");\n",
       "\t\t\t\t\td3.select(\"#review\")\n",
       "\t\t\t\t\t\t.select(\"#testList\")\n",
       "\t\t\t\t\t\t.selectAll(\"rect\")\n",
       "\t\t\t\t\t\t.data(\n",
       "\t\t\t\t\t\t\tdataset\n",
       "\t\t\t\t\t\t\t\t.filter(d => d[0] == x1)\n",
       "\t\t\t\t\t\t\t\t.filter(d => d[1] == y1),\n",
       "\t\t\t\t\t\t\t\tfunction(d){\n",
       "\t\t\t\t\t\t\t\t\treturn d[3];\n",
       "\t\t\t\t\t\t\t\t}\n",
       "\t\t\t\t\t\t)\n",
       "\t\t\t\t\t\t.enter()\n",
       "\t\t\t\t\t\t.append(\"li\")\n",
       "\t\t\t\t\t\t.attr(\"id\", function(d){\n",
       "\t\t\t\t\t\t\treturn \"text\" + d[3];\n",
       "\t\t\t\t\t\t})\n",
       "\t\t\t\t\t\t.html(function(d){\n",
       "\t\t\t\t\t\t\ttable = \"<table><tr>\"\n",
       "\t\t\t\t\t\t\ttable += \"<td> True: \";\n",
       "\t\t\t\t\t\t\ttable += parseInt(d[0]); //getType(d[0]);\n",
       "\t\t\t\t\t\t\ttable += \"</td>\"\n",
       "\t\t\t\t\t\t\ttable += \"<td> Predict: \";\n",
       "\t\t\t\t\t\t\ttable += parseInt(d[1]); //getType(d[1]);\n",
       "\t\t\t\t\t\t\ttable += \"</td>\"\n",
       "\t\t\t\t\t\t\ttable += \"<td>\" + d[2].substr(0,200); + \"</td>\"\n",
       "\t\t\t\t\t\t\ttable += \"</tr> </table>\"\n",
       "\t\t\t\t\t\t\treturn table;\n",
       "\t\t\t\t\t});\n",
       "\t\t\t\t\td3.select(\"#review\")\n",
       "\t\t\t\t\t\t.select(\"testList\")\n",
       "\t\t\t\t\t\t.selectAll(\"li\")\n",
       "\t\t\t\t\t\t.on(\"mouseover\", function(d_on){\n",
       "\t\t\t\t\t\t\td3.select(this)\n",
       "\t\t\t\t\t\t\t\t.classed(\"lighthigh\", true)\n",
       "\t\t\t\t\t\t\t\tid = this.id;\n",
       "\t\t\t\t\t\t\t\trectId = \"#rect\" + id.substring(4);\n",
       "\t\t\t\t\t\t\t\td3.selectAll(rectId)\n",
       "\t\t\t\t\t\t\t\t\t.attr(\"fill\", \"green\");\n",
       "\t\t\t\t\t\t})\n",
       "\t\t\t\t\t\t.on(\"mouseout\", function(d_on){\n",
       "\t\t\t\t\t\t\td3.select(this)\n",
       "\t\t\t\t\t\t\t\t.classed(\"lighthigh\", false)\n",
       "\t\t\t\t\t\t\t\tid = this.id;\n",
       "\t\t\t\t\t\t\t\trectId = \"#rect\" + id.substring(4);\n",
       "\t\t\t\t\t\t\t\td3.selectAll(rectId)\n",
       "\t\t\t\t\t\t\t\t\t.attr(\"fill\", \"purple\");\n",
       "\t\t\t\t\t});\n",
       "\t\t\t\t});\n",
       "\n",
       "\n",
       "\t\t\t\td3.select(\"#review\")\n",
       "\t\t\t\t\t.select(\"#testList\")\n",
       "\t\t\t\t\t.selectAll(\"li\")\n",
       "\t\t\t\t\t.on(\"mouseover\", function(d_on){\n",
       "\t\t\t\t\t\td3.select(this)\n",
       "\t\t\t\t\t\t\t.classed(\"lighthigh\", true)\n",
       "\t\t\t\t\t\t\tid = this.id;\n",
       "\t\t\t\t\t\t\trectId = \"#rect\" + id.substring(4);\n",
       "\t\t\t\t\t\t\td3.selectAll(rectId)\n",
       "\t\t\t\t\t\t\t\t.attr(\"fill\", \"green\");\n",
       "\t\t\t\t\t})\n",
       "\t\t\t\t  .on(\"mouseout\", function(d_on){\n",
       "\t\t\t\t\t\td3.select(this)\n",
       "\t\t\t\t\t\t\t.classed(\"lighthigh\", false)\n",
       "\t\t\t\t\t\t\tid = this.id;\n",
       "\t\t\t\t\t\t\trectId = \"#rect\" + id.substring(4);\n",
       "\t\t\t\t\t\t\td3.selectAll(rectId)\n",
       "\t\t\t\t\t\t\t\t.attr(\"fill\", \"pink\");\n",
       "\t\t\t\t});\n",
       "\n",
       "\n",
       "\t\t\t});\n",
       "\t\t})\n",
       "\t\t </script>\n",
       "\t\t"
      ],
      "text/plain": [
       "<IPython.core.display.HTML object>"
      ]
     },
     "metadata": {},
     "output_type": "display_data"
    }
   ],
   "source": [
    "import libraries.mlvislib as mlvs\n",
    "# import os\n",
    "\n",
    "# output_directory = \"libraries/\"\n",
    "# output_filename = \"simple_nn_epoch_sorted_v2.json\"\n",
    "# full_path = os.path.join(output_directory, output_filename)\n",
    "\n",
    "cm = mlvs.ConfusionMatrix(full_path)\n",
    "cm.display()"
   ]
  },
  {
   "cell_type": "code",
   "execution_count": null,
   "metadata": {},
   "outputs": [],
   "source": []
  }
 ],
 "metadata": {
  "colab": {
   "collapsed_sections": [],
   "name": "Text Classification.ipynb",
   "provenance": []
  },
  "kernelspec": {
   "display_name": "Python 3",
   "language": "python",
   "name": "python3"
  },
  "language_info": {
   "codemirror_mode": {
    "name": "ipython",
    "version": 3
   },
   "file_extension": ".py",
   "mimetype": "text/x-python",
   "name": "python",
   "nbconvert_exporter": "python",
   "pygments_lexer": "ipython3",
   "version": "3.8.5"
  },
  "widgets": {
   "application/vnd.jupyter.widget-state+json": {
    "2597a278bed34e18b0ec67729284336f": {
     "model_module": "@jupyter-widgets/base",
     "model_name": "LayoutModel",
     "state": {
      "_model_module": "@jupyter-widgets/base",
      "_model_module_version": "1.2.0",
      "_model_name": "LayoutModel",
      "_view_count": null,
      "_view_module": "@jupyter-widgets/base",
      "_view_module_version": "1.2.0",
      "_view_name": "LayoutView",
      "align_content": null,
      "align_items": null,
      "align_self": null,
      "border": null,
      "bottom": null,
      "display": null,
      "flex": null,
      "flex_flow": null,
      "grid_area": null,
      "grid_auto_columns": null,
      "grid_auto_flow": null,
      "grid_auto_rows": null,
      "grid_column": null,
      "grid_gap": null,
      "grid_row": null,
      "grid_template_areas": null,
      "grid_template_columns": null,
      "grid_template_rows": null,
      "height": null,
      "justify_content": null,
      "justify_items": null,
      "left": null,
      "margin": null,
      "max_height": null,
      "max_width": null,
      "min_height": null,
      "min_width": null,
      "object_fit": null,
      "object_position": null,
      "order": null,
      "overflow": null,
      "overflow_x": null,
      "overflow_y": null,
      "padding": null,
      "right": null,
      "top": null,
      "visibility": null,
      "width": null
     }
    },
    "af0d26375a684d398c2dd524ed4506b4": {
     "model_module": "@jupyter-widgets/controls",
     "model_name": "ButtonStyleModel",
     "state": {
      "_model_module": "@jupyter-widgets/controls",
      "_model_module_version": "1.5.0",
      "_model_name": "ButtonStyleModel",
      "_view_count": null,
      "_view_module": "@jupyter-widgets/base",
      "_view_module_version": "1.2.0",
      "_view_name": "StyleView",
      "button_color": null,
      "font_weight": ""
     }
    },
    "cbdd6e4d0b3746638ae6dab5a1a7e534": {
     "model_module": "@jupyter-widgets/controls",
     "model_name": "ButtonModel",
     "state": {
      "_dom_classes": [],
      "_model_module": "@jupyter-widgets/controls",
      "_model_module_version": "1.5.0",
      "_model_name": "ButtonModel",
      "_view_count": null,
      "_view_module": "@jupyter-widgets/controls",
      "_view_module_version": "1.5.0",
      "_view_name": "ButtonView",
      "button_style": "",
      "description": "Click to see Vocab",
      "disabled": false,
      "icon": "",
      "layout": "IPY_MODEL_2597a278bed34e18b0ec67729284336f",
      "style": "IPY_MODEL_af0d26375a684d398c2dd524ed4506b4",
      "tooltip": ""
     }
    }
   }
  }
 },
 "nbformat": 4,
 "nbformat_minor": 1
}
