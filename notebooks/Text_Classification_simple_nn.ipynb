{
 "cells": [
  {
   "cell_type": "markdown",
   "metadata": {
    "id": "yud3kMDNFobS"
   },
   "source": [
    "# Text Classification\n",
    "\n",
    "Text classification is the process of assigning tags or categories to text according to its content. It’s one of the fundamental tasks in natural language processing. \n",
    "\n",
    "The text we wanna classify is given as input to an algorithm, the algorithm will then analyze the text’s content, and then categorize the input as one of the tags or categories previously given.\n",
    "\n",
    "**Input → Classifying Algorithm → Classification of Input**\n",
    "\n",
    "Real life examples: \n",
    "\n",
    "+ sentiment analysis: how does the writer of the sentence feel about what they are writing about, do they think positively or negatively of the subject?Ex. restaurant reviews\n",
    "+ topic labeling: given sentences and a set of topics, which topic does this sentence fall under?  Ex. is this essay about history? Math? etc?\n",
    "+ spam detection. Ex. Email filtering: is this email a real important email or spam?\n",
    "\n",
    "Example. \n",
    "A restaurant wants to evaluate their ratings but don’t want to read through all of them. Therefore, they wanna use a computer algorithm to do all their work. They simply want to know if the customer’s review is positive or negative.\n",
    "\n",
    "Here’s an example of a customer’s review and a simple way an algorithm could classify their review.\n",
    "\n",
    "Input: “The food here was too salty and too expensive” \n",
    "\n",
    "Algorithm: \n",
    "Goes through every word in the sentence and counts how many positive words and how many negative words are in the sentence.\n",
    "\n",
    "\t\t“The, food, here, was, too, and” are all neutral words\n",
    "\n",
    "\t\t“Salty, expensive” are negative words.\n",
    "\n",
    "\t\tNegative words: 2\n",
    "\t\tPositive words: 0\n",
    "\n",
    "Classification: Negative Review, because there are more negative words (2) than positive (0).\n",
    "\n",
    "However, this algorithm obviously doesn’t work in a lot of cases. \n",
    "\n",
    "For example, “The food here was good, not expensive and not salty” would be classified as negative but it’s actually a positive review. \n",
    "\n",
    "Language and text can get very complicated which makes creating these algorithms difficult. Some things that make language difficult could be words that have multiple meanings, negation words (words such as not), slang, etc.\n",
    "\n"
   ]
  },
  {
   "cell_type": "markdown",
   "metadata": {
    "id": "4X8mkZErFoba"
   },
   "source": [
    "## Importing Data"
   ]
  },
  {
   "cell_type": "code",
   "execution_count": 1,
   "metadata": {
    "colab": {
     "base_uri": "https://localhost:8080/"
    },
    "id": "qS67p4NnFobb",
    "outputId": "316d46be-d75e-49f5-b60a-a64b6b2bd45f"
   },
   "outputs": [],
   "source": [
    "# !pip3 install nltk\n",
    "# !pip3 install ipywidgets\n",
    "# !pip3 install tensorflow\n",
    "# !pip3 install keras\n",
    "\n",
    "import sys\n",
    "import string\n",
    "from scipy import sparse\n",
    "import numpy as np\n",
    "import re\n",
    "import nltk\n",
    "from nltk.corpus import stopwords\n",
    "from IPython.display import display\n",
    "import ipywidgets as widgets\n",
    "\n",
    "# Our two files that contain our data, split up into a training set and a testing set.\n",
    "\n",
    "trainingFile = \"dataset/trainingSet.txt\"\n",
    "testingFile = \"dataset/testSet.txt\""
   ]
  },
  {
   "cell_type": "code",
   "execution_count": 2,
   "metadata": {
    "id": "eq1xTUPUFobc"
   },
   "outputs": [],
   "source": [
    "def getData(fileName):\n",
    "    f = open(fileName)\n",
    "    file = f.readlines()\n",
    "\n",
    "    sentences = []\n",
    "    sentiments = []\n",
    "\n",
    "    for line in file:\n",
    "        sentence, sentiment = line.split('\\t')\n",
    "        sentences.append(sentence.strip())\n",
    "        sentiments.append(int(sentiment.strip())) # Sentiment in {0,1}\n",
    "\n",
    "    return sentences, np.array(sentiments)"
   ]
  },
  {
   "cell_type": "code",
   "execution_count": 3,
   "metadata": {
    "id": "0clq6iMtFobd"
   },
   "outputs": [],
   "source": [
    "trainingSentences, trainingLabels = getData(trainingFile)\n",
    "testingSentences, testingLabels = getData(testingFile)"
   ]
  },
  {
   "cell_type": "markdown",
   "metadata": {
    "id": "h5bmxzE0Fobd"
   },
   "source": [
    "## Pre-Processing Data"
   ]
  },
  {
   "cell_type": "code",
   "execution_count": 4,
   "metadata": {
    "id": "CEFiIbsLFobd"
   },
   "outputs": [],
   "source": [
    "def cleanText(sentence):\n",
    "\n",
    "    # Remove punctuations and numbers\n",
    "    sentence = re.sub('[^a-zA-Z]', ' ', sentence)\n",
    "\n",
    "    # Single character removal\n",
    "    sentence = re.sub(r\"\\s+[a-zA-Z]\\s+\", ' ', sentence)\n",
    "\n",
    "    # Removing multiple spaces\n",
    "    sentence = re.sub(r'\\s+', ' ', sentence)\n",
    "\n",
    "    return sentence\n",
    "\n",
    "def preProcess(text):\n",
    "    # Make lower case\n",
    "    text = text.lower()\n",
    "\n",
    "    # Replace non-text characters with spaces\n",
    "    nonText = string.punctuation + (\"\")\n",
    "    text = text.translate(str.maketrans(nonText, ' ' * (len(nonText))))\n",
    "\n",
    "    # Tokenize\n",
    "    words = text.split()\n",
    "\n",
    "    return words"
   ]
  },
  {
   "cell_type": "code",
   "execution_count": 5,
   "metadata": {
    "colab": {
     "base_uri": "https://localhost:8080/",
     "height": 350
    },
    "id": "9NpPZFmdFobe",
    "outputId": "2c343207-01f9-4c00-cc5b-7f12c64902d2",
    "tags": [
     "outputPrepend"
    ]
   },
   "outputs": [
    {
     "data": {
      "text/plain": [
       "<AxesSubplot:xlabel='sentiment', ylabel='count'>"
      ]
     },
     "execution_count": 5,
     "metadata": {},
     "output_type": "execute_result"
    },
    {
     "data": {
      "image/png": "[encoded data removed]",
      "text/plain": [
       "<Figure size 432x288 with 1 Axes>"
      ]
     },
     "metadata": {
      "needs_background": "light"
     },
     "output_type": "display_data"
    }
   ],
   "source": [
    "train_sentence = []\n",
    "train_words = []\n",
    "test_sentence = []\n",
    "test_words = []\n",
    "# get cleaned sentences and bag of words\n",
    "for sen in trainingSentences:\n",
    "    train_sentence.append(cleanText(sen))\n",
    "    train_words.append(preProcess(sen))\n",
    "for sen in testingSentences:\n",
    "    test_sentence.append(cleanText(sen))\n",
    "    test_words.append(preProcess(sen))\n",
    "# print(train_sentence[0])\n",
    "\n",
    "\n",
    "# print(train_words)\n",
    "\n",
    "import seaborn as sns\n",
    "import pandas as pd\n",
    "train_df = pd.DataFrame(data=trainingLabels, columns=[\"sentiment\"])\n",
    "sns.countplot(x='sentiment', data=train_df)"
   ]
  },
  {
   "cell_type": "markdown",
   "metadata": {
    "id": "XKcwnJeaFobf"
   },
   "source": [
    "## Getting Data and Setting it Up"
   ]
  },
  {
   "cell_type": "code",
   "execution_count": 6,
   "metadata": {
    "id": "lf1CNuIbFobf"
   },
   "outputs": [],
   "source": [
    "from keras.preprocessing.text import one_hot\n",
    "from keras.preprocessing.sequence import pad_sequences\n",
    "from keras.models import Sequential\n",
    "from keras.layers.core import Activation, Dropout, Dense\n",
    "from keras.layers import Flatten\n",
    "from keras.layers import GlobalMaxPooling1D\n",
    "from keras.layers.embeddings import Embedding\n",
    "from sklearn.model_selection import train_test_split\n",
    "from keras.preprocessing.text import Tokenizer\n",
    "\n",
    "from keras.callbacks import Callback\n",
    "\n",
    "from numpy import array\n",
    "from numpy import asarray\n",
    "from numpy import zeros\n",
    "\n",
    "from sklearn.metrics import classification_report\n",
    "from sklearn.preprocessing import MinMaxScaler\n",
    "\n",
    "import matplotlib.pyplot as plt\n",
    "\n",
    "import json\n",
    "import os\n",
    "\n",
    "def getVocab(sentences):\n",
    "    vocab = set()\n",
    "    for sentence in sentences:\n",
    "        for word in sentence:\n",
    "            vocab.add(word)\n",
    "    return sorted(vocab)"
   ]
  },
  {
   "cell_type": "code",
   "execution_count": 7,
   "metadata": {
    "id": "eCzDbXPaFobg"
   },
   "outputs": [],
   "source": [
    "vocabulary = getVocab(train_words)"
   ]
  },
  {
   "cell_type": "code",
   "execution_count": 8,
   "metadata": {
    "colab": {
     "base_uri": "https://localhost:8080/",
     "height": 86,
     "referenced_widgets": [
      "cbdd6e4d0b3746638ae6dab5a1a7e534",
      "af0d26375a684d398c2dd524ed4506b4",
      "2597a278bed34e18b0ec67729284336f"
     ]
    },
    "id": "Hu59MgyyFobg",
    "outputId": "b596a48d-4108-4345-92af-f94da968247e"
   },
   "outputs": [
    {
     "data": {
      "application/vnd.jupyter.widget-view+json": {
       "model_id": "8823424a3a234aa1993d95fea7808b8c",
       "version_major": 2,
       "version_minor": 0
      },
      "text/plain": [
       "Button(description='Click to see Vocab', style=ButtonStyle())"
      ]
     },
     "metadata": {},
     "output_type": "display_data"
    }
   ],
   "source": [
    "def clicked(arg):\n",
    "    print(vocabulary)\n",
    "\n",
    "button_download = widgets.Button(description = 'Click to see Vocab')   \n",
    "button_download.on_click(clicked)\n",
    "display(button_download)"
   ]
  },
  {
   "cell_type": "code",
   "execution_count": 9,
   "metadata": {
    "id": "ug9ZUaUrFobh"
   },
   "outputs": [],
   "source": [
    "def createVector(vocab, sentences):\n",
    "    indices = []\n",
    "    wordOccurrences = []\n",
    "\n",
    "    for sentenceIndex, sentence in enumerate(sentences):\n",
    "        alreadyCounted = set() # Keep track of words so we don't double count.\n",
    "        for word in sentence:\n",
    "            if (word in vocab) and word not in alreadyCounted:\n",
    "                # If we just want {0,1} for the presence of the word (bernoulli NB),\n",
    "                # only count each word once. Otherwise (multinomial NB) count each\n",
    "                # occurrence of the word.\n",
    "                \n",
    "            \n",
    "                #which sentence, which word\n",
    "                indices.append((sentenceIndex, vocab.index(word)))\n",
    "                \n",
    "                wordOccurrences.append(1)\n",
    "                alreadyCounted.add(word)\n",
    "\n",
    "    # Unzip\n",
    "    rows = [row for row, _ in indices]\n",
    "    columns = [column for _, column in indices]\n",
    "\n",
    "    sentenceVectors = sparse.csr_matrix((wordOccurrences, (rows, columns)), dtype=int, shape=(len(sentences), len(vocab)))\n",
    "\n",
    "    return sentenceVectors"
   ]
  },
  {
   "cell_type": "code",
   "execution_count": 10,
   "metadata": {
    "colab": {
     "base_uri": "https://localhost:8080/"
    },
    "id": "uiOAc62-Fobh",
    "outputId": "0a601504-b931-4fab-9c2d-2a58efe968fc",
    "tags": [
     "outputPrepend"
    ]
   },
   "outputs": [],
   "source": [
    "tokenizer = Tokenizer(num_words=2000)\n",
    "tokenizer.fit_on_texts(train_sentence)\n",
    "\n",
    "X_train = tokenizer.texts_to_sequences(train_sentence)\n",
    "X_test = tokenizer.texts_to_sequences(test_sentence)\n",
    "# print(X_train)"
   ]
  },
  {
   "cell_type": "code",
   "execution_count": 11,
   "metadata": {
    "id": "mYy0bw9VYUsh"
   },
   "outputs": [],
   "source": [
    "# Adding 1 because of reserved 0 index\n",
    "vocab_size = len(tokenizer.word_index) + 1\n",
    "\n",
    "maxlen = 10\n",
    "\n",
    "X_train = pad_sequences(X_train, padding='post', maxlen=maxlen)\n",
    "y_train = trainingLabels\n",
    "X_test = pad_sequences(X_test, padding='post', maxlen=maxlen)\n",
    "y_test = testingLabels"
   ]
  },
  {
   "cell_type": "code",
   "execution_count": 12,
   "metadata": {},
   "outputs": [],
   "source": [
    "# scaling confidence scores to range between 0 and 1 with MinMaxScaler\n",
    "scaler = MinMaxScaler(feature_range=[0, 1])"
   ]
  },
  {
   "cell_type": "code",
   "execution_count": 13,
   "metadata": {},
   "outputs": [],
   "source": [
    "# Function is called on each epoch finish\n",
    "class ConfMatrixCallbackPlotter(Callback):\n",
    "    def __init__(self, model, scaler, validation_data, original_input):\n",
    "        super().__init__()\n",
    "        self.model = model\n",
    "        self.scaler = scaler\n",
    "        self.validation_data = validation_data # Tuple\n",
    "        self.original_input = original_input # input sentences\n",
    "        self.collected_epoch_output = []\n",
    "        \n",
    "    def fitting_intermediate_results(self):\n",
    "        return self.collected_epoch_output\n",
    "    \n",
    "    # Epoch is int representing finished epoch number\n",
    "    # logs is a dict containing stats about finished epoch\n",
    "    def on_epoch_end(self, epoch, logs={}):\n",
    "        # Current function is to create this format:\n",
    "        # Epoch, Index, True Label, Predicted Label, Confidence Score, Text\n",
    "        # This requires the following inputs variables:\n",
    "            # testingPredictions (derived from validation_data + model)\n",
    "            # testingConfidenceScores (derived from validation_data + model)\n",
    "            # testingLabels (y_test of validation_data should be identical)\n",
    "            # testingSentences (we require this)\n",
    "            \n",
    "        test_predictions = (self.model.predict(self.validation_data[0]) > 0.5).astype(\"int32\")\n",
    "        test_conf_scores = self.model.predict(self.validation_data[0], batch_size=128)\n",
    "        test_labels = self.validation_data[1]\n",
    "        testing_sentences = self.original_input\n",
    "        \n",
    "#         self.scaler.fit(test_conf_scores)\n",
    "#         test_conf_scores = self.scaler.transform(test_conf_scores)\n",
    "        \n",
    "        data = list(zip(np.full(len(testing_sentences), epoch), test_predictions, test_conf_scores,\n",
    "                        test_labels, testing_sentences))\n",
    "        \n",
    "        # Replicating same JSON creation code below.\n",
    "        self.collected_epoch_output.append(pd.DataFrame(data, \n",
    "                                                   columns=['Epoch', 'Test Prediction', 'Test Confidence Score',\n",
    "                                                            'Test Label', 'Test Sentence']))"
   ]
  },
  {
   "cell_type": "code",
   "execution_count": 14,
   "metadata": {
    "colab": {
     "base_uri": "https://localhost:8080/"
    },
    "id": "xButWWKRZnbj",
    "outputId": "441a1396-81c3-4475-8b60-a81515bdbb04"
   },
   "outputs": [
    {
     "name": "stdout",
     "output_type": "stream",
     "text": [
      "Model: \"sequential\"\n",
      "_________________________________________________________________\n",
      "Layer (type)                 Output Shape              Param #   \n",
      "=================================================================\n",
      "embedding (Embedding)        (None, 10, 100)           133200    \n",
      "_________________________________________________________________\n",
      "flatten (Flatten)            (None, 1000)              0         \n",
      "_________________________________________________________________\n",
      "dense (Dense)                (None, 1)                 1001      \n",
      "=================================================================\n",
      "Total params: 134,201\n",
      "Trainable params: 1,001\n",
      "Non-trainable params: 133,200\n",
      "_________________________________________________________________\n",
      "None\n",
      "Epoch 1/20\n",
      "4/4 - 0s - loss: 0.6937 - acc: 0.5070 - val_loss: 0.6930 - val_acc: 0.4909\n",
      "Epoch 2/20\n",
      "4/4 - 0s - loss: 0.6922 - acc: 0.5251 - val_loss: 0.6928 - val_acc: 0.5091\n",
      "Epoch 3/20\n",
      "4/4 - 0s - loss: 0.6911 - acc: 0.5431 - val_loss: 0.6926 - val_acc: 0.5111\n",
      "Epoch 4/20\n",
      "4/4 - 0s - loss: 0.6899 - acc: 0.5671 - val_loss: 0.6924 - val_acc: 0.5030\n",
      "Epoch 5/20\n",
      "4/4 - 0s - loss: 0.6888 - acc: 0.5752 - val_loss: 0.6923 - val_acc: 0.5050\n",
      "Epoch 6/20\n",
      "4/4 - 0s - loss: 0.6877 - acc: 0.5912 - val_loss: 0.6921 - val_acc: 0.5010\n",
      "Epoch 7/20\n",
      "4/4 - 0s - loss: 0.6866 - acc: 0.6092 - val_loss: 0.6920 - val_acc: 0.5131\n",
      "Epoch 8/20\n",
      "4/4 - 0s - loss: 0.6855 - acc: 0.6212 - val_loss: 0.6918 - val_acc: 0.5111\n",
      "Epoch 9/20\n",
      "4/4 - 0s - loss: 0.6845 - acc: 0.6313 - val_loss: 0.6916 - val_acc: 0.5091\n",
      "Epoch 10/20\n",
      "4/4 - 0s - loss: 0.6834 - acc: 0.6373 - val_loss: 0.6915 - val_acc: 0.5030\n",
      "Epoch 11/20\n",
      "4/4 - 0s - loss: 0.6823 - acc: 0.6513 - val_loss: 0.6914 - val_acc: 0.5050\n",
      "Epoch 12/20\n",
      "4/4 - 0s - loss: 0.6813 - acc: 0.6593 - val_loss: 0.6912 - val_acc: 0.5030\n",
      "Epoch 13/20\n",
      "4/4 - 0s - loss: 0.6802 - acc: 0.6693 - val_loss: 0.6911 - val_acc: 0.5070\n",
      "Epoch 14/20\n",
      "4/4 - 0s - loss: 0.6792 - acc: 0.6713 - val_loss: 0.6910 - val_acc: 0.5091\n",
      "Epoch 15/20\n",
      "4/4 - 0s - loss: 0.6781 - acc: 0.6774 - val_loss: 0.6908 - val_acc: 0.5091\n",
      "Epoch 16/20\n",
      "4/4 - 0s - loss: 0.6771 - acc: 0.6814 - val_loss: 0.6907 - val_acc: 0.5050\n",
      "Epoch 17/20\n",
      "4/4 - 0s - loss: 0.6761 - acc: 0.6894 - val_loss: 0.6906 - val_acc: 0.5091\n",
      "Epoch 18/20\n",
      "4/4 - 0s - loss: 0.6751 - acc: 0.6954 - val_loss: 0.6904 - val_acc: 0.5131\n",
      "Epoch 19/20\n",
      "4/4 - 0s - loss: 0.6740 - acc: 0.7034 - val_loss: 0.6903 - val_acc: 0.5131\n",
      "Epoch 20/20\n",
      "4/4 - 0s - loss: 0.6730 - acc: 0.7154 - val_loss: 0.6902 - val_acc: 0.5151\n",
      "16/16 [==============================] - 0s 662us/step - loss: 0.6902 - acc: 0.5151\n",
      "Test Score: 0.6901759505271912\n",
      "Test Accuracy: 0.5150905251502991\n"
     ]
    }
   ],
   "source": [
    "model = Sequential()\n",
    "embedding_layer = Embedding(vocab_size, 100, input_length=maxlen , trainable=False)\n",
    "model.add(embedding_layer)\n",
    "\n",
    "model.add(Flatten())\n",
    "model.add(Dense(1, activation='sigmoid'))\n",
    "model.compile(optimizer='adam', loss='binary_crossentropy', metrics=['acc'])\n",
    "\n",
    "# Setup Callback function\n",
    "# Requires: model and validation_data (X and Y values of test data)\n",
    "confusion_matrix_updates = ConfMatrixCallbackPlotter(\n",
    "                                model = model,\n",
    "                                scaler = scaler,\n",
    "                                validation_data = (X_test, y_test),\n",
    "                                original_input = testingSentences)\n",
    "\n",
    "print(model.summary())\n",
    "\n",
    "# Callback function must be used as input for model fitting.\n",
    "history = model.fit(X_train, y_train, batch_size=128, epochs=20, verbose=2 , validation_data=(X_test, y_test), callbacks=[confusion_matrix_updates])\n",
    "score = model.evaluate(X_test, y_test, verbose=1)\n",
    "print(\"Test Score:\", score[0])\n",
    "print(\"Test Accuracy:\", score[1])\n",
    "\n",
    "epoch_history_extracted_data = confusion_matrix_updates.fitting_intermediate_results()"
   ]
  },
  {
   "cell_type": "code",
   "execution_count": 15,
   "metadata": {
    "colab": {
     "base_uri": "https://localhost:8080/"
    },
    "id": "rnLJfN9Op3mm",
    "outputId": "6dc97451-3184-4751-91aa-cdd79d5c16eb"
   },
   "outputs": [],
   "source": [
    "# make a prediction\n",
    "testingPredictions = (model.predict(X_test) > 0.5).astype(\"int32\")\n",
    "# print(len(testingPredictions))\n",
    "test_confidence_scores = model.predict(X_test, batch_size=128)\n",
    "# print(test_confidence_scores)\n",
    "target_names = ['negative', 'positive']\n",
    "# print(classification_report(testingLabels, testingPredictions, target_names=target_names))"
   ]
  },
  {
   "cell_type": "code",
   "execution_count": 16,
   "metadata": {
    "colab": {
     "base_uri": "https://localhost:8080/",
     "height": 573
    },
    "id": "SMmpXCgBcrmc",
    "outputId": "5c991436-0fa5-454e-ebeb-27426f49ed23"
   },
   "outputs": [
    {
     "data": {
      "image/png": "[encoded data removed]",
      "text/plain": [
       "<Figure size 432x288 with 1 Axes>"
      ]
     },
     "metadata": {
      "needs_background": "light"
     },
     "output_type": "display_data"
    },
    {
     "data": {
      "image/png": "[encoded data removed]",
      "text/plain": [
       "<Figure size 432x288 with 1 Axes>"
      ]
     },
     "metadata": {
      "needs_background": "light"
     },
     "output_type": "display_data"
    }
   ],
   "source": [
    "plt.plot(history.history['acc'])\n",
    "plt.plot(history.history['val_acc'])\n",
    "\n",
    "plt.title('model accuracy')\n",
    "plt.ylabel('accuracy')\n",
    "plt.xlabel('epoch')\n",
    "plt.legend(['train','test'], loc='upper left')\n",
    "plt.show()\n",
    "\n",
    "plt.plot(history.history['loss'])\n",
    "plt.plot(history.history['val_loss'])\n",
    "\n",
    "plt.title('model loss')\n",
    "plt.ylabel('loss')\n",
    "plt.xlabel('epoch')\n",
    "plt.legend(['train','test'], loc='upper left')\n",
    "plt.show()"
   ]
  },
  {
   "cell_type": "code",
   "execution_count": 17,
   "metadata": {
    "colab": {
     "base_uri": "https://localhost:8080/",
     "height": 295
    },
    "id": "RIsrDlWoufUs",
    "outputId": "874c35e1-ce10-4743-aa9e-c84203501f4c"
   },
   "outputs": [
    {
     "data": {
      "image/png": "[encoded data removed]",
      "text/plain": [
       "<Figure size 432x288 with 2 Axes>"
      ]
     },
     "metadata": {
      "needs_background": "light"
     },
     "output_type": "display_data"
    }
   ],
   "source": [
    "data = {'Actual':    testingLabels,\n",
    "        'Predicted': testingPredictions.reshape(len(testingLabels),)\n",
    "        }\n",
    "#print(testingLabels.reshape(len(testingLabels),1))\n",
    "df = pd.DataFrame(data, columns=['Actual','Predicted'])\n",
    "confusion_matrix = pd.crosstab(df['Actual'], df['Predicted'], rownames=['Actual'], colnames=['Predicted'])\n",
    "\n",
    "sns.heatmap(confusion_matrix, annot=True,cmap=\"YlGnBu\", fmt='d').set_title('Confusion Matrix of Testing')\n",
    "plt.show()"
   ]
  },
  {
   "cell_type": "code",
   "execution_count": 18,
   "metadata": {
    "colab": {
     "base_uri": "https://localhost:8080/",
     "height": 17
    },
    "id": "SFg0E22Qw1lQ",
    "outputId": "b6c112d6-d4b7-47ce-988b-d2f9f0233b51"
   },
   "outputs": [],
   "source": [
    "output_directory = \"libraries/\"\n",
    "output_filename = \"predict_simple.json\"\n",
    "full_path = os.path.join(output_directory, output_filename)\n",
    "\n",
    "data = []\n",
    "for i in range(len(testingPredictions)):\n",
    "  data.append({\n",
    "      'index': i,\n",
    "      'true_label': int(testingLabels[i]),\n",
    "      'predicted_label': int(testingPredictions[i]),\n",
    "      'confidence_score': test_confidence_scores.tolist()[i],\n",
    "      'text': testingSentences[i]\n",
    "  })\n",
    "\n",
    "with open(full_path, 'w') as outfile:\n",
    "    json.dump(data, outfile, indent=4, sort_keys=False)\n",
    "    \n",
    "\n",
    "collected_epoch_filename = 'predict_simple_extended.json'\n",
    "full_path_extended = os.path.join(output_directory, collected_epoch_filename)\n",
    "\n",
    "extended_data = {}\n",
    "for i, table in enumerate(epoch_history_extracted_data):\n",
    "    jsonified = table.to_json(orient='index')\n",
    "    parsed = json.loads(jsonified)\n",
    "#     extended_data.append(parsed)\n",
    "    extended_data[f'{i}'] = parsed\n",
    "    \n",
    "# print(extended_data)\n",
    "    \n",
    "with open(full_path_extended, 'w') as outfile:\n",
    "    json.dump(extended_data, outfile, indent=4, sort_keys=False)"
   ]
  },
  {
   "cell_type": "code",
   "execution_count": 19,
   "metadata": {
    "id": "wl8YHAa8Fobs"
   },
   "outputs": [],
   "source": [
    "module_path = os.path.abspath(os.path.join('..'))\n",
    "if module_path not in sys.path:\n",
    "    sys.path.append(module_path)\n",
    "    \n",
    "    \n",
    "import libraries.mlvislib as mlvs"
   ]
  },
  {
   "cell_type": "code",
   "execution_count": 20,
   "metadata": {
    "scrolled": true
   },
   "outputs": [
    {
     "data": {
      "text/html": [
       "<script src=\"https://d3js.org/d3.v3.min.js\" charset=\"utf-8\"></script>"
      ],
      "text/plain": [
       "<IPython.core.display.HTML object>"
      ]
     },
     "metadata": {},
     "output_type": "display_data"
    },
    {
     "data": {
      "text/html": [
       "\n",
       "\t\t<style> \n",
       "\t\tbody {\n",
       "\t\t    font-family: Arial, sans-serif;\n",
       "\t\t    font-size: larger;\n",
       "\t\t}\n",
       "\t\t.box_highlighted { \n",
       "\t\t    background-color: #ffb; \n",
       "\t\t    border: 1px solid #b53;\n",
       "\t\t}\n",
       "\t\t.highlight{\n",
       "\t\t    background-color: yellow;\n",
       "\t\t}\n",
       "\t\t.lighthigh{\n",
       "\t\t    background-color: green;\n",
       "\t\t}\n",
       "\t\tli{\n",
       "\t\t    font-size: smaller;\n",
       "\t\t}\n",
       "\t\ttd{\n",
       "\t\t    min-width: 100px;\n",
       "\t\t}\n",
       "\t\t#review{\n",
       "\t\t    border:1px solid pink; \n",
       "\t\t    padding: 5px; \n",
       "\t\t    float: left; \n",
       "\t\t    width: 750px; \n",
       "\t\t    height: 500px; \n",
       "\t\t    background-color: white;\n",
       "\t\t    margin: 20px;\n",
       "\t\t    overflow: scroll;\n",
       "\t\t    }\n",
       "\t\t#matrix{\n",
       "\t\t    border:1px solid pink; \n",
       "\t\t    padding: 5px; \n",
       "\t\t    float: left;\n",
       "\t\t    margin: 20px;\n",
       "\t\t}\n",
       "\t\t#slider {\n",
       "\t\t  -webkit-appearance: none;\n",
       "\t\t  width: 100%;\n",
       "\t\t  height: 15px;\n",
       "\t\t  border-radius: 5px;  \n",
       "\t\t  background: #d3d3d3;\n",
       "\t\t  outline: none;\n",
       "\t\t  opacity: 0.7;\n",
       "\t\t  -webkit-transition: .2s;\n",
       "\t\t  transition: opacity .2s;\n",
       "\t\t}\n",
       "\t\t#slider::-webkit-slider-thumb {\n",
       "\t\t  -webkit-appearance: none;\n",
       "\t\t  appearance: none;\n",
       "\t\t  width: 25px;\n",
       "\t\t  height: 25px;\n",
       "\t\t  border-radius: 50%; \n",
       "\t\t  background: #4ca2af;\n",
       "\t\t  cursor: pointer;\n",
       "\t\t}\n",
       "\t\t#slider::-moz-range-thumb {\n",
       "\t\t  width: 25px;\n",
       "\t\t  height: 25px;\n",
       "\t\t  border-radius: 50%;\n",
       "\t\t  background: #4ca2af;\n",
       "\t\t  cursor: pointer;\n",
       "\t\t}\n",
       "\t\t </style>\n",
       "\t\t<h1> Interactive Confusion Matrix </h1>\n",
       "\t\t<h3 id=\"confidence_setting\"> Confidence: 0.5 </h3>\n",
       "\t\t<input class=\"slider\" id=\"confidence_slider\" type=\"range\" min=\"0\" max=\"1\" step=\".1\" value=\".5\"/>\n",
       "\t\t<h3 id=\"epoch_setting\"> Epoch: 1 </h3>\n",
       "\t\t<input class=\"slider\" id=\"epoch_slider\" type=\"range\" min=\"1\" max=\"20\" step=\"1\" value=\"1\"/>\n",
       "\t\t<div>\n",
       "\t\t\t<div>\n",
       "\t\t\t\t<div id=\"matrix\"></div>\n",
       "\t\t\t\t<div id=\"review\">\n",
       "\t\t\t\t\tData \n",
       "\t\t\t\t\t<ul id = \"testList\"></ul>\n",
       "\t\t\t\t</div>\n",
       "\t\t\t</div>\n",
       "\t\t</div>\n",
       "\t\t<script> \n",
       "\t\tconsole.log(\"Visualization: Running JavaScript...\");\n",
       "        var dname = \"libraries/predict_simple_extended.json\";\n",
       "        var currentConfSetting = .5;\n",
       "        var currentEpochSetting = 1;\n",
       "        console.log(\"Visualization: Reading JSON file(\", dname, \")...\");\n",
       "\n",
       "\t\td3.json( \"libraries/predict_simple_extended.json\", function(d) {\n",
       "\t\t\tconsole.log(\"Visualization: Logging complete JSON...\");\n",
       "\t\t    console.log(d);\n",
       "\t\t});\n",
       "\n",
       "\t\t/*--------------------------------------------------------------------------------\n",
       "\t\tI've temporarily left out the 'getType' function, since the names of these\n",
       "\t\ttypes are not included in the JSON file that is given to the JavaScript. More\n",
       "\t\tfunctionality can be incldued later to bring the names in as well as the raw data.\n",
       "\t\tType will be represented by the given numeric identifier for now.\n",
       "\t\t--------------------------------------------------------------------------------*/\n",
       "\n",
       "\t\t/*--------------------------------------------------------------------------------\n",
       "\t\tFunction: extractTypes\n",
       "\t\tBehavior: Identifies different types each data point can be identified as, based \n",
       "\t\t\t\t  off of the 'true_label' attribute in JSON file.\n",
       "\t\tInput: JSON file\n",
       "\t\tOutput: Returns array of possible values for 'Test Label'.\n",
       "\t\t--------------------------------------------------------------------------------*/\n",
       "\n",
       "\t\tfunction extractTypes(data){\n",
       "\t\t    var lookup = {};\n",
       "\t\t    var items = data[\"0\"];\n",
       "\t\t    var result = [];\n",
       "\n",
       "\t\t    for (var item, i=0; item = items[i++];){\n",
       "\t\t        var name = item['Test Label'];\n",
       "\t\t        if(!(name in lookup)){\n",
       "\t\t            lookup[name] = 1;\n",
       "\t\t            result.push(name);\n",
       "\t\t        }\n",
       "\t\t    }\n",
       "\n",
       "\t\t    return result;\n",
       "\t\t}\n",
       "\n",
       "\t\t/*--------------------------------------------------------------------------------\n",
       "\t\tFunction: Slider Re-Draw\n",
       "\t\tBehavior: This d3 code will redraw each time there is a change in the slider.\n",
       "\t\tInput: None\n",
       "\t\tOutput: Visualization should be redrawn\n",
       "\t\t--------------------------------------------------------------------------------*/\n",
       "\t\t/*--------------------------------------------------------------------------------\n",
       "\t\tBUG: This should be adjusted to be called both on load and on change. \n",
       "\t\t--------------------------------------------------------------------------------*/\n",
       "\n",
       "\t\td3.selectAll(\".slider\").on(\"change\", function() {\n",
       "\t\t    d3.select(\"svg\").remove();\n",
       "\n",
       "\t\t    if(this.id == \"confidence_slider\"){\n",
       "\t\t    \tcurrentConfSetting = this.value;\n",
       "\t\t    }\n",
       "\t\t    if(this.id == \"epoch_slider\"){\n",
       "\t\t    \tcurrentEpochSetting = this.value;\n",
       "\t\t    }\n",
       "\n",
       "\t\t    d3.select(\"#confidence_setting\").text(\"Confidence: \" + currentConfSetting);\n",
       "\t\t    d3.select(\"#epoch_setting\").text(\"Epoch: \" + currentEpochSetting);\n",
       "\t\t    console.log(\"Visualization: Confidence set to (\", currentConfSetting,\n",
       "\t\t     \t\t\t\") Epoch set to (\", currentEpochSetting, \")\");\n",
       "\n",
       "\t\t    /*--------------------------------------------------------------------------------\n",
       "\t\t\tFunction: Re-Draw\n",
       "\t\t\tBehavior: Adjusting the slider will call this function to redraw the\n",
       "\t\t\t\t\t  visualization. First a table is build keep track of the number of\n",
       "\t\t\t\t\t  elements to be in each cell. Next, data is read into an array based on\n",
       "\t\t\t\t\t  the parameters set by the sliders.\n",
       "\t\t\tInput: filepath to JSON\n",
       "\t\t\tOutput: visualization should be redrawn\n",
       "\t\t\t--------------------------------------------------------------------------------*/\n",
       "\n",
       "\t\t    d3.json(\"libraries/predict_simple_extended.json\", function(d) {\n",
       "\t\t    \tvar possibleOutputValues = extractTypes(d);\n",
       "\t\t        var tableDimension = extractTypes(d).length;\n",
       "\t\t        console.log(\"Visualization: Constructing\", tableDimension, \"x\",\n",
       "\t\t        \t\t\ttableDimension, \"chart...\");\n",
       "\t\t        var table = new Array(tableDimension);\n",
       "\t\t        var dataset = [];\n",
       "\n",
       "\t\t        for(var i=0; i<tableDimension; i++){\n",
       "\t\t            table[i] = new Array(tableDimension);\n",
       "\t\t            for(var j=0; j<tableDimension; j++){\n",
       "\t\t                table[i][j] = 0;\n",
       "\t\t            }\n",
       "\t\t        }\n",
       "\n",
       "\t\t        var selectedEpoch = {};\n",
       "\n",
       "\t\t        for(var singleEpoch, i=0; singleEpoch = d[i++];){\n",
       "\t\t        \tif((singleEpoch[0][\"Epoch\"] + 1) == parseInt(currentEpochSetting)){\n",
       "\t\t        \t\tselectedEpoch = singleEpoch;\n",
       "\t\t        \t}\n",
       "\t\t        }\n",
       "\n",
       "\t\t        console.log(\"Visualization: Parsing epoch (\", currentEpochSetting, \")...\");\n",
       "\n",
       "\t\t        /*--------------------------------------------------------------------------------\n",
       "\t\t\t\tNOTE: Will we need to display just integer representations of classifications,\n",
       "\t\t\t\t\t  or will we need to display titles of classicications along the axis\n",
       "\t\t\t\t--------------------------------------------------------------------------------*/\n",
       "\n",
       "\t\t        for(var jsonEntry, i=0; jsonEntry = selectedEpoch[i++];){\n",
       "\t\t        \tvar index = i;\n",
       "\t\t        \tvar epoch = jsonEntry[\"Epoch\"];\n",
       "\t\t        \tvar entryText = jsonEntry[\"Test Sentence\"];\n",
       "\t\t        \tvar confidenceScore = jsonEntry[\"Test Confidence Score\"][0];\n",
       "\t\t        \tvar trueLabel = jsonEntry[\"Test Label\"];\n",
       "\t\t        \tvar predictedLabel = jsonEntry[\"Test Prediction\"][0];\n",
       "\t\t        \tvar tableXCoordinate = possibleOutputValues.indexOf(predictedLabel); //Predicted\n",
       "\t\t        \tvar tableYCoordinate = possibleOutputValues.indexOf(trueLabel); // Actual\n",
       "\n",
       "\t\t        \tif(confidenceScore < currentConfSetting){\n",
       "\t\t        \t\ttable[tableXCoordinate][tableYCoordinate]+=1;\n",
       "\t\t        \t\tdataset.push([trueLabel, predictedLabel, entryText, index, epoch]);\n",
       "\t\t        \t}\n",
       "\t\t        }\n",
       "\n",
       "\t\t        console.log(\"Visualization: Creating SVG...\");\n",
       "\n",
       "\t\t        /*--------------------------------------------------------------------------------\n",
       "\t\t\t\tNOTE: Will leave this as the default viz size for now\n",
       "\t\t\t\t--------------------------------------------------------------------------------*/\n",
       "\n",
       "\t\t        var w = 750;\n",
       "\t\t        var h = 750;\n",
       "\n",
       "\t\t        var svg = d3.select(\"body\")\n",
       "\t\t                    .select(\"#matrix\")\n",
       "\t\t                    .append(\"svg\")\n",
       "\t\t                    .attr(\"width\", w)\n",
       "\t\t                    .attr(\"height\", h);\n",
       "\n",
       "\t\t        var rect = svg.selectAll(\"rect\")\n",
       "\t\t                      .data(dataset)\n",
       "\t\t                      .enter()\n",
       "\t\t                      .append(\"rect\");\n",
       "\n",
       "\t\t        var counters = new Array(tableDimension * tableDimension).fill(0);\n",
       "\t\t        var ycounters = new Array(tableDimension * tableDimension).fill(0);\n",
       "\t\t        var confusing = h / tableDimension;\n",
       "\t\t        var blockStackDimension = Math.round(Math.sqrt(dataset.length));\n",
       "\t\t        var marginBuffer = w * .005;\n",
       "\t\t        var cubeDimension = Math.round(Math.sqrt(confusing / blockStackDimension));\n",
       "\n",
       "\t\t        /*--------------------------------------------------------------------------------\n",
       "\t\t\t\tFormat: d[trueLabel, predictedLabel, entryText, index, epoch]\n",
       "\t\t\t\t--------------------------------------------------------------------------------*/\n",
       "\n",
       "\t\t\t\trect.attr(\"x\", function (d, i){\n",
       "\t\t            var matrixnum = (parseInt(d[1]) * tableDimension) + parseInt(d[0]);\n",
       "\t\t            var inmatrixcol = counters[matrixnum] % 16;\n",
       "\t\t            counters[matrixnum]++;\n",
       "\t\t            return 10 + (d[0] * confusing) + (inmatrixcol * 16);\n",
       "\t\t            })\n",
       "\t\t            .attr(\"y\", function(d, i){\n",
       "\t\t                var matricvol = d[1];\n",
       "\t\t                var matrixnum = (parseInt(d[1] * tableDimension) + parseInt(d[0]));\n",
       "\t\t                var hm = Math.floor(ycounters[matrixnum]/16);\n",
       "\t\t                ycounters[matrixnum]++;\n",
       "\t\t                return 10 + (d[1] * confusing) + (hm * 16);\n",
       "\t\t            })\n",
       "\t\t            .attr(\"id\", function(d){\n",
       "\t\t                return \"rect\" + d[3];\n",
       "\t\t            })\n",
       "\t\t            .attr(\"width\", function(d){\n",
       "\t\t                return 15;\n",
       "\t\t            })\n",
       "\t\t            .attr(\"height\", function(d){\n",
       "\t\t                return 15;\n",
       "\t\t            })\n",
       "\t\t            .attr(\"opacity\", function(d){\n",
       "\t\t                return .85;\n",
       "\t\t            })\n",
       "\t\t            .attr(\"fill\", function(d){\n",
       "\t\t                return (\"pink\");\n",
       "\t\t            })\n",
       "\t\t            .attr(\"class\", function(d){\n",
       "\t\t                predicted_label = \"predicted_label_\" + d[1];\n",
       "\t\t                true_label = \"true_label_\" + d[0];\n",
       "\t\t                return true_label + \" \" + predicted_label;\n",
       "\t\t        });\n",
       "\t\t\t\t\n",
       "\t\t\t\t/*\n",
       "\t\t        rect.attr(\"x\", function (d, i){\n",
       "\t\t            var matrixnum = (parseInt(d[1]) * tableDimension) + parseInt(d[0]);\n",
       "\t\t            var inmatrixcol = counters[matrixnum] % blockStackDimension;\n",
       "\t\t            counters[matrixnum]++;\n",
       "\t\t            //return 10 + (d[0] * confusing) + (inmatrixcol * blockStackDimension);\n",
       "\t\t            //return  (d[0] * confusing) + (inmatrixcol * blockStackDimension);\n",
       "\n",
       "\t\t            return ((d[0]*(marginBuffer+confusing)) + (inmatrixcol*blockStackDimension));\n",
       "\n",
       "\t\t            })\n",
       "\t\t            .attr(\"y\", function(d, i){\n",
       "\t\t                var matricvol = d[1];\n",
       "\t\t                var matrixnum = (parseInt(d[1] * tableDimension) + parseInt(d[0]));\n",
       "\t\t                var hm = Math.floor(ycounters[matrixnum]/blockStackDimension);\n",
       "\t\t                ycounters[matrixnum]++;\n",
       "\t\t                return 10 + (d[1] * confusing) + (hm * blockStackDimension);\n",
       "\t\t            })\n",
       "\t\t            .attr(\"id\", function(d){\n",
       "\t\t                return \"rect\" + d[3];\n",
       "\t\t            })\n",
       "\t\t            .attr(\"width\", function(d){\n",
       "\t\t                return 15;\n",
       "\t\t            })\n",
       "\t\t            .attr(\"height\", function(d){\n",
       "\t\t                return 15;\n",
       "\t\t            })\n",
       "\t\t            .attr(\"opacity\", function(d){\n",
       "\t\t                return .85;\n",
       "\t\t            })\n",
       "\t\t            .attr(\"fill\", function(d){\n",
       "\t\t                return (\"pink\");\n",
       "\t\t            })\n",
       "\t\t            .attr(\"class\", function(d){\n",
       "\t\t                predicted_label = \"predicted_label_\" + d[1];\n",
       "\t\t                true_label = \"true_label_\" + d[0];\n",
       "\t\t                return true_label + \" \" + predicted_label;\n",
       "\t\t        });\n",
       "\t\t        */\n",
       "\n",
       "\t\t        d3.select(\"#review\")\n",
       "\t\t            .select(\"testList\")\n",
       "\t\t            .selectAll(\"rect\")\n",
       "\t\t            .data(\n",
       "\t\t                dataset.filter(d => d[0] != d[1]),\n",
       "\t\t                function(d){\n",
       "\t\t                    return d[3];\n",
       "\t\t                }\n",
       "\t\t            )\n",
       "\t\t            .enter()\n",
       "\t\t            .append(\"li\")\n",
       "\t\t            .attr(\"id\", function(d){\n",
       "\t\t                return \"text\" + d[3];\n",
       "\t\t            })\n",
       "\t\t            .html(function(d){\n",
       "\t\t                table = \"<table><tr>\"\n",
       "\t\t                table += \"<td> True: \";\n",
       "\t\t                table += parseInt(d[0]); //getType(d[0]);\n",
       "\t\t                table += \"</td>\"\n",
       "\t\t                table += \"<td> Predict: \";\n",
       "\t\t                table += parseInt(d[1]); //getType(d[1]);\n",
       "\t\t                table += \"</td>\"\n",
       "\t\t                table += \"<td>\" + d[2].substr(0,200); + \"</td>\"\n",
       "\t\t                table += \"</tr> </table>\"\n",
       "\t\t                return  table;\n",
       "\t\t        });\n",
       "\n",
       "\n",
       "\t\t        rect.on(\"click\", function(d_on){\n",
       "\t\t            d3.select(\"#review\")\n",
       "\t\t                .select(\"#testList\")\n",
       "\t\t                .html(\"\");\n",
       "\t\t            if(!this.classList.contains(\"past\")){\n",
       "\t\t                d3.selectAll(\".past\")\n",
       "\t\t                    .attr(\"fill\", \"pink\")\n",
       "\t\t                    .classed(\"past\", false);\n",
       "\t\t                d3.selectAll(\".reclick\")\n",
       "\t\t                    .attr(\"fill\", \"pink\")\n",
       "\t\t                    .classed(\"reclick\", false)\n",
       "\t\t            }\n",
       "\t\t            if(!this.classList.contains(\"reclick\")){\n",
       "\t\t                d3.selectAll(\".reclick\")\n",
       "\t\t                    .attr(\"fill\", \"pink\")\n",
       "\t\t                    .classed(\"reclick\", false);\n",
       "\t\t            }\n",
       "\t\t            d3.select(this);\n",
       "\t\t            textId = \"\";\n",
       "\t\t            x = \".\" + this.classList[0];\n",
       "\t\t            y = \".\" + this.classList[1];\n",
       "\t\t            test = x + y;\n",
       "\t\t            x1 = x.charAt(x.length - 1);\n",
       "\t\t            y1 = y.charAt(y.length - 1);\n",
       "\t\t            if(this.classList.contains(\"past\")){\n",
       "\t\t                d3.select(this)\n",
       "\t\t                    .classed(\"reclick\", true)\n",
       "\t\t                Id = this.id;\n",
       "\t\t                textId = \"#text\" + Id.substring(4);\n",
       "\t\t            }\n",
       "\t\t            d3.selectAll(test)\n",
       "\t\t                .attr(\"fill\", \"purple\")\n",
       "\t\t                .classed(\"past\", \"true\");\n",
       "\t\t            d3.select(\"#review\")\n",
       "\t\t                .select(\"#testList\")\n",
       "\t\t                .selectAll(\"rect\")\n",
       "\t\t                .data(\n",
       "\t\t                    dataset\n",
       "\t\t                        .filter(d => d[0] == x1)\n",
       "\t\t                        .filter(d => d[1] == y1),\n",
       "\t\t                        function(d){\n",
       "\t\t                            return d[3];\n",
       "\t\t                        }\n",
       "\t\t                )\n",
       "\t\t                .enter()\n",
       "\t\t                .append(\"li\")\n",
       "\t\t                .attr(\"id\", function(d){\n",
       "\t\t                    return \"text\" + d[3];\n",
       "\t\t                })\n",
       "\t\t                .html(function(d){\n",
       "\t\t                    table = \"<table><tr>\"\n",
       "\t\t                    table += \"<td> True: \";\n",
       "\t\t                    table += parseInt(d[0]); //getType(d[0]);\n",
       "\t\t                    table += \"</td>\"\n",
       "\t\t                    table += \"<td> Predict: \";\n",
       "\t\t                    table += parseInt(d[1]); //getType(d[1]);\n",
       "\t\t                    table += \"</td>\"\n",
       "\t\t                    table += \"<td>\" + d[2].substr(0,200); + \"</td>\"\n",
       "\t\t                    table += \"</tr> </table>\"\n",
       "\t\t                    return table;\n",
       "\t\t            });\n",
       "\t\t            d3.select(\"#review\")\n",
       "\t\t                .select(\"testList\")\n",
       "\t\t                .selectAll(\"li\")\n",
       "\t\t                .on(\"mouseover\", function(d_on){\n",
       "\t\t                    d3.select(this)\n",
       "\t\t                        .classed(\"lighthigh\", true)\n",
       "\t\t                        id = this.id;\n",
       "\t\t                        rectId = \"#rect\" + id.substring(4);\n",
       "\t\t                        d3.selectAll(rectId)\n",
       "\t\t                            .attr(\"fill\", \"green\");\n",
       "\t\t                })\n",
       "\t\t                .on(\"mouseout\", function(d_on){\n",
       "\t\t                    d3.select(this)\n",
       "\t\t                        .classed(\"lighthigh\", false)\n",
       "\t\t                        id = this.id;\n",
       "\t\t                        rectId = \"#rect\" + id.substring(4);\n",
       "\t\t                        d3.selectAll(rectId)\n",
       "\t\t                            .attr(\"fill\", \"purple\");\n",
       "\t\t            });\n",
       "\t\t        });\n",
       "\n",
       "\n",
       "\t\t        d3.select(\"#review\")\n",
       "\t\t            .select(\"#testList\")\n",
       "\t\t            .selectAll(\"li\")\n",
       "\t\t            .on(\"mouseover\", function(d_on){\n",
       "\t\t                d3.select(this)\n",
       "\t\t                    .classed(\"lighthigh\", true)\n",
       "\t\t                    id = this.id;\n",
       "\t\t                    rectId = \"#rect\" + id.substring(4);\n",
       "\t\t                    d3.selectAll(rectId)\n",
       "\t\t                        .attr(\"fill\", \"green\");\n",
       "\t\t            })\n",
       "\t\t          .on(\"mouseout\", function(d_on){\n",
       "\t\t                d3.select(this)\n",
       "\t\t                    .classed(\"lighthigh\", false)\n",
       "\t\t                    id = this.id;\n",
       "\t\t                    rectId = \"#rect\" + id.substring(4);\n",
       "\t\t                    d3.selectAll(rectId)\n",
       "\t\t                        .attr(\"fill\", \"pink\");\n",
       "\t\t        });\n",
       "\n",
       "\t\t        \n",
       "\t\t    });\n",
       "\t\t})\n",
       "\t\t </script>\n",
       "\t\t"
      ],
      "text/plain": [
       "<IPython.core.display.HTML object>"
      ]
     },
     "metadata": {},
     "output_type": "display_data"
    }
   ],
   "source": [
    "cm = mlvs.ConfusionMatrix(full_path_extended)\n",
    "cm.display()"
   ]
  },
  {
   "cell_type": "code",
   "execution_count": null,
   "metadata": {},
   "outputs": [],
   "source": []
  }
 ],
 "metadata": {
  "colab": {
   "collapsed_sections": [],
   "name": "Text Classification.ipynb",
   "provenance": []
  },
  "kernelspec": {
   "display_name": "Python 3",
   "language": "python",
   "name": "python3"
  },
  "language_info": {
   "codemirror_mode": {
    "name": "ipython",
    "version": 3
   },
   "file_extension": ".py",
   "mimetype": "text/x-python",
   "name": "python",
   "nbconvert_exporter": "python",
   "pygments_lexer": "ipython3",
   "version": "3.8.5"
  },
  "widgets": {
   "application/vnd.jupyter.widget-state+json": {
    "2597a278bed34e18b0ec67729284336f": {
     "model_module": "@jupyter-widgets/base",
     "model_name": "LayoutModel",
     "state": {
      "_model_module": "@jupyter-widgets/base",
      "_model_module_version": "1.2.0",
      "_model_name": "LayoutModel",
      "_view_count": null,
      "_view_module": "@jupyter-widgets/base",
      "_view_module_version": "1.2.0",
      "_view_name": "LayoutView",
      "align_content": null,
      "align_items": null,
      "align_self": null,
      "border": null,
      "bottom": null,
      "display": null,
      "flex": null,
      "flex_flow": null,
      "grid_area": null,
      "grid_auto_columns": null,
      "grid_auto_flow": null,
      "grid_auto_rows": null,
      "grid_column": null,
      "grid_gap": null,
      "grid_row": null,
      "grid_template_areas": null,
      "grid_template_columns": null,
      "grid_template_rows": null,
      "height": null,
      "justify_content": null,
      "justify_items": null,
      "left": null,
      "margin": null,
      "max_height": null,
      "max_width": null,
      "min_height": null,
      "min_width": null,
      "object_fit": null,
      "object_position": null,
      "order": null,
      "overflow": null,
      "overflow_x": null,
      "overflow_y": null,
      "padding": null,
      "right": null,
      "top": null,
      "visibility": null,
      "width": null
     }
    },
    "af0d26375a684d398c2dd524ed4506b4": {
     "model_module": "@jupyter-widgets/controls",
     "model_name": "ButtonStyleModel",
     "state": {
      "_model_module": "@jupyter-widgets/controls",
      "_model_module_version": "1.5.0",
      "_model_name": "ButtonStyleModel",
      "_view_count": null,
      "_view_module": "@jupyter-widgets/base",
      "_view_module_version": "1.2.0",
      "_view_name": "StyleView",
      "button_color": null,
      "font_weight": ""
     }
    },
    "cbdd6e4d0b3746638ae6dab5a1a7e534": {
     "model_module": "@jupyter-widgets/controls",
     "model_name": "ButtonModel",
     "state": {
      "_dom_classes": [],
      "_model_module": "@jupyter-widgets/controls",
      "_model_module_version": "1.5.0",
      "_model_name": "ButtonModel",
      "_view_count": null,
      "_view_module": "@jupyter-widgets/controls",
      "_view_module_version": "1.5.0",
      "_view_name": "ButtonView",
      "button_style": "",
      "description": "Click to see Vocab",
      "disabled": false,
      "icon": "",
      "layout": "IPY_MODEL_2597a278bed34e18b0ec67729284336f",
      "style": "IPY_MODEL_af0d26375a684d398c2dd524ed4506b4",
      "tooltip": ""
     }
    }
   }
  }
 },
 "nbformat": 4,
 "nbformat_minor": 1
}
