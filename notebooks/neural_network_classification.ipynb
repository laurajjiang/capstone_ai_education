{
 "cells": [
  {
   "cell_type": "markdown",
   "metadata": {},
   "source": [
    "# Creating a Neural Network for Classification \n",
    "\n",
    "In this notebook, we'll learn how to create a neural network for multi-categorical classification using the Iris dataset. This is the same dataset that was explored in the Logistic Regression notebook, but now using an entirely different models. The ideas are the same, however, so if you'd like extra support refer back to the Logistic Regression notebook where concepts like loss and optimization are broken down a bit more.\n"
   ]
  },
  {
   "cell_type": "markdown",
   "metadata": {},
   "source": [
    "We'll start off by importing some libraries that will be helpful for us to build out our model. `sklearn` (scikitlearn) is another helpful machine learning-related library, and will be where we get the Iris dataset from."
   ]
  },
  {
   "cell_type": "code",
   "execution_count": 1,
   "metadata": {
    "id": "LEVo4pdsKkNb"
   },
   "outputs": [
    {
     "data": {
      "text/html": [
       "<script data-require=\"d3@3.5.3\" data-semver=\"3.5.3\" src=\"//cdnjs.cloudflare.com/ajax/libs/d3/3.5.3/d3.js\"></script>"
      ],
      "text/plain": [
       "<IPython.core.display.HTML object>"
      ]
     },
     "metadata": {},
     "output_type": "display_data"
    }
   ],
   "source": [
    "from sklearn import datasets\n",
    "from sklearn.preprocessing import OneHotEncoder\n",
    "import numpy as np \n",
    "import matplotlib.pyplot as plt \n",
    "import pandas as pd\n",
    "import tensorflow as tf\n",
    "import json\n",
    "import os\n",
    "import sys\n",
    "\n",
    "from IPython.core.display import HTML, display\n",
    "# Initializing D3 for the entire notebook (this fixes error requiring kernel to load twice)\n",
    "# (feel free to move this line to anywhere in notebook before visualizations)\n",
    "display(HTML('<script data-require=\"d3@3.5.3\" data-semver=\"3.5.3\" src=\"//cdnjs.cloudflare.com/ajax/libs/d3/3.5.3/d3.js\"></script>'))"
   ]
  },
  {
   "cell_type": "markdown",
   "metadata": {},
   "source": [
    "## Load the dataset\n",
    "\n",
    "The Iris flower dataset is available on the [Keras dataset API](https://scikit-learn.org/stable/modules/generated/sklearn.datasets.load_iris.html) if you'd like to see the raw HTML.\n",
    "\n",
    "The following code loads the Iris dataset onto this notebook. We'll peek at what this dataset looks like."
   ]
  },
  {
   "cell_type": "code",
   "execution_count": 2,
   "metadata": {
    "colab": {
     "base_uri": "https://localhost:8080/"
    },
    "id": "Tnms8RR7KkaF",
    "outputId": "b42a1b41-0df6-4163-c016-a9e7542f1b2f",
    "scrolled": true
   },
   "outputs": [
    {
     "data": {
      "text/html": [
       "<div>\n",
       "<style scoped>\n",
       "    .dataframe tbody tr th:only-of-type {\n",
       "        vertical-align: middle;\n",
       "    }\n",
       "\n",
       "    .dataframe tbody tr th {\n",
       "        vertical-align: top;\n",
       "    }\n",
       "\n",
       "    .dataframe thead th {\n",
       "        text-align: right;\n",
       "    }\n",
       "</style>\n",
       "<table border=\"1\" class=\"dataframe\">\n",
       "  <thead>\n",
       "    <tr style=\"text-align: right;\">\n",
       "      <th></th>\n",
       "      <th>sepal length (cm)</th>\n",
       "      <th>sepal width (cm)</th>\n",
       "      <th>petal length (cm)</th>\n",
       "      <th>petal width (cm)</th>\n",
       "      <th>target</th>\n",
       "    </tr>\n",
       "  </thead>\n",
       "  <tbody>\n",
       "    <tr>\n",
       "      <th>0</th>\n",
       "      <td>5.1</td>\n",
       "      <td>3.5</td>\n",
       "      <td>1.4</td>\n",
       "      <td>0.2</td>\n",
       "      <td>0</td>\n",
       "    </tr>\n",
       "    <tr>\n",
       "      <th>1</th>\n",
       "      <td>4.9</td>\n",
       "      <td>3.0</td>\n",
       "      <td>1.4</td>\n",
       "      <td>0.2</td>\n",
       "      <td>0</td>\n",
       "    </tr>\n",
       "    <tr>\n",
       "      <th>2</th>\n",
       "      <td>4.7</td>\n",
       "      <td>3.2</td>\n",
       "      <td>1.3</td>\n",
       "      <td>0.2</td>\n",
       "      <td>0</td>\n",
       "    </tr>\n",
       "    <tr>\n",
       "      <th>3</th>\n",
       "      <td>4.6</td>\n",
       "      <td>3.1</td>\n",
       "      <td>1.5</td>\n",
       "      <td>0.2</td>\n",
       "      <td>0</td>\n",
       "    </tr>\n",
       "    <tr>\n",
       "      <th>4</th>\n",
       "      <td>5.0</td>\n",
       "      <td>3.6</td>\n",
       "      <td>1.4</td>\n",
       "      <td>0.2</td>\n",
       "      <td>0</td>\n",
       "    </tr>\n",
       "  </tbody>\n",
       "</table>\n",
       "</div>"
      ],
      "text/plain": [
       "   sepal length (cm)  sepal width (cm)  petal length (cm)  petal width (cm)  \\\n",
       "0                5.1               3.5                1.4               0.2   \n",
       "1                4.9               3.0                1.4               0.2   \n",
       "2                4.7               3.2                1.3               0.2   \n",
       "3                4.6               3.1                1.5               0.2   \n",
       "4                5.0               3.6                1.4               0.2   \n",
       "\n",
       "   target  \n",
       "0       0  \n",
       "1       0  \n",
       "2       0  \n",
       "3       0  \n",
       "4       0  "
      ]
     },
     "execution_count": 2,
     "metadata": {},
     "output_type": "execute_result"
    }
   ],
   "source": [
    "iris = datasets.load_iris()\n",
    "iris = pd.DataFrame(data= np.c_[iris['data'], iris['target']],\n",
    "                     columns= iris['feature_names'] + ['target'])\n",
    "iris = iris.astype({\"target\": int })\n",
    "\n",
    "iris.head()"
   ]
  },
  {
   "cell_type": "markdown",
   "metadata": {},
   "source": [
    "## Explore the data \n",
    "\n",
    "Let's take a moment to understand the format of the data. Each data contains sepal length, sepal width, petal length, petal width and a corresponding species label. The label is an integer value of either 0, 1, or 2 where 0 is a `Iris-setosa`, 1 is a `Iris-versicolo`, and 2 is a `Iris-virginica.`"
   ]
  },
  {
   "cell_type": "code",
   "execution_count": 3,
   "metadata": {
    "colab": {
     "base_uri": "https://localhost:8080/",
     "height": 299
    },
    "id": "_tVdpyFQKkd3",
    "outputId": "0c4b678a-f1c0-4af5-80df-e7dbe98507e6"
   },
   "outputs": [
    {
     "data": {
      "text/plain": [
       "<matplotlib.legend.Legend at 0x7fc661f55ca0>"
      ]
     },
     "execution_count": 3,
     "metadata": {},
     "output_type": "execute_result"
    },
    {
     "data": {
      "image/png": "[encoded data removed]",
      "text/plain": [
       "<Figure size 432x288 with 1 Axes>"
      ]
     },
     "metadata": {
      "needs_background": "light"
     },
     "output_type": "display_data"
    }
   ],
   "source": [
    "plt.scatter(iris['sepal length (cm)'][:50], iris['sepal width (cm)'][:50], label='Iris-setosa')\n",
    "plt.scatter(iris['sepal length (cm)'][51:], iris['sepal width (cm)'][51:], label='Iris-versicolo')\n",
    "plt.scatter(iris['sepal length (cm)'][101:], iris['sepal width (cm)'][101:], label='Iris-virginica')\n",
    "plt.xlabel('sepal length (cm)')\n",
    "plt.ylabel('sepal width (cm)')\n",
    "plt.legend(loc='best')"
   ]
  },
  {
   "cell_type": "markdown",
   "metadata": {},
   "source": [
    "The following two code blocks help us set up our data to use as input into our neural network model. You can refer back to the Logistic Regression notebook for an explanation on encoding our data."
   ]
  },
  {
   "cell_type": "code",
   "execution_count": 4,
   "metadata": {
    "id": "CzpqD0zXVKIT"
   },
   "outputs": [],
   "source": [
    "x = iris.drop(labels=['target'], axis=1).values\n",
    "y_ = iris['target'].values.reshape(-1, 1)\n",
    "encoder = OneHotEncoder(sparse=False)\n",
    "y = encoder.fit_transform(y_)"
   ]
  },
  {
   "cell_type": "markdown",
   "metadata": {},
   "source": [
    "Here, we're splitting the whole Iris dataset into a training set and a test set. The training set is a bit smaller than our test set, containing 20% of the original dataset while the other 80% will be used in testing our model. \n",
    "\n",
    "Feel free to change these values and see how the accuracy and loss of our model changes later down the road."
   ]
  },
  {
   "cell_type": "code",
   "execution_count": 5,
   "metadata": {
    "id": "iAldyTxES7jR"
   },
   "outputs": [],
   "source": [
    "from sklearn.model_selection import train_test_split\n",
    "from sklearn.utils import shuffle \n",
    "\n",
    "x, y = shuffle(x, y)\n",
    "train_x, test_x, train_y, test_y = train_test_split(x, y, test_size=0.8)"
   ]
  },
  {
   "cell_type": "markdown",
   "metadata": {},
   "source": [
    "## Building our neural network \n",
    "\n",
    "Finally, we can start to build a simple neural network. We'll use Tensorflow Keras to build our model. \n",
    "\n",
    "Overall, we have 4 layers to our neural network. The first layer is the input layer that we've named aptly. The activation function is the ReLU (Rectified Linear Unit) function, which is commonly used for neural networks. The input shape is `(4,),` representing the four features (sepal length, sepal width, petal length, petal width) we're interested in looking at to classify which Iris category the current array represents. \n",
    "\n",
    "Next, we have two \"hidden layers,\" or two layers sandwiched between our input and output layer. They also have a ReLU activation function. These hidden layers help the neural network break down the incoming data into unique parts to help the whole neural network better understand how to classify the piece of data. \n",
    "\n",
    "Lastly, we have the output layer. There are three nodes in our output layer, alongside a new activation function (`softmax`). `Softmax` helps to normalize our output probability in the 0-1 range so we can understand the output of our function better. Because we are using `softmax,` we need one node per category label. "
   ]
  },
  {
   "cell_type": "code",
   "execution_count": 6,
   "metadata": {
    "colab": {
     "base_uri": "https://localhost:8080/"
    },
    "id": "gG8mdEugMrMm",
    "outputId": "c9dca994-48c4-4e5b-afb7-2baa17d76c15"
   },
   "outputs": [
    {
     "name": "stdout",
     "output_type": "stream",
     "text": [
      "Model: \"sequential\"\n",
      "_________________________________________________________________\n",
      "Layer (type)                 Output Shape              Param #   \n",
      "=================================================================\n",
      "input (Dense)                (None, 10)                50        \n",
      "_________________________________________________________________\n",
      "hidden-1 (Dense)             (None, 10)                110       \n",
      "_________________________________________________________________\n",
      "hidden-2 (Dense)             (None, 10)                110       \n",
      "_________________________________________________________________\n",
      "output (Dense)               (None, 3)                 33        \n",
      "=================================================================\n",
      "Total params: 303\n",
      "Trainable params: 303\n",
      "Non-trainable params: 0\n",
      "_________________________________________________________________\n",
      "None\n"
     ]
    }
   ],
   "source": [
    "model = tf.keras.Sequential([\n",
    "  tf.keras.layers.Dense(10, activation=tf.nn.relu, input_shape=(4,), name='input'),  # input shape required\n",
    "  tf.keras.layers.Dense(10, activation=tf.nn.relu, name='hidden-1'),\n",
    "  tf.keras.layers.Dense(10, activation=tf.nn.relu, name='hidden-2'),\n",
    "  tf.keras.layers.Dense(3, activation='softmax', name='output')\n",
    "])\n",
    "\n",
    "print(model.summary())"
   ]
  },
  {
   "cell_type": "markdown",
   "metadata": {},
   "source": [
    "We can see what the output of our hidden layers looks like. The whole `predictions` array holds an array of vectors, where each vector is the hidden layers' probability calculations. The index of the array (0, 1, or 2) represents the calculated probability that the inputted data corresponds to that category of Iris, where 0 is a `Iris-setosa`, 1 is a `Iris-versicolo`, and 2 is a `Iris-virginica.`"
   ]
  },
  {
   "cell_type": "code",
   "execution_count": 7,
   "metadata": {
    "colab": {
     "base_uri": "https://localhost:8080/"
    },
    "id": "pe0MwRUiVukG",
    "outputId": "c9dead44-cf29-4720-a63c-7f7413da2221",
    "scrolled": false
   },
   "outputs": [
    {
     "data": {
      "text/plain": [
       "<tf.Tensor: shape=(5, 3), dtype=float32, numpy=\n",
       "array([[0.30125073, 0.41464815, 0.2841011 ],\n",
       "       [0.29530135, 0.42593113, 0.2787675 ],\n",
       "       [0.31070805, 0.3846215 , 0.30467048],\n",
       "       [0.29996902, 0.41670278, 0.2833282 ],\n",
       "       [0.3012456 , 0.4141104 , 0.28464395]], dtype=float32)>"
      ]
     },
     "execution_count": 7,
     "metadata": {},
     "output_type": "execute_result"
    }
   ],
   "source": [
    "# hidden layer vector\n",
    "\n",
    "predictions = model(x)\n",
    "tf.nn.softmax(predictions[:5])"
   ]
  },
  {
   "cell_type": "markdown",
   "metadata": {},
   "source": [
    "## Train the model\n",
    "\n",
    "The next step is to train our model. We'll use a built-in optimizer to optimize our model with stochastic gradient descent (SGD), updating the parameters in our neural network through backpropogation. Backpropogation is essentially seeing our neural network reacts to changing the weights and biases within our model. Understanding the math behind backpropogation is more math-heavy, so we won't cover it too in-depth here. Refer to the site for more detail. \n",
    "\n",
    "We've also chosen to use a built-in a loss function (categorical cross-entropy loss). Cross-entropy loss, shown in the Logisitic Regression notebook, is used for binary classification while categorical cross-entropy loss is for multi-categorical classification such as this iris problem (we have three different classes). \n",
    "\n",
    "Feel free to play around with different optimizers and loss functions. You can find the full documentation on the Tensorflow site: [optimizers](https://www.tensorflow.org/api_docs/python/tf/keras/optimizers) and [loss functions](https://www.tensorflow.org/api_docs/python/tf/keras/losses)."
   ]
  },
  {
   "cell_type": "code",
   "execution_count": 8,
   "metadata": {},
   "outputs": [
    {
     "name": "stdout",
     "output_type": "stream",
     "text": [
      "Model: \"sequential\"\n",
      "_________________________________________________________________\n",
      "Layer (type)                 Output Shape              Param #   \n",
      "=================================================================\n",
      "input (Dense)                (None, 10)                50        \n",
      "_________________________________________________________________\n",
      "hidden-1 (Dense)             (None, 10)                110       \n",
      "_________________________________________________________________\n",
      "hidden-2 (Dense)             (None, 10)                110       \n",
      "_________________________________________________________________\n",
      "output (Dense)               (None, 3)                 33        \n",
      "=================================================================\n",
      "Total params: 303\n",
      "Trainable params: 303\n",
      "Non-trainable params: 0\n",
      "_________________________________________________________________\n"
     ]
    }
   ],
   "source": [
    "model.compile(optimizer='sgd', loss='categorical_crossentropy', metrics=['accuracy'])\n",
    "model.summary()\n",
    "\n",
    "# Initializing the Extractor module\n",
    "import libraries.extractioncallback as excb\n",
    "\n",
    "extractor = excb.CallbackDataExtractor(\n",
    "    model = model,\n",
    "    layer = 1,\n",
    "    validation_data = (test_x, test_y),\n",
    "    rec_int_values = True,\n",
    "    is_bin = False\n",
    ")\n"
   ]
  },
  {
   "cell_type": "code",
   "execution_count": 9,
   "metadata": {
    "colab": {
     "base_uri": "https://localhost:8080/"
    },
    "id": "r1aeXZD8MrbA",
    "outputId": "7c70bcca-d816-47c0-d706-0b8cd392bf8a"
   },
   "outputs": [
    {
     "name": "stdout",
     "output_type": "stream",
     "text": [
      "Epoch 1/10\n",
      "1/1 [==============================] - 1s 961ms/step - loss: 1.0862 - accuracy: 0.4762 - val_loss: 1.0126 - val_accuracy: 0.5556\n",
      "Epoch 2/10\n",
      "1/1 [==============================] - 0s 55ms/step - loss: 1.0846 - accuracy: 0.4762 - val_loss: 1.0121 - val_accuracy: 0.5556\n",
      "Epoch 3/10\n",
      "1/1 [==============================] - 0s 62ms/step - loss: 1.0832 - accuracy: 0.4762 - val_loss: 1.0117 - val_accuracy: 0.5556\n",
      "Epoch 4/10\n",
      "1/1 [==============================] - 0s 52ms/step - loss: 1.0818 - accuracy: 0.4762 - val_loss: 1.0113 - val_accuracy: 0.5556\n",
      "Epoch 5/10\n",
      "1/1 [==============================] - 0s 55ms/step - loss: 1.0806 - accuracy: 0.4762 - val_loss: 1.0109 - val_accuracy: 0.5556\n",
      "Epoch 6/10\n",
      "1/1 [==============================] - 0s 55ms/step - loss: 1.0794 - accuracy: 0.4762 - val_loss: 1.0105 - val_accuracy: 0.5556\n",
      "Epoch 7/10\n",
      "1/1 [==============================] - 0s 56ms/step - loss: 1.0783 - accuracy: 0.4762 - val_loss: 1.0101 - val_accuracy: 0.5556\n",
      "Epoch 8/10\n",
      "1/1 [==============================] - 0s 59ms/step - loss: 1.0772 - accuracy: 0.4762 - val_loss: 1.0097 - val_accuracy: 0.5556\n",
      "Epoch 9/10\n",
      "1/1 [==============================] - 0s 60ms/step - loss: 1.0762 - accuracy: 0.4762 - val_loss: 1.0094 - val_accuracy: 0.5556\n",
      "Epoch 10/10\n",
      "1/1 [==============================] - 0s 53ms/step - loss: 1.0752 - accuracy: 0.4762 - val_loss: 1.0090 - val_accuracy: 0.5556\n"
     ]
    }
   ],
   "source": [
    "hist = model.fit(train_x, train_y, verbose=1, batch_size=32, epochs=10, validation_split=0.3, callbacks=[extractor])"
   ]
  },
  {
   "cell_type": "markdown",
   "metadata": {},
   "source": [
    "There are two graphs below to demonstrate the relationship between accuracy, loss, and our epoch. What trend do you generally notice here? "
   ]
  },
  {
   "cell_type": "code",
   "execution_count": 10,
   "metadata": {
    "colab": {
     "base_uri": "https://localhost:8080/",
     "height": 558
    },
    "id": "QdabkSwphd_n",
    "outputId": "1d93e2ed-08ff-46ab-c86b-11f848c98bef",
    "scrolled": true
   },
   "outputs": [
    {
     "data": {
      "image/png": "[encoded data removed]",
      "text/plain": [
       "<Figure size 432x288 with 1 Axes>"
      ]
     },
     "metadata": {
      "needs_background": "light"
     },
     "output_type": "display_data"
    },
    {
     "data": {
      "image/png": "[encoded data removed]",
      "text/plain": [
       "<Figure size 432x288 with 1 Axes>"
      ]
     },
     "metadata": {
      "needs_background": "light"
     },
     "output_type": "display_data"
    }
   ],
   "source": [
    "plt.plot(hist.history['accuracy'])\n",
    "plt.plot(hist.history['val_accuracy'])\n",
    "\n",
    "plt.title('model accuracy')\n",
    "plt.ylabel('accuracy')\n",
    "plt.xlabel('epoch')\n",
    "plt.legend(['train','test'], loc='upper left')\n",
    "plt.show()\n",
    "\n",
    "plt.plot(hist.history['loss'])\n",
    "plt.plot(hist.history['val_loss'])\n",
    "\n",
    "plt.title('model loss')\n",
    "plt.ylabel('loss')\n",
    "plt.xlabel('epoch')\n",
    "plt.legend(['train','test'], loc='upper left')\n",
    "plt.show()"
   ]
  },
  {
   "cell_type": "code",
   "execution_count": 11,
   "metadata": {},
   "outputs": [],
   "source": [
    "# epoch_output = extractor.get_testing_results()\n",
    "\n",
    "# extractor.get_stored_predictions()\n",
    "# all_predictions = []\n",
    "# for epoch in extractor.get_stored_predictions():\n",
    "#     epoch_predictions = []\n",
    "#     for dp in epoch:\n",
    "#         epoch_predictions.append(int(dp.argmax()))                       \n",
    "#     all_predictions.append(epoch_predictions)\n",
    "\n",
    "# extractor.set_stored_predictions(all_predictions)\n",
    "\n",
    "\n",
    "\n",
    "        "
   ]
  },
  {
   "cell_type": "markdown",
   "metadata": {},
   "source": [
    "## Evaluate the model\n",
    "\n",
    "Now, let's see how the model performs on our test data set after the model has been trained. Two values will be returned: the loss of our model (a number which represents our error -- lower values are better), and the accuracy of our model. You can try adjusting the batch size too to see how it affects the model's loss and accuracy."
   ]
  },
  {
   "cell_type": "code",
   "execution_count": 12,
   "metadata": {},
   "outputs": [
    {
     "name": "stdout",
     "output_type": "stream",
     "text": [
      "[[0.26629615 0.4821263  0.25157753]\n",
      " [0.25087285 0.5418617  0.2072655 ]\n",
      " [0.26509956 0.505661   0.22923937]\n",
      " [0.27073857 0.4967653  0.23249619]\n",
      " [0.26230413 0.49004874 0.24764708]\n",
      " [0.2652262  0.4842274  0.2505464 ]\n",
      " [0.2571675  0.52623254 0.21659993]\n",
      " [0.25602955 0.5274861  0.21648434]\n",
      " [0.24216893 0.5517592  0.20607184]\n",
      " [0.24688874 0.5486956  0.20441568]\n",
      " [0.26094902 0.49325156 0.24579938]\n",
      " [0.2639382  0.5029547  0.2331071 ]\n",
      " [0.26941413 0.47778735 0.25279847]\n",
      " [0.26771998 0.49232543 0.2399546 ]\n",
      " [0.24869093 0.5430908  0.20821828]\n",
      " [0.25708604 0.5266824  0.21623158]\n",
      " [0.24998623 0.5390821  0.21093169]\n",
      " [0.24243617 0.5581804  0.19938342]\n",
      " [0.2561311  0.52729094 0.21657796]\n",
      " [0.27360815 0.46686345 0.2595285 ]\n",
      " [0.26946247 0.4960637  0.23447381]\n",
      " [0.25757083 0.52189726 0.2205319 ]\n",
      " [0.2651436  0.4893033  0.24555314]\n",
      " [0.2578686  0.5216376  0.2204938 ]\n",
      " [0.23789722 0.5667741  0.19532874]\n",
      " [0.26324186 0.5088176  0.22794056]\n",
      " [0.27038383 0.47474396 0.2548721 ]\n",
      " [0.26839757 0.47717312 0.25442922]\n",
      " [0.26621836 0.48093894 0.25284266]\n",
      " [0.26130483 0.49295476 0.24574044]\n",
      " [0.27116242 0.48754972 0.24128786]\n",
      " [0.26201382 0.4923322  0.24565391]\n",
      " [0.24259813 0.55648166 0.20092016]\n",
      " [0.27379847 0.48240793 0.24379362]\n",
      " [0.24993187 0.5419936  0.20807445]\n",
      " [0.26253706 0.49002394 0.24743898]\n",
      " [0.26273343 0.51148325 0.22578329]\n",
      " [0.24033538 0.56238985 0.19727482]\n",
      " [0.2637815  0.4890153  0.2472032 ]\n",
      " [0.25859886 0.52156526 0.21983588]\n",
      " [0.2584218  0.5008931  0.24068509]\n",
      " [0.25475308 0.5325087  0.2127382 ]\n",
      " [0.2409965  0.5587541  0.20024948]\n",
      " [0.24883457 0.5153179  0.23584749]\n",
      " [0.25984    0.49582294 0.24433704]\n",
      " [0.2571675  0.52623254 0.21659993]\n",
      " [0.25715417 0.5233076  0.2195382 ]\n",
      " [0.27385074 0.46683922 0.25931004]\n",
      " [0.24571624 0.55202734 0.20225646]\n",
      " [0.26479793 0.5043289  0.23087318]\n",
      " [0.2298275  0.58625644 0.18391612]\n",
      " [0.24767956 0.53973114 0.21258931]\n",
      " [0.26530474 0.50377554 0.2309198 ]\n",
      " [0.25513124 0.50438493 0.24048385]\n",
      " [0.25605306 0.5031657  0.24078123]\n",
      " [0.2576362  0.52484244 0.21752135]\n",
      " [0.26626933 0.50575644 0.2279743 ]\n",
      " [0.24777769 0.5469227  0.20529963]\n",
      " [0.26451093 0.50299674 0.23249234]\n",
      " [0.23939493 0.56222284 0.19838223]\n",
      " [0.25799784 0.5241401  0.21786205]\n",
      " [0.26149964 0.48949376 0.24900655]\n",
      " [0.2476753  0.5454895  0.20683526]\n",
      " [0.25290585 0.5330315  0.21406263]\n",
      " [0.26421386 0.5071591  0.22862698]\n",
      " [0.24742827 0.5473935  0.2051782 ]\n",
      " [0.23849392 0.5655588  0.19594729]\n",
      " [0.2527213  0.53367597 0.21360274]\n",
      " [0.2623814  0.4913429  0.24627566]\n",
      " [0.260135   0.512712   0.22715299]\n",
      " [0.26293123 0.48856395 0.24850477]\n",
      " [0.2653565  0.483484   0.2511595 ]\n",
      " [0.2598715  0.51676655 0.22336197]\n",
      " [0.27056763 0.47513396 0.2542985 ]\n",
      " [0.25676924 0.5242487  0.21898201]\n",
      " [0.25291225 0.5295672  0.2175206 ]\n",
      " [0.2508775  0.5320144  0.21710812]\n",
      " [0.22610313 0.59206617 0.1818307 ]\n",
      " [0.22998767 0.58400005 0.18601224]\n",
      " [0.2714241  0.4725941  0.2559817 ]\n",
      " [0.24728028 0.55125237 0.20146732]\n",
      " [0.2711812  0.48695138 0.24186744]\n",
      " [0.26719436 0.47769594 0.2551097 ]\n",
      " [0.27432445 0.46360895 0.26206666]\n",
      " [0.24162734 0.5581206  0.20025204]\n",
      " [0.24522084 0.54599327 0.2087859 ]\n",
      " [0.24391113 0.5533578  0.20273112]\n",
      " [0.2655793  0.50484926 0.22957137]\n",
      " [0.27118376 0.47261873 0.25619745]\n",
      " [0.2598927  0.5207491  0.21935816]\n",
      " [0.2736957  0.4670021  0.2593022 ]\n",
      " [0.2637226  0.4903128  0.24596457]\n",
      " [0.27164447 0.47565475 0.2527008 ]\n",
      " [0.26188087 0.509854   0.22826503]\n",
      " [0.24831556 0.54485327 0.20683119]\n",
      " [0.24831443 0.54427844 0.2074071 ]\n",
      " [0.2633938  0.48808485 0.2485213 ]\n",
      " [0.24440378 0.5543901  0.20120609]\n",
      " [0.25092062 0.514343   0.23473635]\n",
      " [0.25488126 0.50512475 0.23999399]\n",
      " [0.2285384  0.5864373  0.18502437]\n",
      " [0.2680135  0.47966677 0.25231972]\n",
      " [0.26596072 0.48242596 0.25161338]\n",
      " [0.2532986  0.51008403 0.23661734]\n",
      " [0.23410474 0.5736952  0.19220006]\n",
      " [0.26215518 0.49081674 0.24702805]\n",
      " [0.23549262 0.57411563 0.1903918 ]\n",
      " [0.24794997 0.541578   0.21047206]\n",
      " [0.25399134 0.5309545  0.21505421]\n",
      " [0.26308492 0.50643426 0.23048086]\n",
      " [0.25544286 0.5268971  0.21766004]\n",
      " [0.26336852 0.50920737 0.22742414]\n",
      " [0.251156   0.53655964 0.21228437]\n",
      " [0.25975737 0.49458927 0.24565329]\n",
      " [0.2680423  0.47605506 0.2559026 ]\n",
      " [0.24140033 0.5611288  0.19747084]\n",
      " [0.23594113 0.5708817  0.19317716]\n",
      " [0.25774777 0.50031465 0.24193758]\n",
      " [0.24504717 0.5479034  0.20704943]\n",
      " [0.25066045 0.54062176 0.20871781]]\n",
      "                precision    recall  f1-score   support\n",
      "\n",
      "   Iris-setosa       0.00      0.00      0.00        42\n",
      "Iris-versicolo       0.29      1.00      0.45        35\n",
      "Iris-virginica       0.00      0.00      0.00        43\n",
      "\n",
      "      accuracy                           0.29       120\n",
      "     macro avg       0.10      0.33      0.15       120\n",
      "  weighted avg       0.09      0.29      0.13       120\n",
      "\n"
     ]
    },
    {
     "name": "stderr",
     "output_type": "stream",
     "text": [
      "/home/owen/.local/lib/python3.9/site-packages/sklearn/metrics/_classification.py:1245: UndefinedMetricWarning: Precision and F-score are ill-defined and being set to 0.0 in labels with no predicted samples. Use `zero_division` parameter to control this behavior.\n",
      "  _warn_prf(average, modifier, msg_start, len(result))\n",
      "/home/owen/.local/lib/python3.9/site-packages/sklearn/metrics/_classification.py:1245: UndefinedMetricWarning: Precision and F-score are ill-defined and being set to 0.0 in labels with no predicted samples. Use `zero_division` parameter to control this behavior.\n",
      "  _warn_prf(average, modifier, msg_start, len(result))\n",
      "/home/owen/.local/lib/python3.9/site-packages/sklearn/metrics/_classification.py:1245: UndefinedMetricWarning: Precision and F-score are ill-defined and being set to 0.0 in labels with no predicted samples. Use `zero_division` parameter to control this behavior.\n",
      "  _warn_prf(average, modifier, msg_start, len(result))\n"
     ]
    }
   ],
   "source": [
    "from sklearn.metrics import classification_report\n",
    "from sklearn.preprocessing import MinMaxScaler\n",
    "\n",
    "# make a prediction\n",
    "testingPredictions = model.predict(test_x)\n",
    "testingPredictions = list(testingPredictions.argmax(axis=-1))\n",
    "\n",
    "confidence_scores = model.predict(test_x, batch_size=32)\n",
    "print(confidence_scores)\n",
    "\n",
    "target_names = ['Iris-setosa', 'Iris-versicolo', 'Iris-virginica']\n",
    "print(classification_report(test_y.argmax(axis=-1), testingPredictions, target_names=target_names))"
   ]
  },
  {
   "cell_type": "code",
   "execution_count": 13,
   "metadata": {},
   "outputs": [
    {
     "name": "stdout",
     "output_type": "stream",
     "text": [
      "4/4 [==============================] - 0s 1ms/step - loss: 1.2290 - accuracy: 0.2917\n",
      "loss: 1.229\n",
      "accuracy: 0.292\n"
     ]
    }
   ],
   "source": [
    "results = model.evaluate(test_x, test_y, verbose=1)\n",
    "\n",
    "for name, value in zip(model.metrics_names, results):\n",
    "  print(\"%s: %.3f\" % (name, value))"
   ]
  },
  {
   "cell_type": "markdown",
   "metadata": {},
   "source": [
    "Now, we need to export the data in order to support some interactive visualizations that we've created. Feel free to skip over this code block and move to the interactive visualizations below."
   ]
  },
  {
   "cell_type": "code",
   "execution_count": 14,
   "metadata": {},
   "outputs": [],
   "source": [
    "epoch_output = extractor.get_testing_results()"
   ]
  },
  {
   "cell_type": "code",
   "execution_count": 1,
   "metadata": {
    "colab": {
     "base_uri": "https://localhost:8080/",
     "height": 351
    },
    "id": "oO_hbdmkh-e4",
    "outputId": "58ea8214-b86e-4baf-d2ec-b1f8366af5b4"
   },
   "outputs": [
    {
     "ename": "NameError",
     "evalue": "name 'epoch_output' is not defined",
     "output_type": "error",
     "traceback": [
      "\u001b[0;31m---------------------------------------------------------------------------\u001b[0m",
      "\u001b[0;31mNameError\u001b[0m                                 Traceback (most recent call last)",
      "\u001b[0;32m<ipython-input-1-c85724d5d27f>\u001b[0m in \u001b[0;36m<module>\u001b[0;34m\u001b[0m\n\u001b[1;32m      9\u001b[0m \u001b[0;34m\u001b[0m\u001b[0m\n\u001b[1;32m     10\u001b[0m \u001b[0mdata\u001b[0m \u001b[0;34m=\u001b[0m \u001b[0;34m{\u001b[0m\u001b[0;34m}\u001b[0m\u001b[0;34m\u001b[0m\u001b[0;34m\u001b[0m\u001b[0m\n\u001b[0;32m---> 11\u001b[0;31m \u001b[0;32mfor\u001b[0m \u001b[0mi\u001b[0m \u001b[0;32min\u001b[0m \u001b[0mrange\u001b[0m\u001b[0;34m(\u001b[0m\u001b[0mlen\u001b[0m\u001b[0;34m(\u001b[0m\u001b[0mepoch_output\u001b[0m\u001b[0;34m[\u001b[0m\u001b[0;36m0\u001b[0m\u001b[0;34m]\u001b[0m\u001b[0;34m)\u001b[0m\u001b[0;34m)\u001b[0m\u001b[0;34m:\u001b[0m\u001b[0;34m\u001b[0m\u001b[0;34m\u001b[0m\u001b[0m\n\u001b[0m\u001b[1;32m     12\u001b[0m     \u001b[0mdata\u001b[0m\u001b[0;34m[\u001b[0m\u001b[0mi\u001b[0m\u001b[0;34m]\u001b[0m \u001b[0;34m=\u001b[0m \u001b[0;34m{\u001b[0m\u001b[0;34m}\u001b[0m\u001b[0;34m\u001b[0m\u001b[0;34m\u001b[0m\u001b[0m\n\u001b[1;32m     13\u001b[0m     \u001b[0mdata\u001b[0m\u001b[0;34m[\u001b[0m\u001b[0mi\u001b[0m\u001b[0;34m]\u001b[0m\u001b[0;34m[\u001b[0m\u001b[0;34m'Num Epochs'\u001b[0m\u001b[0;34m]\u001b[0m \u001b[0;34m=\u001b[0m \u001b[0mlen\u001b[0m\u001b[0;34m(\u001b[0m\u001b[0mepoch_output\u001b[0m\u001b[0;34m)\u001b[0m\u001b[0;34m\u001b[0m\u001b[0;34m\u001b[0m\u001b[0m\n",
      "\u001b[0;31mNameError\u001b[0m: name 'epoch_output' is not defined"
     ]
    }
   ],
   "source": [
    "# output data as json \n",
    "import json\n",
    "import os\n",
    "import sys\n",
    "\n",
    "output_directory = \"libraries/\"\n",
    "output_filename = \"predict_nn.json\"\n",
    "full_path = os.path.join(output_directory, output_filename)\n",
    "\n",
    "data = {}\n",
    "for i in range(len(epoch_output[0])):\n",
    "    data[i] = {}\n",
    "    data[i]['Num Epochs'] = len(epoch_output)\n",
    "    data[i]['Index'] = i\n",
    "    data[i]['Test Label'] = int(epoch_output[0]['actual'][i].argmax())\n",
    "    data[i]['Test Prediction'] = {}\n",
    "    data[i]['Test Confidence Score'] = {}\n",
    "    data[i]['Intermediate Values'] = {}\n",
    "    for j in range(len(epoch_output)):\n",
    "        data[i]['Test Prediction'][j] = int(epoch_output[j]['prediction'][i])\n",
    "        data[i]['Test Confidence Score'][j] = epoch_output[j]['confidence_score'][i].tolist()\n",
    "        data[i]['Intermediate Values'][j] = epoch_output[j]['intermediate_values'][i]\n",
    "    data[i]['Test Sentence'] = epoch_output[0]['input'][i].tolist()\n",
    "    \n",
    "with open(full_path, 'w') as outfile:\n",
    "    json.dump(data, outfile, indent=4, sort_keys=False)"
   ]
  },
  {
   "cell_type": "code",
   "execution_count": 1,
   "metadata": {},
   "outputs": [],
   "source": [
    "import json\n",
    "import os\n",
    "import sys\n",
    "\n",
    "output_directory = \"libraries/\"\n",
    "output_filename = \"predict_nn.json\"\n",
    "full_path = os.path.join(output_directory, output_filename)\n",
    "\n",
    "module_path = os.path.abspath(os.path.join('..'))\n",
    "if module_path not in sys.path:\n",
    "    sys.path.append(module_path)\n",
    "    \n",
    "import libraries.mlvislib as mlvs"
   ]
  },
  {
   "cell_type": "code",
   "execution_count": 2,
   "metadata": {
    "scrolled": false
   },
   "outputs": [
    {
     "data": {
      "text/html": [
       "<script src=\"https://d3js.org/d3.v3.min.js\" charset=\"utf-8\"></script>"
      ],
      "text/plain": [
       "<IPython.core.display.HTML object>"
      ]
     },
     "metadata": {},
     "output_type": "display_data"
    },
    {
     "data": {
      "text/html": [
       "\n",
       "        <style> \n",
       "        body {\n",
       "            font-family: Arial, sans-serif;\n",
       "            font-size: larger;\n",
       "        }\n",
       "        .box_highlighted { \n",
       "            background-color: #ffb; \n",
       "            border: 1px solid #b53;\n",
       "        }\n",
       "        .highlight{\n",
       "            background-color: yellow;\n",
       "        }\n",
       "        .lighthigh{\n",
       "            background-color: green;\n",
       "        }\n",
       "        #testList {\n",
       "            list-style-type: none;\n",
       "            padding-left: 0;\n",
       "            margin: 0;\n",
       "        }\n",
       "        li.dataPoint{\n",
       "            font-size: smaller;\n",
       "        }\n",
       "        li.dataPoint:nth-child(odd){\n",
       "            background: #999;\n",
       "        }\n",
       "        table.xaxis {\n",
       "            table-layout: auto;\n",
       "            width: 750px;\n",
       "            margin-left: 26px !important;\n",
       "            text-align: center;\n",
       "        }\n",
       "        td.xlabel {\n",
       "            text-align: center;\n",
       "        }\n",
       "        table.yaxis {\n",
       "            float: left;\n",
       "            display: inline;\n",
       "            table-layout: auto;\n",
       "            height: 750px;\n",
       "            writing-mode: sideways-lr;\n",
       "        }\n",
       "        td.ylabel {\n",
       "            text-align: center;\n",
       "        }\n",
       "        #review{\n",
       "            border:1px solid blue; \n",
       "            padding: 5px; \n",
       "            float: left; \n",
       "            width: 750px; \n",
       "            height: 500px; \n",
       "            background-color: white;\n",
       "            margin: 20px;\n",
       "            overflow: scroll;\n",
       "            }\n",
       "        #matrix{\n",
       "            border:1px solid blue; \n",
       "            padding: 5px; \n",
       "            float: left;\n",
       "            width: 750px;\n",
       "            display: inline;\n",
       "        }\n",
       "        #slider {\n",
       "          -webkit-appearance: none;\n",
       "          width: 100%;\n",
       "          height: 15px;\n",
       "          border-radius: 5px;  \n",
       "          background: #d3d3d3;\n",
       "          outline: none;\n",
       "          opacity: 0.7;\n",
       "          -webkit-transition: .2s;\n",
       "          transition: opacity .2s;\n",
       "        }\n",
       "        #slider::-webkit-slider-thumb {\n",
       "          -webkit-appearance: none;\n",
       "          appearance: none;\n",
       "          width: 25px;\n",
       "          height: 25px;\n",
       "          border-radius: 50%; \n",
       "          background: #4ca2af;\n",
       "          cursor: pointer;\n",
       "        }\n",
       "        #slider::-moz-range-thumb {\n",
       "          width: 25px;\n",
       "          height: 25px;\n",
       "          border-radius: 50%;\n",
       "          background: #4ca2af;\n",
       "          cursor: pointer;\n",
       "        }\n",
       "     </style>\n",
       "        <h1> Interactive Confusion Matrix </h1>\n",
       "        <h3 id=\"confidence_setting\"> Confidence: 0.5 </h3>\n",
       "        <input class=\"slider\" id=\"confidence_slider\" type=\"range\" min=\"0\" max=\"1\" step=\".1\" value=\".5\"/>\n",
       "        <h3 id=\"epoch_setting\"> Epoch: 1 </h3>\n",
       "        <input class=\"slider\" id=\"epoch_slider\" type=\"range\" min=\"1\" max=\"20\" step=\"1\" value=\"1\"/>\n",
       "        <table class=\"xaxis\">\n",
       "            <tr> </tr>\n",
       "        </table>\n",
       "        <div>\n",
       "        <div>\n",
       "            <div>\n",
       "                <table class=\"yaxis\">\n",
       "                    <tr> </tr>\n",
       "                </table>\n",
       "                <div id=\"matrix\"></div>\n",
       "                <div id=\"review\">\n",
       "                    Data For:\n",
       "                    <ul id = \"testList\"></ul>\n",
       "                </div>\n",
       "            </div>\n",
       "        </div>\n",
       "        <script> \n",
       "        /*--------------------------------------------------------------------------------\n",
       "        Function: extractTypes\n",
       "        Behavior: Identifies what different types each data point can be identified as based \n",
       "                  off of the 'true_label' attribute in JSON file.\n",
       "        Input: JSON file\n",
       "        Output: Returns array of possible values for 'Test Label'.\n",
       "        --------------------------------------------------------------------------------*/\n",
       "        function extractTypes(data){\n",
       "            var lookup = {};\n",
       "            var items = data;\n",
       "            var result = [];\n",
       "            for (var item, i=0; item = items[i++];){\n",
       "                var name = item['Test Label'];\n",
       "                if(!(name in lookup)){\n",
       "                    lookup[name] = 1;\n",
       "                    result.push(name);\n",
       "                }\n",
       "            }\n",
       "            return result.sort();\n",
       "        }\n",
       "\n",
       "        /*--------------------------------------------------------------------------------\n",
       "        Function: fetchDataWindowResults\n",
       "        Behavior: Fetches subset of 'd' variable to be displayed in 'Data' window\n",
       "        Input: 'd' variable, testLabel, predLabel, epoch, conf\n",
       "        Output: Subset of 'd' variable formatted the same as 'd'\n",
       "        --------------------------------------------------------------------------------*/\n",
       "        function fetchDataWindowResults(d, testLabel, predLabel, epoch, conf){\n",
       "            console.log(\"Visualization: Calling fetchDataWindowResults...\");\n",
       "            var fullDataSet = d;\n",
       "            var selectedTestLabel = testLabel;\n",
       "            var selectedPredictionLabel = predLabel;\n",
       "            var selectedEpoch = epoch;\n",
       "            var selectedConfMin = conf;\n",
       "            var selectedEntries = []\n",
       "            console.log(d);\n",
       "            console.log(\"Visualization: fetchDataWindowResults: for testLabel, predLabel, epoch, conf of: \", \n",
       "                testLabel, predLabel, epoch, conf);\n",
       "            for (const dataPoint of Object.entries(d)){\n",
       "                var currentPrediction = dataPoint[1]['Test Prediction'][epoch];\n",
       "                var currentTestLabel = dataPoint[1]['Test Label'];\n",
       "                var currentSentence = dataPoint[1]['Test Sentence'];\n",
       "                var currentConfScore = dataPoint[1]['Test Confidence Score'][epoch];\n",
       "                if (currentPrediction == selectedPredictionLabel &&\n",
       "                currentTestLabel == selectedTestLabel &&\n",
       "                currentConfScore > selectedConfMin){\n",
       "                    selectedEntries.push(dataPoint);\n",
       "                }\n",
       "            }\n",
       "            return selectedEntries;\n",
       "        }\n",
       "\n",
       "        /*--------------------------------------------------------------------------------\n",
       "        Function: addAxisLabels\n",
       "        Behavior: Adds x and y axis components to the DOM\n",
       "        Input: takes two string arrays, one for the x and one for the y axis\n",
       "        Output: Text labels should be placed next to div for matrix\n",
       "        --------------------------------------------------------------------------------*/\n",
       "        function addAxisLabels(){\n",
       "            var xaxis_labels = ['Setosa', 'Veriscolo', 'Virginica']\n",
       "            var yaxis_labels = ['Virginica', 'Veriscolo', 'Setosa']\n",
       "            console.log(xaxis_labels, yaxis_labels);\n",
       "            for(var i = 0; i < xaxis_labels.length; i++){\n",
       "                d3.select(\".xaxis\").selectAll(\"tr\").append(\"td\").text(xaxis_labels[i])\n",
       "                    .classed(\"xlabel\", true);\n",
       "            }\n",
       "            for(var i = 0; i < yaxis_labels.length; i++){\n",
       "                d3.select(\".yaxis\").selectAll(\"tr\").append(\"td\").text(yaxis_labels[i])\n",
       "                    .attr(\"height\", (750 / yaxis_labels.length)).classed(\"ylabel\", true);\n",
       "            }\n",
       "        }\n",
       "        addAxisLabels()                               // Calling function to add axis' to the DOM\n",
       "\n",
       "        /*--------------------------------------------------------------------------------\n",
       "        Function: fillMatrix\n",
       "        Behavior:\n",
       "        Input:\n",
       "        Output:\n",
       "        --------------------------------------------------------------------------------*/\n",
       "        function fillMatrix(){\n",
       "            /*--------------------------------------------------------------------------------\n",
       "            Format: d[trueLabel, predictedLabel, entryText, index, conf_scores]\n",
       "            --------------------------------------------------------------------------------*/\n",
       "            rect.attr(\"x\", function (d){\n",
       "                    var matrixnum = (parseInt(d[1][currentEpochSetting]) * tableDimension) + parseInt(d[0]);\n",
       "                    var inmatrixcol = counters[matrixnum] % blockStackDimension;\n",
       "                    counters[matrixnum]++;\n",
       "                    return (d[1][currentEpochSetting] * (cellDimension + marginBuffer)) + (inmatrixcol * (cubeDimension));\n",
       "                })\n",
       "                .attr(\"y\", function(d){\n",
       "                    var matrixnum = (parseInt(d[1][currentEpochSetting] * tableDimension) + parseInt(d[0]));\n",
       "                    var hm = Math.floor(ycounters[matrixnum]/blockStackDimension);\n",
       "                    ycounters[matrixnum]++;\n",
       "                    return (d[0] * (cellDimension + marginBuffer)) + (hm * (cubeDimension));\n",
       "                })\n",
       "                .attr(\"id\", function(d){\n",
       "                    return \"rect\" + d[3];\n",
       "                })\n",
       "                .attr(\"width\", function(d){\n",
       "                    return cubeDimension;\n",
       "                })\n",
       "                .attr(\"height\", function(d){\n",
       "                    return cubeDimension;\n",
       "                })\n",
       "                .attr(\"opacity\", function(d){\n",
       "                    return 1;\n",
       "                })\n",
       "                .attr(\"fill\", function(d){\n",
       "                    return (\"black\");\n",
       "                })\n",
       "                .attr(\"class\", function(d){\n",
       "                    predicted_label = \"predicted_label_\" + d[1][currentEpochSetting];\n",
       "                    true_label = \"true_label_\" + d[0];\n",
       "                    return true_label + \" \" + predicted_label;\n",
       "            });\n",
       "        }\n",
       "\n",
       "        /*--------------------------------------------------------------------------------\n",
       "        Function: clickedRect\n",
       "        Behavior:\n",
       "        Input:\n",
       "        Output:\n",
       "        --------------------------------------------------------------------------------*/\n",
       "        function clickedRect(d_on, d){\n",
       "            console.log(\"Actual: \", d_on[0], \"Predicted: \", d_on[1]);\n",
       "            var actual = d_on[0];\n",
       "            var prediction = d_on[1];\n",
       "            var selectedDataSet = fetchDataWindowResults(d, actual, prediction,\n",
       "                (currentEpochSetting - 1), currentConfSetting);\n",
       "\n",
       "            d3.selectAll('rect').style('fill', \"black\");\n",
       "            d3.selectAll('rect')\n",
       "                .filter(function(d) { \n",
       "                    if( d[0] == actual && d[1] == prediction)\n",
       "                        return 1;\n",
       "                    else\n",
       "                        return 0;\n",
       "                })\n",
       "                .style('fill', \"blue\");\n",
       "\n",
       "            // Updating the Label on the Chart\n",
       "            var data_section_title = \"Data for: Label (\" + d_on[0] + \") Prediction (\" + d_on[1] + \")\";\n",
       "            d3.select('#review').text(data_section_title);\n",
       "\n",
       "            // For some reason the above code deletes the ul\n",
       "            d3.select('#review').append(\"ul\").attr(\"id\", \"testList\")\n",
       "\n",
       "            d3.select(\"#testList\").selectAll(\"li\").remove();\n",
       "            for (var i = 0; i < selectedDataSet.length; i++){\n",
       "                var tableRowData = selectedDataSet[i][1];\n",
       "                // Label and Actual is no longer included since its shown on the box title\n",
       "                var dataPointString = \" Input Data: \" + tableRowData['Test Sentence'] +\n",
       "                \" Confidence Score: \" +  tableRowData['Test Confidence Score'][currentEpochSetting - 1];\n",
       "                d3.select(\"#testList\").append(\"li\").text(dataPointString).classed(\"dataPoint\", true);\n",
       "                \n",
       "            }\n",
       "        }\n",
       "\n",
       "        /*--------------------------------------------------------------------------------\n",
       "        Function: emptyMatrix\n",
       "        Behavior:\n",
       "        Input:\n",
       "        Output:\n",
       "        --------------------------------------------------------------------------------*/\n",
       "        function emptyMatrix(){\n",
       "            console.log(\"CALLEWD EMPTY\");\n",
       "            counters = new Array(tableDimension * tableDimension).fill(0);\n",
       "            ycounters = new Array(tableDimension * tableDimension).fill(0);\n",
       "            /*\n",
       "            cellDimension = h / tableDimension;\n",
       "            blockStackDimension = Math.round(Math.sqrt(totalItems)) + 1;\n",
       "            marginBuffer = 5;\n",
       "            cubeDimension = ((cellDimension - marginBuffer) / blockStackDimension);\n",
       "            */\n",
       "            svg.selectAll(\"*\").remove();\n",
       "        }\n",
       "\n",
       "        /*--------------------------------------------------------------------------------\n",
       "        Function: refineChoice\n",
       "        Behavior:\n",
       "        Input:\n",
       "        Output:\n",
       "        --------------------------------------------------------------------------------*/\n",
       "        function refineChoice(){\n",
       "            console.log(\"Debugging: dataset filter:\", dataset);\n",
       "            var filterEpoch = currentEpochSetting;\n",
       "            var filterConf = currentConfSetting;\n",
       "            \n",
       "            for( var i = 0; i < dataset.length; i++ ){\n",
       "                datapoint = dataset[i];\n",
       "                // datapoint[1]\n",
       "                if( i < 10 ) {\n",
       "                    console.log(dataset[i]);\n",
       "                }\n",
       "                \n",
       "            }\n",
       "        }\n",
       "\n",
       "        /*--------------------------------------------------------------------------------\n",
       "        GLOBAL VARIABLES: DECLARATIONS\n",
       "        --------------------------------------------------------------------------------*/\n",
       "        console.log(\"Visualization: Running JavaScript...\");\n",
       "        var dname = \"libraries/predict_nn.json\";              // Path to local JSON file storing data\n",
       "        var currentConfSetting = .5;                  // Set confidence score minimum to default\n",
       "        var currentEpochSetting = 1;                  // Set epoch setting to default\n",
       "        var lastEpochIndex = 0;                       // Max value that epoch slider can reach\n",
       "        var totalItems = null;                        // Total number of boxes that should appear\n",
       "        var possibleOutputValues = null;              // Possible values that predictions may produce\n",
       "        var tableDimension = null;                    // Dimensions of table (square so x and y are same)\n",
       "        var dataset = []                              // JSON is read into this array\n",
       "        var datasubset = []                           // Selected values from dataset\n",
       "        var table = null;                             // Reference for how many boxes should be in each matrix cell\n",
       "        var svg = null;                               // SVG graphic\n",
       "        var rect = null;                              // Rectangles which are put into above graphic\n",
       "        var w = 750;                                  // Width of matrix\n",
       "        var h = 750;                                  // Height of matrix\n",
       "        \n",
       "        var counters = null;\n",
       "        var ycounters = null;\n",
       "        var cellDimension = null;\n",
       "        var blockStackDimension = null;\n",
       "        var marginBuffer = null;\n",
       "        var cubeDimension = null;\n",
       "\n",
       "        /*--------------------------------------------------------------------------------\n",
       "        Creating Visualization / Main\n",
       "        --------------------------------------------------------------------------------*/\n",
       "        d3.json( \"libraries/predict_nn.json\", function(d) {\n",
       "            /*--------------------------------------------------------------------------------\n",
       "            GLOBAL VARIABLES: DEFINITIONS\n",
       "            --------------------------------------------------------------------------------*/\n",
       "            console.log(\"Visualization: Reading JSON file(\", dname, \")...\");\n",
       "            totalItems = Object.keys(d).length                                                             // Defining totalItems\n",
       "            console.log(\"Visualization: totalItems: \", totalItems);\n",
       "            possibleOutputValues = extractTypes(d);                                                        // Defining possibleOutputValues\n",
       "            console.log(\"Visualization: possibleOutputValues: \", possibleOutputValues);\n",
       "            tableDimension = possibleOutputValues.length;                                                  // Defining tableDimension\n",
       "            console.log(\"Visualization: tableDimension: \", tableDimension);\n",
       "            table = new Array(tableDimension);                                                             // Initializing table\n",
       "            for(var i=0; i<tableDimension; i++){\n",
       "                table[i] = new Array(tableDimension);\n",
       "                for(var j=0; j<tableDimension; j++){\n",
       "                    table[i][j] = 0;\n",
       "                }\n",
       "            }\n",
       "            lastEpochIndex = d[0]['Num Epochs']                                                            // Defining lastEpochIndex\n",
       "            d3.select(\"#epoch_slider\").attr(\"max\", lastEpochIndex);                                        // Embedding lastEpochIndex\n",
       "            console.log(\"Visualization: lastEpochIndex: \", lastEpochIndex);\n",
       "            for(var jsonEntry, i=0; jsonEntry = d[i++];){                                                  // Storing JSON data in memory\n",
       "                var index = i;\n",
       "                var entryText = jsonEntry[\"Test Sentence\"];\n",
       "                var confidenceScore = jsonEntry[\"Test Confidence Score\"];\n",
       "                var trueLabel = jsonEntry[\"Test Label\"];\n",
       "                var predictedLabel = jsonEntry[\"Test Prediction\"];\n",
       "                var tableXCoordinate = possibleOutputValues.indexOf(predictedLabel[currentEpochSetting-1]); //Predicted\n",
       "                var tableYCoordinate = possibleOutputValues.indexOf(trueLabel); // Actual\n",
       "                table[tableXCoordinate][tableYCoordinate]+=1;\n",
       "                dataset.push([trueLabel, predictedLabel, entryText, index, confidenceScore]);\n",
       "            }\n",
       "            console.log(\"Visualization: table: \", table);\n",
       "            console.log(\"Visualization: dataset: \", dataset);\n",
       "            svg = d3.select(\"body\")                                                                        // Defining svg\n",
       "                        .select(\"#matrix\")\n",
       "                        .append(\"svg\")\n",
       "                        .attr(\"width\", w)\n",
       "                        .attr(\"height\", h);\n",
       "            console.log(\"Visualization: svg: \", svg);\n",
       "            rect = svg.selectAll(\"rect\")                                                                   // Defining rect\n",
       "                          .data(dataset)\n",
       "                          .enter()\n",
       "                          .append(\"rect\");\n",
       "            console.log(\"Visualization: rect: \", rect);\n",
       "\n",
       "            \n",
       "            /*--------------------------------------------------------------------------------\n",
       "            Defining variables for drawing matrix\n",
       "            --------------------------------------------------------------------------------*/\n",
       "            counters = new Array(tableDimension * tableDimension).fill(0);\n",
       "            ycounters = new Array(tableDimension * tableDimension).fill(0);\n",
       "            cellDimension = h / tableDimension;\n",
       "            blockStackDimension = Math.round(Math.sqrt(totalItems)) + 1;\n",
       "            marginBuffer = 5;\n",
       "            cubeDimension = ((cellDimension - marginBuffer) / blockStackDimension);\n",
       "\n",
       "            // refineChoice();\n",
       "            fillMatrix();\n",
       "\n",
       "            \n",
       "            rect.on(\"click\",function(d_on){ clickedRect(d_on, d) });\n",
       "        });\n",
       " \n",
       "        /*--------------------------------------------------------------------------------\n",
       "        Function: Slider Re-Draw\n",
       "        Behavior: This d3 code will redraw each time there is a change in the slider.\n",
       "        Input: None\n",
       "        Output: Visualization should be redrawn\n",
       "        --------------------------------------------------------------------------------*/\n",
       "        d3.selectAll(\".slider\").on(\"change\", function() {\n",
       "            // d3.select(\"svg\").remove();\n",
       "\n",
       "            if(this.id == \"confidence_slider\"){\n",
       "                currentConfSetting = this.value;\n",
       "            }\n",
       "            if(this.id == \"epoch_slider\"){\n",
       "                currentEpochSetting = this.value;\n",
       "            }\n",
       "\n",
       "            d3.select(\"#confidence_setting\").text(\"Confidence: \" + currentConfSetting);\n",
       "            d3.select(\"#epoch_setting\").text(\"Epoch: \" + currentEpochSetting);\n",
       "            console.log(\"Visualization: Confidence set to (\", currentConfSetting,\n",
       "                        \") Epoch set to (\", currentEpochSetting, \")\");\n",
       "\n",
       "            emptyMatrix();\n",
       "            fillMatrix();\n",
       "\n",
       "            /*\n",
       "            d3.json(\"libraries/predict_nn.json\", function(d) {\n",
       "\n",
       "\n",
       "                emptyMatrix();\n",
       "                console.log(\"from inside\");\n",
       "                // fillMatrix();\n",
       "\n",
       "                rect.on(\"click\",function(d_on){ clickedRect(d_on, d) });\n",
       "            });\n",
       "            */\n",
       "        })\n",
       "        \n",
       "     </script>\n",
       "        "
      ],
      "text/plain": [
       "<IPython.core.display.HTML object>"
      ]
     },
     "metadata": {},
     "output_type": "display_data"
    }
   ],
   "source": [
    "cm = mlvs.ConfusionMatrix(full_path, x_labels=[\"Setosa\", \"Veriscolo\", \"Virginica\"], y_labels=[\"Virginica\", \"Veriscolo\", \"Setosa\"])\n",
    "cm.display()"
   ]
  },
  {
   "cell_type": "code",
   "execution_count": null,
   "metadata": {},
   "outputs": [],
   "source": []
  },
  {
   "cell_type": "code",
   "execution_count": null,
   "metadata": {},
   "outputs": [],
   "source": []
  }
 ],
 "metadata": {
  "colab": {
   "collapsed_sections": [],
   "name": "nn.ipynb",
   "provenance": []
  },
  "kernelspec": {
   "display_name": "Python 3",
   "language": "python",
   "name": "python3"
  },
  "language_info": {
   "codemirror_mode": {
    "name": "ipython",
    "version": 3
   },
   "file_extension": ".py",
   "mimetype": "text/x-python",
   "name": "python",
   "nbconvert_exporter": "python",
   "pygments_lexer": "ipython3",
   "version": "3.9.4"
  }
 },
 "nbformat": 4,
 "nbformat_minor": 1
}
