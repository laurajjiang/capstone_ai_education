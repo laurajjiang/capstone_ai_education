{
 "cells": [
  {
   "source": [
    "# Creating a Neural Network for Classification \n",
    "\n",
    "In this notebook, we'll learn how to create a neural network for multi-categorical classification using the Iris dataset. This is the same dataset that was explored in the Logistic Regression notebook, but now using an entirely different models. The ideas are the same, however, so if you'd like extra support refer back to the Logistic Regression notebook where concepts like loss and optimization are broken down a bit more.\n"
   ],
   "cell_type": "markdown",
   "metadata": {}
  },
  {
   "source": [
    "We'll start off by importing some libraries that will be helpful for us to build out our model. `sklearn` (scikitlearn) is another helpful machine learning-related library, and will be where we get the Iris dataset from."
   ],
   "cell_type": "markdown",
   "metadata": {}
  },
  {
   "cell_type": "code",
   "execution_count": 6,
   "metadata": {
    "id": "LEVo4pdsKkNb"
   },
   "outputs": [
    {
     "output_type": "error",
     "ename": "ModuleNotFoundError",
     "evalue": "No module named 'tensorflow'",
     "traceback": [
      "\u001b[0;31m---------------------------------------------------------------------------\u001b[0m",
      "\u001b[0;31mModuleNotFoundError\u001b[0m                       Traceback (most recent call last)",
      "\u001b[0;32m<ipython-input-6-4f4e29896b60>\u001b[0m in \u001b[0;36m<module>\u001b[0;34m\u001b[0m\n\u001b[1;32m      4\u001b[0m \u001b[0;32mimport\u001b[0m \u001b[0mmatplotlib\u001b[0m\u001b[0;34m.\u001b[0m\u001b[0mpyplot\u001b[0m \u001b[0;32mas\u001b[0m \u001b[0mplt\u001b[0m\u001b[0;34m\u001b[0m\u001b[0;34m\u001b[0m\u001b[0m\n\u001b[1;32m      5\u001b[0m \u001b[0;32mimport\u001b[0m \u001b[0mpandas\u001b[0m \u001b[0;32mas\u001b[0m \u001b[0mpd\u001b[0m\u001b[0;34m\u001b[0m\u001b[0;34m\u001b[0m\u001b[0m\n\u001b[0;32m----> 6\u001b[0;31m \u001b[0;32mimport\u001b[0m \u001b[0mtensorflow\u001b[0m \u001b[0;32mas\u001b[0m \u001b[0mtf\u001b[0m\u001b[0;34m\u001b[0m\u001b[0;34m\u001b[0m\u001b[0m\n\u001b[0m\u001b[1;32m      7\u001b[0m \u001b[0;32mimport\u001b[0m \u001b[0mjson\u001b[0m\u001b[0;34m\u001b[0m\u001b[0;34m\u001b[0m\u001b[0m\n\u001b[1;32m      8\u001b[0m \u001b[0;32mimport\u001b[0m \u001b[0mos\u001b[0m\u001b[0;34m\u001b[0m\u001b[0;34m\u001b[0m\u001b[0m\n",
      "\u001b[0;31mModuleNotFoundError\u001b[0m: No module named 'tensorflow'"
     ]
    }
   ],
   "source": [
    "from sklearn import datasets\n",
    "from sklearn.preprocessing import OneHotEncoder\n",
    "import numpy as np \n",
    "import matplotlib.pyplot as plt \n",
    "import pandas as pd\n",
    "import tensorflow as tf\n",
    "import json\n",
    "import os\n",
    "import sys"
   ]
  },
  {
   "cell_type": "markdown",
   "id": "better-transaction",
   "metadata": {
    "id": "iAsKG535pHep"
   },
   "source": [
    "## Load the dataset\n",
    "\n",
    "The Iris flower dataset is available on the [Keras dataset API](https://scikit-learn.org/stable/modules/generated/sklearn.datasets.load_iris.html) if you'd like to see the raw HTML.\n",
    "\n",
    "The following code loads the Iris dataset onto this notebook. We'll peek at what this dataset looks like."
   ]
  },
  {
   "cell_type": "code",
   "execution_count": 8,
   "metadata": {
    "colab": {
     "base_uri": "https://localhost:8080/"
    },
    "id": "Tnms8RR7KkaF",
    "outputId": "b42a1b41-0df6-4163-c016-a9e7542f1b2f"
   },
   "outputs": [
    {
     "output_type": "execute_result",
     "data": {
      "text/plain": [
       "   sepal length (cm)  sepal width (cm)  petal length (cm)  petal width (cm)  \\\n",
       "0                5.1               3.5                1.4               0.2   \n",
       "1                4.9               3.0                1.4               0.2   \n",
       "2                4.7               3.2                1.3               0.2   \n",
       "3                4.6               3.1                1.5               0.2   \n",
       "4                5.0               3.6                1.4               0.2   \n",
       "\n",
       "   target  \n",
       "0       0  \n",
       "1       0  \n",
       "2       0  \n",
       "3       0  \n",
       "4       0  "
      ],
      "text/html": "<div>\n<style scoped>\n    .dataframe tbody tr th:only-of-type {\n        vertical-align: middle;\n    }\n\n    .dataframe tbody tr th {\n        vertical-align: top;\n    }\n\n    .dataframe thead th {\n        text-align: right;\n    }\n</style>\n<table border=\"1\" class=\"dataframe\">\n  <thead>\n    <tr style=\"text-align: right;\">\n      <th></th>\n      <th>sepal length (cm)</th>\n      <th>sepal width (cm)</th>\n      <th>petal length (cm)</th>\n      <th>petal width (cm)</th>\n      <th>target</th>\n    </tr>\n  </thead>\n  <tbody>\n    <tr>\n      <th>0</th>\n      <td>5.1</td>\n      <td>3.5</td>\n      <td>1.4</td>\n      <td>0.2</td>\n      <td>0</td>\n    </tr>\n    <tr>\n      <th>1</th>\n      <td>4.9</td>\n      <td>3.0</td>\n      <td>1.4</td>\n      <td>0.2</td>\n      <td>0</td>\n    </tr>\n    <tr>\n      <th>2</th>\n      <td>4.7</td>\n      <td>3.2</td>\n      <td>1.3</td>\n      <td>0.2</td>\n      <td>0</td>\n    </tr>\n    <tr>\n      <th>3</th>\n      <td>4.6</td>\n      <td>3.1</td>\n      <td>1.5</td>\n      <td>0.2</td>\n      <td>0</td>\n    </tr>\n    <tr>\n      <th>4</th>\n      <td>5.0</td>\n      <td>3.6</td>\n      <td>1.4</td>\n      <td>0.2</td>\n      <td>0</td>\n    </tr>\n  </tbody>\n</table>\n</div>"
     },
     "metadata": {},
     "execution_count": 8
    }
   ],
   "source": [
    "iris = datasets.load_iris()\n",
    "iris = pd.DataFrame(data= np.c_[iris['data'], iris['target']],\n",
    "                     columns= iris['feature_names'] + ['target'])\n",
    "iris = iris.astype({\"target\": int })\n",
    "\n",
    "iris.head()"
   ]
  },
  {
   "cell_type": "markdown",
   "id": "found-premiere",
   "metadata": {
    "id": "l50X3GfjpU4r"
   },
   "source": [
    "## Explore the data \n",
    "\n",
    "Let's take a moment to understand the format of the data. Each data contains sepal length, sepal width, petal length, petal width and a corresponding species label. The label is an integer value of either 0, 1, or 2 where 0 is a `Iris-setosa`, 1 is a `Iris-versicolo`, and 2 is a `Iris-virginica.`"
   ]
  },
  {
   "cell_type": "code",
   "execution_count": 5,
   "metadata": {
    "colab": {
     "base_uri": "https://localhost:8080/",
     "height": 299
    },
    "id": "_tVdpyFQKkd3",
    "outputId": "0c4b678a-f1c0-4af5-80df-e7dbe98507e6"
   },
   "outputs": [
    {
     "data": {
      "text/plain": [
       "<matplotlib.legend.Legend at 0x1a2cf6229a0>"
      ]
     },
     "execution_count": 5,
     "metadata": {},
     "output_type": "execute_result"
    },
    {
     "data": {
      "image/png": "[encoded data removed]",
      "text/plain": [
       "<Figure size 432x288 with 1 Axes>"
      ]
     },
     "metadata": {
      "needs_background": "light"
     },
     "output_type": "display_data"
    }
   ],
   "source": [
    "plt.scatter(iris['sepal length (cm)'][:50], iris['sepal width (cm)'][:50], label='Iris-setosa')\n",
    "plt.scatter(iris['sepal length (cm)'][51:], iris['sepal width (cm)'][51:], label='Iris-versicolo')\n",
    "plt.scatter(iris['sepal length (cm)'][101:], iris['sepal width (cm)'][101:], label='Iris-virginica')\n",
    "plt.xlabel('sepal length (cm)')\n",
    "plt.ylabel('sepal width (cm)')\n",
    "plt.legend(loc='best')"
   ]
  },
  {
   "source": [
    "The following two code blocks help us set up our data to use as input into our neural network model. You can refer back to the Logistic Regression notebook for an explanation on encoding our data."
   ],
   "cell_type": "markdown",
   "metadata": {}
  },
  {
   "cell_type": "code",
   "execution_count": 4,
   "metadata": {
    "id": "CzpqD0zXVKIT"
   },
   "outputs": [],
   "source": [
    "x = iris.drop(labels=['target'], axis=1).values\n",
    "y_ = iris['target'].values.reshape(-1, 1)\n",
    "encoder = OneHotEncoder(sparse=False)\n",
    "y = encoder.fit_transform(y_)"
   ]
  },
  {
   "source": [
    "Here, we're splitting the whole Iris dataset into a training set and a test set. The training set is a bit smaller than our test set, containing 20% of the original dataset while the other 80% will be used in testing our model. \n",
    "\n",
    "Feel free to change these values and see how the accuracy and loss of our model changes later down the road."
   ],
   "cell_type": "markdown",
   "metadata": {}
  },
  {
   "cell_type": "code",
   "execution_count": 6,
   "metadata": {
    "id": "iAldyTxES7jR"
   },
   "outputs": [],
   "source": [
    "from sklearn.model_selection import train_test_split\n",
    "from sklearn.utils import shuffle \n",
    "\n",
    "x, y = shuffle(x, y)\n",
    "train_x, test_x, train_y, test_y = train_test_split(x, y, test_size=0.8)"
   ]
  },
  {
   "source": [
    "## Building our neural network \n",
    "\n",
    "Finally, we can start to build a simple neural network. We'll use Tensorflow Keras to build our model. \n",
    "\n",
    "Overall, we have 4 layers to our neural network. The first layer is the input layer that we've named aptly. The activation function is the ReLU (Rectified Linear Unit) function, which is commonly used for neural networks. The input shape is `(4,),` representing the four features (sepal length, sepal width, petal length, petal width) we're interested in looking at to classify which Iris category the current array represents. \n",
    "\n",
    "Next, we have two \"hidden layers,\" or two layers sandwiched between our input and output layer. They also have a ReLU activation function. These hidden layers help the neural network break down the incoming data into unique parts to help the whole neural network better understand how to classify the piece of data. \n",
    "\n",
    "Lastly, we have the output layer. There are three nodes in our output layer, alongside a new activation function (`softmax`). `Softmax` helps to normalize our output probability in the 0-1 range so we can understand the output of our function better. Because we are using `softmax,` we need one node per category label. "
   ],
   "cell_type": "markdown",
   "metadata": {}
  },
  {
   "cell_type": "code",
   "execution_count": 7,
   "metadata": {
    "colab": {
     "base_uri": "https://localhost:8080/"
    },
    "id": "gG8mdEugMrMm",
    "outputId": "c9dca994-48c4-4e5b-afb7-2baa17d76c15"
   },
   "outputs": [
    {
     "name": "stdout",
     "output_type": "stream",
     "text": [
      "Model: \"sequential\"\n",
      "_________________________________________________________________\n",
      "Layer (type)                 Output Shape              Param #   \n",
      "=================================================================\n",
      "input (Dense)                (None, 10)                50        \n",
      "_________________________________________________________________\n",
      "hidden-1 (Dense)             (None, 10)                110       \n",
      "_________________________________________________________________\n",
      "hidden-2 (Dense)             (None, 10)                110       \n",
      "_________________________________________________________________\n",
      "output (Dense)               (None, 3)                 33        \n",
      "=================================================================\n",
      "Total params: 303\n",
      "Trainable params: 303\n",
      "Non-trainable params: 0\n",
      "_________________________________________________________________\n",
      "None\n"
     ]
    }
   ],
   "source": [
    "model = tf.keras.Sequential([\n",
    "  tf.keras.layers.Dense(10, activation=tf.nn.relu, input_shape=(4,), name='input'),  # input shape required\n",
    "  tf.keras.layers.Dense(10, activation=tf.nn.relu, name='hidden-1'),\n",
    "  tf.keras.layers.Dense(10, activation=tf.nn.relu, name='hidden-2'),\n",
    "  tf.keras.layers.Dense(3, activation='softmax', name='output')\n",
    "])\n",
    "\n",
    "print(model.summary())"
   ]
  },
  {
   "source": [
    "We can see what the output of our hidden layers looks like. The whole `predictions` array holds an array of vectors, where each vector is the hidden layers' probability calculations. The index of the array (0, 1, or 2) represents the calculated probability that the inputted data corresponds to that category of Iris, where 0 is a `Iris-setosa`, 1 is a `Iris-versicolo`, and 2 is a `Iris-virginica.`"
   ],
   "cell_type": "markdown",
   "metadata": {}
  },
  {
   "cell_type": "code",
   "execution_count": 8,
   "metadata": {
    "colab": {
     "base_uri": "https://localhost:8080/"
    },
    "id": "pe0MwRUiVukG",
    "outputId": "c9dead44-cf29-4720-a63c-7f7413da2221",
    "scrolled": true
   },
   "outputs": [
    {
     "data": {
      "text/plain": [
       "<tf.Tensor: shape=(5, 3), dtype=float32, numpy=\n",
       "array([[0.265216  , 0.24151523, 0.4932688 ],\n",
       "       [0.25755143, 0.23534136, 0.50710726],\n",
       "       [0.31570503, 0.2655454 , 0.41874954],\n",
       "       [0.2752816 , 0.2490699 , 0.47564843],\n",
       "       [0.2801358 , 0.25202224, 0.46784198]], dtype=float32)>"
      ]
     },
     "execution_count": 8,
     "metadata": {},
     "output_type": "execute_result"
    }
   ],
   "source": [
    "# hidden layer vector\n",
    "\n",
    "predictions = model(x)\n",
    "tf.nn.softmax(predictions[:5])"
   ]
  },
  {
   "cell_type": "markdown",
   "id": "sustained-desert",
   "metadata": {},
   "source": [
    "## Train the model\n",
    "\n",
    "The next step is to train our model. We'll use a built-in optimizer to optimize our model with stochastic gradient descent (SGD), updating the parameters in our neural network through backpropogation. Backpropogation is essentially seeing our neural network reacts to changing the weights and biases within our model. Understanding the math behind backpropogation is more math-heavy, so we won't cover it too in-depth here. Refer to the site for more detail. \n",
    "\n",
    "We've also chosen to use a built-in a loss function (categorical cross-entropy loss). Cross-entropy loss, shown in the Logisitic Regression notebook, is used for binary classification while categorical cross-entropy loss is for multi-categorical classification such as this iris problem (we have three different classes). \n",
    "\n",
    "Feel free to play around with different optimizers and loss functions. You can find the full documentation on the Tensorflow site: [optimizers](https://www.tensorflow.org/api_docs/python/tf/keras/optimizers) and [loss functions](https://www.tensorflow.org/api_docs/python/tf/keras/losses)."
   ]
  },
  {
   "cell_type": "code",
   "execution_count": 9,
   "metadata": {
    "colab": {
     "base_uri": "https://localhost:8080/"
    },
    "id": "r1aeXZD8MrbA",
    "outputId": "7c70bcca-d816-47c0-d706-0b8cd392bf8a"
   },
   "outputs": [
    {
     "name": "stdout",
     "output_type": "stream",
     "text": [
      "Epoch 1/200\n",
      "1/1 [==============================] - 3s 3s/step - loss: 1.3616 - accuracy: 0.3810 - val_loss: 1.3850 - val_accuracy: 0.2222\n",
      "Epoch 2/200\n",
      "1/1 [==============================] - 0s 61ms/step - loss: 1.2207 - accuracy: 0.3810 - val_loss: 1.2874 - val_accuracy: 0.2222\n",
      "Epoch 3/200\n",
      "1/1 [==============================] - 0s 53ms/step - loss: 1.1369 - accuracy: 0.3810 - val_loss: 1.2281 - val_accuracy: 0.2222\n",
      "Epoch 4/200\n",
      "1/1 [==============================] - 0s 51ms/step - loss: 1.0900 - accuracy: 0.3810 - val_loss: 1.1920 - val_accuracy: 0.2222\n",
      "Epoch 5/200\n",
      "1/1 [==============================] - 0s 50ms/step - loss: 1.0613 - accuracy: 0.3810 - val_loss: 1.1718 - val_accuracy: 0.2222\n",
      "Epoch 6/200\n",
      "1/1 [==============================] - 0s 47ms/step - loss: 1.0386 - accuracy: 0.3810 - val_loss: 1.1479 - val_accuracy: 0.2222\n",
      "Epoch 7/200\n",
      "1/1 [==============================] - 0s 49ms/step - loss: 1.0185 - accuracy: 0.3810 - val_loss: 1.1308 - val_accuracy: 0.2222\n",
      "Epoch 8/200\n",
      "1/1 [==============================] - 0s 47ms/step - loss: 1.0009 - accuracy: 0.3810 - val_loss: 1.1192 - val_accuracy: 0.2222\n",
      "Epoch 9/200\n",
      "1/1 [==============================] - 0s 48ms/step - loss: 0.9866 - accuracy: 0.3810 - val_loss: 1.1028 - val_accuracy: 0.2222\n",
      "Epoch 10/200\n",
      "1/1 [==============================] - 0s 46ms/step - loss: 0.9748 - accuracy: 0.3810 - val_loss: 1.0968 - val_accuracy: 0.2222\n",
      "Epoch 11/200\n",
      "1/1 [==============================] - 0s 48ms/step - loss: 0.9651 - accuracy: 0.3810 - val_loss: 1.0827 - val_accuracy: 0.2222\n",
      "Epoch 12/200\n",
      "1/1 [==============================] - 0s 47ms/step - loss: 0.9567 - accuracy: 0.3810 - val_loss: 1.0801 - val_accuracy: 0.2222\n",
      "Epoch 13/200\n",
      "1/1 [==============================] - 0s 45ms/step - loss: 0.9494 - accuracy: 0.3810 - val_loss: 1.0710 - val_accuracy: 0.2222\n",
      "Epoch 14/200\n",
      "1/1 [==============================] - 0s 63ms/step - loss: 0.9425 - accuracy: 0.3810 - val_loss: 1.0616 - val_accuracy: 0.2222\n",
      "Epoch 15/200\n",
      "1/1 [==============================] - 0s 52ms/step - loss: 0.9368 - accuracy: 0.3810 - val_loss: 1.0586 - val_accuracy: 0.2222\n",
      "Epoch 16/200\n",
      "1/1 [==============================] - 0s 48ms/step - loss: 0.9312 - accuracy: 0.3810 - val_loss: 1.0500 - val_accuracy: 0.2222\n",
      "Epoch 17/200\n",
      "1/1 [==============================] - 0s 45ms/step - loss: 0.9256 - accuracy: 0.3810 - val_loss: 1.0437 - val_accuracy: 0.2222\n",
      "Epoch 18/200\n",
      "1/1 [==============================] - 0s 47ms/step - loss: 0.9203 - accuracy: 0.3810 - val_loss: 1.0357 - val_accuracy: 0.2222\n",
      "Epoch 19/200\n",
      "1/1 [==============================] - 0s 50ms/step - loss: 0.9154 - accuracy: 0.3810 - val_loss: 1.0328 - val_accuracy: 0.2222\n",
      "Epoch 20/200\n",
      "1/1 [==============================] - 0s 75ms/step - loss: 0.9101 - accuracy: 0.3810 - val_loss: 1.0271 - val_accuracy: 0.2222\n",
      "Epoch 21/200\n",
      "1/1 [==============================] - 0s 69ms/step - loss: 0.9052 - accuracy: 0.3810 - val_loss: 1.0233 - val_accuracy: 0.2222\n",
      "Epoch 22/200\n",
      "1/1 [==============================] - 0s 63ms/step - loss: 0.9006 - accuracy: 0.3810 - val_loss: 1.0198 - val_accuracy: 0.2222\n",
      "Epoch 23/200\n",
      "1/1 [==============================] - 0s 63ms/step - loss: 0.8961 - accuracy: 0.3810 - val_loss: 1.0174 - val_accuracy: 0.2222\n",
      "Epoch 24/200\n",
      "1/1 [==============================] - 0s 71ms/step - loss: 0.8917 - accuracy: 0.3810 - val_loss: 1.0152 - val_accuracy: 0.2222\n",
      "Epoch 25/200\n",
      "1/1 [==============================] - 0s 50ms/step - loss: 0.8874 - accuracy: 0.3810 - val_loss: 1.0120 - val_accuracy: 0.2222\n",
      "Epoch 26/200\n",
      "1/1 [==============================] - 0s 51ms/step - loss: 0.8833 - accuracy: 0.3810 - val_loss: 1.0079 - val_accuracy: 0.2222\n",
      "Epoch 27/200\n",
      "1/1 [==============================] - 0s 55ms/step - loss: 0.8795 - accuracy: 0.3810 - val_loss: 1.0040 - val_accuracy: 0.2222\n",
      "Epoch 28/200\n",
      "1/1 [==============================] - 0s 63ms/step - loss: 0.8756 - accuracy: 0.3810 - val_loss: 0.9997 - val_accuracy: 0.2222\n",
      "Epoch 29/200\n",
      "1/1 [==============================] - 0s 63ms/step - loss: 0.8717 - accuracy: 0.3810 - val_loss: 0.9958 - val_accuracy: 0.2222\n",
      "Epoch 30/200\n",
      "1/1 [==============================] - 0s 56ms/step - loss: 0.8679 - accuracy: 0.3810 - val_loss: 0.9924 - val_accuracy: 0.2222\n",
      "Epoch 31/200\n",
      "1/1 [==============================] - 0s 63ms/step - loss: 0.8642 - accuracy: 0.3810 - val_loss: 0.9892 - val_accuracy: 0.2222\n",
      "Epoch 32/200\n",
      "1/1 [==============================] - 0s 58ms/step - loss: 0.8606 - accuracy: 0.4762 - val_loss: 0.9861 - val_accuracy: 0.2222\n",
      "Epoch 33/200\n",
      "1/1 [==============================] - 0s 50ms/step - loss: 0.8570 - accuracy: 0.4762 - val_loss: 0.9839 - val_accuracy: 0.2222\n",
      "Epoch 34/200\n",
      "1/1 [==============================] - 0s 74ms/step - loss: 0.8536 - accuracy: 0.4762 - val_loss: 0.9810 - val_accuracy: 0.2222\n",
      "Epoch 35/200\n",
      "1/1 [==============================] - ETA: 0s - loss: 0.8503 - accuracy: 0.52 - 0s 54ms/step - loss: 0.8503 - accuracy: 0.5238 - val_loss: 0.9789 - val_accuracy: 0.2222\n",
      "Epoch 36/200\n",
      "1/1 [==============================] - 0s 59ms/step - loss: 0.8470 - accuracy: 0.5238 - val_loss: 0.9762 - val_accuracy: 0.2222\n",
      "Epoch 37/200\n",
      "1/1 [==============================] - 0s 59ms/step - loss: 0.8442 - accuracy: 0.5238 - val_loss: 0.9733 - val_accuracy: 0.2222\n",
      "Epoch 38/200\n",
      "1/1 [==============================] - 0s 50ms/step - loss: 0.8414 - accuracy: 0.5238 - val_loss: 0.9699 - val_accuracy: 0.2222\n",
      "Epoch 39/200\n",
      "1/1 [==============================] - 0s 50ms/step - loss: 0.8388 - accuracy: 0.5238 - val_loss: 0.9676 - val_accuracy: 0.2222\n",
      "Epoch 40/200\n",
      "1/1 [==============================] - 0s 54ms/step - loss: 0.8362 - accuracy: 0.5238 - val_loss: 0.9646 - val_accuracy: 0.2222\n",
      "Epoch 41/200\n",
      "1/1 [==============================] - 0s 48ms/step - loss: 0.8337 - accuracy: 0.5238 - val_loss: 0.9624 - val_accuracy: 0.2222\n",
      "Epoch 42/200\n",
      "1/1 [==============================] - 0s 53ms/step - loss: 0.8312 - accuracy: 0.5238 - val_loss: 0.9597 - val_accuracy: 0.2222\n",
      "Epoch 43/200\n",
      "1/1 [==============================] - 0s 52ms/step - loss: 0.8288 - accuracy: 0.5238 - val_loss: 0.9585 - val_accuracy: 0.2222\n",
      "Epoch 44/200\n",
      "1/1 [==============================] - 0s 53ms/step - loss: 0.8266 - accuracy: 0.5238 - val_loss: 0.9540 - val_accuracy: 0.2222\n",
      "Epoch 45/200\n",
      "1/1 [==============================] - 0s 49ms/step - loss: 0.8243 - accuracy: 0.5238 - val_loss: 0.9528 - val_accuracy: 0.2222\n",
      "Epoch 46/200\n",
      "1/1 [==============================] - 0s 54ms/step - loss: 0.8219 - accuracy: 0.5238 - val_loss: 0.9493 - val_accuracy: 0.2222\n",
      "Epoch 47/200\n",
      "1/1 [==============================] - 0s 51ms/step - loss: 0.8198 - accuracy: 0.5714 - val_loss: 0.9475 - val_accuracy: 0.2222\n",
      "Epoch 48/200\n",
      "1/1 [==============================] - 0s 55ms/step - loss: 0.8177 - accuracy: 0.5714 - val_loss: 0.9448 - val_accuracy: 0.2222\n",
      "Epoch 49/200\n",
      "1/1 [==============================] - 0s 56ms/step - loss: 0.8156 - accuracy: 0.5714 - val_loss: 0.9435 - val_accuracy: 0.2222\n",
      "Epoch 50/200\n",
      "1/1 [==============================] - 0s 65ms/step - loss: 0.8134 - accuracy: 0.5714 - val_loss: 0.9394 - val_accuracy: 0.2222\n",
      "Epoch 51/200\n",
      "1/1 [==============================] - 0s 59ms/step - loss: 0.8113 - accuracy: 0.7143 - val_loss: 0.9383 - val_accuracy: 0.2222\n",
      "Epoch 52/200\n",
      "1/1 [==============================] - 0s 51ms/step - loss: 0.8091 - accuracy: 0.6190 - val_loss: 0.9365 - val_accuracy: 0.2222\n",
      "Epoch 53/200\n",
      "1/1 [==============================] - 0s 59ms/step - loss: 0.8071 - accuracy: 0.6190 - val_loss: 0.9349 - val_accuracy: 0.4444\n",
      "Epoch 54/200\n",
      "1/1 [==============================] - 0s 54ms/step - loss: 0.8052 - accuracy: 0.6190 - val_loss: 0.9327 - val_accuracy: 0.5556\n",
      "Epoch 55/200\n",
      "1/1 [==============================] - 0s 50ms/step - loss: 0.8034 - accuracy: 0.6667 - val_loss: 0.9311 - val_accuracy: 0.5556\n",
      "Epoch 56/200\n",
      "1/1 [==============================] - 0s 45ms/step - loss: 0.8015 - accuracy: 0.6667 - val_loss: 0.9295 - val_accuracy: 0.5556\n",
      "Epoch 57/200\n",
      "1/1 [==============================] - 0s 46ms/step - loss: 0.7996 - accuracy: 0.6190 - val_loss: 0.9278 - val_accuracy: 0.5556\n",
      "Epoch 58/200\n",
      "1/1 [==============================] - 0s 47ms/step - loss: 0.7977 - accuracy: 0.6667 - val_loss: 0.9261 - val_accuracy: 0.5556\n"
     ]
    },
    {
     "name": "stdout",
     "output_type": "stream",
     "text": [
      "Epoch 59/200\n",
      "1/1 [==============================] - 0s 46ms/step - loss: 0.7959 - accuracy: 0.6667 - val_loss: 0.9243 - val_accuracy: 0.5556\n",
      "Epoch 60/200\n",
      "1/1 [==============================] - 0s 44ms/step - loss: 0.7941 - accuracy: 0.6667 - val_loss: 0.9227 - val_accuracy: 0.5556\n",
      "Epoch 61/200\n",
      "1/1 [==============================] - 0s 48ms/step - loss: 0.7922 - accuracy: 0.6667 - val_loss: 0.9208 - val_accuracy: 0.5556\n",
      "Epoch 62/200\n",
      "1/1 [==============================] - 0s 57ms/step - loss: 0.7904 - accuracy: 0.7143 - val_loss: 0.9192 - val_accuracy: 0.5556\n",
      "Epoch 63/200\n",
      "1/1 [==============================] - 0s 46ms/step - loss: 0.7886 - accuracy: 0.7143 - val_loss: 0.9174 - val_accuracy: 0.5556\n",
      "Epoch 64/200\n",
      "1/1 [==============================] - 0s 44ms/step - loss: 0.7868 - accuracy: 0.7143 - val_loss: 0.9157 - val_accuracy: 0.5556\n",
      "Epoch 65/200\n",
      "1/1 [==============================] - 0s 42ms/step - loss: 0.7850 - accuracy: 0.7143 - val_loss: 0.9142 - val_accuracy: 0.5556\n",
      "Epoch 66/200\n",
      "1/1 [==============================] - 0s 45ms/step - loss: 0.7833 - accuracy: 0.7143 - val_loss: 0.9124 - val_accuracy: 0.5556\n",
      "Epoch 67/200\n",
      "1/1 [==============================] - 0s 57ms/step - loss: 0.7815 - accuracy: 0.7619 - val_loss: 0.9106 - val_accuracy: 0.5556\n",
      "Epoch 68/200\n",
      "1/1 [==============================] - 0s 52ms/step - loss: 0.7797 - accuracy: 0.7619 - val_loss: 0.9090 - val_accuracy: 0.5556\n",
      "Epoch 69/200\n",
      "1/1 [==============================] - 0s 52ms/step - loss: 0.7780 - accuracy: 0.7619 - val_loss: 0.9072 - val_accuracy: 0.5556\n",
      "Epoch 70/200\n",
      "1/1 [==============================] - ETA: 0s - loss: 0.7762 - accuracy: 0.80 - 0s 63ms/step - loss: 0.7762 - accuracy: 0.8095 - val_loss: 0.9053 - val_accuracy: 0.5556\n",
      "Epoch 71/200\n",
      "1/1 [==============================] - 0s 64ms/step - loss: 0.7744 - accuracy: 0.8095 - val_loss: 0.9034 - val_accuracy: 0.5556\n",
      "Epoch 72/200\n",
      "1/1 [==============================] - 0s 58ms/step - loss: 0.7727 - accuracy: 0.8095 - val_loss: 0.9018 - val_accuracy: 0.6667\n",
      "Epoch 73/200\n",
      "1/1 [==============================] - 0s 74ms/step - loss: 0.7709 - accuracy: 0.8095 - val_loss: 0.8999 - val_accuracy: 0.6667\n",
      "Epoch 74/200\n",
      "1/1 [==============================] - 0s 87ms/step - loss: 0.7692 - accuracy: 0.8095 - val_loss: 0.8979 - val_accuracy: 0.6667\n",
      "Epoch 75/200\n",
      "1/1 [==============================] - 0s 48ms/step - loss: 0.7674 - accuracy: 0.8095 - val_loss: 0.8960 - val_accuracy: 0.6667\n",
      "Epoch 76/200\n",
      "1/1 [==============================] - 0s 44ms/step - loss: 0.7656 - accuracy: 0.8095 - val_loss: 0.8943 - val_accuracy: 0.6667\n",
      "Epoch 77/200\n",
      "1/1 [==============================] - 0s 53ms/step - loss: 0.7639 - accuracy: 0.8095 - val_loss: 0.8923 - val_accuracy: 0.6667\n",
      "Epoch 78/200\n",
      "1/1 [==============================] - 0s 56ms/step - loss: 0.7621 - accuracy: 0.8095 - val_loss: 0.8904 - val_accuracy: 0.6667\n",
      "Epoch 79/200\n",
      "1/1 [==============================] - 0s 54ms/step - loss: 0.7603 - accuracy: 0.8571 - val_loss: 0.8884 - val_accuracy: 0.6667\n",
      "Epoch 80/200\n",
      "1/1 [==============================] - 0s 44ms/step - loss: 0.7586 - accuracy: 0.9048 - val_loss: 0.8864 - val_accuracy: 0.6667\n",
      "Epoch 81/200\n",
      "1/1 [==============================] - 0s 43ms/step - loss: 0.7568 - accuracy: 0.9048 - val_loss: 0.8844 - val_accuracy: 0.6667\n",
      "Epoch 82/200\n",
      "1/1 [==============================] - 0s 58ms/step - loss: 0.7550 - accuracy: 0.9048 - val_loss: 0.8827 - val_accuracy: 0.6667\n",
      "Epoch 83/200\n",
      "1/1 [==============================] - 0s 61ms/step - loss: 0.7533 - accuracy: 0.9048 - val_loss: 0.8808 - val_accuracy: 0.6667\n",
      "Epoch 84/200\n",
      "1/1 [==============================] - 0s 52ms/step - loss: 0.7515 - accuracy: 0.9048 - val_loss: 0.8788 - val_accuracy: 0.6667\n",
      "Epoch 85/200\n",
      "1/1 [==============================] - 0s 53ms/step - loss: 0.7497 - accuracy: 0.9048 - val_loss: 0.8769 - val_accuracy: 0.6667\n",
      "Epoch 86/200\n",
      "1/1 [==============================] - 0s 50ms/step - loss: 0.7479 - accuracy: 0.9048 - val_loss: 0.8749 - val_accuracy: 0.6667\n",
      "Epoch 87/200\n",
      "1/1 [==============================] - 0s 44ms/step - loss: 0.7461 - accuracy: 0.9048 - val_loss: 0.8730 - val_accuracy: 0.6667\n",
      "Epoch 88/200\n",
      "1/1 [==============================] - 0s 65ms/step - loss: 0.7443 - accuracy: 0.9048 - val_loss: 0.8713 - val_accuracy: 0.6667\n",
      "Epoch 89/200\n",
      "1/1 [==============================] - 0s 56ms/step - loss: 0.7425 - accuracy: 0.9048 - val_loss: 0.8699 - val_accuracy: 0.6667\n",
      "Epoch 90/200\n",
      "1/1 [==============================] - 0s 54ms/step - loss: 0.7407 - accuracy: 0.9048 - val_loss: 0.8682 - val_accuracy: 0.6667\n",
      "Epoch 91/200\n",
      "1/1 [==============================] - 0s 51ms/step - loss: 0.7389 - accuracy: 0.9048 - val_loss: 0.8665 - val_accuracy: 0.6667\n",
      "Epoch 92/200\n",
      "1/1 [==============================] - 0s 44ms/step - loss: 0.7371 - accuracy: 0.9048 - val_loss: 0.8650 - val_accuracy: 0.6667\n",
      "Epoch 93/200\n",
      "1/1 [==============================] - 0s 51ms/step - loss: 0.7355 - accuracy: 0.9048 - val_loss: 0.8632 - val_accuracy: 0.6667\n",
      "Epoch 94/200\n",
      "1/1 [==============================] - 0s 59ms/step - loss: 0.7336 - accuracy: 0.9048 - val_loss: 0.8614 - val_accuracy: 0.6667\n",
      "Epoch 95/200\n",
      "1/1 [==============================] - 0s 58ms/step - loss: 0.7320 - accuracy: 0.9048 - val_loss: 0.8608 - val_accuracy: 0.6667\n",
      "Epoch 96/200\n",
      "1/1 [==============================] - 0s 53ms/step - loss: 0.7302 - accuracy: 0.8571 - val_loss: 0.8588 - val_accuracy: 0.6667\n",
      "Epoch 97/200\n",
      "1/1 [==============================] - 0s 52ms/step - loss: 0.7285 - accuracy: 0.9048 - val_loss: 0.8573 - val_accuracy: 0.6667\n",
      "Epoch 98/200\n",
      "1/1 [==============================] - 0s 49ms/step - loss: 0.7267 - accuracy: 0.9048 - val_loss: 0.8555 - val_accuracy: 0.6667\n",
      "Epoch 99/200\n",
      "1/1 [==============================] - 0s 52ms/step - loss: 0.7251 - accuracy: 0.9524 - val_loss: 0.8540 - val_accuracy: 0.6667\n",
      "Epoch 100/200\n",
      "1/1 [==============================] - 0s 53ms/step - loss: 0.7233 - accuracy: 0.9524 - val_loss: 0.8524 - val_accuracy: 0.6667\n",
      "Epoch 101/200\n",
      "1/1 [==============================] - 0s 48ms/step - loss: 0.7216 - accuracy: 0.9048 - val_loss: 0.8506 - val_accuracy: 0.6667\n",
      "Epoch 102/200\n",
      "1/1 [==============================] - 0s 49ms/step - loss: 0.7199 - accuracy: 0.9524 - val_loss: 0.8501 - val_accuracy: 0.6667\n",
      "Epoch 103/200\n",
      "1/1 [==============================] - 0s 46ms/step - loss: 0.7182 - accuracy: 0.9048 - val_loss: 0.8483 - val_accuracy: 0.6667\n",
      "Epoch 104/200\n",
      "1/1 [==============================] - 0s 46ms/step - loss: 0.7165 - accuracy: 0.9524 - val_loss: 0.8463 - val_accuracy: 0.6667\n",
      "Epoch 105/200\n",
      "1/1 [==============================] - 0s 45ms/step - loss: 0.7148 - accuracy: 0.9524 - val_loss: 0.8448 - val_accuracy: 0.6667\n",
      "Epoch 106/200\n",
      "1/1 [==============================] - 0s 44ms/step - loss: 0.7130 - accuracy: 0.9524 - val_loss: 0.8432 - val_accuracy: 0.6667\n",
      "Epoch 107/200\n",
      "1/1 [==============================] - 0s 73ms/step - loss: 0.7113 - accuracy: 0.9524 - val_loss: 0.8427 - val_accuracy: 0.6667\n",
      "Epoch 108/200\n",
      "1/1 [==============================] - 0s 84ms/step - loss: 0.7097 - accuracy: 0.9048 - val_loss: 0.8406 - val_accuracy: 0.6667\n",
      "Epoch 109/200\n",
      "1/1 [==============================] - 0s 68ms/step - loss: 0.7081 - accuracy: 0.9524 - val_loss: 0.8390 - val_accuracy: 0.6667\n",
      "Epoch 110/200\n",
      "1/1 [==============================] - 0s 67ms/step - loss: 0.7064 - accuracy: 0.9524 - val_loss: 0.8374 - val_accuracy: 0.6667\n",
      "Epoch 111/200\n",
      "1/1 [==============================] - 0s 72ms/step - loss: 0.7048 - accuracy: 0.9524 - val_loss: 0.8357 - val_accuracy: 0.6667\n",
      "Epoch 112/200\n",
      "1/1 [==============================] - 0s 73ms/step - loss: 0.7032 - accuracy: 0.9524 - val_loss: 0.8339 - val_accuracy: 0.6667\n",
      "Epoch 113/200\n",
      "1/1 [==============================] - 0s 73ms/step - loss: 0.7016 - accuracy: 0.9524 - val_loss: 0.8332 - val_accuracy: 0.6667\n",
      "Epoch 114/200\n",
      "1/1 [==============================] - 0s 61ms/step - loss: 0.7000 - accuracy: 0.9524 - val_loss: 0.8315 - val_accuracy: 0.6667\n",
      "Epoch 115/200\n",
      "1/1 [==============================] - 0s 75ms/step - loss: 0.6983 - accuracy: 0.9524 - val_loss: 0.8296 - val_accuracy: 0.6667\n",
      "Epoch 116/200\n",
      "1/1 [==============================] - 0s 62ms/step - loss: 0.6969 - accuracy: 0.9524 - val_loss: 0.8277 - val_accuracy: 0.6667\n"
     ]
    },
    {
     "name": "stdout",
     "output_type": "stream",
     "text": [
      "Epoch 117/200\n",
      "1/1 [==============================] - 0s 69ms/step - loss: 0.6953 - accuracy: 0.9524 - val_loss: 0.8262 - val_accuracy: 0.6667\n",
      "Epoch 118/200\n",
      "1/1 [==============================] - 0s 71ms/step - loss: 0.6937 - accuracy: 0.9524 - val_loss: 0.8248 - val_accuracy: 0.6667\n",
      "Epoch 119/200\n",
      "1/1 [==============================] - 0s 68ms/step - loss: 0.6921 - accuracy: 0.9524 - val_loss: 0.8243 - val_accuracy: 0.6667\n",
      "Epoch 120/200\n",
      "1/1 [==============================] - 0s 68ms/step - loss: 0.6906 - accuracy: 0.9524 - val_loss: 0.8226 - val_accuracy: 0.6667\n",
      "Epoch 121/200\n",
      "1/1 [==============================] - 0s 75ms/step - loss: 0.6891 - accuracy: 0.9524 - val_loss: 0.8209 - val_accuracy: 0.6667\n",
      "Epoch 122/200\n",
      "1/1 [==============================] - 0s 73ms/step - loss: 0.6876 - accuracy: 0.9524 - val_loss: 0.8190 - val_accuracy: 0.7778\n",
      "Epoch 123/200\n",
      "1/1 [==============================] - 0s 72ms/step - loss: 0.6861 - accuracy: 0.9524 - val_loss: 0.8177 - val_accuracy: 0.7778\n",
      "Epoch 124/200\n",
      "1/1 [==============================] - 0s 72ms/step - loss: 0.6845 - accuracy: 0.9524 - val_loss: 0.8163 - val_accuracy: 0.7778\n",
      "Epoch 125/200\n",
      "1/1 [==============================] - 0s 70ms/step - loss: 0.6830 - accuracy: 0.9524 - val_loss: 0.8150 - val_accuracy: 0.7778\n",
      "Epoch 126/200\n",
      "1/1 [==============================] - 0s 71ms/step - loss: 0.6815 - accuracy: 0.9524 - val_loss: 0.8136 - val_accuracy: 0.7778\n",
      "Epoch 127/200\n",
      "1/1 [==============================] - 0s 66ms/step - loss: 0.6800 - accuracy: 0.9524 - val_loss: 0.8120 - val_accuracy: 0.7778\n",
      "Epoch 128/200\n",
      "1/1 [==============================] - 0s 54ms/step - loss: 0.6785 - accuracy: 0.9524 - val_loss: 0.8106 - val_accuracy: 0.7778\n",
      "Epoch 129/200\n",
      "1/1 [==============================] - 0s 56ms/step - loss: 0.6770 - accuracy: 0.9524 - val_loss: 0.8092 - val_accuracy: 0.7778\n",
      "Epoch 130/200\n",
      "1/1 [==============================] - 0s 55ms/step - loss: 0.6755 - accuracy: 0.9524 - val_loss: 0.8076 - val_accuracy: 0.7778\n",
      "Epoch 131/200\n",
      "1/1 [==============================] - 0s 58ms/step - loss: 0.6740 - accuracy: 0.9524 - val_loss: 0.8063 - val_accuracy: 0.7778\n",
      "Epoch 132/200\n",
      "1/1 [==============================] - 0s 53ms/step - loss: 0.6725 - accuracy: 0.9524 - val_loss: 0.8049 - val_accuracy: 0.7778\n",
      "Epoch 133/200\n",
      "1/1 [==============================] - 0s 59ms/step - loss: 0.6710 - accuracy: 0.9524 - val_loss: 0.8033 - val_accuracy: 0.7778\n",
      "Epoch 134/200\n",
      "1/1 [==============================] - 0s 52ms/step - loss: 0.6695 - accuracy: 0.9524 - val_loss: 0.8020 - val_accuracy: 0.7778\n",
      "Epoch 135/200\n",
      "1/1 [==============================] - 0s 59ms/step - loss: 0.6681 - accuracy: 0.9524 - val_loss: 0.8003 - val_accuracy: 0.7778\n",
      "Epoch 136/200\n",
      "1/1 [==============================] - 0s 55ms/step - loss: 0.6666 - accuracy: 0.9524 - val_loss: 0.7990 - val_accuracy: 0.7778\n",
      "Epoch 137/200\n",
      "1/1 [==============================] - 0s 55ms/step - loss: 0.6651 - accuracy: 0.9524 - val_loss: 0.7977 - val_accuracy: 0.7778\n",
      "Epoch 138/200\n",
      "1/1 [==============================] - 0s 59ms/step - loss: 0.6636 - accuracy: 0.9524 - val_loss: 0.7961 - val_accuracy: 0.7778\n",
      "Epoch 139/200\n",
      "1/1 [==============================] - 0s 58ms/step - loss: 0.6621 - accuracy: 0.9524 - val_loss: 0.7948 - val_accuracy: 0.7778\n",
      "Epoch 140/200\n",
      "1/1 [==============================] - 0s 53ms/step - loss: 0.6606 - accuracy: 0.9524 - val_loss: 0.7931 - val_accuracy: 0.7778\n",
      "Epoch 141/200\n",
      "1/1 [==============================] - 0s 55ms/step - loss: 0.6591 - accuracy: 0.9524 - val_loss: 0.7918 - val_accuracy: 0.7778\n",
      "Epoch 142/200\n",
      "1/1 [==============================] - 0s 56ms/step - loss: 0.6577 - accuracy: 0.9524 - val_loss: 0.7902 - val_accuracy: 0.7778\n",
      "Epoch 143/200\n",
      "1/1 [==============================] - 0s 60ms/step - loss: 0.6562 - accuracy: 0.9524 - val_loss: 0.7890 - val_accuracy: 0.7778\n",
      "Epoch 144/200\n",
      "1/1 [==============================] - 0s 56ms/step - loss: 0.6547 - accuracy: 0.9524 - val_loss: 0.7873 - val_accuracy: 0.7778\n",
      "Epoch 145/200\n",
      "1/1 [==============================] - 0s 54ms/step - loss: 0.6532 - accuracy: 0.9524 - val_loss: 0.7861 - val_accuracy: 0.7778\n",
      "Epoch 146/200\n",
      "1/1 [==============================] - 0s 56ms/step - loss: 0.6517 - accuracy: 0.9524 - val_loss: 0.7845 - val_accuracy: 0.7778\n",
      "Epoch 147/200\n",
      "1/1 [==============================] - 0s 58ms/step - loss: 0.6502 - accuracy: 0.9524 - val_loss: 0.7833 - val_accuracy: 0.7778\n",
      "Epoch 148/200\n",
      "1/1 [==============================] - 0s 52ms/step - loss: 0.6487 - accuracy: 0.9524 - val_loss: 0.7817 - val_accuracy: 0.7778\n",
      "Epoch 149/200\n",
      "1/1 [==============================] - 0s 53ms/step - loss: 0.6472 - accuracy: 0.9524 - val_loss: 0.7805 - val_accuracy: 0.7778\n",
      "Epoch 150/200\n",
      "1/1 [==============================] - 0s 55ms/step - loss: 0.6457 - accuracy: 0.9524 - val_loss: 0.7789 - val_accuracy: 0.7778\n",
      "Epoch 151/200\n",
      "1/1 [==============================] - 0s 56ms/step - loss: 0.6442 - accuracy: 0.9524 - val_loss: 0.7776 - val_accuracy: 0.7778\n",
      "Epoch 152/200\n",
      "1/1 [==============================] - 0s 58ms/step - loss: 0.6427 - accuracy: 0.9524 - val_loss: 0.7760 - val_accuracy: 0.7778\n",
      "Epoch 153/200\n",
      "1/1 [==============================] - 0s 58ms/step - loss: 0.6412 - accuracy: 0.9524 - val_loss: 0.7745 - val_accuracy: 0.7778\n",
      "Epoch 154/200\n",
      "1/1 [==============================] - 0s 50ms/step - loss: 0.6397 - accuracy: 0.9524 - val_loss: 0.7733 - val_accuracy: 0.7778\n",
      "Epoch 155/200\n",
      "1/1 [==============================] - 0s 56ms/step - loss: 0.6381 - accuracy: 0.9524 - val_loss: 0.7717 - val_accuracy: 0.7778\n",
      "Epoch 156/200\n",
      "1/1 [==============================] - 0s 48ms/step - loss: 0.6367 - accuracy: 0.9524 - val_loss: 0.7705 - val_accuracy: 0.7778\n",
      "Epoch 157/200\n",
      "1/1 [==============================] - 0s 57ms/step - loss: 0.6351 - accuracy: 0.9524 - val_loss: 0.7689 - val_accuracy: 0.7778\n",
      "Epoch 158/200\n",
      "1/1 [==============================] - 0s 50ms/step - loss: 0.6336 - accuracy: 0.9524 - val_loss: 0.7676 - val_accuracy: 0.7778\n",
      "Epoch 159/200\n",
      "1/1 [==============================] - 0s 78ms/step - loss: 0.6321 - accuracy: 0.9524 - val_loss: 0.7661 - val_accuracy: 0.7778\n",
      "Epoch 160/200\n",
      "1/1 [==============================] - 0s 69ms/step - loss: 0.6305 - accuracy: 0.9524 - val_loss: 0.7639 - val_accuracy: 0.7778\n",
      "Epoch 161/200\n",
      "1/1 [==============================] - 0s 57ms/step - loss: 0.6291 - accuracy: 0.9524 - val_loss: 0.7629 - val_accuracy: 0.7778\n",
      "Epoch 162/200\n",
      "1/1 [==============================] - 0s 48ms/step - loss: 0.6275 - accuracy: 0.9524 - val_loss: 0.7615 - val_accuracy: 0.7778\n",
      "Epoch 163/200\n",
      "1/1 [==============================] - 0s 55ms/step - loss: 0.6260 - accuracy: 0.9524 - val_loss: 0.7598 - val_accuracy: 0.7778\n",
      "Epoch 164/200\n",
      "1/1 [==============================] - 0s 50ms/step - loss: 0.6245 - accuracy: 0.9524 - val_loss: 0.7585 - val_accuracy: 0.7778\n",
      "Epoch 165/200\n",
      "1/1 [==============================] - 0s 53ms/step - loss: 0.6229 - accuracy: 0.9524 - val_loss: 0.7572 - val_accuracy: 0.7778\n",
      "Epoch 166/200\n",
      "1/1 [==============================] - 0s 51ms/step - loss: 0.6214 - accuracy: 0.9524 - val_loss: 0.7556 - val_accuracy: 0.7778\n",
      "Epoch 167/200\n",
      "1/1 [==============================] - 0s 56ms/step - loss: 0.6199 - accuracy: 0.9524 - val_loss: 0.7544 - val_accuracy: 0.7778\n",
      "Epoch 168/200\n",
      "1/1 [==============================] - 0s 52ms/step - loss: 0.6183 - accuracy: 0.9524 - val_loss: 0.7531 - val_accuracy: 0.7778\n",
      "Epoch 169/200\n",
      "1/1 [==============================] - 0s 50ms/step - loss: 0.6168 - accuracy: 0.9524 - val_loss: 0.7519 - val_accuracy: 0.7778\n",
      "Epoch 170/200\n",
      "1/1 [==============================] - 0s 62ms/step - loss: 0.6153 - accuracy: 0.9524 - val_loss: 0.7498 - val_accuracy: 0.7778\n",
      "Epoch 171/200\n",
      "1/1 [==============================] - 0s 53ms/step - loss: 0.6138 - accuracy: 0.9524 - val_loss: 0.7486 - val_accuracy: 0.7778\n",
      "Epoch 172/200\n",
      "1/1 [==============================] - 0s 57ms/step - loss: 0.6122 - accuracy: 0.9524 - val_loss: 0.7472 - val_accuracy: 0.7778\n",
      "Epoch 173/200\n",
      "1/1 [==============================] - 0s 59ms/step - loss: 0.6107 - accuracy: 0.9524 - val_loss: 0.7460 - val_accuracy: 0.7778\n",
      "Epoch 174/200\n",
      "1/1 [==============================] - 0s 66ms/step - loss: 0.6092 - accuracy: 0.9524 - val_loss: 0.7440 - val_accuracy: 0.7778\n"
     ]
    },
    {
     "name": "stdout",
     "output_type": "stream",
     "text": [
      "Epoch 175/200\n",
      "1/1 [==============================] - 0s 50ms/step - loss: 0.6077 - accuracy: 0.9524 - val_loss: 0.7427 - val_accuracy: 0.7778\n",
      "Epoch 176/200\n",
      "1/1 [==============================] - 0s 52ms/step - loss: 0.6061 - accuracy: 0.9524 - val_loss: 0.7416 - val_accuracy: 0.7778\n",
      "Epoch 177/200\n",
      "1/1 [==============================] - 0s 48ms/step - loss: 0.6046 - accuracy: 0.9524 - val_loss: 0.7395 - val_accuracy: 0.7778\n",
      "Epoch 178/200\n",
      "1/1 [==============================] - 0s 49ms/step - loss: 0.6032 - accuracy: 0.9524 - val_loss: 0.7401 - val_accuracy: 0.7778\n",
      "Epoch 179/200\n",
      "1/1 [==============================] - 0s 48ms/step - loss: 0.6017 - accuracy: 0.9524 - val_loss: 0.7377 - val_accuracy: 0.7778\n",
      "Epoch 180/200\n",
      "1/1 [==============================] - 0s 46ms/step - loss: 0.6002 - accuracy: 0.9524 - val_loss: 0.7375 - val_accuracy: 0.7778\n",
      "Epoch 181/200\n",
      "1/1 [==============================] - 0s 49ms/step - loss: 0.5987 - accuracy: 0.9524 - val_loss: 0.7353 - val_accuracy: 0.7778\n",
      "Epoch 182/200\n",
      "1/1 [==============================] - 0s 51ms/step - loss: 0.5972 - accuracy: 0.9524 - val_loss: 0.7352 - val_accuracy: 0.7778\n",
      "Epoch 183/200\n",
      "1/1 [==============================] - 0s 52ms/step - loss: 0.5957 - accuracy: 0.9524 - val_loss: 0.7350 - val_accuracy: 0.7778\n",
      "Epoch 184/200\n",
      "1/1 [==============================] - 0s 51ms/step - loss: 0.5943 - accuracy: 0.9524 - val_loss: 0.7313 - val_accuracy: 0.7778\n",
      "Epoch 185/200\n",
      "1/1 [==============================] - 0s 49ms/step - loss: 0.5930 - accuracy: 0.9524 - val_loss: 0.7316 - val_accuracy: 0.7778\n",
      "Epoch 186/200\n",
      "1/1 [==============================] - 0s 56ms/step - loss: 0.5914 - accuracy: 0.9524 - val_loss: 0.7309 - val_accuracy: 0.7778\n",
      "Epoch 187/200\n",
      "1/1 [==============================] - 0s 51ms/step - loss: 0.5900 - accuracy: 0.9524 - val_loss: 0.7299 - val_accuracy: 0.7778\n",
      "Epoch 188/200\n",
      "1/1 [==============================] - 0s 54ms/step - loss: 0.5886 - accuracy: 0.9524 - val_loss: 0.7288 - val_accuracy: 0.7778\n",
      "Epoch 189/200\n",
      "1/1 [==============================] - 0s 55ms/step - loss: 0.5872 - accuracy: 0.9524 - val_loss: 0.7275 - val_accuracy: 0.7778\n",
      "Epoch 190/200\n",
      "1/1 [==============================] - 0s 52ms/step - loss: 0.5857 - accuracy: 0.9524 - val_loss: 0.7263 - val_accuracy: 0.7778\n",
      "Epoch 191/200\n",
      "1/1 [==============================] - 0s 51ms/step - loss: 0.5843 - accuracy: 0.9524 - val_loss: 0.7248 - val_accuracy: 0.7778\n",
      "Epoch 192/200\n",
      "1/1 [==============================] - 0s 54ms/step - loss: 0.5829 - accuracy: 0.9524 - val_loss: 0.7234 - val_accuracy: 0.7778\n",
      "Epoch 193/200\n",
      "1/1 [==============================] - 0s 55ms/step - loss: 0.5815 - accuracy: 0.9524 - val_loss: 0.7221 - val_accuracy: 0.7778\n",
      "Epoch 194/200\n",
      "1/1 [==============================] - 0s 51ms/step - loss: 0.5801 - accuracy: 0.9524 - val_loss: 0.7218 - val_accuracy: 0.7778\n",
      "Epoch 195/200\n",
      "1/1 [==============================] - 0s 53ms/step - loss: 0.5788 - accuracy: 0.9524 - val_loss: 0.7175 - val_accuracy: 0.7778\n",
      "Epoch 196/200\n",
      "1/1 [==============================] - 0s 53ms/step - loss: 0.5776 - accuracy: 0.9524 - val_loss: 0.7203 - val_accuracy: 0.7778\n",
      "Epoch 197/200\n",
      "1/1 [==============================] - 0s 51ms/step - loss: 0.5765 - accuracy: 0.9524 - val_loss: 0.7149 - val_accuracy: 0.7778\n",
      "Epoch 198/200\n",
      "1/1 [==============================] - 0s 52ms/step - loss: 0.5746 - accuracy: 0.9524 - val_loss: 0.7162 - val_accuracy: 0.7778\n",
      "Epoch 199/200\n",
      "1/1 [==============================] - 0s 55ms/step - loss: 0.5732 - accuracy: 0.9524 - val_loss: 0.7137 - val_accuracy: 0.7778\n",
      "Epoch 200/200\n",
      "1/1 [==============================] - 0s 57ms/step - loss: 0.5718 - accuracy: 0.9524 - val_loss: 0.7136 - val_accuracy: 0.7778\n"
     ]
    }
   ],
   "source": [
    "model.compile(optimizer='sgd', loss='categorical_crossentropy', metrics=['accuracy'])\n",
    "hist = model.fit(train_x, train_y, verbose=1, batch_size=32, epochs=200, validation_split=0.3)"
   ]
  },
  {
   "source": [
    "There are two graphs below to demonstrate the relationship between accuracy, loss, and our epoch. What trend do you generally notice here? "
   ],
   "cell_type": "markdown",
   "metadata": {}
  },
  {
   "cell_type": "code",
   "execution_count": 12,
   "metadata": {
    "colab": {
     "base_uri": "https://localhost:8080/",
     "height": 558
    },
    "id": "QdabkSwphd_n",
    "outputId": "1d93e2ed-08ff-46ab-c86b-11f848c98bef"
   },
   "outputs": [
    {
     "data": {
      "image/png": "[encoded data removed]",
      "text/plain": [
       "<Figure size 432x288 with 1 Axes>"
      ]
     },
     "metadata": {
      "needs_background": "light"
     },
     "output_type": "display_data"
    },
    {
     "data": {
      "image/png": "[encoded data removed]",
      "text/plain": [
       "<Figure size 432x288 with 1 Axes>"
      ]
     },
     "metadata": {
      "needs_background": "light"
     },
     "output_type": "display_data"
    }
   ],
   "source": [
    "plt.plot(hist.history['accuracy'])\n",
    "plt.plot(hist.history['val_accuracy'])\n",
    "\n",
    "plt.title('model accuracy')\n",
    "plt.ylabel('accuracy')\n",
    "plt.xlabel('epoch')\n",
    "plt.legend(['train','test'], loc='upper left')\n",
    "plt.show()\n",
    "\n",
    "plt.plot(hist.history['loss'])\n",
    "plt.plot(hist.history['val_loss'])\n",
    "\n",
    "plt.title('model loss')\n",
    "plt.ylabel('loss')\n",
    "plt.xlabel('epoch')\n",
    "plt.legend(['train','test'], loc='upper left')\n",
    "plt.show()"
   ]
  },
  {
   "cell_type": "markdown",
   "id": "statistical-feature",
   "metadata": {
    "id": "9EEGuDVuzb5r"
   },
   "source": [
    "## Evaluate the model\n",
    "\n",
    "Now, let's see how the model performs on our test data set after the model has been trained. Two values will be returned: the loss of our model (a number which represents our error -- lower values are better), and the accuracy of our model. You can try adjusting the batch size too to see how it affects the model's loss and accuracy."
   ]
  },
  {
   "cell_type": "code",
   "execution_count": 15,
   "metadata": {},
   "outputs": [
    {
     "name": "stdout",
     "output_type": "stream",
     "text": [
      "[[0.02694994 0.32540676 0.64764327]\n",
      " [0.0573839  0.454274   0.48834205]\n",
      " [0.4494218  0.24518618 0.30539203]\n",
      " [0.01584578 0.36030072 0.62385356]\n",
      " [0.02634715 0.5248358  0.44881704]\n",
      " [0.45135206 0.2415105  0.3071375 ]\n",
      " [0.02668841 0.5560593  0.4172524 ]\n",
      " [0.01033322 0.22954245 0.7601244 ]\n",
      " [0.47128272 0.21292578 0.31579143]\n",
      " [0.45120147 0.24156916 0.3072293 ]\n",
      " [0.03327423 0.45315927 0.5135665 ]\n",
      " [0.04281126 0.33257326 0.6246155 ]\n",
      " [0.01717958 0.3119913  0.6708291 ]\n",
      " [0.42449212 0.27916098 0.29634693]\n",
      " [0.00785492 0.2328579  0.7592872 ]\n",
      " [0.00950476 0.21187212 0.7786231 ]\n",
      " [0.46491107 0.22323282 0.31185606]\n",
      " [0.02139382 0.46161482 0.51699144]\n",
      " [0.02267247 0.27892298 0.6984046 ]\n",
      " [0.466476   0.21252501 0.32099903]\n",
      " [0.45684126 0.23211919 0.31103948]\n",
      " [0.46905023 0.21723962 0.31371012]\n",
      " [0.45091084 0.2436489  0.30544022]\n",
      " [0.4624424  0.22675787 0.31079972]\n",
      " [0.04133173 0.4592095  0.4994588 ]\n",
      " [0.01552469 0.1791857  0.80528957]\n",
      " [0.46736464 0.21975294 0.31288245]\n",
      " [0.0402211  0.44139326 0.51838565]\n",
      " [0.08009986 0.5411588  0.37874132]\n",
      " [0.01215397 0.35789806 0.629948  ]\n",
      " [0.05003449 0.46819767 0.48176783]\n",
      " [0.05445409 0.55818194 0.387364  ]\n",
      " [0.01795127 0.2634572  0.7185916 ]\n",
      " [0.46433708 0.22385263 0.3118103 ]\n",
      " [0.02825541 0.51713806 0.45460653]\n",
      " [0.01078602 0.24233378 0.7468802 ]\n",
      " [0.46462488 0.2234599  0.3119152 ]\n",
      " [0.01359493 0.27762502 0.7087801 ]\n",
      " [0.46612307 0.22103183 0.31284505]\n",
      " [0.46140638 0.21935877 0.31923482]\n",
      " [0.45227346 0.23917323 0.30855334]\n",
      " [0.01010873 0.3313077  0.6585836 ]\n",
      " [0.01025448 0.21471515 0.7750304 ]\n",
      " [0.02498812 0.32933193 0.64567995]\n",
      " [0.00988518 0.18096304 0.8091518 ]\n",
      " [0.04806441 0.5511023  0.40083328]\n",
      " [0.47402576 0.20833099 0.3176433 ]\n",
      " [0.02017786 0.38156354 0.5982586 ]\n",
      " [0.04542759 0.49070603 0.46386638]\n",
      " [0.45636144 0.23410478 0.3095338 ]\n",
      " [0.01603367 0.2524294  0.7315369 ]\n",
      " [0.45554566 0.23585288 0.30860147]\n",
      " [0.05331766 0.5566824  0.38999993]\n",
      " [0.48578364 0.1925124  0.32170397]\n",
      " [0.46138152 0.22783102 0.3107875 ]\n",
      " [0.45372227 0.2396251  0.30665255]\n",
      " [0.46906856 0.21717556 0.3137559 ]\n",
      " [0.4317595  0.24267578 0.3255647 ]\n",
      " [0.45815524 0.23306611 0.3087786 ]\n",
      " [0.47319165 0.2110814  0.31572694]\n",
      " [0.01631931 0.3219591  0.6617216 ]\n",
      " [0.04141733 0.36349624 0.5950864 ]\n",
      " [0.02139728 0.35645023 0.6221525 ]\n",
      " [0.0100371  0.21310906 0.77685386]\n",
      " [0.04945843 0.48805004 0.46249148]\n",
      " [0.46988437 0.2144527  0.3156629 ]\n",
      " [0.02056495 0.3101121  0.6693229 ]\n",
      " [0.04531408 0.46784392 0.48684195]\n",
      " [0.46077064 0.22626929 0.31296006]\n",
      " [0.04142886 0.5666615  0.39190966]\n",
      " [0.05541119 0.5696576  0.37493116]\n",
      " [0.44318584 0.24948952 0.30732465]\n",
      " [0.00839503 0.12205157 0.86955345]\n",
      " [0.45390484 0.2385234  0.3075718 ]\n",
      " [0.03657853 0.4079393  0.55548215]\n",
      " [0.06895103 0.51758856 0.4134604 ]\n",
      " [0.00334957 0.22954115 0.76710933]\n",
      " [0.01484442 0.28827798 0.6968776 ]\n",
      " [0.014225   0.32059225 0.66518277]\n",
      " [0.42069045 0.2582268  0.32108265]\n",
      " [0.03071573 0.2975317  0.6717526 ]\n",
      " [0.02314684 0.37029758 0.6065556 ]\n",
      " [0.4510083  0.24259593 0.30639577]\n",
      " [0.01073951 0.33317238 0.6560882 ]\n",
      " [0.46527806 0.22167684 0.31304505]\n",
      " [0.0944054  0.5282532  0.37734145]\n",
      " [0.02050239 0.23285048 0.7466472 ]\n",
      " [0.0335212  0.57233125 0.39414752]\n",
      " [0.45840532 0.23103513 0.3105596 ]\n",
      " [0.04794795 0.56163055 0.39042142]\n",
      " [0.01297197 0.17247207 0.814556  ]\n",
      " [0.01858496 0.40399504 0.57742   ]\n",
      " [0.45814633 0.22146569 0.32038805]\n",
      " [0.4501093  0.23379405 0.3160966 ]\n",
      " [0.04593429 0.44701952 0.5070462 ]\n",
      " [0.01795126 0.26345715 0.7185916 ]\n",
      " [0.03597946 0.4364658  0.5275548 ]\n",
      " [0.03730506 0.5603513  0.4023436 ]\n",
      " [0.03937606 0.48006704 0.48055696]\n",
      " [0.00852414 0.34427357 0.6472023 ]\n",
      " [0.03733654 0.45723456 0.5054289 ]\n",
      " [0.05579751 0.4828949  0.46130756]\n",
      " [0.07978943 0.5536636  0.366547  ]\n",
      " [0.07687336 0.5586387  0.36448795]\n",
      " [0.01351887 0.24903566 0.73744553]\n",
      " [0.01237581 0.1598612  0.82776296]\n",
      " [0.45909628 0.23213628 0.3087675 ]\n",
      " [0.02396913 0.50150615 0.47452474]\n",
      " [0.452575   0.24093917 0.30648586]\n",
      " [0.0343409  0.5634771  0.40218198]\n",
      " [0.06049218 0.5591068  0.38040096]\n",
      " [0.01468549 0.21868671 0.7666277 ]\n",
      " [0.45297578 0.23955101 0.30747327]\n",
      " [0.00579193 0.28845584 0.7057522 ]\n",
      " [0.0127705  0.30112895 0.6861006 ]\n",
      " [0.03884657 0.5679902  0.39316335]\n",
      " [0.01366569 0.44154987 0.5447844 ]\n",
      " [0.00675081 0.32226476 0.6709844 ]\n",
      " [0.00530501 0.30407318 0.69062173]\n",
      " [0.46000072 0.23023064 0.30976868]]\n",
      "                precision    recall  f1-score   support\n",
      "\n",
      "   Iris-setosa       1.00      1.00      1.00        41\n",
      "Iris-versicolo       1.00      0.59      0.74        39\n",
      "Iris-virginica       0.71      1.00      0.83        40\n",
      "\n",
      "      accuracy                           0.87       120\n",
      "     macro avg       0.90      0.86      0.86       120\n",
      "  weighted avg       0.90      0.87      0.86       120\n",
      "\n"
     ]
    }
   ],
   "source": [
    "from sklearn.metrics import classification_report\n",
    "from sklearn.preprocessing import MinMaxScaler\n",
    "\n",
    "# make a prediction\n",
    "testingPredictions = model.predict(test_x)\n",
    "testingPredictions = list(testingPredictions.argmax(axis=-1))\n",
    "\n",
    "confidence_scores = model.predict(test_x, batch_size=32)\n",
    "print(confidence_scores)\n",
    "\n",
    "target_names = ['Iris-setosa', 'Iris-versicolo', 'Iris-virginica']\n",
    "print(classification_report(test_y.argmax(axis=-1), testingPredictions, target_names=target_names))"
   ]
  },
  {
   "cell_type": "code",
   "execution_count": 16,
   "metadata": {},
   "outputs": [
    {
     "name": "stdout",
     "output_type": "stream",
     "text": [
      "4/4 [==============================] - 0s 1ms/step - loss: 0.6181 - accuracy: 0.8667\n",
      "loss: 0.618\n",
      "accuracy: 0.867\n"
     ]
    }
   ],
   "source": [
    "results = model.evaluate(test_x, test_y, verbose=1)\n",
    "\n",
    "for name, value in zip(model.metrics_names, results):\n",
    "  print(\"%s: %.3f\" % (name, value))"
   ]
  },
  {
   "source": [
    "Now, we need to export the data in order to support some interactive visualizations that we've created. Feel free to skip over this code block and move to the interactive visualizations below."
   ],
   "cell_type": "markdown",
   "metadata": {}
  },
  {
   "cell_type": "code",
   "execution_count": 5,
   "metadata": {
    "colab": {
     "base_uri": "https://localhost:8080/",
     "height": 351
    },
    "id": "oO_hbdmkh-e4",
    "outputId": "58ea8214-b86e-4baf-d2ec-b1f8366af5b4"
   },
   "outputs": [
    {
     "output_type": "error",
     "ename": "NameError",
     "evalue": "name 'test_y' is not defined",
     "traceback": [
      "\u001b[0;31m---------------------------------------------------------------------------\u001b[0m",
      "\u001b[0;31mNameError\u001b[0m                                 Traceback (most recent call last)",
      "\u001b[0;32m<ipython-input-5-8171e40fc289>\u001b[0m in \u001b[0;36m<module>\u001b[0;34m\u001b[0m\n\u001b[1;32m      9\u001b[0m \u001b[0;34m\u001b[0m\u001b[0m\n\u001b[1;32m     10\u001b[0m \u001b[0mtrue_label\u001b[0m \u001b[0;34m=\u001b[0m \u001b[0;34m[\u001b[0m\u001b[0;34m]\u001b[0m\u001b[0;34m\u001b[0m\u001b[0;34m\u001b[0m\u001b[0m\n\u001b[0;32m---> 11\u001b[0;31m \u001b[0;32mfor\u001b[0m \u001b[0mi\u001b[0m \u001b[0;32min\u001b[0m \u001b[0mrange\u001b[0m\u001b[0;34m(\u001b[0m\u001b[0mlen\u001b[0m\u001b[0;34m(\u001b[0m\u001b[0mtest_y\u001b[0m\u001b[0;34m)\u001b[0m\u001b[0;34m)\u001b[0m\u001b[0;34m:\u001b[0m\u001b[0;34m\u001b[0m\u001b[0;34m\u001b[0m\u001b[0m\n\u001b[0m\u001b[1;32m     12\u001b[0m     \u001b[0;32mfor\u001b[0m \u001b[0mj\u001b[0m \u001b[0;32min\u001b[0m \u001b[0mrange\u001b[0m\u001b[0;34m(\u001b[0m\u001b[0mlen\u001b[0m\u001b[0;34m(\u001b[0m\u001b[0mtest_y\u001b[0m\u001b[0;34m[\u001b[0m\u001b[0mi\u001b[0m\u001b[0;34m]\u001b[0m\u001b[0;34m)\u001b[0m\u001b[0;34m)\u001b[0m\u001b[0;34m:\u001b[0m\u001b[0;34m\u001b[0m\u001b[0;34m\u001b[0m\u001b[0m\n\u001b[1;32m     13\u001b[0m         \u001b[0;32mif\u001b[0m \u001b[0mtest_y\u001b[0m\u001b[0;34m[\u001b[0m\u001b[0mi\u001b[0m\u001b[0;34m]\u001b[0m\u001b[0;34m[\u001b[0m\u001b[0mj\u001b[0m\u001b[0;34m]\u001b[0m \u001b[0;34m==\u001b[0m \u001b[0;36m1\u001b[0m\u001b[0;34m:\u001b[0m\u001b[0;34m\u001b[0m\u001b[0;34m\u001b[0m\u001b[0m\n",
      "\u001b[0;31mNameError\u001b[0m: name 'test_y' is not defined"
     ]
    }
   ],
   "source": [
    "# output data as json \n",
    "import json\n",
    "import os\n",
    "import sys\n",
    "\n",
    "output_directory = \"libraries/\"\n",
    "output_filename = \"predict_nn.json\"\n",
    "full_path = os.path.join(output_directory, output_filename)\n",
    "\n",
    "true_label = []\n",
    "for i in range(len(test_y)):\n",
    "    for j in range(len(test_y[i])):\n",
    "        if test_y[i][j] == 1:\n",
    "            if j == 0:\n",
    "                true_label.append(target_names[0])\n",
    "            if j == 1:\n",
    "                true_label.append(target_names[1])\n",
    "            if j == 2:\n",
    "                true_label.append(target_names[2])\n",
    "\n",
    "\n",
    "for i in range(len(testingPredictions)):\n",
    "    if testingPredictions[i] == 0:\n",
    "        testingPredictions[i] = target_names[0]\n",
    "    if testingPredictions[i] == 1:\n",
    "        testingPredictions[i] = target_names[1]\n",
    "    if testingPredictions[i] == 2:\n",
    "        testingPredictions[i] = target_names[2]\n",
    "\n",
    "data = []\n",
    "data.extend([{\n",
    "      'index': i,\n",
    "      'true_label': true_label[i],\n",
    "      'predicted_label': testingPredictions[i],\n",
    "      'confidence_score': confidence_scores.tolist()[i],\n",
    "      'features': test_x.tolist()[i]\n",
    "  } for i in range(len(testingPredictions))])\n",
    "\n",
    "\n",
    "\n",
    "with open(full_path, 'w') as outfile:\n",
    "    json.dump(data, outfile, indent=4, sort_keys=False)"
   ]
  },
  {
   "cell_type": "code",
   "execution_count": 3,
   "metadata": {},
   "outputs": [],
   "source": [
    "module_path = os.path.abspath(os.path.join('..'))\n",
    "if module_path not in sys.path:\n",
    "    sys.path.append(module_path)\n",
    "    \n",
    "import libraries.mlvislib as mlvs"
   ]
  },
  {
   "cell_type": "code",
   "execution_count": 4,
   "metadata": {},
   "outputs": [
    {
     "output_type": "error",
     "ename": "NameError",
     "evalue": "name 'full_path' is not defined",
     "traceback": [
      "\u001b[0;31m---------------------------------------------------------------------------\u001b[0m",
      "\u001b[0;31mNameError\u001b[0m                                 Traceback (most recent call last)",
      "\u001b[0;32m<ipython-input-4-06cdf0142471>\u001b[0m in \u001b[0;36m<module>\u001b[0;34m\u001b[0m\n\u001b[0;32m----> 1\u001b[0;31m \u001b[0mcm\u001b[0m \u001b[0;34m=\u001b[0m \u001b[0mmlvs\u001b[0m\u001b[0;34m.\u001b[0m\u001b[0mConfusionMatrix\u001b[0m\u001b[0;34m(\u001b[0m\u001b[0mfull_path\u001b[0m\u001b[0;34m)\u001b[0m\u001b[0;34m\u001b[0m\u001b[0;34m\u001b[0m\u001b[0m\n\u001b[0m\u001b[1;32m      2\u001b[0m \u001b[0mcm\u001b[0m\u001b[0;34m.\u001b[0m\u001b[0mdisplay\u001b[0m\u001b[0;34m(\u001b[0m\u001b[0;34m)\u001b[0m\u001b[0;34m\u001b[0m\u001b[0;34m\u001b[0m\u001b[0m\n",
      "\u001b[0;31mNameError\u001b[0m: name 'full_path' is not defined"
     ]
    }
   ],
   "source": [
    "cm = mlvs.ConfusionMatrix(full_path)\n",
    "cm.display()"
   ]
  },
  {
   "cell_type": "code",
   "execution_count": null,
   "metadata": {},
   "outputs": [],
   "source": []
  }
 ],
 "metadata": {
  "colab": {
   "collapsed_sections": [],
   "name": "nn.ipynb",
   "provenance": []
  },
  "kernelspec": {
   "display_name": "Python 3",
   "language": "python",
   "name": "python3"
  },
  "language_info": {
   "codemirror_mode": {
    "name": "ipython",
    "version": 3
   },
   "file_extension": ".py",
   "mimetype": "text/x-python",
   "name": "python",
   "nbconvert_exporter": "python",
   "pygments_lexer": "ipython3",
   "version": "3.7.1-final"
  }
 },
 "nbformat": 4,
 "nbformat_minor": 1
}