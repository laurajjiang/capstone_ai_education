{
 "cells": [
  {
   "cell_type": "markdown",
   "metadata": {},
   "source": [
    "# Creating a Neural Network for Classification \n",
    "\n",
    "In this notebook, we'll learn how to create a neural network for multi-categorical classification using the Iris dataset. This is the same dataset that was explored in the Logistic Regression notebook, but now using an entirely different models. The ideas are the same, however, so if you'd like extra support refer back to the Logistic Regression notebook where concepts like loss and optimization are broken down a bit more.\n"
   ]
  },
  {
   "cell_type": "markdown",
   "metadata": {},
   "source": [
    "We'll start off by importing some libraries that will be helpful for us to build out our model. `sklearn` (scikitlearn) is another helpful machine learning-related library, and will be where we get the Iris dataset from."
   ]
  },
  {
   "cell_type": "code",
   "execution_count": 1,
   "metadata": {
    "id": "LEVo4pdsKkNb"
   },
   "outputs": [
    {
     "data": {
      "text/html": [
       "<script data-require=\"d3@3.5.3\" data-semver=\"3.5.3\" src=\"//cdnjs.cloudflare.com/ajax/libs/d3/3.5.3/d3.js\"></script>"
      ],
      "text/plain": [
       "<IPython.core.display.HTML object>"
      ]
     },
     "metadata": {},
     "output_type": "display_data"
    }
   ],
   "source": [
    "from sklearn import datasets\n",
    "from sklearn.preprocessing import OneHotEncoder\n",
    "import numpy as np \n",
    "import matplotlib.pyplot as plt \n",
    "import pandas as pd\n",
    "import tensorflow as tf\n",
    "import json\n",
    "import os\n",
    "import sys\n",
    "\n",
    "from IPython.core.display import HTML, display\n",
    "# Initializing D3 for the entire notebook (this fixes error requiring kernel to load twice)\n",
    "# (feel free to move this line to anywhere in notebook before visualizations)\n",
    "display(HTML('<script data-require=\"d3@3.5.3\" data-semver=\"3.5.3\" src=\"//cdnjs.cloudflare.com/ajax/libs/d3/3.5.3/d3.js\"></script>'))"
   ]
  },
  {
   "cell_type": "markdown",
   "metadata": {},
   "source": [
    "## Load the dataset\n",
    "\n",
    "The Iris flower dataset is available on the [Keras dataset API](https://scikit-learn.org/stable/modules/generated/sklearn.datasets.load_iris.html) if you'd like to see the raw HTML.\n",
    "\n",
    "The following code loads the Iris dataset onto this notebook. We'll peek at what this dataset looks like."
   ]
  },
  {
   "cell_type": "code",
   "execution_count": 2,
   "metadata": {
    "colab": {
     "base_uri": "https://localhost:8080/"
    },
    "id": "Tnms8RR7KkaF",
    "outputId": "b42a1b41-0df6-4163-c016-a9e7542f1b2f",
    "scrolled": true
   },
   "outputs": [
    {
     "data": {
      "text/html": [
       "<div>\n",
       "<style scoped>\n",
       "    .dataframe tbody tr th:only-of-type {\n",
       "        vertical-align: middle;\n",
       "    }\n",
       "\n",
       "    .dataframe tbody tr th {\n",
       "        vertical-align: top;\n",
       "    }\n",
       "\n",
       "    .dataframe thead th {\n",
       "        text-align: right;\n",
       "    }\n",
       "</style>\n",
       "<table border=\"1\" class=\"dataframe\">\n",
       "  <thead>\n",
       "    <tr style=\"text-align: right;\">\n",
       "      <th></th>\n",
       "      <th>sepal length (cm)</th>\n",
       "      <th>sepal width (cm)</th>\n",
       "      <th>petal length (cm)</th>\n",
       "      <th>petal width (cm)</th>\n",
       "      <th>target</th>\n",
       "    </tr>\n",
       "  </thead>\n",
       "  <tbody>\n",
       "    <tr>\n",
       "      <th>0</th>\n",
       "      <td>5.1</td>\n",
       "      <td>3.5</td>\n",
       "      <td>1.4</td>\n",
       "      <td>0.2</td>\n",
       "      <td>0</td>\n",
       "    </tr>\n",
       "    <tr>\n",
       "      <th>1</th>\n",
       "      <td>4.9</td>\n",
       "      <td>3.0</td>\n",
       "      <td>1.4</td>\n",
       "      <td>0.2</td>\n",
       "      <td>0</td>\n",
       "    </tr>\n",
       "    <tr>\n",
       "      <th>2</th>\n",
       "      <td>4.7</td>\n",
       "      <td>3.2</td>\n",
       "      <td>1.3</td>\n",
       "      <td>0.2</td>\n",
       "      <td>0</td>\n",
       "    </tr>\n",
       "    <tr>\n",
       "      <th>3</th>\n",
       "      <td>4.6</td>\n",
       "      <td>3.1</td>\n",
       "      <td>1.5</td>\n",
       "      <td>0.2</td>\n",
       "      <td>0</td>\n",
       "    </tr>\n",
       "    <tr>\n",
       "      <th>4</th>\n",
       "      <td>5.0</td>\n",
       "      <td>3.6</td>\n",
       "      <td>1.4</td>\n",
       "      <td>0.2</td>\n",
       "      <td>0</td>\n",
       "    </tr>\n",
       "  </tbody>\n",
       "</table>\n",
       "</div>"
      ],
      "text/plain": [
       "   sepal length (cm)  sepal width (cm)  petal length (cm)  petal width (cm)  \\\n",
       "0                5.1               3.5                1.4               0.2   \n",
       "1                4.9               3.0                1.4               0.2   \n",
       "2                4.7               3.2                1.3               0.2   \n",
       "3                4.6               3.1                1.5               0.2   \n",
       "4                5.0               3.6                1.4               0.2   \n",
       "\n",
       "   target  \n",
       "0       0  \n",
       "1       0  \n",
       "2       0  \n",
       "3       0  \n",
       "4       0  "
      ]
     },
     "execution_count": 2,
     "metadata": {},
     "output_type": "execute_result"
    }
   ],
   "source": [
    "iris = datasets.load_iris()\n",
    "iris = pd.DataFrame(data= np.c_[iris['data'], iris['target']],\n",
    "                     columns= iris['feature_names'] + ['target'])\n",
    "iris = iris.astype({\"target\": int })\n",
    "\n",
    "iris.head()"
   ]
  },
  {
   "cell_type": "markdown",
   "metadata": {},
   "source": [
    "## Explore the data \n",
    "\n",
    "Let's take a moment to understand the format of the data. Each data contains sepal length, sepal width, petal length, petal width and a corresponding species label. The label is an integer value of either 0, 1, or 2 where 0 is a `Iris-setosa`, 1 is a `Iris-versicolo`, and 2 is a `Iris-virginica.`"
   ]
  },
  {
   "cell_type": "code",
   "execution_count": 3,
   "metadata": {
    "colab": {
     "base_uri": "https://localhost:8080/",
     "height": 299
    },
    "id": "_tVdpyFQKkd3",
    "outputId": "0c4b678a-f1c0-4af5-80df-e7dbe98507e6"
   },
   "outputs": [
    {
     "data": {
      "text/plain": [
       "<matplotlib.legend.Legend at 0x7fe978903c70>"
      ]
     },
     "execution_count": 3,
     "metadata": {},
     "output_type": "execute_result"
    },
    {
     "data": {
      "image/png": "[encoded data removed]",
      "text/plain": [
       "<Figure size 432x288 with 1 Axes>"
      ]
     },
     "metadata": {
      "needs_background": "light"
     },
     "output_type": "display_data"
    }
   ],
   "source": [
    "plt.scatter(iris['sepal length (cm)'][:50], iris['sepal width (cm)'][:50], label='Iris-setosa')\n",
    "plt.scatter(iris['sepal length (cm)'][51:], iris['sepal width (cm)'][51:], label='Iris-versicolo')\n",
    "plt.scatter(iris['sepal length (cm)'][101:], iris['sepal width (cm)'][101:], label='Iris-virginica')\n",
    "plt.xlabel('sepal length (cm)')\n",
    "plt.ylabel('sepal width (cm)')\n",
    "plt.legend(loc='best')"
   ]
  },
  {
   "cell_type": "markdown",
   "metadata": {},
   "source": [
    "The following two code blocks help us set up our data to use as input into our neural network model. You can refer back to the Logistic Regression notebook for an explanation on encoding our data."
   ]
  },
  {
   "cell_type": "code",
   "execution_count": 4,
   "metadata": {
    "id": "CzpqD0zXVKIT"
   },
   "outputs": [],
   "source": [
    "x = iris.drop(labels=['target'], axis=1).values\n",
    "y_ = iris['target'].values.reshape(-1, 1)\n",
    "encoder = OneHotEncoder(sparse=False)\n",
    "y = encoder.fit_transform(y_)"
   ]
  },
  {
   "cell_type": "markdown",
   "metadata": {},
   "source": [
    "Here, we're splitting the whole Iris dataset into a training set and a test set. The training set is a bit smaller than our test set, containing 20% of the original dataset while the other 80% will be used in testing our model. \n",
    "\n",
    "Feel free to change these values and see how the accuracy and loss of our model changes later down the road."
   ]
  },
  {
   "cell_type": "code",
   "execution_count": 5,
   "metadata": {
    "id": "iAldyTxES7jR"
   },
   "outputs": [],
   "source": [
    "from sklearn.model_selection import train_test_split\n",
    "from sklearn.utils import shuffle \n",
    "\n",
    "x, y = shuffle(x, y)\n",
    "train_x, test_x, train_y, test_y = train_test_split(x, y, test_size=0.8)"
   ]
  },
  {
   "cell_type": "markdown",
   "metadata": {},
   "source": [
    "## Building our neural network \n",
    "\n",
    "Finally, we can start to build a simple neural network. We'll use Tensorflow Keras to build our model. \n",
    "\n",
    "Overall, we have 4 layers to our neural network. The first layer is the input layer that we've named aptly. The activation function is the ReLU (Rectified Linear Unit) function, which is commonly used for neural networks. The input shape is `(4,),` representing the four features (sepal length, sepal width, petal length, petal width) we're interested in looking at to classify which Iris category the current array represents. \n",
    "\n",
    "Next, we have two \"hidden layers,\" or two layers sandwiched between our input and output layer. They also have a ReLU activation function. These hidden layers help the neural network break down the incoming data into unique parts to help the whole neural network better understand how to classify the piece of data. \n",
    "\n",
    "Lastly, we have the output layer. There are three nodes in our output layer, alongside a new activation function (`softmax`). `Softmax` helps to normalize our output probability in the 0-1 range so we can understand the output of our function better. Because we are using `softmax,` we need one node per category label. "
   ]
  },
  {
   "cell_type": "code",
   "execution_count": 6,
   "metadata": {
    "colab": {
     "base_uri": "https://localhost:8080/"
    },
    "id": "gG8mdEugMrMm",
    "outputId": "c9dca994-48c4-4e5b-afb7-2baa17d76c15"
   },
   "outputs": [
    {
     "name": "stdout",
     "output_type": "stream",
     "text": [
      "Model: \"sequential\"\n",
      "_________________________________________________________________\n",
      "Layer (type)                 Output Shape              Param #   \n",
      "=================================================================\n",
      "input (Dense)                (None, 10)                50        \n",
      "_________________________________________________________________\n",
      "hidden-1 (Dense)             (None, 10)                110       \n",
      "_________________________________________________________________\n",
      "hidden-2 (Dense)             (None, 10)                110       \n",
      "_________________________________________________________________\n",
      "output (Dense)               (None, 3)                 33        \n",
      "=================================================================\n",
      "Total params: 303\n",
      "Trainable params: 303\n",
      "Non-trainable params: 0\n",
      "_________________________________________________________________\n",
      "None\n"
     ]
    }
   ],
   "source": [
    "model = tf.keras.Sequential([\n",
    "  tf.keras.layers.Dense(10, activation=tf.nn.relu, input_shape=(4,), name='input'),  # input shape required\n",
    "  tf.keras.layers.Dense(10, activation=tf.nn.relu, name='hidden-1'),\n",
    "  tf.keras.layers.Dense(10, activation=tf.nn.relu, name='hidden-2'),\n",
    "  tf.keras.layers.Dense(3, activation='softmax', name='output')\n",
    "])\n",
    "\n",
    "print(model.summary())"
   ]
  },
  {
   "cell_type": "markdown",
   "metadata": {},
   "source": [
    "We can see what the output of our hidden layers looks like. The whole `predictions` array holds an array of vectors, where each vector is the hidden layers' probability calculations. The index of the array (0, 1, or 2) represents the calculated probability that the inputted data corresponds to that category of Iris, where 0 is a `Iris-setosa`, 1 is a `Iris-versicolo`, and 2 is a `Iris-virginica.`"
   ]
  },
  {
   "cell_type": "code",
   "execution_count": 7,
   "metadata": {
    "colab": {
     "base_uri": "https://localhost:8080/"
    },
    "id": "pe0MwRUiVukG",
    "outputId": "c9dead44-cf29-4720-a63c-7f7413da2221",
    "scrolled": false
   },
   "outputs": [
    {
     "data": {
      "text/plain": [
       "<tf.Tensor: shape=(5, 3), dtype=float32, numpy=\n",
       "array([[0.39168435, 0.29825673, 0.3100589 ],\n",
       "       [0.3711586 , 0.3093007 , 0.31954077],\n",
       "       [0.40709573, 0.29177618, 0.30112806],\n",
       "       [0.3683755 , 0.3089254 , 0.32269913],\n",
       "       [0.42215672, 0.28443775, 0.29340556]], dtype=float32)>"
      ]
     },
     "execution_count": 7,
     "metadata": {},
     "output_type": "execute_result"
    }
   ],
   "source": [
    "# hidden layer vector\n",
    "\n",
    "predictions = model(x)\n",
    "tf.nn.softmax(predictions[:5])"
   ]
  },
  {
   "cell_type": "markdown",
   "metadata": {},
   "source": [
    "## Train the model\n",
    "\n",
    "The next step is to train our model. We'll use a built-in optimizer to optimize our model with stochastic gradient descent (SGD), updating the parameters in our neural network through backpropogation. Backpropogation is essentially seeing our neural network reacts to changing the weights and biases within our model. Understanding the math behind backpropogation is more math-heavy, so we won't cover it too in-depth here. Refer to the site for more detail. \n",
    "\n",
    "We've also chosen to use a built-in a loss function (categorical cross-entropy loss). Cross-entropy loss, shown in the Logisitic Regression notebook, is used for binary classification while categorical cross-entropy loss is for multi-categorical classification such as this iris problem (we have three different classes). \n",
    "\n",
    "Feel free to play around with different optimizers and loss functions. You can find the full documentation on the Tensorflow site: [optimizers](https://www.tensorflow.org/api_docs/python/tf/keras/optimizers) and [loss functions](https://www.tensorflow.org/api_docs/python/tf/keras/losses)."
   ]
  },
  {
   "cell_type": "code",
   "execution_count": 8,
   "metadata": {},
   "outputs": [
    {
     "name": "stdout",
     "output_type": "stream",
     "text": [
      "Model: \"sequential\"\n",
      "_________________________________________________________________\n",
      "Layer (type)                 Output Shape              Param #   \n",
      "=================================================================\n",
      "input (Dense)                (None, 10)                50        \n",
      "_________________________________________________________________\n",
      "hidden-1 (Dense)             (None, 10)                110       \n",
      "_________________________________________________________________\n",
      "hidden-2 (Dense)             (None, 10)                110       \n",
      "_________________________________________________________________\n",
      "output (Dense)               (None, 3)                 33        \n",
      "=================================================================\n",
      "Total params: 303\n",
      "Trainable params: 303\n",
      "Non-trainable params: 0\n",
      "_________________________________________________________________\n"
     ]
    }
   ],
   "source": [
    "model.compile(optimizer='sgd', loss='categorical_crossentropy', metrics=['accuracy'])\n",
    "model.summary()\n",
    "\n",
    "# Initializing the Extractor module\n",
    "import libraries.extractioncallback as excb\n",
    "\n",
    "extractor = excb.CallbackDataExtractor(\n",
    "    model = model,\n",
    "    layer = 1,\n",
    "    validation_data = (test_x, test_y),\n",
    "    rec_int_values = True,\n",
    "    is_bin = False\n",
    ")\n"
   ]
  },
  {
   "cell_type": "code",
   "execution_count": 9,
   "metadata": {
    "colab": {
     "base_uri": "https://localhost:8080/"
    },
    "id": "r1aeXZD8MrbA",
    "outputId": "7c70bcca-d816-47c0-d706-0b8cd392bf8a"
   },
   "outputs": [
    {
     "name": "stdout",
     "output_type": "stream",
     "text": [
      "Epoch 1/10\n",
      "1/1 [==============================] - 1s 842ms/step - loss: 1.2871 - accuracy: 0.3333 - val_loss: 1.2904 - val_accuracy: 0.2222\n",
      "Epoch 2/10\n",
      "1/1 [==============================] - 0s 55ms/step - loss: 1.2272 - accuracy: 0.3333 - val_loss: 1.2295 - val_accuracy: 0.2222\n",
      "Epoch 3/10\n",
      "1/1 [==============================] - 0s 63ms/step - loss: 1.1859 - accuracy: 0.3333 - val_loss: 1.1845 - val_accuracy: 0.2222\n",
      "Epoch 4/10\n",
      "1/1 [==============================] - 0s 52ms/step - loss: 1.1561 - accuracy: 0.3333 - val_loss: 1.1504 - val_accuracy: 0.2222\n",
      "Epoch 5/10\n",
      "1/1 [==============================] - 0s 60ms/step - loss: 1.1340 - accuracy: 0.2381 - val_loss: 1.1234 - val_accuracy: 0.1111\n",
      "Epoch 6/10\n",
      "1/1 [==============================] - 0s 63ms/step - loss: 1.1166 - accuracy: 0.1429 - val_loss: 1.1017 - val_accuracy: 0.4444\n",
      "Epoch 7/10\n",
      "1/1 [==============================] - 0s 56ms/step - loss: 1.1027 - accuracy: 0.4286 - val_loss: 1.0836 - val_accuracy: 0.4444\n",
      "Epoch 8/10\n",
      "1/1 [==============================] - 0s 52ms/step - loss: 1.0909 - accuracy: 0.4286 - val_loss: 1.0684 - val_accuracy: 0.4444\n",
      "Epoch 9/10\n",
      "1/1 [==============================] - 0s 54ms/step - loss: 1.0809 - accuracy: 0.3333 - val_loss: 1.0554 - val_accuracy: 0.4444\n",
      "Epoch 10/10\n",
      "1/1 [==============================] - 0s 64ms/step - loss: 1.0723 - accuracy: 0.3333 - val_loss: 1.0442 - val_accuracy: 0.4444\n"
     ]
    }
   ],
   "source": [
    "hist = model.fit(train_x, train_y, verbose=1, batch_size=32, epochs=10, validation_split=0.3, callbacks=[extractor])"
   ]
  },
  {
   "cell_type": "markdown",
   "metadata": {},
   "source": [
    "There are two graphs below to demonstrate the relationship between accuracy, loss, and our epoch. What trend do you generally notice here? "
   ]
  },
  {
   "cell_type": "code",
   "execution_count": 10,
   "metadata": {
    "colab": {
     "base_uri": "https://localhost:8080/",
     "height": 558
    },
    "id": "QdabkSwphd_n",
    "outputId": "1d93e2ed-08ff-46ab-c86b-11f848c98bef",
    "scrolled": true
   },
   "outputs": [
    {
     "data": {
      "image/png": "[encoded data removed]",
      "text/plain": [
       "<Figure size 432x288 with 1 Axes>"
      ]
     },
     "metadata": {
      "needs_background": "light"
     },
     "output_type": "display_data"
    },
    {
     "data": {
      "image/png": "[encoded data removed]",
      "text/plain": [
       "<Figure size 432x288 with 1 Axes>"
      ]
     },
     "metadata": {
      "needs_background": "light"
     },
     "output_type": "display_data"
    }
   ],
   "source": [
    "plt.plot(hist.history['accuracy'])\n",
    "plt.plot(hist.history['val_accuracy'])\n",
    "\n",
    "plt.title('model accuracy')\n",
    "plt.ylabel('accuracy')\n",
    "plt.xlabel('epoch')\n",
    "plt.legend(['train','test'], loc='upper left')\n",
    "plt.show()\n",
    "\n",
    "plt.plot(hist.history['loss'])\n",
    "plt.plot(hist.history['val_loss'])\n",
    "\n",
    "plt.title('model loss')\n",
    "plt.ylabel('loss')\n",
    "plt.xlabel('epoch')\n",
    "plt.legend(['train','test'], loc='upper left')\n",
    "plt.show()"
   ]
  },
  {
   "cell_type": "code",
   "execution_count": 11,
   "metadata": {},
   "outputs": [],
   "source": [
    "# epoch_output = extractor.get_testing_results()\n",
    "\n",
    "# extractor.get_stored_predictions()\n",
    "# all_predictions = []\n",
    "# for epoch in extractor.get_stored_predictions():\n",
    "#     epoch_predictions = []\n",
    "#     for dp in epoch:\n",
    "#         epoch_predictions.append(int(dp.argmax()))                       \n",
    "#     all_predictions.append(epoch_predictions)\n",
    "\n",
    "# extractor.set_stored_predictions(all_predictions)\n",
    "\n",
    "\n",
    "\n",
    "        "
   ]
  },
  {
   "cell_type": "markdown",
   "metadata": {},
   "source": [
    "## Evaluate the model\n",
    "\n",
    "Now, let's see how the model performs on our test data set after the model has been trained. Two values will be returned: the loss of our model (a number which represents our error -- lower values are better), and the accuracy of our model. You can try adjusting the batch size too to see how it affects the model's loss and accuracy."
   ]
  },
  {
   "cell_type": "code",
   "execution_count": 12,
   "metadata": {},
   "outputs": [
    {
     "name": "stdout",
     "output_type": "stream",
     "text": [
      "[[0.3275677  0.30098125 0.37145105]\n",
      " [0.3026487  0.28876102 0.40859026]\n",
      " [0.31809053 0.28740454 0.39450493]\n",
      " [0.2923552  0.28960195 0.41804284]\n",
      " [0.31076372 0.27864093 0.41059533]\n",
      " [0.30047217 0.28299135 0.41653648]\n",
      " [0.3247938  0.3053703  0.36983588]\n",
      " [0.3048178  0.2935416  0.40164062]\n",
      " [0.33515477 0.30398113 0.36086413]\n",
      " [0.28661427 0.28195956 0.43142617]\n",
      " [0.31359193 0.29836234 0.38804576]\n",
      " [0.3076283  0.28778327 0.40458843]\n",
      " [0.31991065 0.2888131  0.39127627]\n",
      " [0.31867215 0.29131076 0.3900171 ]\n",
      " [0.3099396  0.29148138 0.39857906]\n",
      " [0.29256406 0.27308136 0.43435457]\n",
      " [0.29987052 0.2873912  0.41273826]\n",
      " [0.34227812 0.29532546 0.36239642]\n",
      " [0.32825986 0.30220076 0.3695394 ]\n",
      " [0.28679264 0.28074571 0.43246165]\n",
      " [0.2985147  0.28354743 0.41793787]\n",
      " [0.31446686 0.27924374 0.40628943]\n",
      " [0.28482854 0.2896571  0.4255143 ]\n",
      " [0.3330435  0.3008905  0.36606607]\n",
      " [0.29888943 0.29758805 0.40352258]\n",
      " [0.33327356 0.298447   0.3682794 ]\n",
      " [0.3105839  0.3048162  0.38459992]\n",
      " [0.33876306 0.30100024 0.3602367 ]\n",
      " [0.29277742 0.28590593 0.42131662]\n",
      " [0.31470367 0.29857948 0.38671678]\n",
      " [0.32214773 0.30133402 0.37651825]\n",
      " [0.2918223  0.2847077  0.42346996]\n",
      " [0.30010116 0.2818997  0.41799918]\n",
      " [0.33633018 0.2981637  0.3655061 ]\n",
      " [0.30352795 0.288021   0.40845108]\n",
      " [0.30631036 0.2855489  0.4081408 ]\n",
      " [0.32526422 0.3028516  0.37188417]\n",
      " [0.29516917 0.27937916 0.42545173]\n",
      " [0.31358498 0.30721664 0.37919843]\n",
      " [0.2959207  0.27498087 0.42909843]\n",
      " [0.29347897 0.30331737 0.4032037 ]\n",
      " [0.31989878 0.30473894 0.37536228]\n",
      " [0.28530663 0.2831178  0.43157554]\n",
      " [0.28096646 0.2855353  0.43349823]\n",
      " [0.32588458 0.30495894 0.36915648]\n",
      " [0.3139536  0.30316943 0.382877  ]\n",
      " [0.2903057  0.28628004 0.42341423]\n",
      " [0.29316434 0.2894189  0.41741678]\n",
      " [0.3331974  0.301322   0.36548054]\n",
      " [0.3225631  0.28718194 0.3902549 ]\n",
      " [0.30019093 0.29806954 0.40173957]\n",
      " [0.24074516 0.27924    0.48001486]\n",
      " [0.31028095 0.30702835 0.38269073]\n",
      " [0.3008397  0.29538578 0.40377453]\n",
      " [0.28431877 0.29885557 0.41682565]\n",
      " [0.28725198 0.2829833  0.4297647 ]\n",
      " [0.28262237 0.28393713 0.43344054]\n",
      " [0.32583013 0.3020109  0.37215894]\n",
      " [0.27476758 0.29126748 0.43396497]\n",
      " [0.32276693 0.30243033 0.3748027 ]\n",
      " [0.33268607 0.29820013 0.36911383]\n",
      " [0.30157357 0.2920032  0.40642318]\n",
      " [0.28581446 0.28904095 0.4251446 ]\n",
      " [0.2938542  0.2718396  0.43430617]\n",
      " [0.2917829  0.28880164 0.41941547]\n",
      " [0.33587095 0.3010409  0.36308816]\n",
      " [0.25223318 0.2801634  0.46760347]\n",
      " [0.3201082  0.30517402 0.37471777]\n",
      " [0.3052275  0.28636652 0.40840596]\n",
      " [0.31607053 0.29261845 0.39131102]\n",
      " [0.29102537 0.28502354 0.4239511 ]\n",
      " [0.278592   0.2957851  0.42562288]\n",
      " [0.3263447  0.30663118 0.36702406]\n",
      " [0.28279856 0.28976032 0.42744106]\n",
      " [0.26125416 0.28361583 0.45513007]\n",
      " [0.30600044 0.2934553  0.40054426]\n",
      " [0.32808045 0.30031982 0.37159976]\n",
      " [0.31580472 0.30618325 0.37801203]\n",
      " [0.3270944  0.30807975 0.36482587]\n",
      " [0.2999776  0.29041526 0.4096071 ]\n",
      " [0.34051332 0.2974433  0.36204335]\n",
      " [0.3428819  0.30146566 0.35565245]\n",
      " [0.30405587 0.29656988 0.39937428]\n",
      " [0.34876937 0.29512802 0.35610265]\n",
      " [0.3150212  0.30682212 0.3781567 ]\n",
      " [0.29855627 0.29014903 0.41129467]\n",
      " [0.3097135  0.28553787 0.4047486 ]\n",
      " [0.26774016 0.28237906 0.4498808 ]\n",
      " [0.30399805 0.31300187 0.3830001 ]\n",
      " [0.2803683  0.28829366 0.431338  ]\n",
      " [0.27878076 0.29259703 0.42862222]\n",
      " [0.2839511  0.28426817 0.43178076]\n",
      " [0.28851387 0.28027332 0.43121278]\n",
      " [0.29178053 0.29781848 0.41040093]\n",
      " [0.3046042  0.2890015  0.40639427]\n",
      " [0.32925224 0.30429128 0.36645648]\n",
      " [0.30847085 0.29047477 0.4010544 ]\n",
      " [0.26007414 0.28103164 0.4588943 ]\n",
      " [0.32784322 0.3034786  0.36867815]\n",
      " [0.32710966 0.28235808 0.39053223]\n",
      " [0.31254536 0.28842714 0.3990275 ]\n",
      " [0.2866195  0.29110175 0.42227876]\n",
      " [0.3401341  0.29745498 0.36241084]\n",
      " [0.30411735 0.27867118 0.4172115 ]\n",
      " [0.30492732 0.293323   0.40174964]\n",
      " [0.3215392  0.28875306 0.38970777]\n",
      " [0.31690124 0.2837969  0.39930183]\n",
      " [0.30267346 0.28616288 0.41116366]\n",
      " [0.31091404 0.30797738 0.38110858]\n",
      " [0.31742185 0.30429497 0.37828317]\n",
      " [0.3213533  0.29887167 0.3797751 ]\n",
      " [0.28184563 0.28577608 0.43237832]\n",
      " [0.297475   0.2885429  0.4139821 ]\n",
      " [0.2958223  0.2868232  0.41735452]\n",
      " [0.30289283 0.2900571  0.4070501 ]\n",
      " [0.31327462 0.30315664 0.38356876]\n",
      " [0.33679977 0.29568908 0.3675112 ]\n",
      " [0.26209906 0.2793029  0.45859802]\n",
      " [0.3218354  0.3032727  0.37489197]\n",
      " [0.27157837 0.29464954 0.43377203]]\n",
      "                precision    recall  f1-score   support\n",
      "\n",
      "   Iris-setosa       0.00      0.00      0.00        41\n",
      "Iris-versicolo       0.00      0.00      0.00        40\n",
      "Iris-virginica       0.33      1.00      0.49        39\n",
      "\n",
      "      accuracy                           0.33       120\n",
      "     macro avg       0.11      0.33      0.16       120\n",
      "  weighted avg       0.11      0.33      0.16       120\n",
      "\n"
     ]
    },
    {
     "name": "stderr",
     "output_type": "stream",
     "text": [
      "/home/owen/.local/lib/python3.9/site-packages/sklearn/metrics/_classification.py:1245: UndefinedMetricWarning: Precision and F-score are ill-defined and being set to 0.0 in labels with no predicted samples. Use `zero_division` parameter to control this behavior.\n",
      "  _warn_prf(average, modifier, msg_start, len(result))\n",
      "/home/owen/.local/lib/python3.9/site-packages/sklearn/metrics/_classification.py:1245: UndefinedMetricWarning: Precision and F-score are ill-defined and being set to 0.0 in labels with no predicted samples. Use `zero_division` parameter to control this behavior.\n",
      "  _warn_prf(average, modifier, msg_start, len(result))\n",
      "/home/owen/.local/lib/python3.9/site-packages/sklearn/metrics/_classification.py:1245: UndefinedMetricWarning: Precision and F-score are ill-defined and being set to 0.0 in labels with no predicted samples. Use `zero_division` parameter to control this behavior.\n",
      "  _warn_prf(average, modifier, msg_start, len(result))\n"
     ]
    }
   ],
   "source": [
    "from sklearn.metrics import classification_report\n",
    "from sklearn.preprocessing import MinMaxScaler\n",
    "\n",
    "# make a prediction\n",
    "testingPredictions = model.predict(test_x)\n",
    "testingPredictions = list(testingPredictions.argmax(axis=-1))\n",
    "\n",
    "confidence_scores = model.predict(test_x, batch_size=32)\n",
    "print(confidence_scores)\n",
    "\n",
    "target_names = ['Iris-setosa', 'Iris-versicolo', 'Iris-virginica']\n",
    "print(classification_report(test_y.argmax(axis=-1), testingPredictions, target_names=target_names))"
   ]
  },
  {
   "cell_type": "code",
   "execution_count": 13,
   "metadata": {},
   "outputs": [
    {
     "name": "stdout",
     "output_type": "stream",
     "text": [
      "4/4 [==============================] - 0s 2ms/step - loss: 1.0686 - accuracy: 0.3250\n",
      "loss: 1.069\n",
      "accuracy: 0.325\n"
     ]
    }
   ],
   "source": [
    "results = model.evaluate(test_x, test_y, verbose=1)\n",
    "\n",
    "for name, value in zip(model.metrics_names, results):\n",
    "  print(\"%s: %.3f\" % (name, value))"
   ]
  },
  {
   "cell_type": "markdown",
   "metadata": {},
   "source": [
    "Now, we need to export the data in order to support some interactive visualizations that we've created. Feel free to skip over this code block and move to the interactive visualizations below."
   ]
  },
  {
   "cell_type": "code",
   "execution_count": 14,
   "metadata": {},
   "outputs": [],
   "source": [
    "epoch_output = extractor.get_testing_results()"
   ]
  },
  {
   "cell_type": "code",
   "execution_count": 15,
   "metadata": {
    "colab": {
     "base_uri": "https://localhost:8080/",
     "height": 351
    },
    "id": "oO_hbdmkh-e4",
    "outputId": "58ea8214-b86e-4baf-d2ec-b1f8366af5b4"
   },
   "outputs": [],
   "source": [
    "# output data as json \n",
    "import json\n",
    "import os\n",
    "import sys\n",
    "\n",
    "output_directory = \"libraries/\"\n",
    "output_filename = \"predict_nn.json\"\n",
    "full_path = os.path.join(output_directory, output_filename)\n",
    "\n",
    "data = {}\n",
    "for i in range(len(epoch_output[0])):\n",
    "    data[i] = {}\n",
    "    data[i]['Num Epochs'] = len(epoch_output)\n",
    "    data[i]['Index'] = i\n",
    "    data[i]['Test Label'] = int(epoch_output[0]['actual'][i].argmax())\n",
    "    data[i]['Test Prediction'] = {}\n",
    "    data[i]['Test Confidence Score'] = {}\n",
    "    data[i]['Intermediate Values'] = {}\n",
    "    for j in range(len(epoch_output)):\n",
    "        data[i]['Test Prediction'][j] = int(epoch_output[j]['prediction'][i])\n",
    "        data[i]['Test Confidence Score'][j] = epoch_output[j]['confidence_score'][i].tolist()\n",
    "        data[i]['Intermediate Values'][j] = epoch_output[j]['intermediate_values'][i]\n",
    "    data[i]['Test Sentence'] = epoch_output[0]['input'][i].tolist()\n",
    "    \n",
    "with open(full_path, 'w') as outfile:\n",
    "    json.dump(data, outfile, indent=4, sort_keys=False)"
   ]
  },
  {
   "cell_type": "code",
   "execution_count": 1,
   "metadata": {},
   "outputs": [],
   "source": [
    "import json\n",
    "import os\n",
    "import sys\n",
    "\n",
    "output_directory = \"libraries/\"\n",
    "output_filename = \"predict_nn.json\"\n",
    "full_path = os.path.join(output_directory, output_filename)\n",
    "\n",
    "module_path = os.path.abspath(os.path.join('..'))\n",
    "if module_path not in sys.path:\n",
    "    sys.path.append(module_path)\n",
    "    \n",
    "import libraries.mlvislib as mlvs"
   ]
  },
  {
   "cell_type": "code",
   "execution_count": 2,
   "metadata": {
    "scrolled": false
   },
   "outputs": [
    {
     "data": {
      "text/html": [
       "<script src=\"https://d3js.org/d3.v3.min.js\" charset=\"utf-8\"></script>"
      ],
      "text/plain": [
       "<IPython.core.display.HTML object>"
      ]
     },
     "metadata": {},
     "output_type": "display_data"
    },
    {
     "data": {
      "text/html": [
       "\n",
       "        <style> \n",
       "        body {\n",
       "            font-family: Arial, sans-serif;\n",
       "            font-size: larger;\n",
       "        }\n",
       "        .box_highlighted {\n",
       "            background-color: #ffb;\n",
       "            border: 1px solid #b53;\n",
       "        }\n",
       "        .highlight{\n",
       "            background-color: yellow;\n",
       "        }\n",
       "        .lighthigh{\n",
       "            background-color: green;\n",
       "        }\n",
       "        #testList {                                           /* List in data Section */\n",
       "            list-style-type: none;\n",
       "            padding-left: 0;\n",
       "            margin: 0;\n",
       "        }\n",
       "        li.dataPoint{\n",
       "            font-size: smaller;\n",
       "        }\n",
       "        li.dataPoint:nth-child(odd){                          /* Alternating list item color */\n",
       "            background: #999;\n",
       "        }\n",
       "        table.xaxis {                                         /* X-axis of table */\n",
       "            table-layout: auto;\n",
       "            width: 750px;\n",
       "            margin-left: 26px !important;\n",
       "            text-align: center;\n",
       "        }\n",
       "        td.xlabel {\n",
       "            text-align: center;\n",
       "        }\n",
       "        table.yaxis {                                         /* Y-axis of table */\n",
       "            float: left;\n",
       "            display: inline;\n",
       "            table-layout: auto;\n",
       "            height: 750px;\n",
       "            writing-mode: sideways-lr;\n",
       "        }\n",
       "        td.ylabel {\n",
       "            text-align: center;\n",
       "        }\n",
       "        #review{                                              /* Data Section */\n",
       "            border:1px solid blue;\n",
       "            padding: 5px;\n",
       "            float: left;\n",
       "            width: 750px;\n",
       "            height: 500px;\n",
       "            background-color: white;\n",
       "            margin: 20px;\n",
       "            overflow: scroll;\n",
       "            }\n",
       "        #matrix{\n",
       "            border:1px solid blue;\n",
       "            padding: 5px;\n",
       "            float: left;\n",
       "            width: 750px;\n",
       "            display: inline;\n",
       "        }\n",
       "        #slider {\n",
       "          -webkit-appearance: none;\n",
       "          width: 100%;\n",
       "          height: 15px;\n",
       "          border-radius: 5px;\n",
       "          background: #d3d3d3;\n",
       "          outline: none;\n",
       "          opacity: 0.7;\n",
       "          -webkit-transition: .2s;\n",
       "          transition: opacity .2s;\n",
       "        }\n",
       "        #slider::-webkit-slider-thumb {\n",
       "          -webkit-appearance: none;\n",
       "          appearance: none;\n",
       "          width: 25px;\n",
       "          height: 25px;\n",
       "          border-radius: 50%;\n",
       "          background: #4ca2af;\n",
       "          cursor: pointer;\n",
       "        }\n",
       "        #slider::-moz-range-thumb {\n",
       "          width: 25px;\n",
       "          height: 25px;\n",
       "          border-radius: 50%;\n",
       "          background: #4ca2af;\n",
       "          cursor: pointer;\n",
       "        }\n",
       "     </style>\n",
       "        <h1> Interactive Confusion Matrix </h1>\n",
       "        <h3 id=\"confidence_setting\"> Confidence: 0.5 </h3>\n",
       "        <input class=\"slider\" id=\"confidence_slider\" type=\"range\" min=\"0\" max=\"1\" step=\".1\" value=\".5\"/>\n",
       "        <h3 id=\"epoch_setting\"> Epoch: 1 </h3>\n",
       "        <input class=\"slider\" id=\"epoch_slider\" type=\"range\" min=\"1\" max=\"20\" step=\"1\" value=\"1\"/>\n",
       "        <table class=\"xaxis\">\n",
       "            <tr> </tr>\n",
       "        </table>\n",
       "        <div>\n",
       "        <div>\n",
       "            <div>\n",
       "                <table class=\"yaxis\">\n",
       "                    <tr> </tr>\n",
       "                </table>\n",
       "                <div id=\"matrix\"></div>\n",
       "                <div id=\"review\">\n",
       "                    Data For:\n",
       "                    <ul id = \"testList\"></ul>\n",
       "                </div>\n",
       "            </div>\n",
       "        </div>\n",
       "        <script> \n",
       "        /*--------------------------------------------------------------------------------\n",
       "        Function: extractTypes\n",
       "        Behavior: Identifies what different types each data point can be identified as based\n",
       "            off of the 'true_label' attribute in JSON file.\n",
       "        Input: JSON file\n",
       "        Returns: Returns array of possible values for 'Test Label'.\n",
       "        --------------------------------------------------------------------------------*/\n",
       "        function extractTypes(data){\n",
       "            var lookup = {};\n",
       "            var items = data;\n",
       "            var result = [];\n",
       "            for (var item, i=0; item = items[i++];){\n",
       "                var name = item['Test Label'];\n",
       "                if(!(name in lookup)){\n",
       "                    lookup[name] = 1;\n",
       "                    result.push(name);\n",
       "                }\n",
       "            }\n",
       "            return result.sort();\n",
       "        }\n",
       "\n",
       "        /*--------------------------------------------------------------------------------\n",
       "        Function: fetchDataWindowResults\n",
       "        Behavior: Fetches subset of 'd' variable to be displayed in 'Data' window\n",
       "        Input: 'd' variable, testLabel, predLabel, epoch, conf\n",
       "        Returns: Subset of 'd' variable formatted the same as 'd'\n",
       "        --------------------------------------------------------------------------------*/\n",
       "        function fetchDataWindowResults(d, testLabel, predLabel, epoch, conf){\n",
       "            console.log(\"Visualization: Calling fetchDataWindowResults...\");\n",
       "            var fullDataSet = d;\n",
       "            var selectedTestLabel = testLabel;\n",
       "            var selectedPredictionLabel = predLabel;\n",
       "            var selectedEpoch = epoch;\n",
       "            var selectedConfMin = conf;\n",
       "            var selectedEntries = []\n",
       "            for (const dataPoint of Object.entries(d)){\n",
       "                var currentPrediction = dataPoint[1]['Test Prediction'][epoch];\n",
       "                var currentTestLabel = dataPoint[1]['Test Label'];\n",
       "                var currentSentence = dataPoint[1]['Test Sentence'];\n",
       "                var currentConfScore = dataPoint[1]['Test Confidence Score'][epoch];\n",
       "                var bestConfScore = Math.max.apply(Math, currentConfScore);\n",
       "                if(\n",
       "                currentPrediction == selectedPredictionLabel &&\n",
       "                currentTestLabel == selectedTestLabel &&\n",
       "                bestConfScore >= selectedConfMin){\n",
       "                    selectedEntries.push(dataPoint);\n",
       "                }\n",
       "            }\n",
       "            return selectedEntries;\n",
       "        }\n",
       "\n",
       "        /*--------------------------------------------------------------------------------\n",
       "        Function: addAxisLabels\n",
       "        Behavior: Adds x and y axis components to the DOM and text labels should be\n",
       "            placed next to div for matrix\n",
       "        Input: takes two string arrays, one for the x and one for the y axis\n",
       "        Returns: N/A\n",
       "        --------------------------------------------------------------------------------*/\n",
       "        function addAxisLabels(){\n",
       "            var xaxis_labels = ['Setosa', 'Veriscolo', 'Virginica']\n",
       "            var yaxis_labels = ['Virginica', 'Veriscolo', 'Setosa']\n",
       "            for(var i = 0; i < xaxis_labels.length; i++){\n",
       "                d3.select(\".xaxis\").selectAll(\"tr\").append(\"td\").text(xaxis_labels[i])\n",
       "                    .classed(\"xlabel\", true);\n",
       "            }\n",
       "            for(var i = 0; i < yaxis_labels.length; i++){\n",
       "                d3.select(\".yaxis\").selectAll(\"tr\").append(\"td\").text(yaxis_labels[i])\n",
       "                    .attr(\"height\", (750 / yaxis_labels.length)).classed(\"ylabel\", true);\n",
       "            }\n",
       "        }\n",
       "        addAxisLabels()                               // Calling function to add axis' to the DOM\n",
       "\n",
       "        /*--------------------------------------------------------------------------------\n",
       "        Function: fillMatrix\n",
       "        Behavior: Does the work of actually placing selected datapoints into 'rect' items\n",
       "            and inserting them into the matrix svg (redefines 'rect' variable)\n",
       "        Input: None\n",
       "        Output: None\n",
       "        --------------------------------------------------------------------------------*/\n",
       "        function fillMatrix(){\n",
       "            console.log(\"Debugging: Filling Matrix...\");\n",
       "            rect = svg.selectAll(\"rect\")                                                                                       // Defining rect as child of SVG\n",
       "                          .data(datasubset)\n",
       "                          .enter()\n",
       "                          .append(\"rect\");\n",
       "            /*--------------------------------------------------------------------------------\n",
       "            Format: d[trueLabel, predictedLabel, entryText, index, conf_scores]\n",
       "            --------------------------------------------------------------------------------*/\n",
       "            rect.attr(\"x\", function (d){                                                                                       // Define x coordinate to place rect\n",
       "                    var matrixnum = (parseInt(d[1][currentEpochSetting -1]) * tableDimension) + parseInt(d[0]);\n",
       "                    var inmatrixcol = counters[matrixnum] % blockStackDimension;\n",
       "                    counters[matrixnum]++;\n",
       "                    return (d[1][currentEpochSetting -1] * (cellDimension + marginBuffer)) + (inmatrixcol * (cubeDimension));\n",
       "                })\n",
       "                .attr(\"y\", function(d){                                                                                        // Define y coordinate to place rect\n",
       "                    var matrixnum = (parseInt(d[1][currentEpochSetting -1] * tableDimension) + parseInt(d[0]));\n",
       "                    var hm = Math.floor(ycounters[matrixnum]/blockStackDimension);\n",
       "                    ycounters[matrixnum]++;\n",
       "                    return (d[0] * (cellDimension + marginBuffer)) + (hm * (cubeDimension));\n",
       "                })\n",
       "                .attr(\"id\", function(d){                                                                                       // Define unique id of rect\n",
       "                    return \"rect\" + d[3];\n",
       "                })\n",
       "                .attr(\"width\", function(d){                                                                                    // Define width of rect\n",
       "                    return cubeDimension;\n",
       "                })\n",
       "                .attr(\"height\", function(d){                                                                                   // Define height of rect\n",
       "                    return cubeDimension;\n",
       "                })\n",
       "                .attr(\"opacity\", function(d){                                                                                  // Define opacity of rect\n",
       "                    return 1;\n",
       "                })\n",
       "                .attr(\"fill\", function(d){                                                                                     // Define color of rect\n",
       "                    return (\"black\");\n",
       "                })\n",
       "                .attr(\"class\", function(d){                                                                                    // Define class of rect ( currently unused )\n",
       "                    predicted_label = \"predicted_label_\" + d[1][currentEpochSetting -1];\n",
       "                    true_label = \"true_label_\" + d[0];\n",
       "                    return true_label + \" \" + predicted_label;\n",
       "            });\n",
       "        }\n",
       "\n",
       "        /*--------------------------------------------------------------------------------\n",
       "        Function: clickedRect\n",
       "        Behavior: Activates when a rect is clicked, will find all rect's in same matrix\n",
       "            cell and color these blue, and all other cells black. This will then make a\n",
       "            call to fetchDataWindowResults to provide entries to the data window that\n",
       "            correspond with the entries to this cell\n",
       "        Input: Reference to clicked rect as well as the entire dataset to parse through\n",
       "        Returns: N/A\n",
       "        --------------------------------------------------------------------------------*/\n",
       "        function clickedRect(d_on, d){\n",
       "            var actual = d_on[0];\n",
       "            var prediction = d_on[1][currentEpochSetting-1];\n",
       "            var selectedDataSet = fetchDataWindowResults(d, actual, prediction,                                                 // Fetch data points for selected cell\n",
       "                (currentEpochSetting - 1), currentConfSetting);\n",
       "            d3.selectAll('rect').style('fill', \"black\");                                                                        // Selecting all rects and coloring black\n",
       "            d3.selectAll('rect')                                                                                                // Coloring rects in selected quadrent blue\n",
       "                .filter(function(d) {\n",
       "                    if( d[0] == actual && d[1][currentEpochSetting-1] == prediction)\n",
       "                        return 1;\n",
       "                    else\n",
       "                        return 0;\n",
       "                })\n",
       "                .style('fill', \"blue\");\n",
       "            var data_section_title = \"Data for: Label (\" + d_on[0] + \") Prediction (\" + d_on[1][currentEpochSetting-1] + \")\";\n",
       "            d3.select('#review').text(data_section_title);                                                                      // Updating title of 'Data' window\n",
       "            d3.select('#review').append(\"ul\").attr(\"id\", \"testList\")                                                            // Creating a new list to display\n",
       "            d3.select(\"#testList\").selectAll(\"li\").remove();                                                                    // Removing all old list items\n",
       "            for (var i = 0; i < selectedDataSet.length; i++){                                                                   // Add list entries for 'Sentence' and Confidence score of selected data\n",
       "                var tableRowData = selectedDataSet[i][1];\n",
       "                var dataPointString = \" Input Data: \" + tableRowData['Test Sentence'] +\n",
       "                \" Confidence Score: \" +  tableRowData['Test Confidence Score'][currentEpochSetting - 1];\n",
       "                d3.select(\"#testList\").append(\"li\").text(dataPointString).classed(\"dataPoint\", true);\n",
       "            }\n",
       "        }\n",
       "\n",
       "        /*--------------------------------------------------------------------------------\n",
       "        Function: emptyMatrix\n",
       "        Behavior: Empties out entire confusion matrix of any rect's, as well as resets\n",
       "            counters used when placing in new rects\n",
       "        Input: N/A\n",
       "        Returns: N/A\n",
       "        --------------------------------------------------------------------------------*/\n",
       "        function emptyMatrix(){\n",
       "            console.log(\"CALLEWD EMPTY\");\n",
       "            counters = new Array(tableDimension * tableDimension).fill(0);\n",
       "            ycounters = new Array(tableDimension * tableDimension).fill(0);\n",
       "            svg.selectAll(\"*\").remove();\n",
       "        }\n",
       "\n",
       "        /*--------------------------------------------------------------------------------\n",
       "        Function: refineChoice\n",
       "        Behavior: Filters the dataset referenced when adding rect's to the matrix to only\n",
       "            include data that has a confidence score greater than that selected on the\n",
       "            slider.\n",
       "        Input: N/A\n",
       "        Returns: N/A\n",
       "        --------------------------------------------------------------------------------*/\n",
       "        function refineChoice(){\n",
       "            datasubset = [];\n",
       "            for( var i = 0; i < dataset.length; i++ ){\n",
       "                datapoint = dataset[i];\n",
       "                cScore = Math.max.apply(Math, dataset[i][4][currentEpochSetting-1]);\n",
       "                if( cScore >= currentConfSetting ){\n",
       "                    datasubset.push(datapoint);\n",
       "                }\n",
       "            }\n",
       "        }\n",
       "\n",
       "        /*--------------------------------------------------------------------------------\n",
       "        GLOBAL VARIABLES: DECLARATIONS\n",
       "        --------------------------------------------------------------------------------*/\n",
       "        console.log(\"Visualization: Running JavaScript...\");\n",
       "        var dname = \"libraries/predict_nn.json\";              // Path to local JSON file storing data\n",
       "        var rawJSONData = null;                       // Data from JSON read operation\n",
       "        var currentConfSetting = .5;                  // Set confidence score minimum to default\n",
       "        var currentEpochSetting = 1;                  // Set epoch setting to default\n",
       "        var lastEpochIndex = 0;                       // Max value that epoch slider can reach\n",
       "        var totalItems = null;                        // Total number of boxes that should appear\n",
       "        var possibleOutputValues = null;              // Possible values that predictions may produce\n",
       "        var tableDimension = null;                    // Dimensions of table (square so x and y are same)\n",
       "        var dataset = []                              // JSON is read into this array\n",
       "        var datasubset = []                           // Selected values from dataset\n",
       "        var table = null;                             // Reference for how many boxes should be in each matrix cell\n",
       "        var svg = null;                               // SVG graphic\n",
       "        var rect = null;                              // Rectangles which are put into above graphic\n",
       "        var w = 750;                                  // Width of matrix\n",
       "        var h = 750;                                  // Height of matrix\n",
       "        var counters = null;                          // Current 'x' position when placing rects\n",
       "        var ycounters = null;                         // Curent 'y' position when placing rects\n",
       "        var cellDimension = null;                     // Height and width to make each cell on matrix\n",
       "        var blockStackDimension = null;               // How many cubes to place on a single row in matrix\n",
       "        var marginBuffer = null;                      // How much room to leave between cells in matrix\n",
       "        var cubeDimension = null;                     // Dimensions of each rect\n",
       "\n",
       "        /*--------------------------------------------------------------------------------\n",
       "        Creating Visualization / Main\n",
       "        --------------------------------------------------------------------------------*/\n",
       "        d3.json( \"libraries/predict_nn.json\", function(d) {\n",
       "            rawJSONData = d;                                                                               // Storing JSON after read operation\n",
       "            /*--------------------------------------------------------------------------------\n",
       "            GLOBAL VARIABLES: DEFINITIONS\n",
       "            --------------------------------------------------------------------------------*/\n",
       "            totalItems = Object.keys(d).length                                                             // Defining totalItems\n",
       "            possibleOutputValues = extractTypes(d);                                                        // Defining possibleOutputValues\n",
       "            tableDimension = possibleOutputValues.length;                                                  // Defining tableDimension\n",
       "            table = new Array(tableDimension);                                                             // Initializing table\n",
       "            for(var i=0; i<tableDimension; i++){\n",
       "                table[i] = new Array(tableDimension);\n",
       "                for(var j=0; j<tableDimension; j++){\n",
       "                    table[i][j] = 0;\n",
       "                }\n",
       "            }\n",
       "            lastEpochIndex = d[0]['Num Epochs']                                                            // Defining lastEpochIndex\n",
       "            d3.select(\"#epoch_slider\").attr(\"max\", lastEpochIndex);                                        // Embedding lastEpochIndex\n",
       "            for(var jsonEntry, i=0; jsonEntry = d[i++];){                                                  // Storing JSON data in memory\n",
       "                var index = i;\n",
       "                var entryText = jsonEntry[\"Test Sentence\"];\n",
       "                var confidenceScore = jsonEntry[\"Test Confidence Score\"];\n",
       "                var trueLabel = jsonEntry[\"Test Label\"];\n",
       "                var predictedLabel = jsonEntry[\"Test Prediction\"];\n",
       "                var tableXCoordinate = possibleOutputValues.indexOf(predictedLabel[currentEpochSetting-1]); //Predicted\n",
       "                var tableYCoordinate = possibleOutputValues.indexOf(trueLabel); // Actual\n",
       "                table[tableXCoordinate][tableYCoordinate]+=1;\n",
       "                dataset.push([trueLabel, predictedLabel, entryText, index, confidenceScore]);\n",
       "            }\n",
       "            svg = d3.select(\"body\")                                                                        // Defining svg\n",
       "                        .select(\"#matrix\")\n",
       "                        .append(\"svg\")\n",
       "                        .attr(\"width\", w)\n",
       "                        .attr(\"height\", h);\n",
       "            counters = new Array(tableDimension * tableDimension).fill(0);                                 // Defining conters\n",
       "            ycounters = new Array(tableDimension * tableDimension).fill(0);                                // Defining ycounters\n",
       "            cellDimension = h / tableDimension;                                                            // Defining celldimension\n",
       "            blockStackDimension = Math.round(Math.sqrt(totalItems)) + 1;                                   // Defining blockStackDimension\n",
       "            marginBuffer = 5;                                                                              // Defining marginBuffer\n",
       "            cubeDimension = ((cellDimension - marginBuffer) / blockStackDimension);                        // Defining cubeDimension\n",
       "            /*--------------------------------------------------------------------------------\n",
       "            INITIALIZING MATRIX\n",
       "            --------------------------------------------------------------------------------*/\n",
       "            refineChoice();                                                                                // Filter based on default confidence score\n",
       "            fillMatrix();                                                                                  // Place rects on matrix\n",
       "            rect.on(\"click\",function(d_on){ clickedRect(d_on, d) });                                       // Define 'click' behavior\n",
       "            /*--------------------------------------------------------------------------------\n",
       "            Function: Slider Re-Draw\n",
       "            Behavior: This d3 code will redraw each time there is a change in the slider.\n",
       "            Input: None\n",
       "            Returns: N/A\n",
       "            --------------------------------------------------------------------------------*/\n",
       "            d3.selectAll(\".slider\").on(\"change\", function() {\n",
       "                if(this.id == \"confidence_slider\"){\n",
       "                    currentConfSetting = this.value;\n",
       "                }\n",
       "                if(this.id == \"epoch_slider\"){\n",
       "                    currentEpochSetting = this.value;\n",
       "                }\n",
       "                d3.select(\"#confidence_setting\").text(\"Confidence: \" + currentConfSetting);                    // Update confidence slider header to reflect change\n",
       "                d3.select(\"#epoch_setting\").text(\"Epoch: \" + currentEpochSetting);                             // Update epoch slider header to reflect change\n",
       "                emptyMatrix();                                                                                 // Remove all current rects from matrix\n",
       "                refineChoice();                                                                                // Filter data for changes in min confidence score\n",
       "                fillMatrix();                                                                                  // Place new set of datapoints in matrix\n",
       "                rect.on(\"click\",function(d_on){ clickedRect(d_on, rawJSONData) });                             // Re-assign click function to rects\n",
       "            })\n",
       "        });\n",
       "\n",
       "     </script>\n",
       "        "
      ],
      "text/plain": [
       "<IPython.core.display.HTML object>"
      ]
     },
     "metadata": {},
     "output_type": "display_data"
    }
   ],
   "source": [
    "cm = mlvs.ConfusionMatrix(full_path, x_labels=[\"Setosa\", \"Veriscolo\", \"Virginica\"], y_labels=[\"Virginica\", \"Veriscolo\", \"Setosa\"])\n",
    "cm.display()"
   ]
  },
  {
   "cell_type": "code",
   "execution_count": null,
   "metadata": {},
   "outputs": [],
   "source": []
  }
 ],
 "metadata": {
  "colab": {
   "collapsed_sections": [],
   "name": "nn.ipynb",
   "provenance": []
  },
  "kernelspec": {
   "display_name": "Python 3",
   "language": "python",
   "name": "python3"
  },
  "language_info": {
   "codemirror_mode": {
    "name": "ipython",
    "version": 3
   },
   "file_extension": ".py",
   "mimetype": "text/x-python",
   "name": "python",
   "nbconvert_exporter": "python",
   "pygments_lexer": "ipython3",
   "version": "3.9.4"
  }
 },
 "nbformat": 4,
 "nbformat_minor": 1
}
