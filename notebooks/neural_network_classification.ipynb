{
 "cells": [
  {
   "cell_type": "markdown",
   "metadata": {},
   "source": [
    "# Creating a Neural Network for Classification \n",
    "\n",
    "In this notebook, we'll learn how to create a neural network for multi-categorical classification using the Iris dataset. This is the same dataset that was explored in the Logistic Regression notebook, but now using an entirely different models. The ideas are the same, however, so if you'd like extra support refer back to the Logistic Regression notebook where concepts like loss and optimization are broken down a bit more.\n"
   ]
  },
  {
   "cell_type": "markdown",
   "metadata": {},
   "source": [
    "We'll start off by importing some libraries that will be helpful for us to build out our model. `sklearn` (scikitlearn) is another helpful machine learning-related library, and will be where we get the Iris dataset from."
   ]
  },
  {
   "cell_type": "code",
   "execution_count": 1,
   "metadata": {
    "id": "LEVo4pdsKkNb"
   },
   "outputs": [
    {
     "data": {
      "text/html": [
       "<script data-require=\"d3@3.5.3\" data-semver=\"3.5.3\" src=\"//cdnjs.cloudflare.com/ajax/libs/d3/3.5.3/d3.js\"></script>"
      ],
      "text/plain": [
       "<IPython.core.display.HTML object>"
      ]
     },
     "metadata": {},
     "output_type": "display_data"
    }
   ],
   "source": [
    "from sklearn import datasets\n",
    "from sklearn.preprocessing import OneHotEncoder\n",
    "import numpy as np \n",
    "import matplotlib.pyplot as plt \n",
    "import pandas as pd\n",
    "import tensorflow as tf\n",
    "import json\n",
    "import os\n",
    "import sys\n",
    "\n",
    "from IPython.core.display import HTML, display\n",
    "# Initializing D3 for the entire notebook (this fixes error requiring kernel to load twice)\n",
    "# (feel free to move this line to anywhere in notebook before visualizations)\n",
    "display(HTML('<script data-require=\"d3@3.5.3\" data-semver=\"3.5.3\" src=\"//cdnjs.cloudflare.com/ajax/libs/d3/3.5.3/d3.js\"></script>'))"
   ]
  },
  {
   "cell_type": "markdown",
   "metadata": {},
   "source": [
    "## Load the dataset\n",
    "\n",
    "The Iris flower dataset is available on the [Keras dataset API](https://scikit-learn.org/stable/modules/generated/sklearn.datasets.load_iris.html) if you'd like to see the raw HTML.\n",
    "\n",
    "The following code loads the Iris dataset onto this notebook. We'll peek at what this dataset looks like."
   ]
  },
  {
   "cell_type": "code",
   "execution_count": 2,
   "metadata": {
    "colab": {
     "base_uri": "https://localhost:8080/"
    },
    "id": "Tnms8RR7KkaF",
    "outputId": "b42a1b41-0df6-4163-c016-a9e7542f1b2f",
    "scrolled": true
   },
   "outputs": [
    {
     "data": {
      "text/html": [
       "<div>\n",
       "<style scoped>\n",
       "    .dataframe tbody tr th:only-of-type {\n",
       "        vertical-align: middle;\n",
       "    }\n",
       "\n",
       "    .dataframe tbody tr th {\n",
       "        vertical-align: top;\n",
       "    }\n",
       "\n",
       "    .dataframe thead th {\n",
       "        text-align: right;\n",
       "    }\n",
       "</style>\n",
       "<table border=\"1\" class=\"dataframe\">\n",
       "  <thead>\n",
       "    <tr style=\"text-align: right;\">\n",
       "      <th></th>\n",
       "      <th>sepal length (cm)</th>\n",
       "      <th>sepal width (cm)</th>\n",
       "      <th>petal length (cm)</th>\n",
       "      <th>petal width (cm)</th>\n",
       "      <th>target</th>\n",
       "    </tr>\n",
       "  </thead>\n",
       "  <tbody>\n",
       "    <tr>\n",
       "      <th>0</th>\n",
       "      <td>5.1</td>\n",
       "      <td>3.5</td>\n",
       "      <td>1.4</td>\n",
       "      <td>0.2</td>\n",
       "      <td>0</td>\n",
       "    </tr>\n",
       "    <tr>\n",
       "      <th>1</th>\n",
       "      <td>4.9</td>\n",
       "      <td>3.0</td>\n",
       "      <td>1.4</td>\n",
       "      <td>0.2</td>\n",
       "      <td>0</td>\n",
       "    </tr>\n",
       "    <tr>\n",
       "      <th>2</th>\n",
       "      <td>4.7</td>\n",
       "      <td>3.2</td>\n",
       "      <td>1.3</td>\n",
       "      <td>0.2</td>\n",
       "      <td>0</td>\n",
       "    </tr>\n",
       "    <tr>\n",
       "      <th>3</th>\n",
       "      <td>4.6</td>\n",
       "      <td>3.1</td>\n",
       "      <td>1.5</td>\n",
       "      <td>0.2</td>\n",
       "      <td>0</td>\n",
       "    </tr>\n",
       "    <tr>\n",
       "      <th>4</th>\n",
       "      <td>5.0</td>\n",
       "      <td>3.6</td>\n",
       "      <td>1.4</td>\n",
       "      <td>0.2</td>\n",
       "      <td>0</td>\n",
       "    </tr>\n",
       "  </tbody>\n",
       "</table>\n",
       "</div>"
      ],
      "text/plain": [
       "   sepal length (cm)  sepal width (cm)  petal length (cm)  petal width (cm)  \\\n",
       "0                5.1               3.5                1.4               0.2   \n",
       "1                4.9               3.0                1.4               0.2   \n",
       "2                4.7               3.2                1.3               0.2   \n",
       "3                4.6               3.1                1.5               0.2   \n",
       "4                5.0               3.6                1.4               0.2   \n",
       "\n",
       "   target  \n",
       "0       0  \n",
       "1       0  \n",
       "2       0  \n",
       "3       0  \n",
       "4       0  "
      ]
     },
     "execution_count": 2,
     "metadata": {},
     "output_type": "execute_result"
    }
   ],
   "source": [
    "iris = datasets.load_iris()\n",
    "iris = pd.DataFrame(data= np.c_[iris['data'], iris['target']],\n",
    "                     columns= iris['feature_names'] + ['target'])\n",
    "iris = iris.astype({\"target\": int })\n",
    "\n",
    "iris.head()"
   ]
  },
  {
   "cell_type": "markdown",
   "metadata": {},
   "source": [
    "## Explore the data \n",
    "\n",
    "Let's take a moment to understand the format of the data. Each data contains sepal length, sepal width, petal length, petal width and a corresponding species label. The label is an integer value of either 0, 1, or 2 where 0 is a `Iris-setosa`, 1 is a `Iris-versicolo`, and 2 is a `Iris-virginica.`"
   ]
  },
  {
   "cell_type": "code",
   "execution_count": 3,
   "metadata": {
    "colab": {
     "base_uri": "https://localhost:8080/",
     "height": 299
    },
    "id": "_tVdpyFQKkd3",
    "outputId": "0c4b678a-f1c0-4af5-80df-e7dbe98507e6"
   },
   "outputs": [
    {
     "data": {
      "text/plain": [
       "<matplotlib.legend.Legend at 0x7f2a0bab3850>"
      ]
     },
     "execution_count": 3,
     "metadata": {},
     "output_type": "execute_result"
    },
    {
     "data": {
      "image/png": "[encoded data removed]",
      "text/plain": [
       "<Figure size 432x288 with 1 Axes>"
      ]
     },
     "metadata": {
      "needs_background": "light"
     },
     "output_type": "display_data"
    }
   ],
   "source": [
    "plt.scatter(iris['sepal length (cm)'][:50], iris['sepal width (cm)'][:50], label='Iris-setosa')\n",
    "plt.scatter(iris['sepal length (cm)'][51:], iris['sepal width (cm)'][51:], label='Iris-versicolo')\n",
    "plt.scatter(iris['sepal length (cm)'][101:], iris['sepal width (cm)'][101:], label='Iris-virginica')\n",
    "plt.xlabel('sepal length (cm)')\n",
    "plt.ylabel('sepal width (cm)')\n",
    "plt.legend(loc='best')"
   ]
  },
  {
   "cell_type": "markdown",
   "metadata": {},
   "source": [
    "The following two code blocks help us set up our data to use as input into our neural network model. You can refer back to the Logistic Regression notebook for an explanation on encoding our data."
   ]
  },
  {
   "cell_type": "code",
   "execution_count": 4,
   "metadata": {
    "id": "CzpqD0zXVKIT"
   },
   "outputs": [],
   "source": [
    "x = iris.drop(labels=['target'], axis=1).values\n",
    "y_ = iris['target'].values.reshape(-1, 1)\n",
    "encoder = OneHotEncoder(sparse=False)\n",
    "y = encoder.fit_transform(y_)"
   ]
  },
  {
   "cell_type": "markdown",
   "metadata": {},
   "source": [
    "Here, we're splitting the whole Iris dataset into a training set and a test set. The training set is a bit smaller than our test set, containing 20% of the original dataset while the other 80% will be used in testing our model. \n",
    "\n",
    "Feel free to change these values and see how the accuracy and loss of our model changes later down the road."
   ]
  },
  {
   "cell_type": "code",
   "execution_count": 5,
   "metadata": {
    "id": "iAldyTxES7jR"
   },
   "outputs": [],
   "source": [
    "from sklearn.model_selection import train_test_split\n",
    "from sklearn.utils import shuffle \n",
    "\n",
    "x, y = shuffle(x, y)\n",
    "train_x, test_x, train_y, test_y = train_test_split(x, y, test_size=0.8)"
   ]
  },
  {
   "cell_type": "markdown",
   "metadata": {},
   "source": [
    "## Building our neural network \n",
    "\n",
    "Finally, we can start to build a simple neural network. We'll use Tensorflow Keras to build our model. \n",
    "\n",
    "Overall, we have 4 layers to our neural network. The first layer is the input layer that we've named aptly. The activation function is the ReLU (Rectified Linear Unit) function, which is commonly used for neural networks. The input shape is `(4,),` representing the four features (sepal length, sepal width, petal length, petal width) we're interested in looking at to classify which Iris category the current array represents. \n",
    "\n",
    "Next, we have two \"hidden layers,\" or two layers sandwiched between our input and output layer. They also have a ReLU activation function. These hidden layers help the neural network break down the incoming data into unique parts to help the whole neural network better understand how to classify the piece of data. \n",
    "\n",
    "Lastly, we have the output layer. There are three nodes in our output layer, alongside a new activation function (`softmax`). `Softmax` helps to normalize our output probability in the 0-1 range so we can understand the output of our function better. Because we are using `softmax,` we need one node per category label. "
   ]
  },
  {
   "cell_type": "code",
   "execution_count": 6,
   "metadata": {
    "colab": {
     "base_uri": "https://localhost:8080/"
    },
    "id": "gG8mdEugMrMm",
    "outputId": "c9dca994-48c4-4e5b-afb7-2baa17d76c15"
   },
   "outputs": [
    {
     "name": "stdout",
     "output_type": "stream",
     "text": [
      "Model: \"sequential\"\n",
      "_________________________________________________________________\n",
      "Layer (type)                 Output Shape              Param #   \n",
      "=================================================================\n",
      "input (Dense)                (None, 10)                50        \n",
      "_________________________________________________________________\n",
      "hidden-1 (Dense)             (None, 10)                110       \n",
      "_________________________________________________________________\n",
      "hidden-2 (Dense)             (None, 10)                110       \n",
      "_________________________________________________________________\n",
      "output (Dense)               (None, 3)                 33        \n",
      "=================================================================\n",
      "Total params: 303\n",
      "Trainable params: 303\n",
      "Non-trainable params: 0\n",
      "_________________________________________________________________\n",
      "None\n"
     ]
    }
   ],
   "source": [
    "model = tf.keras.Sequential([\n",
    "  tf.keras.layers.Dense(10, activation=tf.nn.relu, input_shape=(4,), name='input'),  # input shape required\n",
    "  tf.keras.layers.Dense(10, activation=tf.nn.relu, name='hidden-1'),\n",
    "  tf.keras.layers.Dense(10, activation=tf.nn.relu, name='hidden-2'),\n",
    "  tf.keras.layers.Dense(3, activation='softmax', name='output')\n",
    "])\n",
    "\n",
    "print(model.summary())"
   ]
  },
  {
   "cell_type": "markdown",
   "metadata": {},
   "source": [
    "We can see what the output of our hidden layers looks like. The whole `predictions` array holds an array of vectors, where each vector is the hidden layers' probability calculations. The index of the array (0, 1, or 2) represents the calculated probability that the inputted data corresponds to that category of Iris, where 0 is a `Iris-setosa`, 1 is a `Iris-versicolo`, and 2 is a `Iris-virginica.`"
   ]
  },
  {
   "cell_type": "code",
   "execution_count": 7,
   "metadata": {
    "colab": {
     "base_uri": "https://localhost:8080/"
    },
    "id": "pe0MwRUiVukG",
    "outputId": "c9dead44-cf29-4720-a63c-7f7413da2221",
    "scrolled": false
   },
   "outputs": [
    {
     "data": {
      "text/plain": [
       "<tf.Tensor: shape=(5, 3), dtype=float32, numpy=\n",
       "array([[0.32996523, 0.31175405, 0.35828072],\n",
       "       [0.3292136 , 0.31822813, 0.35255828],\n",
       "       [0.32834834, 0.31298062, 0.35867104],\n",
       "       [0.33072942, 0.31593695, 0.35333368],\n",
       "       [0.33091605, 0.31710073, 0.35198322]], dtype=float32)>"
      ]
     },
     "execution_count": 7,
     "metadata": {},
     "output_type": "execute_result"
    }
   ],
   "source": [
    "# hidden layer vector\n",
    "\n",
    "predictions = model(x)\n",
    "tf.nn.softmax(predictions[:5])"
   ]
  },
  {
   "cell_type": "markdown",
   "metadata": {},
   "source": [
    "## Train the model\n",
    "\n",
    "The next step is to train our model. We'll use a built-in optimizer to optimize our model with stochastic gradient descent (SGD), updating the parameters in our neural network through backpropogation. Backpropogation is essentially seeing our neural network reacts to changing the weights and biases within our model. Understanding the math behind backpropogation is more math-heavy, so we won't cover it too in-depth here. Refer to the site for more detail. \n",
    "\n",
    "We've also chosen to use a built-in a loss function (categorical cross-entropy loss). Cross-entropy loss, shown in the Logisitic Regression notebook, is used for binary classification while categorical cross-entropy loss is for multi-categorical classification such as this iris problem (we have three different classes). \n",
    "\n",
    "Feel free to play around with different optimizers and loss functions. You can find the full documentation on the Tensorflow site: [optimizers](https://www.tensorflow.org/api_docs/python/tf/keras/optimizers) and [loss functions](https://www.tensorflow.org/api_docs/python/tf/keras/losses)."
   ]
  },
  {
   "cell_type": "code",
   "execution_count": 8,
   "metadata": {},
   "outputs": [
    {
     "name": "stdout",
     "output_type": "stream",
     "text": [
      "Model: \"sequential\"\n",
      "_________________________________________________________________\n",
      "Layer (type)                 Output Shape              Param #   \n",
      "=================================================================\n",
      "input (Dense)                (None, 10)                50        \n",
      "_________________________________________________________________\n",
      "hidden-1 (Dense)             (None, 10)                110       \n",
      "_________________________________________________________________\n",
      "hidden-2 (Dense)             (None, 10)                110       \n",
      "_________________________________________________________________\n",
      "output (Dense)               (None, 3)                 33        \n",
      "=================================================================\n",
      "Total params: 303\n",
      "Trainable params: 303\n",
      "Non-trainable params: 0\n",
      "_________________________________________________________________\n"
     ]
    }
   ],
   "source": [
    "model.compile(optimizer='sgd', loss='categorical_crossentropy', metrics=['accuracy'])\n",
    "model.summary()\n",
    "\n",
    "# Initializing the Extractor module\n",
    "import libraries.extractioncallback as excb\n",
    "\n",
    "extractor = excb.CallbackDataExtractor(\n",
    "    model = model,\n",
    "    layer = 1,\n",
    "    validation_data = (test_x, test_y),\n",
    "    rec_int_values = True,\n",
    "    is_bin = False\n",
    ")\n"
   ]
  },
  {
   "cell_type": "code",
   "execution_count": 9,
   "metadata": {
    "colab": {
     "base_uri": "https://localhost:8080/"
    },
    "id": "r1aeXZD8MrbA",
    "outputId": "7c70bcca-d816-47c0-d706-0b8cd392bf8a"
   },
   "outputs": [
    {
     "name": "stdout",
     "output_type": "stream",
     "text": [
      "Epoch 1/10\n",
      "1/1 [==============================] - 1s 876ms/step - loss: 1.2336 - accuracy: 0.2857 - val_loss: 1.1848 - val_accuracy: 0.3333\n",
      "Epoch 2/10\n",
      "1/1 [==============================] - 0s 60ms/step - loss: 1.2004 - accuracy: 0.2857 - val_loss: 1.1596 - val_accuracy: 0.3333\n",
      "Epoch 3/10\n",
      "1/1 [==============================] - 0s 61ms/step - loss: 1.1709 - accuracy: 0.2857 - val_loss: 1.1378 - val_accuracy: 0.3333\n",
      "Epoch 4/10\n",
      "1/1 [==============================] - 0s 60ms/step - loss: 1.1448 - accuracy: 0.2857 - val_loss: 1.1183 - val_accuracy: 0.3333\n",
      "Epoch 5/10\n",
      "1/1 [==============================] - 0s 56ms/step - loss: 1.1216 - accuracy: 0.2857 - val_loss: 1.1002 - val_accuracy: 0.3333\n",
      "Epoch 6/10\n",
      "1/1 [==============================] - 0s 64ms/step - loss: 1.1002 - accuracy: 0.2857 - val_loss: 1.0828 - val_accuracy: 0.3333\n",
      "Epoch 7/10\n",
      "1/1 [==============================] - 0s 53ms/step - loss: 1.0797 - accuracy: 0.2857 - val_loss: 1.0666 - val_accuracy: 0.3333\n",
      "Epoch 8/10\n",
      "1/1 [==============================] - 0s 54ms/step - loss: 1.0603 - accuracy: 0.2857 - val_loss: 1.0512 - val_accuracy: 0.3333\n",
      "Epoch 9/10\n",
      "1/1 [==============================] - 0s 59ms/step - loss: 1.0420 - accuracy: 0.2857 - val_loss: 1.0363 - val_accuracy: 0.3333\n",
      "Epoch 10/10\n",
      "1/1 [==============================] - 0s 60ms/step - loss: 1.0249 - accuracy: 0.2857 - val_loss: 1.0216 - val_accuracy: 0.3333\n"
     ]
    }
   ],
   "source": [
    "hist = model.fit(train_x, train_y, verbose=1, batch_size=32, epochs=10, validation_split=0.3, callbacks=[extractor])"
   ]
  },
  {
   "cell_type": "markdown",
   "metadata": {},
   "source": [
    "There are two graphs below to demonstrate the relationship between accuracy, loss, and our epoch. What trend do you generally notice here? "
   ]
  },
  {
   "cell_type": "code",
   "execution_count": 10,
   "metadata": {
    "colab": {
     "base_uri": "https://localhost:8080/",
     "height": 558
    },
    "id": "QdabkSwphd_n",
    "outputId": "1d93e2ed-08ff-46ab-c86b-11f848c98bef",
    "scrolled": true
   },
   "outputs": [
    {
     "data": {
      "image/png": "[encoded data removed]",
      "text/plain": [
       "<Figure size 432x288 with 1 Axes>"
      ]
     },
     "metadata": {
      "needs_background": "light"
     },
     "output_type": "display_data"
    },
    {
     "data": {
      "image/png": "[encoded data removed]",
      "text/plain": [
       "<Figure size 432x288 with 1 Axes>"
      ]
     },
     "metadata": {
      "needs_background": "light"
     },
     "output_type": "display_data"
    }
   ],
   "source": [
    "plt.plot(hist.history['accuracy'])\n",
    "plt.plot(hist.history['val_accuracy'])\n",
    "\n",
    "plt.title('model accuracy')\n",
    "plt.ylabel('accuracy')\n",
    "plt.xlabel('epoch')\n",
    "plt.legend(['train','test'], loc='upper left')\n",
    "plt.show()\n",
    "\n",
    "plt.plot(hist.history['loss'])\n",
    "plt.plot(hist.history['val_loss'])\n",
    "\n",
    "plt.title('model loss')\n",
    "plt.ylabel('loss')\n",
    "plt.xlabel('epoch')\n",
    "plt.legend(['train','test'], loc='upper left')\n",
    "plt.show()"
   ]
  },
  {
   "cell_type": "code",
   "execution_count": 11,
   "metadata": {},
   "outputs": [],
   "source": [
    "# epoch_output = extractor.get_testing_results()\n",
    "\n",
    "# extractor.get_stored_predictions()\n",
    "# all_predictions = []\n",
    "# for epoch in extractor.get_stored_predictions():\n",
    "#     epoch_predictions = []\n",
    "#     for dp in epoch:\n",
    "#         epoch_predictions.append(int(dp.argmax()))                       \n",
    "#     all_predictions.append(epoch_predictions)\n",
    "\n",
    "# extractor.set_stored_predictions(all_predictions)\n",
    "\n",
    "\n",
    "\n",
    "        "
   ]
  },
  {
   "cell_type": "markdown",
   "metadata": {},
   "source": [
    "## Evaluate the model\n",
    "\n",
    "Now, let's see how the model performs on our test data set after the model has been trained. Two values will be returned: the loss of our model (a number which represents our error -- lower values are better), and the accuracy of our model. You can try adjusting the batch size too to see how it affects the model's loss and accuracy."
   ]
  },
  {
   "cell_type": "code",
   "execution_count": 12,
   "metadata": {},
   "outputs": [
    {
     "name": "stdout",
     "output_type": "stream",
     "text": [
      "[[0.31451368 0.29561406 0.38987228]\n",
      " [0.37860444 0.17191625 0.4494793 ]\n",
      " [0.2960738  0.32422367 0.3797025 ]\n",
      " [0.3929515  0.12444087 0.48260766]\n",
      " [0.3108133  0.30382404 0.38536268]\n",
      " [0.38215235 0.10425236 0.51359534]\n",
      " [0.38679755 0.11648409 0.49671832]\n",
      " [0.3020383  0.33206725 0.36589444]\n",
      " [0.31546858 0.30541158 0.37911984]\n",
      " [0.30538866 0.31303617 0.3815752 ]\n",
      " [0.30891034 0.30246803 0.3886216 ]\n",
      " [0.38601658 0.11132827 0.50265515]\n",
      " [0.30469224 0.3123311  0.38297665]\n",
      " [0.3011878  0.33128136 0.36753082]\n",
      " [0.38192147 0.12621346 0.491865  ]\n",
      " [0.40393224 0.10858757 0.4874802 ]\n",
      " [0.38978451 0.13604207 0.4741734 ]\n",
      " [0.29437035 0.3208295  0.38480008]\n",
      " [0.28496456 0.3193933  0.3956421 ]\n",
      " [0.38846815 0.10146313 0.5100687 ]\n",
      " [0.2965015  0.31956726 0.38393125]\n",
      " [0.2984092  0.31670138 0.38488942]\n",
      " [0.3878108  0.13802792 0.47416133]\n",
      " [0.2998489  0.32088956 0.37926155]\n",
      " [0.29785183 0.31977406 0.38237408]\n",
      " [0.30155748 0.30636698 0.39207554]\n",
      " [0.2944412  0.31950808 0.38605073]\n",
      " [0.30940357 0.3202104  0.37038606]\n",
      " [0.38432503 0.07630295 0.539372  ]\n",
      " [0.39781854 0.10170633 0.5004751 ]\n",
      " [0.29768777 0.3299367  0.37237546]\n",
      " [0.3118006  0.29535964 0.3928398 ]\n",
      " [0.3964553  0.14550066 0.45804405]\n",
      " [0.30181187 0.3046411  0.39354697]\n",
      " [0.2938834  0.3079847  0.39813185]\n",
      " [0.29790893 0.31854773 0.3835434 ]\n",
      " [0.32291555 0.31277224 0.36431214]\n",
      " [0.3849627  0.12852617 0.48651114]\n",
      " [0.39188924 0.10720134 0.5009094 ]\n",
      " [0.31208977 0.28827623 0.39963403]\n",
      " [0.29870737 0.3164789  0.3848138 ]\n",
      " [0.30145496 0.31865475 0.37989035]\n",
      " [0.41309953 0.13967955 0.44722092]\n",
      " [0.29114616 0.3265314  0.38232243]\n",
      " [0.3064489  0.29831934 0.3952317 ]\n",
      " [0.303482   0.3055678  0.39095017]\n",
      " [0.39116696 0.1359023  0.47293073]\n",
      " [0.29722297 0.3276498  0.3751272 ]\n",
      " [0.31040907 0.31679228 0.37279865]\n",
      " [0.29585367 0.31672132 0.38742498]\n",
      " [0.2953991  0.3273965  0.37720442]\n",
      " [0.30019143 0.31110603 0.38870254]\n",
      " [0.39326614 0.10195399 0.5047799 ]\n",
      " [0.2910378  0.32325307 0.38570914]\n",
      " [0.38532484 0.08386705 0.5308081 ]\n",
      " [0.3107091  0.29444742 0.3948435 ]\n",
      " [0.30442858 0.3177846  0.37778682]\n",
      " [0.30506456 0.32135284 0.37358263]\n",
      " [0.39313278 0.1163727  0.49049452]\n",
      " [0.30905625 0.3138959  0.37704787]\n",
      " [0.3059533  0.3073256  0.3867211 ]\n",
      " [0.4029476  0.11094647 0.48610595]\n",
      " [0.30732143 0.3147192  0.37795937]\n",
      " [0.2998925  0.31854737 0.38156018]\n",
      " [0.3878354  0.11351994 0.49864465]\n",
      " [0.2979816  0.31583998 0.3861784 ]\n",
      " [0.30563846 0.29677534 0.39758617]\n",
      " [0.29989845 0.31552935 0.3845722 ]\n",
      " [0.29808196 0.3251039  0.3768141 ]\n",
      " [0.38291803 0.13756566 0.47951633]\n",
      " [0.30013937 0.30942887 0.3904318 ]\n",
      " [0.2941981  0.32994795 0.37585393]\n",
      " [0.3108133  0.30382404 0.38536268]\n",
      " [0.30707514 0.31161815 0.3813067 ]\n",
      " [0.39525637 0.08828771 0.5164559 ]\n",
      " [0.3853071  0.10285092 0.511842  ]\n",
      " [0.4043084  0.14866199 0.44702956]\n",
      " [0.30114228 0.30808696 0.39077073]\n",
      " [0.30797195 0.29620653 0.3958215 ]\n",
      " [0.30890897 0.31158102 0.37951002]\n",
      " [0.2951862  0.3151018  0.389712  ]\n",
      " [0.32020906 0.3066613  0.3731296 ]\n",
      " [0.29872575 0.32814214 0.37313205]\n",
      " [0.3846186  0.11151977 0.50386167]\n",
      " [0.37903705 0.12216886 0.49879402]\n",
      " [0.38877088 0.13170506 0.47952408]\n",
      " [0.31014824 0.314842   0.3750098 ]\n",
      " [0.3854888  0.10536063 0.50915056]\n",
      " [0.39887118 0.07737254 0.52375627]\n",
      " [0.29756233 0.32206422 0.38037345]\n",
      " [0.30403316 0.30708677 0.3888801 ]\n",
      " [0.29529458 0.31758323 0.38712215]\n",
      " [0.30425942 0.29770383 0.39803675]\n",
      " [0.29842216 0.32261828 0.37895954]\n",
      " [0.39937153 0.12230603 0.47832242]\n",
      " [0.3088021  0.31250262 0.3786953 ]\n",
      " [0.38808948 0.14358108 0.46832943]\n",
      " [0.39016995 0.12469405 0.48513594]\n",
      " [0.31459728 0.29977822 0.38562447]\n",
      " [0.30496588 0.30280867 0.39222544]\n",
      " [0.39207566 0.12287495 0.4850494 ]\n",
      " [0.29989198 0.31561503 0.38449302]\n",
      " [0.2982635  0.3123149  0.38942164]\n",
      " [0.3839687  0.09530436 0.5207269 ]\n",
      " [0.37513152 0.09166444 0.533204  ]\n",
      " [0.31297398 0.29037142 0.39665464]\n",
      " [0.30647576 0.29600033 0.39752394]\n",
      " [0.3278207  0.3085958  0.36358348]\n",
      " [0.31098366 0.30366543 0.3853509 ]\n",
      " [0.30281532 0.3178868  0.37929788]\n",
      " [0.29978806 0.31000143 0.3902105 ]\n",
      " [0.3056169  0.31466267 0.37972045]\n",
      " [0.29322407 0.32693112 0.37984487]\n",
      " [0.38414994 0.11692904 0.49892098]\n",
      " [0.29849082 0.32213232 0.37937692]\n",
      " [0.29216412 0.32396904 0.38386688]\n",
      " [0.31077096 0.29734117 0.3918879 ]\n",
      " [0.38371232 0.09970634 0.51658136]\n",
      " [0.30514786 0.31692418 0.37792793]\n",
      " [0.29752523 0.32821894 0.37425584]]\n",
      "                precision    recall  f1-score   support\n",
      "\n",
      "   Iris-setosa       0.00      0.00      0.00        39\n",
      "Iris-versicolo       0.00      0.00      0.00        40\n",
      "Iris-virginica       0.34      1.00      0.51        41\n",
      "\n",
      "      accuracy                           0.34       120\n",
      "     macro avg       0.11      0.33      0.17       120\n",
      "  weighted avg       0.12      0.34      0.17       120\n",
      "\n"
     ]
    },
    {
     "name": "stderr",
     "output_type": "stream",
     "text": [
      "/home/owen/.local/lib/python3.9/site-packages/sklearn/metrics/_classification.py:1245: UndefinedMetricWarning: Precision and F-score are ill-defined and being set to 0.0 in labels with no predicted samples. Use `zero_division` parameter to control this behavior.\n",
      "  _warn_prf(average, modifier, msg_start, len(result))\n",
      "/home/owen/.local/lib/python3.9/site-packages/sklearn/metrics/_classification.py:1245: UndefinedMetricWarning: Precision and F-score are ill-defined and being set to 0.0 in labels with no predicted samples. Use `zero_division` parameter to control this behavior.\n",
      "  _warn_prf(average, modifier, msg_start, len(result))\n",
      "/home/owen/.local/lib/python3.9/site-packages/sklearn/metrics/_classification.py:1245: UndefinedMetricWarning: Precision and F-score are ill-defined and being set to 0.0 in labels with no predicted samples. Use `zero_division` parameter to control this behavior.\n",
      "  _warn_prf(average, modifier, msg_start, len(result))\n"
     ]
    }
   ],
   "source": [
    "from sklearn.metrics import classification_report\n",
    "from sklearn.preprocessing import MinMaxScaler\n",
    "\n",
    "# make a prediction\n",
    "testingPredictions = model.predict(test_x)\n",
    "testingPredictions = list(testingPredictions.argmax(axis=-1))\n",
    "\n",
    "confidence_scores = model.predict(test_x, batch_size=32)\n",
    "print(confidence_scores)\n",
    "\n",
    "target_names = ['Iris-setosa', 'Iris-versicolo', 'Iris-virginica']\n",
    "print(classification_report(test_y.argmax(axis=-1), testingPredictions, target_names=target_names))"
   ]
  },
  {
   "cell_type": "code",
   "execution_count": 13,
   "metadata": {},
   "outputs": [
    {
     "name": "stdout",
     "output_type": "stream",
     "text": [
      "4/4 [==============================] - 0s 2ms/step - loss: 1.0091 - accuracy: 0.3417\n",
      "loss: 1.009\n",
      "accuracy: 0.342\n"
     ]
    }
   ],
   "source": [
    "results = model.evaluate(test_x, test_y, verbose=1)\n",
    "\n",
    "for name, value in zip(model.metrics_names, results):\n",
    "  print(\"%s: %.3f\" % (name, value))"
   ]
  },
  {
   "cell_type": "markdown",
   "metadata": {},
   "source": [
    "Now, we need to export the data in order to support some interactive visualizations that we've created. Feel free to skip over this code block and move to the interactive visualizations below."
   ]
  },
  {
   "cell_type": "code",
   "execution_count": 14,
   "metadata": {},
   "outputs": [],
   "source": [
    "epoch_output = extractor.get_testing_results()"
   ]
  },
  {
   "cell_type": "code",
   "execution_count": 15,
   "metadata": {
    "colab": {
     "base_uri": "https://localhost:8080/",
     "height": 351
    },
    "id": "oO_hbdmkh-e4",
    "outputId": "58ea8214-b86e-4baf-d2ec-b1f8366af5b4"
   },
   "outputs": [],
   "source": [
    "# output data as json \n",
    "import json\n",
    "import os\n",
    "import sys\n",
    "\n",
    "output_directory = \"libraries/\"\n",
    "output_filename = \"predict_nn.json\"\n",
    "full_path = os.path.join(output_directory, output_filename)\n",
    "\n",
    "data = {}\n",
    "for i in range(len(epoch_output[0])):\n",
    "    data[i] = {}\n",
    "    data[i]['Num Epochs'] = len(epoch_output)\n",
    "    data[i]['Index'] = i\n",
    "    data[i]['Test Label'] = int(epoch_output[0]['actual'][i].argmax())\n",
    "    data[i]['Test Prediction'] = {}\n",
    "    data[i]['Test Confidence Score'] = {}\n",
    "    data[i]['Intermediate Values'] = {}\n",
    "    for j in range(len(epoch_output)):\n",
    "        data[i]['Test Prediction'][j] = int(epoch_output[j]['prediction'][i])\n",
    "        data[i]['Test Confidence Score'][j] = epoch_output[j]['confidence_score'][i].tolist()\n",
    "        data[i]['Intermediate Values'][j] = epoch_output[j]['intermediate_values'][i]\n",
    "    data[i]['Test Sentence'] = epoch_output[0]['input'][i].tolist()\n",
    "    \n",
    "with open(full_path, 'w') as outfile:\n",
    "    json.dump(data, outfile, indent=4, sort_keys=False)"
   ]
  },
  {
   "cell_type": "code",
   "execution_count": 16,
   "metadata": {},
   "outputs": [],
   "source": [
    "import json\n",
    "import os\n",
    "import sys\n",
    "\n",
    "output_directory = \"libraries/\"\n",
    "output_filename = \"predict_nn.json\"\n",
    "full_path = os.path.join(output_directory, output_filename)\n",
    "\n",
    "module_path = os.path.abspath(os.path.join('..'))\n",
    "if module_path not in sys.path:\n",
    "    sys.path.append(module_path)\n",
    "    \n",
    "import libraries.mlvislib as mlvs"
   ]
  },
  {
   "cell_type": "code",
   "execution_count": 17,
   "metadata": {
    "scrolled": false
   },
   "outputs": [
    {
     "data": {
      "text/html": [
       "<script src=\"https://d3js.org/d3.v3.min.js\" charset=\"utf-8\"></script>"
      ],
      "text/plain": [
       "<IPython.core.display.HTML object>"
      ]
     },
     "metadata": {},
     "output_type": "display_data"
    },
    {
     "name": "stdout",
     "output_type": "stream",
     "text": [
      "['Setosa', 'Veriscolo', 'Virginica']\n"
     ]
    },
    {
     "data": {
      "text/html": [
       "\n",
       "        <style> \n",
       "        body {\n",
       "            font-family: Arial, sans-serif;\n",
       "            font-size: larger;\n",
       "        }\n",
       "        .box_highlighted { \n",
       "            background-color: #ffb; \n",
       "            border: 1px solid #b53;\n",
       "        }\n",
       "        .highlight{\n",
       "            background-color: yellow;\n",
       "        }\n",
       "        .lighthigh{\n",
       "            background-color: green;\n",
       "        }\n",
       "        #testList {\n",
       "            list-style-type: none;\n",
       "            padding-left: 0;\n",
       "            margin: 0;\n",
       "        }\n",
       "        li.dataPoint{\n",
       "            font-size: smaller;\n",
       "        }\n",
       "        li.dataPoint:nth-child(odd){\n",
       "            background: #999;\n",
       "        }\n",
       "        table.xaxis {\n",
       "            table-layout: auto;\n",
       "            width: 750px;\n",
       "            margin-left: 26px !important;\n",
       "            text-align: center;\n",
       "        }\n",
       "        td.xlabel {\n",
       "            text-align: center;\n",
       "        }\n",
       "        table.yaxis {\n",
       "            float: left;\n",
       "            display: inline;\n",
       "            table-layout: auto;\n",
       "            height: 750px;\n",
       "            writing-mode: sideways-lr;\n",
       "        }\n",
       "        td.ylabel {\n",
       "            text-align: center;\n",
       "        }\n",
       "        #review{\n",
       "            border:1px solid blue; \n",
       "            padding: 5px; \n",
       "            float: left; \n",
       "            width: 750px; \n",
       "            height: 500px; \n",
       "            background-color: white;\n",
       "            margin: 20px;\n",
       "            overflow: scroll;\n",
       "            }\n",
       "        #matrix{\n",
       "            border:1px solid blue; \n",
       "            padding: 5px; \n",
       "            float: left;\n",
       "            width: 750px;\n",
       "            display: inline;\n",
       "        }\n",
       "        #slider {\n",
       "          -webkit-appearance: none;\n",
       "          width: 100%;\n",
       "          height: 15px;\n",
       "          border-radius: 5px;  \n",
       "          background: #d3d3d3;\n",
       "          outline: none;\n",
       "          opacity: 0.7;\n",
       "          -webkit-transition: .2s;\n",
       "          transition: opacity .2s;\n",
       "        }\n",
       "        #slider::-webkit-slider-thumb {\n",
       "          -webkit-appearance: none;\n",
       "          appearance: none;\n",
       "          width: 25px;\n",
       "          height: 25px;\n",
       "          border-radius: 50%; \n",
       "          background: #4ca2af;\n",
       "          cursor: pointer;\n",
       "        }\n",
       "        #slider::-moz-range-thumb {\n",
       "          width: 25px;\n",
       "          height: 25px;\n",
       "          border-radius: 50%;\n",
       "          background: #4ca2af;\n",
       "          cursor: pointer;\n",
       "        }\n",
       "     </style>\n",
       "        <h1> Interactive Confusion Matrix </h1>\n",
       "        <h3 id=\"confidence_setting\"> Confidence: 0.5 </h3>\n",
       "        <input class=\"slider\" id=\"confidence_slider\" type=\"range\" min=\"0\" max=\"1\" step=\".1\" value=\".5\"/>\n",
       "        <h3 id=\"epoch_setting\"> Epoch: 1 </h3>\n",
       "        <input class=\"slider\" id=\"epoch_slider\" type=\"range\" min=\"1\" max=\"20\" step=\"1\" value=\"1\"/>\n",
       "        <table class=\"xaxis\">\n",
       "            <tr> </tr>\n",
       "        </table>\n",
       "        <div>\n",
       "        <div>\n",
       "            <div>\n",
       "                <table class=\"yaxis\">\n",
       "                    <tr> </tr>\n",
       "                </table>\n",
       "                <div id=\"matrix\"></div>\n",
       "                <div id=\"review\">\n",
       "                    Data For:\n",
       "                    <ul id = \"testList\"></ul>\n",
       "                </div>\n",
       "            </div>\n",
       "        </div>\n",
       "        <script> \n",
       "        console.log(\"Visualization: Running JavaScript...\");\n",
       "        var dname = \"libraries/predict_nn.json\";\n",
       "        var currentConfSetting = .5;\n",
       "        var currentEpochSetting = 1;\n",
       "        var lastEpochIndex = 0;\n",
       "        // Delete this line below just in case it slows down the program\n",
       "        console.log(\"Visualization: Reading JSON file(\", dname, \")...\");\n",
       "\n",
       "        d3.json( \"libraries/predict_nn.json\", function(d) {\n",
       "            console.log(\"Visualization: Logging complete JSON...\");\n",
       "            console.log(d);\n",
       "            lastEpochIndex = d[0]['Num Epochs']\n",
       "            d3.select(\"#epoch_slider\").attr(\"max\", lastEpochIndex);\n",
       "        });\n",
       "\n",
       "\n",
       "        /*--------------------------------------------------------------------------------\n",
       "        I've temporarily left out the 'getType' function, since the names of these\n",
       "        types are not included in the JSON file that is given to the JavaScript. More\n",
       "        functionality can be incldued later to bring the names in as well as the raw data.\n",
       "        Type will be represented by the given numeric identifier for now.\n",
       "        --------------------------------------------------------------------------------*/\n",
       "\n",
       "        /*--------------------------------------------------------------------------------\n",
       "        Function: extractTypes\n",
       "        Behavior: Identifies what different types each data point can be identified as based \n",
       "                  off of the 'true_label' attribute in JSON file.\n",
       "        Input: JSON file\n",
       "        Output: Returns array of possible values for 'Test Label'.\n",
       "        --------------------------------------------------------------------------------*/\n",
       "        function extractTypes(data){\n",
       "            var lookup = {};\n",
       "            var items = data;\n",
       "            var result = [];\n",
       "            for (var item, i=0; item = items[i++];){\n",
       "                var name = item['Test Label'];\n",
       "                if(!(name in lookup)){\n",
       "                    lookup[name] = 1;\n",
       "                    result.push(name);\n",
       "                }\n",
       "            }\n",
       "            return result.sort();\n",
       "        }\n",
       "\n",
       "        /*--------------------------------------------------------------------------------\n",
       "        Function: fetchDataWindowResults\n",
       "        Behavior: Fetches subset of 'd' variable to be displayed in 'Data' window\n",
       "        Input: 'd' variable, testLabel, predLabel, epoch, conf\n",
       "        Output: Subset of 'd' variable formatted the same as 'd'\n",
       "        --------------------------------------------------------------------------------*/\n",
       "        function fetchDataWindowResults(d, testLabel, predLabel, epoch, conf){\n",
       "            console.log(\"Visualization: Calling fetchDataWindowResults...\");\n",
       "            var fullDataSet = d;\n",
       "            var selectedTestLabel = testLabel;\n",
       "            var selectedPredictionLabel = predLabel;\n",
       "            var selectedEpoch = epoch;\n",
       "            var selectedConfMin = conf;\n",
       "            var selectedEntries = []\n",
       "            console.log(d);\n",
       "            console.log(\"Visualization: fetchDataWindowResults: for testLabel, predLabel, epoch, conf of: \", \n",
       "                testLabel, predLabel, epoch, conf);\n",
       "            for (const dataPoint of Object.entries(d)){\n",
       "                var currentPrediction = dataPoint[1]['Test Prediction'][epoch];\n",
       "                var currentTestLabel = dataPoint[1]['Test Label'];\n",
       "                var currentSentence = dataPoint[1]['Test Sentence'];\n",
       "                var currentConfScore = dataPoint[1]['Test Confidence Score'][epoch];\n",
       "                if (currentPrediction == selectedPredictionLabel &&\n",
       "                currentTestLabel == selectedTestLabel &&\n",
       "                currentConfScore > selectedConfMin){\n",
       "                    selectedEntries.push(dataPoint);\n",
       "                    // console.log(\"Prediction:\", currentPrediction,\n",
       "                    //     \"Test Sentence:\", currentSentence,\n",
       "                    //     \"Confidence Score:\", currentConfScore);\n",
       "                }\n",
       "            }\n",
       "            return selectedEntries;\n",
       "        }\n",
       "\n",
       "        /*--------------------------------------------------------------------------------\n",
       "        Function: addAxisLabels\n",
       "        Behavior: \n",
       "        Input: \n",
       "        Output: \n",
       "        --------------------------------------------------------------------------------*/\n",
       "        function addAxisLabels(){\n",
       "            var xaxis_labels = ['Setosa', 'Veriscolo', 'Virginica']\n",
       "            var yaxis_labels = ['VIrginica', 'Veriscolo', 'Setosa']\n",
       "            console.log(xaxis_labels, yaxis_labels);\n",
       "            for(var i = 0; i < xaxis_labels.length; i++){\n",
       "                d3.select(\".xaxis\").selectAll(\"tr\").append(\"td\").text(xaxis_labels[i])\n",
       "                    .classed(\"xlabel\", true);\n",
       "            }\n",
       "            for(var i = 0; i < yaxis_labels.length; i++){\n",
       "                d3.select(\".yaxis\").selectAll(\"tr\").append(\"td\").text(yaxis_labels[i])\n",
       "                    .attr(\"height\", (750 / yaxis_labels.length)).classed(\"ylabel\", true);\n",
       "            }\n",
       "        }\n",
       "        addAxisLabels()\n",
       "\n",
       "        /*--------------------------------------------------------------------------------\n",
       "        Function: Slider Re-Draw\n",
       "        Behavior: This d3 code will redraw each time there is a change in the slider.\n",
       "        Input: None\n",
       "        Output: Visualization should be redrawn\n",
       "        --------------------------------------------------------------------------------*/\n",
       "        /*--------------------------------------------------------------------------------\n",
       "        BUG: This should be adjusted to be called both on load and on change. \n",
       "        --------------------------------------------------------------------------------*/\n",
       "\n",
       "        d3.selectAll(\".slider\").on(\"change\", function() {\n",
       "            d3.select(\"svg\").remove();\n",
       "\n",
       "            if(this.id == \"confidence_slider\"){\n",
       "                currentConfSetting = this.value;\n",
       "            }\n",
       "            if(this.id == \"epoch_slider\"){\n",
       "                currentEpochSetting = this.value;\n",
       "            }\n",
       "\n",
       "            d3.select(\"#confidence_setting\").text(\"Confidence: \" + currentConfSetting);\n",
       "            d3.select(\"#epoch_setting\").text(\"Epoch: \" + currentEpochSetting);\n",
       "            console.log(\"Visualization: Confidence set to (\", currentConfSetting,\n",
       "                        \") Epoch set to (\", currentEpochSetting, \")\");\n",
       "\n",
       "            /*--------------------------------------------------------------------------------\n",
       "            Function: Re-Draw\n",
       "            Behavior: Adjusting the slider will call this function to redraw the\n",
       "                      visualization. First a table is build keep track of the number of\n",
       "                      elements to be in each cell. Next, data is read into an array based on\n",
       "                      the parameters set by the sliders.\n",
       "            Input: filepath to JSON\n",
       "            Output: visualization should be redrawn\n",
       "            --------------------------------------------------------------------------------*/\n",
       "\n",
       "            d3.json(\"libraries/predict_nn.json\", function(d) {\n",
       "                console.log(\"Debugging: displaying variable d: \", d);\n",
       "                \n",
       "\n",
       "                var totalItems = Object.keys(d).length\n",
       "                console.log(\"Visualization: \", totalItems, \"pieces of test data included\")\n",
       "\n",
       "                var possibleOutputValues = extractTypes(d);\n",
       "                console.log(\"Visualization: Possible outcomes inlcudes; \", possibleOutputValues)\n",
       "\n",
       "                var tableDimension = extractTypes(d).length;\n",
       "                console.log(\"Visualization: Constructing\", tableDimension, \"x\",\n",
       "                            tableDimension, \"chart...\");\n",
       "                var dataset = [];\n",
       "\n",
       "                var table = new Array(tableDimension);\n",
       "                for(var i=0; i<tableDimension; i++){\n",
       "                    table[i] = new Array(tableDimension);\n",
       "                    for(var j=0; j<tableDimension; j++){\n",
       "                        table[i][j] = 0;\n",
       "                    }\n",
       "                }\n",
       "                console.log(\"Visualization: Table initialized as: \", table)\n",
       "\n",
       "\n",
       "                /*\n",
       "                # NOTE: To be removed, we only need to know the integer representation \n",
       "                #       of which epoch we are using.\n",
       "                var selectedEpoch = {};\n",
       "\n",
       "                for(var singleEpoch, i=0; singleEpoch = d[i++];){\n",
       "                    if((singleEpoch[0][\"Epoch\"] + 1) == parseInt(currentEpochSetting)){\n",
       "                        selectedEpoch = singleEpoch;\n",
       "                    }\n",
       "                }\n",
       "                */\n",
       "\n",
       "                console.log(\"Visualization: Preparing to display epoch (\", currentEpochSetting, \")...\");\n",
       "\n",
       "                /*--------------------------------------------------------------------------------\n",
       "                NOTE: Will we need to display just integer representations of classifications,\n",
       "                      or will we need to display titles of classicications along the axis\n",
       "                --------------------------------------------------------------------------------*/\n",
       "\n",
       "                // NOTE EDITING HERE\n",
       "\n",
       "                for(var jsonEntry, i=0; jsonEntry = d[i++];){\n",
       "                    // console.log(\"Debugging: jsonEntry \", jsonEntry);\n",
       "                    var index = i;\n",
       "                    // var epoch = jsonEntry[\"Epoch\"];\n",
       "                    var entryText = jsonEntry[\"Test Sentence\"];\n",
       "                    var confidenceScore = jsonEntry[\"Test Confidence Score\"][currentEpochSetting-1];\n",
       "                    // console.log(\"Debugging: confidenceScore \", confidenceScore);\n",
       "                    var trueLabel = jsonEntry[\"Test Label\"];\n",
       "                    // console.log(\"Debugging: trueLabel \", trueLabel);\n",
       "                    // console.log(typeof trueLabel);\n",
       "                    var predictedLabel = jsonEntry[\"Test Prediction\"][currentEpochSetting-1];\n",
       "                    // console.log(\"Debugging: predictedLabel \", predictedLabel);\n",
       "                    // console.log(typeof predictedLabel);\n",
       "                    var tableXCoordinate = possibleOutputValues.indexOf(predictedLabel); //Predicted\n",
       "                    // console.log(\"Debugging: tableXCoordinate \", tableXCoordinate);\n",
       "                    // console.log(typeof tableXCoordinate);\n",
       "                    var tableYCoordinate = possibleOutputValues.indexOf(trueLabel); // Actual\n",
       "                    // console.log(\"Debugging: tableYCoordinate \", tableYCoordinate);\n",
       "                    // console.log(typeof tableYCoordinate);\n",
       "\n",
       "                    if(confidenceScore > currentConfSetting){\n",
       "                        table[tableXCoordinate][tableYCoordinate]+=1;\n",
       "                        dataset.push([trueLabel, predictedLabel, entryText, index]);\n",
       "                    }\n",
       "                }\n",
       "\n",
       "                console.log(\"Visualization: Table for confidence \", currentConfSetting, \" at epoch \", currentEpochSetting, table);\n",
       "                console.log(\"Visualization: Creating SVG...\");\n",
       "\n",
       "                /*--------------------------------------------------------------------------------\n",
       "                NOTE: Will leave this as the default viz size for now\n",
       "                --------------------------------------------------------------------------------*/\n",
       "\n",
       "                var w = 750;\n",
       "                var h = 750;\n",
       "\n",
       "                var svg = d3.select(\"body\")\n",
       "                            .select(\"#matrix\")\n",
       "                            .append(\"svg\")\n",
       "                            .attr(\"width\", w)\n",
       "                            .attr(\"height\", h);\n",
       "\n",
       "                var rect = svg.selectAll(\"rect\")\n",
       "                              .data(dataset)\n",
       "                              .enter()\n",
       "                              .append(\"rect\");\n",
       "\n",
       "                var counters = new Array(tableDimension * tableDimension).fill(0);\n",
       "                var ycounters = new Array(tableDimension * tableDimension).fill(0);\n",
       "                var cellDimension = h / tableDimension;\n",
       "                var blockStackDimension = Math.round(Math.sqrt(totalItems)) + 1;\n",
       "                var marginBuffer = 5;\n",
       "                var cubeDimension = ((cellDimension - marginBuffer) / blockStackDimension);\n",
       "\n",
       "                /*--------------------------------------------------------------------------------\n",
       "                Format: d[trueLabel, predictedLabel, entryText, index, epoch]\n",
       "                --------------------------------------------------------------------------------*/\n",
       "\n",
       "                /*--------------------------------------------------------------------------------\n",
       "                Filling each cell of the matrix with the proper number of squares\n",
       "                NOTE: boxes have the attributes: x, y, id, width, height, opacity, fill, and class\n",
       "                --------------------------------------------------------------------------------*/\n",
       "                rect.attr(\"x\", function (d, i){\n",
       "                    var matrixnum = (parseInt(d[1]) * tableDimension) + parseInt(d[0]);\n",
       "                    var inmatrixcol = counters[matrixnum] % blockStackDimension;\n",
       "                    counters[matrixnum]++;\n",
       "                    return (d[1] * (cellDimension + marginBuffer)) + (inmatrixcol * (cubeDimension));\n",
       "                    })\n",
       "                    .attr(\"y\", function(d, i){\n",
       "                        var matrixnum = (parseInt(d[1] * tableDimension) + parseInt(d[0]));\n",
       "                        var hm = Math.floor(ycounters[matrixnum]/blockStackDimension);\n",
       "                        ycounters[matrixnum]++;\n",
       "                        return (d[0] * (cellDimension + marginBuffer)) + (hm * (cubeDimension));\n",
       "                    })\n",
       "                    .attr(\"id\", function(d){\n",
       "                        return \"rect\" + d[3];\n",
       "                    })\n",
       "                    .attr(\"width\", function(d){\n",
       "                        return cubeDimension;\n",
       "                    })\n",
       "                    .attr(\"height\", function(d){\n",
       "                        return cubeDimension;\n",
       "                    })\n",
       "                    .attr(\"opacity\", function(d){\n",
       "                        return 1;\n",
       "                    })\n",
       "                    .attr(\"fill\", function(d){\n",
       "                        return (\"black\");\n",
       "                    })\n",
       "                    .attr(\"class\", function(d){\n",
       "                        predicted_label = \"predicted_label_\" + d[1];\n",
       "                        true_label = \"true_label_\" + d[0];\n",
       "                        return true_label + \" \" + predicted_label;\n",
       "                });\n",
       "\n",
       "                rect.on(\"click\",function(d_on){ clickedRect(d_on, d) });\n",
       "            });\n",
       "        })\n",
       "\n",
       "        \n",
       "        /*--------------------------------------------------------------------------------\n",
       "        Function: fillMatrix\n",
       "        Behavior:\n",
       "        Input:\n",
       "        Output:\n",
       "        --------------------------------------------------------------------------------*/\n",
       "\n",
       "        /*--------------------------------------------------------------------------------\n",
       "        Function: clickedRect\n",
       "        Behavior:\n",
       "        Input:\n",
       "        Output:\n",
       "        --------------------------------------------------------------------------------*/\n",
       "        function clickedRect(d_on, d){\n",
       "            console.log(\"Debugging: d_on: \", d_on);\n",
       "            console.log(\"Actual: \", d_on[0], \"Predicted: \", d_on[1]);\n",
       "            var actual = d_on[0];\n",
       "            var prediction = d_on[1];\n",
       "            var selectedDataSet = fetchDataWindowResults(d, actual, prediction,\n",
       "                (currentEpochSetting - 1), currentConfSetting);\n",
       "\n",
       "            d3.selectAll('rect').style('fill', \"black\");\n",
       "            d3.selectAll('rect')\n",
       "                .filter(function(d) { \n",
       "                    if( d[0] == actual && d[1] == prediction)\n",
       "                        return 1;\n",
       "                    else\n",
       "                        return 0;\n",
       "                })\n",
       "                .style('fill', \"blue\");\n",
       "\n",
       "            // Updating the Label on the Chart\n",
       "            var data_section_title = \"Data for: Label (\" + d_on[0] + \") Prediction (\" + d_on[1] + \")\";\n",
       "            d3.select('#review').text(data_section_title);\n",
       "\n",
       "            // For some reason the above code deletes the ul\n",
       "            d3.select('#review').append(\"ul\").attr(\"id\", \"testList\")\n",
       "\n",
       "            d3.select(\"#testList\").selectAll(\"li\").remove();\n",
       "            for (var i = 0; i < selectedDataSet.length; i++){\n",
       "                var tableRowData = selectedDataSet[i][1];\n",
       "                // Label and Actual is no longer included since its shown on the box title\n",
       "                var dataPointString = \" Input Data: \" + tableRowData['Test Sentence'] +\n",
       "                \" Confidence Score: \" +  tableRowData['Test Confidence Score'][currentEpochSetting - 1];\n",
       "                d3.select(\"#testList\").append(\"li\").text(dataPointString).classed(\"dataPoint\", true);\n",
       "                \n",
       "            }\n",
       "        }\n",
       "     </script>\n",
       "        "
      ],
      "text/plain": [
       "<IPython.core.display.HTML object>"
      ]
     },
     "metadata": {},
     "output_type": "display_data"
    }
   ],
   "source": [
    "cm = mlvs.ConfusionMatrix(full_path, x_labels=[\"Setosa\", \"Veriscolo\", \"Virginica\"], y_labels=[\"VIrginica\", \"Veriscolo\", \"Setosa\"])\n",
    "cm.display()"
   ]
  },
  {
   "cell_type": "code",
   "execution_count": null,
   "metadata": {},
   "outputs": [],
   "source": []
  }
 ],
 "metadata": {
  "colab": {
   "collapsed_sections": [],
   "name": "nn.ipynb",
   "provenance": []
  },
  "kernelspec": {
   "display_name": "Python 3",
   "language": "python",
   "name": "python3"
  },
  "language_info": {
   "codemirror_mode": {
    "name": "ipython",
    "version": 3
   },
   "file_extension": ".py",
   "mimetype": "text/x-python",
   "name": "python",
   "nbconvert_exporter": "python",
   "pygments_lexer": "ipython3",
   "version": "3.9.4"
  }
 },
 "nbformat": 4,
 "nbformat_minor": 1
}
